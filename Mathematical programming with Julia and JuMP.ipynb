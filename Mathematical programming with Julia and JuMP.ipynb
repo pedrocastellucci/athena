{
 "cells": [
  {
   "cell_type": "markdown",
   "metadata": {},
   "source": [
    "# Solving mixed integer programs with Julia/JuMP\n",
    "\n",
    "<i>Copyright 2016, Pedro Belin Castellucci,\n",
    "\n",
    "This work is licensed under a <a rel=\"license\" href=\"http://creativecommons.org/licenses/by/4.0/\">Creative Commons Attribution 4.0 International License</a>.</i>\n",
    "\n",
    "\n",
    "In this Notebook, we will explore some basics of the JuMP modeling language. Although it is a modeling language, it enables the usage of different solvers. By ways of an example, we will use [Clp](https://projects.coin-or.org/Clp)\n",
    "-- a complete list of supported solvers and JuMP documentation can be found at this [link](https://jump.readthedocs.io/en/latest/). Also, JuMP support linear programming, mixed-integer programming, second-order conic programming, semidefinite programming, and nonlinear programming, but we will focus on linear and integer programming here.\n",
    "\n",
    "The first step is to install JuMP."
   ]
  },
  {
   "cell_type": "code",
   "execution_count": 1,
   "metadata": {
    "collapsed": false
   },
   "outputs": [
    {
     "name": "stderr",
     "output_type": "stream",
     "text": [
      "\u001b[1m\u001b[34mINFO: Nothing to be done\n",
      "\u001b[0m\u001b[1m\u001b[34mINFO: METADATA is out-of-date — you may not have the latest version of JuMP\n",
      "\u001b[0m\u001b[1m\u001b[34mINFO: Use `Pkg.update()` to get the latest versions of your packages\n",
      "\u001b[0m"
     ]
    }
   ],
   "source": [
    "Pkg.add(\"JuMP\")"
   ]
  },
  {
   "cell_type": "markdown",
   "metadata": {},
   "source": [
    "We can also install Clp in the same way."
   ]
  },
  {
   "cell_type": "code",
   "execution_count": 2,
   "metadata": {
    "collapsed": false
   },
   "outputs": [
    {
     "name": "stderr",
     "output_type": "stream",
     "text": [
      "\u001b[1m\u001b[34mINFO: Nothing to be done\n",
      "\u001b[0m\u001b[1m\u001b[34mINFO: METADATA is out-of-date — you may not have the latest version of Clp\n",
      "\u001b[0m\u001b[1m\u001b[34mINFO: Use `Pkg.update()` to get the latest versions of your packages\n",
      "\u001b[0m"
     ]
    }
   ],
   "source": [
    "Pkg.add(\"Clp\");"
   ]
  },
  {
   "cell_type": "markdown",
   "metadata": {},
   "source": [
    "To get a feeling of JuMP basic functions we will implement the following model:\n",
    "\n",
    "$Max\\ x + y$\n",
    "\n",
    "subject to:\n",
    "\n",
    "$2x + 3y \\leq 10,$\n",
    "\n",
    "$3x + 2y \\leq 10.$\n",
    "\n",
    "We begin by creating a Model object."
   ]
  },
  {
   "cell_type": "code",
   "execution_count": 3,
   "metadata": {
    "collapsed": false
   },
   "outputs": [
    {
     "data": {
      "text/latex": [
       "$$ \\begin{alignat*}{1}\\min\\quad & 0\\\\\n",
       "\\text{Subject to} \\quad\\end{alignat*}\n",
       " $$"
      ],
      "text/plain": [
       "Feasibility problem with:\n",
       " * 0 linear constraints\n",
       " * 0 variables\n",
       "Solver is default solver"
      ]
     },
     "execution_count": 3,
     "metadata": {},
     "output_type": "execute_result"
    }
   ],
   "source": [
    "using JuMP  # Tell that we are using the JuMP library.\n",
    "using Clp   # Tell that we are using the Clp solver.\n",
    "\n",
    "m = Model()  # Creating the Model object."
   ]
  },
  {
   "cell_type": "markdown",
   "metadata": {},
   "source": [
    "The second step is to define the variables. Their are associated with the model and can be created using the <i>@variable</i> macro."
   ]
  },
  {
   "cell_type": "code",
   "execution_count": 4,
   "metadata": {
    "collapsed": false
   },
   "outputs": [
    {
     "data": {
      "text/latex": [
       "$$ y $$"
      ],
      "text/plain": [
       "y"
      ]
     },
     "execution_count": 4,
     "metadata": {},
     "output_type": "execute_result"
    }
   ],
   "source": [
    "@variable(m, x)\n",
    "@variable(m, y)"
   ]
  },
  {
   "cell_type": "markdown",
   "metadata": {},
   "source": [
    "Then, the objective function."
   ]
  },
  {
   "cell_type": "code",
   "execution_count": 5,
   "metadata": {
    "collapsed": false
   },
   "outputs": [
    {
     "data": {
      "text/latex": [
       "$$ x + y $$"
      ],
      "text/plain": [
       "x + y"
      ]
     },
     "execution_count": 5,
     "metadata": {},
     "output_type": "execute_result"
    }
   ],
   "source": [
    "@objective(m, Max, x + y)"
   ]
  },
  {
   "cell_type": "markdown",
   "metadata": {},
   "source": [
    "Finally, the constraints."
   ]
  },
  {
   "cell_type": "code",
   "execution_count": 6,
   "metadata": {
    "collapsed": false
   },
   "outputs": [
    {
     "data": {
      "text/latex": [
       "$$ \\begin{alignat*}{1}\\max\\quad & x + y\\\\\n",
       "\\text{Subject to} \\quad & 2 x + 3 y \\leq 10\\\\\n",
       " & 3 x + 2 y \\leq 10\\\\\n",
       " & x free\\\\\n",
       " & y free\\\\\n",
       "\\end{alignat*}\n",
       " $$"
      ],
      "text/plain": [
       "Maximization problem with:\n",
       " * 2 linear constraints\n",
       " * 2 variables\n",
       "Solver is default solver"
      ]
     },
     "execution_count": 6,
     "metadata": {},
     "output_type": "execute_result"
    }
   ],
   "source": [
    "@constraint(m, 2x + 3y <= 10)\n",
    "@constraint(m, 3x + 2y <= 10)\n",
    "\n",
    "m  # Just to diplay our model"
   ]
  },
  {
   "cell_type": "markdown",
   "metadata": {},
   "source": [
    "Now that we have completely defined our model, we may want to solve it."
   ]
  },
  {
   "cell_type": "code",
   "execution_count": 7,
   "metadata": {
    "collapsed": false
   },
   "outputs": [
    {
     "data": {
      "text/plain": [
       ":Optimal"
      ]
     },
     "execution_count": 7,
     "metadata": {},
     "output_type": "execute_result"
    }
   ],
   "source": [
    "solve(m)"
   ]
  },
  {
   "cell_type": "markdown",
   "metadata": {},
   "source": [
    "The solve function returns the status of the solving procedure. We can query for the solution and variable values using <i>getobjectivevalue</i> and <i>getvalue</i> functions."
   ]
  },
  {
   "cell_type": "code",
   "execution_count": 8,
   "metadata": {
    "collapsed": false
   },
   "outputs": [
    {
     "name": "stdout",
     "output_type": "stream",
     "text": [
      "Objective function = 4.0\n",
      "x = 2.0\n",
      "y = 2.0\n"
     ]
    }
   ],
   "source": [
    "println(\"Objective function = \", getobjectivevalue(m))\n",
    "\n",
    "println(\"x = \", getvalue(x))\n",
    "println(\"y = \", getvalue(y))"
   ]
  },
  {
   "cell_type": "markdown",
   "metadata": {},
   "source": [
    "## Exercise\n",
    "\n",
    "Implement and solve the following model:\n",
    "\n",
    "$Min\\ 2x - 3y + z$\n",
    "\n",
    "subject to:\n",
    "\n",
    "$x - y - z = 10,$\n",
    "\n",
    "$3x - 4y + 4z \\geq 25,$\n",
    "\n",
    "$x, y, z \\geq 0.$"
   ]
  },
  {
   "cell_type": "markdown",
   "metadata": {},
   "source": [
    "## The least absolute method\n",
    "\n",
    "In this example, let us assume we have some experimental data and want to fit a linear model to it. Perhaps, the most famous method to accomplish this is the Least Square Method, which finds the linear model that minimizes the squared error, i. e. the distance from data points to the \"model points\". Instead of minimizing the squared error, we will minimize the absolute error. More formally, we have experimental points $(x_i, y_i)$, $i = 1, \\ldots, n$ and we want the parameters $(a, b)$ of a function $f(x) = ax + b$ such that:\n",
    "\n",
    "$$\\sum_{i=1}^n |f(x_i) - y_i|$$\n",
    "\n",
    "is minimized. We can formulate a linear programming model of the problem using $a$, $b$ and $epsilon$ as decision variables:\n",
    "\n",
    "$\\displaystyle Min\\ \\sum_{i=1}^n\\epsilon_i$,\n",
    "\n",
    "subject to:\n",
    "\n",
    "$\\displaystyle y_i - a x_i - b \\leq \\epsilon_i, \\quad i=1, \\ldots, n$,\n",
    "\n",
    "$\\displaystyle - (y_i - a x_i - b) \\leq \\epsilon_i, \\quad i=1, \\ldots, n$ .\n",
    "\n",
    "To test it, let us generate some data."
   ]
  },
  {
   "cell_type": "code",
   "execution_count": 9,
   "metadata": {
    "collapsed": false
   },
   "outputs": [
    {
     "data": {
      "text/plain": [
       "10×2 Array{Float64,2}:\n",
       "  0.740336  0.873669\n",
       " -0.191029  0.923925\n",
       "  1.56304   2.30193 \n",
       "  1.00935   1.91344 \n",
       "  2.02678   4.74981 \n",
       "  3.18444   4.93146 \n",
       "  6.25287   4.94282 \n",
       "  7.5942    7.4043  \n",
       "  7.90294   8.4983  \n",
       "  9.01165   7.32622 "
      ]
     },
     "execution_count": 9,
     "metadata": {},
     "output_type": "execute_result"
    }
   ],
   "source": [
    "n = 10  # We will use 10 points.\n",
    "\n",
    "points = Array{Float64, Float64}[]\n",
    "points = zeros(0, 2)\n",
    "\n",
    "for i=1:n\n",
    "    \n",
    "    # They are generated around the curve f(x) = x.\n",
    "    xRand = rand()*3 - 3\n",
    "    yRand = rand()*3 - 3\n",
    "\n",
    "    x, y = i + xRand, i + yRand\n",
    "    points = [points; x y]\n",
    "end\n",
    "\n",
    "points"
   ]
  },
  {
   "cell_type": "markdown",
   "metadata": {},
   "source": [
    "To get a sense of the data, let us scatter plot it. For that, we are going to use the [Plots library](https://juliaplots.github.io)."
   ]
  },
  {
   "cell_type": "code",
   "execution_count": 10,
   "metadata": {
    "collapsed": false
   },
   "outputs": [
    {
     "name": "stderr",
     "output_type": "stream",
     "text": [
      "\u001b[1m\u001b[34mINFO: Nothing to be done\n",
      "\u001b[0m\u001b[1m\u001b[34mINFO: METADATA is out-of-date — you may not have the latest version of Plots\n",
      "\u001b[0m\u001b[1m\u001b[34mINFO: Use `Pkg.update()` to get the latest versions of your packages\n",
      "\u001b[0m"
     ]
    }
   ],
   "source": [
    "Pkg.add(\"Plots\")"
   ]
  },
  {
   "cell_type": "markdown",
   "metadata": {},
   "source": [
    "And then, we do a scatter plot of the points."
   ]
  },
  {
   "cell_type": "code",
   "execution_count": 11,
   "metadata": {
    "collapsed": false
   },
   "outputs": [
    {
     "data": {
      "text/html": [
       "<img src=\"data:image/png;base64,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\" />"
      ]
     },
     "execution_count": 11,
     "metadata": {},
     "output_type": "execute_result"
    },
    {
     "name": "stderr",
     "output_type": "stream",
     "text": [
      "/home/pedro/.julia/v0.5/Conda/deps/usr/lib/python2.7/site-packages/matplotlib/font_manager.py:1288: UserWarning: findfont: Font family [u'Helvetica'] not found. Falling back to Bitstream Vera Sans\n",
      "  (prop.get_family(), self.defaultFamily[fontext]))\n"
     ]
    }
   ],
   "source": [
    "using Plots\n",
    "\n",
    "plot(points[:, 1], points[:, 2], t=[:scatter], label=\"\", xlabel='x', ylabel='y')"
   ]
  },
  {
   "cell_type": "markdown",
   "metadata": {},
   "source": [
    "Now, we implement the model presented earlier. Note how we used the function <i>sum</i>."
   ]
  },
  {
   "cell_type": "code",
   "execution_count": 12,
   "metadata": {
    "collapsed": false
   },
   "outputs": [
    {
     "data": {
      "text/latex": [
       "$$ \\begin{alignat*}{1}\\min\\quad & err_{1} + err_{2} + err_{3} + err_{4} + err_{5} + err_{6} + err_{7} + err_{8} + err_{9} + err_{10}\\\\\n",
       "\\text{Subject to} \\quad & -0.7403362616621423 a - b - err_{1} \\leq -0.8736694365220168\\\\\n",
       " & 0.7403362616621423 a + b - err_{1} \\leq 0.8736694365220168\\\\\n",
       " & 0.191029294878029 a - b - err_{2} \\leq -0.9239247158523254\\\\\n",
       " & -0.191029294878029 a + b - err_{2} \\leq 0.9239247158523254\\\\\n",
       " & -1.5630392238391557 a - b - err_{3} \\leq -2.3019343638583694\\\\\n",
       " & 1.5630392238391557 a + b - err_{3} \\leq 2.3019343638583694\\\\\n",
       " & -1.0093519868966485 a - b - err_{4} \\leq -1.9134380267912672\\\\\n",
       " & 1.0093519868966485 a + b - err_{4} \\leq 1.9134380267912672\\\\\n",
       " & -2.026778209097633 a - b - err_{5} \\leq -4.74981371077666\\\\\n",
       " & 2.026778209097633 a + b - err_{5} \\leq 4.74981371077666\\\\\n",
       " & -3.1844377103930217 a - b - err_{6} \\leq -4.931459355624559\\\\\n",
       " & 3.1844377103930217 a + b - err_{6} \\leq 4.931459355624559\\\\\n",
       " & -6.2528732922756705 a - b - err_{7} \\leq -4.942824558997969\\\\\n",
       " & 6.2528732922756705 a + b - err_{7} \\leq 4.942824558997969\\\\\n",
       " & -7.594203961119013 a - b - err_{8} \\leq -7.404303287526685\\\\\n",
       " & 7.594203961119013 a + b - err_{8} \\leq 7.404303287526685\\\\\n",
       " & -7.902939655564891 a - b - err_{9} \\leq -8.498304520947768\\\\\n",
       " & 7.902939655564891 a + b - err_{9} \\leq 8.498304520947768\\\\\n",
       " & -9.011650021009281 a - b - err_{10} \\leq -7.326217612396345\\\\\n",
       " & 9.011650021009281 a + b - err_{10} \\leq 7.326217612396345\\\\\n",
       " & err_{i} free \\quad\\forall i \\in \\{1,2,\\dots,9,10\\}\\\\\n",
       " & a free\\\\\n",
       " & b free\\\\\n",
       "\\end{alignat*}\n",
       " $$"
      ],
      "text/plain": [
       "Minimization problem with:\n",
       " * 20 linear constraints\n",
       " * 12 variables\n",
       "Solver is default solver"
      ]
     },
     "execution_count": 12,
     "metadata": {},
     "output_type": "execute_result"
    }
   ],
   "source": [
    "using JuMP\n",
    "\n",
    "m = Model()  # Creating the model object.\n",
    "\n",
    "# Defining the variables:\n",
    "@variable(m, err[1:n])  # error (epsilon).\n",
    "@variable(m, a)  # angular coefficient.\n",
    "@variable(m, b)  # linear coefficient.\n",
    "\n",
    "@objective(m, Min, sum(err[i] for i in 1:n))\n",
    "\n",
    "for i in 1:n\n",
    "    @constraint(m, points[i, 2] - a*points[i, 1] - b <= err[i])\n",
    "    @constraint(m, -(points[i, 2] - a*points[i, 1] - b) <= err[i])\n",
    "end\n",
    "\n",
    "m"
   ]
  },
  {
   "cell_type": "markdown",
   "metadata": {},
   "source": [
    "We want to solve the model and get the values of $a$ and $b$."
   ]
  },
  {
   "cell_type": "code",
   "execution_count": 13,
   "metadata": {
    "collapsed": false
   },
   "outputs": [
    {
     "name": "stdout",
     "output_type": "stream",
     "text": [
      "We have obtained an Optimal solution.\n",
      "a = 0.8338631274067264\n",
      "b = 1.0717766223434346\n"
     ]
    }
   ],
   "source": [
    "println(\"We have obtained an $(solve(m)) solution.\")\n",
    "println(\"a = $(getvalue(a))\")\n",
    "println(\"b = $(getvalue(b))\")"
   ]
  },
  {
   "cell_type": "markdown",
   "metadata": {},
   "source": [
    "Let us plot the solution to see the result."
   ]
  },
  {
   "cell_type": "code",
   "execution_count": 14,
   "metadata": {
    "collapsed": false
   },
   "outputs": [
    {
     "data": {
      "text/html": [
       "<img src=\"data:image/png;base64,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\" />"
      ]
     },
     "execution_count": 14,
     "metadata": {},
     "output_type": "execute_result"
    }
   ],
   "source": [
    "fig = plot(points[:, 1], points[:, 2], t=[:scatter], label=\"\")\n",
    "\n",
    "y = [getvalue(a)*points[i, 1] + getvalue(b) for i in 1:size(points,1)]\n",
    "plot!(points[:, 1], y, w=4, xlabel=\"x\", ylabel=\"y\", label=\"\")\n",
    "\n",
    "fig"
   ]
  },
  {
   "cell_type": "markdown",
   "metadata": {},
   "source": [
    "Out of curiosity, we can compare our result with a standard Least Square regression. For this, we can use the GLM and DataFrames packages."
   ]
  },
  {
   "cell_type": "code",
   "execution_count": 15,
   "metadata": {
    "collapsed": false
   },
   "outputs": [
    {
     "name": "stderr",
     "output_type": "stream",
     "text": [
      "\u001b[1m\u001b[34mINFO: Nothing to be done\n",
      "\u001b[0m\u001b[1m\u001b[34mINFO: METADATA is out-of-date — you may not have the latest version of GLM\n",
      "\u001b[0m\u001b[1m\u001b[34mINFO: Use `Pkg.update()` to get the latest versions of your packages\n",
      "\u001b[0m\u001b[1m\u001b[34mINFO: Nothing to be done\n",
      "\u001b[0m\u001b[1m\u001b[34mINFO: METADATA is out-of-date — you may not have the latest version of DataFrames\n",
      "\u001b[0m\u001b[1m\u001b[34mINFO: Use `Pkg.update()` to get the latest versions of your packages\n",
      "\u001b[0m"
     ]
    }
   ],
   "source": [
    "Pkg.add(\"GLM\")\n",
    "Pkg.add(\"DataFrames\")"
   ]
  },
  {
   "cell_type": "code",
   "execution_count": 16,
   "metadata": {
    "collapsed": false
   },
   "outputs": [
    {
     "data": {
      "text/html": [
       "<img src=\"data:image/png;base64,iVBORw0KGgoAAAANSUhEUgAAAlgAAAGQCAYAAAByNR6YAAAABHNCSVQICAgIfAhkiAAAAAlwSFlzAAAPYQAAD2EBqD+naQAAIABJREFUeJzs3Xd4FOXaBvB7djdtUzcJHUIvCS0EIiJ2JPQoBIEcaUEgCEgCn+DxeBRU9AiKBmmCdJVQJAKCBRAVEAskdAhFgYBAQnrZlC3z/YGicSdIli3Jm/t3XV7XYd/Z2WfPzSQP874zI8myLIOIiIiIbEbl7AKIiIiIRMMGi4iIiMjGNI76oMzMTHz11Vdo0qQJPDw8HPWxRERERHZVXFyMixcvolevXggMDATgwAbrq6++wvDhwx31cUREREQO9dFHH+Gpp54C4MAGq0mTJrc+PDg42CGfGR8fj4SEBId8Ftkf8xQPMxUL8xQPM70zp0+fxvDhw2/1OoADG6w/pgWDg4MRFhbmkM/08/Nz2GeR/TFP8TBTsTBP8TDTyvnrEiihF7mXlZU5uwSyIeYpHmYqFuYpHmZqPYedwbqdtLQ0ZGZm2ny/Bw8eREpKis33ay+BgYEICgpydhlV1pEjR5xdAtkYMxUL8xQPM7We0xustLQ0BAcHQ6/X22X/nTt3tst+7UGr1eL06dNssirQunVrZ5dANsZMxcI8xcNMref0BiszMxN6vd6hi9+roj8WyGVmZrLBqsCECROcXQLZGDMVC/MUDzO1ntMbrD84cvE7VU/R0dHOLoFsjJmKhXmKh5lar8o0WERERESOZi4tRsmpg4BKBY+2XSFpXGyyX6GvIiSxrFixwtklkI0xU7EwT/GInmnJ6UNI/984ZK95A9mrZiNn4wKb7ZsNVgUMBgOef/55tGzZEm3btkXHjh2xdu1aZ5dVo1WnK0LpzjBTsTBP8YiaqVlfgOx185C59L8w5f55F4PiI9/Z7DOq/BShbDbBrC+w+v0qrTcklbrS7xs1ahQMBgOOHz8Od3d3pKWloXfv3jCZTIiJibnj/ZhMJqjVlf98srRo0SJnl0A2xkzFwjzFI2KmxSd+RM7G92DOz7YYc23cxmafU6UbLP2Rvcj9ZDHMhblW70Pl5Qe/wROhDX3wjt9z/vx5bNu2DVeuXIG7uzsAICgoCPPmzcOECRPQrFkzxMfH4/DhwwCAkydPon///rhw4QIuXbqE0NBQxMbGYvfu3Rg5ciSaNWuGF198EWq1GkajEa+//joGDBhg9XciIiKyhaSkJLzy2us4eyYVrVq3wcyXXsSgQYOcXZZdmIrykZu0BMXJ3yiOu7UMhf/I5232eVW6wcpZPx9ySdFd7cNcmIuc9fMr1WAdPnwYLVu2hJ+fX7nXu3XrhsuXLyMzMxOSJJUb++uf8/Ly0L59e7z55psAgNDQUCxbtgxdu3YFAOTn51v7dYiIiGwiKSkJUVFRkNr2hNx/Fo6f2oWoqChs3rxZuCZLf3Q/cjctVDxhI7lp4fv4WHh262Pxu/1uVOkGq7pydXW99TRtAHjssccQFxeHqKgoREREoGPHjk6sjoiICHjltddvNldTtgOSBPmxOEjz++HV2W8I02CZCnKR+8lCFB/drzju1qYLdEPjoNHVsvlnV+lF7rphcVB5+f3zhreh8vKDblhcpd7TqVMnnDt3Djk5OeVeP3DgAIKCglCvXj0YjcZbr5eUlJTbTqvVlvvz22+/jVWrVsHT0xOjRo3C22+/XclvQQAQGRnp7BLIxpipWJhn9XL2TCrkkJ7AH2dtJAly2wicST19a5vqmqksy9Anf4P0N8crNleShxd00dMQGPuaXZoroIqfwdKGPgiPDt0dvsi9RYsWGDBgAMaPH4+1a9fCw8MDFy9exHPPPYeXX34ZTZs2RVpaGrKyshAQEIAPP/yw3PtlWS735zNnziA4OBjBwcFQq9XYtWuX1d+nJps8ebKzSyAbY6ZiYZ7VS6vWbXD81C7Ij8XdbLJkGdLJnWj9l6eqVMdMTXlZyNm0ACUnflQcd293L3RPPgu1b4Bd66jSDRYASCo11Hd5Fssaa9euxYsvvoj27dvDzc0NarUazz//PEaNGgUAmDFjBsLDw1G3bl306dOnfM1/m8P9z3/+g7Nnz8LFxQWenp5YsmSJw76HSCIiIpxdAtkYMxUL86xeZr704s01WPP7QW4bAenkTsindmNmUtKtbapTprIsQ//zLuRuWQa5uNBiXOXpA79Bz8Aj7GGbrrWqiCT//XSLnaSkpKBz585ITk4u90icil6vafj/AxEROVpSUhJenf0GzqSeRus2wZj50osYOHCgs8uqNGPODeRufA8lpw8qjnt0vB9+gydB7a2zy+cr/Q6v8mewiIiIyD4GDRpUrRe0y7KMoh+/RN6WDyCX6i3Gb96qaRK0oQ84vLYqvcid6K+2bNni7BLIxpipWJineKpypsas68hc8gJyN8xXbK48Oj+COv9e6pTmCmCDRdVIYmKis0sgG2OmYmGe4qmKmcpmMwr3bUP6nAkoPXvEYlzl44+AsTMRMOJ5qL18nVDhTZwipGpjw4YNzi6BbIyZioV5iqeqZWq8cRXZ699F2S/HFce19/SE3xPjodJ6O7gyS2ywiIiIqEqTzSYU7t2K/B1rIBtKLcbVfoHQDY2He3AXJ1SnjA0WERERVVmG9MvISXwHZRdPK4573tcXvpFPQ+XuWel9m8wmfHZ+J7749WuoIGFS5zFoVyv4n994B7gGqwJNmzbFsWPHyr124sQJ9OjRA506dUL79u3RtWtXnDp1CgAwa9YsqFQqbN261WI//v7+DqubiIhIBLLJhPzdG5D+1kTF5krtXweBE/8H3ZApVjVXJ26kIvbL5/DuwfeRmnUOp7LO4o0DCbYoHQAbrEqJjo5GXFwcDh8+jOPHjyMpKQm1a9cGcPPmol26dMHKlStvbf/111+jVi373IK/JoqJiXF2CWRjzFQszFM8zsrUcPUCMhLikb99FWA0WIx7PRCJOs+/D/dWnSq975ySXPzvh/mYtPN5nMv5tdxYQVmR1TX/XZWfIjSZTSgos7wj653ydvWCupKPyqnIb7/9hvr169/6c4MGDcqNd+/eHbt27UJGRgZq166NlStX4umnn8YLL7xgk8+v6arTHYXpzjBTsTBP8Tg6U9lkRMGuDcjflQiYjBbjmsD60EVPg1vzdpXet9FswtZzX2Dl0XUoNCg3Uk93fKrS+61IlW6wvrn0PeYfWoqckjyr96Fz90Vcl1g80rj7Xdfz3//+Fw8//DC6deuGrl27YvDgwQgNDb01LkkShg8fjtWrVyM2NhaHDh3C7Nmz2WDZSHR0tLNLIBtjpmJhnuJxZKZlV84jZ907MFz91XJQkuD10ED49B0Jlat7pfd9POM0Eg4txfmcC4rjTX2DEBc+Hp3qtK/0vitSpRust39aVGGXeadySvLw9k+LbNJgTZs2DSNGjMCePXvw3Xff4cEHH8SKFSvw5JNP3tpm5MiR6NmzJ7y8vDBkyBCoVJyFJSIiqohsLEP+V+tQ8PVGwGy2GNfUbgTdv6bBrUnlF59nF+fi/cOr8dWFbxTHtRoPjO4QjajW/aBR2bYlqtINVlVUq1YtDB06FEOHDkXjxo3x8ccfl2uw6tevj8aNG+PVV1/FgQMHnFgpERFR1VZ26QyyE9+B8foly0GVCt6PDIZP7+GQXFwrtV+j2YQtZz/HymPrUGSwvMs7APRs8hCeCRuNAA/7XIhWpU+vPNd1EnTud3cXVp27L57rOskm9WzZsgVG4805YaPRiGPHjqFFixYW282ePRuzZ89Gs2bNANx8VhLdvf379zu7BLIxZioW5ikee2Uql5Uid9tyZCRMVWyuXOo1Qe34BPgOGFPp5upo+kmM+2IqFiQvV2yumvk1xnuPvYH/dp9mt+YKqOJnsB5p3B0PNrrXKYvcJUlCr1694OLiAlmWIUkSWrZsiX//+99wd3eHyWTCPffcg1mzZlm8Nyws7NbTtP/YF929uXPn4v7773d2GWRDzFQszFM89si09MIp5CS+A2PGFctBlRrePYfBp+cwSBqXSu03qzgbS1JWY9fF7xTHPV20GNPhX3iiVV9obHTx2+1U6QYLANQqNfzu8iyWNX79VWGR3W3MnDlT8fXGjRsjOzvbFiXVeOvXr3d2CWRjzFQszFM8tszUXFqC/B2rUbhvK6Aws+PSsDl00f8H1wbNKrVfo9mIzWd2YPWxROiNxYrb9Gr6CGI7jUKAh86q2q1R5Rssoj9otVpnl0A2xkzFwjzFY6tMS84dRc76BJiyrlkOql3g0/speD86GJK6cm3J4fTjmH9wGS7kpSmON/drgvjwWHSoHWJN2XeFDRYRERHZhblEj7ztK1G0f7viuEtQa/hHT4VLvSaV2u8NfRYWp6zCnkv7FMe9XDwxpuO/8HjLPg6ZDlTCBouIiIhsruRMys2zVjkZloMurvDtMxJeDw2EpL7zBshoNuKT1M+w+vh6FBtLFLfp3exRxIaOgr+Hn7Wl20SVvoqQ6K+mT5/u7BLIxpipWJineKzJ1FxchJz1Cchc8h/F5sq1aQjqTF/8+5TgnTdXKdePYcyOOCw5vFqxuWqha4pFEW/ihW5xTm+uAJ7BomokKCjI2SWQjTFTsTBP8VQ20+JTPyN3w3sw5WVajEmubvDpFwOvBwZAqsS0XYY+E4uTV+KbtO8Vx71cPTG243BEtuhls0fj2UKVabBOn7Z8UnZNUtO//5149tlnnV0C2RgzFQvzFM+dZmouKkDulqXQH9ytOO7WogN0w+KhCayvOK7EYDJgU+o2rD2xscLpwL7NH0Ns6Ein3G3gnzi9wQoMDIRWq8Xw4cOdXYrTabVaBAYGOrsMIiKiO1Z87AByPlkAc36OxZjk5gHfyLHw7NYHUiUeHXfw2hG8d2gZ0vJ/Uxxv5d8c8eGxaBvY2uq67c3pDVZQUBBOnz6NzEzL04k1TWBgIE+xExFRtWAqzEXu5iUoPqx8Y0+31mHQDY2Dxr/OHe8zo+gGFqasxHdpyo+a83b1wriOw9G/RUSVmg5U4vQGC7jZZNmjsUhNTUWbNm1svl9yDuYpHmYqFuYpHqVMZVlG8ZF9yN28CObCPIv3SO6e8HtiPLRdI+74SSZlJgM2nt6KD09sRImp1HKfkNCvRU+M6zgCfu4+1n0ZBxP6KsIZM2Y4uwSyIeYpHmYqFuYpnr9nasrPRtaq15C95g3F5so95B7U/fdSeN7b646bq5+vpiBmxxR8cPRDxeaqtX8LLOk1F9O7Tqo2zRVQRc5g2cvChQudXQLZEPMUDzMVC/MUzx+ZyrIMffIe5CW9D7O+wGI7SesFv0HPQNv50TturK4XZmBhygrsu/yj4riPqzfGhY5Av+aPVfnpQCVCN1hczyQW5ikeZioW5imeoKAgmHIzkbNpAUpO/qS4jXuH+6AbPBlqH/872mepqQwbTm3BRyc3odRUZjEuQcKAFhEYGzocvm7V54zV3wndYBEREZF1ZFmG/qedyN2yDHJJkcW4ytMXfoMnwSP0gTs+a/Xjb8l4L/kD/Fag8ExCAMEBLREfHos2AS3vqvaqgA0WERERlWPMyUDO+gSUnklRHPfo9BD8op6B2uvO7ph+rTAdC5NXYP8V5bNgvm4+iA0diT7Ne0AlibE8XIxvUYE5c+Y4uwSyIeYpHmYqFuZZ/clmMwq/34H0N2MVmyuVtw4BY15CwKgX7qi5KjWVYfXx9Ri5fbJic6WSVHiiZR98NGAx+rXoKUxzBQh+Bkuv1zu7BLIh5ikeZioW5lm9GTOvIWdDAkrPHVUc13bpAb+BE6Dy9L6j/R24chALkpfjauF1xfG2ga0RHz4BrfybWV1zVSbJsiw74oNSUlLQuXNnJCcnIywszBEfSURERP9ANptRuG8b8nesglxmeZsEtW8g/IY8C4+2Xe9of1cLruO95OX44beDiuN+br6Y0GkUejV7RJgzVko9jtBnsIiIiKhihowryFn/Lsp+Pak47nlvb/g+Pg4qD89/3FepsRQfn9qMxJNJKDMbLMZVkgpPtOqDMR3+BW9Xr7uuvapjg0VERFTDyGYTCr/9FHlfrAUMlrdKUOtqQzcsHu6t/3nGSZZlfH/lZyxIXo7rRRmK27SvFYy4LuPRUtDpQCVCN1iZmZl8eLJAmKd4mKlYmGf1YLh+Cdnr3oEh7YziuOf9/eHbfwxU7tp/zPRKwTW8d+gD/HQ1WXHc390PsZ1GoVfTR+74Vg6iEGPyswJjxoxxdglkQ8xTPMxULMyzapNNRuTvWo/0tyYrNlfqgHoInDQHusGToXLXAqg40xJjKVYc/Rijt09WbK7UkgqDWw/AhwMWo3ezO7+7u0iEPoM1a9YsZ5dANsQ8xcNMxcI8q66y335FTuI7MFw5bzkoSfB68An49B0FlZt7uaG/ZyrLMvZd+RGLkldWOB3YoVYI4sNj0VzXxEbVV0+KDVZ2djZ69Ohxq+MsKirChQsXkJGRAT+/P+97cenSJTRv3hwdOnSALMuQJAmbN29G06ZNHVP9P+DVimJhnuJhpmJhnlWPbDQgf9d6FOxaD5hNFuOaWg2gi54Gt2ZtFd//10wv5/+G9w59gJ+vHVbc1t9dh4lho/FYk4dq5Bmrv1NssPz9/XH48J//B86bNw979+4t11z9wcfHBykpynd6JSIiIucou3wOOevmwXDtouWgpILXI1Hw7T0ckqvbbfdTbCzBhyc2YePpLTCYjRbjakmFQa37I6ZDNDxdtLYpXgB3NEW4YsWKCu/Q66DbaBEREdEdkA1lyP/qYxTs2QSYzRbjmrpB8I/+P7g2bn37/cgy9l7+AQuTVyBDn6m4TWjtdogLH49mfo1tUrtI/nGR+4EDB5Cbm4t+/fopjuv1eoSHh6NLly547bXXqlTDtWLFCmeXQDbEPMXDTMXCPJ2v9OJppL89GQW7N1g2VyoVvCOiUee5hf/YXKXlX8Fze2bh5X1zFJurAA8dXur+f0h4bDabqwr8Y4O1cuVKjBw5EiqV5ab169fHb7/9hoMHD2L37t3Yt28f5s2bZ5dCrcGpS7EwT/EwU7EwT+cxl5Ugd+sHuDH//2BMT7MYd6nfDLWnvQffvqMgaVwr3I/eUIylh9cgZkccDl0/YjGultQYFvwEPhqwGI81eZBrrW7jtg1WUVERNm7cWOFlmi4uLrfuj+Hn54cxY8Zg3759t/3Avn37IjIystx/3bp1w5YtW8ptt3PnTkRGRlq8f9KkSRb/SkpJSUFkZCQyM8t32YGBgRZTm2lpaYiMjERqamq51xcsWIDp06eXe02v1yMyMhL79+8v93piYiJiYmIsahs6dKhdvsfMmTP5PQC89dZbQnwPUfKwxfd4/PHHhfgeouRxt99j0aJFQnwPoHrlUfrLCaS99jQKv9kMyOXPWpkg4ahXU9SeNh+uDVtU+D1kWcaMpf/F4x8Nx7pTSTAqrLXqVKc9VvZLwDNhMdj6ydYam0diYmK5HqZp06YYNmyYxT5u+yzCFStWYM2aNdi7d6/i+I0bN6DT6aDRaFBaWooRI0YgJCRE8VJdPouQiIjINpKSkjDn9dfxuM6Ake3qK27j0qgl/KOnwaX+7a/sv5h3Ge8dWobk68cUx2t5BGBiWAweaXw/z1hVoNLPIly1ahXGjx9f7rWZM2eiQYMGGD9+PPbv34+XX34ZGo0GRqMRjz76KF588UX7fQMiIqIaLikpCfPixuHdPl0QpFVoeDQu8Ok9HN6PDIakVle4H71BjzXHN2JT6jaYZMtbOKglNYYEP46R7YZA6+Jhy69QI9y2wfr7qTQAeOWVV27974EDB2LgwIG2r4qIiIgsmEuKkLV+PjZEhSuOuzZuA130NLjUDapwH7IsY8+lfVicsgqZxdmK23Su2xFxXcajsW9Dm9RdEwn9qBylOV+qvpineJipWJinfZWcPoT0NyegT33Ls0klsgpv/PArasXNu21zdSE3DVO/fgmvfj9PsbmqpQ3AKw/MwLxHX0Fj34bM9C4I3WBNnjzZ2SWQDTFP8TBTsTBP+zDrC5C9bh4yl/4XptwbFuM/aUMQccCAA0YfSCrlKcEigx6Lklfi6c/jcTj9uMW4RqXBUyFR+HDAYjwc1P3WWquakGlSUhI6duoMD60nOnbqjKSkJJvsV+hnEUZERDi7BLIh5ikeZioW5ml7xSd+RM7G92DOtzzbVGSU8b/C1vhw13GYT+1WbAxkWcbui99hyeHVyCrOUfyM8HqhmNJlHIJ8LKcDRc80KSkJUVFRkNr2hNx/Fo6f2oWoqChs3rwZgwYNuqt9C91gERERVUemonzkJi1BcfI3iuN5fvUxbecJ7D2yAu3bBGNmUpLFmuhfci5i/qFlOJpxUnEfdbS1MLnz03ig0b019urAV157/WZzNWU7IEmQH4uDNL8fXp39BhssIiIikeiP7kfupoUwF+ZajEluWvg+PhYNuvXBV7OUm6LCsiKsPp6IpDM7YJItH5XjotJgWPBADG/3JNw1t38OoejOnkmF3H8W8EeDKUmQ20bgzPZZd71voddg/f0mYVS9MU/xMFOxMM+7YyrIRdaq2cheNVuxuXJr0wV1/r0UXvf1VTzjJMsyvvr1G4z4bCI2pX6m2Fx1rd8Zq/stwNjQ4XfUXImeaavWbSCd2gX8cUtQWYZ0cidaBwff9b6FbrASExOdXQLZEPMUDzMVC/O0jizL0Cd/g/Q3x6P4qOXtkSQPL+iipyEw9jVodLUU93E+5wKe3fUfvPFDArJLLJuzup618fqD/8Gch19CQx/lG5MqET3TmS+9CPnkLkjz+wG7EiDN7wf51G7M/O/d39PztndytyXeyZ2IiKg8U14WcjYtRMmJHxTH3dt2hW7IFKh9AxTHC8oKsfLYOmw5+wXMCmesXFUuiG47CE+FRMGthk8HViQpKQmvzn4DZ1JPo3WbYMx86cVK3+Oz0ndyJyIiItuTZRn6g7uR++lSyMWFFuMqrTf8oibCI+xhxelAs2zGzgvf4v3Dq5FTkqf4Gd0ahOPZzk+jgXc9m9cvkkGDBt31gnYlbLCIiIgcyJhzA7kb30PJ6YOK4x4d74ff4ElQe+sUx89l/4qEg0txIjNVcbyeVx0823ksuje8x2Y1U+WxwSIiInIAWZZR9OOXyNvyAeRSvcW4yssXfoMnQxv6gOL7C0oLseLYx9h67kvl6UC1K54KiUJ0yEBOB1YBQi9yj4mJcXYJZEPMUzzMVCzMs2LGrOvIXPICcjfMV2yuPDo/gjr/XqbYXJllM3b8shvDP5uIT89+rthcdW94D9b2X4jRHYbZtLliptYT+gyW6HegrWmYp3iYqViYpyXZbEbR99uR99lKyGUlFuMqH3/ohjwLj3bdFN9/Jus8Eg4uxamss4rjDbzqYkqXcbi3QReb1v0HZmo9XkVIRERkB8YbV5G9/l2U/WL57D8A0N7TE35PjIdK620xll9agA+OfoTPzn0FGZa/pt3Urhje9kkMDXkCbmpXm9dOlcOrCImIiOxMNptQuHcr8nesgWwotRhX+wXCb0gcPELCLcb+mA784Mha5JUWKO7/gUb3YnLY06jrVdvmtZPtsMEiIiKyEUP6ZeQkvoOyi6cVxz279YFv5FioPDwtxk5nnUPCwaVIzTqn+N6G3vUR12Uc7qnPWaDqQOhF7vv3W94Rl6ov5ikeZiqWmpynbDIhf/dGpL81UbG5UvvXQeDE/0E3NM6iucorzcfbPy3GM19OV2yu3NVuGNdxBFb1e8/hzVVNzvRuCd1gzZ0719klkA0xT/EwU7HU1DwNVy8gIyEe+dtXAkaDxbjnA5Go8/z7cG/VqdzrJrMJ2859ieHbJuKz88prrR5q1A1rByzC8HaD4ap2sdt3qEhNzdQWhJ4iXL9+vbNLIBtinuJhpmKpaXnKJiMKdm1A/q5EwGS0GNcE1ocueircmre3GDuVeQYJB5fiTPYvivsO8mmAKV3GI7xeqM3rroyalqktCd1gabVaZ5dANsQ8xcNMxVKT8iy7ch45696B4eqvloOSBK+HBsKn70ioXN3LDeWW5GHZkbXY8ctuxf16aNwxst0QPNkmEi5OOGP1dzUpU1sTusEiIiKyJdlYhvyv1qHg642A2fKGn5rajW6etWoaUu51k9mEbee/woqjH6OgzPLZgwDwSFB3TOw8BrW1gXapnRyLDRYREdEdKLt0BtmJ78B4/ZLloKSC96OD4dN7OCSX8velOnEjFfMPLcPZCqYDG/s0RFz4eHSu29EeZZOTCL3Iffr06c4ugWyIeYqHmYpF1DzlslLkbluOjISpis2Vpl4T1J6aAN8BY8o1VzkluXjzh/cwaefzis2Vh8YdEzqNwoq+CVW2uRI1U0cQ+gxWUFCQs0sgG2Ke4mGmYhExz9ILp5CT+A6MGVcsB1VqePccBp+ewyBp/lwvZfz96sAVxz5GYVmR4n4fbfwAJobFoJY2wF6l24SImToKH5VDRET0N+bSEuTvWI3CfVsBhV+TLg2bQzdsGlwbNi/3+vGM00g4tBTncy4o7reJbyPEdRmPsLod7FI3OQcflUNERPQPSs4dRc76BJiyrlkOql3g0+tf8O7xJCT1n79Cs4tz8f7h1fjqwjeK+9RqPDC6QzSiWveDRsVfvTUBUyYiIgJgLtEjb/tKFO3frjjuEtQK/tHT4FKvya3XjGYTtpz9HCuPrUORQa/4vp5NHsIzYaMR4OFvj7KpihK6wUpNTUWbNm2cXQbZCPMUDzMVS3XOs+RMys2zVjkZloMaF/j2HQmvhwZBUqtvvXw04yTmH1yGX3IvKu6zqW9jxIePR2iddnaq2v6qc6bOJvRVhDNmzHB2CWRDzFM8zFQs1TFPc3ERctYnIHPJfxSbK9emIagzfTG8H33yVnOVVZyN2d+/iym7/qPYXHm6aDG589NY3vedat1cAdUz06pC6DNYCxcudHYJZEPMUzzMVCzVLc/iUz8jd8N7MOVlWoxJLm7w6R8DrwcGQFLdbKyMZiOSzuzAqmOJ0BuLFfcZ0fRhTOg0GgEeOrvW7ijVLdOqROgGi5eXioV5ioeZiqW65GmDt2X0AAAgAElEQVQuKkDulqXQH1R+XI1biw7QDYuHJrD+rdeOpJ9AwsFluJCncJNRAM39miA+PBYdaocojldX1SXTqkjoBouIiOivio8dQM4nC2DOz7EYk9w84DvgaXje1xeS6uYKmkx9FpYcXo3dF/cq7s/TRYunOz6Fx1v2gUalVtyGaiY2WEREJDxTYS5yNy9B8eHvFMfdWodBNzQOGv86AG5OB24+sx2rjiWi2Fii+J7ezR5FbOgo+Hv42a1uqr6EXuQ+Z84cZ5dANsQ8xcNMxVIV85RlGfrDe5H+ZqxicyW5a6EbFo/ACa/faq5Srh/D05/HY3HKKsXmqoWuKRZFvIkXusUJ31xVxUyrC6HPYOn1yvckoeqJeYqHmYqlquVpys9GzicLUXLsgOK4e0g4/IZMgcavFgDghj4Li1NWYs+l/Yrbe7l6YmyHpxDZsjfUNWQ6sKplWp3wUTlERCQUWZahT96DvKT3YdYXWIxLWi/4DZwAbZcekCQJBpMBm1I/w9oTGyqcDuzb/DGMDx0BnbvYZ6zIOnxUDhERCc2Um4mcTQtQcvInxXH39vdBN3gS1L43H7KcfP0oEg4uQ1q+wsOcAbTyb4748Fi0DWxtt5pJTGywiIio2pNlGfqfdiJ3yzLIJUUW4ypPX/hFTYRHpwchSRIyim5gUcoqfJv2veL+vF29MK7jcPRvEVFjpgPJtoRusDIzMxEYGOjsMshGmKd4mKlYnJWnMTsdORvmo/RMiuK4R6eH4Bf1DNRefjCYDNiYuhVrj29EianUYlsJEvq16IlxHUfAz93H3qVXeTxGrSf0VYRjxoxxdglkQ8xTPMxULI7OUzabUbh/O9LnTFBsrlTeOgSMeQkBo16A2ssPB68dRsyOKVh25EPF5qq1fwss6TUX07tOYnP1Ox6j1hP6DNasWbOcXQLZEPMUDzMViyPzNGZeQ86GBJSeO6o4ru3SA34DJ0Dl6Y30ohtYmLwCey//oLitj6s3xoWOQL/mj3E68G94jFpP6AaLVyuKhXmKh5mKxRF5ymYzCvdtQ/6OVZDLLM9CqXwDoBsyBR5tu6LMZMCGE5vw4YmNKDWVWWwrQcKAFhEYGzocvm48Y6WEx6j1hG6wiIhIHIaMK8hJfAdlF04pjmvv7QW/yHFQab3w09UUvHfoA1wpuKq4bXBAS8SHx6JNQEt7lkw1GBssIiKq0mSzCYXffoq8L9YCBsszUWpdbeiGxsG9TWdcK0zHwu/ew/4ryrdp8HXzQWzoSPRp3gMqSehlyORkQv/tWrFihbNLIBtinuJhpmKxR56G65eQkTANeduWKzZXnt37o87z70Nq2R5rjm/AyO2TFZsrCRKeaNkHHw1YjH4terK5ukM8Rq0n9N+wlBTlS3apemKe4mGmYrFlnrLJiPxd65H+1mQY0s5YjKsD6iFw0hzonpyMn7JOIWb7s1h5bB3KFNZahQS2xrI+8zD1ngnwcfO2WY01AY9R6/FROUREVKWU/fYrchLnwXDlF8tBSYLXA4/Dp99opBvysCB5Ob6/8rPifvzcfBHbaSR6N3uUZ6zIrvioHCIiqrJkowH5u9ajYNd6wGyyGNfUagBd9DQgqAXWnvoUH5/arHjGSiWp8HjLPni6w7/g7ebliNKJLLDBIiIipyu7fA456+bBcO2i5aCkgtcjg+DbewQOZBzFgh3P4lphuuJ+2tcKRlyX8Wjp38yu9RL9EzZYRETkNLKhDPlffYyCPZsAs9liXFM3CLph05AZ4Is3v5+LH64eUtyPzt0XEzqNRq+mj0CSJHuXTfSPhJ6UjoyMdHYJZEPMUzzMVCyVzbP04mmkvz0ZBbs3WDZXKhW8ew6Db/w8fJSXjNHbn1VsrlSSClGt++PDAYvRu9mjbK5sjMeo9YQ+gzV58mRnl0A2xDzFw0zFcqd5mstKkP/Fhyj89lNAtjxr5VK/Gfyip+IgsrHgy2m4XpShuJ/2tUIwNTwWzXVN7qZsug0eo9YTusGKiIhwdglkQ8xTPMxULHeSZ+kvJ5CT+A6MmQp3WFdr4NMzGnldH8BLR1bjp6vJivvwd9fhmbDR6NnkIZ6xsjMeo9YTusEiIqKqwVxajLztq1C0b5viuEujlvAYMgkbsw5h/ZdTYTAbLbZRSyoMat0fMR2i4emitXfJRHeFDRYREdlVydkjyNmQAFPWdctBtQu8ez+FIy0bYdGht5Guv6G4j4612yI+PBbN/BrbuVoi2xB6kfuWLVucXQLZEPMUDzMVy9/zNJcUIWfDfGQu/rdic+XauA0Mk2ZitjoVL38/V7G5CvDQ4b/3TcP8x15nc+UEPEatJ3SDlZiY6OwSyIaYp3iYqVj+mmfJ6UNIf3MCin74wnJDF1e4DRiNLQ93wtif/oefrx222EQtqTE0+Al8OGAxejblWitn4TFqPT4qh4iIbMasL0DulmXQ/7xLcdylWVuceORhvH9+CzL0mYrbdKrTHvHh49HEN8iepRLZDB+VQ0REdlN84kfkbHwP5vxsizHJ1R35vQfhA/N5JB9brvj+QA9/TAobg0ca388zVlTtscEiIqK7YirKR27SEhQnf6M4bm7ZAds7NcbmS1thVLw6UI0n20RiVPsh0PLqQBIEGywiIrKa/uh+5G5aCHNhruWgmweO93gUywsPI/PCGcX3d67bAVO6jEcT30Z2rpTIsYRe5B4TE+PsEsiGmKd4mGn1ZSrIRdaq2cheNVuxuboR0g5vP9IKb97YjcziLIvxWtoAzLp/BuY9+iqbqyqMx6j1hD6DxTvQioV5ioeZVj+yLKM45VvkJi2BuSjfYrzE0xOf39cOW/KOw5RlshjXqDQY2uZxDG/3JLQuHo4ome4Cj1HrCd1gRUdHO7sEsiHmKR5mWr2Y8rKQs2khSk78YDEmAzjUoRU+9MlDVu4RxfeH1wvFlC7jEOTT0M6Vkq3wGLWe0A0WERHdPVmWoT+4G7mfLoVcXGgx/pvOEx91qItj+ktAqeX762hrYXLnp/FAo3t5dSDVGGywiIioQsacG8jd+B5KTh+0GNOrgG2hQdihuQGz/orFuItKg2HBAzG83ZNw17g5olyiKkPoRe779+93dglkQ8xTPMy06pJlGYU/fIH0N2MtmisZwPf1vTCjqz8+U6fDLJst3t+1fmes7rcAY0OHs7mqxniMWk/oBmvu3LnOLoFsiHmKh5lWTcas68hc8gJyN8yHXKovN5bmIeGNLrWwuIEBOcYii/fW9ayN1x/8D+Y8/BIa+tR3VMlkJzxGrSf0FOH69eudXQLZEPMUDzOtWmSzGUXfb0feZyshl5WUG9Orgc1NPLHT3wQzLK8edFW5IKrlAIwOHcYzVgLhMWo9oRssrZZ3BBYJ8xQPM606jDeuInv9uyj75Xi512UA+wNUWN9Mi1wYFN/brX4XPNtlLBp413NApeRIPEatJ3SDRUREtyebTSjcuxX5O9ZANpS/BPCSh4Q1zT1wxsMEKDRX9bzq4NnOY9G94T0Oqpao+mCDRURUQxnSLyMn8R2UXTxd7vUiNfBJAw1211HDDMubhbqqXfFUSBSiQwbCjdOBRIqEXuQ+ffp0Z5dANsQ8xcNMnUM2mZC/eyPS35pYrrkyA/guUIXnOrpjZx01LK8NBO5rEI41/RZgdIdhFs0V8xQPM7We0GewgoKCnF0C2RDzFA8zdTzDtYvIXjcPhsvnyr1+QSthTWMNznmpcHPlVXn1vepiSpdx6NagS4X7Zp7iYabWk2RZtjyS7CAlJQWdO3dGcnIywsLCHPGRRET0O9lkRMHuDcjfmQiYjLdeL1IDGxto8HVtNWSFm6y7ql0xvO1gDAsZCDe1qwMrJqo+lHococ9gERERUHblPHLWvQPD1V9vvWYGsDdQhfUNNShwUX58zf0Nu2Jy56dRz6uOgyolEgcbLCIiQcnGMuR/tQ4FX28EzH+uqLqglbCqsQa/eCkvw23gXQ9xXcaja33ONhBZS+hF7qmpqc4ugWyIeYqHmdpP2aUzSH/7WRTsWn+ruSpQAysaa/BSiItic+WmdsXYjk9hdb8FVjVXzFM8zNR6QjdYM2bMcHYJZEPMUzzM1PbkslLkbluOjISpMF6/BODmdOCeQBWea++KPbXVkCXLKcEHG3XD2v6LMKLdELiqXaz6bOYpHmZqPaGnCBcuXOjsEsiGmKd4mKltlV44hZzEd2DMuHLrtV88JawO0uDXCqYDG3nXR1z4eITX63TXn888xcNMrSd0g8XLS8XCPMXDTG3DXFqC/M/XoHDvFuD3C8MLNMCGBhp8W0uleMbKXe2Gke2H4Mk2j1t9xurvmKd4mKn1hG6wiIhEV3LuKHI2JMCUeQ3A79OBtVTY1FCDQo3y1YEPB3XHpLAY1Pas5cBKiWoWNlhERNWQuUSPvO0rUbR/+63XzntKWN1YgwueytOBQT4NENdlPLrUC3VUmUQ1ltCL3OfMmePsEsiGmKd4mKl1Ss6kIH3OhFvNVb4G+KCJBjNDXBWbKw+NO2JDR2Fl3/l2ba6Yp3iYqfWEPoOl1+udXQLZEPMUDzOtHHNxEfK2foCiH7+8+WcAX9dSYWNDDfQVTAc+2vh+PBMWg9raQLvXxzzFw0ytx0flEBFVA8WnfkbuhvdgyssEAJz7fTrwYgXTgY19GiI+PBZhdTs4skyiGomPyiEiqmbMRQXI3bIU+oO7AQB5GmB9Qw321lIrbu+hcUdMh2hEte4PjYo/4omchUcfEVEVVXzsAHI+WQBzfg5MAHbXVuGTBhVPB/Zo/CAmho1GoDbAsYUSkQWhG6zMzEwEBtp/3QE5BvMUDzNVZirMRe7mJSg+/B0A4IzXzenANK3ydGBT3yDEhY9HpzrtHVmmBeYpHmZqPaGvIhwzZoyzSyAbYp7iYablybIM/eG9SH8zFsWHv0OeBni/qQavBrsqNldajQcmhY3B8r7vOr25ApiniJip9YQ+gzVr1ixnl0A2xDzFw0z/ZMrPRs4nC1Fy7ABMAHbVUeOT+moUVzAd2LPJw3gmbBQCPPwdW+htME/xMFPrCd1g8WpFsTBP8TDT389aJe9BXtL7MOsLcNpLwprGGlyuYDqwmV9jxIfHomPttg6u9J8xT/EwU+sJ3WAREVVlptxM5GxagJKTPyHHBUhspsH3AcpXB3q6aDGmw7/wRKu+0KiUtyGiqoMNFhGRg8myDP1PO5G7ZRkMpUXYWUeNzQ3UKFErTwf2bvYoYkNHwd/Dz8GVEpG1hF7kvmLFCmeXQDbEPMVTEzM15mQg8/0XkbP+XZx00ePFEBd8HKRRbK5a6JpiYc838UK3uGrRXNXEPEXHTK0ndIOVkpLi7BLIhpineGpSprLZjMLvdyD9zVhc+zUFC5tp8HobV1xRWGvl5eKJuC7jsbT3PLSvHeyEaq1Tk/KsKZip9fioHCIiOzNmXkPOhgQUnT+Kr+qokVS/4unAPs16ILbTSOjcq/4ZKyK6iY/KISJyINlsRuG+bcjfsQon3Mqwuq0LrnooTxy01DVDfHgs2tVq4+Aqicge2GAREdmBIeMKchLfwbUrp/BxkAY/+bsqbuft6oWxHYdjQIsIqHl1IJEw2GAREdmQbDah8NtPkfXlWnzhb8Kn7V1RWsF0YL/mPTE+dAT83H0dXCUR2ZvQi9wjIyOdXQLZEPMUj2iZGq5fQkbCNOz/dgX+3UrG+kYaxeaqtX9zLOk1FzPunSxUcyVansRM74bQZ7AmT57s7BLIhpineETJVDYZUbDnE1z4+mN81EDGz62VpwN9XL0xLnQ4+jXvKeR0oCh50p+YqfWEbrAiIiKcXQLZEPMUjwiZlv32KzIS52Gr6SK2hqhRqracGJAgoX+LCIwLHQ5fNx8nVOkYIuRJ5TFT6wndYBER2YtsNCB/13p8/9MGrGkk4bq78o/TNgEtER8ei+CAlg6ukIiciQ0WEVEllV0+h7Mb5mCV+3Ucaqk81efj6o3YTiPRt/ljUElCL3clIgVCH/VbtmxxdglkQ8xTPNUtU9lQhhufLcfSxKmYWjsDh3SWzZUECZEte+PjyCXo3yKiRjVX1S1P+mfM1HoVHvlNmjRBcHAwOnXqhLCwMGzatElxu+3btyM4OBitW7fG4MGDUVhYaLdiKysxMdHZJZANMU/xVKdMSy+expcLx2FSxlZ80kCNMoWrA4P9W2Jp77fxf/c8Ax83bydU6VzVKU+6M8zUehU+KqdZs2bYunUr2rdvX+Gbi4qK0Lx5c+zbtw8tW7bEs88+Cw8PD8ydO9diWz4qh4iqI3NZCc7tWIqlv+1Gsk7536S+Lp6I7TwGfZo9WqPOWBHRTZV6VI4sy/inxxR+8cUXCAsLQ8uWNxdvTpw4EREREYoNFhFRdVNw7jDWfDUHW3z1MCg0VypIiGzRC2NDR8DbzcsJFRJRVXXbRe4jRowAANxzzz343//+h8DAwHLjaWlpaNy48a0/N2nSBNevX4fZbIZKxX/FEVH1ZC4txtdb52BZQQoydBIAy+nAEJ8mmNo9Dq38mzm+QCKq8irsgvbt24ejR48iJSUFAQEBGDVqlCPrIiJyigvH9uD/1ozAbMNhZLhbNla+khuev2cyFvV/l82VDSQlJaFjp87w0HqiY6fOSEpKcnZJRDZRYYPVsGFDAIBarUZ8fDz2799vsU1QUBAuXrx4688XLlxAvXr1bnv2qm/fvoiMjCz3X7du3SyuVNi5c6fiLfonTZqEFStWlHstJSUFkZGRyMzMLPd6aGgo5syZU+61tLQ0REZGIjU1tdzrCxYswPTp08u9ptfrERkZafHdExMTERMTY1Hb0KFD7fI9Zs6cye+Bm2dURfgetsjj5Zdfho8uwOKXUnX7HhEREVUmj2/3fIXF6+Iw7mgCUjwNFjVJMvBEw4fgtgMoO1lUbq2VKH+v7vZ7xMTEVOp7jB07FlFRUThuCEBJ/1k4bghAVFQUwsPDeZxXke/Bn7uW3yMxMbFcD9O0aVMMGzbMYh+Ki9z1ej0MBgN8fW8+I+udd97Btm3b8O2335bbrrCwEC1atMDevXvRqlWrKrfIPTExEdHR0Q75LLI/5nlTUlISoqKiILXtCTmkJ6RTuyCf3IXNmzdj0KBBzi6vUqpCprIs49sf12HxmU3IcFFedxriWhvTHn0eLQNaOLi66qWyeXbs1BnHDQGQp2wHJAmQZUjz+6GDWw6OpByyY6V0p6rCMVodKPU4ig3WhQsXEBUVBbPZDFmW0axZM8yfPx9BQUGYOXMmGjRogPHjxwO4eZuG6dOnw2QyoV27dlizZg28vS0vT+ZVhES2wV9KtnM54xze3fUGkpGtOO5rVmNCh+Ho02EgJMlyupDujofWEyX9ZwE94/98cVcC3LfPQrG+yGl1EVXWHV9F2LRpU6SkpCju5JVXXin35/79+6N///42LpWIKnL2TCrk/rNuNlcAIEmQ20bgzPZZziyrWikxlmL1NwnYdP0AjAorGlQyMMCnLcZFvABv95p3PytHadW6DY6f2gX5sbg//7FwcidaBwc7uzSiu8ZH5RBVM/ylZD1ZlrH3/DdY8NP7uCGVKq5CDTZ6YNpD09GqSWfHF1jDzHzpxZvT3fP7QW4bAenkTsindmMmF7qTAIS+l4LSwnyqvpjnTTNfehHyyV2Q5vcDdiXc/OV0ajdm/vdFZ5dWaY7M9Er+VTy3bSpe/nn+zebqb/wMwHO1HsXiEevYXFmpsnkOGjQImzdvRge3HLhvn4UObjlISkrCwIED7VQhVRZ/7lpP6AaLNzwVC/O8SaRfSo7ItNhYgmU/L8eobRNxqPCCxbhKljGgLBBr+y7AgIg43sPvLliT56BBg3Ak5RCK9UU4knKoWv49Fhl/7lqvwkfl2JozFrnr9XpotVqHfBbZH/MUjz0zlWUZ36UdwMIfl+CGsUBxm5BCCc8GD0XwA8O4iN0GeIyKh5neGaUeR+h/qvEvhVi+/PJL3pBQMPY6RtPyr+D/dr6ImfvnKjZXujIZU0sbY8HQ5Qh5MJrNlY3wZ654mKn1uMidqoVy937qPwvHT+1CVFRUtbz3E9mP3lCMtSc2YtOpLTDCbDGuNsvok61GTLcJCAiPYGNFRHbDBouqhVdee/1mc/X7vZ/kx+Igze+HV2e/wQaLIMsyvkn7HosPLceNkhzFbdrmmRHr0QHtxjwHtbfOwRUSUU0j9BTh32+VT9XX2TOpkEN6Wt77KfW0cwuju2KLY/Ri3mVM+/plvLL/LcXmSlcmI+6KC97qNh0dY15nc2VH/JkrHmZqPaHPYAUFBTm7BLKRVq3b4NjJnQDv/SSUuzlG9QY91hzfgE2p22CSlacD+6abMKxOd9SbNAlqL9+7KZXuAH/mioeZWk/oqwhJHLfWYIU8Vu6GhNX19gRkPVmWsefSPixOWYXMYuVH3LTLMyMmyxNtB8bBo103B1dIRDXNHT8qh6iq+ePeT6/OfgNnts9C6zbBmMnmqsa5kJuG+YeW4XD6ccXxgFIZwy8b8VCLR6EbHQuVlo+5ISLnYINF1cagQYO4oL2GKjLosfrYemw+sx0m2WQxrjHL6HfdhIF6P9R9Mh4eIeFOqJKI6E9CL3JPTU11dglkQ8xTPP+UqSzL2HXhW4z4bCI2pm5VbK465Jnx5gkDYoIi0HjGMjZXTsRjVDzM1HpCN1gzZsxwdglkQ8xTPLfL9Jeci4jb/SJmH3gXWcWWVwcGlMqIP2fAC5k6tH/6DeiGxkHl4WnPcukf8BgVDzO1ntBThAsXLnR2CWRDzFM8SpkWlhVh9fFEJJ3ZoXh1oMYso/91EyKvmeDfPRK+/WOgcvNwRLn0D3iMioeZWk/oBouXl4qFeYrnr5nKsoydF77F+4dXI7skV3H70FwTRqQZ0dC7PnSTpsKteXtHlUp3gMeoeJip9YRusIioejifcwEJB5fh+I1TiuO1SmWMSDMiLE+G90OD4NN3JFSu7g6ukojozrHBIiKnKSgrxMpj67Dl7BcwK0wHuphl9L92czpQW6sRdFOmwq1piBMqJSKqHKEXuc+ZM8fZJZANMU9xmGUzvvx1DwatH42kMzsUm6tOuSbMOVGGwddkBDw6BHWmL2JzVcXxGBUPM7We0Gew9Hq9s0sgG2KeYjiX/SsSDi7FicxUQG05Xrvkj+lAMzT1msA/ehpcg1o5vlCqNB6j4mGm1uOjcojIIQpKC7Hi2MfYeu7LCqcDI6+Z0P+aCa6SGt49h8Gn5zBIGhcnVEtEdOf4qBwicjizbMYXv+7BssNrkVuap7hN5xwThqcZUbsMcGnYHLph0+DasLmDKyUish02WERkN2ezf8G7B5fiVOYZxfE6JTJGphkRmmcG1C7w6fsvePd4EpKaP5qIqHoT+qdYZmYmAgMDnV0G2QjzrD7ySwuw/OjH2HbuS8iwXIXgaro5HdjvugmuMuAS1Ar+0dPgUq+J44slm+ExKh5maj2hryIcM2aMs0sgG2KeVZ9ZNmP7+Z0Y/tkz2HruC8XmqkuOCXNPlGHgNRMkE+Ab+TRqx73L5koAPEbFw0ytJ/QZrFmzZjm7BLIh5lm1pWadQ8LBpTiddU5xvG6JGaMuGdEh/2bT5do0BFkdeqHpI70cWSbZEY9R8TBT6wndYPFqRbEwz6oprzQfHxz5CNvP71Q8Y+VmkvH4NRP6XjfBRQYkFzf49I+B1wMDUFulcJ8GqrZ4jIqHmVpP6AaLiOzHZDZhxy+78MGRj5BfVqC4TXi2CcMvGxFYdvPPrs3bwz96KjSB9R1YKRGR47HBIqJKO515Fu8eXIoz2ecVx+sVmzEqzYj2v08HSm4e8B3wNDzv6wtJJfTSTyIiAIIvcl+xYoWzSyAbYp7Ol1uSj7k/LsQzX81QbK7cTDKGXTbizZOGW82VW+sw1Hn+fXjd39+iuWKmYmGe4mGm1hO6wUpJSXF2CWRDzNN5TGYTtpz9AsM/ewY7ftmluNaqa7YJbx0vw4DrJmhkQHLXQjcsHoETXofGv47ifpmpWJineJip9fioHCK6rRM3UjH/0DKczf5Fcbx+8c2rA9sV/PmjxD0kHH5DpkDjV8tRZRIROQ0flUNEdyynJBdLD6/FF79+rTjubpIx6KoJvdJvnrECAEnrBb+BE6Dt0gOSJDmwWiKiqoUNFhGVYzSbsO3cl1hx7GMUlhUpbtMty4R/XTbC3/Dna+7t74Nu8CSofQMcVCkRUdXFBouIbjmecRoJh5bifM4FxfGG+ptXB4b8ZTpQ5ekLv6iJ8Oj0IM9aERH9TuhF7pGRkc4ugWyIedpPdnEu3jiQgMm7/q3YXLmbZDyVZsTrpwzlmiuPTg+hzgtLoQ17yKrmipmKhXmKh5laT+gzWJMnT3Z2CWRDzNP2jGYTtpz9HCuPrUORQa+4TfcsE6IvG6H7y3SgylsH3ZOT4dGh+119PjMVC/MUDzO1ntANVkREhLNLIBtinrZ1NOMk5h9chl9yLyqON9LfvDowuLD8hcbaLj3gOzAWak+fu66BmYqFeYqHmVpP6AaLiCxlFWdjScoa7Lr4reK4hwkY/JsRPdNN+OuTAlW+AdANmQKPtl0dUicRUXXGBouohjCajUg6swOrjiVCbyxW3OaBTBOGXTbCz1j+de29veAXOQ4qrZcDKiUiqv6EXuS+ZcsWZ5dANsQ8rXck/QTGfj4Ni1JWKjZXQcUyXj5dhgkXyjdXal1tBE54Hf7DptqluWKmYmGe4mGm1hO6wUpMTHR2CWRDzLPyMvVZeO37eYjb/SIu5F2yGNeaJYy8ZMDsE2Vo/be1Vp7d+6PO8+/DvU1nu9XHTMXCPMXDTK3HR+UQCchoNmLzme1YdSwRxcYSxW0ezJIxLK0Mvn+bDlQH1INuWDzcW3Z0QKVERNUfH5VDVAOkXD+G+YeW4WLeZcXxJgYXjDpfhFZ/O2MFSYLXA4/Dp99oqNzcHVApEZG42GARCeKGPguLU1Ziz6X9iuOekguevFSCHumlFmsDNPuCCOgAACAASURBVLUaQBc9FW7N2tm/UCKiGoANFlE1ZzAZsCn1M6w9saHC6cBHijww5GwufP42HQhJBa9HBsG39whIrm72L5aIqIYQepF7TEyMs0sgG2KelpKvH8WYz+Ox9MgaxeaqucoXs1KNGHvKsrnS1A1Crbh34Bc51mnNFTMVC/MUDzO1ntBnsHgHWrEwzz9lFN3AopRV+Dbte8Vxb40HhmZo8NAvGZb/ilKp4N1jCHx6/QuSxtXutd4OMxUL8xQPM7UeryIkqkYMJgM2pm7F2uMbUWIqtRiXIKGnphEGHfoF3gazxbhL/abQRU+Da6OWjiiXiKhG4FWERNXYwWuHMf/gMlwuuKo43sqzAUadLUCTq+csB9Ua+PSMhvdjQyBpXOxcKRERscEiquLSi25gYfIK7L38g+K4j6sXhpuD0O27I1ApnJB2adQS/tHT4FK/qb1LJSKi3wm9yH3/fuXL1al6qml5lpkM+PDEJoz4bKJicyVBQt9aXTDvrBrdfzhs2VypXeDTPwa14xOqbHNV0zIVHfMUDzO1ntAN1ty5c51dAtlQTcrzp6spiNkxBcuPfoRSU5nFeBtdc7yl7oKnPv8e2hsZFuOujdugzvRF8HlsKCS12hElW6UmZVoTME/xMFPrCT1FuH79emeXQDZUE/K8VpiOhckrsP/KT4rjvm4+GFPnQYR//R3k3FOWG7i4wrfvKHg99AQkVdVtrP5QEzKtSZineJip9YRusLRarbNLIBsSOc9SUxnWn/oUH538BGUKZ6wkSIhs2gNRF4qg3rwZSpf+ujZrB130VLjUamD/gm1E5ExrIuYpHmZqPaEbLKLq4IffDmHBoQ/wW+F1xfGQwNZ4RncfArdvhDk/22JccnWH74Ax8OzeH5JK6Fl/IqJqgw0WkZNcLbiOBcnLceC3g4rjfm6+GBcyBF2TT6D0i/dheVcrwK1lKHTD4qEJqGvfYomIqFKE/ufu9OnTnV0C2ZAoeZYaS7HqWCJGbZ+s2FypJBUGtuqHZc1GImzdRyhN/tZiG8lNC78hUxA48X/VurkSJVO6iXmKh5laT+gzWEFBQc4ugWxIhDy/v/IzFiQvx7XCdMXx9rWC8WxINAJ3fYbio0mK27i16Qzd0DhodLXtWapDiJAp/Yl5ioeZWo+PyiFygN8KrmHBoeX44eohxXGduy8mhI7GAzlA3qfvw1yUb7GN5OEFvyfGQ3tPT0iSZO+SiYjoDvFROUQOVmIsxccnP8H6U5+izGywGL85HdgXo5r0hmHLSuScUL5bu3vbrtANmQK1b4C9SyYiIhtgg0VkB7IsY/+Vn7AweQWuF1neCBQA2tcKQXyX8ah3/jxy502FXFxosY1K6w2/qInwCHuYZ62IiKoRoRus1NRUtGnTxtllkI1Ulzyv5F/F/EMf4OdrKYrj/u46PBM2Go/4hiBv0wLknFa+itCj4/3wGzwJam+dPct1quqSKd0Z5ikeZmo9oa8inDFjhrNLIBuq6nkWG0vwwZEPMXrHs4rNlVpS4ck2kfhwwCLcd70YGXMmoEShuVJ5+cJ/9IsIiPmv0M0VUPUzpcphnuJhptYT+gzWwoULnV0C2VBVzVOWZey7/CMWJq9Auv6G4jYda7dFfHgsgkxuyFn+GkrPHlHcziPsYfgNegZqL197llxlVNVMyTrMUzzM1HpCN1i8vFQsVTHPy/m/Yf6hZTh4TblhCvDQ4ZlOMegRdD/0B3Yg/bOVkMtKLLZT+fhD9+Sz8Gjfzd4lVylVMVOyHvMUDzO1ntANFpG9FBtL8OHxjdiQuhVGs9FiXC2pMbjNAIxqPxRuubnIXPxvlP1yXHFf2vDH4DcwFiqtt73LJiIiB2GDRVQJsizj27QDWJSyAjf0WYrbdKrTHvHh49HYuwEK925F+o41kA2lFtup/QLhNyQOHiHh9i6biIgcTOhF7nPmzHF2CWRDzs7zUt4V/N+emZi1f65icxXo4Y+Z3Z/Duz1eQ4MSCTfeew55W5YpNlee3fqgzvNLa3xz5exMybaYp3iYqfWEPoOl1+udXQLZkLPy1Bv0WHN8IzalboNJNlmMqyU1nmwTiVHth8BD5YaCrzch/8sPAaPljUXV/nWgGxYP91adHFF6lcdjVCzMUzzM1Hp8VA5RBWRZxp5L+7A4ZRUyi7MVt+lctwOmdBmPJr6NYLh2Ednr5sFw+Zzitp4PRMK3fwxUbh52rJqIiByNj8ohukMXctMw/9AyHE5XXpheSxuASWFP4+Gg+wCzCflffYz8nYmASWHBe2A9+EdPg1vz9vYum4iIqgg2WER/oTfosfr4BnyS+pnidKBGpcHQNo9jeLsnoXXxQNmV88hZ9w4MV3+13JkkweuhgfDpOxIqV3cHVE9ERFWF0A1WZmYmAgMDnV0G2Yg985RlGbsv7sWSw6uQVZyjuE14vVBM6TIOQT4NIRvLkPf5GhTs3giYFRqx2o2gi54Kt6YhdqlXFDxGxcI8xcNMrSf0VYRjxvx/e3ceFlXdvgH8HoYd2WRRUcnldcVURFOzMjO3NBRQFPd93yuttNRSU0vcK83ltVK0ZMIlJTR9TctyQTNXFBUVVxSQfZk5vz/en77ZLDCHgcN8vT/X1R/N95lznulmrp7rnDPnDFW6BbKg0srzSloSJu+bibm/RRocrnydvfHxy+/i03az4e9WDfnXL+LuZxOQERelP1ypbODaPhyV3lnF4aoY+B0VC/MUDzOVT+gjWLNnz1a6BbIgS+eZmZ+Ff/8VBc3FH6GVdHrrdja26N2gB/o36gUnW0dI+XlIi/0WmQeiAQP1tlVqoGLEVNj717VonyLjd1QszFM8zFQ+oQcs/lpRLJbKU5Ik7L12EF/Eb8DD3DSDNS9UaYZJzUegmpsfACDv6jmkRkWi8N5N/WIbNVw79IFbh95Q2dpbpMdnBb+jYmGe4mGm8gk9YBH9U2LqNSw9thqn758zuF7ZxRfjg4bhpWotoVKpoMvPxaMfNyLzlxjAwB1N7KrWhmfEVNhXq13arRMRkRXhgEXPhIz8TGw4HYWYhN0GTwfa29ihT8MQ9AvoCUdbBwBA3uXTeLhlCbQpt/U3qLaFW6d+cG3fCyo1v0ZERPQ0oS9yX7dundItkAXJyVMn6RB7ZT8G7ByL6Iu7DA5XrfyCsKHbCgxr0g+Otg7Q5WYjddtK3F85zeBwZedfF5XeXgm3jhEcrkqI31GxME/xMFP5hB6w4uPjlW6BLMjcPC89vIIJce/hkyPLkJqbrrde2cUX89u+jwWvfoBqrlUAALkX43F34WhkHd6lv0FbO7gHD4PvpCWwq1JDzkegf+B3VCzMUzzMVD4+KoeEk5GfiXV/bsb2S3ugM3I6sG9AGPo2DIXD/58O1OVkIX37V8j6PdbgNu1rNoRnnymwq1S9VHsnIiLrw0flkNAenw5cffJrpOXpH7ECgBertsCEoOHwc6385LWcc0eRtnU5tOkpevUqOwe4dRuCCi+/CZWNutR6JyIisXDAIiEkPEzEkmOrcS7losF1vwqVMbH5CLSu2vzJa7qsDKTFrEb2sX0G32Nf+3lUjJgCW2+/UumZiIjExQGLrNqjvAys/XMTdlyKhQT9s932anv0CwhDRMNQOKj/d4+qnNO/IXXbCuge6d+5XWXvCPfgYXB5sStUNkJfpkhERKVE6P97BAcHK90CWdDf89RJOuy6HIf+O8di+6U9Boerl6q1xNfdVmLw832eDFfazHQ82PgJHqz/yOBw5VCvGSpN/xIVXnqTw1UZ4HdULMxTPMxUPqGPYI0fP17pFsiCHud54cElLD22GucfXDJYV9W1CiYGjUCrqkFPXpMkCTmnDiEtehV0mfrXZ6kcneHRfQScW3WGSqUqnQ9AevgdFQvzFA8zlU/oAatjx45Kt0AW1LJtKyz+43PsvBxn8IiVg9oeAxr1QniDHk+dDtRmpCLt+5XIOf2rwe06NmwBj/CJsPXwKbXeyTB+R8XCPMXDTOUTesAiMWh1WvyYuBdfnfoWj/IzDNa8Ur01xjUbisoVfJ+8JkkSsk/sR7rmS+iy9d+ncq4Aj5DRcG7enketiIjIojhgUbl2PiUBS46txsWHlw2uV3P1w6TmI/CC39P3VtOmpSD1+xXIPfuHwfc5Pv8iPHuOg9rdy+I9ExERCX0Vb0xMjNItkExpuY+w6PeVGPPTNIPDlaPaASOaDMCGrsufGq4kSULWH3G4s2CUweHKxsUdFQe+B6+hH3C4Kgf4HRUL8xQPM5VP6AErKipK6RbITFqdFjEJe9B/5xj8mLjX4LVWbf1fxNdvrkL/Rj1hr7Z78nph6j2kfDkDqVGRkHKz9N7n1PQVVHpvNZybteUpwXKC31GxME/xMFP5hD5FuHXrVqVbIDOcTbmIpcdWI+FhosF1f7eqmNh8JFpUafrU65JOh6wje5C+Yy2kvBy999m4esKz5zg4NXmpVPom+fgdFQvzFA8zlU/oAYusQ2puGlaf/Bp7rvxscN3J1hEDG/VGr/pvwu5vR6wAoDDlNlK3LkXepT8Nvte5+WtwDxkNtYubxfsmIiIyhgMWKUar02LHpVisPb0Jmfn6p/QAoJ1/G4wNGgpfZ++nXpd0OmQe2oFHP26AlJ+n9z4bdy94hk+EU0DLUumdiIjIFA5YpIgz989jybHVuJx61eD6c27VMKnFSARVbqK3VnDvJlK3LEH+lbMG3+vcsiM8uo+EjXMFi/ZMRERUXEJf5D5kyBClW6B/eJiThk+OLMO4uHcNDldOto4Y22wI1nddpjdcDR0yGBn7t+Hup2MNDldqT194j56HihFTOVxZCX5HxcI8xcNM5RP6CBbvQFt+FOq0iEnYjQ2no5BZYPh0YPvnXsHYZoPh7ax/+4SCO0l4268Q6TvWGnyvS5tucH9zCGwcXSzaN5UufkfFwjzFw0zlE3rAioiIULoFAvDnvbNYdmwNEtOuGVyv6e6PSS1GIrDS83prkrYQGfu34VHsJrhpC/TW1V6V4dlnChzr6J9KpPKP31GxME/xMFP5hB6wSFkPclLx5cl/I+7qfwyuO9s6YUjjCITW6wpbG/0/xfxbV5C6ORIFNw3cxV2lQoWXg+HWdQhsHBwt3DkREVHJcMAiiyvUafFDwo/YcDoKWQXZBms61HgVY5oNgpdTRb01qbAAj/ZuQcbeLYBOq7du61MVnhFT4FCrkcV7JyIisgShB6zDhw/jpZd4c8my9Ofds1hybDWupicZXK/l8RwmtxiFJr4BBtfzb1xCalQkCm7pXwAvQQXXdqFw7zIQKnsHi/ZNyuB3VCzMUzzMVD6hf0W4aNEipVt4ZqRkP8DHvy7GxH3vGxyuXOycMSFoOL7qssTgcCUV5CN91wbcWzLJ4HBlW9kfnyar4dF9BIcrgfA7KhbmKR5mKp/QR7C2bNmidAvCK9QVYuWJddh+KRY6SWewplPNdhgVOAheTp4G1/OuXUBqVCQK717XX7SxgWv7cLh16osF+YWWbJ3KAX5HxcI8xcNM5RN6wHJ2dla6BaFNiHsPp++fM7r+L8+amNx8FJ73bWBwXcrPQ/qer5H5nx8AA8OZnV9NeEZMhX31OgAAZ1t7yzRO5Qa/o2JhnuJhpvIJPWBR6fjlxhF88MsCo+sV7FwwrEk/BNfpDFsbtcGavMQzSN2yBIX3k/UXbdRw6xgB19d7Q2Vrp79ORERUzhkcsPLy8tCnTx+cP38eTk5O8PX1xeeff47atWs/VZeUlITatWujcePGkCQJKpUK0dHRqFmzZpk0T2UrIz8T3b7vZ7KmS632GBU4EJ6OHgbXdXm5eLRrPTIP7wQkSW/drnodeEZMgb1fLYv0TEREpASjF7mPGjUKFy5cwMmTJxEcHIzhw4cbrHNzc0N8fDxOnjyJ+Pj4cjVcvfPOO0q3IIwxse8UOVx90nYm3m090ehwlZtwCncXjUbmoR36w5XaDm5dB8N38lKjwxXzFA8zFQvzFA8zlc/gESwHBwd07tz5yb+3atUKixcvNrgBycBRiPLC399f6Ras3oGkXzH7cNG/Ionr/R0cbA3/uk+Xm4X0HeuQ9dtug+v2z9WHZ8RU2FU2nRfzFA8zFQvzFA8zlU8lFWNCGjhwILy9vREZGfnU60lJSahbt+6TU4Tdu3fHzJkzoVKp9LYRHx+PoKAgnDhxAs2aNbPcJ6BS8SgvA29u619k3fLX56NJJcP3tAKA3PPHkbp1GbRp9/UX7ezh/sYgVGjbAyoj12oRERGVd4ZmnCIvcp8/fz4SExOxZs0avTU/Pz8kJyfD29sbaWlpCA8Px+LFi/H2229bvnsqM8N2T8blVP17Uf1dhxptMbPNVKPruuwMpMV8heyjcQbX7Ws1gmfEFNj5VC1Rr0REROWRyRuNfvbZZ4iJiUFsbCwcHfWf92ZnZwdvb28AgIeHB4YOHYpDhw6Z3OEbb7yB4ODgp/5p3bo1YmJinqqLi4tDcHCw3vvHjRuHdevWPfVafHw8goODkZKS8tTrs2bNwsKFC5967fr16wgODsaFCxeeen3FihV655qzs7MRHByMw4cPP/V6VFQUhgwZotdb7969rfpz7Lv2C9pu6l7kcLW3z7Ynw5Whz3Fm+yacm9bL4HBVoFLDI2wsfMYvgp1PVebBz8HPwc/Bz8HPYVWfIyoq6qkZpmbNmujTp4/eNoyeIoyMjMTmzZvx888/w93d3VAJ7t+/D09PT9ja2iIvLw8DBgxAw4YNMXv2bL1aJU4RXrhwAfXr1y+TfVmztNxH6B49oMi6VR0XoJGP4XtaAYA26xHSNV8g+8QBg+sOdZrCs89k2HpVltUn8xQPMxUL8xQPMy0eQzOOwSNYycnJePvtt5Geno527dohMDAQrVu3BvDfKfLx6cLDhw8jMDAQgYGBaN68OapUqYIZM2aU0ccp2rRp05RuodwbuHNckcPVG7Vfx8F+200OV9l/HsbdT0YaHK5UDs7wCJ8I77GfyB6uAOYpImYqFuYpHmYqX7EucrcEJY5gXb9+nb+AMOKnKwcw/8jSIuv29dkGO7Xxm30WptzC3UVjIOXnGVx3qB8Ez96TYOvpK7vXx5ineJipWJineJhp8ci6yN2a8Y9CX2puGnpEDyqy7stOn6KBd12j65IkIXlKF6PrKkcXeISMgvMLHQz+qlQO5ikeZioW5ikeZiqf0AMWPS1i+yjcyrxjsib4X53wVsuxJmtyzh3FgzUfGl13DGgJz/CJULt7yeqTiIjI2nHAegb8mLgPi35fUWTdzxHRsLUx/idR1FErAEis/xpeGf6OxY5aERERWSOTt2mwdv/8Seez5kHOQ7Td1L3I4eqrLpE42G+7yeEq+9ShIoerVod0eHXMdPzwww+y+i3Ks56niJipWJineJipfEIfwcrOzla6BcX01AzF/ZwHJmtC63XFpOYjTdZIOi2Sp3Y1WVMIG9QM2A40lKBa1hUfzZ2P0NBQs3suyrOcp6iYqViYp3iYqXxC/4rwWbTjUiwWH/2iyLqfIzSwLeLxNFlH9yJ1s+FnUD4WkhKE421n/++FvUvhuGs2crKzitMuERGR1XvmfkX4LLmf/QA9fxhaZN26N5biX541TdZI2kIkv9XNZI2Nizu67L6MvwqOAa9IgEoFSBJUZ+NQr4Hx+2URERE9CzhgWTlJktA9egDS8zJM1vVu0ANjm+k/DuCfMg/vRNq2VSZrfN9aAfvqdTArSIOwsDColnWFFNARqrNxkM7twyyNxqzPQEREJBqhL3L/57OMRHMt/QZe3dyjyOFqf4SmyOFKKszHzcmdTQ5Xtj5VUW1pLOyr1wEAhIaGIjo6Go0dUuG4azYaO6RCo9EgJCTE/A9TDKLn+SxipmJhnuJhpvIJPWANHVr0KTNrlFuYh7WnvsWgXeNN1m3ouhwH+22HuohrrTJ+/h7Jb+s/iPPvKk3/EpVnrNN7PTQ0FKfijyMnOwun4o+X2nAFiJvns4yZioV5ioeZyif0KUJDD522ZpIk4dCN37HyxDrczb5vtK5fQE+MbFr0w5t1ebm4Nb2HyRo7/7qoNHW52b2WBtHyJGYqGuYpHmYqn9ADlki/VrzxKBnLjq/BsdunTNYd6PsDbFRFH5hM370RGXFRJmsqz1gPWx8/s/osTSLlSf/FTMXCPMXDTOUTesASQU5hLr458z22no9Boa7QYE0rvyDMbDMVrvYVityeLicLt94LM1njUK8ZfMbMl9UvERERccAqtyRJwsEbv2HVifW4l234IsOmlRphcvNRqOlRvIdxpmm+QOYv203WVJ71NWw9fc3ul4iIiP5H6Ivc163TvyjbGiSl38Rb+2dh1qFFBocrb6eK+LDNW1jafm6xhitt1iPcnNzZ5HDl1PRlVFsaW66HK2vNk4xjpmJhnuJhpvIJPWDFx8cr3YJZsgty8OXJjRi6exJO3PlTb12tUqNPgx745s1VaF/jlWI9UPnh5kjcnhFusqbKR5vhNXiG7L7LirXlSUVjpmJhnuJhpvLxUTnlgCRJOHD9V3x+Yr3R5wc2q9QYk1qMQA334p0O1D56iNsf9jVZ49yqEyr2mWJ2v0RERPQ/fFROOfTrzT/w/kHjF5T7OHlhbNBQtPNvU6wjVgDwYP3HyDn9q8maKvO+g9rFzaxeiYiIqHg4YCnkQc5DhGqM313d1sYW4fWDMaBROJztnIq1zcLUe7gzZ6DJmgptQ+ARMsqsXomIiMg8HLDKmCRJmPHLfPx686jRmqDKTTCp+Ug8516t2Nu9//m7yEswfY8svwXRsHF0KfY2iYiISB6hL3IPDjb9+Jeytv/aIby6uYfJ4WrOy9Ow+LU5xRquNBoNurz4Am5O7mxyuHLt1A/VlsZa/XBV3vKkkmOmYmGe4mGm8gl9BGv8eNPP6isr97JT0OuHYUXW7QmPgrOdc7G2qdFosOHdsfjqjaYm6/wWxcDG3rFY2yzvykueZDnMVCzMUzzMVD6hB6yOHTsqun+dpMO7/5mLP26dMFm34NUP0Lpq8+JvNycLD7cuwxcmhiv34GFwfa1XsbdpDZTOkyyPmYqFeYqHmcon9IClpL1XD2Lub5EmazrXeg3vtppY7F8HAkDOuaNI27ocnasYv/C96mc7oLK1L/Y2iYiIyLI4YFnY3az7CI8ZXmTdjp7fwN2h+LdJ0GVlIC1mNbKP7TNa8/55HU6nPMQpDldERESKEvoi95iYmDLbl07SYerPHxY5XH3abhYO9ttu1nCV89cR3Fk40uBwlVkoYWZaXTy3V4tv4vZi1szyf0d2ucoyTyobzFQszFM8zFQ+oQesqKioMtlP7JX9aLc5xODjbR7rWrsD/tM3Bi/4Ff8u9trMdDzY+AkerJsD3aNUvfV0j6qYcCIVW79bh+cdUqHRaBASEiLrM1iDssqTyg4zFQvzFA8zlY+PyimB25l30Wf7yCLrdvb8Fm4OrmZtO/vUL0jbtgq6zHS9NZWjMzx6jIRzy05mXb9FRERElsdH5ViIVqfF1J8/xKl7Z0zWLX5tDppXMX0bBb1tZ6Qibdsq5Px52OC6Y8MW8AifCFsPH7O2S0RERGWHA5aZfkzch0W/rzBZE1ynM956YYxZ25UkCdkn9iNd8yV02Rl66yrnCvAIGQ3n5u151IqIiKic44BVTLcy7iBih+ln+KlVamzv+TVc7SuYtW1tWgpSv1+B3LN/GFx3fP5FePYcB7W7l1nbJSIiImUIfZH7kCHGH6ZcXFqdFuN+ml7kcLWk/cfY31dj1nAlSRLuf/E+bs/ub3C4snFxR8WB78Fr6AccrmCZPKl8YaZiYZ7iYabyCX0Eq6R3oN15OQ6f/bHKZE1I3a6Y3KLoC93/Ke/KWdxf/pbRdaemr8Cj51ioK3iYvW1R8Y7C4mGmYmGe4mGm8vFXhAbczLiNfjtGm6xxUNtDE/pvVLA37wHKkk6He5ETUHAz0eC6jasnPHuOg1OTl8zaLhERESmDvyIsQqFOi3Fx03HhwSWTdctfn48mlQLM3n5uwkmkfP6e8QI7e1R6dzXULsW/CSkRERGVPxyw/l9Mwh4sOfalyZpe9YMxPmiY2duWtFrcXTAShfeTjda4vNgVnuETzN42ERERlT9CX+R++LDhe0n93fVHN9F2U3eTw5WLnTP2hEfJGq5yzv6B5Le6mhyuKn+4kcNVMRQnT7IuzFQszFM8zFQ+oQesRYsWGV0r1BVi2O7JGLBznMltrOywALvDo+Bs52zWvqXCAtz6MAIPvppltKZCuzBUWxoL24qVzNr2s8pUnmSdmKlYmKd4mKl8Qp8i3LJli8HXt13YiRUn1pp8b0TDUIwOHCRrv9l/HsbDDXNN1lSZs4m3XjCTsTzJejFTsTBP8TBT+YQesJydnz7qdC39BgbtGm/yPe4OrtjS/Ss42zmZvT+pIB+3ZvaGlJdjtMa1Uz+4dxlg9rZJP0+yfsxULMxTPMxUPqEHrMcKtAUYsectXE1PMln3eadFCPCuJ2sf2cf34+G3pg+lVvl4C9SuvK8VERGR6IQfsLae347P49ebrOkf0BMjmso7qqTLy8Wt6T1M1rh1Gwq318NlbZ+IiIisj7AXuV9JS0LbTd1NDlcVHT0Q23ur7OEq88ieIocrv3nfc7iykHfeeUfpFsjCmKlYmKd4mKl8wh3BytcWYOiPE3Ej45bJui87f4YGXnVk7UOXk4Vb74WZrPEIHYMKr3SXtX0yzN/fX+kWyMKYqViYp3iYqXxCPSpn81kNVp/aaLJm8PN9MKRxhOx9ZByMQfoPpm9I6rcgGjaO5j1Ch4iIiKyTsI/KSUy9hqG7J5ms8XH2wrdvfgFHWwdZ+9BlZeDWjF4mazx7T4JL6y6ytk9ERETisOoBK0+bj8G7JuBW5h2TdV91iUTdirVl7+fRvq14tGuD8QKVDfwWaGDj4Ch7H0RERCQOq73I/Zsz36Hjll4mh6tgv4442G+77OFKm5GGm5M7mxyuKvafvTLTfQAACcxJREFUhmpLdnO4KgMXLlxQugWyMGYqFuYpHmYqn9UNWAkPr6Dtpu5Y++cmozV+FSojrs/3OLjkJ9n7Sd+9Ebc/6GN0XeXojKqf7oBz89dk74PMM23aNKVbIAtjpmJhnuJhpvJZzSnCvMI89N85FveyU0zWrXtjKf7lWRMAsHLlSrP3o01Lwe3Z/U3WeA2ZCacmL5m9bSoZOXlS+cZMxcI8xcNM5bOKASu7IAddvjN+NAkARjYdgH4BPZ96zdyfl6bFrEHmfzRG19Xu3qj8wQaobO3M2i5ZBn8uLB5mKhbmKR5mKp9VDFg/JPxodK26qx/Wd10Oe7X8oafwwR3c+XiwyRqvkR/BqeELsvdBREREzw6rGLB0Rm7Vtf6NZajtWaNE2079bjmyftttdN3WtxoqTV8NlVpdov0QERHRs8MqLnIPrdcVTX0bwUb133bHBA7GwX7bixyuFi5caHSt4H4ybk7ubHK48h67AJXfX8vhqpwwlSdZJ2YqFuYpHmYqn1UcwXKxc8ayDvOQry0w61Rgdna2wdcffrMQ2ScOGH2fXfU68J2yDCobq5g/nxnG8iTrxUzFwjzFw0zlE+pROUUpuH0NdxeONlnjM3ExHGoFlE1DREREZPWEfVROUSRJwoN1c5B75nejNfa1n4fP+EVQqVRl2BkRERGJSPgBK//GJdxbPMFkje/U5bD3r1tGHREREZHohL3ISJIk3Fo61eRw5RjQElWX7OFwZSVSUkzfZJasDzMVC/MUDzOVT8gBK+/aeSRP6QLdtXNGa3ynfQ7vEXN4StCKDB06VOkWyMKYqViYp3iYqXxCnSKUdDrcWzoFBdcvGq1xCmwLr0HvlWFXZCmzZ89WugWyMGYqFuYpHmYqnzADVt7l07i/0vRDKSu99xXsKlUvo47I0pT69SmVHmYqFuYpHmYqn9UPWJJOi7uLxqDwznWjNc4tO6JixNQy7IqIiIieZVY9YOWeP46U1TNN1lSeuQG23lXKqCMiIiIiK73IXdIW4vacgSaHqwovB+On53txuBLIunXrlG6BLIyZioV5ioeZymd1A1bOX0eQ/FY3aFPvGa2pPOsbeISNRXx8fBl2RqWNeYqHmYqFeYqHmcpnFY/K0Wg0mDd3Hv79ggc8HY0/i9C1fTjc3+RPSomIiKjsWOWjcjQaDfqF98Kl8R1M1lX5aDPUbhXLqCsiIiIi48r9KcI5H8/D4E7tja67vTEQ1ZbGWu1wpdFo0CQwCE7OLmgSGASNRqN0S0RERFRC5X7ASrh4AQ6VahtcqzJ3K9w69i3jjixHo9EgLCwMfxV4IbfbbPxV4IWwsDAOWURERFau3A9YdevVx8b4RPzlWOvJax8n6NDtUArUFdxNvjc4OLi02yuROR/PgyqgA6SJu4AOkyFN3AVVw9fx0dz5SrdWLpX3PMl8zFQszFM8zFS+cn8N1qwPZiAsLAxdCyS4NWqHR2cOQDq3r1hHecaPH18GHcqXcPECpG6zgcfPQ1SpIAV0xMVds5Vsq9wq73mS+ZipWJineJipfOX+CFZoaCiio6PR2CEVeTvnobFDKjQaDUJCQop8b8eOHcugQ/nq1qsP1bm9wOMfckoSVGfjUK9BA2UbK6fKe55kPmYqFuYpHmYqX7k/ggX8d8gKDQ1Vug2Le3x0TrWsK6SAjlCdjYN0bh9m8RosIiIiq1buj2CJ7O9H5xx3zTbr6BwRERGVX0IPWDExMUq3UKTQ0FCcij+OnOwsnIo/zuHKBGvIk8zDTMXCPMXDTOUTesBauHCh0i2QBTFP8TBTsTBP8TBT+YQesHx8fJRugSyIeYqHmYqFeYqHmcon9IBFREREpAQOWEREREQWxgGLiIiIyMLK7D5YOTk5AIDz58+X1S5x9OhRxMfHl9n+qHQxT/EwU7EwT/Ew0+J5PNs8nnUAQCVJj28jXro2bdqE/v37l8WuiIiIiMrct99+i379+gEowwErJSUFP/30E2rUqAEnJ6ey2CURERFRqcvJycG1a9fQqVMneHt7AyjDAYuIiIjoWcGL3ImIiIgsjAMWERERkYUJOWBdvnwZbdq0Qb169dCyZcsy/eUiWV5eXh5CQkJQv359BAYGolOnTkhMTFS6LbKADRs2wMbGBjt27FC6FSqh/Px8TJgwAXXr1kWTJk0wcOBApVuiEti9ezeCgoIQGBiIxo0b4+uvv1a6JatTZrdpKEujRo3C6NGjMWDAAERHR2PQoEE4evSo0m1RCYwaNQqdO3cGAKxatQrDhw/HgQMHFO6KSiIpKQlr165F69atlW6FLGD69OmwsbFBQkICAODevXsKd0QlMWDAAPzyyy8ICAhAUlIS6tevj7CwMLi4uCjdmtUQ7gjW/fv3ceLEiSc/kwwLC8ONGzdw5coVhTsjuRwcHJ4MVwDQqlUrJCUlKdgRlZQkSRg+fDhWrlwJe3t7pduhEsrOzsb69esxb968J6/5+voq2BGVlI2NDVJTUwEA6enp8Pb2hoODg8JdWRfhBqwbN26gSpUqsLH530fz9/fH9evXFeyKLGnZsmXo0aOH0m1QCURGRuLll19GYGCg0q2QBSQmJqJixYqYN28eWrRogbZt22L//v1Kt0UlsGXLFoSEhKBGjRp45ZVXsHHjRtjaCnnSq9TwvxZZlfnz5yMxMRFr1qxRuhWS6ezZs4iOjsahQ4eUboUspLCwEElJSWjUqBE++eQTnDp1Ch06dMC5c+fg4+OjdHtkJq1Wi7lz5yImJgZt2rTB8ePHERwcjDNnzqBixYpKt2c1hDuCVb16ddy+fRs6ne7Ja9evX4e/v7+CXZElfPbZZ4iJiUFsbCwcHR2VbodkOnToEJKSklCnTh3UrFkTv//+O0aOHInVq1cr3RrJ5O/vD7Vajb59+wIAmjZtipo1a+Kvv/5SuDOS49SpU7h9+zbatGkDAGjevDmqVauGkydPKtyZdRFuwPLx8UGzZs3wzTffAAC2bduG6tWro1atWgp3RiURGRmJLVu2YO/evXB1dVW6HSqB0aNHIzk5GVeuXMHVq1fRqlUrrFmzBqNGjVK6NZLJy8sL7du3R2xsLADg6tWruHbtGho0aKBwZyTH4wMVFy5cAPDfX+ZfuXIF9erVU7gz6yLkndwTEhIwePBgPHjwAO7u7tiwYQMCAgKUbotkSk5ORvXq1VG7dm24urpCkiQ4OjriyJEjSrdGFvDaa69h8uTJCA4OVroVKoGrV69i2LBhSElJgVqtxqxZs3itpBXbunUr5s2bB7VaDZ1Oh/fffx+9e/dWui2rIuSARURERKQk4U4REhERESmNAxYRERGRhXHAIiIiIrIwDlhEREREFsYBi4iIiMjC/g/GSUfZqk00PwAAAABJRU5ErkJggg==\" />"
      ]
     },
     "execution_count": 16,
     "metadata": {},
     "output_type": "execute_result"
    }
   ],
   "source": [
    "using DataFrames\n",
    "using GLM\n",
    "data = DataFrame(X=points[:, 1], Y=points[:, 2])\n",
    "result = glm(Y ~ X, data, Normal(), IdentityLink())\n",
    "bLS, aLS = coef(result) \n",
    "\n",
    "fig = plot(points[:, 1], points[:, 2], t=[:scatter], label=\"\")\n",
    "\n",
    "y = [getvalue(a)*points[i, 1] + getvalue(b) for i in 1:size(points,1)]\n",
    "plot!(points[:, 1], y, label=\"Ours\", w=3)\n",
    "\n",
    "y = [aLS*points[i, 1] + bLS for i in 1:size(points,1)]\n",
    "plot!(points[:, 1], y, label=\"LSM\", w=3)\n",
    "\n",
    "fig"
   ]
  },
  {
   "cell_type": "markdown",
   "metadata": {},
   "source": [
    "We can see the curves are similar. The least square method have the characteristic of heavily penalize outliers, so points to far from the mean may have a big influence on regression. Note that we have generated the points randomly, you can rerun the experiments to see possible differences in the results.\n",
    "\n",
    "## A more classical example -- The knapsack problem\n",
    "\n",
    "Let $i \\in I$ be an item with value $v_i$ and volume $c_i$. We want to choose the most valuable subset of items to carry in a knaspack without violating its capacity $C$. Let $x_i \\in \\{0, 1\\}$, $i \\in I$ indicate whether item $i$ is put into the knapsack. The following integer program solver our knapsack problem.\n",
    "\n",
    "$\\displaystyle Max\\ \\sum_{i \\in I} v_i x_i$\n",
    "\n",
    "subject to\n",
    "\n",
    "$\\displaystyle \\sum_{i \\in I} c_i x_i \\leq C,$\n",
    "\n",
    "$x_i \\in \\{0, 1\\}, i \\in I.$\n",
    "\n",
    "We will implement this program using JuMP. First, we need some input data."
   ]
  },
  {
   "cell_type": "code",
   "execution_count": 17,
   "metadata": {
    "collapsed": false
   },
   "outputs": [
    {
     "data": {
      "text/plain": [
       "12"
      ]
     },
     "execution_count": 17,
     "metadata": {},
     "output_type": "execute_result"
    }
   ],
   "source": [
    "v = [3, 1, 4, 6, 2, 7, 2, 4, 7, 9, 5, 7, 3, 1]  # Value of the items.\n",
    "c = [2, 5, 3, 8, 9, 6, 4, 8, 2, 2, 1, 4, 2, 3]  # Volume of the items.\n",
    "n = length(v)  # How many items we have\n",
    "\n",
    "C = 12  # The capacity of our knapsack."
   ]
  },
  {
   "cell_type": "markdown",
   "metadata": {},
   "source": [
    "We do the same as before, create our model."
   ]
  },
  {
   "cell_type": "code",
   "execution_count": 18,
   "metadata": {
    "collapsed": false
   },
   "outputs": [
    {
     "data": {
      "text/latex": [
       "$$ \\begin{alignat*}{1}\\min\\quad & 0\\\\\n",
       "\\text{Subject to} \\quad\\end{alignat*}\n",
       " $$"
      ],
      "text/plain": [
       "Feasibility problem with:\n",
       " * 0 linear constraints\n",
       " * 0 variables\n",
       "Solver is default solver"
      ]
     },
     "execution_count": 18,
     "metadata": {},
     "output_type": "execute_result"
    }
   ],
   "source": [
    "m = Model()"
   ]
  },
  {
   "cell_type": "markdown",
   "metadata": {},
   "source": [
    "As before, we are not going to creating the variables one by one, we will use the following."
   ]
  },
  {
   "cell_type": "code",
   "execution_count": 19,
   "metadata": {
    "collapsed": false
   },
   "outputs": [
    {
     "data": {
      "text/latex": [
       "$$ x_{i} \\in \\{0,1\\} \\quad\\forall i \\in \\{1,2,\\dots,13,14\\} $$"
      ],
      "text/plain": [
       "14-element Array{JuMP.Variable,1}:\n",
       " x[1] \n",
       " x[2] \n",
       " x[3] \n",
       " x[4] \n",
       " x[5] \n",
       " x[6] \n",
       " x[7] \n",
       " x[8] \n",
       " x[9] \n",
       " x[10]\n",
       " x[11]\n",
       " x[12]\n",
       " x[13]\n",
       " x[14]"
      ]
     },
     "execution_count": 19,
     "metadata": {},
     "output_type": "execute_result"
    }
   ],
   "source": [
    "@variable(m, x[i=1:n], Bin)"
   ]
  },
  {
   "cell_type": "markdown",
   "metadata": {},
   "source": [
    "Which is a shortcut for adding the variables <i>x[1]</i> to <i>x[|n|]</i> to the model <i>m</i>. To add the objective function we can use the <i> sum </i> function."
   ]
  },
  {
   "cell_type": "code",
   "execution_count": 20,
   "metadata": {
    "collapsed": false
   },
   "outputs": [
    {
     "data": {
      "text/latex": [
       "$$ 3 x_{1} + x_{2} + 4 x_{3} + 6 x_{4} + 2 x_{5} + 7 x_{6} + 2 x_{7} + 4 x_{8} + 7 x_{9} + 9 x_{10} + 5 x_{11} + 7 x_{12} + 3 x_{13} + x_{14} $$"
      ],
      "text/plain": [
       "3 x[1] + x[2] + 4 x[3] + 6 x[4] + 2 x[5] + 7 x[6] + 2 x[7] + 4 x[8] + 7 x[9] + 9 x[10] + 5 x[11] + 7 x[12] + 3 x[13] + x[14]"
      ]
     },
     "execution_count": 20,
     "metadata": {},
     "output_type": "execute_result"
    }
   ],
   "source": [
    "@objective(m, Max, sum(v[i]*x[i] for i=1:n))"
   ]
  },
  {
   "cell_type": "markdown",
   "metadata": {},
   "source": [
    "It can also be used to create constraints."
   ]
  },
  {
   "cell_type": "code",
   "execution_count": 21,
   "metadata": {
    "collapsed": false
   },
   "outputs": [
    {
     "data": {
      "text/latex": [
       "$$ \\begin{alignat*}{1}\\max\\quad & 3 x_{1} + x_{2} + 4 x_{3} + 6 x_{4} + 2 x_{5} + 7 x_{6} + 2 x_{7} + 4 x_{8} + 7 x_{9} + 9 x_{10} + 5 x_{11} + 7 x_{12} + 3 x_{13} + x_{14}\\\\\n",
       "\\text{Subject to} \\quad & 2 x_{1} + 5 x_{2} + 3 x_{3} + 8 x_{4} + 9 x_{5} + 6 x_{6} + 4 x_{7} + 8 x_{8} + 2 x_{9} + 2 x_{10} + x_{11} + 4 x_{12} + 2 x_{13} + 3 x_{14} \\leq 12\\\\\n",
       " & x_{i} \\in \\{0,1\\} \\quad\\forall i \\in \\{1,2,\\dots,13,14\\}\\\\\n",
       "\\end{alignat*}\n",
       " $$"
      ],
      "text/plain": [
       "Maximization problem with:\n",
       " * 1 linear constraint\n",
       " * 14 variables: 14 binary\n",
       "Solver is default solver"
      ]
     },
     "execution_count": 21,
     "metadata": {},
     "output_type": "execute_result"
    }
   ],
   "source": [
    "@constraint(m, sum(x[i]*c[i] for i=1:n) <= C)\n",
    "\n",
    "m  # Just to print our model."
   ]
  },
  {
   "cell_type": "markdown",
   "metadata": {},
   "source": [
    "And then, we can solve our model."
   ]
  },
  {
   "cell_type": "code",
   "execution_count": 22,
   "metadata": {
    "collapsed": false
   },
   "outputs": [
    {
     "data": {
      "text/plain": [
       ":Optimal"
      ]
     },
     "execution_count": 22,
     "metadata": {},
     "output_type": "execute_result"
    }
   ],
   "source": [
    "solve(m)"
   ]
  },
  {
   "cell_type": "markdown",
   "metadata": {},
   "source": [
    "Finally, we can query for the solution."
   ]
  },
  {
   "cell_type": "code",
   "execution_count": 23,
   "metadata": {
    "collapsed": false
   },
   "outputs": [
    {
     "name": "stdout",
     "output_type": "stream",
     "text": [
      "Take \t Don't take\n",
      "\t 1\n",
      "\t 2\n",
      "3\n",
      "\t 4\n",
      "\t 5\n",
      "\t 6\n",
      "\t 7\n",
      "\t 8\n",
      "9\n",
      "10\n",
      "11\n",
      "12\n",
      "\t 13\n",
      "\t 14\n"
     ]
    }
   ],
   "source": [
    "println(\"Take \\t Don't take\")\n",
    "\n",
    "for i in collect(1:n)\n",
    "    if getvalue(x[i]) >= 0.99\n",
    "        println(\"$i\")\n",
    "    else\n",
    "        println(\"\\t $i\")\n",
    "    end\n",
    "end"
   ]
  },
  {
   "cell_type": "markdown",
   "metadata": {},
   "source": [
    "# Solver callbacks\n",
    "\n",
    "Some solvers enable a setup of user-defined behavior of some of their internal functionalities. This customization is provided as callback functions. Each solver provides its own set of callback function but JuMP can handle few of them. Here, we will see an example of how to use the <i>Lazy Constraints</i> callback that is supported by Gurobi and CPLEX, among others. For the complete list of callbacks JuMP is able to handle see [this link](https://jump.readthedocs.io/en/latest/callbacks.html).\n",
    "\n",
    "As a motivation, we will use the Traveling Salesman Problem (TSP). The TSP consists of finding the least cost route to visit the nodes in a graph exactly once. Let $c_{ij}$ be the distance between nodes $i$ and $j \\in V$. Then, binary variables $x_{ij}, i, j \\in V, i \\neq j$ indicate whether the route uses the edge $(i, j)$. Thus, the objective function of the problem is:\n",
    "\n",
    "$$Min \\ \\sum_{i \\in V} \\sum_{j \\in V} c_{ij} x_{ij},$$\n",
    "\n",
    "in which $c_{ij}$ are the distance (cost) of going from city $i$ to $j$. Two sets of constraints for the problem are:\n",
    "\n",
    "$$\\sum_{i \\in V} x_{ij} = 1, \\quad j \\in V,$$\n",
    "\n",
    "$$\\sum_{j \\in V} x_{ij} = 1, \\quad i \\in V.$$\n",
    "These constraints tell that each node is visited exactly once. We also need to prevent solutions with sub-cycles, this can be done with:\n",
    "\n",
    "$$\\sum_{(i, j) \\in C} x_{ij} \\leq |C| - 1, \\quad C \\subset V.$$\n",
    "\n",
    "Note that we have a constraint for each subset of the nodes, which give a number of constraints that is exponential on the number of nodes. Adding all these constraints <i>a priori</i> to our model could make it too big to be solvable. So we are going to use the Lazy Constraints callback.\n",
    "\n",
    "To implement it, first, we will generate some data and use the Graphs and Gurobi libraries. To install them, we can use:"
   ]
  },
  {
   "cell_type": "code",
   "execution_count": 1,
   "metadata": {
    "collapsed": false
   },
   "outputs": [
    {
     "name": "stderr",
     "output_type": "stream",
     "text": [
      "\u001b[1m\u001b[34mINFO: Nothing to be done\n",
      "\u001b[0m\u001b[1m\u001b[34mINFO: METADATA is out-of-date — you may not have the latest version of Graphs\n",
      "\u001b[0m\u001b[1m\u001b[34mINFO: Use `Pkg.update()` to get the latest versions of your packages\n",
      "\u001b[0m\u001b[1m\u001b[34mINFO: Nothing to be done\n",
      "\u001b[0m\u001b[1m\u001b[34mINFO: METADATA is out-of-date — you may not have the latest version of Gurobi\n",
      "\u001b[0m\u001b[1m\u001b[34mINFO: Use `Pkg.update()` to get the latest versions of your packages\n",
      "\u001b[0m"
     ]
    }
   ],
   "source": [
    "Pkg.add(\"Graphs\");\n",
    "Pkg.add(\"Gurobi\");"
   ]
  },
  {
   "cell_type": "markdown",
   "metadata": {},
   "source": [
    "Generating the data:"
   ]
  },
  {
   "cell_type": "code",
   "execution_count": 2,
   "metadata": {
    "collapsed": false
   },
   "outputs": [
    {
     "name": "stderr",
     "output_type": "stream",
     "text": [
      "WARNING: Method definition (::Type{Graphs.KeyVertex})(Int64, #K<:Any) in module Graphs at /home/pedro/.julia/v0.5/Graphs/src/common.jl:12 overwritten at /home/pedro/.julia/v0.5/Graphs/src/common.jl:16.\n",
      "WARNING: Method definition (::Type{Graphs.Edge})(Int64, #V<:Any, #V<:Any) in module Graphs at /home/pedro/.julia/v0.5/Graphs/src/common.jl:54 overwritten at /home/pedro/.julia/v0.5/Graphs/src/common.jl:60.\n",
      "WARNING: Method definition (::Type{Graphs.ExEdge})(Int64, #V<:Any, #V<:Any, Base.Dict{String, Any}) in module Graphs at /home/pedro/.julia/v0.5/Graphs/src/common.jl:72 overwritten at /home/pedro/.julia/v0.5/Graphs/src/common.jl:83.\n",
      "WARNING: Method definition (::Type{Graphs.TargetIterator})(#G<:Graphs.AbstractGraph, #EList<:Any) in module Graphs at /home/pedro/.julia/v0.5/Graphs/src/common.jl:123 overwritten at /home/pedro/.julia/v0.5/Graphs/src/common.jl:127.\n",
      "WARNING: Method definition (::Type{Graphs.SourceIterator})(#G<:Graphs.AbstractGraph, #EList<:Any) in module Graphs at /home/pedro/.julia/v0.5/Graphs/src/common.jl:141 overwritten at /home/pedro/.julia/v0.5/Graphs/src/common.jl:145.\n",
      "WARNING: Method definition edge_property_requirement(Graphs.AbstractEdgePropertyInspector{#T<:Any}, Graphs.AbstractGraph{#V<:Any, E<:Any}) in module Graphs at /home/pedro/.julia/v0.5/Graphs/src/common.jl:164 overwritten at /home/pedro/.julia/v0.5/Graphs/src/common.jl:179.\n",
      "WARNING: Method definition vertex_index(#V<:Union{Graphs.KeyVertex, Graphs.ExVertex}, Graphs.GenericGraph{#V<:Union{Graphs.KeyVertex, Graphs.ExVertex}, E<:Any, VList<:Any, EList<:Any, IncList<:Any}) in module Graphs at /home/pedro/.julia/v0.5/Graphs/src/graph.jl:65 overwritten at /home/pedro/.julia/v0.5/Graphs/src/graph.jl:67.\n",
      "WARNING: Method definition (::Type{Graphs.GDistanceVisitor})(#G<:Graphs.AbstractGraph, #DMap<:Any) in module Graphs at /home/pedro/.julia/v0.5/Graphs/src/breadth_first_visit.jl:107 overwritten at /home/pedro/.julia/v0.5/Graphs/src/breadth_first_visit.jl:111.\n"
     ]
    }
   ],
   "source": [
    "using JuMP\n",
    "using Gurobi\n",
    "using Graphs;\n",
    "\n",
    "nCities = 9  # Number of cities\n",
    "\n",
    "dist = zeros(nCities, nCities)\n",
    "\n",
    "citiesPos = Dict{Int, Any}()\n",
    "\n",
    "# Position of each city\n",
    "citiesPos[1] = (0, 0)\n",
    "citiesPos[2] = (10, 0)\n",
    "citiesPos[3] = (20, 0)\n",
    "\n",
    "citiesPos[4] = (0, 10)\n",
    "citiesPos[5] = (10, 10) \n",
    "citiesPos[6] = (20, 10)\n",
    "\n",
    "citiesPos[7] = (0, 20)\n",
    "citiesPos[8] = (10, 20)\n",
    "citiesPos[9] = (20, 20)\n",
    "\n",
    "for (i, posI) in citiesPos\n",
    "    for (j, posJ) in citiesPos\n",
    "        dist[i, j] = ((posI[1] - posJ[1])^2 + (posI[2] - posJ[2])^2)^0.5\n",
    "    end \n",
    "end\n",
    "\n",
    "# Plotting the nodes of the graph:\n",
    "g = simple_graph(nCities, is_directed=true)\n",
    "Graphs.plot(g)"
   ]
  },
  {
   "cell_type": "markdown",
   "metadata": {},
   "source": [
    "Now, we implement the method that will tell whether a solution found by the solver has a sub-cycle. The function must receive a parameter which is the callback handler. Then, we get the solution found and try to find its sub-cycles. We also must use the <i>@lazyconstraint</i> macro to actually add the constraint to the model and re-optimize."
   ]
  },
  {
   "cell_type": "code",
   "execution_count": 3,
   "metadata": {
    "collapsed": false
   },
   "outputs": [
    {
     "data": {
      "text/plain": [
       "subtourElimConstraint (generic function with 1 method)"
      ]
     },
     "execution_count": 3,
     "metadata": {},
     "output_type": "execute_result"
    }
   ],
   "source": [
    "function subtourElimConstraint(cb)\n",
    "\n",
    "    # Creating a graph:\n",
    "    g = simple_graph(nCities, is_directed=true)\n",
    "\n",
    "    for i in 1:nCities, j in 1:nCities\n",
    "        if i != j\n",
    "            if getvalue(x[i, j]) > 0.99\n",
    "                add_edge!(g, i, j)  # Populating the graph.\n",
    "            end\n",
    "        end\n",
    "    end\n",
    "    \n",
    "    # Plot it, so we can see the graph:\n",
    "    Graphs.plot(g)\n",
    "    \n",
    "    nodes = vertices(g)\n",
    "    \n",
    "    # The idea is to walk through the edges and check how many edges\n",
    "    # we have to hop to reach the origin. This number will tell us if\n",
    "    # we are walking on a sub-cycle. If that is the case, we add the \n",
    "    # corresponding constraint to the model.\n",
    "    # We repeat this procedure starting at an unvisited node for finding\n",
    "    # multiple sub-cycles.\n",
    "    \n",
    "    visited = []\n",
    "    for n in nodes\n",
    "\n",
    "        if n in visited\n",
    "            continue\n",
    "        end\n",
    "\n",
    "        pivot = n  # Starting node\n",
    "        out = out_edges(pivot, g)[1]\n",
    "        outNode = target(out, g)\n",
    "        append!(visited, [pivot, outNode])\n",
    "\n",
    "        subtourConstraint = AffExpr()\n",
    "        subtourConstraint += x[pivot, outNode]\n",
    "        tourSize = 1\n",
    "\n",
    "        # While we don't get to the origin, keep hoping...\n",
    "        while(pivot != outNode)\n",
    "            out = out_edges(outNode, g)[1]\n",
    "            newOut = target(out, g)\n",
    "\n",
    "            subtourConstraint += x[outNode, newOut]\n",
    "            tourSize += 1\n",
    "            push!(visited, outNode)\n",
    "            outNode = newOut\n",
    "        end\n",
    "\n",
    "        # If we have traversed the whole graph:\n",
    "        if tourSize == num_vertices(g)\n",
    "            return\n",
    "        else\n",
    "            # This is the constraint we will add:\n",
    "            println(subtourConstraint, \" <= \", tourSize - 1)\n",
    "        end\n",
    "        \n",
    "        # Using the @lazyconstraint macro\n",
    "        @lazyconstraint(cb, subtourConstraint <= tourSize - 1)        \n",
    "    end\n",
    "    \n",
    "end"
   ]
  },
  {
   "cell_type": "markdown",
   "metadata": {},
   "source": [
    "We have the method that will add constraints as we need them. Let us check how this works on the model implementation. We begin as usual, defining model, variables, the objective function and constraints..."
   ]
  },
  {
   "cell_type": "code",
   "execution_count": 4,
   "metadata": {
    "collapsed": false
   },
   "outputs": [],
   "source": [
    "model = Model(solver=GurobiSolver(TimeLimit=20, Threads=1))\n",
    "\n",
    "@variable(model, x[i=1:nCities, j=1:nCities; i != j], Bin)\n",
    "\n",
    "@objective(model, Min, sum(dist[i, j] * x[i, j] for i in 1:nCities, j in 1:nCities if i != j));\n",
    "\n",
    "for i in 1:nCities\n",
    "    @constraint(model, sum(x[i, j] for j in 1:nCities if i != j) == 1)\n",
    "end \n",
    "        \n",
    "for j in 1:nCities\n",
    "    @constraint(model, sum(x[i, j] for i in 1:nCities if i != j) == 1)\n",
    "end"
   ]
  },
  {
   "cell_type": "markdown",
   "metadata": {},
   "source": [
    "Then, before solving, we need to tell that we will be using the callback and which is the function with the customized behavior."
   ]
  },
  {
   "cell_type": "code",
   "execution_count": 5,
   "metadata": {
    "collapsed": false
   },
   "outputs": [
    {
     "name": "stdout",
     "output_type": "stream",
     "text": [
      "Optimize a model with 18 rows, 72 columns and 144 nonzeros\n",
      "Variable types: 0 continuous, 72 integer (72 binary)\n",
      "Coefficient statistics:\n",
      "  Matrix range     [1e+00, 1e+00]\n",
      "  Objective range  [1e+01, 3e+01]\n",
      "  Bounds range     [1e+00, 1e+00]\n",
      "  RHS range        [1e+00, 1e+00]\n",
      "x[1,9] + x[9,2] + x[2,4] + x[4,6] + x[6,7] + x[7,3] + x[3,1] <= 6\n",
      "x[5,8] + x[8,5] <= 1\n",
      "Presolve time: 0.00s\n",
      "Presolved: 18 rows, 72 columns, 144 nonzeros\n",
      "Variable types: 0 continuous, 72 integer (72 binary)\n",
      "x[1,2] + x[2,1] <= 1\n",
      "x[3,5] + x[5,6] + x[6,3] <= 2\n",
      "x[4,7] + x[7,4] <= 1\n",
      "x[8,9] + x[9,8] <= 1\n",
      "x[1,9] + x[9,1] <= 1\n",
      "x[2,8] + x[8,2] <= 1\n",
      "x[3,7] + x[7,3] <= 1\n",
      "x[4,5] + x[5,6] + x[6,4] <= 2\n",
      "\n",
      "Root relaxation: objective 9.414214e+01, 17 iterations, 0.00 seconds\n",
      "x[1,5] + x[5,4] + x[4,1] <= 2\n",
      "x[2,3] + x[3,2] <= 1\n",
      "x[6,9] + x[9,6] <= 1\n",
      "x[7,8] + x[8,7] <= 1\n",
      "\n",
      "    Nodes    |    Current Node    |     Objective Bounds      |     Work\n",
      " Expl Unexpl |  Obj  Depth IntInf | Incumbent    BestBd   Gap | It/Node Time\n",
      "\n",
      "*    0     0               0      94.1421356   94.14214  0.00%     -    1s\n",
      "\n",
      "Cutting planes:\n",
      "  Lazy constraints: 12\n",
      "\n",
      "Explored 0 nodes (24 simplex iterations) in 1.07 seconds\n",
      "Thread count was 1 (of 4 available processors)\n",
      "\n",
      "Solution count 1: 94.1421 \n",
      "Pool objective bound 94.1421\n",
      "\n",
      "Optimal solution found (tolerance 1.00e-04)\n",
      "Best objective 9.414213562373e+01, best bound 9.414213562373e+01, gap 0.0000%\n"
     ]
    },
    {
     "data": {
      "text/plain": [
       ":Optimal"
      ]
     },
     "execution_count": 5,
     "metadata": {},
     "output_type": "execute_result"
    }
   ],
   "source": [
    "addlazycallback(model, subtourElimConstraint)\n",
    "\n",
    "# And the, solving:\n",
    "solve(model)"
   ]
  },
  {
   "cell_type": "markdown",
   "metadata": {},
   "source": [
    "To check the final solution, we can proceed as follows."
   ]
  },
  {
   "cell_type": "code",
   "execution_count": 6,
   "metadata": {
    "collapsed": false
   },
   "outputs": [],
   "source": [
    "# Creating a graph:\n",
    "g = simple_graph(nCities, is_directed=true)\n",
    "\n",
    "for i in 1:nCities, j in 1:nCities\n",
    "    if i != j\n",
    "        if getvalue(x[i, j]) > 0.99\n",
    "            add_edge!(g, i, j)  # Populating the graph.\n",
    "        end\n",
    "    end\n",
    "end\n",
    "\n",
    "# Plot it, so we can see the graph:\n",
    "Graphs.plot(g)"
   ]
  },
  {
   "cell_type": "markdown",
   "metadata": {},
   "source": [
    "Note that the graph library we are using do not plot the nodes in their exact positions. You can draw them to check if it makes sense.\n",
    "\n",
    "In this Notebook, we have explored the basics of JuMP regarding mixed integer linear programming and the lazy constraint callback. For a more detailed exposition the reader is referred to [JuMP documentation](https://jump.readthedocs.io/en/latest/).\n",
    "\n",
    "Hope you had fun! (="
   ]
  }
 ],
 "metadata": {
  "kernelspec": {
   "display_name": "Julia 0.5.0",
   "language": "julia",
   "name": "julia-0.5"
  },
  "language_info": {
   "file_extension": ".jl",
   "mimetype": "application/julia",
   "name": "julia",
   "version": "0.5.0"
  }
 },
 "nbformat": 4,
 "nbformat_minor": 1
}
