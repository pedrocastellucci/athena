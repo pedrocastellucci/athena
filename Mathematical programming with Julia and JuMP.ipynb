{
 "cells": [
  {
   "cell_type": "markdown",
   "metadata": {},
   "source": [
    "# Solving mixed integer programs with Julia/JuMP\n",
    "\n",
    "<i>Copyright 2016, Pedro Belin Castellucci,\n",
    "\n",
    "This work is licensed under a <a rel=\"license\" href=\"http://creativecommons.org/licenses/by/4.0/\">Creative Commons Attribution 4.0 International License</a>.</i>\n",
    "\n",
    "\n",
    "In this Notebook, we will explore some basics of the JuMP modeling language. Although it is a modeling language, it enables the usage of different solvers. By ways of an example, we will use [Clp](https://projects.coin-or.org/Clp)\n",
    "-- a complete list of supported solvers and JuMP documentation can be found at this [link](https://jump.readthedocs.io/en/latest/). Also, JuMP support linear programming, mixed-integer programming, second-order conic programming, semidefinite programming, and nonlinear programming, but we will focus on linear and integer programming here.\n",
    "\n",
    "The first step is to install JuMP."
   ]
  },
  {
   "cell_type": "code",
   "execution_count": null,
   "metadata": {
    "collapsed": true
   },
   "outputs": [],
   "source": [
    "Pkg.add(\"JuMP\")"
   ]
  },
  {
   "cell_type": "markdown",
   "metadata": {},
   "source": [
    "We can also install Clp in the same way."
   ]
  },
  {
   "cell_type": "code",
   "execution_count": 2,
   "metadata": {
    "collapsed": false
   },
   "outputs": [
    {
     "name": "stderr",
     "output_type": "stream",
     "text": [
      "INFO: Cloning cache of Clp from https://github.com/JuliaOpt/Clp.jl.git\n",
      "INFO: Installing Clp v0.3.0\n",
      "INFO: Building Cbc\n",
      "INFO: Package database updated\n",
      "INFO: METADATA is out-of-date — you may not have the latest version of Clp\n",
      "INFO: Use `Pkg.update()` to get the latest versions of your packages\n"
     ]
    }
   ],
   "source": [
    "Pkg.add(\"Clp\");"
   ]
  },
  {
   "cell_type": "markdown",
   "metadata": {},
   "source": [
    "To get a feeling of JuMP basic function we will implement the following model:\n",
    "\n",
    "$Max\\ x + y$\n",
    "\n",
    "subject to:\n",
    "\n",
    "$2x + 4y <= 10,$\n",
    "\n",
    "$2x + 2y <= 10.$\n",
    "\n",
    "We begin by creating a Model object."
   ]
  },
  {
   "cell_type": "code",
   "execution_count": 5,
   "metadata": {
    "collapsed": false
   },
   "outputs": [
    {
     "name": "stderr",
     "output_type": "stream",
     "text": [
      "INFO: Precompiling module Clp.\n"
     ]
    },
    {
     "data": {
      "text/latex": [
       "$$ \\begin{alignat*}{1}\\min\\quad & 0\\\\\n",
       "\\text{Subject to} \\quad\\end{alignat*}\n",
       " $$"
      ],
      "text/plain": [
       "Feasibility problem with:\n",
       " * 0 linear constraints\n",
       " * 0 variables\n",
       "Solver is default solver"
      ]
     },
     "execution_count": 5,
     "metadata": {},
     "output_type": "execute_result"
    }
   ],
   "source": [
    "using JuMP  # Tell that we are using the JuMP library\n",
    "using Clp   # Tell that we are using the Clp solver\n",
    "\n",
    "m = Model()"
   ]
  },
  {
   "cell_type": "markdown",
   "metadata": {},
   "source": [
    "The second step is to define the variables. Their are associated with the model and can created using the <i>@variable</i> macro."
   ]
  },
  {
   "cell_type": "code",
   "execution_count": 6,
   "metadata": {
    "collapsed": false
   },
   "outputs": [
    {
     "data": {
      "text/latex": [
       "$$ y $$"
      ],
      "text/plain": [
       "y"
      ]
     },
     "execution_count": 6,
     "metadata": {},
     "output_type": "execute_result"
    }
   ],
   "source": [
    "@variable(m, x)\n",
    "@variable(m, y)"
   ]
  },
  {
   "cell_type": "markdown",
   "metadata": {},
   "source": [
    "Then, the objective function."
   ]
  },
  {
   "cell_type": "code",
   "execution_count": 7,
   "metadata": {
    "collapsed": false
   },
   "outputs": [
    {
     "data": {
      "text/latex": [
       "$$ x + y $$"
      ],
      "text/plain": [
       "x + y"
      ]
     },
     "execution_count": 7,
     "metadata": {},
     "output_type": "execute_result"
    }
   ],
   "source": [
    "@objective(m, Max, x + y)"
   ]
  },
  {
   "cell_type": "markdown",
   "metadata": {},
   "source": [
    "Finally, the constraints."
   ]
  },
  {
   "cell_type": "code",
   "execution_count": null,
   "metadata": {
    "collapsed": true
   },
   "outputs": [],
   "source": [
    "@constraint(m, 2x + 3y <= 10)\n",
    "@constraint(m, 3x + 2y <= 10)\n",
    "\n",
    "m  # Just to diplay our model"
   ]
  },
  {
   "cell_type": "markdown",
   "metadata": {},
   "source": [
    "Now that we have completely defined our model, we may want to solve it."
   ]
  },
  {
   "cell_type": "code",
   "execution_count": 8,
   "metadata": {
    "collapsed": false
   },
   "outputs": [
    {
     "name": "stderr",
     "output_type": "stream",
     "text": [
      "WARNING: Not solved to optimality, status: Unbounded\n",
      "WARNING: Unbounded ray not available\n"
     ]
    },
    {
     "data": {
      "text/plain": [
       ":Unbounded"
      ]
     },
     "execution_count": 8,
     "metadata": {},
     "output_type": "execute_result"
    }
   ],
   "source": [
    "solve(m)"
   ]
  },
  {
   "cell_type": "markdown",
   "metadata": {},
   "source": [
    "The solve function returns the status of the solving procedure. We can query for the solution and variable values using <i>getobjectivevalue</i> and <i>getvalue</i> functions."
   ]
  },
  {
   "cell_type": "code",
   "execution_count": 9,
   "metadata": {
    "collapsed": false
   },
   "outputs": [
    {
     "name": "stdout",
     "output_type": "stream",
     "text": [
      "Objective function = NaN\n",
      "x = NaN\n",
      "y = NaN\n"
     ]
    },
    {
     "name": "stderr",
     "output_type": "stream",
     "text": [
      "WARNING: Variable value not defined for x. Check that the model was properly solved.\n",
      "WARNING: Variable value not defined for y. Check that the model was properly solved.\n"
     ]
    }
   ],
   "source": [
    "println(\"Objective function = \", getobjectivevalue(m))\n",
    "\n",
    "println(\"x = \", getvalue(x))\n",
    "println(\"y = \", getvalue(y))"
   ]
  },
  {
   "cell_type": "markdown",
   "metadata": {},
   "source": [
    "## The least absolute method\n",
    "\n",
    "In this example, let us assume we have some experimental data and want to fit a linear model to it. Perhaps, the most famous method to accomplish this is to use the Least Square Method, which finds the linear model that minimizes the squared error, i. e. the distance from data points to the model. Instead of minimizing the square error, we will minimize the absolute error. More formally, we have experimental points $(x_i, y_i)$, $i = 1, \\ldots, n$ and we want the parameters $(a, b)$ of a function $f(x) = ax + b$ such that:\n",
    "\n",
    "$$\\sum_{i=1}^n |f(x_i) - y_i|$$\n",
    "\n",
    "is minimized. We can formulate a linear programming model of the problem using $a$ and $b$ as decision variables:\n",
    "\n",
    "$\\displaystyle Min\\ \\sum_{i=1}^n\\epsilon_i$,\n",
    "\n",
    "subject to:\n",
    "\n",
    "$\\displaystyle y_i - a x_i - b \\leq \\epsilon_i, \\quad i=1, \\ldots, n$,\n",
    "\n",
    "$\\displaystyle - (y_i - a x_i - b) \\leq \\epsilon_i, \\quad i=1, \\ldots, n$ .\n",
    "\n",
    "To test it, let us generate some data."
   ]
  },
  {
   "cell_type": "code",
   "execution_count": 10,
   "metadata": {
    "collapsed": false
   },
   "outputs": [
    {
     "name": "stdout",
     "output_type": "stream",
     "text": [
      "\n"
     ]
    },
    {
     "data": {
      "text/plain": [
       "10×2 Array{Float64,2}:\n",
       "  0.0858363   0.106553\n",
       "  2.94934     1.55284 \n",
       "  2.24231     2.84707 \n",
       "  5.23721     5.22734 \n",
       "  6.79298     6.26833 \n",
       "  5.46946     6.86409 \n",
       "  8.82958     6.69228 \n",
       "  8.55734     7.82183 \n",
       "  9.83927    10.3502  \n",
       " 11.183      11.4955  "
      ]
     },
     "execution_count": 10,
     "metadata": {},
     "output_type": "execute_result"
    }
   ],
   "source": [
    "n = 10  # We will use 10 points\n",
    "\n",
    "points = Array{Float64, Float64}[]\n",
    "points = zeros(0, 2)\n",
    "\n",
    "println(points)\n",
    "for i=1:n\n",
    "    \n",
    "    # They are generated around the curve f(x) = x\n",
    "    xRand = rand()*3 - 1\n",
    "    yRand = rand()*3 - 1\n",
    "\n",
    "    x, y = i + xRand, i + yRand\n",
    "    points = [points; x y]\n",
    "end\n",
    "\n",
    "points"
   ]
  },
  {
   "cell_type": "markdown",
   "metadata": {},
   "source": [
    "To get a sense of the data, let us scatter plot it. For that, we are going to use the <i>PyPlot</i> library."
   ]
  },
  {
   "cell_type": "code",
   "execution_count": null,
   "metadata": {
    "collapsed": true
   },
   "outputs": [],
   "source": [
    "Pkg.add(\"PyPlot\")"
   ]
  },
  {
   "cell_type": "markdown",
   "metadata": {},
   "source": [
    "And then, we plot the points one by one."
   ]
  },
  {
   "cell_type": "code",
   "execution_count": null,
   "metadata": {
    "collapsed": true
   },
   "outputs": [],
   "source": [
    "using PyPlot\n",
    "\n",
    "grid(\"on\")\n",
    "\n",
    "for j in 1:size(points,1)\n",
    "    xp, yp = points[j, :]\n",
    "    scatter(xp, yp)\n",
    "end"
   ]
  },
  {
   "cell_type": "markdown",
   "metadata": {},
   "source": [
    "Now, we implement the model presented earlier."
   ]
  },
  {
   "cell_type": "code",
   "execution_count": null,
   "metadata": {
    "collapsed": true
   },
   "outputs": [],
   "source": [
    "using JuMP\n",
    "\n",
    "m = Model()  # Creating the model object\n",
    "\n",
    "# Defining the variables:\n",
    "@variable(m, err[1:n])  # error (epsilon)\n",
    "@variable(m, a)  # angular coefficient\n",
    "@variable(m, b)  # linear coefficient\n",
    "\n",
    "@objective(m, Min, sum(err[i] for i in 1:n))\n",
    "\n",
    "for i in 1:n\n",
    "    @constraint(m, points[i, 2] - a*points[i, 1] - b <= err[i])\n",
    "    @constraint(m, - (points[i, 2] - a*points[i, 1] - b) <= err[i])\n",
    "end\n",
    "\n",
    "m"
   ]
  },
  {
   "cell_type": "markdown",
   "metadata": {},
   "source": [
    "We want to solve the model and get the values of $a$ and $b$."
   ]
  },
  {
   "cell_type": "code",
   "execution_count": null,
   "metadata": {
    "collapsed": true
   },
   "outputs": [],
   "source": [
    "println(\"We have obtained an $(solve(m)) solution.\")\n",
    "println(\"a = $(getvalue(a))\")\n",
    "println(\"b = $(getvalue(b))\")"
   ]
  },
  {
   "cell_type": "markdown",
   "metadata": {},
   "source": [
    "Let us plot the solution to see the result."
   ]
  },
  {
   "cell_type": "code",
   "execution_count": null,
   "metadata": {
    "collapsed": true
   },
   "outputs": [],
   "source": [
    "for j in 1:size(points,1)\n",
    "    xp, yp = points[j, :]\n",
    "    scatter(xp, yp)\n",
    "end\n",
    "\n",
    "y = [getvalue(a)*points[i, 1] + getvalue(b) for i in 1:size(points,1)]\n",
    "plot(points[:, 1], y)"
   ]
  },
  {
   "cell_type": "markdown",
   "metadata": {},
   "source": [
    "Out of curiosity, we can compare our result with a standard Least Square regression. For this, we can use the GLM and DataFrames packages."
   ]
  },
  {
   "cell_type": "code",
   "execution_count": null,
   "metadata": {
    "collapsed": true
   },
   "outputs": [],
   "source": [
    "Pkg.add(\"GLM\")\n",
    "Pkg.add(\"DataFrames\")"
   ]
  },
  {
   "cell_type": "code",
   "execution_count": null,
   "metadata": {
    "collapsed": true
   },
   "outputs": [],
   "source": [
    "using DataFrames\n",
    "using GLM\n",
    "data = DataFrame(X=points[:, 1], Y=points[:, 2])\n",
    "result = glm(Y ~ X, data, Normal(), IdentityLink())\n",
    "bLS, aLS = coef(result) \n",
    "\n",
    "for j in 1:size(points,1)\n",
    "    xp, yp = points[j, :]\n",
    "    scatter(xp, yp)\n",
    "end\n",
    "\n",
    "y = [getvalue(a)*points[i, 1] + getvalue(b) for i in 1:size(points,1)]\n",
    "plot(points[:, 1], y)\n",
    "\n",
    "y = [aLS*points[i, 1] + bLS for i in 1:size(points,1)]\n",
    "plot(points[:, 1], y)"
   ]
  },
  {
   "cell_type": "markdown",
   "metadata": {},
   "source": [
    "We can see the curves are similar. The least square method have the characteristic of heavily penalize outliers, so point to far from the mean may have a big influence on regression. Note that we have generated the points randomly, you can rerun the experiments to see possible differences in the results.\n",
    "\n",
    "## A more classical example -- The knapsack problem\n",
    "\n",
    "Let $i \\in I$ be an item with value $v_i$ and volume $c_i$. We want to choose the most valuable subset of items to carry in a knaspack withouth violating its capacity $C$. Let $x_i \\in \\{0, 1\\}$, $i \\in I$ indicate whether item $i$ is put into the knapsack. The following integer program solver our knapsack problem.\n",
    "\n",
    "$\\displaystyle Max\\ \\sum_{i \\in I} v_i x_i$\n",
    "\n",
    "subject to\n",
    "\n",
    "$\\displaystyle \\sum_{i \\in I} c_i x_i \\leq C,$\n",
    "\n",
    "$x_i \\in \\{0, 1\\}, i \\in I.$\n",
    "\n",
    "We will implement this program using JuMP. First, we need some input data."
   ]
  },
  {
   "cell_type": "code",
   "execution_count": null,
   "metadata": {
    "collapsed": true
   },
   "outputs": [],
   "source": [
    "v = [3, 1, 4, 6, 2, 7, 2, 4, 7, 9, 5, 7, 3, 1]  # Value of the items.\n",
    "c = [2, 5, 3, 8, 9, 6, 4, 8, 2, 2, 1, 4, 2, 3]  # Volume of the items.\n",
    "n = length(v)  # How many items we have\n",
    "\n",
    "C = 12  # The capacity of our knapsack."
   ]
  },
  {
   "cell_type": "markdown",
   "metadata": {},
   "source": [
    "We do the same as before, create our model."
   ]
  },
  {
   "cell_type": "code",
   "execution_count": 11,
   "metadata": {
    "collapsed": false
   },
   "outputs": [
    {
     "data": {
      "text/latex": [
       "$$ \\begin{alignat*}{1}\\min\\quad & 0\\\\\n",
       "\\text{Subject to} \\quad\\end{alignat*}\n",
       " $$"
      ],
      "text/plain": [
       "Feasibility problem with:\n",
       " * 0 linear constraints\n",
       " * 0 variables\n",
       "Solver is default solver"
      ]
     },
     "execution_count": 11,
     "metadata": {},
     "output_type": "execute_result"
    }
   ],
   "source": [
    "m = Model()"
   ]
  },
  {
   "cell_type": "markdown",
   "metadata": {},
   "source": [
    "But now, we are not going to creating the variables one by one, instead we will use the following."
   ]
  },
  {
   "cell_type": "code",
   "execution_count": 12,
   "metadata": {
    "collapsed": false
   },
   "outputs": [
    {
     "data": {
      "text/latex": [
       "$$ x_{i} \\in \\{0,1\\} \\quad\\forall i \\in \\{1,2,\\dots,9,10\\} $$"
      ],
      "text/plain": [
       "10-element Array{JuMP.Variable,1}:\n",
       " x[1] \n",
       " x[2] \n",
       " x[3] \n",
       " x[4] \n",
       " x[5] \n",
       " x[6] \n",
       " x[7] \n",
       " x[8] \n",
       " x[9] \n",
       " x[10]"
      ]
     },
     "execution_count": 12,
     "metadata": {},
     "output_type": "execute_result"
    }
   ],
   "source": [
    "@variable(m, x[i=1:n], Bin)"
   ]
  },
  {
   "cell_type": "markdown",
   "metadata": {},
   "source": [
    "Which is a shortcut for adding the variables <i>x[1]</i> to <i>x[|n|]</i> to the model <i>m</i>. To add the objective function we can use the <i> sum </i> function."
   ]
  },
  {
   "cell_type": "code",
   "execution_count": null,
   "metadata": {
    "collapsed": true
   },
   "outputs": [],
   "source": [
    "@objective(m, Max, sum(v[i]*x[i] for i=1:n))"
   ]
  },
  {
   "cell_type": "markdown",
   "metadata": {},
   "source": [
    "It can also be used to create constraints."
   ]
  },
  {
   "cell_type": "code",
   "execution_count": null,
   "metadata": {
    "collapsed": true
   },
   "outputs": [],
   "source": [
    "@constraint(m, sum(x[i]*c[i] for i=1:n) <= C)\n",
    "\n",
    "m  # Just to print our model."
   ]
  },
  {
   "cell_type": "markdown",
   "metadata": {},
   "source": [
    "And then, we can solve our model."
   ]
  },
  {
   "cell_type": "code",
   "execution_count": null,
   "metadata": {
    "collapsed": true
   },
   "outputs": [],
   "source": [
    "solve(m)"
   ]
  },
  {
   "cell_type": "markdown",
   "metadata": {},
   "source": [
    "Finally, we can query for the solution."
   ]
  },
  {
   "cell_type": "code",
   "execution_count": null,
   "metadata": {
    "collapsed": true
   },
   "outputs": [],
   "source": [
    "println(\"Take \\t Don't take\")\n",
    "\n",
    "for i in collect(1:n)\n",
    "    if getvalue(x[i]) >= 0.99\n",
    "        println(\"$i\")\n",
    "    else\n",
    "        println(\"\\t $i\")\n",
    "    end\n",
    "end"
   ]
  },
  {
   "cell_type": "markdown",
   "metadata": {},
   "source": [
    "In this Notebook, we have explored the basics of JuMP regarding mixed integer linear programming. For a more detailed exposition the reader is referred to [JuMP documentation](https://jump.readthedocs.io/en/latest/).\n",
    "\n",
    "Hope you had fun! (="
   ]
  }
 ],
 "metadata": {
  "kernelspec": {
   "display_name": "Julia 0.5.0",
   "language": "julia",
   "name": "julia-0.5"
  },
  "language_info": {
   "file_extension": ".jl",
   "mimetype": "application/julia",
   "name": "julia",
   "version": "0.5.0"
  }
 },
 "nbformat": 4,
 "nbformat_minor": 1
}
