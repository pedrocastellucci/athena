{
 "cells": [
  {
   "cell_type": "markdown",
   "metadata": {},
   "source": [
    "# Solving mixed integer programs with Julia/JuMP\n",
    "\n",
    "<i>Copyright 2016, Pedro Belin Castellucci,\n",
    "\n",
    "This work is licensed under a <a rel=\"license\" href=\"http://creativecommons.org/licenses/by/4.0/\">Creative Commons Attribution 4.0 International License</a>.</i>\n",
    "\n",
    "\n",
    "In this Notebook, we will explore some basics of the JuMP modeling language. Although it is a modeling language, it enables the usage of different solvers. By ways of an example, we will use [Clp](https://projects.coin-or.org/Clp)\n",
    "-- a complete list of supported solvers and JuMP documentation can be found at this [link](https://jump.readthedocs.io/en/latest/). Also, JuMP support linear programming, mixed-integer programming, second-order conic programming, semidefinite programming, and nonlinear programming, but we will focus on linear and integer programming here.\n",
    "\n",
    "The first step is to install JuMP."
   ]
  },
  {
   "cell_type": "code",
   "execution_count": 1,
   "metadata": {
    "collapsed": false
   },
   "outputs": [
    {
     "name": "stderr",
     "output_type": "stream",
     "text": [
      "INFO: Nothing to be done\n",
      "INFO: METADATA is out-of-date — you may not have the latest version of JuMP\n",
      "INFO: Use `Pkg.update()` to get the latest versions of your packages\n"
     ]
    }
   ],
   "source": [
    "Pkg.add(\"JuMP\")"
   ]
  },
  {
   "cell_type": "markdown",
   "metadata": {},
   "source": [
    "We can also install Clp in the same way."
   ]
  },
  {
   "cell_type": "code",
   "execution_count": 2,
   "metadata": {
    "collapsed": false
   },
   "outputs": [
    {
     "name": "stderr",
     "output_type": "stream",
     "text": [
      "INFO: Cloning cache of Cbc from https://github.com/JuliaOpt/Cbc.jl.git\n",
      "INFO: Cloning cache of Clp from https://github.com/JuliaOpt/Clp.jl.git\n",
      "INFO: Installing Cbc v0.2.4\n",
      "INFO: Installing Clp v0.2.2\n",
      "INFO: Building Cbc\n",
      "INFO: Package database updated\n",
      "INFO: METADATA is out-of-date — you may not have the latest version of Clp\n",
      "INFO: Use `Pkg.update()` to get the latest versions of your packages\n"
     ]
    }
   ],
   "source": [
    "Pkg.add(\"Clp\");"
   ]
  },
  {
   "cell_type": "markdown",
   "metadata": {},
   "source": [
    "To get a feeling of JuMP basic function we will implement the following model:\n",
    "\n",
    "$Max\\ x + y$\n",
    "\n",
    "subject to:\n",
    "\n",
    "$2x + 4y \\leq 10,$\n",
    "\n",
    "$2x + 2y \\leq 10.$\n",
    "\n",
    "We begin by creating a Model object."
   ]
  },
  {
   "cell_type": "code",
   "execution_count": 3,
   "metadata": {
    "collapsed": false
   },
   "outputs": [
    {
     "name": "stderr",
     "output_type": "stream",
     "text": [
      "INFO: Recompiling stale cache file /home/juser/.julia/lib/v0.5/DataStructures.ji for module DataStructures.\n",
      "INFO: Recompiling stale cache file /home/juser/.julia/lib/v0.5/JuMP.ji for module JuMP.\n",
      "INFO: Precompiling module Clp.\n"
     ]
    },
    {
     "data": {
      "text/latex": [
       "$$ \\begin{alignat*}{1}\\min\\quad & 0\\\\\n",
       "\\text{Subject to} \\quad\\end{alignat*}\n",
       " $$"
      ],
      "text/plain": [
       "Feasibility problem with:\n",
       " * 0 linear constraints\n",
       " * 0 variables\n",
       "Solver is default solver"
      ]
     },
     "execution_count": 3,
     "metadata": {},
     "output_type": "execute_result"
    }
   ],
   "source": [
    "using JuMP  # Tell that we are using the JuMP library\n",
    "using Clp   # Tell that we are using the Clp solver\n",
    "\n",
    "m = Model()"
   ]
  },
  {
   "cell_type": "markdown",
   "metadata": {},
   "source": [
    "The second step is to define the variables. Their are associated with the model and can created using the <i>@variable</i> macro."
   ]
  },
  {
   "cell_type": "code",
   "execution_count": 4,
   "metadata": {
    "collapsed": false
   },
   "outputs": [
    {
     "data": {
      "text/latex": [
       "$$ y $$"
      ],
      "text/plain": [
       "y"
      ]
     },
     "execution_count": 4,
     "metadata": {},
     "output_type": "execute_result"
    }
   ],
   "source": [
    "@variable(m, x)\n",
    "@variable(m, y)"
   ]
  },
  {
   "cell_type": "markdown",
   "metadata": {},
   "source": [
    "Then, the objective function."
   ]
  },
  {
   "cell_type": "code",
   "execution_count": 5,
   "metadata": {
    "collapsed": false
   },
   "outputs": [
    {
     "data": {
      "text/latex": [
       "$$ x + y $$"
      ],
      "text/plain": [
       "x + y"
      ]
     },
     "execution_count": 5,
     "metadata": {},
     "output_type": "execute_result"
    }
   ],
   "source": [
    "@objective(m, Max, x + y)"
   ]
  },
  {
   "cell_type": "markdown",
   "metadata": {},
   "source": [
    "Finally, the constraints."
   ]
  },
  {
   "cell_type": "code",
   "execution_count": 6,
   "metadata": {
    "collapsed": false
   },
   "outputs": [
    {
     "data": {
      "text/latex": [
       "$$ \\begin{alignat*}{1}\\max\\quad & x + y\\\\\n",
       "\\text{Subject to} \\quad & 2 x + 3 y \\leq 10\\\\\n",
       " & 3 x + 2 y \\leq 10\\\\\n",
       " & x free\\\\\n",
       " & y free\\\\\n",
       "\\end{alignat*}\n",
       " $$"
      ],
      "text/plain": [
       "Maximization problem with:\n",
       " * 2 linear constraints\n",
       " * 2 variables\n",
       "Solver is default solver"
      ]
     },
     "execution_count": 6,
     "metadata": {},
     "output_type": "execute_result"
    }
   ],
   "source": [
    "@constraint(m, 2x + 3y <= 10)\n",
    "@constraint(m, 3x + 2y <= 10)\n",
    "\n",
    "m  # Just to diplay our model"
   ]
  },
  {
   "cell_type": "markdown",
   "metadata": {},
   "source": [
    "Now that we have completely defined our model, we may want to solve it."
   ]
  },
  {
   "cell_type": "code",
   "execution_count": 7,
   "metadata": {
    "collapsed": false
   },
   "outputs": [
    {
     "data": {
      "text/plain": [
       ":Optimal"
      ]
     },
     "execution_count": 7,
     "metadata": {},
     "output_type": "execute_result"
    }
   ],
   "source": [
    "solve(m)"
   ]
  },
  {
   "cell_type": "markdown",
   "metadata": {},
   "source": [
    "The solve function returns the status of the solving procedure. We can query for the solution and variable values using <i>getobjectivevalue</i> and <i>getvalue</i> functions."
   ]
  },
  {
   "cell_type": "code",
   "execution_count": 9,
   "metadata": {
    "collapsed": false
   },
   "outputs": [
    {
     "name": "stdout",
     "output_type": "stream",
     "text": [
      "Objective function = NaN\n",
      "x = NaN\n",
      "y = NaN\n"
     ]
    },
    {
     "name": "stderr",
     "output_type": "stream",
     "text": [
      "WARNING: Variable value not defined for x. Check that the model was properly solved.\n",
      "WARNING: Variable value not defined for y. Check that the model was properly solved.\n"
     ]
    }
   ],
   "source": [
    "println(\"Objective function = \", getobjectivevalue(m))\n",
    "\n",
    "println(\"x = \", getvalue(x))\n",
    "println(\"y = \", getvalue(y))"
   ]
  },
  {
   "cell_type": "markdown",
   "metadata": {},
   "source": [
    "## Exercise\n",
    "\n",
    "Implement and solve the following model:\n",
    "\n",
    "$Min\\ 2x - 3y + z$\n",
    "\n",
    "subject to:\n",
    "\n",
    "$x - y - z = 10,$\n",
    "\n",
    "$3x - 4y + 4z \\geq 25,$\n",
    "\n",
    "$x, y, z \\geq 0.$"
   ]
  },
  {
   "cell_type": "markdown",
   "metadata": {},
   "source": [
    "## The least absolute method\n",
    "\n",
    "In this example, let us assume we have some experimental data and want to fit a linear model to it. Perhaps, the most famous method to accomplish this is to use the Least Square Method, which finds the linear model that minimizes the squared error, i. e. the distance from data points to the model. Instead of minimizing the square error, we will minimize the absolute error. More formally, we have experimental points $(x_i, y_i)$, $i = 1, \\ldots, n$ and we want the parameters $(a, b)$ of a function $f(x) = ax + b$ such that:\n",
    "\n",
    "$$\\sum_{i=1}^n |f(x_i) - y_i|$$\n",
    "\n",
    "is minimized. We can formulate a linear programming model of the problem using $a$ and $b$ as decision variables:\n",
    "\n",
    "$\\displaystyle Min\\ \\sum_{i=1}^n\\epsilon_i$,\n",
    "\n",
    "subject to:\n",
    "\n",
    "$\\displaystyle y_i - a x_i - b \\leq \\epsilon_i, \\quad i=1, \\ldots, n$,\n",
    "\n",
    "$\\displaystyle - (y_i - a x_i - b) \\leq \\epsilon_i, \\quad i=1, \\ldots, n$ .\n",
    "\n",
    "To test it, let us generate some data."
   ]
  },
  {
   "cell_type": "code",
   "execution_count": 10,
   "metadata": {
    "collapsed": false
   },
   "outputs": [
    {
     "name": "stdout",
     "output_type": "stream",
     "text": [
      "\n"
     ]
    },
    {
     "data": {
      "text/plain": [
       "10×2 Array{Float64,2}:\n",
       "  0.66462   1.39885\n",
       "  3.35755   2.55885\n",
       "  2.7481    2.23233\n",
       "  5.62835   5.95145\n",
       "  4.26772   5.46657\n",
       "  7.07984   6.48674\n",
       "  6.73943   7.09982\n",
       "  7.13616   9.67772\n",
       " 10.0345    8.73821\n",
       "  9.2365   10.7758 "
      ]
     },
     "execution_count": 10,
     "metadata": {},
     "output_type": "execute_result"
    }
   ],
   "source": [
    "n = 10  # We will use 10 points\n",
    "\n",
    "points = Array{Float64, Float64}[]\n",
    "points = zeros(0, 2)\n",
    "\n",
    "println(points)\n",
    "for i=1:n\n",
    "    \n",
    "    # They are generated around the curve f(x) = x\n",
    "    xRand = rand()*3 - 1\n",
    "    yRand = rand()*3 - 1\n",
    "\n",
    "    x, y = i + xRand, i + yRand\n",
    "    points = [points; x y]\n",
    "end\n",
    "\n",
    "points"
   ]
  },
  {
   "cell_type": "markdown",
   "metadata": {},
   "source": [
    "To get a sense of the data, let us scatter plot it. For that, we are going to use the [Plots library](https://juliaplots.github.io)."
   ]
  },
  {
   "cell_type": "code",
   "execution_count": 11,
   "metadata": {
    "collapsed": false
   },
   "outputs": [
    {
     "name": "stderr",
     "output_type": "stream",
     "text": [
      "\u001b[1m\u001b[34mINFO: Nothing to be done\n",
      "\u001b[0m"
     ]
    }
   ],
   "source": [
    "Pkg.add(\"Plots\")"
   ]
  },
  {
   "cell_type": "markdown",
   "metadata": {},
   "source": [
    "And then, we do a scatter plot of the points."
   ]
  },
  {
   "cell_type": "code",
   "execution_count": 29,
   "metadata": {
    "collapsed": false
   },
   "outputs": [
    {
     "data": {
      "text/html": [
       "<script src=\"/home/pedro/.julia/v0.5/Plots/src/backends/../../deps/plotly-latest.min.js\"></script>    <div id=\"91728773-d393-4cf9-9c80-d0ed4c1d28c0\" style=\"width:600px;height:400px;\"></div>\n",
       "    <script>\n",
       "    PLOT = document.getElementById('91728773-d393-4cf9-9c80-d0ed4c1d28c0');\n",
       "    Plotly.plot(PLOT, [{\"yaxis\":\"y\",\"y\":[1.3988484883116017,2.558845404091077,2.232326666621516,5.951448458405704,5.466566388576147,6.48673904073469,7.09981892821115,9.677720874731111,8.738205636922448,10.7757618996707],\"showlegend\":false,\"name\":\"\",\"type\":\"scatter\",\"xaxis\":\"x\",\"x\":[0.6646199401711996,3.3575532564158044,2.748098511795548,5.628353675487634,4.267720199493271,7.079842457429017,6.73943119023782,7.136162981385599,10.03450296328613,9.236499088586196],\"mode\":\"markers\",\"marker\":{\"symbol\":\"circle\",\"line\":{\"width\":1,\"color\":\"rgba(0, 0, 0, 1.000)\"},\"size\":8,\"color\":\"rgba(0, 154, 250, 1.000)\"}}], {\"yaxis\":{\"type\":\"-\",\"titlefont\":{\"size\":15,\"color\":\"rgba(0, 0, 0, 1.000)\",\"family\":\"Helvetica\"},\"title\":\"y\",\"tickfont\":{\"size\":11,\"color\":\"rgba(0, 0, 0, 1.000)\",\"family\":\"Helvetica\"},\"ticks\":\"inside\",\"tickmode\":\"array\",\"showgrid\":true,\"tickvals\":[2.0,4.0,6.0,8.0,10.0],\"domain\":[0.07581474190726165,0.9901574803149606],\"ticktext\":[\"2\",\"4\",\"6\",\"8\",\"10\"],\"tickangle\":0,\"zeroline\":false,\"linecolor\":\"rgba(0, 0, 0, 1.000)\",\"tickcolor\":\"rgba(0, 0, 0, 1.000)\",\"anchor\":\"x\"},\"annotations\":[],\"width\":600,\"plot_bgcolor\":\"rgba(255, 255, 255, 1.000)\",\"showlegend\":true,\"legend\":{\"bgcolor\":\"rgba(255, 255, 255, 1.000)\",\"y\":1.0,\"font\":{\"size\":11,\"color\":\"rgba(0, 0, 0, 1.000)\",\"family\":\"Helvetica\"},\"bordercolor\":\"rgba(0, 0, 0, 1.000)\",\"x\":1.0},\"xaxis\":{\"type\":\"-\",\"titlefont\":{\"size\":15,\"color\":\"rgba(0, 0, 0, 1.000)\",\"family\":\"Helvetica\"},\"title\":\"x\",\"tickfont\":{\"size\":11,\"color\":\"rgba(0, 0, 0, 1.000)\",\"family\":\"Helvetica\"},\"ticks\":\"inside\",\"tickmode\":\"array\",\"showgrid\":true,\"tickvals\":[2.0,4.0,6.0,8.0,10.0],\"domain\":[0.061654272382618835,0.9934383202099737],\"ticktext\":[\"2\",\"4\",\"6\",\"8\",\"10\"],\"tickangle\":0,\"zeroline\":false,\"linecolor\":\"rgba(0, 0, 0, 1.000)\",\"tickcolor\":\"rgba(0, 0, 0, 1.000)\",\"anchor\":\"y\"},\"paper_bgcolor\":\"rgba(255, 255, 255, 1.000)\",\"height\":400,\"margin\":{\"r\":0,\"l\":0,\"b\":0,\"t\":20}});\n",
       "    </script>\n"
      ]
     },
     "execution_count": 29,
     "metadata": {},
     "output_type": "execute_result"
    }
   ],
   "source": [
    "using Plots\n",
    "plotly()  # The backend we are using\n",
    "\n",
    "plot(points[:, 1], points[:, 2], t=[:scatter], label=\"\", xlabel='x', ylabel='y')\n"
   ]
  },
  {
   "cell_type": "markdown",
   "metadata": {},
   "source": [
    "Now, we implement the model presented earlier."
   ]
  },
  {
   "cell_type": "code",
   "execution_count": 33,
   "metadata": {
    "collapsed": false
   },
   "outputs": [
    {
     "data": {
      "text/latex": [
       "$$ \\begin{alignat*}{1}\\min\\quad & err_{1} + err_{2} + err_{3} + err_{4} + err_{5} + err_{6} + err_{7} + err_{8} + err_{9} + err_{10}\\\\\n",
       "\\text{Subject to} \\quad & -0.6646199401711996 a - b - err_{1} \\leq -1.3988484883116017\\\\\n",
       " & 0.6646199401711996 a + b - err_{1} \\leq 1.3988484883116017\\\\\n",
       " & -3.3575532564158044 a - b - err_{2} \\leq -2.558845404091077\\\\\n",
       " & 3.3575532564158044 a + b - err_{2} \\leq 2.558845404091077\\\\\n",
       " & -2.748098511795548 a - b - err_{3} \\leq -2.232326666621516\\\\\n",
       " & 2.748098511795548 a + b - err_{3} \\leq 2.232326666621516\\\\\n",
       " & -5.628353675487634 a - b - err_{4} \\leq -5.951448458405704\\\\\n",
       " & 5.628353675487634 a + b - err_{4} \\leq 5.951448458405704\\\\\n",
       " & -4.267720199493271 a - b - err_{5} \\leq -5.466566388576147\\\\\n",
       " & 4.267720199493271 a + b - err_{5} \\leq 5.466566388576147\\\\\n",
       " & -7.079842457429017 a - b - err_{6} \\leq -6.48673904073469\\\\\n",
       " & 7.079842457429017 a + b - err_{6} \\leq 6.48673904073469\\\\\n",
       " & -6.73943119023782 a - b - err_{7} \\leq -7.09981892821115\\\\\n",
       " & 6.73943119023782 a + b - err_{7} \\leq 7.09981892821115\\\\\n",
       " & -7.136162981385599 a - b - err_{8} \\leq -9.677720874731111\\\\\n",
       " & 7.136162981385599 a + b - err_{8} \\leq 9.677720874731111\\\\\n",
       " & -10.03450296328613 a - b - err_{9} \\leq -8.738205636922448\\\\\n",
       " & 10.03450296328613 a + b - err_{9} \\leq 8.738205636922448\\\\\n",
       " & -9.236499088586196 a - b - err_{10} \\leq -10.7757618996707\\\\\n",
       " & 9.236499088586196 a + b - err_{10} \\leq 10.7757618996707\\\\\n",
       " & err_{i} free \\quad\\forall i \\in \\{1,2,\\dots,9,10\\}\\\\\n",
       " & a free\\\\\n",
       " & b free\\\\\n",
       "\\end{alignat*}\n",
       " $$"
      ],
      "text/plain": [
       "Minimization problem with:\n",
       " * 20 linear constraints\n",
       " * 12 variables\n",
       "Solver is default solver"
      ]
     },
     "execution_count": 33,
     "metadata": {},
     "output_type": "execute_result"
    }
   ],
   "source": [
    "using JuMP\n",
    "\n",
    "m = Model()  # Creating the model object\n",
    "\n",
    "# Defining the variables:\n",
    "@variable(m, err[1:n])  # error (epsilon)\n",
    "@variable(m, a)  # angular coefficient\n",
    "@variable(m, b)  # linear coefficient\n",
    "\n",
    "@objective(m, Min, sum(err[i] for i in 1:n))\n",
    "\n",
    "for i in 1:n\n",
    "    @constraint(m, points[i, 2] - a*points[i, 1] - b <= err[i])\n",
    "    @constraint(m, - (points[i, 2] - a*points[i, 1] - b) <= err[i])\n",
    "end\n",
    "\n",
    "m"
   ]
  },
  {
   "cell_type": "markdown",
   "metadata": {},
   "source": [
    "We want to solve the model and get the values of $a$ and $b$."
   ]
  },
  {
   "cell_type": "code",
   "execution_count": 34,
   "metadata": {
    "collapsed": false
   },
   "outputs": [
    {
     "name": "stdout",
     "output_type": "stream",
     "text": [
      "We have obtained an Optimal solution.\n",
      "a = 0.9171724779882611\n",
      "b = 0.7892773708643734\n"
     ]
    }
   ],
   "source": [
    "println(\"We have obtained an $(solve(m)) solution.\")\n",
    "println(\"a = $(getvalue(a))\")\n",
    "println(\"b = $(getvalue(b))\")"
   ]
  },
  {
   "cell_type": "markdown",
   "metadata": {},
   "source": [
    "Let us plot the solution to see the result."
   ]
  },
  {
   "cell_type": "code",
   "execution_count": 39,
   "metadata": {
    "collapsed": false
   },
   "outputs": [
    {
     "data": {
      "text/html": [
       "<script src=\"/home/pedro/.julia/v0.5/Plots/src/backends/../../deps/plotly-latest.min.js\"></script>    <div id=\"92c6bc85-b75e-4ac8-b8a9-7c42e23e5eed\" style=\"width:600px;height:400px;\"></div>\n",
       "    <script>\n",
       "    PLOT = document.getElementById('92c6bc85-b75e-4ac8-b8a9-7c42e23e5eed');\n",
       "    Plotly.plot(PLOT, [{\"yaxis\":\"y\",\"y\":[1.3988484883116017,2.558845404091077,2.232326666621516,5.951448458405704,5.466566388576147,6.48673904073469,7.09981892821115,9.677720874731111,8.738205636922448,10.7757618996707],\"showlegend\":false,\"name\":\"\",\"type\":\"scatter\",\"xaxis\":\"x\",\"x\":[0.6646199401711996,3.3575532564158044,2.748098511795548,5.628353675487634,4.267720199493271,7.079842457429017,6.73943119023782,7.136162981385599,10.03450296328613,9.236499088586196],\"mode\":\"markers\",\"marker\":{\"symbol\":\"circle\",\"line\":{\"width\":1,\"color\":\"rgba(0, 0, 0, 1.000)\"},\"size\":8,\"color\":\"rgba(0, 154, 250, 1.000)\"}},{\"yaxis\":\"y\",\"y\":[1.3988484883116024,3.8687328110288117,3.309757692683749,5.951448458405704,4.703512881594173,7.282714021311044,6.970498175846171,7.3343696558299,9.992647319082062,9.260740127879291],\"showlegend\":false,\"name\":\"\",\"type\":\"scatter\",\"xaxis\":\"x\",\"line\":{\"width\":4,\"dash\":\"solid\",\"color\":\"rgba(227, 111, 71, 1.000)\",\"shape\":\"linear\"},\"x\":[0.6646199401711996,3.3575532564158044,2.748098511795548,5.628353675487634,4.267720199493271,7.079842457429017,6.73943119023782,7.136162981385599,10.03450296328613,9.236499088586196],\"mode\":\"lines\"}], {\"yaxis\":{\"type\":\"-\",\"titlefont\":{\"size\":15,\"color\":\"rgba(0, 0, 0, 1.000)\",\"family\":\"Helvetica\"},\"title\":\"y\",\"tickfont\":{\"size\":11,\"color\":\"rgba(0, 0, 0, 1.000)\",\"family\":\"Helvetica\"},\"ticks\":\"inside\",\"tickmode\":\"array\",\"showgrid\":true,\"tickvals\":[2.0,4.0,6.0,8.0,10.0],\"domain\":[0.07581474190726165,0.9901574803149606],\"ticktext\":[\"2\",\"4\",\"6\",\"8\",\"10\"],\"tickangle\":0,\"zeroline\":false,\"linecolor\":\"rgba(0, 0, 0, 1.000)\",\"tickcolor\":\"rgba(0, 0, 0, 1.000)\",\"anchor\":\"x\"},\"annotations\":[],\"width\":600,\"plot_bgcolor\":\"rgba(255, 255, 255, 1.000)\",\"showlegend\":true,\"legend\":{\"bgcolor\":\"rgba(255, 255, 255, 1.000)\",\"y\":1.0,\"font\":{\"size\":11,\"color\":\"rgba(0, 0, 0, 1.000)\",\"family\":\"Helvetica\"},\"bordercolor\":\"rgba(0, 0, 0, 1.000)\",\"x\":1.0},\"xaxis\":{\"type\":\"-\",\"titlefont\":{\"size\":15,\"color\":\"rgba(0, 0, 0, 1.000)\",\"family\":\"Helvetica\"},\"title\":\"x\",\"tickfont\":{\"size\":11,\"color\":\"rgba(0, 0, 0, 1.000)\",\"family\":\"Helvetica\"},\"ticks\":\"inside\",\"tickmode\":\"array\",\"showgrid\":true,\"tickvals\":[2.0,4.0,6.0,8.0,10.0],\"domain\":[0.061654272382618835,0.9934383202099737],\"ticktext\":[\"2\",\"4\",\"6\",\"8\",\"10\"],\"tickangle\":0,\"zeroline\":false,\"linecolor\":\"rgba(0, 0, 0, 1.000)\",\"tickcolor\":\"rgba(0, 0, 0, 1.000)\",\"anchor\":\"y\"},\"paper_bgcolor\":\"rgba(255, 255, 255, 1.000)\",\"height\":400,\"margin\":{\"r\":0,\"l\":0,\"b\":0,\"t\":20}});\n",
       "    </script>\n"
      ]
     },
     "execution_count": 39,
     "metadata": {},
     "output_type": "execute_result"
    }
   ],
   "source": [
    "fig = plot(points[:, 1], points[:, 2], t=[:scatter], label=\"\")\n",
    "\n",
    "y = [getvalue(a)*points[i, 1] + getvalue(b) for i in 1:size(points,1)]\n",
    "plot!(points[:, 1], y, w=4, xlabel=\"x\", ylabel=\"y\", label=\"\")\n",
    "\n",
    "fig"
   ]
  },
  {
   "cell_type": "markdown",
   "metadata": {},
   "source": [
    "Out of curiosity, we can compare our result with a standard Least Square regression. For this, we can use the GLM and DataFrames packages."
   ]
  },
  {
   "cell_type": "code",
   "execution_count": 31,
   "metadata": {
    "collapsed": false
   },
   "outputs": [
    {
     "name": "stderr",
     "output_type": "stream",
     "text": [
      "\u001b[1m\u001b[34mINFO: Cloning cache of Distributions from https://github.com/JuliaStats/Distributions.jl.git\n",
      "\u001b[0m\u001b[1m\u001b[34mINFO: Cloning cache of GLM from https://github.com/JuliaStats/GLM.jl.git\n",
      "\u001b[0m\u001b[1m\u001b[34mINFO: Cloning cache of PDMats from https://github.com/JuliaStats/PDMats.jl.git\n",
      "\u001b[0m\u001b[1m\u001b[34mINFO: Cloning cache of Rmath from https://github.com/JuliaStats/Rmath.jl.git\n",
      "\u001b[0m\u001b[1m\u001b[34mINFO: Cloning cache of StatsBase from https://github.com/JuliaStats/StatsBase.jl.git\n",
      "\u001b[0m\u001b[1m\u001b[34mINFO: Cloning cache of StatsFuns from https://github.com/JuliaStats/StatsFuns.jl.git\n",
      "\u001b[0m\u001b[1m\u001b[34mINFO: Installing Distributions v0.11.1\n",
      "\u001b[0m\u001b[1m\u001b[34mINFO: Installing GLM v0.6.1\n",
      "\u001b[0m\u001b[1m\u001b[34mINFO: Installing PDMats v0.5.2\n",
      "\u001b[0m\u001b[1m\u001b[34mINFO: Installing Rmath v0.1.6\n",
      "\u001b[0m\u001b[1m\u001b[34mINFO: Installing StatsBase v0.12.0\n",
      "\u001b[0m\u001b[1m\u001b[34mINFO: Installing StatsFuns v0.3.1\n",
      "\u001b[0m\u001b[1m\u001b[34mINFO: Building Rmath\n",
      "\u001b[0m\u001b[1m\u001b[34mINFO: Package database updated\n",
      "\u001b[0m\u001b[1m\u001b[34mINFO: Cloning cache of DataArrays from https://github.com/JuliaStats/DataArrays.jl.git\n",
      "\u001b[0m\u001b[1m\u001b[34mINFO: Cloning cache of DataFrames from https://github.com/JuliaStats/DataFrames.jl.git\n",
      "\u001b[0m\u001b[1m\u001b[34mINFO: Cloning cache of FileIO from https://github.com/JuliaIO/FileIO.jl.git\n",
      "\u001b[0m\u001b[1m\u001b[34mINFO: Cloning cache of GZip from https://github.com/JuliaIO/GZip.jl.git\n",
      "\u001b[0m\u001b[1m\u001b[34mINFO: Cloning cache of Hiccup from https://github.com/JunoLab/Hiccup.jl.git\n",
      "\u001b[0m\u001b[1m\u001b[34mINFO: Cloning cache of Juno from https://github.com/JunoLab/Juno.jl.git\n",
      "\u001b[0m\u001b[1m\u001b[34mINFO: Cloning cache of Media from https://github.com/JunoLab/Media.jl.git\n",
      "\u001b[0m\u001b[1m\u001b[34mINFO: Cloning cache of SortingAlgorithms from https://github.com/JuliaLang/SortingAlgorithms.jl.git\n",
      "\u001b[0m\u001b[1m\u001b[34mINFO: Installing DataArrays v0.3.10\n",
      "\u001b[0m\u001b[1m\u001b[34mINFO: Installing DataFrames v0.8.5\n",
      "\u001b[0m\u001b[1m\u001b[34mINFO: Installing FileIO v0.2.1\n",
      "\u001b[0m\u001b[1m\u001b[34mINFO: Installing GZip v0.2.20\n",
      "\u001b[0m\u001b[1m\u001b[34mINFO: Installing Hiccup v0.1.1\n",
      "\u001b[0m\u001b[1m\u001b[34mINFO: Installing Juno v0.2.5\n",
      "\u001b[0m\u001b[1m\u001b[34mINFO: Installing Media v0.2.4\n",
      "\u001b[0m\u001b[1m\u001b[34mINFO: Installing SortingAlgorithms v0.1.0\n",
      "\u001b[0m\u001b[1m\u001b[34mINFO: Package database updated\n",
      "\u001b[0m"
     ]
    }
   ],
   "source": [
    "Pkg.add(\"GLM\")\n",
    "Pkg.add(\"DataFrames\")"
   ]
  },
  {
   "cell_type": "code",
   "execution_count": 42,
   "metadata": {
    "collapsed": false
   },
   "outputs": [
    {
     "data": {
      "text/html": [
       "<script src=\"/home/pedro/.julia/v0.5/Plots/src/backends/../../deps/plotly-latest.min.js\"></script>    <div id=\"98c89ec6-cf8b-4510-bbb9-5d3213002fb9\" style=\"width:600px;height:400px;\"></div>\n",
       "    <script>\n",
       "    PLOT = document.getElementById('98c89ec6-cf8b-4510-bbb9-5d3213002fb9');\n",
       "    Plotly.plot(PLOT, [{\"yaxis\":\"y\",\"y\":[1.3988484883116017,2.558845404091077,2.232326666621516,5.951448458405704,5.466566388576147,6.48673904073469,7.09981892821115,9.677720874731111,8.738205636922448,10.7757618996707],\"showlegend\":false,\"name\":\"\",\"type\":\"scatter\",\"xaxis\":\"x\",\"x\":[0.6646199401711996,3.3575532564158044,2.748098511795548,5.628353675487634,4.267720199493271,7.079842457429017,6.73943119023782,7.136162981385599,10.03450296328613,9.236499088586196],\"mode\":\"markers\",\"marker\":{\"symbol\":\"circle\",\"line\":{\"width\":1,\"color\":\"rgba(0, 0, 0, 1.000)\"},\"size\":8,\"color\":\"rgba(0, 154, 250, 1.000)\"}},{\"yaxis\":\"y\",\"y\":[1.3988484883116024,3.8687328110288117,3.309757692683749,5.951448458405704,4.703512881594173,7.282714021311044,6.970498175846171,7.3343696558299,9.992647319082062,9.260740127879291],\"showlegend\":true,\"name\":\"Ours\",\"type\":\"scatter\",\"xaxis\":\"x\",\"line\":{\"width\":3,\"dash\":\"solid\",\"color\":\"rgba(227, 111, 71, 1.000)\",\"shape\":\"linear\"},\"x\":[0.6646199401711996,3.3575532564158044,2.748098511795548,5.628353675487634,4.267720199493271,7.079842457429017,6.73943119023782,7.136162981385599,10.03450296328613,9.236499088586196],\"mode\":\"lines\"},{\"yaxis\":\"y\",\"y\":[0.9479238717393275,3.676254019681344,3.05878839454935,5.976902612032261,4.598384506715253,7.447470256348412,7.10258450764667,7.504531076433226,10.440967825127922,9.632474716002374],\"showlegend\":true,\"name\":\"LSM\",\"type\":\"scatter\",\"xaxis\":\"x\",\"line\":{\"width\":3,\"dash\":\"solid\",\"color\":\"rgba(62, 164, 78, 1.000)\",\"shape\":\"linear\"},\"x\":[0.6646199401711996,3.3575532564158044,2.748098511795548,5.628353675487634,4.267720199493271,7.079842457429017,6.73943119023782,7.136162981385599,10.03450296328613,9.236499088586196],\"mode\":\"lines\"}], {\"yaxis\":{\"type\":\"-\",\"titlefont\":{\"size\":15,\"color\":\"rgba(0, 0, 0, 1.000)\",\"family\":\"Helvetica\"},\"title\":\"\",\"tickfont\":{\"size\":11,\"color\":\"rgba(0, 0, 0, 1.000)\",\"family\":\"Helvetica\"},\"ticks\":\"inside\",\"tickmode\":\"array\",\"showgrid\":true,\"tickvals\":[2.0,4.0,6.0,8.0,10.0],\"domain\":[0.03762029746281716,0.9901574803149606],\"ticktext\":[\"2\",\"4\",\"6\",\"8\",\"10\"],\"tickangle\":0,\"zeroline\":false,\"linecolor\":\"rgba(0, 0, 0, 1.000)\",\"tickcolor\":\"rgba(0, 0, 0, 1.000)\",\"anchor\":\"x\"},\"annotations\":[],\"width\":600,\"plot_bgcolor\":\"rgba(255, 255, 255, 1.000)\",\"showlegend\":true,\"legend\":{\"bgcolor\":\"rgba(255, 255, 255, 1.000)\",\"y\":1.0,\"font\":{\"size\":11,\"color\":\"rgba(0, 0, 0, 1.000)\",\"family\":\"Helvetica\"},\"bordercolor\":\"rgba(0, 0, 0, 1.000)\",\"x\":1.0},\"xaxis\":{\"type\":\"-\",\"titlefont\":{\"size\":15,\"color\":\"rgba(0, 0, 0, 1.000)\",\"family\":\"Helvetica\"},\"title\":\"\",\"tickfont\":{\"size\":11,\"color\":\"rgba(0, 0, 0, 1.000)\",\"family\":\"Helvetica\"},\"ticks\":\"inside\",\"tickmode\":\"array\",\"showgrid\":true,\"tickvals\":[2.0,4.0,6.0,8.0,10.0],\"domain\":[0.03619130941965587,0.9934383202099738],\"ticktext\":[\"2\",\"4\",\"6\",\"8\",\"10\"],\"tickangle\":0,\"zeroline\":false,\"linecolor\":\"rgba(0, 0, 0, 1.000)\",\"tickcolor\":\"rgba(0, 0, 0, 1.000)\",\"anchor\":\"y\"},\"paper_bgcolor\":\"rgba(255, 255, 255, 1.000)\",\"height\":400,\"margin\":{\"r\":0,\"l\":0,\"b\":0,\"t\":20}});\n",
       "    </script>\n"
      ]
     },
     "execution_count": 42,
     "metadata": {},
     "output_type": "execute_result"
    }
   ],
   "source": [
    "using DataFrames\n",
    "using GLM\n",
    "data = DataFrame(X=points[:, 1], Y=points[:, 2])\n",
    "result = glm(Y ~ X, data, Normal(), IdentityLink())\n",
    "bLS, aLS = coef(result) \n",
    "\n",
    "fig = plot(points[:, 1], points[:, 2], t=[:scatter], label=\"\")\n",
    "\n",
    "y = [getvalue(a)*points[i, 1] + getvalue(b) for i in 1:size(points,1)]\n",
    "plot!(points[:, 1], y, label=\"Ours\", w=3)\n",
    "\n",
    "y = [aLS*points[i, 1] + bLS for i in 1:size(points,1)]\n",
    "plot!(points[:, 1], y, label=\"LSM\", w=3)\n",
    "\n",
    "fig"
   ]
  },
  {
   "cell_type": "markdown",
   "metadata": {},
   "source": [
    "We can see the curves are similar. The least square method have the characteristic of heavily penalize outliers, so point to far from the mean may have a big influence on regression. Note that we have generated the points randomly, you can rerun the experiments to see possible differences in the results.\n",
    "\n",
    "## A more classical example -- The knapsack problem\n",
    "\n",
    "Let $i \\in I$ be an item with value $v_i$ and volume $c_i$. We want to choose the most valuable subset of items to carry in a knaspack withouth violating its capacity $C$. Let $x_i \\in \\{0, 1\\}$, $i \\in I$ indicate whether item $i$ is put into the knapsack. The following integer program solver our knapsack problem.\n",
    "\n",
    "$\\displaystyle Max\\ \\sum_{i \\in I} v_i x_i$\n",
    "\n",
    "subject to\n",
    "\n",
    "$\\displaystyle \\sum_{i \\in I} c_i x_i \\leq C,$\n",
    "\n",
    "$x_i \\in \\{0, 1\\}, i \\in I.$\n",
    "\n",
    "We will implement this program using JuMP. First, we need some input data."
   ]
  },
  {
   "cell_type": "code",
   "execution_count": null,
   "metadata": {
    "collapsed": true
   },
   "outputs": [],
   "source": [
    "v = [3, 1, 4, 6, 2, 7, 2, 4, 7, 9, 5, 7, 3, 1]  # Value of the items.\n",
    "c = [2, 5, 3, 8, 9, 6, 4, 8, 2, 2, 1, 4, 2, 3]  # Volume of the items.\n",
    "n = length(v)  # How many items we have\n",
    "\n",
    "C = 12  # The capacity of our knapsack."
   ]
  },
  {
   "cell_type": "markdown",
   "metadata": {},
   "source": [
    "We do the same as before, create our model."
   ]
  },
  {
   "cell_type": "code",
   "execution_count": 11,
   "metadata": {
    "collapsed": false
   },
   "outputs": [
    {
     "data": {
      "text/latex": [
       "$$ \\begin{alignat*}{1}\\min\\quad & 0\\\\\n",
       "\\text{Subject to} \\quad\\end{alignat*}\n",
       " $$"
      ],
      "text/plain": [
       "Feasibility problem with:\n",
       " * 0 linear constraints\n",
       " * 0 variables\n",
       "Solver is default solver"
      ]
     },
     "execution_count": 11,
     "metadata": {},
     "output_type": "execute_result"
    }
   ],
   "source": [
    "m = Model()"
   ]
  },
  {
   "cell_type": "markdown",
   "metadata": {},
   "source": [
    "But now, we are not going to creating the variables one by one, instead we will use the following."
   ]
  },
  {
   "cell_type": "code",
   "execution_count": 12,
   "metadata": {
    "collapsed": false
   },
   "outputs": [
    {
     "data": {
      "text/latex": [
       "$$ x_{i} \\in \\{0,1\\} \\quad\\forall i \\in \\{1,2,\\dots,9,10\\} $$"
      ],
      "text/plain": [
       "10-element Array{JuMP.Variable,1}:\n",
       " x[1] \n",
       " x[2] \n",
       " x[3] \n",
       " x[4] \n",
       " x[5] \n",
       " x[6] \n",
       " x[7] \n",
       " x[8] \n",
       " x[9] \n",
       " x[10]"
      ]
     },
     "execution_count": 12,
     "metadata": {},
     "output_type": "execute_result"
    }
   ],
   "source": [
    "@variable(m, x[i=1:n], Bin)"
   ]
  },
  {
   "cell_type": "markdown",
   "metadata": {},
   "source": [
    "Which is a shortcut for adding the variables <i>x[1]</i> to <i>x[|n|]</i> to the model <i>m</i>. To add the objective function we can use the <i> sum </i> function."
   ]
  },
  {
   "cell_type": "code",
   "execution_count": null,
   "metadata": {
    "collapsed": true
   },
   "outputs": [],
   "source": [
    "@objective(m, Max, sum(v[i]*x[i] for i=1:n))"
   ]
  },
  {
   "cell_type": "markdown",
   "metadata": {},
   "source": [
    "It can also be used to create constraints."
   ]
  },
  {
   "cell_type": "code",
   "execution_count": null,
   "metadata": {
    "collapsed": true
   },
   "outputs": [],
   "source": [
    "@constraint(m, sum(x[i]*c[i] for i=1:n) <= C)\n",
    "\n",
    "m  # Just to print our model."
   ]
  },
  {
   "cell_type": "markdown",
   "metadata": {},
   "source": [
    "And then, we can solve our model."
   ]
  },
  {
   "cell_type": "code",
   "execution_count": null,
   "metadata": {
    "collapsed": true
   },
   "outputs": [],
   "source": [
    "solve(m)"
   ]
  },
  {
   "cell_type": "markdown",
   "metadata": {},
   "source": [
    "Finally, we can query for the solution."
   ]
  },
  {
   "cell_type": "code",
   "execution_count": null,
   "metadata": {
    "collapsed": true
   },
   "outputs": [],
   "source": [
    "println(\"Take \\t Don't take\")\n",
    "\n",
    "for i in collect(1:n)\n",
    "    if getvalue(x[i]) >= 0.99\n",
    "        println(\"$i\")\n",
    "    else\n",
    "        println(\"\\t $i\")\n",
    "    end\n",
    "end"
   ]
  },
  {
   "cell_type": "markdown",
   "metadata": {},
   "source": [
    "In this Notebook, we have explored the basics of JuMP regarding mixed integer linear programming. For a more detailed exposition the reader is referred to [JuMP documentation](https://jump.readthedocs.io/en/latest/).\n",
    "\n",
    "Hope you had fun! (="
   ]
  }
 ],
 "metadata": {
  "kernelspec": {
   "display_name": "Julia 0.5.0",
   "language": "julia",
   "name": "julia-0.5"
  },
  "language_info": {
   "file_extension": ".jl",
   "mimetype": "application/julia",
   "name": "julia",
   "version": "0.5.0"
  }
 },
 "nbformat": 4,
 "nbformat_minor": 1
}
