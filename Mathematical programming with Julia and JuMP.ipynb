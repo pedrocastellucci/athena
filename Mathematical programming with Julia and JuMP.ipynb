{
 "cells": [
  {
   "cell_type": "markdown",
   "metadata": {},
   "source": [
    "# Solving mixed integer programs with Julia/JuMP\n",
    "\n",
    "<i>Copyright 2016, Pedro Belin Castellucci,\n",
    "\n",
    "This work is licensed under a <a rel=\"license\" href=\"http://creativecommons.org/licenses/by/4.0/\">Creative Commons Attribution 4.0 International License</a>.</i>\n",
    "\n",
    "\n",
    "In this Notebook, we will explore some basics of the JuMP modeling language. Although it is a modeling language, it enables the usage of different solvers. By ways of an example, we will use [Clp](https://projects.coin-or.org/Clp)\n",
    "-- a complete list of supported solvers and JuMP documentation can be found at this [link](https://jump.readthedocs.io/en/latest/). Also, JuMP support linear programming, mixed-integer programming, second-order conic programming, semidefinite programming, and nonlinear programming, but we will focus on linear and integer programming here.\n",
    "\n",
    "The first step is to install JuMP."
   ]
  },
  {
   "cell_type": "code",
   "execution_count": 1,
   "metadata": {
    "collapsed": false
   },
   "outputs": [
    {
     "name": "stderr",
     "output_type": "stream",
     "text": [
      "\u001b[1m\u001b[34mINFO: Nothing to be done\n",
      "\u001b[0m\u001b[1m\u001b[34mINFO: METADATA is out-of-date — you may not have the latest version of JuMP\n",
      "\u001b[0m\u001b[1m\u001b[34mINFO: Use `Pkg.update()` to get the latest versions of your packages\n",
      "\u001b[0m"
     ]
    }
   ],
   "source": [
    "Pkg.add(\"JuMP\")"
   ]
  },
  {
   "cell_type": "markdown",
   "metadata": {},
   "source": [
    "We can also install Clp in the same way."
   ]
  },
  {
   "cell_type": "code",
   "execution_count": 14,
   "metadata": {
    "collapsed": false
   },
   "outputs": [
    {
     "name": "stderr",
     "output_type": "stream",
     "text": [
      "\u001b[1m\u001b[34mINFO: Cloning cache of Cbc from https://github.com/JuliaOpt/Cbc.jl.git\n",
      "\u001b[0m\u001b[1m\u001b[34mINFO: Cloning cache of Clp from https://github.com/JuliaOpt/Clp.jl.git\n",
      "\u001b[0m\u001b[1m\u001b[34mINFO: Installing Cbc v0.3.0\n",
      "\u001b[0m\u001b[1m\u001b[34mINFO: Installing Clp v0.3.0\n",
      "\u001b[0m\u001b[1m\u001b[34mINFO: Building Cbc\n",
      "\u001b[0m\u001b[1m\u001b[34mINFO: Attempting to Create directory /home/pedro/.julia/v0.5/Cbc/deps/downloads\n",
      "\u001b[0m\u001b[1m\u001b[34mINFO: Downloading file http://www.coin-or.org/download/source/Cbc/Cbc-2.9.8.tgz\n",
      "\u001b[0m  % Total    % Received % Xferd  Average Speed   Time    Time     Time  Current\n",
      "                                 Dload  Upload   Total   Spent    Left  Speed\n",
      "100   265  100   265    0     0    314      0 --:--:-- --:--:-- --:--:--   313\n",
      "100 13.0M  100 13.0M    0     0   233k      0  0:00:57  0:00:57 --:--:--  226k\n",
      "\u001b[1m\u001b[34mINFO: Done downloading file http://www.coin-or.org/download/source/Cbc/Cbc-2.9.8.tgz\n",
      "\u001b[0m\u001b[1m\u001b[34mINFO: Attempting to Create directory /home/pedro/.julia/v0.5/Cbc/deps/src\n",
      "\u001b[0m\u001b[1m\u001b[34mINFO: Attempting to Create directory /home/pedro/.julia/v0.5/Cbc/deps\n",
      "\u001b[0m\u001b[1m\u001b[34mINFO: Directory /home/pedro/.julia/v0.5/Cbc/deps already created\n",
      "\u001b[0m\u001b[1m\u001b[34mINFO: Changing Directory to /home/pedro/.julia/v0.5/Cbc/deps/src/Cbc-2.9.8\n",
      "\u001b[0m"
     ]
    },
    {
     "name": "stdout",
     "output_type": "stream",
     "text": [
      "checking build system type... x86_64-unknown-linux-gnu\n",
      "checking whether we want to compile in debug mode... no\n",
      "checking for gcc... gcc\n",
      "checking for C compiler default output file name... a.out\n",
      "checking whether the C compiler works... yes\n",
      "checking whether we are cross compiling... no\n",
      "checking for suffix of executables... \n",
      "checking for suffix of object files... o\n",
      "checking whether we are using the GNU C compiler... yes\n",
      "checking whether gcc accepts -g... yes\n",
      "checking for gcc option to accept ANSI C... none needed\n",
      "configure: C compiler options are: -O3 -pipe -DNDEBUG -pedantic-errors -Wimplicit -Wparentheses -Wsequence-point -Wreturn-type -Wcast-qual -Wall -Wno-unknown-pragmas -Wno-long-long  \n",
      "checking for g++... g++\n",
      "checking whether we are using the GNU C++ compiler... yes\n",
      "checking whether g++ accepts -g... yes\n",
      "checking whether C++ compiler g++ works... yes\n",
      "configure: C++ compiler options are: -O3 -pipe -DNDEBUG -pedantic-errors -Wparentheses -Wreturn-type -Wcast-qual -Wall -Wpointer-arith -Wwrite-strings -Wconversion -Wno-unknown-pragmas -Wno-long-long  \n",
      "configure: Trying to determine Fortran compiler name\n",
      "checking for gfortran... no\n",
      "checking for ifort... no\n",
      "checking for g95... no\n",
      "checking for fort77... no\n",
      "checking for f77... no\n",
      "checking for g77... no\n",
      "checking for pgf90... no\n",
      "checking for pgf77... no\n",
      "checking for ifc... no\n",
      "checking for frt... no\n",
      "checking for af77... no\n",
      "checking for xlf_r... no\n",
      "configure: Fortran compiler options are:  \n"
     ]
    },
    {
     "name": "stderr",
     "output_type": "stream",
     "text": [
      "configure: WARNING: Failed to find a Fortran compiler!\n"
     ]
    },
    {
     "name": "stdout",
     "output_type": "stream",
     "text": [
      "checking for egrep... grep -E\n",
      "checking whether ln -s works... yes\n",
      "checking for a BSD-compatible install... /usr/bin/install -c\n",
      "checking whether build environment is sane... yes\n",
      "checking for gawk... no\n",
      "checking for mawk... mawk\n",
      "checking whether make sets $(MAKE)... yes\n",
      "checking for style of include used by make... GNU\n",
      "checking dependency style of gcc... gcc3\n",
      "checking dependency style of g++... gcc3\n",
      "checking whether to enable maintainer-specific portions of Makefiles... no\n",
      "checking host system type... x86_64-unknown-linux-gnu\n",
      "checking for a sed that does not truncate output... /bin/sed\n",
      "checking for ld used by gcc... /usr/bin/ld\n",
      "checking if the linker (/usr/bin/ld) is GNU ld... yes\n",
      "checking for /usr/bin/ld option to reload object files... -r\n",
      "checking for BSD-compatible nm... "
     ]
    },
    {
     "name": "stderr",
     "output_type": "stream",
     "text": [
      "./configure: line 5844: cd: /home/pedro/.julia/v0.5/Cbc/deps/usr: No such file or directory\n"
     ]
    },
    {
     "name": "stdout",
     "output_type": "stream",
     "text": [
      "/usr/bin/nm -B\n",
      "checking how to recognise dependent libraries... pass_all\n",
      "checking how to run the C preprocessor... gcc -E\n",
      "checking for ANSI C header files... no\n",
      "checking for sys/types.h... yes\n",
      "checking for sys/stat.h... yes\n",
      "checking for stdlib.h... yes\n",
      "checking for string.h... yes\n",
      "checking for memory.h... yes\n",
      "checking for strings.h... yes\n",
      "checking for inttypes.h... yes\n",
      "checking for stdint.h... yes\n",
      "checking for unistd.h... yes\n",
      "checking dlfcn.h usability... yes\n",
      "checking dlfcn.h presence... yes\n",
      "checking for dlfcn.h... yes\n",
      "checking how to run the C++ preprocessor... g++ -E\n",
      "checking the maximum length of command line arguments... 32768\n",
      "checking command to parse /usr/bin/nm -B output from gcc object... ok\n",
      "checking for objdir... .libs\n",
      "checking for ar... ar\n",
      "checking for ranlib... ranlib\n",
      "checking for strip... strip\n",
      "checking if gcc supports -fno-rtti -fno-exceptions... no\n",
      "checking for gcc option to produce PIC... -fPIC\n",
      "checking if gcc PIC flag -fPIC works... yes\n",
      "checking if gcc static flag -static works... yes\n",
      "checking if gcc supports -c -o file.o... yes\n",
      "checking whether the gcc linker (/usr/bin/ld -m elf_x86_64) supports shared libraries... yes\n",
      "checking whether -lc should be explicitly linked in... no\n",
      "checking dynamic linker characteristics... GNU/Linux ld.so\n",
      "checking how to hardcode library paths into programs... immediate\n",
      "checking whether stripping libraries is possible... yes\n",
      "checking if libtool supports shared libraries... yes\n",
      "checking whether to build shared libraries... yes\n",
      "checking whether to build static libraries... no\n",
      "configure: creating libtool\n",
      "appending configuration tag \"CXX\" to libtool\n",
      "checking for ld used by g++... /usr/bin/ld -m elf_x86_64\n",
      "checking if the linker (/usr/bin/ld -m elf_x86_64) is GNU ld... yes\n",
      "checking whether the g++ linker (/usr/bin/ld -m elf_x86_64) supports shared libraries... yes\n",
      "checking for g++ option to produce PIC... -fPIC\n",
      "checking if g++ PIC flag -fPIC works... yes\n",
      "checking if g++ static flag -static works... yes\n",
      "checking if g++ supports -c -o file.o... yes\n",
      "checking whether the g++ linker (/usr/bin/ld -m elf_x86_64) supports shared libraries... yes\n",
      "checking dynamic linker characteristics... GNU/Linux ld.so\n",
      "checking how to hardcode library paths into programs... immediate\n",
      "appending configuration tag \"F77\" to libtool\n",
      "checking if libtool supports shared libraries... yes\n",
      "checking whether to build shared libraries... yes\n",
      "checking whether to build static libraries... no\n",
      "checking for unavailable option to produce PIC... -fPIC\n",
      "checking if unavailable PIC flag -fPIC works... no\n",
      "checking if unavailable static flag -static works... no\n",
      "checking if unavailable supports -c -o file.o... no\n",
      "checking whether the unavailable linker (/usr/bin/ld -m elf_x86_64) supports shared libraries... yes\n",
      "checking dynamic linker characteristics... GNU/Linux ld.so\n",
      "checking how to hardcode library paths into programs... immediate\n"
     ]
    },
    {
     "name": "stderr",
     "output_type": "stream",
     "text": [
      "./configure: line 16395: unavailable: command not found\n"
     ]
    },
    {
     "name": "stdout",
     "output_type": "stream",
     "text": [
      "configure: Build is \"x86_64-unknown-linux-gnu\".\n",
      "checking if library version is set... no\n",
      "checking whether source of project ASL is available and should be compiled... no, source file ./ThirdParty/ASL/solvers/asl.h not available\n",
      "checking whether source of project Blas is available and should be compiled... no, --without-blas has been specified\n",
      "checking whether source of project Lapack is available and should be compiled... no, --without-lapack has been specified\n",
      "checking whether source of project Glpk is available and should be compiled... no, source file ./ThirdParty/Glpk/glpk/src/glpk.h not available\n",
      "checking whether source of project Metis is available and should be compiled... no, source file ./ThirdParty/Metis/metis-4.0/Lib/balance.c not available\n",
      "checking whether source of project Mumps is available and should be compiled... no, source file ./ThirdParty/Mumps/MUMPS/src/dmumps_part1.F not available\n",
      "checking whether source of project Sample is available and should be compiled... yes, source in Data/Sample\n",
      "checking whether source of project Netlib is available and should be compiled... no\n",
      "checking whether source of project miplib3 is available and should be compiled... yes, source in Data/miplib3\n",
      "checking whether source of project CoinUtils is available and should be compiled... yes, source in CoinUtils\n",
      "checking whether source of project Osi is available and should be compiled... yes, source in Osi\n",
      "checking whether source of project Clp is available and should be compiled... yes, source in Clp\n",
      "checking whether source of project DyLP is available and should be compiled... no\n",
      "checking whether source of project Vol is available and should be compiled... no\n",
      "checking whether source of project Cgl is available and should be compiled... yes, source in Cgl\n",
      "checking whether source of project Cbc is available and should be compiled... yes, source in Cbc\n",
      "configure: configuring doxygen documentation options\n",
      "checking for doxygen... no\n",
      "checking for latex... no\n",
      "checking for dot... NO\n",
      "checking for doxygen doc'n for CoinUtils ... /home/pedro/.julia/v0.5/Cbc/deps/usr/share/coin/doc/CoinUtils/doxydoc (tag)\n",
      "checking for doxygen doc'n for Osi ... /home/pedro/.julia/v0.5/Cbc/deps/usr/share/coin/doc/Osi/doxydoc (tag)\n",
      "checking for doxygen doc'n for Clp ... /home/pedro/.julia/v0.5/Cbc/deps/usr/share/coin/doc/Clp/doxydoc (tag)\n",
      "checking for doxygen doc'n for DyLP ... /home/pedro/.julia/v0.5/Cbc/deps/usr/share/coin/doc/DyLP/doxydoc (tag)\n",
      "checking for doxygen doc'n for Cgl ... /home/pedro/.julia/v0.5/Cbc/deps/usr/share/coin/doc/Cgl/doxydoc (tag)\n",
      "checking for doxygen doc'n for Vol ... /home/pedro/.julia/v0.5/Cbc/deps/usr/share/coin/doc/Vol/doxydoc (tag)\n",
      "checking which command should be used to link input files... ln -s\n",
      "configure: creating ./config.status\n",
      "config.status: creating Makefile\n",
      "config.status: creating doxydoc/doxygen.conf\n",
      "config.status: executing depfiles commands\n",
      "configure: configuring in Data/Sample\n",
      "configure: running /bin/bash './configure' --prefix=/home/pedro/.julia/v0.5/Cbc/deps/usr  '--prefix=/home/pedro/.julia/v0.5/Cbc/deps/usr' '--without-blas' '--without-lapack' '--enable-cbc-parallel' --cache-file=/dev/null --srcdir=.\n",
      "checking for svnversion... no\n",
      "checking for egrep... grep -E\n",
      "checking whether ln -s works... yes\n",
      "checking for a BSD-compatible install... /usr/bin/install -c\n",
      "checking whether build environment is sane... yes\n",
      "checking for gawk... no\n",
      "checking for mawk... mawk\n",
      "checking whether make sets $(MAKE)... yes\n",
      "checking whether to enable maintainer-specific portions of Makefiles... no\n",
      "checking whether this is a VPATH configuration... no\n",
      "checking build system type... x86_64-unknown-linux-gnu\n",
      "checking which command should be used to link input files... ln -s\n"
     ]
    },
    {
     "name": "stderr",
     "output_type": "stream",
     "text": [
      "./configure: line 2236: cd: /home/pedro/.julia/v0.5/Cbc/deps/usr: No such file or directory\n"
     ]
    },
    {
     "name": "stdout",
     "output_type": "stream",
     "text": [
      "configure: creating ./config.status\n",
      "config.status: creating Makefile\n",
      "config.status: creating coindatasample.pc\n",
      "config.status: creating coindatasample-uninstalled.pc\n",
      "configure: In case of trouble, first consult the troubleshooting page at https://projects.coin-or.org/BuildTools/wiki/user-troubleshooting\n",
      "configure: Configuration of DataSample successful\n",
      "configure: configuring in Data/miplib3\n",
      "configure: running /bin/bash './configure' --prefix=/home/pedro/.julia/v0.5/Cbc/deps/usr  '--prefix=/home/pedro/.julia/v0.5/Cbc/deps/usr' '--without-blas' '--without-lapack' '--enable-cbc-parallel' --cache-file=/dev/null --srcdir=.\n",
      "checking for svnversion... no\n",
      "checking for egrep... grep -E\n",
      "checking whether ln -s works... yes\n",
      "checking for a BSD-compatible install... /usr/bin/install -c\n",
      "checking whether build environment is sane... yes\n",
      "checking for gawk... no\n",
      "checking for mawk... mawk\n",
      "checking whether make sets $(MAKE)... yes\n",
      "checking whether to enable maintainer-specific portions of Makefiles... no\n",
      "checking for style of include used by make... GNU\n",
      "checking for gcc... gcc\n",
      "checking for C compiler default output file name... "
     ]
    },
    {
     "name": "stderr",
     "output_type": "stream",
     "text": [
      "./configure: line 2308: cd: /home/pedro/.julia/v0.5/Cbc/deps/usr: No such file or directory\n"
     ]
    },
    {
     "name": "stdout",
     "output_type": "stream",
     "text": [
      "a.out\n",
      "checking whether the C compiler works... yes\n",
      "checking whether we are cross compiling... no\n",
      "checking for suffix of executables... \n",
      "checking for suffix of object files... o\n",
      "checking whether we are using the GNU C compiler... yes\n",
      "checking whether gcc accepts -g... yes\n",
      "checking for gcc option to accept ANSI C... none needed\n",
      "checking dependency style of gcc... gcc3\n",
      "checking how to run the C preprocessor... gcc -E\n",
      "checking for ANSI C header files... yes\n",
      "checking for sys/types.h... yes\n",
      "checking for sys/stat.h... yes\n",
      "checking for stdlib.h... yes\n",
      "checking for string.h... yes\n",
      "checking for memory.h... yes\n",
      "checking for strings.h... yes\n",
      "checking for inttypes.h... yes\n",
      "checking for stdint.h... yes\n",
      "checking for unistd.h... yes\n",
      "checking zlib.h usability... no\n",
      "checking zlib.h presence... no\n",
      "checking for zlib.h... no\n",
      "checking whether this is a VPATH configuration... no\n",
      "checking build system type... x86_64-unknown-linux-gnu\n",
      "checking which command should be used to link input files... ln -s\n",
      "configure: creating ./config.status\n",
      "config.status: creating Makefile\n",
      "config.status: creating coindatamiplib3.pc\n",
      "config.status: creating coindatamiplib3-uninstalled.pc\n",
      "config.status: executing depfiles commands\n",
      "configure: In case of trouble, first consult the troubleshooting page at https://projects.coin-or.org/BuildTools/wiki/user-troubleshooting\n",
      "configure: Configuration of DataMiplib3 successful\n",
      "configure: configuring in CoinUtils\n",
      "configure: running /bin/bash './configure' --prefix=/home/pedro/.julia/v0.5/Cbc/deps/usr  '--prefix=/home/pedro/.julia/v0.5/Cbc/deps/usr' '--without-blas' '--without-lapack' '--enable-cbc-parallel' --cache-file=/dev/null --srcdir=.\n",
      "checking build system type... x86_64-unknown-linux-gnu\n",
      "checking for svnversion... no\n",
      "checking whether we want to compile in debug mode... no\n",
      "checking for gcc... gcc\n",
      "checking for C compiler default output file name... a.out\n",
      "checking whether the C compiler works... yes\n",
      "checking whether we are cross compiling... no\n",
      "checking for suffix of executables... \n",
      "checking for suffix of object files... o\n",
      "checking whether we are using the GNU C compiler... yes\n",
      "checking whether gcc accepts -g... yes\n",
      "checking for gcc option to accept ANSI C... none needed\n",
      "configure: C compiler options are: -O3 -pipe -DNDEBUG -pedantic-errors -Wimplicit -Wparentheses -Wsequence-point -Wreturn-type -Wcast-qual -Wall -Wno-unknown-pragmas -Wno-long-long   -DCOINUTILS_BUILD\n",
      "checking for g++... g++\n",
      "checking whether we are using the GNU C++ compiler... yes\n",
      "checking whether g++ accepts -g... yes\n",
      "checking whether C++ compiler g++ works... yes\n",
      "configure: C++ compiler options are: -O3 -pipe -DNDEBUG -pedantic-errors -Wparentheses -Wreturn-type -Wcast-qual -Wall -Wpointer-arith -Wwrite-strings -Wconversion -Wno-unknown-pragmas -Wno-long-long   -DCOINUTILS_BUILD\n",
      "configure: Trying to determine Fortran compiler name\n",
      "checking for gfortran... no\n",
      "checking for ifort... no\n",
      "checking for g95... no\n",
      "checking for fort77... no\n",
      "checking for f77... no\n",
      "checking for g77... no\n",
      "checking for pgf90... no\n",
      "checking for pgf77... no\n",
      "checking for ifc... no\n",
      "checking for frt... no\n",
      "checking for af77... no\n",
      "checking for xlf_r... no\n",
      "configure: Fortran compiler options are:  \n"
     ]
    },
    {
     "name": "stderr",
     "output_type": "stream",
     "text": [
      "configure: WARNING: Failed to find a Fortran compiler!\n"
     ]
    },
    {
     "name": "stdout",
     "output_type": "stream",
     "text": [
      "checking for egrep... grep -E\n",
      "checking whether ln -s works... yes\n",
      "checking for a BSD-compatible install... /usr/bin/install -c\n",
      "checking whether build environment is sane... yes\n",
      "checking for gawk... no\n",
      "checking for mawk... mawk\n",
      "checking whether make sets $(MAKE)... yes\n",
      "checking for style of include used by make... GNU\n",
      "checking dependency style of gcc... gcc3\n",
      "checking dependency style of g++... gcc3\n",
      "checking whether to enable maintainer-specific portions of Makefiles... no\n",
      "configure: Using libtool script in directory ..\n"
     ]
    },
    {
     "name": "stderr",
     "output_type": "stream",
     "text": [
      "./configure: line 6877: cd: /home/pedro/.julia/v0.5/Cbc/deps/usr: No such file or directory\n"
     ]
    },
    {
     "name": "stdout",
     "output_type": "stream",
     "text": [
      "checking if library version is set... 13:13:10\n",
      "checking cmath usability... yes\n",
      "checking cmath presence... yes\n",
      "checking for cmath... yes\n",
      "checking cfloat usability... yes\n",
      "checking cfloat presence... yes\n",
      "checking for cfloat... yes\n",
      "checking cieeefp usability... no\n",
      "checking cieeefp presence... no\n",
      "checking for cieeefp... no\n",
      "checking ieeefp.h usability... no\n",
      "checking ieeefp.h presence... no\n",
      "checking for ieeefp.h... no\n",
      "checking whether isfinite is declared... no\n",
      "checking whether finite is declared... yes\n",
      "checking for cmath... (cached) yes\n",
      "checking for cfloat... (cached) yes\n",
      "checking for cieeefp... (cached) no\n",
      "checking for ieeefp.h... (cached) no\n",
      "checking whether isnan is declared... yes\n",
      "checking cinttypes usability... no\n",
      "checking cinttypes presence... no\n",
      "checking for cinttypes... no\n",
      "checking inttypes.h usability... yes\n",
      "checking inttypes.h presence... yes\n",
      "checking for inttypes.h... yes\n",
      "checking cstdint usability... no\n",
      "checking cstdint presence... no\n",
      "checking for cstdint... no\n",
      "checking stdint.h usability... yes\n",
      "checking stdint.h presence... yes\n",
      "checking for stdint.h... yes\n",
      "checking for int64_t... yes\n",
      "checking for intptr_t... yes\n",
      "checking windows.h usability... no\n",
      "checking windows.h presence... no\n",
      "checking for windows.h... no\n",
      "checking endian.h usability... yes\n",
      "checking endian.h presence... yes\n",
      "checking for endian.h... yes\n",
      "checking for pkg-config... pkg-config\n",
      "checking pkg-config is at least version 0.16.0... yes\n",
      "checking for COIN-OR package Glpk... not given: No package 'coinglpk' found\n",
      "checking for COIN-OR package Sample... yes: 1.2.10 \n",
      "checking for COIN-OR package Netlib... not given: No package 'coindatanetlib' found\n",
      "checking zlib.h usability... no\n",
      "checking zlib.h presence... no\n",
      "checking for zlib.h... no\n",
      "checking bzlib.h usability... no\n",
      "checking bzlib.h presence... no\n",
      "checking for bzlib.h... no\n",
      "checking whether this is a VPATH configuration... no\n",
      "configure: configuring doxygen documentation options\n",
      "checking for doxygen... no\n",
      "checking for latex... no\n",
      "checking for dot... NO\n",
      "checking which command should be used to link input files... ln -s\n",
      "configure: creating ./config.status\n",
      "config.status: creating Makefile\n",
      "config.status: creating src/Makefile\n",
      "config.status: creating test/Makefile\n",
      "config.status: creating coinutils.pc\n",
      "config.status: creating coinutils-uninstalled.pc\n",
      "config.status: creating doxydoc/doxygen.conf\n",
      "config.status: creating src/config.h\n",
      "config.status: creating src/config_coinutils.h\n",
      "config.status: executing depfiles commands\n",
      "configure: In case of trouble, first consult the troubleshooting page at https://projects.coin-or.org/BuildTools/wiki/user-troubleshooting\n",
      "configure: Configuration of CoinUtils successful\n",
      "configure: configuring in Osi\n",
      "configure: running /bin/bash './configure' --prefix=/home/pedro/.julia/v0.5/Cbc/deps/usr  '--prefix=/home/pedro/.julia/v0.5/Cbc/deps/usr' '--without-blas' '--without-lapack' '--enable-cbc-parallel' --cache-file=/dev/null --srcdir=.\n",
      "checking build system type... x86_64-unknown-linux-gnu\n",
      "checking for svnversion... no\n",
      "checking whether we want to compile in debug mode... no\n",
      "checking for gcc... gcc\n",
      "checking for C compiler default output file name... a.out\n",
      "checking whether the C compiler works... yes\n",
      "checking whether we are cross compiling... no\n",
      "checking for suffix of executables... \n",
      "checking for suffix of object files... o\n",
      "checking whether we are using the GNU C compiler... yes\n",
      "checking whether gcc accepts -g... yes\n",
      "checking for gcc option to accept ANSI C... none needed\n",
      "configure: C compiler options are: -O3 -pipe -DNDEBUG -pedantic-errors -Wimplicit -Wparentheses -Wsequence-point -Wreturn-type -Wcast-qual -Wall -Wno-unknown-pragmas -Wno-long-long   -DOSI_BUILD\n",
      "checking for g++... g++\n",
      "checking whether we are using the GNU C++ compiler... yes\n",
      "checking whether g++ accepts -g... yes\n",
      "checking whether C++ compiler g++ works... yes\n",
      "configure: C++ compiler options are: -O3 -pipe -DNDEBUG -pedantic-errors -Wparentheses -Wreturn-type -Wcast-qual -Wall -Wpointer-arith -Wwrite-strings -Wconversion -Wno-unknown-pragmas -Wno-long-long   -DOSI_BUILD\n",
      "checking for egrep... grep -E\n",
      "checking whether ln -s works... yes\n",
      "checking for a BSD-compatible install... /usr/bin/install -c\n",
      "checking whether build environment is sane... yes\n",
      "checking for gawk... no\n",
      "checking for mawk... mawk\n",
      "checking whether make sets $(MAKE)... yes\n",
      "checking for style of include used by make... GNU\n",
      "checking dependency style of gcc... gcc3\n",
      "checking dependency style of g++... gcc3\n",
      "checking whether to enable maintainer-specific portions of Makefiles... no\n",
      "configure: Using libtool script in directory ..\n"
     ]
    },
    {
     "name": "stderr",
     "output_type": "stream",
     "text": [
      "./configure: line 5268: cd: /home/pedro/.julia/v0.5/Cbc/deps/usr: No such file or directory\n"
     ]
    },
    {
     "name": "stdout",
     "output_type": "stream",
     "text": [
      "checking if library version is set... 13:8:12\n",
      "checking for pkg-config... pkg-config\n",
      "checking pkg-config is at least version 0.16.0... yes\n",
      "checking for COIN-OR package CoinUtils... yes: 2.10.13 \n",
      "checking for COIN-OR package Glpk... not given: No package 'coinglpk' found\n",
      "checking for COIN-OR package SoPlex... not given: No package 'coinsoplex' found\n",
      "checking for COIN-OR package Sample... yes: 1.2.10 \n",
      "checking for COIN-OR package Netlib... not given: No package 'coindatanetlib' found\n",
      "checking if user provides library for Cplex... no\n",
      "checking if user provides library for Mosek... no\n",
      "checking if user provides library for Xpress... no\n",
      "checking if user provides library for Gurobi... no\n",
      "configure: configuring doxygen documentation options\n",
      "checking for doxygen... no\n",
      "checking for latex... no\n",
      "checking for dot... NO\n",
      "checking for doxygen doc'n for CoinUtils ... ../CoinUtils/doxydoc (tag)\n",
      "checking cmath usability... "
     ]
    },
    {
     "name": "stderr",
     "output_type": "stream",
     "text": [
      "configure: WARNING: No solver available, examples will not work.\n"
     ]
    },
    {
     "name": "stdout",
     "output_type": "stream",
     "text": [
      "yes\n",
      "checking cmath presence... yes\n",
      "checking for cmath... yes\n",
      "checking cfloat usability... yes\n",
      "checking cfloat presence... yes\n",
      "checking for cfloat... yes\n",
      "checking cieeefp usability... no\n",
      "checking cieeefp presence... no\n",
      "checking for cieeefp... no\n",
      "checking ieeefp.h usability... no\n",
      "checking ieeefp.h presence... no\n",
      "checking for ieeefp.h... no\n",
      "checking which command should be used to link input files... ln -s\n",
      "configure: creating ./config.status\n",
      "config.status: creating Makefile\n",
      "config.status: creating examples/Makefile\n",
      "config.status: creating src/Osi/Makefile\n",
      "config.status: creating src/OsiCpx/Makefile\n",
      "config.status: creating src/OsiGlpk/Makefile\n",
      "config.status: creating src/OsiMsk/Makefile\n",
      "config.status: creating src/OsiXpr/Makefile\n",
      "config.status: creating src/OsiGrb/Makefile\n",
      "config.status: creating src/OsiSpx/Makefile\n",
      "config.status: creating src/OsiCommonTest/Makefile\n",
      "config.status: creating test/Makefile\n",
      "config.status: creating osi.pc\n",
      "config.status: creating osi-uninstalled.pc\n",
      "config.status: creating osi-unittests.pc\n",
      "config.status: creating osi-unittests-uninstalled.pc\n",
      "config.status: creating doxydoc/doxygen.conf\n",
      "config.status: creating src/Osi/config.h\n",
      "config.status: creating src/Osi/config_osi.h\n",
      "config.status: executing depfiles commands\n",
      "configure: In case of trouble, first consult the troubleshooting page at https://projects.coin-or.org/BuildTools/wiki/user-troubleshooting\n",
      "configure: Configuration of Osi successful\n",
      "configure: configuring in Clp\n",
      "configure: running /bin/bash './configure' --prefix=/home/pedro/.julia/v0.5/Cbc/deps/usr  '--prefix=/home/pedro/.julia/v0.5/Cbc/deps/usr' '--without-blas' '--without-lapack' '--enable-cbc-parallel' --cache-file=/dev/null --srcdir=.\n",
      "checking build system type... x86_64-unknown-linux-gnu\n",
      "checking for svnversion... no\n",
      "checking whether we want to compile in debug mode... no\n",
      "checking for gcc... gcc\n",
      "checking for C compiler default output file name... a.out\n",
      "checking whether the C compiler works... yes\n",
      "checking whether we are cross compiling... no\n",
      "checking for suffix of executables... \n",
      "checking for suffix of object files... o\n",
      "checking whether we are using the GNU C compiler... yes\n",
      "checking whether gcc accepts -g... yes\n",
      "checking for gcc option to accept ANSI C... none needed\n",
      "configure: C compiler options are: -O3 -pipe -DNDEBUG -pedantic-errors -Wimplicit -Wparentheses -Wsequence-point -Wreturn-type -Wcast-qual -Wall -Wno-unknown-pragmas -Wno-long-long   -DCLP_BUILD\n",
      "checking for g++... g++\n",
      "checking whether we are using the GNU C++ compiler... yes\n",
      "checking whether g++ accepts -g... yes\n",
      "checking whether C++ compiler g++ works... yes\n",
      "configure: C++ compiler options are: -O3 -pipe -DNDEBUG -pedantic-errors -Wparentheses -Wreturn-type -Wcast-qual -Wall -Wpointer-arith -Wwrite-strings -Wconversion -Wno-unknown-pragmas -Wno-long-long   -DCLP_BUILD\n",
      "checking for egrep... grep -E\n",
      "checking whether ln -s works... yes\n",
      "checking for a BSD-compatible install... /usr/bin/install -c\n",
      "checking whether build environment is sane... yes\n",
      "checking for gawk... no\n",
      "checking for mawk... mawk\n",
      "checking whether make sets $(MAKE)... yes\n",
      "checking for style of include used by make... GNU\n",
      "checking dependency style of gcc... gcc3\n",
      "checking dependency style of g++... gcc3\n",
      "checking whether to enable maintainer-specific portions of Makefiles... no\n",
      "configure: Using libtool script in directory ..\n"
     ]
    },
    {
     "name": "stderr",
     "output_type": "stream",
     "text": [
      "./configure: line 5300: cd: /home/pedro/.julia/v0.5/Cbc/deps/usr: No such file or directory\n"
     ]
    },
    {
     "name": "stdout",
     "output_type": "stream",
     "text": [
      "checking if library version is set... 14:10:13\n",
      "checking for pkg-config... pkg-config\n",
      "checking pkg-config is at least version 0.16.0... yes\n",
      "checking for COIN-OR package CoinUtils... yes: 2.10.13 \n",
      "checking for COIN-OR package Osi... yes: 0.107.8 \n",
      "checking for COIN-OR package OsiTests... yes: 0.107.8 \n",
      "checking for COIN-OR package Sample... yes: 1.2.10 \n",
      "checking for COIN-OR package Netlib... not given: No package 'coindatanetlib' found\n",
      "checking if user provides library for AMD... no\n",
      "checking if user provides library for CHOLMOD... no\n",
      "checking for COIN-OR package Glpk... not given: No package 'coinglpk' found\n",
      "checking for COIN-OR package Mumps... not given: No package 'coinmumps' found\n",
      "checking for COIN-OR package ASL... not given: No package 'coinasl' found\n",
      "checking cmath usability... yes\n",
      "checking cmath presence... yes\n",
      "checking for cmath... yes\n",
      "checking cfloat usability... yes\n",
      "checking cfloat presence... yes\n",
      "checking for cfloat... yes\n",
      "checking cieeefp usability... no\n",
      "checking cieeefp presence... no\n",
      "checking for cieeefp... no\n",
      "checking ieeefp.h usability... no\n",
      "checking ieeefp.h presence... no\n",
      "checking for ieeefp.h... no\n",
      "checking whether this is a VPATH configuration... no\n",
      "configure: configuring doxygen documentation options\n",
      "checking for doxygen... no\n",
      "checking for latex... no\n",
      "checking for dot... NO\n",
      "checking for doxygen doc'n for CoinUtils ... ../CoinUtils/doxydoc (tag)\n",
      "checking for doxygen doc'n for Osi ... ../Osi/doxydoc (tag)\n",
      "checking which command should be used to link input files... ln -s\n",
      "configure: creating ./config.status\n",
      "config.status: creating Makefile\n",
      "config.status: creating examples/Makefile\n",
      "config.status: creating src/Makefile\n",
      "config.status: creating src/OsiClp/Makefile\n",
      "config.status: creating test/Makefile\n",
      "config.status: creating clp.pc\n",
      "config.status: creating clp-uninstalled.pc\n",
      "config.status: creating osi-clp.pc\n",
      "config.status: creating osi-clp-uninstalled.pc\n",
      "config.status: creating doxydoc/doxygen.conf\n",
      "config.status: creating src/config.h\n",
      "config.status: creating src/config_clp.h\n",
      "config.status: executing depfiles commands\n",
      "configure: In case of trouble, first consult the troubleshooting page at https://projects.coin-or.org/BuildTools/wiki/user-troubleshooting\n",
      "configure: Configuration of Clp successful\n",
      "configure: configuring in Cgl\n",
      "configure: running /bin/bash './configure' --prefix=/home/pedro/.julia/v0.5/Cbc/deps/usr  '--prefix=/home/pedro/.julia/v0.5/Cbc/deps/usr' '--without-blas' '--without-lapack' '--enable-cbc-parallel' --cache-file=/dev/null --srcdir=.\n",
      "checking build system type... x86_64-unknown-linux-gnu\n",
      "checking for svnversion... no\n",
      "checking whether we want to compile in debug mode... no\n",
      "checking for gcc... gcc\n",
      "checking for C compiler default output file name... a.out\n",
      "checking whether the C compiler works... yes\n",
      "checking whether we are cross compiling... no\n",
      "checking for suffix of executables... \n",
      "checking for suffix of object files... o\n",
      "checking whether we are using the GNU C compiler... yes\n",
      "checking whether gcc accepts -g... yes\n",
      "checking for gcc option to accept ANSI C... none needed\n",
      "configure: C compiler options are: -O3 -pipe -DNDEBUG -pedantic-errors -Wimplicit -Wparentheses -Wsequence-point -Wreturn-type -Wcast-qual -Wall -Wno-unknown-pragmas -Wno-long-long   -DCGL_BUILD\n",
      "checking for g++... g++\n",
      "checking whether we are using the GNU C++ compiler... yes\n",
      "checking whether g++ accepts -g... yes\n",
      "checking whether C++ compiler g++ works... yes\n",
      "configure: C++ compiler options are: -O3 -pipe -DNDEBUG -pedantic-errors -Wparentheses -Wreturn-type -Wcast-qual -Wall -Wpointer-arith -Wwrite-strings -Wconversion -Wno-unknown-pragmas -Wno-long-long   -DCGL_BUILD\n",
      "checking for egrep... grep -E\n",
      "checking whether ln -s works... yes\n",
      "checking for a BSD-compatible install... /usr/bin/install -c\n",
      "checking whether build environment is sane... yes\n",
      "checking for gawk... no\n",
      "checking for mawk... mawk\n",
      "checking whether make sets $(MAKE)... yes\n",
      "checking for style of include used by make... GNU\n",
      "checking dependency style of gcc... gcc3\n",
      "checking dependency style of g++... gcc3\n",
      "checking whether to enable maintainer-specific portions of Makefiles... no\n",
      "configure: Using libtool script in directory ..\n"
     ]
    },
    {
     "name": "stderr",
     "output_type": "stream",
     "text": [
      "./configure: line 5270: cd: /home/pedro/.julia/v0.5/Cbc/deps/usr: No such file or directory\n"
     ]
    },
    {
     "name": "stdout",
     "output_type": "stream",
     "text": [
      "checking if library version is set... 10:9:9\n",
      "checking for pkg-config... pkg-config\n",
      "checking pkg-config is at least version 0.16.0... yes\n",
      "checking for COIN-OR package CoinUtils... yes: 2.10.13 \n",
      "checking for COIN-OR package Osi... yes: 0.107.8 \n",
      "checking for COIN-OR package Sample... yes: 1.2.10 \n",
      "checking for COIN-OR package OsiClp... yes: 1.16.10 \n",
      "checking for COIN-OR package OsiCpx... not given: No package 'osi-cplex' found\n",
      "checking for COIN-OR package OsiGlpk... not given: No package 'osi-glpk' found\n",
      "checking for COIN-OR package OsiMsk... not given: No package 'osi-mosek' found\n",
      "checking for COIN-OR package OsiXpr... not given: No package 'osi-xpress' found\n",
      "checking for COIN-OR package OsiVol... not given: No package 'osi-vol' found\n",
      "checking for COIN-OR package OsiDyLP... not given: No package 'osi-dylp' found\n",
      "checking cmath usability... yes\n",
      "checking cmath presence... yes\n",
      "checking for cmath... yes\n",
      "checking cfloat usability... yes\n",
      "checking cfloat presence... yes\n",
      "checking for cfloat... yes\n",
      "checking cieeefp usability... no\n",
      "checking cieeefp presence... no\n",
      "checking for cieeefp... no\n",
      "checking ieeefp.h usability... no\n",
      "checking ieeefp.h presence... no\n",
      "checking for ieeefp.h... no\n",
      "configure: configuring doxygen documentation options\n",
      "checking for doxygen... no\n",
      "checking for latex... no\n",
      "checking for dot... NO\n",
      "checking for doxygen doc'n for CoinUtils ... ../CoinUtils/doxydoc (tag)\n",
      "checking whether this is a VPATH configuration... no\n",
      "checking which command should be used to link input files... ln -s\n",
      "configure: creating ./config.status\n",
      "config.status: creating Makefile\n",
      "config.status: creating examples/Makefile\n",
      "config.status: creating src/Makefile\n",
      "config.status: creating src/CglAllDifferent/Makefile\n",
      "config.status: creating src/CglClique/Makefile\n",
      "config.status: creating src/CglDuplicateRow/Makefile\n",
      "config.status: creating src/CglFlowCover/Makefile\n",
      "config.status: creating src/CglGMI/Makefile\n",
      "config.status: creating src/CglGomory/Makefile\n",
      "config.status: creating src/CglKnapsackCover/Makefile\n",
      "config.status: creating src/CglLandP/Makefile\n",
      "config.status: creating src/CglLiftAndProject/Makefile\n",
      "config.status: creating src/CglMixedIntegerRounding/Makefile\n",
      "config.status: creating src/CglMixedIntegerRounding2/Makefile\n",
      "config.status: creating src/CglOddHole/Makefile\n",
      "config.status: creating src/CglPreProcess/Makefile\n",
      "config.status: creating src/CglProbing/Makefile\n",
      "config.status: creating src/CglRedSplit/Makefile\n",
      "config.status: creating src/CglRedSplit2/Makefile\n",
      "config.status: creating src/CglResidualCapacity/Makefile\n",
      "config.status: creating src/CglSimpleRounding/Makefile\n",
      "config.status: creating src/CglTwomir/Makefile\n",
      "config.status: creating src/CglZeroHalf/Makefile\n",
      "config.status: creating test/Makefile\n",
      "config.status: creating cgl.pc\n",
      "config.status: creating cgl-uninstalled.pc\n",
      "config.status: creating doxydoc/doxygen.conf\n",
      "config.status: creating src/config.h\n",
      "config.status: creating src/config_cgl.h\n",
      "config.status: executing depfiles commands\n",
      "configure: In case of trouble, first consult the troubleshooting page at https://projects.coin-or.org/BuildTools/wiki/user-troubleshooting\n",
      "configure: Configuration of Cgl successful\n",
      "configure: configuring in Cbc\n",
      "configure: running /bin/bash './configure' --prefix=/home/pedro/.julia/v0.5/Cbc/deps/usr  '--prefix=/home/pedro/.julia/v0.5/Cbc/deps/usr' '--without-blas' '--without-lapack' '--enable-cbc-parallel' --cache-file=/dev/null --srcdir=.\n",
      "checking build system type... x86_64-unknown-linux-gnu\n",
      "checking for svnversion... no\n",
      "checking whether we want to compile in debug mode... no\n",
      "checking for gcc... gcc\n",
      "checking for C compiler default output file name... a.out\n",
      "checking whether the C compiler works... yes\n",
      "checking whether we are cross compiling... no\n",
      "checking for suffix of executables... \n",
      "checking for suffix of object files... o\n",
      "checking whether we are using the GNU C compiler... yes\n",
      "checking whether gcc accepts -g... yes\n",
      "checking for gcc option to accept ANSI C... none needed\n",
      "configure: C compiler options are: -O3 -pipe -DNDEBUG -pedantic-errors -Wimplicit -Wparentheses -Wsequence-point -Wreturn-type -Wcast-qual -Wall -Wno-unknown-pragmas -Wno-long-long   -DCBC_BUILD\n",
      "checking for g++... g++\n",
      "checking whether we are using the GNU C++ compiler... yes\n",
      "checking whether g++ accepts -g... yes\n",
      "checking whether C++ compiler g++ works... yes\n",
      "configure: C++ compiler options are: -O3 -pipe -DNDEBUG -pedantic-errors -Wparentheses -Wreturn-type -Wcast-qual -Wall -Wpointer-arith -Wwrite-strings -Wconversion -Wno-unknown-pragmas -Wno-long-long   -DCBC_BUILD\n",
      "checking for egrep... grep -E\n",
      "checking whether ln -s works... yes\n",
      "checking for a BSD-compatible install... /usr/bin/install -c\n",
      "checking whether build environment is sane... yes\n",
      "checking for gawk... no\n",
      "checking for mawk... mawk\n",
      "checking whether make sets $(MAKE)... yes\n",
      "checking for style of include used by make... GNU\n",
      "checking dependency style of gcc... gcc3\n",
      "checking dependency style of g++... gcc3\n",
      "checking whether to enable maintainer-specific portions of Makefiles... no\n",
      "configure: Using libtool script in directory ..\n"
     ]
    },
    {
     "name": "stderr",
     "output_type": "stream",
     "text": [
      "./configure: line 5304: cd: /home/pedro/.julia/v0.5/Cbc/deps/usr: No such file or directory\n"
     ]
    },
    {
     "name": "stdout",
     "output_type": "stream",
     "text": [
      "checking if library version is set... 12:8:9\n",
      "checking for pkg-config... pkg-config\n",
      "checking pkg-config is at least version 0.16.0... yes\n",
      "checking for COIN-OR package CoinDepend... yes: 0.59.9 0.107.8 2.10.13 \n",
      "checking for COIN-OR package Clp... yes: 1.16.10 \n",
      "checking for COIN-OR package OsiTests... yes: 0.107.8 \n",
      "checking for COIN-OR package Sample... yes: 1.2.10 \n",
      "checking for COIN-OR package Netlib... not given: No package 'coindatanetlib' found\n",
      "checking for COIN-OR package Miplib3... yes: 1.2.6 \n",
      "checking cmath usability... yes\n",
      "checking cmath presence... yes\n",
      "checking for cmath... yes\n",
      "checking cfloat usability... yes\n",
      "checking cfloat presence... yes\n",
      "checking for cfloat... yes\n",
      "checking cieeefp usability... no\n",
      "checking cieeefp presence... no\n",
      "checking for cieeefp... no\n",
      "checking ieeefp.h usability... no\n",
      "checking ieeefp.h presence... no\n",
      "checking for ieeefp.h... no\n",
      "checking for COIN-OR package DyLP... not given: No package 'osi-dylp' found\n",
      "checking for COIN-OR package Vol... not given: No package 'osi-vol' found\n",
      "checking for COIN-OR package Cpx... not given: No package 'osi-cplex' found\n",
      "checking for COIN-OR package Glpk... not given: No package 'osi-glpk' found\n",
      "checking for COIN-OR package Grb... not given: No package 'osi-gurobi' found\n",
      "checking for COIN-OR package Msk... not given: No package 'osi-mosek' found\n",
      "checking for COIN-OR package Spx... not given: No package 'osi-soplex' found\n",
      "checking for COIN-OR package Xpr... not given: No package 'osi-xpress' found\n",
      "checking for COIN-OR package ASL... not given: No package 'coinasl' found\n",
      "checking if user provides library for Nauty... no\n",
      "checking for cbc-generic default solver... clp\n",
      "checking for clock_gettime in -lrt... yes\n",
      "checking for pthread_create in -lpthread... yes\n",
      "configure: Cbc multithreading enabled\n",
      "configure: OsiCbc default solver is clp\n",
      "checking whether this is a VPATH configuration... no\n",
      "configure: configuring doxygen documentation options\n",
      "checking for doxygen... no\n",
      "checking for latex... no\n",
      "checking for dot... NO\n",
      "checking for doxygen doc'n for CoinUtils ... ../CoinUtils/doxydoc (tag)\n",
      "checking for doxygen doc'n for Osi ... ../Osi/doxydoc (tag)\n",
      "checking for doxygen doc'n for Clp ... ../Clp/doxydoc (tag)\n",
      "checking for doxygen doc'n for DyLP ... /home/pedro/.julia/v0.5/Cbc/deps/usr/share/coin/doc/DyLP/doxydoc (tag)\n",
      "checking for doxygen doc'n for Cgl ... ../Cgl/doxydoc (tag)\n",
      "checking for doxygen doc'n for Vol ... /home/pedro/.julia/v0.5/Cbc/deps/usr/share/coin/doc/Vol/doxydoc (tag)\n",
      "checking which command should be used to link input files... ln -s\n",
      "configure: creating ./config.status\n",
      "config.status: creating Makefile\n",
      "config.status: creating examples/Makefile\n",
      "config.status: creating src/Makefile\n",
      "config.status: creating src/OsiCbc/Makefile\n",
      "config.status: creating test/Makefile\n",
      "config.status: creating cbc.pc\n",
      "config.status: creating cbc-uninstalled.pc\n",
      "config.status: creating osi-cbc.pc\n",
      "config.status: creating osi-cbc-uninstalled.pc\n",
      "config.status: creating doxydoc/doxygen.conf\n",
      "config.status: creating src/config.h\n",
      "config.status: creating src/config_cbc.h\n",
      "config.status: executing depfiles commands\n",
      "configure: In case of trouble, first consult the troubleshooting page at https://projects.coin-or.org/BuildTools/wiki/user-troubleshooting\n",
      "configure: Configuration of Cbc successful\n",
      "configure: In case of trouble, first consult the troubleshooting page at https://projects.coin-or.org/BuildTools/wiki/user-troubleshooting\n",
      "configure: Main configuration of Cbc successful\n",
      "Making install in Data/Sample\n",
      "make[1]: Entering directory '/home/pedro/.julia/v0.5/Cbc/deps/src/Cbc-2.9.8/Data/Sample'\n",
      "make[2]: Entering directory '/home/pedro/.julia/v0.5/Cbc/deps/src/Cbc-2.9.8/Data/Sample'\n",
      "make[2]: Nothing to be done for 'install-exec-am'.\n",
      "test -z \"/home/pedro/.julia/v0.5/Cbc/deps/usr/share/coin/Data/Sample\" || mkdir -p -- \"/home/pedro/.julia/v0.5/Cbc/deps/usr/share/coin/Data/Sample\"\n",
      " /usr/bin/install -c -m 644 'afiro.mps' '/home/pedro/.julia/v0.5/Cbc/deps/usr/share/coin/Data/Sample/afiro.mps'\n",
      " /usr/bin/install -c -m 644 'atm_5_10_1.mps' '/home/pedro/.julia/v0.5/Cbc/deps/usr/share/coin/Data/Sample/atm_5_10_1.mps'\n",
      " /usr/bin/install -c -m 644 'brandy.mps' '/home/pedro/.julia/v0.5/Cbc/deps/usr/share/coin/Data/Sample/brandy.mps'\n",
      " /usr/bin/install -c -m 644 'conic.mps' '/home/pedro/.julia/v0.5/Cbc/deps/usr/share/coin/Data/Sample/conic.mps'\n",
      " /usr/bin/install -c -m 644 'e226.mps' '/home/pedro/.julia/v0.5/Cbc/deps/usr/share/coin/Data/Sample/e226.mps'\n",
      " /usr/bin/install -c -m 644 'exmip1.5.mps' '/home/pedro/.julia/v0.5/Cbc/deps/usr/share/coin/Data/Sample/exmip1.5.mps'\n",
      " /usr/bin/install -c -m 644 'exmip1.mps' '/home/pedro/.julia/v0.5/Cbc/deps/usr/share/coin/Data/Sample/exmip1.mps'\n",
      " /usr/bin/install -c -m 644 'finnis.mps' '/home/pedro/.julia/v0.5/Cbc/deps/usr/share/coin/Data/Sample/finnis.mps'\n"
     ]
    },
    {
     "name": "stderr",
     "output_type": "stream",
     "text": [
      "\u001b[1m\u001b[34mINFO: Changing Directory to /home/pedro/.julia/v0.5/Cbc/deps/src/Cbc-2.9.8\n",
      "\u001b[0m"
     ]
    },
    {
     "name": "stdout",
     "output_type": "stream",
     "text": [
      " /usr/bin/install -c -m 644 'galenet.mps' '/home/pedro/.julia/v0.5/Cbc/deps/usr/share/coin/Data/Sample/galenet.mps'\n",
      " /usr/bin/install -c -m 644 'galenetbnds.mps' '/home/pedro/.julia/v0.5/Cbc/deps/usr/share/coin/Data/Sample/galenetbnds.mps'\n",
      " /usr/bin/install -c -m 644 'hello.mps' '/home/pedro/.julia/v0.5/Cbc/deps/usr/share/coin/Data/Sample/hello.mps'\n",
      " /usr/bin/install -c -m 644 'lseu.mps' '/home/pedro/.julia/v0.5/Cbc/deps/usr/share/coin/Data/Sample/lseu.mps'\n",
      " /usr/bin/install -c -m 644 'nw460.mps' '/home/pedro/.julia/v0.5/Cbc/deps/usr/share/coin/Data/Sample/nw460.mps'\n",
      " /usr/bin/install -c -m 644 'p0033.mps' '/home/pedro/.julia/v0.5/Cbc/deps/usr/share/coin/Data/Sample/p0033.mps'\n",
      " /usr/bin/install -c -m 644 'p0201.mps' '/home/pedro/.julia/v0.5/Cbc/deps/usr/share/coin/Data/Sample/p0201.mps'\n",
      " /usr/bin/install -c -m 644 'p0548.mps' '/home/pedro/.julia/v0.5/Cbc/deps/usr/share/coin/Data/Sample/p0548.mps'\n",
      " /usr/bin/install -c -m 644 'pack1.mps' '/home/pedro/.julia/v0.5/Cbc/deps/usr/share/coin/Data/Sample/pack1.mps'\n",
      " /usr/bin/install -c -m 644 'retail3.mps' '/home/pedro/.julia/v0.5/Cbc/deps/usr/share/coin/Data/Sample/retail3.mps'\n",
      " /usr/bin/install -c -m 644 'scOneInt.mps' '/home/pedro/.julia/v0.5/Cbc/deps/usr/share/coin/Data/Sample/scOneInt.mps'\n",
      " /usr/bin/install -c -m 644 'share2qp.mps' '/home/pedro/.julia/v0.5/Cbc/deps/usr/share/coin/Data/Sample/share2qp.mps'\n",
      " /usr/bin/install -c -m 644 'spec_sections.mps' '/home/pedro/.julia/v0.5/Cbc/deps/usr/share/coin/Data/Sample/spec_sections.mps'\n",
      " /usr/bin/install -c -m 644 'tp3.mps' '/home/pedro/.julia/v0.5/Cbc/deps/usr/share/coin/Data/Sample/tp3.mps'\n",
      " /usr/bin/install -c -m 644 'tp4.mps' '/home/pedro/.julia/v0.5/Cbc/deps/usr/share/coin/Data/Sample/tp4.mps'\n",
      " /usr/bin/install -c -m 644 'tp5.mps' '/home/pedro/.julia/v0.5/Cbc/deps/usr/share/coin/Data/Sample/tp5.mps'\n",
      " /usr/bin/install -c -m 644 'wedding_16.mps' '/home/pedro/.julia/v0.5/Cbc/deps/usr/share/coin/Data/Sample/wedding_16.mps'\n",
      " /usr/bin/install -c -m 644 'block_milp.lp' '/home/pedro/.julia/v0.5/Cbc/deps/usr/share/coin/Data/Sample/block_milp.lp'\n",
      " /usr/bin/install -c -m 644 'exmip1.lp' '/home/pedro/.julia/v0.5/Cbc/deps/usr/share/coin/Data/Sample/exmip1.lp'\n",
      " /usr/bin/install -c -m 644 'atm_5_10_1.block' '/home/pedro/.julia/v0.5/Cbc/deps/usr/share/coin/Data/Sample/atm_5_10_1.block'\n",
      " /usr/bin/install -c -m 644 'retail3.block' '/home/pedro/.julia/v0.5/Cbc/deps/usr/share/coin/Data/Sample/retail3.block'\n",
      " /usr/bin/install -c -m 644 'wedding_16.block' '/home/pedro/.julia/v0.5/Cbc/deps/usr/share/coin/Data/Sample/wedding_16.block'\n",
      " /usr/bin/install -c -m 644 'block_milp.dec' '/home/pedro/.julia/v0.5/Cbc/deps/usr/share/coin/Data/Sample/block_milp.dec'\n",
      " /usr/bin/install -c -m 644 'input.130' '/home/pedro/.julia/v0.5/Cbc/deps/usr/share/coin/Data/Sample/input.130'\n",
      " /usr/bin/install -c -m 644 'app0110.cor' '/home/pedro/.julia/v0.5/Cbc/deps/usr/share/coin/Data/Sample/app0110.cor'\n",
      " /usr/bin/install -c -m 644 'app0110.stoch' '/home/pedro/.julia/v0.5/Cbc/deps/usr/share/coin/Data/Sample/app0110.stoch'\n",
      " /usr/bin/install -c -m 644 'app0110.time' '/home/pedro/.julia/v0.5/Cbc/deps/usr/share/coin/Data/Sample/app0110.time'\n",
      " /usr/bin/install -c -m 644 'app0110R.cor' '/home/pedro/.julia/v0.5/Cbc/deps/usr/share/coin/Data/Sample/app0110R.cor'\n",
      " /usr/bin/install -c -m 644 'app0110R.stoch' '/home/pedro/.julia/v0.5/Cbc/deps/usr/share/coin/Data/Sample/app0110R.stoch'\n",
      " /usr/bin/install -c -m 644 'app0110R.time' '/home/pedro/.julia/v0.5/Cbc/deps/usr/share/coin/Data/Sample/app0110R.time'\n",
      " /usr/bin/install -c -m 644 'bug.cor' '/home/pedro/.julia/v0.5/Cbc/deps/usr/share/coin/Data/Sample/bug.cor'\n",
      " /usr/bin/install -c -m 644 'bug.stoch' '/home/pedro/.julia/v0.5/Cbc/deps/usr/share/coin/Data/Sample/bug.stoch'\n",
      " /usr/bin/install -c -m 644 'bug.time' '/home/pedro/.julia/v0.5/Cbc/deps/usr/share/coin/Data/Sample/bug.time'\n",
      "test -z \"/home/pedro/.julia/v0.5/Cbc/deps/usr/lib/pkgconfig\" || mkdir -p -- \"/home/pedro/.julia/v0.5/Cbc/deps/usr/lib/pkgconfig\"\n",
      " /usr/bin/install -c -m 644 'coindatasample.pc' '/home/pedro/.julia/v0.5/Cbc/deps/usr/lib/pkgconfig/coindatasample.pc'\n",
      "make[2]: Leaving directory '/home/pedro/.julia/v0.5/Cbc/deps/src/Cbc-2.9.8/Data/Sample'\n",
      "make[1]: Leaving directory '/home/pedro/.julia/v0.5/Cbc/deps/src/Cbc-2.9.8/Data/Sample'\n",
      "Making install in Data/miplib3\n",
      "make[1]: Entering directory '/home/pedro/.julia/v0.5/Cbc/deps/src/Cbc-2.9.8/Data/miplib3'\n",
      "gzip -d -c 10teams.gz > 10teams\n",
      "gzip -d -c air03.gz > air03\n",
      "gzip -d -c air04.gz > air04\n",
      "gzip -d -c air05.gz > air05\n",
      "gzip -d -c arki001.gz > arki001\n",
      "gzip -d -c bell3a.gz > bell3a\n",
      "gzip -d -c bell5.gz > bell5\n",
      "gzip -d -c blend2.gz > blend2\n",
      "gzip -d -c cap6000.gz > cap6000\n",
      "gzip -d -c dano3mip.gz > dano3mip\n",
      "gzip -d -c danoint.gz > danoint\n",
      "gzip -d -c dcmulti.gz > dcmulti\n",
      "gzip -d -c dsbmip.gz > dsbmip\n",
      "gzip -d -c egout.gz > egout\n",
      "gzip -d -c enigma.gz > enigma\n",
      "gzip -d -c fast0507.gz > fast0507\n",
      "gzip -d -c fiber.gz > fiber\n",
      "gzip -d -c fixnet6.gz > fixnet6\n",
      "gzip -d -c flugpl.gz > flugpl\n",
      "gzip -d -c gen.gz > gen\n",
      "gzip -d -c gesa2.gz > gesa2\n",
      "gzip -d -c gesa2_o.gz > gesa2_o\n",
      "gzip -d -c gesa3.gz > gesa3\n",
      "gzip -d -c gesa3_o.gz > gesa3_o\n",
      "gzip -d -c gt2.gz > gt2\n",
      "gzip -d -c harp2.gz > harp2\n",
      "gzip -d -c khb05250.gz > khb05250\n",
      "gzip -d -c l152lav.gz > l152lav\n",
      "gzip -d -c lseu.gz > lseu\n",
      "gzip -d -c markshare1.gz > markshare1\n",
      "gzip -d -c markshare2.gz > markshare2\n",
      "gzip -d -c mas74.gz > mas74\n",
      "gzip -d -c mas76.gz > mas76\n",
      "gzip -d -c misc03.gz > misc03\n",
      "gzip -d -c misc06.gz > misc06\n",
      "gzip -d -c misc07.gz > misc07\n",
      "gzip -d -c mitre.gz > mitre\n",
      "gzip -d -c mkc.gz > mkc\n",
      "gzip -d -c mod008.gz > mod008\n",
      "gzip -d -c mod010.gz > mod010\n",
      "gzip -d -c mod011.gz > mod011\n",
      "gzip -d -c modglob.gz > modglob\n",
      "gzip -d -c noswot.gz > noswot\n",
      "gzip -d -c nw04.gz > nw04\n",
      "gzip -d -c p0033.gz > p0033\n",
      "gzip -d -c p0201.gz > p0201\n",
      "gzip -d -c p0282.gz > p0282\n",
      "gzip -d -c p0548.gz > p0548\n",
      "gzip -d -c p2756.gz > p2756\n",
      "gzip -d -c pk1.gz > pk1\n",
      "gzip -d -c pp08a.gz > pp08a\n",
      "gzip -d -c pp08aCUTS.gz > pp08aCUTS\n",
      "gzip -d -c qiu.gz > qiu\n",
      "gzip -d -c qnet1.gz > qnet1\n",
      "gzip -d -c qnet1_o.gz > qnet1_o\n",
      "gzip -d -c rentacar.gz > rentacar\n",
      "gzip -d -c rgn.gz > rgn\n",
      "gzip -d -c rout.gz > rout\n",
      "gzip -d -c set1ch.gz > set1ch\n",
      "gzip -d -c seymour.gz > seymour\n",
      "gzip -d -c stein27.gz > stein27\n",
      "gzip -d -c stein45.gz > stein45\n",
      "gzip -d -c swath.gz > swath\n",
      "gzip -d -c vpm1.gz > vpm1\n",
      "gzip -d -c vpm2.gz > vpm2\n",
      "make[2]: Entering directory '/home/pedro/.julia/v0.5/Cbc/deps/src/Cbc-2.9.8/Data/miplib3'\n",
      "make[2]: Nothing to be done for 'install-exec-am'.\n",
      "test -z \"/home/pedro/.julia/v0.5/Cbc/deps/usr/share/coin/Data/miplib3\" || mkdir -p -- \"/home/pedro/.julia/v0.5/Cbc/deps/usr/share/coin/Data/miplib3\"\n",
      " /usr/bin/install -c -m 644 '10teams' '/home/pedro/.julia/v0.5/Cbc/deps/usr/share/coin/Data/miplib3/10teams'\n",
      " /usr/bin/install -c -m 644 'air03' '/home/pedro/.julia/v0.5/Cbc/deps/usr/share/coin/Data/miplib3/air03'\n",
      " /usr/bin/install -c -m 644 'air04' '/home/pedro/.julia/v0.5/Cbc/deps/usr/share/coin/Data/miplib3/air04'\n",
      " /usr/bin/install -c -m 644 'air05' '/home/pedro/.julia/v0.5/Cbc/deps/usr/share/coin/Data/miplib3/air05'\n",
      " /usr/bin/install -c -m 644 'arki001' '/home/pedro/.julia/v0.5/Cbc/deps/usr/share/coin/Data/miplib3/arki001'\n",
      " /usr/bin/install -c -m 644 'bell3a' '/home/pedro/.julia/v0.5/Cbc/deps/usr/share/coin/Data/miplib3/bell3a'\n",
      " /usr/bin/install -c -m 644 'bell5' '/home/pedro/.julia/v0.5/Cbc/deps/usr/share/coin/Data/miplib3/bell5'\n",
      " /usr/bin/install -c -m 644 'blend2' '/home/pedro/.julia/v0.5/Cbc/deps/usr/share/coin/Data/miplib3/blend2'\n",
      " /usr/bin/install -c -m 644 'cap6000' '/home/pedro/.julia/v0.5/Cbc/deps/usr/share/coin/Data/miplib3/cap6000'\n",
      " /usr/bin/install -c -m 644 'dano3mip' '/home/pedro/.julia/v0.5/Cbc/deps/usr/share/coin/Data/miplib3/dano3mip'\n",
      " /usr/bin/install -c -m 644 'danoint' '/home/pedro/.julia/v0.5/Cbc/deps/usr/share/coin/Data/miplib3/danoint'\n",
      " /usr/bin/install -c -m 644 'dcmulti' '/home/pedro/.julia/v0.5/Cbc/deps/usr/share/coin/Data/miplib3/dcmulti'\n",
      " /usr/bin/install -c -m 644 'dsbmip' '/home/pedro/.julia/v0.5/Cbc/deps/usr/share/coin/Data/miplib3/dsbmip'\n",
      " /usr/bin/install -c -m 644 'egout' '/home/pedro/.julia/v0.5/Cbc/deps/usr/share/coin/Data/miplib3/egout'\n",
      " /usr/bin/install -c -m 644 'enigma' '/home/pedro/.julia/v0.5/Cbc/deps/usr/share/coin/Data/miplib3/enigma'\n",
      " /usr/bin/install -c -m 644 'fast0507' '/home/pedro/.julia/v0.5/Cbc/deps/usr/share/coin/Data/miplib3/fast0507'\n",
      " /usr/bin/install -c -m 644 'fiber' '/home/pedro/.julia/v0.5/Cbc/deps/usr/share/coin/Data/miplib3/fiber'\n",
      " /usr/bin/install -c -m 644 'fixnet6' '/home/pedro/.julia/v0.5/Cbc/deps/usr/share/coin/Data/miplib3/fixnet6'\n",
      " /usr/bin/install -c -m 644 'flugpl' '/home/pedro/.julia/v0.5/Cbc/deps/usr/share/coin/Data/miplib3/flugpl'\n",
      " /usr/bin/install -c -m 644 'gen' '/home/pedro/.julia/v0.5/Cbc/deps/usr/share/coin/Data/miplib3/gen'\n",
      " /usr/bin/install -c -m 644 'gesa2' '/home/pedro/.julia/v0.5/Cbc/deps/usr/share/coin/Data/miplib3/gesa2'\n",
      " /usr/bin/install -c -m 644 'gesa2_o' '/home/pedro/.julia/v0.5/Cbc/deps/usr/share/coin/Data/miplib3/gesa2_o'\n",
      " /usr/bin/install -c -m 644 'gesa3' '/home/pedro/.julia/v0.5/Cbc/deps/usr/share/coin/Data/miplib3/gesa3'\n",
      " /usr/bin/install -c -m 644 'gesa3_o' '/home/pedro/.julia/v0.5/Cbc/deps/usr/share/coin/Data/miplib3/gesa3_o'\n",
      " /usr/bin/install -c -m 644 'gt2' '/home/pedro/.julia/v0.5/Cbc/deps/usr/share/coin/Data/miplib3/gt2'\n",
      " /usr/bin/install -c -m 644 'harp2' '/home/pedro/.julia/v0.5/Cbc/deps/usr/share/coin/Data/miplib3/harp2'\n",
      " /usr/bin/install -c -m 644 'khb05250' '/home/pedro/.julia/v0.5/Cbc/deps/usr/share/coin/Data/miplib3/khb05250'\n",
      " /usr/bin/install -c -m 644 'l152lav' '/home/pedro/.julia/v0.5/Cbc/deps/usr/share/coin/Data/miplib3/l152lav'\n",
      " /usr/bin/install -c -m 644 'lseu' '/home/pedro/.julia/v0.5/Cbc/deps/usr/share/coin/Data/miplib3/lseu'\n",
      " /usr/bin/install -c -m 644 'markshare1' '/home/pedro/.julia/v0.5/Cbc/deps/usr/share/coin/Data/miplib3/markshare1'\n",
      " /usr/bin/install -c -m 644 'markshare2' '/home/pedro/.julia/v0.5/Cbc/deps/usr/share/coin/Data/miplib3/markshare2'\n",
      " /usr/bin/install -c -m 644 'mas74' '/home/pedro/.julia/v0.5/Cbc/deps/usr/share/coin/Data/miplib3/mas74'\n",
      " /usr/bin/install -c -m 644 'mas76' '/home/pedro/.julia/v0.5/Cbc/deps/usr/share/coin/Data/miplib3/mas76'\n",
      " /usr/bin/install -c -m 644 'misc03' '/home/pedro/.julia/v0.5/Cbc/deps/usr/share/coin/Data/miplib3/misc03'\n",
      " /usr/bin/install -c -m 644 'misc06' '/home/pedro/.julia/v0.5/Cbc/deps/usr/share/coin/Data/miplib3/misc06'\n",
      " /usr/bin/install -c -m 644 'misc07' '/home/pedro/.julia/v0.5/Cbc/deps/usr/share/coin/Data/miplib3/misc07'\n",
      " /usr/bin/install -c -m 644 'mitre' '/home/pedro/.julia/v0.5/Cbc/deps/usr/share/coin/Data/miplib3/mitre'\n",
      " /usr/bin/install -c -m 644 'mkc' '/home/pedro/.julia/v0.5/Cbc/deps/usr/share/coin/Data/miplib3/mkc'\n",
      " /usr/bin/install -c -m 644 'mod008' '/home/pedro/.julia/v0.5/Cbc/deps/usr/share/coin/Data/miplib3/mod008'\n",
      " /usr/bin/install -c -m 644 'mod010' '/home/pedro/.julia/v0.5/Cbc/deps/usr/share/coin/Data/miplib3/mod010'\n",
      " /usr/bin/install -c -m 644 'mod011' '/home/pedro/.julia/v0.5/Cbc/deps/usr/share/coin/Data/miplib3/mod011'\n",
      " /usr/bin/install -c -m 644 'modglob' '/home/pedro/.julia/v0.5/Cbc/deps/usr/share/coin/Data/miplib3/modglob'\n",
      " /usr/bin/install -c -m 644 'noswot' '/home/pedro/.julia/v0.5/Cbc/deps/usr/share/coin/Data/miplib3/noswot'\n",
      " /usr/bin/install -c -m 644 'nw04' '/home/pedro/.julia/v0.5/Cbc/deps/usr/share/coin/Data/miplib3/nw04'\n",
      " /usr/bin/install -c -m 644 'p0033' '/home/pedro/.julia/v0.5/Cbc/deps/usr/share/coin/Data/miplib3/p0033'\n",
      " /usr/bin/install -c -m 644 'p0201' '/home/pedro/.julia/v0.5/Cbc/deps/usr/share/coin/Data/miplib3/p0201'\n",
      " /usr/bin/install -c -m 644 'p0282' '/home/pedro/.julia/v0.5/Cbc/deps/usr/share/coin/Data/miplib3/p0282'\n",
      " /usr/bin/install -c -m 644 'p0548' '/home/pedro/.julia/v0.5/Cbc/deps/usr/share/coin/Data/miplib3/p0548'\n",
      " /usr/bin/install -c -m 644 'p2756' '/home/pedro/.julia/v0.5/Cbc/deps/usr/share/coin/Data/miplib3/p2756'\n",
      " /usr/bin/install -c -m 644 'pk1' '/home/pedro/.julia/v0.5/Cbc/deps/usr/share/coin/Data/miplib3/pk1'\n",
      " /usr/bin/install -c -m 644 'pp08a' '/home/pedro/.julia/v0.5/Cbc/deps/usr/share/coin/Data/miplib3/pp08a'\n",
      " /usr/bin/install -c -m 644 'pp08aCUTS' '/home/pedro/.julia/v0.5/Cbc/deps/usr/share/coin/Data/miplib3/pp08aCUTS'\n",
      " /usr/bin/install -c -m 644 'qiu' '/home/pedro/.julia/v0.5/Cbc/deps/usr/share/coin/Data/miplib3/qiu'\n",
      " /usr/bin/install -c -m 644 'qnet1' '/home/pedro/.julia/v0.5/Cbc/deps/usr/share/coin/Data/miplib3/qnet1'\n",
      " /usr/bin/install -c -m 644 'qnet1_o' '/home/pedro/.julia/v0.5/Cbc/deps/usr/share/coin/Data/miplib3/qnet1_o'\n",
      " /usr/bin/install -c -m 644 'rentacar' '/home/pedro/.julia/v0.5/Cbc/deps/usr/share/coin/Data/miplib3/rentacar'\n",
      " /usr/bin/install -c -m 644 'rgn' '/home/pedro/.julia/v0.5/Cbc/deps/usr/share/coin/Data/miplib3/rgn'\n",
      " /usr/bin/install -c -m 644 'rout' '/home/pedro/.julia/v0.5/Cbc/deps/usr/share/coin/Data/miplib3/rout'\n",
      " /usr/bin/install -c -m 644 'set1ch' '/home/pedro/.julia/v0.5/Cbc/deps/usr/share/coin/Data/miplib3/set1ch'\n",
      " /usr/bin/install -c -m 644 'seymour' '/home/pedro/.julia/v0.5/Cbc/deps/usr/share/coin/Data/miplib3/seymour'\n",
      " /usr/bin/install -c -m 644 'stein27' '/home/pedro/.julia/v0.5/Cbc/deps/usr/share/coin/Data/miplib3/stein27'\n",
      " /usr/bin/install -c -m 644 'stein45' '/home/pedro/.julia/v0.5/Cbc/deps/usr/share/coin/Data/miplib3/stein45'\n",
      " /usr/bin/install -c -m 644 'swath' '/home/pedro/.julia/v0.5/Cbc/deps/usr/share/coin/Data/miplib3/swath'\n",
      " /usr/bin/install -c -m 644 'vpm1' '/home/pedro/.julia/v0.5/Cbc/deps/usr/share/coin/Data/miplib3/vpm1'\n",
      " /usr/bin/install -c -m 644 'vpm2' '/home/pedro/.julia/v0.5/Cbc/deps/usr/share/coin/Data/miplib3/vpm2'\n",
      "test -z \"/home/pedro/.julia/v0.5/Cbc/deps/usr/lib/pkgconfig\" || mkdir -p -- \"/home/pedro/.julia/v0.5/Cbc/deps/usr/lib/pkgconfig\"\n",
      " /usr/bin/install -c -m 644 'coindatamiplib3.pc' '/home/pedro/.julia/v0.5/Cbc/deps/usr/lib/pkgconfig/coindatamiplib3.pc'\n",
      "make[2]: Leaving directory '/home/pedro/.julia/v0.5/Cbc/deps/src/Cbc-2.9.8/Data/miplib3'\n",
      "make[1]: Leaving directory '/home/pedro/.julia/v0.5/Cbc/deps/src/Cbc-2.9.8/Data/miplib3'\n",
      "Making install in CoinUtils\n",
      "make[1]: Entering directory '/home/pedro/.julia/v0.5/Cbc/deps/src/Cbc-2.9.8/CoinUtils'\n",
      "Making install in src\n",
      "make[2]: Entering directory '/home/pedro/.julia/v0.5/Cbc/deps/src/Cbc-2.9.8/CoinUtils/src'\n",
      "if /bin/bash ../../libtool --tag=CXX --mode=compile g++ -DHAVE_CONFIG_H -I. -I`echo .`     -O3 -pipe -DNDEBUG -pedantic-errors -Wparentheses -Wreturn-type -Wcast-qual -Wall -Wpointer-arith -Wwrite-strings -Wconversion -Wno-unknown-pragmas -Wno-long-long   -DCOINUTILS_BUILD -MT CoinAlloc.lo -MD -MP -MF \".deps/CoinAlloc.Tpo\" -c -o CoinAlloc.lo CoinAlloc.cpp; \\\n",
      "then mv -f \".deps/CoinAlloc.Tpo\" \".deps/CoinAlloc.Plo\"; else rm -f \".deps/CoinAlloc.Tpo\"; exit 1; fi\n",
      "mkdir .libs\n",
      " g++ -DHAVE_CONFIG_H -I. -I. -O3 -pipe -DNDEBUG -pedantic-errors -Wparentheses -Wreturn-type -Wcast-qual -Wall -Wpointer-arith -Wwrite-strings -Wconversion -Wno-unknown-pragmas -Wno-long-long -DCOINUTILS_BUILD -MT CoinAlloc.lo -MD -MP -MF .deps/CoinAlloc.Tpo -c CoinAlloc.cpp  -fPIC -DPIC -o .libs/CoinAlloc.o\n",
      "if /bin/bash ../../libtool --tag=CXX --mode=compile g++ -DHAVE_CONFIG_H -I. -I`echo .`     -O3 -pipe -DNDEBUG -pedantic-errors -Wparentheses -Wreturn-type -Wcast-qual -Wall -Wpointer-arith -Wwrite-strings -Wconversion -Wno-unknown-pragmas -Wno-long-long   -DCOINUTILS_BUILD -MT CoinBuild.lo -MD -MP -MF \".deps/CoinBuild.Tpo\" -c -o CoinBuild.lo CoinBuild.cpp; \\\n",
      "then mv -f \".deps/CoinBuild.Tpo\" \".deps/CoinBuild.Plo\"; else rm -f \".deps/CoinBuild.Tpo\"; exit 1; fi\n",
      " g++ -DHAVE_CONFIG_H -I. -I. -O3 -pipe -DNDEBUG -pedantic-errors -Wparentheses -Wreturn-type -Wcast-qual -Wall -Wpointer-arith -Wwrite-strings -Wconversion -Wno-unknown-pragmas -Wno-long-long -DCOINUTILS_BUILD -MT CoinBuild.lo -MD -MP -MF .deps/CoinBuild.Tpo -c CoinBuild.cpp  -fPIC -DPIC -o .libs/CoinBuild.o\n",
      "if /bin/bash ../../libtool --tag=CXX --mode=compile g++ -DHAVE_CONFIG_H -I. -I`echo .`     -O3 -pipe -DNDEBUG -pedantic-errors -Wparentheses -Wreturn-type -Wcast-qual -Wall -Wpointer-arith -Wwrite-strings -Wconversion -Wno-unknown-pragmas -Wno-long-long   -DCOINUTILS_BUILD -MT CoinDenseVector.lo -MD -MP -MF \".deps/CoinDenseVector.Tpo\" -c -o CoinDenseVector.lo CoinDenseVector.cpp; \\\n",
      "then mv -f \".deps/CoinDenseVector.Tpo\" \".deps/CoinDenseVector.Plo\"; else rm -f \".deps/CoinDenseVector.Tpo\"; exit 1; fi\n"
     ]
    },
    {
     "name": "stderr",
     "output_type": "stream",
     "text": [
      "In file included from CoinBuild.hpp:12:0,\n",
      "                 from CoinBuild.cpp:15:\n",
      "CoinFinite.hpp:17:14: warning: ‘COIN_DBL_MIN’ defined but not used [-Wunused-variable]\n",
      " const double COIN_DBL_MIN = (std::numeric_limits<double>::min)();\n",
      "              ^\n",
      "CoinFinite.hpp:19:14: warning: ‘COIN_INT_MAX’ defined but not used [-Wunused-variable]\n",
      " const int    COIN_INT_MAX = (std::numeric_limits<int>::max)();\n",
      "              ^\n",
      "CoinFinite.hpp:20:14: warning: ‘COIN_INT_MAX_AS_DOUBLE’ defined but not used [-Wunused-variable]\n",
      " const double COIN_INT_MAX_AS_DOUBLE = (std::numeric_limits<int>::max)();\n",
      "              ^\n"
     ]
    },
    {
     "name": "stdout",
     "output_type": "stream",
     "text": [
      " g++ -DHAVE_CONFIG_H -I. -I. -O3 -pipe -DNDEBUG -pedantic-errors -Wparentheses -Wreturn-type -Wcast-qual -Wall -Wpointer-arith -Wwrite-strings -Wconversion -Wno-unknown-pragmas -Wno-long-long -DCOINUTILS_BUILD -MT CoinDenseVector.lo -MD -MP -MF .deps/CoinDenseVector.Tpo -c CoinDenseVector.cpp  -fPIC -DPIC -o .libs/CoinDenseVector.o\n",
      "if /bin/bash ../../libtool --tag=CXX --mode=compile g++ -DHAVE_CONFIG_H -I. -I`echo .`     -O3 -pipe -DNDEBUG -pedantic-errors -Wparentheses -Wreturn-type -Wcast-qual -Wall -Wpointer-arith -Wwrite-strings -Wconversion -Wno-unknown-pragmas -Wno-long-long   -DCOINUTILS_BUILD -MT CoinError.lo -MD -MP -MF \".deps/CoinError.Tpo\" -c -o CoinError.lo CoinError.cpp; \\\n",
      "then mv -f \".deps/CoinError.Tpo\" \".deps/CoinError.Plo\"; else rm -f \".deps/CoinError.Tpo\"; exit 1; fi\n",
      " g++ -DHAVE_CONFIG_H -I. -I. -O3 -pipe -DNDEBUG -pedantic-errors -Wparentheses -Wreturn-type -Wcast-qual -Wall -Wpointer-arith -Wwrite-strings -Wconversion -Wno-unknown-pragmas -Wno-long-long -DCOINUTILS_BUILD -MT CoinError.lo -MD -MP -MF .deps/CoinError.Tpo -c CoinError.cpp  -fPIC -DPIC -o .libs/CoinError.o\n",
      "if /bin/bash ../../libtool --tag=CXX --mode=compile g++ -DHAVE_CONFIG_H -I. -I`echo .`     -O3 -pipe -DNDEBUG -pedantic-errors -Wparentheses -Wreturn-type -Wcast-qual -Wall -Wpointer-arith -Wwrite-strings -Wconversion -Wno-unknown-pragmas -Wno-long-long   -DCOINUTILS_BUILD -MT CoinFactorization1.lo -MD -MP -MF \".deps/CoinFactorization1.Tpo\" -c -o CoinFactorization1.lo CoinFactorization1.cpp; \\\n",
      "then mv -f \".deps/CoinFactorization1.Tpo\" \".deps/CoinFactorization1.Plo\"; else rm -f \".deps/CoinFactorization1.Tpo\"; exit 1; fi\n",
      " g++ -DHAVE_CONFIG_H -I. -I. -O3 -pipe -DNDEBUG -pedantic-errors -Wparentheses -Wreturn-type -Wcast-qual -Wall -Wpointer-arith -Wwrite-strings -Wconversion -Wno-unknown-pragmas -Wno-long-long -DCOINUTILS_BUILD -MT CoinFactorization1.lo -MD -MP -MF .deps/CoinFactorization1.Tpo -c CoinFactorization1.cpp  -fPIC -DPIC -o .libs/CoinFactorization1.o\n"
     ]
    },
    {
     "name": "stderr",
     "output_type": "stream",
     "text": [
      "In file included from CoinIndexedVector.hpp:15:0,\n",
      "                 from CoinFactorization.hpp:22,\n",
      "                 from CoinFactorization1.cpp:14:\n",
      "CoinFinite.hpp:18:14: warning: ‘COIN_DBL_MAX’ defined but not used [-Wunused-variable]\n",
      " const double COIN_DBL_MAX = (std::numeric_limits<double>::max)();\n",
      "              ^\n",
      "CoinFinite.hpp:20:14: warning: ‘COIN_INT_MAX_AS_DOUBLE’ defined but not used [-Wunused-variable]\n",
      " const double COIN_INT_MAX_AS_DOUBLE = (std::numeric_limits<int>::max)();\n",
      "              ^\n"
     ]
    },
    {
     "name": "stdout",
     "output_type": "stream",
     "text": [
      "if /bin/bash ../../libtool --tag=CXX --mode=compile g++ -DHAVE_CONFIG_H -I. -I`echo .`     -O3 -pipe -DNDEBUG -pedantic-errors -Wparentheses -Wreturn-type -Wcast-qual -Wall -Wpointer-arith -Wwrite-strings -Wconversion -Wno-unknown-pragmas -Wno-long-long   -DCOINUTILS_BUILD -MT CoinFactorization2.lo -MD -MP -MF \".deps/CoinFactorization2.Tpo\" -c -o CoinFactorization2.lo CoinFactorization2.cpp; \\\n",
      "then mv -f \".deps/CoinFactorization2.Tpo\" \".deps/CoinFactorization2.Plo\"; else rm -f \".deps/CoinFactorization2.Tpo\"; exit 1; fi\n",
      " g++ -DHAVE_CONFIG_H -I. -I. -O3 -pipe -DNDEBUG -pedantic-errors -Wparentheses -Wreturn-type -Wcast-qual -Wall -Wpointer-arith -Wwrite-strings -Wconversion -Wno-unknown-pragmas -Wno-long-long -DCOINUTILS_BUILD -MT CoinFactorization2.lo -MD -MP -MF .deps/CoinFactorization2.Tpo -c CoinFactorization2.cpp  -fPIC -DPIC -o .libs/CoinFactorization2.o\n"
     ]
    },
    {
     "name": "stderr",
     "output_type": "stream",
     "text": [
      "CoinFactorization2.cpp: In member function ‘int CoinFactorization::factorDense()’:\n",
      "CoinFactorization2.cpp:521:11: warning: conversion to ‘CoinBigIndex {aka int}’ from ‘long unsigned int’ may alter its value [-Wconversion]\n",
      "   newSize += (numberDense_+1)/(sizeof(CoinFactorizationDouble)/sizeof(int));\n",
      "           ^\n",
      "CoinFactorization2.cpp:522:11: warning: conversion to ‘CoinBigIndex {aka int}’ from ‘long unsigned int’ may alter its value [-Wconversion]\n",
      "   newSize += 2*((numberDense_+3)/(sizeof(CoinFactorizationDouble)/sizeof(short)));\n",
      "           ^\n",
      "CoinFactorization2.cpp:523:11: warning: conversion to ‘CoinBigIndex {aka int}’ from ‘long unsigned int’ may alter its value [-Wconversion]\n",
      "   newSize += ((numberRows_+3)/(sizeof(CoinFactorizationDouble)/sizeof(short)));\n",
      "           ^\n"
     ]
    },
    {
     "name": "stdout",
     "output_type": "stream",
     "text": [
      "if /bin/bash ../../libtool --tag=CXX --mode=compile g++ -DHAVE_CONFIG_H -I. -I`echo .`     -O3 -pipe -DNDEBUG -pedantic-errors -Wparentheses -Wreturn-type -Wcast-qual -Wall -Wpointer-arith -Wwrite-strings -Wconversion -Wno-unknown-pragmas -Wno-long-long   -DCOINUTILS_BUILD -MT CoinFactorization3.lo -MD -MP -MF \".deps/CoinFactorization3.Tpo\" -c -o CoinFactorization3.lo CoinFactorization3.cpp; \\\n",
      "then mv -f \".deps/CoinFactorization3.Tpo\" \".deps/CoinFactorization3.Plo\"; else rm -f \".deps/CoinFactorization3.Tpo\"; exit 1; fi\n"
     ]
    },
    {
     "name": "stderr",
     "output_type": "stream",
     "text": [
      "In file included from CoinIndexedVector.hpp:15:0,\n",
      "                 from CoinFactorization.hpp:22,\n",
      "                 from CoinFactorization2.cpp:16:\n",
      "CoinFinite.hpp: At global scope:\n",
      "CoinFinite.hpp:20:14: warning: ‘COIN_INT_MAX_AS_DOUBLE’ defined but not used [-Wunused-variable]\n",
      " const double COIN_INT_MAX_AS_DOUBLE = (std::numeric_limits<int>::max)();\n",
      "              ^\n"
     ]
    },
    {
     "name": "stdout",
     "output_type": "stream",
     "text": [
      " g++ -DHAVE_CONFIG_H -I. -I. -O3 -pipe -DNDEBUG -pedantic-errors -Wparentheses -Wreturn-type -Wcast-qual -Wall -Wpointer-arith -Wwrite-strings -Wconversion -Wno-unknown-pragmas -Wno-long-long -DCOINUTILS_BUILD -MT CoinFactorization3.lo -MD -MP -MF .deps/CoinFactorization3.Tpo -c CoinFactorization3.cpp  -fPIC -DPIC -o .libs/CoinFactorization3.o\n",
      "if /bin/bash ../../libtool --tag=CXX --mode=compile g++ -DHAVE_CONFIG_H -I. -I`echo .`     -O3 -pipe -DNDEBUG -pedantic-errors -Wparentheses -Wreturn-type -Wcast-qual -Wall -Wpointer-arith -Wwrite-strings -Wconversion -Wno-unknown-pragmas -Wno-long-long   -DCOINUTILS_BUILD -MT CoinFactorization4.lo -MD -MP -MF \".deps/CoinFactorization4.Tpo\" -c -o CoinFactorization4.lo CoinFactorization4.cpp; \\\n",
      "then mv -f \".deps/CoinFactorization4.Tpo\" \".deps/CoinFactorization4.Plo\"; else rm -f \".deps/CoinFactorization4.Tpo\"; exit 1; fi\n"
     ]
    },
    {
     "name": "stderr",
     "output_type": "stream",
     "text": [
      "In file included from CoinIndexedVector.hpp:15:0,\n",
      "                 from CoinFactorization.hpp:22,\n",
      "                 from CoinFactorization3.cpp:16:\n",
      "CoinFinite.hpp:18:14: warning: ‘COIN_DBL_MAX’ defined but not used [-Wunused-variable]\n",
      " const double COIN_DBL_MAX = (std::numeric_limits<double>::max)();\n",
      "              ^\n",
      "CoinFinite.hpp:19:14: warning: ‘COIN_INT_MAX’ defined but not used [-Wunused-variable]\n",
      " const int    COIN_INT_MAX = (std::numeric_limits<int>::max)();\n",
      "              ^\n",
      "CoinFinite.hpp:20:14: warning: ‘COIN_INT_MAX_AS_DOUBLE’ defined but not used [-Wunused-variable]\n",
      " const double COIN_INT_MAX_AS_DOUBLE = (std::numeric_limits<int>::max)();\n",
      "              ^\n"
     ]
    },
    {
     "name": "stdout",
     "output_type": "stream",
     "text": [
      " g++ -DHAVE_CONFIG_H -I. -I. -O3 -pipe -DNDEBUG -pedantic-errors -Wparentheses -Wreturn-type -Wcast-qual -Wall -Wpointer-arith -Wwrite-strings -Wconversion -Wno-unknown-pragmas -Wno-long-long -DCOINUTILS_BUILD -MT CoinFactorization4.lo -MD -MP -MF .deps/CoinFactorization4.Tpo -c CoinFactorization4.cpp  -fPIC -DPIC -o .libs/CoinFactorization4.o\n",
      "if /bin/bash ../../libtool --tag=CXX --mode=compile g++ -DHAVE_CONFIG_H -I. -I`echo .`     -O3 -pipe -DNDEBUG -pedantic-errors -Wparentheses -Wreturn-type -Wcast-qual -Wall -Wpointer-arith -Wwrite-strings -Wconversion -Wno-unknown-pragmas -Wno-long-long   -DCOINUTILS_BUILD -MT CoinSimpFactorization.lo -MD -MP -MF \".deps/CoinSimpFactorization.Tpo\" -c -o CoinSimpFactorization.lo CoinSimpFactorization.cpp; \\\n",
      "then mv -f \".deps/CoinSimpFactorization.Tpo\" \".deps/CoinSimpFactorization.Plo\"; else rm -f \".deps/CoinSimpFactorization.Tpo\"; exit 1; fi\n"
     ]
    },
    {
     "name": "stderr",
     "output_type": "stream",
     "text": [
      "In file included from CoinIndexedVector.hpp:15:0,\n",
      "                 from CoinFactorization.hpp:22,\n",
      "                 from CoinFactorization4.cpp:16:\n",
      "CoinFinite.hpp:18:14: warning: ‘COIN_DBL_MAX’ defined but not used [-Wunused-variable]\n",
      " const double COIN_DBL_MAX = (std::numeric_limits<double>::max)();\n",
      "              ^\n",
      "CoinFinite.hpp:19:14: warning: ‘COIN_INT_MAX’ defined but not used [-Wunused-variable]\n",
      " const int    COIN_INT_MAX = (std::numeric_limits<int>::max)();\n",
      "              ^\n",
      "CoinFinite.hpp:20:14: warning: ‘COIN_INT_MAX_AS_DOUBLE’ defined but not used [-Wunused-variable]\n",
      " const double COIN_INT_MAX_AS_DOUBLE = (std::numeric_limits<int>::max)();\n",
      "              ^\n"
     ]
    },
    {
     "name": "stdout",
     "output_type": "stream",
     "text": [
      " g++ -DHAVE_CONFIG_H -I. -I. -O3 -pipe -DNDEBUG -pedantic-errors -Wparentheses -Wreturn-type -Wcast-qual -Wall -Wpointer-arith -Wwrite-strings -Wconversion -Wno-unknown-pragmas -Wno-long-long -DCOINUTILS_BUILD -MT CoinSimpFactorization.lo -MD -MP -MF .deps/CoinSimpFactorization.Tpo -c CoinSimpFactorization.cpp  -fPIC -DPIC -o .libs/CoinSimpFactorization.o\n",
      "if /bin/bash ../../libtool --tag=CXX --mode=compile g++ -DHAVE_CONFIG_H -I. -I`echo .`     -O3 -pipe -DNDEBUG -pedantic-errors -Wparentheses -Wreturn-type -Wcast-qual -Wall -Wpointer-arith -Wwrite-strings -Wconversion -Wno-unknown-pragmas -Wno-long-long   -DCOINUTILS_BUILD -MT CoinDenseFactorization.lo -MD -MP -MF \".deps/CoinDenseFactorization.Tpo\" -c -o CoinDenseFactorization.lo CoinDenseFactorization.cpp; \\\n",
      "then mv -f \".deps/CoinDenseFactorization.Tpo\" \".deps/CoinDenseFactorization.Plo\"; else rm -f \".deps/CoinDenseFactorization.Tpo\"; exit 1; fi\n"
     ]
    },
    {
     "name": "stderr",
     "output_type": "stream",
     "text": [
      "In file included from CoinIndexedVector.hpp:15:0,\n",
      "                 from CoinSimpFactorization.hpp:16,\n",
      "                 from CoinSimpFactorization.cpp:10:\n",
      "CoinFinite.hpp:20:14: warning: ‘COIN_INT_MAX_AS_DOUBLE’ defined but not used [-Wunused-variable]\n",
      " const double COIN_INT_MAX_AS_DOUBLE = (std::numeric_limits<int>::max)();\n",
      "              ^\n"
     ]
    },
    {
     "name": "stdout",
     "output_type": "stream",
     "text": [
      " g++ -DHAVE_CONFIG_H -I. -I. -O3 -pipe -DNDEBUG -pedantic-errors -Wparentheses -Wreturn-type -Wcast-qual -Wall -Wpointer-arith -Wwrite-strings -Wconversion -Wno-unknown-pragmas -Wno-long-long -DCOINUTILS_BUILD -MT CoinDenseFactorization.lo -MD -MP -MF .deps/CoinDenseFactorization.Tpo -c CoinDenseFactorization.cpp  -fPIC -DPIC -o .libs/CoinDenseFactorization.o\n",
      "if /bin/bash ../../libtool --tag=CXX --mode=compile g++ -DHAVE_CONFIG_H -I. -I`echo .`     -O3 -pipe -DNDEBUG -pedantic-errors -Wparentheses -Wreturn-type -Wcast-qual -Wall -Wpointer-arith -Wwrite-strings -Wconversion -Wno-unknown-pragmas -Wno-long-long   -DCOINUTILS_BUILD -MT CoinOslFactorization.lo -MD -MP -MF \".deps/CoinOslFactorization.Tpo\" -c -o CoinOslFactorization.lo CoinOslFactorization.cpp; \\\n",
      "then mv -f \".deps/CoinOslFactorization.Tpo\" \".deps/CoinOslFactorization.Plo\"; else rm -f \".deps/CoinOslFactorization.Tpo\"; exit 1; fi\n"
     ]
    },
    {
     "name": "stderr",
     "output_type": "stream",
     "text": [
      "In file included from CoinIndexedVector.hpp:15:0,\n",
      "                 from CoinDenseFactorization.hpp:20,\n",
      "                 from CoinDenseFactorization.cpp:12:\n",
      "CoinFinite.hpp:18:14: warning: ‘COIN_DBL_MAX’ defined but not used [-Wunused-variable]\n",
      " const double COIN_DBL_MAX = (std::numeric_limits<double>::max)();\n",
      "              ^\n",
      "CoinFinite.hpp:19:14: warning: ‘COIN_INT_MAX’ defined but not used [-Wunused-variable]\n",
      " const int    COIN_INT_MAX = (std::numeric_limits<int>::max)();\n",
      "              ^\n",
      "CoinFinite.hpp:20:14: warning: ‘COIN_INT_MAX_AS_DOUBLE’ defined but not used [-Wunused-variable]\n",
      " const double COIN_INT_MAX_AS_DOUBLE = (std::numeric_limits<int>::max)();\n",
      "              ^\n"
     ]
    },
    {
     "name": "stdout",
     "output_type": "stream",
     "text": [
      " g++ -DHAVE_CONFIG_H -I. -I. -O3 -pipe -DNDEBUG -pedantic-errors -Wparentheses -Wreturn-type -Wcast-qual -Wall -Wpointer-arith -Wwrite-strings -Wconversion -Wno-unknown-pragmas -Wno-long-long -DCOINUTILS_BUILD -MT CoinOslFactorization.lo -MD -MP -MF .deps/CoinOslFactorization.Tpo -c CoinOslFactorization.cpp  -fPIC -DPIC -o .libs/CoinOslFactorization.o\n",
      "if /bin/bash ../../libtool --tag=CXX --mode=compile g++ -DHAVE_CONFIG_H -I. -I`echo .`     -O3 -pipe -DNDEBUG -pedantic-errors -Wparentheses -Wreturn-type -Wcast-qual -Wall -Wpointer-arith -Wwrite-strings -Wconversion -Wno-unknown-pragmas -Wno-long-long   -DCOINUTILS_BUILD -MT CoinOslFactorization2.lo -MD -MP -MF \".deps/CoinOslFactorization2.Tpo\" -c -o CoinOslFactorization2.lo CoinOslFactorization2.cpp; \\\n",
      "then mv -f \".deps/CoinOslFactorization2.Tpo\" \".deps/CoinOslFactorization2.Plo\"; else rm -f \".deps/CoinOslFactorization2.Tpo\"; exit 1; fi\n"
     ]
    },
    {
     "name": "stderr",
     "output_type": "stream",
     "text": [
      "In file included from CoinIndexedVector.hpp:15:0,\n",
      "                 from CoinOslFactorization.hpp:18,\n",
      "                 from CoinOslFactorization.cpp:10:\n",
      "CoinFinite.hpp:18:14: warning: ‘COIN_DBL_MAX’ defined but not used [-Wunused-variable]\n",
      " const double COIN_DBL_MAX = (std::numeric_limits<double>::max)();\n",
      "              ^\n",
      "CoinFinite.hpp:20:14: warning: ‘COIN_INT_MAX_AS_DOUBLE’ defined but not used [-Wunused-variable]\n",
      " const double COIN_INT_MAX_AS_DOUBLE = (std::numeric_limits<int>::max)();\n",
      "              ^\n"
     ]
    },
    {
     "name": "stdout",
     "output_type": "stream",
     "text": [
      " g++ -DHAVE_CONFIG_H -I. -I. -O3 -pipe -DNDEBUG -pedantic-errors -Wparentheses -Wreturn-type -Wcast-qual -Wall -Wpointer-arith -Wwrite-strings -Wconversion -Wno-unknown-pragmas -Wno-long-long -DCOINUTILS_BUILD -MT CoinOslFactorization2.lo -MD -MP -MF .deps/CoinOslFactorization2.Tpo -c CoinOslFactorization2.cpp  -fPIC -DPIC -o .libs/CoinOslFactorization2.o\n",
      "if /bin/bash ../../libtool --tag=CXX --mode=compile g++ -DHAVE_CONFIG_H -I. -I`echo .`     -O3 -pipe -DNDEBUG -pedantic-errors -Wparentheses -Wreturn-type -Wcast-qual -Wall -Wpointer-arith -Wwrite-strings -Wconversion -Wno-unknown-pragmas -Wno-long-long   -DCOINUTILS_BUILD -MT CoinOslFactorization3.lo -MD -MP -MF \".deps/CoinOslFactorization3.Tpo\" -c -o CoinOslFactorization3.lo CoinOslFactorization3.cpp; \\\n",
      "then mv -f \".deps/CoinOslFactorization3.Tpo\" \".deps/CoinOslFactorization3.Plo\"; else rm -f \".deps/CoinOslFactorization3.Tpo\"; exit 1; fi\n"
     ]
    },
    {
     "name": "stderr",
     "output_type": "stream",
     "text": [
      "In file included from CoinIndexedVector.hpp:15:0,\n",
      "                 from CoinOslFactorization.hpp:18,\n",
      "                 from CoinOslFactorization2.cpp:15:\n",
      "CoinFinite.hpp:18:14: warning: ‘COIN_DBL_MAX’ defined but not used [-Wunused-variable]\n",
      " const double COIN_DBL_MAX = (std::numeric_limits<double>::max)();\n",
      "              ^\n",
      "CoinFinite.hpp:20:14: warning: ‘COIN_INT_MAX_AS_DOUBLE’ defined but not used [-Wunused-variable]\n",
      " const double COIN_INT_MAX_AS_DOUBLE = (std::numeric_limits<int>::max)();\n",
      "              ^\n"
     ]
    },
    {
     "name": "stdout",
     "output_type": "stream",
     "text": [
      " g++ -DHAVE_CONFIG_H -I. -I. -O3 -pipe -DNDEBUG -pedantic-errors -Wparentheses -Wreturn-type -Wcast-qual -Wall -Wpointer-arith -Wwrite-strings -Wconversion -Wno-unknown-pragmas -Wno-long-long -DCOINUTILS_BUILD -MT CoinOslFactorization3.lo -MD -MP -MF .deps/CoinOslFactorization3.Tpo -c CoinOslFactorization3.cpp  -fPIC -DPIC -o .libs/CoinOslFactorization3.o\n",
      "if /bin/bash ../../libtool --tag=CXX --mode=compile g++ -DHAVE_CONFIG_H -I. -I`echo .`     -O3 -pipe -DNDEBUG -pedantic-errors -Wparentheses -Wreturn-type -Wcast-qual -Wall -Wpointer-arith -Wwrite-strings -Wconversion -Wno-unknown-pragmas -Wno-long-long   -DCOINUTILS_BUILD -MT CoinFileIO.lo -MD -MP -MF \".deps/CoinFileIO.Tpo\" -c -o CoinFileIO.lo CoinFileIO.cpp; \\\n",
      "then mv -f \".deps/CoinFileIO.Tpo\" \".deps/CoinFileIO.Plo\"; else rm -f \".deps/CoinFileIO.Tpo\"; exit 1; fi\n"
     ]
    },
    {
     "name": "stderr",
     "output_type": "stream",
     "text": [
      "In file included from CoinIndexedVector.hpp:15:0,\n",
      "                 from CoinOslFactorization.hpp:18,\n",
      "                 from CoinOslFactorization3.cpp:8:\n",
      "CoinFinite.hpp:18:14: warning: ‘COIN_DBL_MAX’ defined but not used [-Wunused-variable]\n",
      " const double COIN_DBL_MAX = (std::numeric_limits<double>::max)();\n",
      "              ^\n",
      "CoinFinite.hpp:20:14: warning: ‘COIN_INT_MAX_AS_DOUBLE’ defined but not used [-Wunused-variable]\n",
      " const double COIN_INT_MAX_AS_DOUBLE = (std::numeric_limits<int>::max)();\n",
      "              ^\n"
     ]
    },
    {
     "name": "stdout",
     "output_type": "stream",
     "text": [
      " g++ -DHAVE_CONFIG_H -I. -I. -O3 -pipe -DNDEBUG -pedantic-errors -Wparentheses -Wreturn-type -Wcast-qual -Wall -Wpointer-arith -Wwrite-strings -Wconversion -Wno-unknown-pragmas -Wno-long-long -DCOINUTILS_BUILD -MT CoinFileIO.lo -MD -MP -MF .deps/CoinFileIO.Tpo -c CoinFileIO.cpp  -fPIC -DPIC -o .libs/CoinFileIO.o\n",
      "if /bin/bash ../../libtool --tag=CXX --mode=compile g++ -DHAVE_CONFIG_H -I. -I`echo .`     -O3 -pipe -DNDEBUG -pedantic-errors -Wparentheses -Wreturn-type -Wcast-qual -Wall -Wpointer-arith -Wwrite-strings -Wconversion -Wno-unknown-pragmas -Wno-long-long   -DCOINUTILS_BUILD -MT CoinFinite.lo -MD -MP -MF \".deps/CoinFinite.Tpo\" -c -o CoinFinite.lo CoinFinite.cpp; \\\n",
      "then mv -f \".deps/CoinFinite.Tpo\" \".deps/CoinFinite.Plo\"; else rm -f \".deps/CoinFinite.Tpo\"; exit 1; fi\n",
      " g++ -DHAVE_CONFIG_H -I. -I. -O3 -pipe -DNDEBUG -pedantic-errors -Wparentheses -Wreturn-type -Wcast-qual -Wall -Wpointer-arith -Wwrite-strings -Wconversion -Wno-unknown-pragmas -Wno-long-long -DCOINUTILS_BUILD -MT CoinFinite.lo -MD -MP -MF .deps/CoinFinite.Tpo -c CoinFinite.cpp  -fPIC -DPIC -o .libs/CoinFinite.o\n",
      "if /bin/bash ../../libtool --tag=CXX --mode=compile g++ -DHAVE_CONFIG_H -I. -I`echo .`     -O3 -pipe -DNDEBUG -pedantic-errors -Wparentheses -Wreturn-type -Wcast-qual -Wall -Wpointer-arith -Wwrite-strings -Wconversion -Wno-unknown-pragmas -Wno-long-long   -DCOINUTILS_BUILD -MT CoinIndexedVector.lo -MD -MP -MF \".deps/CoinIndexedVector.Tpo\" -c -o CoinIndexedVector.lo CoinIndexedVector.cpp; \\\n",
      "then mv -f \".deps/CoinIndexedVector.Tpo\" \".deps/CoinIndexedVector.Plo\"; else rm -f \".deps/CoinIndexedVector.Tpo\"; exit 1; fi\n"
     ]
    },
    {
     "name": "stderr",
     "output_type": "stream",
     "text": [
      "In file included from CoinFinite.cpp:6:0:\n",
      "CoinFinite.hpp:17:14: warning: ‘COIN_DBL_MIN’ defined but not used [-Wunused-variable]\n",
      " const double COIN_DBL_MIN = (std::numeric_limits<double>::min)();\n",
      "              ^\n",
      "CoinFinite.hpp:18:14: warning: ‘COIN_DBL_MAX’ defined but not used [-Wunused-variable]\n",
      " const double COIN_DBL_MAX = (std::numeric_limits<double>::max)();\n",
      "              ^\n",
      "CoinFinite.hpp:19:14: warning: ‘COIN_INT_MAX’ defined but not used [-Wunused-variable]\n",
      " const int    COIN_INT_MAX = (std::numeric_limits<int>::max)();\n",
      "              ^\n",
      "CoinFinite.hpp:20:14: warning: ‘COIN_INT_MAX_AS_DOUBLE’ defined but not used [-Wunused-variable]\n",
      " const double COIN_INT_MAX_AS_DOUBLE = (std::numeric_limits<int>::max)();\n",
      "              ^\n"
     ]
    },
    {
     "name": "stdout",
     "output_type": "stream",
     "text": [
      " g++ -DHAVE_CONFIG_H -I. -I. -O3 -pipe -DNDEBUG -pedantic-errors -Wparentheses -Wreturn-type -Wcast-qual -Wall -Wpointer-arith -Wwrite-strings -Wconversion -Wno-unknown-pragmas -Wno-long-long -DCOINUTILS_BUILD -MT CoinIndexedVector.lo -MD -MP -MF .deps/CoinIndexedVector.Tpo -c CoinIndexedVector.cpp  -fPIC -DPIC -o .libs/CoinIndexedVector.o\n",
      "if /bin/bash ../../libtool --tag=CXX --mode=compile g++ -DHAVE_CONFIG_H -I. -I`echo .`     -O3 -pipe -DNDEBUG -pedantic-errors -Wparentheses -Wreturn-type -Wcast-qual -Wall -Wpointer-arith -Wwrite-strings -Wconversion -Wno-unknown-pragmas -Wno-long-long   -DCOINUTILS_BUILD -MT CoinLpIO.lo -MD -MP -MF \".deps/CoinLpIO.Tpo\" -c -o CoinLpIO.lo CoinLpIO.cpp; \\\n",
      "then mv -f \".deps/CoinLpIO.Tpo\" \".deps/CoinLpIO.Plo\"; else rm -f \".deps/CoinLpIO.Tpo\"; exit 1; fi\n"
     ]
    },
    {
     "name": "stderr",
     "output_type": "stream",
     "text": [
      "In file included from CoinFloatEqual.hpp:12:0,\n",
      "                 from CoinIndexedVector.cpp:15:\n",
      "CoinFinite.hpp:18:14: warning: ‘COIN_DBL_MAX’ defined but not used [-Wunused-variable]\n",
      " const double COIN_DBL_MAX = (std::numeric_limits<double>::max)();\n",
      "              ^\n",
      "CoinFinite.hpp:20:14: warning: ‘COIN_INT_MAX_AS_DOUBLE’ defined but not used [-Wunused-variable]\n",
      " const double COIN_INT_MAX_AS_DOUBLE = (std::numeric_limits<int>::max)();\n",
      "              ^\n"
     ]
    },
    {
     "name": "stdout",
     "output_type": "stream",
     "text": [
      " g++ -DHAVE_CONFIG_H -I. -I. -O3 -pipe -DNDEBUG -pedantic-errors -Wparentheses -Wreturn-type -Wcast-qual -Wall -Wpointer-arith -Wwrite-strings -Wconversion -Wno-unknown-pragmas -Wno-long-long -DCOINUTILS_BUILD -MT CoinLpIO.lo -MD -MP -MF .deps/CoinLpIO.Tpo -c CoinLpIO.cpp  -fPIC -DPIC -o .libs/CoinLpIO.o\n"
     ]
    },
    {
     "name": "stderr",
     "output_type": "stream",
     "text": [
      "CoinLpIO.cpp: In member function ‘void CoinLpIO::readLp(FILE*)’:\n",
      "CoinLpIO.cpp:2268:29: warning: conversion to ‘int’ from ‘size_t {aka long unsigned int}’ may alter its value [-Wconversion]\n",
      "       int length=strlen(buff);\n",
      "                             ^\n",
      "CoinLpIO.cpp:2320:31: warning: conversion to ‘int’ from ‘size_t {aka long unsigned int}’ may alter its value [-Wconversion]\n",
      "       int length=strlen(next+1);\n",
      "                               ^\n",
      "In file included from CoinLpIO.cpp:28:0:\n",
      "CoinFinite.hpp: At global scope:\n",
      "CoinFinite.hpp:17:14: warning: ‘COIN_DBL_MIN’ defined but not used [-Wunused-variable]\n",
      " const double COIN_DBL_MIN = (std::numeric_limits<double>::min)();\n",
      "              ^\n",
      "CoinFinite.hpp:19:14: warning: ‘COIN_INT_MAX’ defined but not used [-Wunused-variable]\n",
      " const int    COIN_INT_MAX = (std::numeric_limits<int>::max)();\n",
      "              ^\n",
      "CoinFinite.hpp:20:14: warning: ‘COIN_INT_MAX_AS_DOUBLE’ defined but not used [-Wunused-variable]\n",
      " const double COIN_INT_MAX_AS_DOUBLE = (std::numeric_limits<int>::max)();\n",
      "              ^\n"
     ]
    },
    {
     "name": "stdout",
     "output_type": "stream",
     "text": [
      "if /bin/bash ../../libtool --tag=CXX --mode=compile g++ -DHAVE_CONFIG_H -I. -I`echo .`     -O3 -pipe -DNDEBUG -pedantic-errors -Wparentheses -Wreturn-type -Wcast-qual -Wall -Wpointer-arith -Wwrite-strings -Wconversion -Wno-unknown-pragmas -Wno-long-long   -DCOINUTILS_BUILD -MT CoinMessage.lo -MD -MP -MF \".deps/CoinMessage.Tpo\" -c -o CoinMessage.lo CoinMessage.cpp; \\\n",
      "then mv -f \".deps/CoinMessage.Tpo\" \".deps/CoinMessage.Plo\"; else rm -f \".deps/CoinMessage.Tpo\"; exit 1; fi\n",
      " g++ -DHAVE_CONFIG_H -I. -I. -O3 -pipe -DNDEBUG -pedantic-errors -Wparentheses -Wreturn-type -Wcast-qual -Wall -Wpointer-arith -Wwrite-strings -Wconversion -Wno-unknown-pragmas -Wno-long-long -DCOINUTILS_BUILD -MT CoinMessage.lo -MD -MP -MF .deps/CoinMessage.Tpo -c CoinMessage.cpp  -fPIC -DPIC -o .libs/CoinMessage.o\n",
      "if /bin/bash ../../libtool --tag=CXX --mode=compile g++ -DHAVE_CONFIG_H -I. -I`echo .`     -O3 -pipe -DNDEBUG -pedantic-errors -Wparentheses -Wreturn-type -Wcast-qual -Wall -Wpointer-arith -Wwrite-strings -Wconversion -Wno-unknown-pragmas -Wno-long-long   -DCOINUTILS_BUILD -MT CoinMessageHandler.lo -MD -MP -MF \".deps/CoinMessageHandler.Tpo\" -c -o CoinMessageHandler.lo CoinMessageHandler.cpp; \\\n",
      "then mv -f \".deps/CoinMessageHandler.Tpo\" \".deps/CoinMessageHandler.Plo\"; else rm -f \".deps/CoinMessageHandler.Tpo\"; exit 1; fi\n",
      " g++ -DHAVE_CONFIG_H -I. -I. -O3 -pipe -DNDEBUG -pedantic-errors -Wparentheses -Wreturn-type -Wcast-qual -Wall -Wpointer-arith -Wwrite-strings -Wconversion -Wno-unknown-pragmas -Wno-long-long -DCOINUTILS_BUILD -MT CoinMessageHandler.lo -MD -MP -MF .deps/CoinMessageHandler.Tpo -c CoinMessageHandler.cpp  -fPIC -DPIC -o .libs/CoinMessageHandler.o\n"
     ]
    },
    {
     "name": "stderr",
     "output_type": "stream",
     "text": [
      "CoinMessageHandler.cpp: In member function ‘CoinMessageHandler& CoinMessageHandler::operator<<(double)’:\n",
      "CoinMessageHandler.cpp:834:35: warning: format not a string literal and no format arguments [-Wformat-security]\n",
      "      sprintf(messageOut_,format_+2);\n",
      "                                   ^\n"
     ]
    },
    {
     "name": "stdout",
     "output_type": "stream",
     "text": [
      "if /bin/bash ../../libtool --tag=CXX --mode=compile g++ -DHAVE_CONFIG_H -I. -I`echo .`     -O3 -pipe -DNDEBUG -pedantic-errors -Wparentheses -Wreturn-type -Wcast-qual -Wall -Wpointer-arith -Wwrite-strings -Wconversion -Wno-unknown-pragmas -Wno-long-long   -DCOINUTILS_BUILD -MT CoinModel.lo -MD -MP -MF \".deps/CoinModel.Tpo\" -c -o CoinModel.lo CoinModel.cpp; \\\n",
      "then mv -f \".deps/CoinModel.Tpo\" \".deps/CoinModel.Plo\"; else rm -f \".deps/CoinModel.Tpo\"; exit 1; fi\n",
      " g++ -DHAVE_CONFIG_H -I. -I. -O3 -pipe -DNDEBUG -pedantic-errors -Wparentheses -Wreturn-type -Wcast-qual -Wall -Wpointer-arith -Wwrite-strings -Wconversion -Wno-unknown-pragmas -Wno-long-long -DCOINUTILS_BUILD -MT CoinModel.lo -MD -MP -MF .deps/CoinModel.Tpo -c CoinModel.cpp  -fPIC -DPIC -o .libs/CoinModel.o\n"
     ]
    },
    {
     "name": "stderr",
     "output_type": "stream",
     "text": [
      "In file included from CoinModel.hpp:12:0,\n",
      "                 from CoinModel.cpp:8:\n",
      "CoinFinite.hpp:17:14: warning: ‘COIN_DBL_MIN’ defined but not used [-Wunused-variable]\n",
      " const double COIN_DBL_MIN = (std::numeric_limits<double>::min)();\n",
      "              ^\n",
      "CoinFinite.hpp:19:14: warning: ‘COIN_INT_MAX’ defined but not used [-Wunused-variable]\n",
      " const int    COIN_INT_MAX = (std::numeric_limits<int>::max)();\n",
      "              ^\n",
      "CoinFinite.hpp:20:14: warning: ‘COIN_INT_MAX_AS_DOUBLE’ defined but not used [-Wunused-variable]\n",
      " const double COIN_INT_MAX_AS_DOUBLE = (std::numeric_limits<int>::max)();\n",
      "              ^\n"
     ]
    },
    {
     "name": "stdout",
     "output_type": "stream",
     "text": [
      "if /bin/bash ../../libtool --tag=CXX --mode=compile g++ -DHAVE_CONFIG_H -I. -I`echo .`     -O3 -pipe -DNDEBUG -pedantic-errors -Wparentheses -Wreturn-type -Wcast-qual -Wall -Wpointer-arith -Wwrite-strings -Wconversion -Wno-unknown-pragmas -Wno-long-long   -DCOINUTILS_BUILD -MT CoinStructuredModel.lo -MD -MP -MF \".deps/CoinStructuredModel.Tpo\" -c -o CoinStructuredModel.lo CoinStructuredModel.cpp; \\\n",
      "then mv -f \".deps/CoinStructuredModel.Tpo\" \".deps/CoinStructuredModel.Plo\"; else rm -f \".deps/CoinStructuredModel.Tpo\"; exit 1; fi\n",
      " g++ -DHAVE_CONFIG_H -I. -I. -O3 -pipe -DNDEBUG -pedantic-errors -Wparentheses -Wreturn-type -Wcast-qual -Wall -Wpointer-arith -Wwrite-strings -Wconversion -Wno-unknown-pragmas -Wno-long-long -DCOINUTILS_BUILD -MT CoinStructuredModel.lo -MD -MP -MF .deps/CoinStructuredModel.Tpo -c CoinStructuredModel.cpp  -fPIC -DPIC -o .libs/CoinStructuredModel.o\n"
     ]
    },
    {
     "name": "stderr",
     "output_type": "stream",
     "text": [
      "CoinStructuredModel.cpp: In member function ‘int CoinStructuredModel::decompose(const CoinPackedMatrix&, const double*, const double*, const double*, const double*, const double*, int, int, int*, double)’:\n",
      "CoinStructuredModel.cpp:761:10: warning: variable ‘goodDW’ set but not used [-Wunused-but-set-variable]\n",
      "     bool goodDW=true;\n",
      "          ^\n",
      "CoinStructuredModel.cpp:1343:10: warning: variable ‘goodBenders’ set but not used [-Wunused-but-set-variable]\n",
      "     bool goodBenders=true;\n",
      "          ^\n"
     ]
    },
    {
     "name": "stdout",
     "output_type": "stream",
     "text": [
      "if /bin/bash ../../libtool --tag=CXX --mode=compile g++ -DHAVE_CONFIG_H -I. -I`echo .`     -O3 -pipe -DNDEBUG -pedantic-errors -Wparentheses -Wreturn-type -Wcast-qual -Wall -Wpointer-arith -Wwrite-strings -Wconversion -Wno-unknown-pragmas -Wno-long-long   -DCOINUTILS_BUILD -MT CoinModelUseful.lo -MD -MP -MF \".deps/CoinModelUseful.Tpo\" -c -o CoinModelUseful.lo CoinModelUseful.cpp; \\\n",
      "then mv -f \".deps/CoinModelUseful.Tpo\" \".deps/CoinModelUseful.Plo\"; else rm -f \".deps/CoinModelUseful.Tpo\"; exit 1; fi\n"
     ]
    },
    {
     "name": "stderr",
     "output_type": "stream",
     "text": [
      "In file included from CoinModel.hpp:12:0,\n",
      "                 from CoinStructuredModel.hpp:9,\n",
      "                 from CoinStructuredModel.cpp:9:\n",
      "CoinFinite.hpp: At global scope:\n",
      "CoinFinite.hpp:17:14: warning: ‘COIN_DBL_MIN’ defined but not used [-Wunused-variable]\n",
      " const double COIN_DBL_MIN = (std::numeric_limits<double>::min)();\n",
      "              ^\n",
      "CoinFinite.hpp:19:14: warning: ‘COIN_INT_MAX’ defined but not used [-Wunused-variable]\n",
      " const int    COIN_INT_MAX = (std::numeric_limits<int>::max)();\n",
      "              ^\n",
      "CoinFinite.hpp:20:14: warning: ‘COIN_INT_MAX_AS_DOUBLE’ defined but not used [-Wunused-variable]\n",
      " const double COIN_INT_MAX_AS_DOUBLE = (std::numeric_limits<int>::max)();\n",
      "              ^\n"
     ]
    },
    {
     "name": "stdout",
     "output_type": "stream",
     "text": [
      " g++ -DHAVE_CONFIG_H -I. -I. -O3 -pipe -DNDEBUG -pedantic-errors -Wparentheses -Wreturn-type -Wcast-qual -Wall -Wpointer-arith -Wwrite-strings -Wconversion -Wno-unknown-pragmas -Wno-long-long -DCOINUTILS_BUILD -MT CoinModelUseful.lo -MD -MP -MF .deps/CoinModelUseful.Tpo -c CoinModelUseful.cpp  -fPIC -DPIC -o .libs/CoinModelUseful.o\n",
      "if /bin/bash ../../libtool --tag=CXX --mode=compile g++ -DHAVE_CONFIG_H -I. -I`echo .`     -O3 -pipe -DNDEBUG -pedantic-errors -Wparentheses -Wreturn-type -Wcast-qual -Wall -Wpointer-arith -Wwrite-strings -Wconversion -Wno-unknown-pragmas -Wno-long-long   -DCOINUTILS_BUILD -MT CoinModelUseful2.lo -MD -MP -MF \".deps/CoinModelUseful2.Tpo\" -c -o CoinModelUseful2.lo CoinModelUseful2.cpp; \\\n",
      "then mv -f \".deps/CoinModelUseful2.Tpo\" \".deps/CoinModelUseful2.Plo\"; else rm -f \".deps/CoinModelUseful2.Tpo\"; exit 1; fi\n",
      " g++ -DHAVE_CONFIG_H -I. -I. -O3 -pipe -DNDEBUG -pedantic-errors -Wparentheses -Wreturn-type -Wcast-qual -Wall -Wpointer-arith -Wwrite-strings -Wconversion -Wno-unknown-pragmas -Wno-long-long -DCOINUTILS_BUILD -MT CoinModelUseful2.lo -MD -MP -MF .deps/CoinModelUseful2.Tpo -c CoinModelUseful2.cpp  -fPIC -DPIC -o .libs/CoinModelUseful2.o\n",
      "if /bin/bash ../../libtool --tag=CXX --mode=compile g++ -DHAVE_CONFIG_H -I. -I`echo .`     -O3 -pipe -DNDEBUG -pedantic-errors -Wparentheses -Wreturn-type -Wcast-qual -Wall -Wpointer-arith -Wwrite-strings -Wconversion -Wno-unknown-pragmas -Wno-long-long   -DCOINUTILS_BUILD -MT CoinMpsIO.lo -MD -MP -MF \".deps/CoinMpsIO.Tpo\" -c -o CoinMpsIO.lo CoinMpsIO.cpp; \\\n",
      "then mv -f \".deps/CoinMpsIO.Tpo\" \".deps/CoinMpsIO.Plo\"; else rm -f \".deps/CoinMpsIO.Tpo\"; exit 1; fi\n"
     ]
    },
    {
     "name": "stderr",
     "output_type": "stream",
     "text": [
      "In file included from CoinModel.hpp:12:0,\n",
      "                 from CoinModelUseful2.cpp:74:\n",
      "CoinFinite.hpp:17:14: warning: ‘COIN_DBL_MIN’ defined but not used [-Wunused-variable]\n",
      " const double COIN_DBL_MIN = (std::numeric_limits<double>::min)();\n",
      "              ^\n",
      "CoinFinite.hpp:19:14: warning: ‘COIN_INT_MAX’ defined but not used [-Wunused-variable]\n",
      " const int    COIN_INT_MAX = (std::numeric_limits<int>::max)();\n",
      "              ^\n",
      "CoinFinite.hpp:20:14: warning: ‘COIN_INT_MAX_AS_DOUBLE’ defined but not used [-Wunused-variable]\n",
      " const double COIN_INT_MAX_AS_DOUBLE = (std::numeric_limits<int>::max)();\n",
      "              ^\n"
     ]
    },
    {
     "name": "stdout",
     "output_type": "stream",
     "text": [
      " g++ -DHAVE_CONFIG_H -I. -I. -O3 -pipe -DNDEBUG -pedantic-errors -Wparentheses -Wreturn-type -Wcast-qual -Wall -Wpointer-arith -Wwrite-strings -Wconversion -Wno-unknown-pragmas -Wno-long-long -DCOINUTILS_BUILD -MT CoinMpsIO.lo -MD -MP -MF .deps/CoinMpsIO.Tpo -c CoinMpsIO.cpp  -fPIC -DPIC -o .libs/CoinMpsIO.o\n"
     ]
    },
    {
     "name": "stderr",
     "output_type": "stream",
     "text": [
      "In file included from CoinModel.hpp:12:0,\n",
      "                 from CoinMpsIO.cpp:24:\n",
      "CoinFinite.hpp:17:14: warning: ‘COIN_DBL_MIN’ defined but not used [-Wunused-variable]\n",
      " const double COIN_DBL_MIN = (std::numeric_limits<double>::min)();\n",
      "              ^\n",
      "CoinFinite.hpp:19:14: warning: ‘COIN_INT_MAX’ defined but not used [-Wunused-variable]\n",
      " const int    COIN_INT_MAX = (std::numeric_limits<int>::max)();\n",
      "              ^\n",
      "CoinFinite.hpp:20:14: warning: ‘COIN_INT_MAX_AS_DOUBLE’ defined but not used [-Wunused-variable]\n",
      " const double COIN_INT_MAX_AS_DOUBLE = (std::numeric_limits<int>::max)();\n",
      "              ^\n"
     ]
    },
    {
     "name": "stdout",
     "output_type": "stream",
     "text": [
      "if /bin/bash ../../libtool --tag=CXX --mode=compile g++ -DHAVE_CONFIG_H -I. -I`echo .`     -O3 -pipe -DNDEBUG -pedantic-errors -Wparentheses -Wreturn-type -Wcast-qual -Wall -Wpointer-arith -Wwrite-strings -Wconversion -Wno-unknown-pragmas -Wno-long-long   -DCOINUTILS_BUILD -MT CoinPackedMatrix.lo -MD -MP -MF \".deps/CoinPackedMatrix.Tpo\" -c -o CoinPackedMatrix.lo CoinPackedMatrix.cpp; \\\n",
      "then mv -f \".deps/CoinPackedMatrix.Tpo\" \".deps/CoinPackedMatrix.Plo\"; else rm -f \".deps/CoinPackedMatrix.Tpo\"; exit 1; fi\n",
      " g++ -DHAVE_CONFIG_H -I. -I. -O3 -pipe -DNDEBUG -pedantic-errors -Wparentheses -Wreturn-type -Wcast-qual -Wall -Wpointer-arith -Wwrite-strings -Wconversion -Wno-unknown-pragmas -Wno-long-long -DCOINUTILS_BUILD -MT CoinPackedMatrix.lo -MD -MP -MF .deps/CoinPackedMatrix.Tpo -c CoinPackedMatrix.cpp  -fPIC -DPIC -o .libs/CoinPackedMatrix.o\n",
      "if /bin/bash ../../libtool --tag=CXX --mode=compile g++ -DHAVE_CONFIG_H -I. -I`echo .`     -O3 -pipe -DNDEBUG -pedantic-errors -Wparentheses -Wreturn-type -Wcast-qual -Wall -Wpointer-arith -Wwrite-strings -Wconversion -Wno-unknown-pragmas -Wno-long-long   -DCOINUTILS_BUILD -MT CoinPackedVector.lo -MD -MP -MF \".deps/CoinPackedVector.Tpo\" -c -o CoinPackedVector.lo CoinPackedVector.cpp; \\\n",
      "then mv -f \".deps/CoinPackedVector.Tpo\" \".deps/CoinPackedVector.Plo\"; else rm -f \".deps/CoinPackedVector.Tpo\"; exit 1; fi\n"
     ]
    },
    {
     "name": "stderr",
     "output_type": "stream",
     "text": [
      "In file included from CoinFloatEqual.hpp:12:0,\n",
      "                 from CoinPackedMatrix.cpp:21:\n",
      "CoinFinite.hpp:17:14: warning: ‘COIN_DBL_MIN’ defined but not used [-Wunused-variable]\n",
      " const double COIN_DBL_MIN = (std::numeric_limits<double>::min)();\n",
      "              ^\n",
      "CoinFinite.hpp:18:14: warning: ‘COIN_DBL_MAX’ defined but not used [-Wunused-variable]\n",
      " const double COIN_DBL_MAX = (std::numeric_limits<double>::max)();\n",
      "              ^\n",
      "CoinFinite.hpp:19:14: warning: ‘COIN_INT_MAX’ defined but not used [-Wunused-variable]\n",
      " const int    COIN_INT_MAX = (std::numeric_limits<int>::max)();\n",
      "              ^\n",
      "CoinFinite.hpp:20:14: warning: ‘COIN_INT_MAX_AS_DOUBLE’ defined but not used [-Wunused-variable]\n",
      " const double COIN_INT_MAX_AS_DOUBLE = (std::numeric_limits<int>::max)();\n",
      "              ^\n"
     ]
    },
    {
     "name": "stdout",
     "output_type": "stream",
     "text": [
      " g++ -DHAVE_CONFIG_H -I. -I. -O3 -pipe -DNDEBUG -pedantic-errors -Wparentheses -Wreturn-type -Wcast-qual -Wall -Wpointer-arith -Wwrite-strings -Wconversion -Wno-unknown-pragmas -Wno-long-long -DCOINUTILS_BUILD -MT CoinPackedVector.lo -MD -MP -MF .deps/CoinPackedVector.Tpo -c CoinPackedVector.cpp  -fPIC -DPIC -o .libs/CoinPackedVector.o\n",
      "if /bin/bash ../../libtool --tag=CXX --mode=compile g++ -DHAVE_CONFIG_H -I. -I`echo .`     -O3 -pipe -DNDEBUG -pedantic-errors -Wparentheses -Wreturn-type -Wcast-qual -Wall -Wpointer-arith -Wwrite-strings -Wconversion -Wno-unknown-pragmas -Wno-long-long   -DCOINUTILS_BUILD -MT CoinPackedVectorBase.lo -MD -MP -MF \".deps/CoinPackedVectorBase.Tpo\" -c -o CoinPackedVectorBase.lo CoinPackedVectorBase.cpp; \\\n",
      "then mv -f \".deps/CoinPackedVectorBase.Tpo\" \".deps/CoinPackedVectorBase.Plo\"; else rm -f \".deps/CoinPackedVectorBase.Tpo\"; exit 1; fi\n",
      " g++ -DHAVE_CONFIG_H -I. -I. -O3 -pipe -DNDEBUG -pedantic-errors -Wparentheses -Wreturn-type -Wcast-qual -Wall -Wpointer-arith -Wwrite-strings -Wconversion -Wno-unknown-pragmas -Wno-long-long -DCOINUTILS_BUILD -MT CoinPackedVectorBase.lo -MD -MP -MF .deps/CoinPackedVectorBase.Tpo -c CoinPackedVectorBase.cpp  -fPIC -DPIC -o .libs/CoinPackedVectorBase.o\n",
      "if /bin/bash ../../libtool --tag=CXX --mode=compile g++ -DHAVE_CONFIG_H -I. -I`echo .`     -O3 -pipe -DNDEBUG -pedantic-errors -Wparentheses -Wreturn-type -Wcast-qual -Wall -Wpointer-arith -Wwrite-strings -Wconversion -Wno-unknown-pragmas -Wno-long-long   -DCOINUTILS_BUILD -MT CoinParam.lo -MD -MP -MF \".deps/CoinParam.Tpo\" -c -o CoinParam.lo CoinParam.cpp; \\\n",
      "then mv -f \".deps/CoinParam.Tpo\" \".deps/CoinParam.Plo\"; else rm -f \".deps/CoinParam.Tpo\"; exit 1; fi\n"
     ]
    },
    {
     "name": "stderr",
     "output_type": "stream",
     "text": [
      "In file included from CoinFloatEqual.hpp:12:0,\n",
      "                 from CoinPackedVectorBase.cpp:11:\n",
      "CoinFinite.hpp:17:14: warning: ‘COIN_DBL_MIN’ defined but not used [-Wunused-variable]\n",
      " const double COIN_DBL_MIN = (std::numeric_limits<double>::min)();\n",
      "              ^\n",
      "CoinFinite.hpp:18:14: warning: ‘COIN_DBL_MAX’ defined but not used [-Wunused-variable]\n",
      " const double COIN_DBL_MAX = (std::numeric_limits<double>::max)();\n",
      "              ^\n",
      "CoinFinite.hpp:20:14: warning: ‘COIN_INT_MAX_AS_DOUBLE’ defined but not used [-Wunused-variable]\n",
      " const double COIN_INT_MAX_AS_DOUBLE = (std::numeric_limits<int>::max)();\n",
      "              ^\n"
     ]
    },
    {
     "name": "stdout",
     "output_type": "stream",
     "text": [
      " g++ -DHAVE_CONFIG_H -I. -I. -O3 -pipe -DNDEBUG -pedantic-errors -Wparentheses -Wreturn-type -Wcast-qual -Wall -Wpointer-arith -Wwrite-strings -Wconversion -Wno-unknown-pragmas -Wno-long-long -DCOINUTILS_BUILD -MT CoinParam.lo -MD -MP -MF .deps/CoinParam.Tpo -c CoinParam.cpp  -fPIC -DPIC -o .libs/CoinParam.o\n",
      "if /bin/bash ../../libtool --tag=CXX --mode=compile g++ -DHAVE_CONFIG_H -I. -I`echo .`     -O3 -pipe -DNDEBUG -pedantic-errors -Wparentheses -Wreturn-type -Wcast-qual -Wall -Wpointer-arith -Wwrite-strings -Wconversion -Wno-unknown-pragmas -Wno-long-long   -DCOINUTILS_BUILD -MT CoinParamUtils.lo -MD -MP -MF \".deps/CoinParamUtils.Tpo\" -c -o CoinParamUtils.lo CoinParamUtils.cpp; \\\n",
      "then mv -f \".deps/CoinParamUtils.Tpo\" \".deps/CoinParamUtils.Plo\"; else rm -f \".deps/CoinParamUtils.Tpo\"; exit 1; fi\n",
      " g++ -DHAVE_CONFIG_H -I. -I. -O3 -pipe -DNDEBUG -pedantic-errors -Wparentheses -Wreturn-type -Wcast-qual -Wall -Wpointer-arith -Wwrite-strings -Wconversion -Wno-unknown-pragmas -Wno-long-long -DCOINUTILS_BUILD -MT CoinParamUtils.lo -MD -MP -MF .deps/CoinParamUtils.Tpo -c CoinParamUtils.cpp  -fPIC -DPIC -o .libs/CoinParamUtils.o\n",
      "if /bin/bash ../../libtool --tag=CXX --mode=compile g++ -DHAVE_CONFIG_H -I. -I`echo .`     -O3 -pipe -DNDEBUG -pedantic-errors -Wparentheses -Wreturn-type -Wcast-qual -Wall -Wpointer-arith -Wwrite-strings -Wconversion -Wno-unknown-pragmas -Wno-long-long   -DCOINUTILS_BUILD -MT CoinPostsolveMatrix.lo -MD -MP -MF \".deps/CoinPostsolveMatrix.Tpo\" -c -o CoinPostsolveMatrix.lo CoinPostsolveMatrix.cpp; \\\n",
      "then mv -f \".deps/CoinPostsolveMatrix.Tpo\" \".deps/CoinPostsolveMatrix.Plo\"; else rm -f \".deps/CoinPostsolveMatrix.Tpo\"; exit 1; fi\n",
      " g++ -DHAVE_CONFIG_H -I. -I. -O3 -pipe -DNDEBUG -pedantic-errors -Wparentheses -Wreturn-type -Wcast-qual -Wall -Wpointer-arith -Wwrite-strings -Wconversion -Wno-unknown-pragmas -Wno-long-long -DCOINUTILS_BUILD -MT CoinPostsolveMatrix.lo -MD -MP -MF .deps/CoinPostsolveMatrix.Tpo -c CoinPostsolveMatrix.cpp  -fPIC -DPIC -o .libs/CoinPostsolveMatrix.o\n",
      "if /bin/bash ../../libtool --tag=CXX --mode=compile g++ -DHAVE_CONFIG_H -I. -I`echo .`     -O3 -pipe -DNDEBUG -pedantic-errors -Wparentheses -Wreturn-type -Wcast-qual -Wall -Wpointer-arith -Wwrite-strings -Wconversion -Wno-unknown-pragmas -Wno-long-long   -DCOINUTILS_BUILD -MT CoinPrePostsolveMatrix.lo -MD -MP -MF \".deps/CoinPrePostsolveMatrix.Tpo\" -c -o CoinPrePostsolveMatrix.lo CoinPrePostsolveMatrix.cpp; \\\n",
      "then mv -f \".deps/CoinPrePostsolveMatrix.Tpo\" \".deps/CoinPrePostsolveMatrix.Plo\"; else rm -f \".deps/CoinPrePostsolveMatrix.Tpo\"; exit 1; fi\n",
      " g++ -DHAVE_CONFIG_H -I. -I. -O3 -pipe -DNDEBUG -pedantic-errors -Wparentheses -Wreturn-type -Wcast-qual -Wall -Wpointer-arith -Wwrite-strings -Wconversion -Wno-unknown-pragmas -Wno-long-long -DCOINUTILS_BUILD -MT CoinPrePostsolveMatrix.lo -MD -MP -MF .deps/CoinPrePostsolveMatrix.Tpo -c CoinPrePostsolveMatrix.cpp  -fPIC -DPIC -o .libs/CoinPrePostsolveMatrix.o\n",
      "if /bin/bash ../../libtool --tag=CXX --mode=compile g++ -DHAVE_CONFIG_H -I. -I`echo .`     -O3 -pipe -DNDEBUG -pedantic-errors -Wparentheses -Wreturn-type -Wcast-qual -Wall -Wpointer-arith -Wwrite-strings -Wconversion -Wno-unknown-pragmas -Wno-long-long   -DCOINUTILS_BUILD -MT CoinPresolveDoubleton.lo -MD -MP -MF \".deps/CoinPresolveDoubleton.Tpo\" -c -o CoinPresolveDoubleton.lo CoinPresolveDoubleton.cpp; \\\n",
      "then mv -f \".deps/CoinPresolveDoubleton.Tpo\" \".deps/CoinPresolveDoubleton.Plo\"; else rm -f \".deps/CoinPresolveDoubleton.Tpo\"; exit 1; fi\n",
      " g++ -DHAVE_CONFIG_H -I. -I. -O3 -pipe -DNDEBUG -pedantic-errors -Wparentheses -Wreturn-type -Wcast-qual -Wall -Wpointer-arith -Wwrite-strings -Wconversion -Wno-unknown-pragmas -Wno-long-long -DCOINUTILS_BUILD -MT CoinPresolveDoubleton.lo -MD -MP -MF .deps/CoinPresolveDoubleton.Tpo -c CoinPresolveDoubleton.cpp  -fPIC -DPIC -o .libs/CoinPresolveDoubleton.o\n",
      "if /bin/bash ../../libtool --tag=CXX --mode=compile g++ -DHAVE_CONFIG_H -I. -I`echo .`     -O3 -pipe -DNDEBUG -pedantic-errors -Wparentheses -Wreturn-type -Wcast-qual -Wall -Wpointer-arith -Wwrite-strings -Wconversion -Wno-unknown-pragmas -Wno-long-long   -DCOINUTILS_BUILD -MT CoinPresolveDual.lo -MD -MP -MF \".deps/CoinPresolveDual.Tpo\" -c -o CoinPresolveDual.lo CoinPresolveDual.cpp; \\\n",
      "then mv -f \".deps/CoinPresolveDual.Tpo\" \".deps/CoinPresolveDual.Plo\"; else rm -f \".deps/CoinPresolveDual.Tpo\"; exit 1; fi\n"
     ]
    },
    {
     "name": "stderr",
     "output_type": "stream",
     "text": [
      "In file included from CoinPresolveDoubleton.cpp:9:0:\n",
      "CoinFinite.hpp:17:14: warning: ‘COIN_DBL_MIN’ defined but not used [-Wunused-variable]\n",
      " const double COIN_DBL_MIN = (std::numeric_limits<double>::min)();\n",
      "              ^\n",
      "CoinFinite.hpp:19:14: warning: ‘COIN_INT_MAX’ defined but not used [-Wunused-variable]\n",
      " const int    COIN_INT_MAX = (std::numeric_limits<int>::max)();\n",
      "              ^\n",
      "CoinFinite.hpp:20:14: warning: ‘COIN_INT_MAX_AS_DOUBLE’ defined but not used [-Wunused-variable]\n",
      " const double COIN_INT_MAX_AS_DOUBLE = (std::numeric_limits<int>::max)();\n",
      "              ^\n"
     ]
    },
    {
     "name": "stdout",
     "output_type": "stream",
     "text": [
      " g++ -DHAVE_CONFIG_H -I. -I. -O3 -pipe -DNDEBUG -pedantic-errors -Wparentheses -Wreturn-type -Wcast-qual -Wall -Wpointer-arith -Wwrite-strings -Wconversion -Wno-unknown-pragmas -Wno-long-long -DCOINUTILS_BUILD -MT CoinPresolveDual.lo -MD -MP -MF .deps/CoinPresolveDual.Tpo -c CoinPresolveDual.cpp  -fPIC -DPIC -o .libs/CoinPresolveDual.o\n"
     ]
    },
    {
     "name": "stderr",
     "output_type": "stream",
     "text": [
      "CoinPresolveDual.cpp: In static member function ‘static const CoinPresolveAction* remove_dual_action::presolve(CoinPresolveMatrix*, const CoinPresolveAction*)’:\n",
      "CoinPresolveDual.cpp:236:20: warning: unused variable ‘lb’ [-Wunused-variable]\n",
      "       const double lb = clo[icol] ;\n",
      "                    ^\n",
      "CoinPresolveDual.cpp:237:20: warning: unused variable ‘ub’ [-Wunused-variable]\n",
      "       const double ub = cup[icol] ;\n",
      "                    ^\n",
      "CoinPresolveDual.cpp:642:13: warning: unused variable ‘no_clb’ [-Wunused-variable]\n",
      "  const bool no_clb = (active[j]&5)==0 ;\n",
      "             ^\n",
      "In file included from CoinFloatEqual.hpp:12:0,\n",
      "                 from CoinPresolveDual.cpp:14:\n",
      "CoinFinite.hpp: At global scope:\n",
      "CoinFinite.hpp:17:14: warning: ‘COIN_DBL_MIN’ defined but not used [-Wunused-variable]\n",
      " const double COIN_DBL_MIN = (std::numeric_limits<double>::min)();\n",
      "              ^\n",
      "CoinFinite.hpp:19:14: warning: ‘COIN_INT_MAX’ defined but not used [-Wunused-variable]\n",
      " const int    COIN_INT_MAX = (std::numeric_limits<int>::max)();\n",
      "              ^\n",
      "CoinFinite.hpp:20:14: warning: ‘COIN_INT_MAX_AS_DOUBLE’ defined but not used [-Wunused-variable]\n",
      " const double COIN_INT_MAX_AS_DOUBLE = (std::numeric_limits<int>::max)();\n",
      "              ^\n"
     ]
    },
    {
     "name": "stdout",
     "output_type": "stream",
     "text": [
      "if /bin/bash ../../libtool --tag=CXX --mode=compile g++ -DHAVE_CONFIG_H -I. -I`echo .`     -O3 -pipe -DNDEBUG -pedantic-errors -Wparentheses -Wreturn-type -Wcast-qual -Wall -Wpointer-arith -Wwrite-strings -Wconversion -Wno-unknown-pragmas -Wno-long-long   -DCOINUTILS_BUILD -MT CoinPresolveDupcol.lo -MD -MP -MF \".deps/CoinPresolveDupcol.Tpo\" -c -o CoinPresolveDupcol.lo CoinPresolveDupcol.cpp; \\\n",
      "then mv -f \".deps/CoinPresolveDupcol.Tpo\" \".deps/CoinPresolveDupcol.Plo\"; else rm -f \".deps/CoinPresolveDupcol.Tpo\"; exit 1; fi\n",
      " g++ -DHAVE_CONFIG_H -I. -I. -O3 -pipe -DNDEBUG -pedantic-errors -Wparentheses -Wreturn-type -Wcast-qual -Wall -Wpointer-arith -Wwrite-strings -Wconversion -Wno-unknown-pragmas -Wno-long-long -DCOINUTILS_BUILD -MT CoinPresolveDupcol.lo -MD -MP -MF .deps/CoinPresolveDupcol.Tpo -c CoinPresolveDupcol.cpp  -fPIC -DPIC -o .libs/CoinPresolveDupcol.o\n"
     ]
    },
    {
     "name": "stderr",
     "output_type": "stream",
     "text": [
      "CoinPresolveDupcol.cpp: In member function ‘virtual void gubrow_action::postsolve(CoinPostsolveMatrix*) const’:\n",
      "CoinPresolveDupcol.cpp:1761:11: warning: unused variable ‘rcosts’ [-Wunused-variable]\n",
      "   double *rcosts = prob->rcosts_ ;\n",
      "           ^\n"
     ]
    },
    {
     "name": "stdout",
     "output_type": "stream",
     "text": [
      "if /bin/bash ../../libtool --tag=CXX --mode=compile g++ -DHAVE_CONFIG_H -I. -I`echo .`     -O3 -pipe -DNDEBUG -pedantic-errors -Wparentheses -Wreturn-type -Wcast-qual -Wall -Wpointer-arith -Wwrite-strings -Wconversion -Wno-unknown-pragmas -Wno-long-long   -DCOINUTILS_BUILD -MT CoinPresolveEmpty.lo -MD -MP -MF \".deps/CoinPresolveEmpty.Tpo\" -c -o CoinPresolveEmpty.lo CoinPresolveEmpty.cpp; \\\n",
      "then mv -f \".deps/CoinPresolveEmpty.Tpo\" \".deps/CoinPresolveEmpty.Plo\"; else rm -f \".deps/CoinPresolveEmpty.Tpo\"; exit 1; fi\n"
     ]
    },
    {
     "name": "stderr",
     "output_type": "stream",
     "text": [
      "In file included from CoinPresolveDupcol.cpp:16:0:\n",
      "CoinFinite.hpp: At global scope:\n",
      "CoinFinite.hpp:19:14: warning: ‘COIN_INT_MAX’ defined but not used [-Wunused-variable]\n",
      " const int    COIN_INT_MAX = (std::numeric_limits<int>::max)();\n",
      "              ^\n",
      "CoinFinite.hpp:20:14: warning: ‘COIN_INT_MAX_AS_DOUBLE’ defined but not used [-Wunused-variable]\n",
      " const double COIN_INT_MAX_AS_DOUBLE = (std::numeric_limits<int>::max)();\n",
      "              ^\n"
     ]
    },
    {
     "name": "stdout",
     "output_type": "stream",
     "text": [
      " g++ -DHAVE_CONFIG_H -I. -I. -O3 -pipe -DNDEBUG -pedantic-errors -Wparentheses -Wreturn-type -Wcast-qual -Wall -Wpointer-arith -Wwrite-strings -Wconversion -Wno-unknown-pragmas -Wno-long-long -DCOINUTILS_BUILD -MT CoinPresolveEmpty.lo -MD -MP -MF .deps/CoinPresolveEmpty.Tpo -c CoinPresolveEmpty.cpp  -fPIC -DPIC -o .libs/CoinPresolveEmpty.o\n",
      "if /bin/bash ../../libtool --tag=CXX --mode=compile g++ -DHAVE_CONFIG_H -I. -I`echo .`     -O3 -pipe -DNDEBUG -pedantic-errors -Wparentheses -Wreturn-type -Wcast-qual -Wall -Wpointer-arith -Wwrite-strings -Wconversion -Wno-unknown-pragmas -Wno-long-long   -DCOINUTILS_BUILD -MT CoinPresolveFixed.lo -MD -MP -MF \".deps/CoinPresolveFixed.Tpo\" -c -o CoinPresolveFixed.lo CoinPresolveFixed.cpp; \\\n",
      "then mv -f \".deps/CoinPresolveFixed.Tpo\" \".deps/CoinPresolveFixed.Plo\"; else rm -f \".deps/CoinPresolveFixed.Tpo\"; exit 1; fi\n"
     ]
    },
    {
     "name": "stderr",
     "output_type": "stream",
     "text": [
      "In file included from CoinPresolveEmpty.cpp:9:0:\n",
      "CoinFinite.hpp:17:14: warning: ‘COIN_DBL_MIN’ defined but not used [-Wunused-variable]\n",
      " const double COIN_DBL_MIN = (std::numeric_limits<double>::min)();\n",
      "              ^\n",
      "CoinFinite.hpp:19:14: warning: ‘COIN_INT_MAX’ defined but not used [-Wunused-variable]\n",
      " const int    COIN_INT_MAX = (std::numeric_limits<int>::max)();\n",
      "              ^\n",
      "CoinFinite.hpp:20:14: warning: ‘COIN_INT_MAX_AS_DOUBLE’ defined but not used [-Wunused-variable]\n",
      " const double COIN_INT_MAX_AS_DOUBLE = (std::numeric_limits<int>::max)();\n",
      "              ^\n"
     ]
    },
    {
     "name": "stdout",
     "output_type": "stream",
     "text": [
      " g++ -DHAVE_CONFIG_H -I. -I. -O3 -pipe -DNDEBUG -pedantic-errors -Wparentheses -Wreturn-type -Wcast-qual -Wall -Wpointer-arith -Wwrite-strings -Wconversion -Wno-unknown-pragmas -Wno-long-long -DCOINUTILS_BUILD -MT CoinPresolveFixed.lo -MD -MP -MF .deps/CoinPresolveFixed.Tpo -c CoinPresolveFixed.cpp  -fPIC -DPIC -o .libs/CoinPresolveFixed.o\n",
      "if /bin/bash ../../libtool --tag=CXX --mode=compile g++ -DHAVE_CONFIG_H -I. -I`echo .`     -O3 -pipe -DNDEBUG -pedantic-errors -Wparentheses -Wreturn-type -Wcast-qual -Wall -Wpointer-arith -Wwrite-strings -Wconversion -Wno-unknown-pragmas -Wno-long-long   -DCOINUTILS_BUILD -MT CoinPresolveForcing.lo -MD -MP -MF \".deps/CoinPresolveForcing.Tpo\" -c -o CoinPresolveForcing.lo CoinPresolveForcing.cpp; \\\n",
      "then mv -f \".deps/CoinPresolveForcing.Tpo\" \".deps/CoinPresolveForcing.Plo\"; else rm -f \".deps/CoinPresolveForcing.Tpo\"; exit 1; fi\n"
     ]
    },
    {
     "name": "stderr",
     "output_type": "stream",
     "text": [
      "In file included from CoinPresolveFixed.cpp:12:0:\n",
      "CoinFinite.hpp:17:14: warning: ‘COIN_DBL_MIN’ defined but not used [-Wunused-variable]\n",
      " const double COIN_DBL_MIN = (std::numeric_limits<double>::min)();\n",
      "              ^\n",
      "CoinFinite.hpp:19:14: warning: ‘COIN_INT_MAX’ defined but not used [-Wunused-variable]\n",
      " const int    COIN_INT_MAX = (std::numeric_limits<int>::max)();\n",
      "              ^\n",
      "CoinFinite.hpp:20:14: warning: ‘COIN_INT_MAX_AS_DOUBLE’ defined but not used [-Wunused-variable]\n",
      " const double COIN_INT_MAX_AS_DOUBLE = (std::numeric_limits<int>::max)();\n",
      "              ^\n"
     ]
    },
    {
     "name": "stdout",
     "output_type": "stream",
     "text": [
      " g++ -DHAVE_CONFIG_H -I. -I. -O3 -pipe -DNDEBUG -pedantic-errors -Wparentheses -Wreturn-type -Wcast-qual -Wall -Wpointer-arith -Wwrite-strings -Wconversion -Wno-unknown-pragmas -Wno-long-long -DCOINUTILS_BUILD -MT CoinPresolveForcing.lo -MD -MP -MF .deps/CoinPresolveForcing.Tpo -c CoinPresolveForcing.cpp  -fPIC -DPIC -o .libs/CoinPresolveForcing.o\n",
      "if /bin/bash ../../libtool --tag=CXX --mode=compile g++ -DHAVE_CONFIG_H -I. -I`echo .`     -O3 -pipe -DNDEBUG -pedantic-errors -Wparentheses -Wreturn-type -Wcast-qual -Wall -Wpointer-arith -Wwrite-strings -Wconversion -Wno-unknown-pragmas -Wno-long-long   -DCOINUTILS_BUILD -MT CoinPresolveHelperFunctions.lo -MD -MP -MF \".deps/CoinPresolveHelperFunctions.Tpo\" -c -o CoinPresolveHelperFunctions.lo CoinPresolveHelperFunctions.cpp; \\\n",
      "then mv -f \".deps/CoinPresolveHelperFunctions.Tpo\" \".deps/CoinPresolveHelperFunctions.Plo\"; else rm -f \".deps/CoinPresolveHelperFunctions.Tpo\"; exit 1; fi\n"
     ]
    },
    {
     "name": "stderr",
     "output_type": "stream",
     "text": [
      "In file included from CoinPresolveForcing.cpp:17:0:\n",
      "CoinFinite.hpp:17:14: warning: ‘COIN_DBL_MIN’ defined but not used [-Wunused-variable]\n",
      " const double COIN_DBL_MIN = (std::numeric_limits<double>::min)();\n",
      "              ^\n",
      "CoinFinite.hpp:19:14: warning: ‘COIN_INT_MAX’ defined but not used [-Wunused-variable]\n",
      " const int    COIN_INT_MAX = (std::numeric_limits<int>::max)();\n",
      "              ^\n",
      "CoinFinite.hpp:20:14: warning: ‘COIN_INT_MAX_AS_DOUBLE’ defined but not used [-Wunused-variable]\n",
      " const double COIN_INT_MAX_AS_DOUBLE = (std::numeric_limits<int>::max)();\n",
      "              ^\n"
     ]
    },
    {
     "name": "stdout",
     "output_type": "stream",
     "text": [
      " g++ -DHAVE_CONFIG_H -I. -I. -O3 -pipe -DNDEBUG -pedantic-errors -Wparentheses -Wreturn-type -Wcast-qual -Wall -Wpointer-arith -Wwrite-strings -Wconversion -Wno-unknown-pragmas -Wno-long-long -DCOINUTILS_BUILD -MT CoinPresolveHelperFunctions.lo -MD -MP -MF .deps/CoinPresolveHelperFunctions.Tpo -c CoinPresolveHelperFunctions.cpp  -fPIC -DPIC -o .libs/CoinPresolveHelperFunctions.o\n",
      "if /bin/bash ../../libtool --tag=CXX --mode=compile g++ -DHAVE_CONFIG_H -I. -I`echo .`     -O3 -pipe -DNDEBUG -pedantic-errors -Wparentheses -Wreturn-type -Wcast-qual -Wall -Wpointer-arith -Wwrite-strings -Wconversion -Wno-unknown-pragmas -Wno-long-long   -DCOINUTILS_BUILD -MT CoinPresolveImpliedFree.lo -MD -MP -MF \".deps/CoinPresolveImpliedFree.Tpo\" -c -o CoinPresolveImpliedFree.lo CoinPresolveImpliedFree.cpp; \\\n",
      "then mv -f \".deps/CoinPresolveImpliedFree.Tpo\" \".deps/CoinPresolveImpliedFree.Plo\"; else rm -f \".deps/CoinPresolveImpliedFree.Tpo\"; exit 1; fi\n",
      " g++ -DHAVE_CONFIG_H -I. -I. -O3 -pipe -DNDEBUG -pedantic-errors -Wparentheses -Wreturn-type -Wcast-qual -Wall -Wpointer-arith -Wwrite-strings -Wconversion -Wno-unknown-pragmas -Wno-long-long -DCOINUTILS_BUILD -MT CoinPresolveImpliedFree.lo -MD -MP -MF .deps/CoinPresolveImpliedFree.Tpo -c CoinPresolveImpliedFree.cpp  -fPIC -DPIC -o .libs/CoinPresolveImpliedFree.o\n",
      "if /bin/bash ../../libtool --tag=CXX --mode=compile g++ -DHAVE_CONFIG_H -I. -I`echo .`     -O3 -pipe -DNDEBUG -pedantic-errors -Wparentheses -Wreturn-type -Wcast-qual -Wall -Wpointer-arith -Wwrite-strings -Wconversion -Wno-unknown-pragmas -Wno-long-long   -DCOINUTILS_BUILD -MT CoinPresolveIsolated.lo -MD -MP -MF \".deps/CoinPresolveIsolated.Tpo\" -c -o CoinPresolveIsolated.lo CoinPresolveIsolated.cpp; \\\n",
      "then mv -f \".deps/CoinPresolveIsolated.Tpo\" \".deps/CoinPresolveIsolated.Plo\"; else rm -f \".deps/CoinPresolveIsolated.Tpo\"; exit 1; fi\n"
     ]
    },
    {
     "name": "stderr",
     "output_type": "stream",
     "text": [
      "In file included from CoinPresolveImpliedFree.cpp:19:0:\n",
      "CoinFinite.hpp:17:14: warning: ‘COIN_DBL_MIN’ defined but not used [-Wunused-variable]\n",
      " const double COIN_DBL_MIN = (std::numeric_limits<double>::min)();\n",
      "              ^\n",
      "CoinFinite.hpp:19:14: warning: ‘COIN_INT_MAX’ defined but not used [-Wunused-variable]\n",
      " const int    COIN_INT_MAX = (std::numeric_limits<int>::max)();\n",
      "              ^\n",
      "CoinFinite.hpp:20:14: warning: ‘COIN_INT_MAX_AS_DOUBLE’ defined but not used [-Wunused-variable]\n",
      " const double COIN_INT_MAX_AS_DOUBLE = (std::numeric_limits<int>::max)();\n",
      "              ^\n"
     ]
    },
    {
     "name": "stdout",
     "output_type": "stream",
     "text": [
      " g++ -DHAVE_CONFIG_H -I. -I. -O3 -pipe -DNDEBUG -pedantic-errors -Wparentheses -Wreturn-type -Wcast-qual -Wall -Wpointer-arith -Wwrite-strings -Wconversion -Wno-unknown-pragmas -Wno-long-long -DCOINUTILS_BUILD -MT CoinPresolveIsolated.lo -MD -MP -MF .deps/CoinPresolveIsolated.Tpo -c CoinPresolveIsolated.cpp  -fPIC -DPIC -o .libs/CoinPresolveIsolated.o\n",
      "if /bin/bash ../../libtool --tag=CXX --mode=compile g++ -DHAVE_CONFIG_H -I. -I`echo .`     -O3 -pipe -DNDEBUG -pedantic-errors -Wparentheses -Wreturn-type -Wcast-qual -Wall -Wpointer-arith -Wwrite-strings -Wconversion -Wno-unknown-pragmas -Wno-long-long   -DCOINUTILS_BUILD -MT CoinPresolveMatrix.lo -MD -MP -MF \".deps/CoinPresolveMatrix.Tpo\" -c -o CoinPresolveMatrix.lo CoinPresolveMatrix.cpp; \\\n",
      "then mv -f \".deps/CoinPresolveMatrix.Tpo\" \".deps/CoinPresolveMatrix.Plo\"; else rm -f \".deps/CoinPresolveMatrix.Tpo\"; exit 1; fi\n",
      " g++ -DHAVE_CONFIG_H -I. -I. -O3 -pipe -DNDEBUG -pedantic-errors -Wparentheses -Wreturn-type -Wcast-qual -Wall -Wpointer-arith -Wwrite-strings -Wconversion -Wno-unknown-pragmas -Wno-long-long -DCOINUTILS_BUILD -MT CoinPresolveMatrix.lo -MD -MP -MF .deps/CoinPresolveMatrix.Tpo -c CoinPresolveMatrix.cpp  -fPIC -DPIC -o .libs/CoinPresolveMatrix.o\n",
      "if /bin/bash ../../libtool --tag=CXX --mode=compile g++ -DHAVE_CONFIG_H -I. -I`echo .`     -O3 -pipe -DNDEBUG -pedantic-errors -Wparentheses -Wreturn-type -Wcast-qual -Wall -Wpointer-arith -Wwrite-strings -Wconversion -Wno-unknown-pragmas -Wno-long-long   -DCOINUTILS_BUILD -MT CoinPresolvePsdebug.lo -MD -MP -MF \".deps/CoinPresolvePsdebug.Tpo\" -c -o CoinPresolvePsdebug.lo CoinPresolvePsdebug.cpp; \\\n",
      "then mv -f \".deps/CoinPresolvePsdebug.Tpo\" \".deps/CoinPresolvePsdebug.Plo\"; else rm -f \".deps/CoinPresolvePsdebug.Tpo\"; exit 1; fi\n",
      " g++ -DHAVE_CONFIG_H -I. -I. -O3 -pipe -DNDEBUG -pedantic-errors -Wparentheses -Wreturn-type -Wcast-qual -Wall -Wpointer-arith -Wwrite-strings -Wconversion -Wno-unknown-pragmas -Wno-long-long -DCOINUTILS_BUILD -MT CoinPresolvePsdebug.lo -MD -MP -MF .deps/CoinPresolvePsdebug.Tpo -c CoinPresolvePsdebug.cpp  -fPIC -DPIC -o .libs/CoinPresolvePsdebug.o\n",
      "if /bin/bash ../../libtool --tag=CXX --mode=compile g++ -DHAVE_CONFIG_H -I. -I`echo .`     -O3 -pipe -DNDEBUG -pedantic-errors -Wparentheses -Wreturn-type -Wcast-qual -Wall -Wpointer-arith -Wwrite-strings -Wconversion -Wno-unknown-pragmas -Wno-long-long   -DCOINUTILS_BUILD -MT CoinPresolveMonitor.lo -MD -MP -MF \".deps/CoinPresolveMonitor.Tpo\" -c -o CoinPresolveMonitor.lo CoinPresolveMonitor.cpp; \\\n",
      "then mv -f \".deps/CoinPresolveMonitor.Tpo\" \".deps/CoinPresolveMonitor.Plo\"; else rm -f \".deps/CoinPresolveMonitor.Tpo\"; exit 1; fi\n",
      " g++ -DHAVE_CONFIG_H -I. -I. -O3 -pipe -DNDEBUG -pedantic-errors -Wparentheses -Wreturn-type -Wcast-qual -Wall -Wpointer-arith -Wwrite-strings -Wconversion -Wno-unknown-pragmas -Wno-long-long -DCOINUTILS_BUILD -MT CoinPresolveMonitor.lo -MD -MP -MF .deps/CoinPresolveMonitor.Tpo -c CoinPresolveMonitor.cpp  -fPIC -DPIC -o .libs/CoinPresolveMonitor.o\n",
      "if /bin/bash ../../libtool --tag=CXX --mode=compile g++ -DHAVE_CONFIG_H -I. -I`echo .`     -O3 -pipe -DNDEBUG -pedantic-errors -Wparentheses -Wreturn-type -Wcast-qual -Wall -Wpointer-arith -Wwrite-strings -Wconversion -Wno-unknown-pragmas -Wno-long-long   -DCOINUTILS_BUILD -MT CoinPresolveSingleton.lo -MD -MP -MF \".deps/CoinPresolveSingleton.Tpo\" -c -o CoinPresolveSingleton.lo CoinPresolveSingleton.cpp; \\\n",
      "then mv -f \".deps/CoinPresolveSingleton.Tpo\" \".deps/CoinPresolveSingleton.Plo\"; else rm -f \".deps/CoinPresolveSingleton.Tpo\"; exit 1; fi\n",
      " g++ -DHAVE_CONFIG_H -I. -I. -O3 -pipe -DNDEBUG -pedantic-errors -Wparentheses -Wreturn-type -Wcast-qual -Wall -Wpointer-arith -Wwrite-strings -Wconversion -Wno-unknown-pragmas -Wno-long-long -DCOINUTILS_BUILD -MT CoinPresolveSingleton.lo -MD -MP -MF .deps/CoinPresolveSingleton.Tpo -c CoinPresolveSingleton.cpp  -fPIC -DPIC -o .libs/CoinPresolveSingleton.o\n"
     ]
    },
    {
     "name": "stderr",
     "output_type": "stream",
     "text": [
      "In file included from CoinPresolveSingleton.cpp:19:0:\n",
      "CoinFinite.hpp:17:14: warning: ‘COIN_DBL_MIN’ defined but not used [-Wunused-variable]\n",
      " const double COIN_DBL_MIN = (std::numeric_limits<double>::min)();\n",
      "              ^\n",
      "CoinFinite.hpp:19:14: warning: ‘COIN_INT_MAX’ defined but not used [-Wunused-variable]\n",
      " const int    COIN_INT_MAX = (std::numeric_limits<int>::max)();\n",
      "              ^\n",
      "CoinFinite.hpp:20:14: warning: ‘COIN_INT_MAX_AS_DOUBLE’ defined but not used [-Wunused-variable]\n",
      " const double COIN_INT_MAX_AS_DOUBLE = (std::numeric_limits<int>::max)();\n",
      "              ^\n"
     ]
    },
    {
     "name": "stdout",
     "output_type": "stream",
     "text": [
      "if /bin/bash ../../libtool --tag=CXX --mode=compile g++ -DHAVE_CONFIG_H -I. -I`echo .`     -O3 -pipe -DNDEBUG -pedantic-errors -Wparentheses -Wreturn-type -Wcast-qual -Wall -Wpointer-arith -Wwrite-strings -Wconversion -Wno-unknown-pragmas -Wno-long-long   -DCOINUTILS_BUILD -MT CoinPresolveSubst.lo -MD -MP -MF \".deps/CoinPresolveSubst.Tpo\" -c -o CoinPresolveSubst.lo CoinPresolveSubst.cpp; \\\n",
      "then mv -f \".deps/CoinPresolveSubst.Tpo\" \".deps/CoinPresolveSubst.Plo\"; else rm -f \".deps/CoinPresolveSubst.Tpo\"; exit 1; fi\n",
      " g++ -DHAVE_CONFIG_H -I. -I. -O3 -pipe -DNDEBUG -pedantic-errors -Wparentheses -Wreturn-type -Wcast-qual -Wall -Wpointer-arith -Wwrite-strings -Wconversion -Wno-unknown-pragmas -Wno-long-long -DCOINUTILS_BUILD -MT CoinPresolveSubst.lo -MD -MP -MF .deps/CoinPresolveSubst.Tpo -c CoinPresolveSubst.cpp  -fPIC -DPIC -o .libs/CoinPresolveSubst.o\n",
      "if /bin/bash ../../libtool --tag=CXX --mode=compile g++ -DHAVE_CONFIG_H -I. -I`echo .`     -O3 -pipe -DNDEBUG -pedantic-errors -Wparentheses -Wreturn-type -Wcast-qual -Wall -Wpointer-arith -Wwrite-strings -Wconversion -Wno-unknown-pragmas -Wno-long-long   -DCOINUTILS_BUILD -MT CoinPresolveTighten.lo -MD -MP -MF \".deps/CoinPresolveTighten.Tpo\" -c -o CoinPresolveTighten.lo CoinPresolveTighten.cpp; \\\n",
      "then mv -f \".deps/CoinPresolveTighten.Tpo\" \".deps/CoinPresolveTighten.Plo\"; else rm -f \".deps/CoinPresolveTighten.Tpo\"; exit 1; fi\n"
     ]
    },
    {
     "name": "stderr",
     "output_type": "stream",
     "text": [
      "In file included from CoinPresolveSubst.cpp:19:0:\n",
      "CoinFinite.hpp:17:14: warning: ‘COIN_DBL_MIN’ defined but not used [-Wunused-variable]\n",
      " const double COIN_DBL_MIN = (std::numeric_limits<double>::min)();\n",
      "              ^\n",
      "CoinFinite.hpp:19:14: warning: ‘COIN_INT_MAX’ defined but not used [-Wunused-variable]\n",
      " const int    COIN_INT_MAX = (std::numeric_limits<int>::max)();\n",
      "              ^\n",
      "CoinFinite.hpp:20:14: warning: ‘COIN_INT_MAX_AS_DOUBLE’ defined but not used [-Wunused-variable]\n",
      " const double COIN_INT_MAX_AS_DOUBLE = (std::numeric_limits<int>::max)();\n",
      "              ^\n"
     ]
    },
    {
     "name": "stdout",
     "output_type": "stream",
     "text": [
      " g++ -DHAVE_CONFIG_H -I. -I. -O3 -pipe -DNDEBUG -pedantic-errors -Wparentheses -Wreturn-type -Wcast-qual -Wall -Wpointer-arith -Wwrite-strings -Wconversion -Wno-unknown-pragmas -Wno-long-long -DCOINUTILS_BUILD -MT CoinPresolveTighten.lo -MD -MP -MF .deps/CoinPresolveTighten.Tpo -c CoinPresolveTighten.cpp  -fPIC -DPIC -o .libs/CoinPresolveTighten.o\n",
      "if /bin/bash ../../libtool --tag=CXX --mode=compile g++ -DHAVE_CONFIG_H -I. -I`echo .`     -O3 -pipe -DNDEBUG -pedantic-errors -Wparentheses -Wreturn-type -Wcast-qual -Wall -Wpointer-arith -Wwrite-strings -Wconversion -Wno-unknown-pragmas -Wno-long-long   -DCOINUTILS_BUILD -MT CoinPresolveTripleton.lo -MD -MP -MF \".deps/CoinPresolveTripleton.Tpo\" -c -o CoinPresolveTripleton.lo CoinPresolveTripleton.cpp; \\\n",
      "then mv -f \".deps/CoinPresolveTripleton.Tpo\" \".deps/CoinPresolveTripleton.Plo\"; else rm -f \".deps/CoinPresolveTripleton.Tpo\"; exit 1; fi\n"
     ]
    },
    {
     "name": "stderr",
     "output_type": "stream",
     "text": [
      "In file included from CoinPresolveTighten.cpp:14:0:\n",
      "CoinFinite.hpp:17:14: warning: ‘COIN_DBL_MIN’ defined but not used [-Wunused-variable]\n",
      " const double COIN_DBL_MIN = (std::numeric_limits<double>::min)();\n",
      "              ^\n",
      "CoinFinite.hpp:19:14: warning: ‘COIN_INT_MAX’ defined but not used [-Wunused-variable]\n",
      " const int    COIN_INT_MAX = (std::numeric_limits<int>::max)();\n",
      "              ^\n",
      "CoinFinite.hpp:20:14: warning: ‘COIN_INT_MAX_AS_DOUBLE’ defined but not used [-Wunused-variable]\n",
      " const double COIN_INT_MAX_AS_DOUBLE = (std::numeric_limits<int>::max)();\n",
      "              ^\n"
     ]
    },
    {
     "name": "stdout",
     "output_type": "stream",
     "text": [
      " g++ -DHAVE_CONFIG_H -I. -I. -O3 -pipe -DNDEBUG -pedantic-errors -Wparentheses -Wreturn-type -Wcast-qual -Wall -Wpointer-arith -Wwrite-strings -Wconversion -Wno-unknown-pragmas -Wno-long-long -DCOINUTILS_BUILD -MT CoinPresolveTripleton.lo -MD -MP -MF .deps/CoinPresolveTripleton.Tpo -c CoinPresolveTripleton.cpp  -fPIC -DPIC -o .libs/CoinPresolveTripleton.o\n",
      "if /bin/bash ../../libtool --tag=CXX --mode=compile g++ -DHAVE_CONFIG_H -I. -I`echo .`     -O3 -pipe -DNDEBUG -pedantic-errors -Wparentheses -Wreturn-type -Wcast-qual -Wall -Wpointer-arith -Wwrite-strings -Wconversion -Wno-unknown-pragmas -Wno-long-long   -DCOINUTILS_BUILD -MT CoinPresolveUseless.lo -MD -MP -MF \".deps/CoinPresolveUseless.Tpo\" -c -o CoinPresolveUseless.lo CoinPresolveUseless.cpp; \\\n",
      "then mv -f \".deps/CoinPresolveUseless.Tpo\" \".deps/CoinPresolveUseless.Plo\"; else rm -f \".deps/CoinPresolveUseless.Tpo\"; exit 1; fi\n"
     ]
    },
    {
     "name": "stderr",
     "output_type": "stream",
     "text": [
      "In file included from CoinPresolveTripleton.cpp:9:0:\n",
      "CoinFinite.hpp:17:14: warning: ‘COIN_DBL_MIN’ defined but not used [-Wunused-variable]\n",
      " const double COIN_DBL_MIN = (std::numeric_limits<double>::min)();\n",
      "              ^\n",
      "CoinFinite.hpp:19:14: warning: ‘COIN_INT_MAX’ defined but not used [-Wunused-variable]\n",
      " const int    COIN_INT_MAX = (std::numeric_limits<int>::max)();\n",
      "              ^\n",
      "CoinFinite.hpp:20:14: warning: ‘COIN_INT_MAX_AS_DOUBLE’ defined but not used [-Wunused-variable]\n",
      " const double COIN_INT_MAX_AS_DOUBLE = (std::numeric_limits<int>::max)();\n",
      "              ^\n"
     ]
    },
    {
     "name": "stdout",
     "output_type": "stream",
     "text": [
      " g++ -DHAVE_CONFIG_H -I. -I. -O3 -pipe -DNDEBUG -pedantic-errors -Wparentheses -Wreturn-type -Wcast-qual -Wall -Wpointer-arith -Wwrite-strings -Wconversion -Wno-unknown-pragmas -Wno-long-long -DCOINUTILS_BUILD -MT CoinPresolveUseless.lo -MD -MP -MF .deps/CoinPresolveUseless.Tpo -c CoinPresolveUseless.cpp  -fPIC -DPIC -o .libs/CoinPresolveUseless.o\n",
      "if /bin/bash ../../libtool --tag=CXX --mode=compile g++ -DHAVE_CONFIG_H -I. -I`echo .`     -O3 -pipe -DNDEBUG -pedantic-errors -Wparentheses -Wreturn-type -Wcast-qual -Wall -Wpointer-arith -Wwrite-strings -Wconversion -Wno-unknown-pragmas -Wno-long-long   -DCOINUTILS_BUILD -MT CoinPresolveZeros.lo -MD -MP -MF \".deps/CoinPresolveZeros.Tpo\" -c -o CoinPresolveZeros.lo CoinPresolveZeros.cpp; \\\n",
      "then mv -f \".deps/CoinPresolveZeros.Tpo\" \".deps/CoinPresolveZeros.Plo\"; else rm -f \".deps/CoinPresolveZeros.Tpo\"; exit 1; fi\n"
     ]
    },
    {
     "name": "stderr",
     "output_type": "stream",
     "text": [
      "In file included from CoinPresolveUseless.cpp:12:0:\n",
      "CoinFinite.hpp:17:14: warning: ‘COIN_DBL_MIN’ defined but not used [-Wunused-variable]\n",
      " const double COIN_DBL_MIN = (std::numeric_limits<double>::min)();\n",
      "              ^\n",
      "CoinFinite.hpp:19:14: warning: ‘COIN_INT_MAX’ defined but not used [-Wunused-variable]\n",
      " const int    COIN_INT_MAX = (std::numeric_limits<int>::max)();\n",
      "              ^\n",
      "CoinFinite.hpp:20:14: warning: ‘COIN_INT_MAX_AS_DOUBLE’ defined but not used [-Wunused-variable]\n",
      " const double COIN_INT_MAX_AS_DOUBLE = (std::numeric_limits<int>::max)();\n",
      "              ^\n"
     ]
    },
    {
     "name": "stdout",
     "output_type": "stream",
     "text": [
      " g++ -DHAVE_CONFIG_H -I. -I. -O3 -pipe -DNDEBUG -pedantic-errors -Wparentheses -Wreturn-type -Wcast-qual -Wall -Wpointer-arith -Wwrite-strings -Wconversion -Wno-unknown-pragmas -Wno-long-long -DCOINUTILS_BUILD -MT CoinPresolveZeros.lo -MD -MP -MF .deps/CoinPresolveZeros.Tpo -c CoinPresolveZeros.cpp  -fPIC -DPIC -o .libs/CoinPresolveZeros.o\n",
      "if /bin/bash ../../libtool --tag=CXX --mode=compile g++ -DHAVE_CONFIG_H -I. -I`echo .`     -O3 -pipe -DNDEBUG -pedantic-errors -Wparentheses -Wreturn-type -Wcast-qual -Wall -Wpointer-arith -Wwrite-strings -Wconversion -Wno-unknown-pragmas -Wno-long-long   -DCOINUTILS_BUILD -MT CoinRational.lo -MD -MP -MF \".deps/CoinRational.Tpo\" -c -o CoinRational.lo CoinRational.cpp; \\\n",
      "then mv -f \".deps/CoinRational.Tpo\" \".deps/CoinRational.Plo\"; else rm -f \".deps/CoinRational.Tpo\"; exit 1; fi\n",
      " g++ -DHAVE_CONFIG_H -I. -I. -O3 -pipe -DNDEBUG -pedantic-errors -Wparentheses -Wreturn-type -Wcast-qual -Wall -Wpointer-arith -Wwrite-strings -Wconversion -Wno-unknown-pragmas -Wno-long-long -DCOINUTILS_BUILD -MT CoinRational.lo -MD -MP -MF .deps/CoinRational.Tpo -c CoinRational.cpp  -fPIC -DPIC -o .libs/CoinRational.o\n",
      "if /bin/bash ../../libtool --tag=CXX --mode=compile g++ -DHAVE_CONFIG_H -I. -I`echo .`     -O3 -pipe -DNDEBUG -pedantic-errors -Wparentheses -Wreturn-type -Wcast-qual -Wall -Wpointer-arith -Wwrite-strings -Wconversion -Wno-unknown-pragmas -Wno-long-long   -DCOINUTILS_BUILD -MT CoinSearchTree.lo -MD -MP -MF \".deps/CoinSearchTree.Tpo\" -c -o CoinSearchTree.lo CoinSearchTree.cpp; \\\n",
      "then mv -f \".deps/CoinSearchTree.Tpo\" \".deps/CoinSearchTree.Plo\"; else rm -f \".deps/CoinSearchTree.Tpo\"; exit 1; fi\n"
     ]
    },
    {
     "name": "stderr",
     "output_type": "stream",
     "text": [
      "CoinRational.cpp: In member function ‘bool CoinRational::nearestRational_(double, double, long int)’:\n",
      "CoinRational.cpp:30:46: warning: conversion to ‘double’ from ‘long int’ may alter its value [-Wconversion]\n",
      "       double mediant = (a + c)/(double(b + d));\n",
      "                                              ^\n",
      "CoinRational.cpp:60:30: warning: conversion to ‘long int’ from ‘double’ may alter its value [-Wfloat-conversion]\n",
      "    numerator_ += labs(intpart) * denominator_;\n",
      "                              ^\n",
      "CoinRational.cpp:64:52: warning: conversion to ‘double’ from ‘long int’ may alter its value [-Wconversion]\n",
      "    return fabs(val - numerator_/double(denominator_)) <= maxdelta;\n",
      "                                                    ^\n"
     ]
    },
    {
     "name": "stdout",
     "output_type": "stream",
     "text": [
      " g++ -DHAVE_CONFIG_H -I. -I. -O3 -pipe -DNDEBUG -pedantic-errors -Wparentheses -Wreturn-type -Wcast-qual -Wall -Wpointer-arith -Wwrite-strings -Wconversion -Wno-unknown-pragmas -Wno-long-long -DCOINUTILS_BUILD -MT CoinSearchTree.lo -MD -MP -MF .deps/CoinSearchTree.Tpo -c CoinSearchTree.cpp  -fPIC -DPIC -o .libs/CoinSearchTree.o\n",
      "if /bin/bash ../../libtool --tag=CXX --mode=compile g++ -DHAVE_CONFIG_H -I. -I`echo .`     -O3 -pipe -DNDEBUG -pedantic-errors -Wparentheses -Wreturn-type -Wcast-qual -Wall -Wpointer-arith -Wwrite-strings -Wconversion -Wno-unknown-pragmas -Wno-long-long   -DCOINUTILS_BUILD -MT CoinShallowPackedVector.lo -MD -MP -MF \".deps/CoinShallowPackedVector.Tpo\" -c -o CoinShallowPackedVector.lo CoinShallowPackedVector.cpp; \\\n",
      "then mv -f \".deps/CoinShallowPackedVector.Tpo\" \".deps/CoinShallowPackedVector.Plo\"; else rm -f \".deps/CoinShallowPackedVector.Tpo\"; exit 1; fi\n"
     ]
    },
    {
     "name": "stderr",
     "output_type": "stream",
     "text": [
      "In file included from CoinSearchTree.hpp:14:0,\n",
      "                 from CoinSearchTree.cpp:7:\n",
      "CoinFinite.hpp:17:14: warning: ‘COIN_DBL_MIN’ defined but not used [-Wunused-variable]\n",
      " const double COIN_DBL_MIN = (std::numeric_limits<double>::min)();\n",
      "              ^\n",
      "CoinFinite.hpp:19:14: warning: ‘COIN_INT_MAX’ defined but not used [-Wunused-variable]\n",
      " const int    COIN_INT_MAX = (std::numeric_limits<int>::max)();\n",
      "              ^\n",
      "CoinFinite.hpp:20:14: warning: ‘COIN_INT_MAX_AS_DOUBLE’ defined but not used [-Wunused-variable]\n",
      " const double COIN_INT_MAX_AS_DOUBLE = (std::numeric_limits<int>::max)();\n",
      "              ^\n"
     ]
    },
    {
     "name": "stdout",
     "output_type": "stream",
     "text": [
      " g++ -DHAVE_CONFIG_H -I. -I. -O3 -pipe -DNDEBUG -pedantic-errors -Wparentheses -Wreturn-type -Wcast-qual -Wall -Wpointer-arith -Wwrite-strings -Wconversion -Wno-unknown-pragmas -Wno-long-long -DCOINUTILS_BUILD -MT CoinShallowPackedVector.lo -MD -MP -MF .deps/CoinShallowPackedVector.Tpo -c CoinShallowPackedVector.cpp  -fPIC -DPIC -o .libs/CoinShallowPackedVector.o\n",
      "if /bin/bash ../../libtool --tag=CXX --mode=compile g++ -DHAVE_CONFIG_H -I. -I`echo .`     -O3 -pipe -DNDEBUG -pedantic-errors -Wparentheses -Wreturn-type -Wcast-qual -Wall -Wpointer-arith -Wwrite-strings -Wconversion -Wno-unknown-pragmas -Wno-long-long   -DCOINUTILS_BUILD -MT CoinSnapshot.lo -MD -MP -MF \".deps/CoinSnapshot.Tpo\" -c -o CoinSnapshot.lo CoinSnapshot.cpp; \\\n",
      "then mv -f \".deps/CoinSnapshot.Tpo\" \".deps/CoinSnapshot.Plo\"; else rm -f \".deps/CoinSnapshot.Tpo\"; exit 1; fi\n",
      " g++ -DHAVE_CONFIG_H -I. -I. -O3 -pipe -DNDEBUG -pedantic-errors -Wparentheses -Wreturn-type -Wcast-qual -Wall -Wpointer-arith -Wwrite-strings -Wconversion -Wno-unknown-pragmas -Wno-long-long -DCOINUTILS_BUILD -MT CoinSnapshot.lo -MD -MP -MF .deps/CoinSnapshot.Tpo -c CoinSnapshot.cpp  -fPIC -DPIC -o .libs/CoinSnapshot.o\n",
      "if /bin/bash ../../libtool --tag=CXX --mode=compile g++ -DHAVE_CONFIG_H -I. -I`echo .`     -O3 -pipe -DNDEBUG -pedantic-errors -Wparentheses -Wreturn-type -Wcast-qual -Wall -Wpointer-arith -Wwrite-strings -Wconversion -Wno-unknown-pragmas -Wno-long-long   -DCOINUTILS_BUILD -MT CoinWarmStartBasis.lo -MD -MP -MF \".deps/CoinWarmStartBasis.Tpo\" -c -o CoinWarmStartBasis.lo CoinWarmStartBasis.cpp; \\\n",
      "then mv -f \".deps/CoinWarmStartBasis.Tpo\" \".deps/CoinWarmStartBasis.Plo\"; else rm -f \".deps/CoinWarmStartBasis.Tpo\"; exit 1; fi\n"
     ]
    },
    {
     "name": "stderr",
     "output_type": "stream",
     "text": [
      "In file included from CoinSnapshot.cpp:11:0:\n",
      "CoinFinite.hpp:17:14: warning: ‘COIN_DBL_MIN’ defined but not used [-Wunused-variable]\n",
      " const double COIN_DBL_MIN = (std::numeric_limits<double>::min)();\n",
      "              ^\n",
      "CoinFinite.hpp:19:14: warning: ‘COIN_INT_MAX’ defined but not used [-Wunused-variable]\n",
      " const int    COIN_INT_MAX = (std::numeric_limits<int>::max)();\n",
      "              ^\n",
      "CoinFinite.hpp:20:14: warning: ‘COIN_INT_MAX_AS_DOUBLE’ defined but not used [-Wunused-variable]\n",
      " const double COIN_INT_MAX_AS_DOUBLE = (std::numeric_limits<int>::max)();\n",
      "              ^\n"
     ]
    },
    {
     "name": "stdout",
     "output_type": "stream",
     "text": [
      " g++ -DHAVE_CONFIG_H -I. -I. -O3 -pipe -DNDEBUG -pedantic-errors -Wparentheses -Wreturn-type -Wcast-qual -Wall -Wpointer-arith -Wwrite-strings -Wconversion -Wno-unknown-pragmas -Wno-long-long -DCOINUTILS_BUILD -MT CoinWarmStartBasis.lo -MD -MP -MF .deps/CoinWarmStartBasis.Tpo -c CoinWarmStartBasis.cpp  -fPIC -DPIC -o .libs/CoinWarmStartBasis.o\n",
      "if /bin/bash ../../libtool --tag=CXX --mode=compile g++ -DHAVE_CONFIG_H -I. -I`echo .`     -O3 -pipe -DNDEBUG -pedantic-errors -Wparentheses -Wreturn-type -Wcast-qual -Wall -Wpointer-arith -Wwrite-strings -Wconversion -Wno-unknown-pragmas -Wno-long-long   -DCOINUTILS_BUILD -MT CoinWarmStartVector.lo -MD -MP -MF \".deps/CoinWarmStartVector.Tpo\" -c -o CoinWarmStartVector.lo CoinWarmStartVector.cpp; \\\n",
      "then mv -f \".deps/CoinWarmStartVector.Tpo\" \".deps/CoinWarmStartVector.Plo\"; else rm -f \".deps/CoinWarmStartVector.Tpo\"; exit 1; fi\n",
      " g++ -DHAVE_CONFIG_H -I. -I. -O3 -pipe -DNDEBUG -pedantic-errors -Wparentheses -Wreturn-type -Wcast-qual -Wall -Wpointer-arith -Wwrite-strings -Wconversion -Wno-unknown-pragmas -Wno-long-long -DCOINUTILS_BUILD -MT CoinWarmStartVector.lo -MD -MP -MF .deps/CoinWarmStartVector.Tpo -c CoinWarmStartVector.cpp  -fPIC -DPIC -o .libs/CoinWarmStartVector.o\n",
      "if /bin/bash ../../libtool --tag=CXX --mode=compile g++ -DHAVE_CONFIG_H -I. -I`echo .`     -O3 -pipe -DNDEBUG -pedantic-errors -Wparentheses -Wreturn-type -Wcast-qual -Wall -Wpointer-arith -Wwrite-strings -Wconversion -Wno-unknown-pragmas -Wno-long-long   -DCOINUTILS_BUILD -MT CoinWarmStartDual.lo -MD -MP -MF \".deps/CoinWarmStartDual.Tpo\" -c -o CoinWarmStartDual.lo CoinWarmStartDual.cpp; \\\n",
      "then mv -f \".deps/CoinWarmStartDual.Tpo\" \".deps/CoinWarmStartDual.Plo\"; else rm -f \".deps/CoinWarmStartDual.Tpo\"; exit 1; fi\n",
      " g++ -DHAVE_CONFIG_H -I. -I. -O3 -pipe -DNDEBUG -pedantic-errors -Wparentheses -Wreturn-type -Wcast-qual -Wall -Wpointer-arith -Wwrite-strings -Wconversion -Wno-unknown-pragmas -Wno-long-long -DCOINUTILS_BUILD -MT CoinWarmStartDual.lo -MD -MP -MF .deps/CoinWarmStartDual.Tpo -c CoinWarmStartDual.cpp  -fPIC -DPIC -o .libs/CoinWarmStartDual.o\n",
      "if /bin/bash ../../libtool --tag=CXX --mode=compile g++ -DHAVE_CONFIG_H -I. -I`echo .`     -O3 -pipe -DNDEBUG -pedantic-errors -Wparentheses -Wreturn-type -Wcast-qual -Wall -Wpointer-arith -Wwrite-strings -Wconversion -Wno-unknown-pragmas -Wno-long-long   -DCOINUTILS_BUILD -MT CoinWarmStartPrimalDual.lo -MD -MP -MF \".deps/CoinWarmStartPrimalDual.Tpo\" -c -o CoinWarmStartPrimalDual.lo CoinWarmStartPrimalDual.cpp; \\\n",
      "then mv -f \".deps/CoinWarmStartPrimalDual.Tpo\" \".deps/CoinWarmStartPrimalDual.Plo\"; else rm -f \".deps/CoinWarmStartPrimalDual.Tpo\"; exit 1; fi\n",
      " g++ -DHAVE_CONFIG_H -I. -I. -O3 -pipe -DNDEBUG -pedantic-errors -Wparentheses -Wreturn-type -Wcast-qual -Wall -Wpointer-arith -Wwrite-strings -Wconversion -Wno-unknown-pragmas -Wno-long-long -DCOINUTILS_BUILD -MT CoinWarmStartPrimalDual.lo -MD -MP -MF .deps/CoinWarmStartPrimalDual.Tpo -c CoinWarmStartPrimalDual.cpp  -fPIC -DPIC -o .libs/CoinWarmStartPrimalDual.o\n",
      "/bin/bash ../../libtool --tag=CXX --mode=link g++  -O3 -pipe -DNDEBUG -pedantic-errors -Wparentheses -Wreturn-type -Wcast-qual -Wall -Wpointer-arith -Wwrite-strings -Wconversion -Wno-unknown-pragmas -Wno-long-long   -DCOINUTILS_BUILD   -o libCoinUtils.la -rpath /home/pedro/.julia/v0.5/Cbc/deps/usr/lib -no-undefined -version-info 13:13:10 CoinAlloc.lo CoinBuild.lo CoinDenseVector.lo CoinError.lo CoinFactorization1.lo CoinFactorization2.lo CoinFactorization3.lo CoinFactorization4.lo CoinSimpFactorization.lo CoinDenseFactorization.lo CoinOslFactorization.lo CoinOslFactorization2.lo CoinOslFactorization3.lo CoinFileIO.lo CoinFinite.lo CoinIndexedVector.lo CoinLpIO.lo CoinMessage.lo CoinMessageHandler.lo CoinModel.lo CoinStructuredModel.lo CoinModelUseful.lo CoinModelUseful2.lo CoinMpsIO.lo CoinPackedMatrix.lo CoinPackedVector.lo CoinPackedVectorBase.lo CoinParam.lo CoinParamUtils.lo CoinPostsolveMatrix.lo CoinPrePostsolveMatrix.lo CoinPresolveDoubleton.lo CoinPresolveDual.lo CoinPresolveDupcol.lo CoinPresolveEmpty.lo CoinPresolveFixed.lo CoinPresolveForcing.lo CoinPresolveHelperFunctions.lo CoinPresolveImpliedFree.lo CoinPresolveIsolated.lo CoinPresolveMatrix.lo CoinPresolvePsdebug.lo CoinPresolveMonitor.lo CoinPresolveSingleton.lo CoinPresolveSubst.lo CoinPresolveTighten.lo CoinPresolveTripleton.lo CoinPresolveUseless.lo CoinPresolveZeros.lo CoinRational.lo CoinSearchTree.lo CoinShallowPackedVector.lo CoinSnapshot.lo CoinWarmStartBasis.lo CoinWarmStartVector.lo CoinWarmStartDual.lo CoinWarmStartPrimalDual.lo -lm  \n",
      "g++ -shared -nostdlib /usr/lib/gcc/x86_64-linux-gnu/5/../../../x86_64-linux-gnu/crti.o /usr/lib/gcc/x86_64-linux-gnu/5/crtbeginS.o  .libs/CoinAlloc.o .libs/CoinBuild.o .libs/CoinDenseVector.o .libs/CoinError.o .libs/CoinFactorization1.o .libs/CoinFactorization2.o .libs/CoinFactorization3.o .libs/CoinFactorization4.o .libs/CoinSimpFactorization.o .libs/CoinDenseFactorization.o .libs/CoinOslFactorization.o .libs/CoinOslFactorization2.o .libs/CoinOslFactorization3.o .libs/CoinFileIO.o .libs/CoinFinite.o .libs/CoinIndexedVector.o .libs/CoinLpIO.o .libs/CoinMessage.o .libs/CoinMessageHandler.o .libs/CoinModel.o .libs/CoinStructuredModel.o .libs/CoinModelUseful.o .libs/CoinModelUseful2.o .libs/CoinMpsIO.o .libs/CoinPackedMatrix.o .libs/CoinPackedVector.o .libs/CoinPackedVectorBase.o .libs/CoinParam.o .libs/CoinParamUtils.o .libs/CoinPostsolveMatrix.o .libs/CoinPrePostsolveMatrix.o .libs/CoinPresolveDoubleton.o .libs/CoinPresolveDual.o .libs/CoinPresolveDupcol.o .libs/CoinPresolveEmpty.o .libs/CoinPresolveFixed.o .libs/CoinPresolveForcing.o .libs/CoinPresolveHelperFunctions.o .libs/CoinPresolveImpliedFree.o .libs/CoinPresolveIsolated.o .libs/CoinPresolveMatrix.o .libs/CoinPresolvePsdebug.o .libs/CoinPresolveMonitor.o .libs/CoinPresolveSingleton.o .libs/CoinPresolveSubst.o .libs/CoinPresolveTighten.o .libs/CoinPresolveTripleton.o .libs/CoinPresolveUseless.o .libs/CoinPresolveZeros.o .libs/CoinRational.o .libs/CoinSearchTree.o .libs/CoinShallowPackedVector.o .libs/CoinSnapshot.o .libs/CoinWarmStartBasis.o .libs/CoinWarmStartVector.o .libs/CoinWarmStartDual.o .libs/CoinWarmStartPrimalDual.o  -L/usr/lib/gcc/x86_64-linux-gnu/5 -L/usr/lib/gcc/x86_64-linux-gnu/5/../../../x86_64-linux-gnu -L/usr/lib/gcc/x86_64-linux-gnu/5/../../../../lib -L/lib/x86_64-linux-gnu -L/lib/../lib -L/usr/lib/x86_64-linux-gnu -L/usr/lib/../lib -L/usr/lib/gcc/x86_64-linux-gnu/5/../../.. -lstdc++ -lm -lc -lgcc_s /usr/lib/gcc/x86_64-linux-gnu/5/crtendS.o /usr/lib/gcc/x86_64-linux-gnu/5/../../../x86_64-linux-gnu/crtn.o  -Wl,-soname -Wl,libCoinUtils.so.3 -o .libs/libCoinUtils.so.3.10.13\n",
      "(cd .libs && rm -f libCoinUtils.so.3 && ln -s libCoinUtils.so.3.10.13 libCoinUtils.so.3)\n",
      "(cd .libs && rm -f libCoinUtils.so && ln -s libCoinUtils.so.3.10.13 libCoinUtils.so)\n",
      "creating libCoinUtils.la\n",
      "(cd .libs && rm -f libCoinUtils.la && ln -s ../libCoinUtils.la libCoinUtils.la)\n",
      "make[3]: Entering directory '/home/pedro/.julia/v0.5/Cbc/deps/src/Cbc-2.9.8/CoinUtils/src'\n",
      "/home/pedro/.julia/v0.5/Cbc/deps/src/Cbc-2.9.8/CoinUtils/install-sh -c -m 644 config_coinutils.h /home/pedro/.julia/v0.5/Cbc/deps/usr/include/coin/CoinUtilsConfig.h\n",
      "test -z \"/home/pedro/.julia/v0.5/Cbc/deps/usr/lib\" || mkdir -p -- \"/home/pedro/.julia/v0.5/Cbc/deps/usr/lib\"\n",
      " /bin/bash ../../libtool --mode=install /usr/bin/install -c  'libCoinUtils.la' '/home/pedro/.julia/v0.5/Cbc/deps/usr/lib/libCoinUtils.la'\n",
      "/usr/bin/install -c .libs/libCoinUtils.so.3.10.13 /home/pedro/.julia/v0.5/Cbc/deps/usr/lib/libCoinUtils.so.3.10.13\n",
      "(cd /home/pedro/.julia/v0.5/Cbc/deps/usr/lib && { ln -s -f libCoinUtils.so.3.10.13 libCoinUtils.so.3 || { rm -f libCoinUtils.so.3 && ln -s libCoinUtils.so.3.10.13 libCoinUtils.so.3; }; })\n",
      "(cd /home/pedro/.julia/v0.5/Cbc/deps/usr/lib && { ln -s -f libCoinUtils.so.3.10.13 libCoinUtils.so || { rm -f libCoinUtils.so && ln -s libCoinUtils.so.3.10.13 libCoinUtils.so; }; })\n",
      "/usr/bin/install -c .libs/libCoinUtils.lai /home/pedro/.julia/v0.5/Cbc/deps/usr/lib/libCoinUtils.la\n",
      "PATH=\"$PATH:/sbin\" ldconfig -n /home/pedro/.julia/v0.5/Cbc/deps/usr/lib\n",
      "----------------------------------------------------------------------\n",
      "Libraries have been installed in:\n",
      "   /home/pedro/.julia/v0.5/Cbc/deps/usr/lib\n",
      "\n",
      "If you ever happen to want to link against installed libraries\n",
      "in a given directory, LIBDIR, you must either use libtool, and\n",
      "specify the full pathname of the library, or use the `-LLIBDIR'\n",
      "flag during linking and do at least one of the following:\n",
      "   - add LIBDIR to the `LD_LIBRARY_PATH' environment variable\n",
      "     during execution\n",
      "   - add LIBDIR to the `LD_RUN_PATH' environment variable\n",
      "     during linking\n",
      "   - use the `-Wl,--rpath -Wl,LIBDIR' linker flag\n",
      "   - have your system administrator add LIBDIR to `/etc/ld.so.conf'\n",
      "\n",
      "See any operating system documentation about shared libraries for\n",
      "more information, such as the ld(1) and ld.so(8) manual pages.\n",
      "----------------------------------------------------------------------\n",
      "test -z \"/home/pedro/.julia/v0.5/Cbc/deps/usr/include/coin\" || mkdir -p -- \"/home/pedro/.julia/v0.5/Cbc/deps/usr/include/coin\"\n",
      " /usr/bin/install -c -m 644 'Coin_C_defines.h' '/home/pedro/.julia/v0.5/Cbc/deps/usr/include/coin/Coin_C_defines.h'\n",
      " /usr/bin/install -c -m 644 'CoinAlloc.hpp' '/home/pedro/.julia/v0.5/Cbc/deps/usr/include/coin/CoinAlloc.hpp'\n",
      " /usr/bin/install -c -m 644 'CoinBuild.hpp' '/home/pedro/.julia/v0.5/Cbc/deps/usr/include/coin/CoinBuild.hpp'\n",
      " /usr/bin/install -c -m 644 'CoinDenseVector.hpp' '/home/pedro/.julia/v0.5/Cbc/deps/usr/include/coin/CoinDenseVector.hpp'\n",
      " /usr/bin/install -c -m 644 'CoinDistance.hpp' '/home/pedro/.julia/v0.5/Cbc/deps/usr/include/coin/CoinDistance.hpp'\n",
      " /usr/bin/install -c -m 644 'CoinError.hpp' '/home/pedro/.julia/v0.5/Cbc/deps/usr/include/coin/CoinError.hpp'\n",
      " /usr/bin/install -c -m 644 'CoinFactorization.hpp' '/home/pedro/.julia/v0.5/Cbc/deps/usr/include/coin/CoinFactorization.hpp'\n",
      " /usr/bin/install -c -m 644 'CoinSimpFactorization.hpp' '/home/pedro/.julia/v0.5/Cbc/deps/usr/include/coin/CoinSimpFactorization.hpp'\n",
      " /usr/bin/install -c -m 644 'CoinDenseFactorization.hpp' '/home/pedro/.julia/v0.5/Cbc/deps/usr/include/coin/CoinDenseFactorization.hpp'\n",
      " /usr/bin/install -c -m 644 'CoinOslFactorization.hpp' '/home/pedro/.julia/v0.5/Cbc/deps/usr/include/coin/CoinOslFactorization.hpp'\n",
      " /usr/bin/install -c -m 644 'CoinFileIO.hpp' '/home/pedro/.julia/v0.5/Cbc/deps/usr/include/coin/CoinFileIO.hpp'\n",
      " /usr/bin/install -c -m 644 'CoinFinite.hpp' '/home/pedro/.julia/v0.5/Cbc/deps/usr/include/coin/CoinFinite.hpp'\n",
      " /usr/bin/install -c -m 644 'CoinFloatEqual.hpp' '/home/pedro/.julia/v0.5/Cbc/deps/usr/include/coin/CoinFloatEqual.hpp'\n",
      " /usr/bin/install -c -m 644 'CoinHelperFunctions.hpp' '/home/pedro/.julia/v0.5/Cbc/deps/usr/include/coin/CoinHelperFunctions.hpp'\n",
      " /usr/bin/install -c -m 644 'CoinIndexedVector.hpp' '/home/pedro/.julia/v0.5/Cbc/deps/usr/include/coin/CoinIndexedVector.hpp'\n",
      " /usr/bin/install -c -m 644 'CoinLpIO.hpp' '/home/pedro/.julia/v0.5/Cbc/deps/usr/include/coin/CoinLpIO.hpp'\n",
      " /usr/bin/install -c -m 644 'CoinMessage.hpp' '/home/pedro/.julia/v0.5/Cbc/deps/usr/include/coin/CoinMessage.hpp'\n",
      " /usr/bin/install -c -m 644 'CoinMessageHandler.hpp' '/home/pedro/.julia/v0.5/Cbc/deps/usr/include/coin/CoinMessageHandler.hpp'\n",
      " /usr/bin/install -c -m 644 'CoinModel.hpp' '/home/pedro/.julia/v0.5/Cbc/deps/usr/include/coin/CoinModel.hpp'\n",
      " /usr/bin/install -c -m 644 'CoinStructuredModel.hpp' '/home/pedro/.julia/v0.5/Cbc/deps/usr/include/coin/CoinStructuredModel.hpp'\n",
      " /usr/bin/install -c -m 644 'CoinModelUseful.hpp' '/home/pedro/.julia/v0.5/Cbc/deps/usr/include/coin/CoinModelUseful.hpp'\n",
      " /usr/bin/install -c -m 644 'CoinMpsIO.hpp' '/home/pedro/.julia/v0.5/Cbc/deps/usr/include/coin/CoinMpsIO.hpp'\n",
      " /usr/bin/install -c -m 644 'CoinPackedMatrix.hpp' '/home/pedro/.julia/v0.5/Cbc/deps/usr/include/coin/CoinPackedMatrix.hpp'\n",
      " /usr/bin/install -c -m 644 'CoinPackedVector.hpp' '/home/pedro/.julia/v0.5/Cbc/deps/usr/include/coin/CoinPackedVector.hpp'\n",
      " /usr/bin/install -c -m 644 'CoinPackedVectorBase.hpp' '/home/pedro/.julia/v0.5/Cbc/deps/usr/include/coin/CoinPackedVectorBase.hpp'\n",
      " /usr/bin/install -c -m 644 'CoinParam.hpp' '/home/pedro/.julia/v0.5/Cbc/deps/usr/include/coin/CoinParam.hpp'\n",
      " /usr/bin/install -c -m 644 'CoinPragma.hpp' '/home/pedro/.julia/v0.5/Cbc/deps/usr/include/coin/CoinPragma.hpp'\n",
      " /usr/bin/install -c -m 644 'CoinPresolveDoubleton.hpp' '/home/pedro/.julia/v0.5/Cbc/deps/usr/include/coin/CoinPresolveDoubleton.hpp'\n",
      " /usr/bin/install -c -m 644 'CoinPresolveDual.hpp' '/home/pedro/.julia/v0.5/Cbc/deps/usr/include/coin/CoinPresolveDual.hpp'\n",
      " /usr/bin/install -c -m 644 'CoinPresolveDupcol.hpp' '/home/pedro/.julia/v0.5/Cbc/deps/usr/include/coin/CoinPresolveDupcol.hpp'\n",
      " /usr/bin/install -c -m 644 'CoinPresolveEmpty.hpp' '/home/pedro/.julia/v0.5/Cbc/deps/usr/include/coin/CoinPresolveEmpty.hpp'\n",
      " /usr/bin/install -c -m 644 'CoinPresolveFixed.hpp' '/home/pedro/.julia/v0.5/Cbc/deps/usr/include/coin/CoinPresolveFixed.hpp'\n",
      " /usr/bin/install -c -m 644 'CoinPresolveForcing.hpp' '/home/pedro/.julia/v0.5/Cbc/deps/usr/include/coin/CoinPresolveForcing.hpp'\n",
      " /usr/bin/install -c -m 644 'CoinPresolveImpliedFree.hpp' '/home/pedro/.julia/v0.5/Cbc/deps/usr/include/coin/CoinPresolveImpliedFree.hpp'\n",
      " /usr/bin/install -c -m 644 'CoinPresolveIsolated.hpp' '/home/pedro/.julia/v0.5/Cbc/deps/usr/include/coin/CoinPresolveIsolated.hpp'\n",
      " /usr/bin/install -c -m 644 'CoinPresolveMatrix.hpp' '/home/pedro/.julia/v0.5/Cbc/deps/usr/include/coin/CoinPresolveMatrix.hpp'\n",
      " /usr/bin/install -c -m 644 'CoinPresolveMonitor.hpp' '/home/pedro/.julia/v0.5/Cbc/deps/usr/include/coin/CoinPresolveMonitor.hpp'\n",
      " /usr/bin/install -c -m 644 'CoinPresolvePsdebug.hpp' '/home/pedro/.julia/v0.5/Cbc/deps/usr/include/coin/CoinPresolvePsdebug.hpp'\n",
      " /usr/bin/install -c -m 644 'CoinPresolveSingleton.hpp' '/home/pedro/.julia/v0.5/Cbc/deps/usr/include/coin/CoinPresolveSingleton.hpp'\n",
      " /usr/bin/install -c -m 644 'CoinPresolveSubst.hpp' '/home/pedro/.julia/v0.5/Cbc/deps/usr/include/coin/CoinPresolveSubst.hpp'\n",
      " /usr/bin/install -c -m 644 'CoinPresolveTighten.hpp' '/home/pedro/.julia/v0.5/Cbc/deps/usr/include/coin/CoinPresolveTighten.hpp'\n",
      " /usr/bin/install -c -m 644 'CoinPresolveTripleton.hpp' '/home/pedro/.julia/v0.5/Cbc/deps/usr/include/coin/CoinPresolveTripleton.hpp'\n",
      " /usr/bin/install -c -m 644 'CoinPresolveUseless.hpp' '/home/pedro/.julia/v0.5/Cbc/deps/usr/include/coin/CoinPresolveUseless.hpp'\n",
      " /usr/bin/install -c -m 644 'CoinPresolveZeros.hpp' '/home/pedro/.julia/v0.5/Cbc/deps/usr/include/coin/CoinPresolveZeros.hpp'\n",
      " /usr/bin/install -c -m 644 'CoinRational.hpp' '/home/pedro/.julia/v0.5/Cbc/deps/usr/include/coin/CoinRational.hpp'\n",
      " /usr/bin/install -c -m 644 'CoinSearchTree.hpp' '/home/pedro/.julia/v0.5/Cbc/deps/usr/include/coin/CoinSearchTree.hpp'\n",
      " /usr/bin/install -c -m 644 'CoinShallowPackedVector.hpp' '/home/pedro/.julia/v0.5/Cbc/deps/usr/include/coin/CoinShallowPackedVector.hpp'\n",
      " /usr/bin/install -c -m 644 'CoinSignal.hpp' '/home/pedro/.julia/v0.5/Cbc/deps/usr/include/coin/CoinSignal.hpp'\n",
      " /usr/bin/install -c -m 644 'CoinSmartPtr.hpp' '/home/pedro/.julia/v0.5/Cbc/deps/usr/include/coin/CoinSmartPtr.hpp'\n",
      " /usr/bin/install -c -m 644 'CoinSnapshot.hpp' '/home/pedro/.julia/v0.5/Cbc/deps/usr/include/coin/CoinSnapshot.hpp'\n",
      " /usr/bin/install -c -m 644 'CoinSort.hpp' '/home/pedro/.julia/v0.5/Cbc/deps/usr/include/coin/CoinSort.hpp'\n",
      " /usr/bin/install -c -m 644 'CoinTime.hpp' '/home/pedro/.julia/v0.5/Cbc/deps/usr/include/coin/CoinTime.hpp'\n",
      " /usr/bin/install -c -m 644 'CoinTypes.hpp' '/home/pedro/.julia/v0.5/Cbc/deps/usr/include/coin/CoinTypes.hpp'\n",
      " /usr/bin/install -c -m 644 'CoinUtility.hpp' '/home/pedro/.julia/v0.5/Cbc/deps/usr/include/coin/CoinUtility.hpp'\n",
      " /usr/bin/install -c -m 644 'CoinWarmStart.hpp' '/home/pedro/.julia/v0.5/Cbc/deps/usr/include/coin/CoinWarmStart.hpp'\n",
      " /usr/bin/install -c -m 644 'CoinWarmStartBasis.hpp' '/home/pedro/.julia/v0.5/Cbc/deps/usr/include/coin/CoinWarmStartBasis.hpp'\n",
      " /usr/bin/install -c -m 644 'CoinWarmStartVector.hpp' '/home/pedro/.julia/v0.5/Cbc/deps/usr/include/coin/CoinWarmStartVector.hpp'\n",
      " /usr/bin/install -c -m 644 'CoinWarmStartDual.hpp' '/home/pedro/.julia/v0.5/Cbc/deps/usr/include/coin/CoinWarmStartDual.hpp'\n",
      " /usr/bin/install -c -m 644 'CoinWarmStartPrimalDual.hpp' '/home/pedro/.julia/v0.5/Cbc/deps/usr/include/coin/CoinWarmStartPrimalDual.hpp'\n",
      "make[3]: Leaving directory '/home/pedro/.julia/v0.5/Cbc/deps/src/Cbc-2.9.8/CoinUtils/src'\n",
      "make[2]: Leaving directory '/home/pedro/.julia/v0.5/Cbc/deps/src/Cbc-2.9.8/CoinUtils/src'\n",
      "make[2]: Entering directory '/home/pedro/.julia/v0.5/Cbc/deps/src/Cbc-2.9.8/CoinUtils'\n",
      "make[3]: Entering directory '/home/pedro/.julia/v0.5/Cbc/deps/src/Cbc-2.9.8/CoinUtils'\n",
      "test -z \"/home/pedro/.julia/v0.5/Cbc/deps/usr/share/coin/doc/CoinUtils\" || mkdir -p -- \"/home/pedro/.julia/v0.5/Cbc/deps/usr/share/coin/doc/CoinUtils\"\n",
      "for file in README AUTHORS LICENSE ; do \\\n",
      "  if test -f \"$file\"; then dir=; else dir=\"./\"; fi; \\\n",
      "  if test -f \"$dir$file\"; then /usr/bin/install -c -m 644 \"$dir$file\" \"/home/pedro/.julia/v0.5/Cbc/deps/usr/share/coin/doc/CoinUtils/$file\"; fi; \\\n",
      "done \n",
      "test -z \"/home/pedro/.julia/v0.5/Cbc/deps/usr/lib/pkgconfig\" || mkdir -p -- \"/home/pedro/.julia/v0.5/Cbc/deps/usr/lib/pkgconfig\"\n",
      " /usr/bin/install -c -m 644 'coinutils.pc' '/home/pedro/.julia/v0.5/Cbc/deps/usr/lib/pkgconfig/coinutils.pc'\n",
      "make  install-data-hook\n",
      "make[4]: Entering directory '/home/pedro/.julia/v0.5/Cbc/deps/src/Cbc-2.9.8/CoinUtils'\n",
      "PKG_CONFIG_PATH=/home/pedro/.julia/v0.5/Cbc/deps/usr/lib64/pkgconfig:/home/pedro/.julia/v0.5/Cbc/deps/usr/lib/pkgconfig:/home/pedro/.julia/v0.5/Cbc/deps/usr/share/pkgconfig::/home/pedro/.julia/v0.5/Cbc/deps/usr/lib/pkgconfig \\\n",
      "\"pkg-config\" --libs coinutils > /home/pedro/.julia/v0.5/Cbc/deps/usr/share/coin/doc/CoinUtils/coinutils_addlibs.txt\n",
      "make[4]: Leaving directory '/home/pedro/.julia/v0.5/Cbc/deps/src/Cbc-2.9.8/CoinUtils'\n",
      "make[3]: Leaving directory '/home/pedro/.julia/v0.5/Cbc/deps/src/Cbc-2.9.8/CoinUtils'\n",
      "make[2]: Leaving directory '/home/pedro/.julia/v0.5/Cbc/deps/src/Cbc-2.9.8/CoinUtils'\n",
      "make[1]: Leaving directory '/home/pedro/.julia/v0.5/Cbc/deps/src/Cbc-2.9.8/CoinUtils'\n",
      "Making install in Osi\n",
      "make[1]: Entering directory '/home/pedro/.julia/v0.5/Cbc/deps/src/Cbc-2.9.8/Osi'\n",
      "Making install in src/Osi\n",
      "make[2]: Entering directory '/home/pedro/.julia/v0.5/Cbc/deps/src/Cbc-2.9.8/Osi/src/Osi'\n",
      "if /bin/bash ../../../libtool --tag=CXX --mode=compile g++ -DHAVE_CONFIG_H -I. -I`echo .`  -I/home/pedro/.julia/v0.5/Cbc/deps/src/Cbc-2.9.8/CoinUtils/src   -O3 -pipe -DNDEBUG -pedantic-errors -Wparentheses -Wreturn-type -Wcast-qual -Wall -Wpointer-arith -Wwrite-strings -Wconversion -Wno-unknown-pragmas -Wno-long-long   -DOSI_BUILD -MT OsiAuxInfo.lo -MD -MP -MF \".deps/OsiAuxInfo.Tpo\" -c -o OsiAuxInfo.lo OsiAuxInfo.cpp; \\\n",
      "then mv -f \".deps/OsiAuxInfo.Tpo\" \".deps/OsiAuxInfo.Plo\"; else rm -f \".deps/OsiAuxInfo.Tpo\"; exit 1; fi\n",
      "mkdir .libs\n",
      " g++ -DHAVE_CONFIG_H -I. -I. -I/home/pedro/.julia/v0.5/Cbc/deps/src/Cbc-2.9.8/CoinUtils/src -O3 -pipe -DNDEBUG -pedantic-errors -Wparentheses -Wreturn-type -Wcast-qual -Wall -Wpointer-arith -Wwrite-strings -Wconversion -Wno-unknown-pragmas -Wno-long-long -DOSI_BUILD -MT OsiAuxInfo.lo -MD -MP -MF .deps/OsiAuxInfo.Tpo -c OsiAuxInfo.cpp  -fPIC -DPIC -o .libs/OsiAuxInfo.o\n",
      "if /bin/bash ../../../libtool --tag=CXX --mode=compile g++ -DHAVE_CONFIG_H -I. -I`echo .`  -I/home/pedro/.julia/v0.5/Cbc/deps/src/Cbc-2.9.8/CoinUtils/src   -O3 -pipe -DNDEBUG -pedantic-errors -Wparentheses -Wreturn-type -Wcast-qual -Wall -Wpointer-arith -Wwrite-strings -Wconversion -Wno-unknown-pragmas -Wno-long-long   -DOSI_BUILD -MT OsiBranchingObject.lo -MD -MP -MF \".deps/OsiBranchingObject.Tpo\" -c -o OsiBranchingObject.lo OsiBranchingObject.cpp; \\\n",
      "then mv -f \".deps/OsiBranchingObject.Tpo\" \".deps/OsiBranchingObject.Plo\"; else rm -f \".deps/OsiBranchingObject.Tpo\"; exit 1; fi\n"
     ]
    },
    {
     "name": "stderr",
     "output_type": "stream",
     "text": [
      "In file included from OsiSolverInterface.hpp:17:0,\n",
      "                 from OsiAuxInfo.cpp:12:\n",
      "/home/pedro/.julia/v0.5/Cbc/deps/src/Cbc-2.9.8/CoinUtils/src/CoinFinite.hpp:17:14: warning: ‘COIN_DBL_MIN’ defined but not used [-Wunused-variable]\n",
      " const double COIN_DBL_MIN = (std::numeric_limits<double>::min)();\n",
      "              ^\n",
      "/home/pedro/.julia/v0.5/Cbc/deps/src/Cbc-2.9.8/CoinUtils/src/CoinFinite.hpp:18:14: warning: ‘COIN_DBL_MAX’ defined but not used [-Wunused-variable]\n",
      " const double COIN_DBL_MAX = (std::numeric_limits<double>::max)();\n",
      "              ^\n",
      "/home/pedro/.julia/v0.5/Cbc/deps/src/Cbc-2.9.8/CoinUtils/src/CoinFinite.hpp:19:14: warning: ‘COIN_INT_MAX’ defined but not used [-Wunused-variable]\n",
      " const int    COIN_INT_MAX = (std::numeric_limits<int>::max)();\n",
      "              ^\n",
      "/home/pedro/.julia/v0.5/Cbc/deps/src/Cbc-2.9.8/CoinUtils/src/CoinFinite.hpp:20:14: warning: ‘COIN_INT_MAX_AS_DOUBLE’ defined but not used [-Wunused-variable]\n",
      " const double COIN_INT_MAX_AS_DOUBLE = (std::numeric_limits<int>::max)();\n",
      "              ^\n"
     ]
    },
    {
     "name": "stdout",
     "output_type": "stream",
     "text": [
      " g++ -DHAVE_CONFIG_H -I. -I. -I/home/pedro/.julia/v0.5/Cbc/deps/src/Cbc-2.9.8/CoinUtils/src -O3 -pipe -DNDEBUG -pedantic-errors -Wparentheses -Wreturn-type -Wcast-qual -Wall -Wpointer-arith -Wwrite-strings -Wconversion -Wno-unknown-pragmas -Wno-long-long -DOSI_BUILD -MT OsiBranchingObject.lo -MD -MP -MF .deps/OsiBranchingObject.Tpo -c OsiBranchingObject.cpp  -fPIC -DPIC -o .libs/OsiBranchingObject.o\n",
      "if /bin/bash ../../../libtool --tag=CXX --mode=compile g++ -DHAVE_CONFIG_H -I. -I`echo .`  -I/home/pedro/.julia/v0.5/Cbc/deps/src/Cbc-2.9.8/CoinUtils/src   -O3 -pipe -DNDEBUG -pedantic-errors -Wparentheses -Wreturn-type -Wcast-qual -Wall -Wpointer-arith -Wwrite-strings -Wconversion -Wno-unknown-pragmas -Wno-long-long   -DOSI_BUILD -MT OsiChooseVariable.lo -MD -MP -MF \".deps/OsiChooseVariable.Tpo\" -c -o OsiChooseVariable.lo OsiChooseVariable.cpp; \\\n",
      "then mv -f \".deps/OsiChooseVariable.Tpo\" \".deps/OsiChooseVariable.Plo\"; else rm -f \".deps/OsiChooseVariable.Tpo\"; exit 1; fi\n"
     ]
    },
    {
     "name": "stderr",
     "output_type": "stream",
     "text": [
      "In file included from OsiSolverInterface.hpp:17:0,\n",
      "                 from OsiBranchingObject.cpp:14:\n",
      "/home/pedro/.julia/v0.5/Cbc/deps/src/Cbc-2.9.8/CoinUtils/src/CoinFinite.hpp:17:14: warning: ‘COIN_DBL_MIN’ defined but not used [-Wunused-variable]\n",
      " const double COIN_DBL_MIN = (std::numeric_limits<double>::min)();\n",
      "              ^\n",
      "/home/pedro/.julia/v0.5/Cbc/deps/src/Cbc-2.9.8/CoinUtils/src/CoinFinite.hpp:19:14: warning: ‘COIN_INT_MAX’ defined but not used [-Wunused-variable]\n",
      " const int    COIN_INT_MAX = (std::numeric_limits<int>::max)();\n",
      "              ^\n",
      "/home/pedro/.julia/v0.5/Cbc/deps/src/Cbc-2.9.8/CoinUtils/src/CoinFinite.hpp:20:14: warning: ‘COIN_INT_MAX_AS_DOUBLE’ defined but not used [-Wunused-variable]\n",
      " const double COIN_INT_MAX_AS_DOUBLE = (std::numeric_limits<int>::max)();\n",
      "              ^\n"
     ]
    },
    {
     "name": "stdout",
     "output_type": "stream",
     "text": [
      " g++ -DHAVE_CONFIG_H -I. -I. -I/home/pedro/.julia/v0.5/Cbc/deps/src/Cbc-2.9.8/CoinUtils/src -O3 -pipe -DNDEBUG -pedantic-errors -Wparentheses -Wreturn-type -Wcast-qual -Wall -Wpointer-arith -Wwrite-strings -Wconversion -Wno-unknown-pragmas -Wno-long-long -DOSI_BUILD -MT OsiChooseVariable.lo -MD -MP -MF .deps/OsiChooseVariable.Tpo -c OsiChooseVariable.cpp  -fPIC -DPIC -o .libs/OsiChooseVariable.o\n"
     ]
    },
    {
     "name": "stderr",
     "output_type": "stream",
     "text": [
      "In file included from OsiSolverInterface.hpp:17:0,\n",
      "                 from OsiChooseVariable.cpp:10:\n",
      "/home/pedro/.julia/v0.5/Cbc/deps/src/Cbc-2.9.8/CoinUtils/src/CoinFinite.hpp:17:14: warning: ‘COIN_DBL_MIN’ defined but not used [-Wunused-variable]\n",
      " const double COIN_DBL_MIN = (std::numeric_limits<double>::min)();\n",
      "              ^\n",
      "/home/pedro/.julia/v0.5/Cbc/deps/src/Cbc-2.9.8/CoinUtils/src/CoinFinite.hpp:20:14: warning: ‘COIN_INT_MAX_AS_DOUBLE’ defined but not used [-Wunused-variable]\n",
      " const double COIN_INT_MAX_AS_DOUBLE = (std::numeric_limits<int>::max)();\n",
      "              ^\n"
     ]
    },
    {
     "name": "stdout",
     "output_type": "stream",
     "text": [
      "if /bin/bash ../../../libtool --tag=CXX --mode=compile g++ -DHAVE_CONFIG_H -I. -I`echo .`  -I/home/pedro/.julia/v0.5/Cbc/deps/src/Cbc-2.9.8/CoinUtils/src   -O3 -pipe -DNDEBUG -pedantic-errors -Wparentheses -Wreturn-type -Wcast-qual -Wall -Wpointer-arith -Wwrite-strings -Wconversion -Wno-unknown-pragmas -Wno-long-long   -DOSI_BUILD -MT OsiColCut.lo -MD -MP -MF \".deps/OsiColCut.Tpo\" -c -o OsiColCut.lo OsiColCut.cpp; \\\n",
      "then mv -f \".deps/OsiColCut.Tpo\" \".deps/OsiColCut.Plo\"; else rm -f \".deps/OsiColCut.Tpo\"; exit 1; fi\n",
      " g++ -DHAVE_CONFIG_H -I. -I. -I/home/pedro/.julia/v0.5/Cbc/deps/src/Cbc-2.9.8/CoinUtils/src -O3 -pipe -DNDEBUG -pedantic-errors -Wparentheses -Wreturn-type -Wcast-qual -Wall -Wpointer-arith -Wwrite-strings -Wconversion -Wno-unknown-pragmas -Wno-long-long -DOSI_BUILD -MT OsiColCut.lo -MD -MP -MF .deps/OsiColCut.Tpo -c OsiColCut.cpp  -fPIC -DPIC -o .libs/OsiColCut.o\n",
      "if /bin/bash ../../../libtool --tag=CXX --mode=compile g++ -DHAVE_CONFIG_H -I. -I`echo .`  -I/home/pedro/.julia/v0.5/Cbc/deps/src/Cbc-2.9.8/CoinUtils/src   -O3 -pipe -DNDEBUG -pedantic-errors -Wparentheses -Wreturn-type -Wcast-qual -Wall -Wpointer-arith -Wwrite-strings -Wconversion -Wno-unknown-pragmas -Wno-long-long   -DOSI_BUILD -MT OsiCut.lo -MD -MP -MF \".deps/OsiCut.Tpo\" -c -o OsiCut.lo OsiCut.cpp; \\\n",
      "then mv -f \".deps/OsiCut.Tpo\" \".deps/OsiCut.Plo\"; else rm -f \".deps/OsiCut.Tpo\"; exit 1; fi\n"
     ]
    },
    {
     "name": "stderr",
     "output_type": "stream",
     "text": [
      "In file included from OsiSolverInterface.hpp:17:0,\n",
      "                 from OsiCut.hpp:9,\n",
      "                 from OsiColCut.hpp:13,\n",
      "                 from OsiColCut.cpp:10:\n",
      "/home/pedro/.julia/v0.5/Cbc/deps/src/Cbc-2.9.8/CoinUtils/src/CoinFinite.hpp:17:14: warning: ‘COIN_DBL_MIN’ defined but not used [-Wunused-variable]\n",
      " const double COIN_DBL_MIN = (std::numeric_limits<double>::min)();\n",
      "              ^\n",
      "/home/pedro/.julia/v0.5/Cbc/deps/src/Cbc-2.9.8/CoinUtils/src/CoinFinite.hpp:18:14: warning: ‘COIN_DBL_MAX’ defined but not used [-Wunused-variable]\n",
      " const double COIN_DBL_MAX = (std::numeric_limits<double>::max)();\n",
      "              ^\n",
      "/home/pedro/.julia/v0.5/Cbc/deps/src/Cbc-2.9.8/CoinUtils/src/CoinFinite.hpp:19:14: warning: ‘COIN_INT_MAX’ defined but not used [-Wunused-variable]\n",
      " const int    COIN_INT_MAX = (std::numeric_limits<int>::max)();\n",
      "              ^\n",
      "/home/pedro/.julia/v0.5/Cbc/deps/src/Cbc-2.9.8/CoinUtils/src/CoinFinite.hpp:20:14: warning: ‘COIN_INT_MAX_AS_DOUBLE’ defined but not used [-Wunused-variable]\n",
      " const double COIN_INT_MAX_AS_DOUBLE = (std::numeric_limits<int>::max)();\n",
      "              ^\n"
     ]
    },
    {
     "name": "stdout",
     "output_type": "stream",
     "text": [
      " g++ -DHAVE_CONFIG_H -I. -I. -I/home/pedro/.julia/v0.5/Cbc/deps/src/Cbc-2.9.8/CoinUtils/src -O3 -pipe -DNDEBUG -pedantic-errors -Wparentheses -Wreturn-type -Wcast-qual -Wall -Wpointer-arith -Wwrite-strings -Wconversion -Wno-unknown-pragmas -Wno-long-long -DOSI_BUILD -MT OsiCut.lo -MD -MP -MF .deps/OsiCut.Tpo -c OsiCut.cpp  -fPIC -DPIC -o .libs/OsiCut.o\n",
      "if /bin/bash ../../../libtool --tag=CXX --mode=compile g++ -DHAVE_CONFIG_H -I. -I`echo .`  -I/home/pedro/.julia/v0.5/Cbc/deps/src/Cbc-2.9.8/CoinUtils/src   -O3 -pipe -DNDEBUG -pedantic-errors -Wparentheses -Wreturn-type -Wcast-qual -Wall -Wpointer-arith -Wwrite-strings -Wconversion -Wno-unknown-pragmas -Wno-long-long   -DOSI_BUILD -MT OsiCuts.lo -MD -MP -MF \".deps/OsiCuts.Tpo\" -c -o OsiCuts.lo OsiCuts.cpp; \\\n",
      "then mv -f \".deps/OsiCuts.Tpo\" \".deps/OsiCuts.Plo\"; else rm -f \".deps/OsiCuts.Tpo\"; exit 1; fi\n"
     ]
    },
    {
     "name": "stderr",
     "output_type": "stream",
     "text": [
      "In file included from OsiSolverInterface.hpp:17:0,\n",
      "                 from OsiCut.hpp:9,\n",
      "                 from OsiCut.cpp:10:\n",
      "/home/pedro/.julia/v0.5/Cbc/deps/src/Cbc-2.9.8/CoinUtils/src/CoinFinite.hpp:17:14: warning: ‘COIN_DBL_MIN’ defined but not used [-Wunused-variable]\n",
      " const double COIN_DBL_MIN = (std::numeric_limits<double>::min)();\n",
      "              ^\n",
      "/home/pedro/.julia/v0.5/Cbc/deps/src/Cbc-2.9.8/CoinUtils/src/CoinFinite.hpp:18:14: warning: ‘COIN_DBL_MAX’ defined but not used [-Wunused-variable]\n",
      " const double COIN_DBL_MAX = (std::numeric_limits<double>::max)();\n",
      "              ^\n",
      "/home/pedro/.julia/v0.5/Cbc/deps/src/Cbc-2.9.8/CoinUtils/src/CoinFinite.hpp:19:14: warning: ‘COIN_INT_MAX’ defined but not used [-Wunused-variable]\n",
      " const int    COIN_INT_MAX = (std::numeric_limits<int>::max)();\n",
      "              ^\n",
      "/home/pedro/.julia/v0.5/Cbc/deps/src/Cbc-2.9.8/CoinUtils/src/CoinFinite.hpp:20:14: warning: ‘COIN_INT_MAX_AS_DOUBLE’ defined but not used [-Wunused-variable]\n",
      " const double COIN_INT_MAX_AS_DOUBLE = (std::numeric_limits<int>::max)();\n",
      "              ^\n"
     ]
    },
    {
     "name": "stdout",
     "output_type": "stream",
     "text": [
      " g++ -DHAVE_CONFIG_H -I. -I. -I/home/pedro/.julia/v0.5/Cbc/deps/src/Cbc-2.9.8/CoinUtils/src -O3 -pipe -DNDEBUG -pedantic-errors -Wparentheses -Wreturn-type -Wcast-qual -Wall -Wpointer-arith -Wwrite-strings -Wconversion -Wno-unknown-pragmas -Wno-long-long -DOSI_BUILD -MT OsiCuts.lo -MD -MP -MF .deps/OsiCuts.Tpo -c OsiCuts.cpp  -fPIC -DPIC -o .libs/OsiCuts.o\n",
      "if /bin/bash ../../../libtool --tag=CXX --mode=compile g++ -DHAVE_CONFIG_H -I. -I`echo .`  -I/home/pedro/.julia/v0.5/Cbc/deps/src/Cbc-2.9.8/CoinUtils/src   -O3 -pipe -DNDEBUG -pedantic-errors -Wparentheses -Wreturn-type -Wcast-qual -Wall -Wpointer-arith -Wwrite-strings -Wconversion -Wno-unknown-pragmas -Wno-long-long   -DOSI_BUILD -MT OsiNames.lo -MD -MP -MF \".deps/OsiNames.Tpo\" -c -o OsiNames.lo OsiNames.cpp; \\\n",
      "then mv -f \".deps/OsiNames.Tpo\" \".deps/OsiNames.Plo\"; else rm -f \".deps/OsiNames.Tpo\"; exit 1; fi\n"
     ]
    },
    {
     "name": "stderr",
     "output_type": "stream",
     "text": [
      "In file included from OsiSolverInterface.hpp:17:0,\n",
      "                 from OsiCut.hpp:9,\n",
      "                 from OsiRowCut.hpp:11,\n",
      "                 from OsiCuts.hpp:13,\n",
      "                 from OsiCuts.cpp:13:\n",
      "/home/pedro/.julia/v0.5/Cbc/deps/src/Cbc-2.9.8/CoinUtils/src/CoinFinite.hpp:18:14: warning: ‘COIN_DBL_MAX’ defined but not used [-Wunused-variable]\n",
      " const double COIN_DBL_MAX = (std::numeric_limits<double>::max)();\n",
      "              ^\n",
      "/home/pedro/.julia/v0.5/Cbc/deps/src/Cbc-2.9.8/CoinUtils/src/CoinFinite.hpp:19:14: warning: ‘COIN_INT_MAX’ defined but not used [-Wunused-variable]\n",
      " const int    COIN_INT_MAX = (std::numeric_limits<int>::max)();\n",
      "              ^\n",
      "/home/pedro/.julia/v0.5/Cbc/deps/src/Cbc-2.9.8/CoinUtils/src/CoinFinite.hpp:20:14: warning: ‘COIN_INT_MAX_AS_DOUBLE’ defined but not used [-Wunused-variable]\n",
      " const double COIN_INT_MAX_AS_DOUBLE = (std::numeric_limits<int>::max)();\n",
      "              ^\n"
     ]
    },
    {
     "name": "stdout",
     "output_type": "stream",
     "text": [
      " g++ -DHAVE_CONFIG_H -I. -I. -I/home/pedro/.julia/v0.5/Cbc/deps/src/Cbc-2.9.8/CoinUtils/src -O3 -pipe -DNDEBUG -pedantic-errors -Wparentheses -Wreturn-type -Wcast-qual -Wall -Wpointer-arith -Wwrite-strings -Wconversion -Wno-unknown-pragmas -Wno-long-long -DOSI_BUILD -MT OsiNames.lo -MD -MP -MF .deps/OsiNames.Tpo -c OsiNames.cpp  -fPIC -DPIC -o .libs/OsiNames.o\n",
      "if /bin/bash ../../../libtool --tag=CXX --mode=compile g++ -DHAVE_CONFIG_H -I. -I`echo .`  -I/home/pedro/.julia/v0.5/Cbc/deps/src/Cbc-2.9.8/CoinUtils/src   -O3 -pipe -DNDEBUG -pedantic-errors -Wparentheses -Wreturn-type -Wcast-qual -Wall -Wpointer-arith -Wwrite-strings -Wconversion -Wno-unknown-pragmas -Wno-long-long   -DOSI_BUILD -MT OsiPresolve.lo -MD -MP -MF \".deps/OsiPresolve.Tpo\" -c -o OsiPresolve.lo OsiPresolve.cpp; \\\n",
      "then mv -f \".deps/OsiPresolve.Tpo\" \".deps/OsiPresolve.Plo\"; else rm -f \".deps/OsiPresolve.Tpo\"; exit 1; fi\n"
     ]
    },
    {
     "name": "stderr",
     "output_type": "stream",
     "text": [
      "In file included from OsiSolverInterface.hpp:17:0,\n",
      "                 from OsiNames.cpp:12:\n",
      "/home/pedro/.julia/v0.5/Cbc/deps/src/Cbc-2.9.8/CoinUtils/src/CoinFinite.hpp:17:14: warning: ‘COIN_DBL_MIN’ defined but not used [-Wunused-variable]\n",
      " const double COIN_DBL_MIN = (std::numeric_limits<double>::min)();\n",
      "              ^\n",
      "/home/pedro/.julia/v0.5/Cbc/deps/src/Cbc-2.9.8/CoinUtils/src/CoinFinite.hpp:19:14: warning: ‘COIN_INT_MAX’ defined but not used [-Wunused-variable]\n",
      " const int    COIN_INT_MAX = (std::numeric_limits<int>::max)();\n",
      "              ^\n",
      "/home/pedro/.julia/v0.5/Cbc/deps/src/Cbc-2.9.8/CoinUtils/src/CoinFinite.hpp:20:14: warning: ‘COIN_INT_MAX_AS_DOUBLE’ defined but not used [-Wunused-variable]\n",
      " const double COIN_INT_MAX_AS_DOUBLE = (std::numeric_limits<int>::max)();\n",
      "              ^\n"
     ]
    },
    {
     "name": "stdout",
     "output_type": "stream",
     "text": [
      " g++ -DHAVE_CONFIG_H -I. -I. -I/home/pedro/.julia/v0.5/Cbc/deps/src/Cbc-2.9.8/CoinUtils/src -O3 -pipe -DNDEBUG -pedantic-errors -Wparentheses -Wreturn-type -Wcast-qual -Wall -Wpointer-arith -Wwrite-strings -Wconversion -Wno-unknown-pragmas -Wno-long-long -DOSI_BUILD -MT OsiPresolve.lo -MD -MP -MF .deps/OsiPresolve.Tpo -c OsiPresolve.cpp  -fPIC -DPIC -o .libs/OsiPresolve.o\n",
      "if /bin/bash ../../../libtool --tag=CXX --mode=compile g++ -DHAVE_CONFIG_H -I. -I`echo .`  -I/home/pedro/.julia/v0.5/Cbc/deps/src/Cbc-2.9.8/CoinUtils/src   -O3 -pipe -DNDEBUG -pedantic-errors -Wparentheses -Wreturn-type -Wcast-qual -Wall -Wpointer-arith -Wwrite-strings -Wconversion -Wno-unknown-pragmas -Wno-long-long   -DOSI_BUILD -MT OsiRowCut.lo -MD -MP -MF \".deps/OsiRowCut.Tpo\" -c -o OsiRowCut.lo OsiRowCut.cpp; \\\n",
      "then mv -f \".deps/OsiRowCut.Tpo\" \".deps/OsiRowCut.Plo\"; else rm -f \".deps/OsiRowCut.Tpo\"; exit 1; fi\n"
     ]
    },
    {
     "name": "stderr",
     "output_type": "stream",
     "text": [
      "In file included from OsiPresolve.cpp:21:0:\n",
      "/home/pedro/.julia/v0.5/Cbc/deps/src/Cbc-2.9.8/CoinUtils/src/CoinFinite.hpp:17:14: warning: ‘COIN_DBL_MIN’ defined but not used [-Wunused-variable]\n",
      " const double COIN_DBL_MIN = (std::numeric_limits<double>::min)();\n",
      "              ^\n",
      "/home/pedro/.julia/v0.5/Cbc/deps/src/Cbc-2.9.8/CoinUtils/src/CoinFinite.hpp:19:14: warning: ‘COIN_INT_MAX’ defined but not used [-Wunused-variable]\n",
      " const int    COIN_INT_MAX = (std::numeric_limits<int>::max)();\n",
      "              ^\n",
      "/home/pedro/.julia/v0.5/Cbc/deps/src/Cbc-2.9.8/CoinUtils/src/CoinFinite.hpp:20:14: warning: ‘COIN_INT_MAX_AS_DOUBLE’ defined but not used [-Wunused-variable]\n",
      " const double COIN_INT_MAX_AS_DOUBLE = (std::numeric_limits<int>::max)();\n",
      "              ^\n"
     ]
    },
    {
     "name": "stdout",
     "output_type": "stream",
     "text": [
      " g++ -DHAVE_CONFIG_H -I. -I. -I/home/pedro/.julia/v0.5/Cbc/deps/src/Cbc-2.9.8/CoinUtils/src -O3 -pipe -DNDEBUG -pedantic-errors -Wparentheses -Wreturn-type -Wcast-qual -Wall -Wpointer-arith -Wwrite-strings -Wconversion -Wno-unknown-pragmas -Wno-long-long -DOSI_BUILD -MT OsiRowCut.lo -MD -MP -MF .deps/OsiRowCut.Tpo -c OsiRowCut.cpp  -fPIC -DPIC -o .libs/OsiRowCut.o\n",
      "if /bin/bash ../../../libtool --tag=CXX --mode=compile g++ -DHAVE_CONFIG_H -I. -I`echo .`  -I/home/pedro/.julia/v0.5/Cbc/deps/src/Cbc-2.9.8/CoinUtils/src   -O3 -pipe -DNDEBUG -pedantic-errors -Wparentheses -Wreturn-type -Wcast-qual -Wall -Wpointer-arith -Wwrite-strings -Wconversion -Wno-unknown-pragmas -Wno-long-long   -DOSI_BUILD -MT OsiRowCutDebugger.lo -MD -MP -MF \".deps/OsiRowCutDebugger.Tpo\" -c -o OsiRowCutDebugger.lo OsiRowCutDebugger.cpp; \\\n",
      "then mv -f \".deps/OsiRowCutDebugger.Tpo\" \".deps/OsiRowCutDebugger.Plo\"; else rm -f \".deps/OsiRowCutDebugger.Tpo\"; exit 1; fi\n"
     ]
    },
    {
     "name": "stderr",
     "output_type": "stream",
     "text": [
      "In file included from OsiRowCut.cpp:11:0:\n",
      "/home/pedro/.julia/v0.5/Cbc/deps/src/Cbc-2.9.8/CoinUtils/src/CoinFinite.hpp:17:14: warning: ‘COIN_DBL_MIN’ defined but not used [-Wunused-variable]\n",
      " const double COIN_DBL_MIN = (std::numeric_limits<double>::min)();\n",
      "              ^\n",
      "/home/pedro/.julia/v0.5/Cbc/deps/src/Cbc-2.9.8/CoinUtils/src/CoinFinite.hpp:19:14: warning: ‘COIN_INT_MAX’ defined but not used [-Wunused-variable]\n",
      " const int    COIN_INT_MAX = (std::numeric_limits<int>::max)();\n",
      "              ^\n",
      "/home/pedro/.julia/v0.5/Cbc/deps/src/Cbc-2.9.8/CoinUtils/src/CoinFinite.hpp:20:14: warning: ‘COIN_INT_MAX_AS_DOUBLE’ defined but not used [-Wunused-variable]\n",
      " const double COIN_INT_MAX_AS_DOUBLE = (std::numeric_limits<int>::max)();\n",
      "              ^\n"
     ]
    },
    {
     "name": "stdout",
     "output_type": "stream",
     "text": [
      " g++ -DHAVE_CONFIG_H -I. -I. -I/home/pedro/.julia/v0.5/Cbc/deps/src/Cbc-2.9.8/CoinUtils/src -O3 -pipe -DNDEBUG -pedantic-errors -Wparentheses -Wreturn-type -Wcast-qual -Wall -Wpointer-arith -Wwrite-strings -Wconversion -Wno-unknown-pragmas -Wno-long-long -DOSI_BUILD -MT OsiRowCutDebugger.lo -MD -MP -MF .deps/OsiRowCutDebugger.Tpo -c OsiRowCutDebugger.cpp  -fPIC -DPIC -o .libs/OsiRowCutDebugger.o\n",
      "if /bin/bash ../../../libtool --tag=CXX --mode=compile g++ -DHAVE_CONFIG_H -I. -I`echo .`  -I/home/pedro/.julia/v0.5/Cbc/deps/src/Cbc-2.9.8/CoinUtils/src   -O3 -pipe -DNDEBUG -pedantic-errors -Wparentheses -Wreturn-type -Wcast-qual -Wall -Wpointer-arith -Wwrite-strings -Wconversion -Wno-unknown-pragmas -Wno-long-long   -DOSI_BUILD -MT OsiSolverBranch.lo -MD -MP -MF \".deps/OsiSolverBranch.Tpo\" -c -o OsiSolverBranch.lo OsiSolverBranch.cpp; \\\n",
      "then mv -f \".deps/OsiSolverBranch.Tpo\" \".deps/OsiSolverBranch.Plo\"; else rm -f \".deps/OsiSolverBranch.Tpo\"; exit 1; fi\n"
     ]
    },
    {
     "name": "stderr",
     "output_type": "stream",
     "text": [
      "In file included from OsiSolverInterface.hpp:17:0,\n",
      "                 from OsiCut.hpp:9,\n",
      "                 from OsiRowCut.hpp:11,\n",
      "                 from OsiCuts.hpp:13,\n",
      "                 from OsiRowCutDebugger.hpp:16,\n",
      "                 from OsiRowCutDebugger.cpp:19:\n",
      "/home/pedro/.julia/v0.5/Cbc/deps/src/Cbc-2.9.8/CoinUtils/src/CoinFinite.hpp:19:14: warning: ‘COIN_INT_MAX’ defined but not used [-Wunused-variable]\n",
      " const int    COIN_INT_MAX = (std::numeric_limits<int>::max)();\n",
      "              ^\n",
      "/home/pedro/.julia/v0.5/Cbc/deps/src/Cbc-2.9.8/CoinUtils/src/CoinFinite.hpp:20:14: warning: ‘COIN_INT_MAX_AS_DOUBLE’ defined but not used [-Wunused-variable]\n",
      " const double COIN_INT_MAX_AS_DOUBLE = (std::numeric_limits<int>::max)();\n",
      "              ^\n"
     ]
    },
    {
     "name": "stdout",
     "output_type": "stream",
     "text": [
      " g++ -DHAVE_CONFIG_H -I. -I. -I/home/pedro/.julia/v0.5/Cbc/deps/src/Cbc-2.9.8/CoinUtils/src -O3 -pipe -DNDEBUG -pedantic-errors -Wparentheses -Wreturn-type -Wcast-qual -Wall -Wpointer-arith -Wwrite-strings -Wconversion -Wno-unknown-pragmas -Wno-long-long -DOSI_BUILD -MT OsiSolverBranch.lo -MD -MP -MF .deps/OsiSolverBranch.Tpo -c OsiSolverBranch.cpp  -fPIC -DPIC -o .libs/OsiSolverBranch.o\n",
      "if /bin/bash ../../../libtool --tag=CXX --mode=compile g++ -DHAVE_CONFIG_H -I. -I`echo .`  -I/home/pedro/.julia/v0.5/Cbc/deps/src/Cbc-2.9.8/CoinUtils/src   -O3 -pipe -DNDEBUG -pedantic-errors -Wparentheses -Wreturn-type -Wcast-qual -Wall -Wpointer-arith -Wwrite-strings -Wconversion -Wno-unknown-pragmas -Wno-long-long   -DOSI_BUILD -MT OsiSolverInterface.lo -MD -MP -MF \".deps/OsiSolverInterface.Tpo\" -c -o OsiSolverInterface.lo OsiSolverInterface.cpp; \\\n",
      "then mv -f \".deps/OsiSolverInterface.Tpo\" \".deps/OsiSolverInterface.Plo\"; else rm -f \".deps/OsiSolverInterface.Tpo\"; exit 1; fi\n"
     ]
    },
    {
     "name": "stderr",
     "output_type": "stream",
     "text": [
      "In file included from OsiSolverBranch.cpp:14:0:\n",
      "/home/pedro/.julia/v0.5/Cbc/deps/src/Cbc-2.9.8/CoinUtils/src/CoinFinite.hpp:17:14: warning: ‘COIN_DBL_MIN’ defined but not used [-Wunused-variable]\n",
      " const double COIN_DBL_MIN = (std::numeric_limits<double>::min)();\n",
      "              ^\n",
      "/home/pedro/.julia/v0.5/Cbc/deps/src/Cbc-2.9.8/CoinUtils/src/CoinFinite.hpp:19:14: warning: ‘COIN_INT_MAX’ defined but not used [-Wunused-variable]\n",
      " const int    COIN_INT_MAX = (std::numeric_limits<int>::max)();\n",
      "              ^\n",
      "/home/pedro/.julia/v0.5/Cbc/deps/src/Cbc-2.9.8/CoinUtils/src/CoinFinite.hpp:20:14: warning: ‘COIN_INT_MAX_AS_DOUBLE’ defined but not used [-Wunused-variable]\n",
      " const double COIN_INT_MAX_AS_DOUBLE = (std::numeric_limits<int>::max)();\n",
      "              ^\n"
     ]
    },
    {
     "name": "stdout",
     "output_type": "stream",
     "text": [
      " g++ -DHAVE_CONFIG_H -I. -I. -I/home/pedro/.julia/v0.5/Cbc/deps/src/Cbc-2.9.8/CoinUtils/src -O3 -pipe -DNDEBUG -pedantic-errors -Wparentheses -Wreturn-type -Wcast-qual -Wall -Wpointer-arith -Wwrite-strings -Wconversion -Wno-unknown-pragmas -Wno-long-long -DOSI_BUILD -MT OsiSolverInterface.lo -MD -MP -MF .deps/OsiSolverInterface.Tpo -c OsiSolverInterface.cpp  -fPIC -DPIC -o .libs/OsiSolverInterface.o\n"
     ]
    },
    {
     "name": "stderr",
     "output_type": "stream",
     "text": [
      "OsiSolverInterface.cpp: In member function ‘int OsiSolverInterface::differentModel(OsiSolverInterface&, bool)’:\n",
      "OsiSolverInterface.cpp:1880:8: warning: unused variable ‘gotHint’ [-Wunused-variable]\n",
      "   bool gotHint = (getHintParam(OsiDoReducePrint,takeHint,strength));\n",
      "        ^\n"
     ]
    },
    {
     "name": "stdout",
     "output_type": "stream",
     "text": [
      "/bin/bash ../../../libtool --tag=CXX --mode=link g++  -O3 -pipe -DNDEBUG -pedantic-errors -Wparentheses -Wreturn-type -Wcast-qual -Wall -Wpointer-arith -Wwrite-strings -Wconversion -Wno-unknown-pragmas -Wno-long-long   -DOSI_BUILD   -o libOsi.la -rpath /home/pedro/.julia/v0.5/Cbc/deps/usr/lib -no-undefined -version-info 13:8:12 OsiAuxInfo.lo OsiBranchingObject.lo OsiChooseVariable.lo OsiColCut.lo OsiCut.lo OsiCuts.lo OsiNames.lo OsiPresolve.lo OsiRowCut.lo OsiRowCutDebugger.lo OsiSolverBranch.lo OsiSolverInterface.lo /home/pedro/.julia/v0.5/Cbc/deps/src/Cbc-2.9.8/CoinUtils/src/libCoinUtils.la -lm  \n"
     ]
    },
    {
     "name": "stderr",
     "output_type": "stream",
     "text": [
      "In file included from OsiSolverInterface.hpp:17:0,\n",
      "                 from OsiSolverInterface.cpp:17:\n",
      "/home/pedro/.julia/v0.5/Cbc/deps/src/Cbc-2.9.8/CoinUtils/src/CoinFinite.hpp: At global scope:\n",
      "/home/pedro/.julia/v0.5/Cbc/deps/src/Cbc-2.9.8/CoinUtils/src/CoinFinite.hpp:19:14: warning: ‘COIN_INT_MAX’ defined but not used [-Wunused-variable]\n",
      " const int    COIN_INT_MAX = (std::numeric_limits<int>::max)();\n",
      "              ^\n",
      "/home/pedro/.julia/v0.5/Cbc/deps/src/Cbc-2.9.8/CoinUtils/src/CoinFinite.hpp:20:14: warning: ‘COIN_INT_MAX_AS_DOUBLE’ defined but not used [-Wunused-variable]\n",
      " const double COIN_INT_MAX_AS_DOUBLE = (std::numeric_limits<int>::max)();\n",
      "              ^\n"
     ]
    },
    {
     "name": "stdout",
     "output_type": "stream",
     "text": [
      "g++ -shared -nostdlib /usr/lib/gcc/x86_64-linux-gnu/5/../../../x86_64-linux-gnu/crti.o /usr/lib/gcc/x86_64-linux-gnu/5/crtbeginS.o  .libs/OsiAuxInfo.o .libs/OsiBranchingObject.o .libs/OsiChooseVariable.o .libs/OsiColCut.o .libs/OsiCut.o .libs/OsiCuts.o .libs/OsiNames.o .libs/OsiPresolve.o .libs/OsiRowCut.o .libs/OsiRowCutDebugger.o .libs/OsiSolverBranch.o .libs/OsiSolverInterface.o  -Wl,--rpath -Wl,/home/pedro/.julia/v0.5/Cbc/deps/src/Cbc-2.9.8/CoinUtils/src/.libs -Wl,--rpath -Wl,/home/pedro/.julia/v0.5/Cbc/deps/usr/lib /home/pedro/.julia/v0.5/Cbc/deps/src/Cbc-2.9.8/CoinUtils/src/.libs/libCoinUtils.so -L/usr/lib/gcc/x86_64-linux-gnu/5 -L/usr/lib/gcc/x86_64-linux-gnu/5/../../../x86_64-linux-gnu -L/usr/lib/gcc/x86_64-linux-gnu/5/../../../../lib -L/lib/x86_64-linux-gnu -L/lib/../lib -L/usr/lib/x86_64-linux-gnu -L/usr/lib/../lib -L/usr/lib/gcc/x86_64-linux-gnu/5/../../.. -lstdc++ -lm -lc -lgcc_s /usr/lib/gcc/x86_64-linux-gnu/5/crtendS.o /usr/lib/gcc/x86_64-linux-gnu/5/../../../x86_64-linux-gnu/crtn.o  -Wl,-soname -Wl,libOsi.so.1 -o .libs/libOsi.so.1.12.8\n",
      "(cd .libs && rm -f libOsi.so.1 && ln -s libOsi.so.1.12.8 libOsi.so.1)\n",
      "(cd .libs && rm -f libOsi.so && ln -s libOsi.so.1.12.8 libOsi.so)\n",
      "creating libOsi.la\n",
      "(cd .libs && rm -f libOsi.la && ln -s ../libOsi.la libOsi.la)\n",
      "make[3]: Entering directory '/home/pedro/.julia/v0.5/Cbc/deps/src/Cbc-2.9.8/Osi/src/Osi'\n",
      "/home/pedro/.julia/v0.5/Cbc/deps/src/Cbc-2.9.8/Osi/install-sh -c -m 644 config_osi.h /home/pedro/.julia/v0.5/Cbc/deps/usr/include/coin/OsiConfig.h\n",
      "test -z \"/home/pedro/.julia/v0.5/Cbc/deps/usr/lib\" || mkdir -p -- \"/home/pedro/.julia/v0.5/Cbc/deps/usr/lib\"\n",
      " /bin/bash ../../../libtool --mode=install /usr/bin/install -c  'libOsi.la' '/home/pedro/.julia/v0.5/Cbc/deps/usr/lib/libOsi.la'\n",
      "(cd /home/pedro/.julia/v0.5/Cbc/deps/src/Cbc-2.9.8/Osi/src/Osi; /bin/bash ../../../libtool  --tag=CXX --mode=relink g++ -O3 -pipe -DNDEBUG -pedantic-errors -Wparentheses -Wreturn-type -Wcast-qual -Wall -Wpointer-arith -Wwrite-strings -Wconversion -Wno-unknown-pragmas -Wno-long-long -DOSI_BUILD -o libOsi.la -rpath /home/pedro/.julia/v0.5/Cbc/deps/usr/lib -no-undefined -version-info 13:8:12 OsiAuxInfo.lo OsiBranchingObject.lo OsiChooseVariable.lo OsiColCut.lo OsiCut.lo OsiCuts.lo OsiNames.lo OsiPresolve.lo OsiRowCut.lo OsiRowCutDebugger.lo OsiSolverBranch.lo OsiSolverInterface.lo /home/pedro/.julia/v0.5/Cbc/deps/src/Cbc-2.9.8/CoinUtils/src/libCoinUtils.la -lm )\n"
     ]
    },
    {
     "name": "stderr",
     "output_type": "stream",
     "text": [
      "libtool: install: warning: relinking `libOsi.la'\n"
     ]
    },
    {
     "name": "stdout",
     "output_type": "stream",
     "text": [
      "g++ -shared -nostdlib /usr/lib/gcc/x86_64-linux-gnu/5/../../../x86_64-linux-gnu/crti.o /usr/lib/gcc/x86_64-linux-gnu/5/crtbeginS.o  .libs/OsiAuxInfo.o .libs/OsiBranchingObject.o .libs/OsiChooseVariable.o .libs/OsiColCut.o .libs/OsiCut.o .libs/OsiCuts.o .libs/OsiNames.o .libs/OsiPresolve.o .libs/OsiRowCut.o .libs/OsiRowCutDebugger.o .libs/OsiSolverBranch.o .libs/OsiSolverInterface.o  -Wl,--rpath -Wl,/home/pedro/.julia/v0.5/Cbc/deps/usr/lib -L/home/pedro/.julia/v0.5/Cbc/deps/usr/lib -lCoinUtils -L/usr/lib/gcc/x86_64-linux-gnu/5 -L/usr/lib/gcc/x86_64-linux-gnu/5/../../../x86_64-linux-gnu -L/usr/lib/gcc/x86_64-linux-gnu/5/../../../../lib -L/lib/x86_64-linux-gnu -L/lib/../lib -L/usr/lib/x86_64-linux-gnu -L/usr/lib/../lib -L/usr/lib/gcc/x86_64-linux-gnu/5/../../.. -lstdc++ -lm -lc -lgcc_s /usr/lib/gcc/x86_64-linux-gnu/5/crtendS.o /usr/lib/gcc/x86_64-linux-gnu/5/../../../x86_64-linux-gnu/crtn.o  -Wl,-soname -Wl,libOsi.so.1 -o .libs/libOsi.so.1.12.8\n",
      "/usr/bin/install -c .libs/libOsi.so.1.12.8T /home/pedro/.julia/v0.5/Cbc/deps/usr/lib/libOsi.so.1.12.8\n",
      "(cd /home/pedro/.julia/v0.5/Cbc/deps/usr/lib && { ln -s -f libOsi.so.1.12.8 libOsi.so.1 || { rm -f libOsi.so.1 && ln -s libOsi.so.1.12.8 libOsi.so.1; }; })\n",
      "(cd /home/pedro/.julia/v0.5/Cbc/deps/usr/lib && { ln -s -f libOsi.so.1.12.8 libOsi.so || { rm -f libOsi.so && ln -s libOsi.so.1.12.8 libOsi.so; }; })\n",
      "/usr/bin/install -c .libs/libOsi.lai /home/pedro/.julia/v0.5/Cbc/deps/usr/lib/libOsi.la\n",
      "PATH=\"$PATH:/sbin\" ldconfig -n /home/pedro/.julia/v0.5/Cbc/deps/usr/lib\n",
      "----------------------------------------------------------------------\n",
      "Libraries have been installed in:\n",
      "   /home/pedro/.julia/v0.5/Cbc/deps/usr/lib\n",
      "\n",
      "If you ever happen to want to link against installed libraries\n",
      "in a given directory, LIBDIR, you must either use libtool, and\n",
      "specify the full pathname of the library, or use the `-LLIBDIR'\n",
      "flag during linking and do at least one of the following:\n",
      "   - add LIBDIR to the `LD_LIBRARY_PATH' environment variable\n",
      "     during execution\n",
      "   - add LIBDIR to the `LD_RUN_PATH' environment variable\n",
      "     during linking\n",
      "   - use the `-Wl,--rpath -Wl,LIBDIR' linker flag\n",
      "   - have your system administrator add LIBDIR to `/etc/ld.so.conf'\n",
      "\n",
      "See any operating system documentation about shared libraries for\n",
      "more information, such as the ld(1) and ld.so(8) manual pages.\n",
      "----------------------------------------------------------------------\n",
      "test -z \"/home/pedro/.julia/v0.5/Cbc/deps/usr/include/coin\" || mkdir -p -- \"/home/pedro/.julia/v0.5/Cbc/deps/usr/include/coin\"\n",
      " /usr/bin/install -c -m 644 'OsiAuxInfo.hpp' '/home/pedro/.julia/v0.5/Cbc/deps/usr/include/coin/OsiAuxInfo.hpp'\n",
      " /usr/bin/install -c -m 644 'OsiBranchingObject.hpp' '/home/pedro/.julia/v0.5/Cbc/deps/usr/include/coin/OsiBranchingObject.hpp'\n",
      " /usr/bin/install -c -m 644 'OsiChooseVariable.hpp' '/home/pedro/.julia/v0.5/Cbc/deps/usr/include/coin/OsiChooseVariable.hpp'\n",
      " /usr/bin/install -c -m 644 'OsiColCut.hpp' '/home/pedro/.julia/v0.5/Cbc/deps/usr/include/coin/OsiColCut.hpp'\n",
      " /usr/bin/install -c -m 644 'OsiCollections.hpp' '/home/pedro/.julia/v0.5/Cbc/deps/usr/include/coin/OsiCollections.hpp'\n",
      " /usr/bin/install -c -m 644 'OsiCut.hpp' '/home/pedro/.julia/v0.5/Cbc/deps/usr/include/coin/OsiCut.hpp'\n",
      " /usr/bin/install -c -m 644 'OsiCuts.hpp' '/home/pedro/.julia/v0.5/Cbc/deps/usr/include/coin/OsiCuts.hpp'\n",
      " /usr/bin/install -c -m 644 'OsiPresolve.hpp' '/home/pedro/.julia/v0.5/Cbc/deps/usr/include/coin/OsiPresolve.hpp'\n",
      " /usr/bin/install -c -m 644 'OsiRowCut.hpp' '/home/pedro/.julia/v0.5/Cbc/deps/usr/include/coin/OsiRowCut.hpp'\n",
      " /usr/bin/install -c -m 644 'OsiRowCutDebugger.hpp' '/home/pedro/.julia/v0.5/Cbc/deps/usr/include/coin/OsiRowCutDebugger.hpp'\n",
      " /usr/bin/install -c -m 644 'OsiSolverBranch.hpp' '/home/pedro/.julia/v0.5/Cbc/deps/usr/include/coin/OsiSolverBranch.hpp'\n",
      " /usr/bin/install -c -m 644 'OsiSolverInterface.hpp' '/home/pedro/.julia/v0.5/Cbc/deps/usr/include/coin/OsiSolverInterface.hpp'\n",
      " /usr/bin/install -c -m 644 'OsiSolverParameters.hpp' '/home/pedro/.julia/v0.5/Cbc/deps/usr/include/coin/OsiSolverParameters.hpp'\n",
      "make[3]: Leaving directory '/home/pedro/.julia/v0.5/Cbc/deps/src/Cbc-2.9.8/Osi/src/Osi'\n",
      "make[2]: Leaving directory '/home/pedro/.julia/v0.5/Cbc/deps/src/Cbc-2.9.8/Osi/src/Osi'\n",
      "Making install in src/OsiCommonTest\n",
      "make[2]: Entering directory '/home/pedro/.julia/v0.5/Cbc/deps/src/Cbc-2.9.8/Osi/src/OsiCommonTest'\n",
      "if /bin/bash ../../../libtool --tag=CXX --mode=compile g++ -DHAVE_CONFIG_H -I. -I`echo .` -I../../src/Osi  -I`echo ./../Osi` -I/home/pedro/.julia/v0.5/Cbc/deps/src/Cbc-2.9.8/CoinUtils/src   -O3 -pipe -DNDEBUG -pedantic-errors -Wparentheses -Wreturn-type -Wcast-qual -Wall -Wpointer-arith -Wwrite-strings -Wconversion -Wno-unknown-pragmas -Wno-long-long   -DOSI_BUILD -MT OsiColCutTest.lo -MD -MP -MF \".deps/OsiColCutTest.Tpo\" -c -o OsiColCutTest.lo OsiColCutTest.cpp; \\\n",
      "then mv -f \".deps/OsiColCutTest.Tpo\" \".deps/OsiColCutTest.Plo\"; else rm -f \".deps/OsiColCutTest.Tpo\"; exit 1; fi\n",
      "mkdir .libs\n",
      " g++ -DHAVE_CONFIG_H -I. -I. -I../../src/Osi -I./../Osi -I/home/pedro/.julia/v0.5/Cbc/deps/src/Cbc-2.9.8/CoinUtils/src -O3 -pipe -DNDEBUG -pedantic-errors -Wparentheses -Wreturn-type -Wcast-qual -Wall -Wpointer-arith -Wwrite-strings -Wconversion -Wno-unknown-pragmas -Wno-long-long -DOSI_BUILD -MT OsiColCutTest.lo -MD -MP -MF .deps/OsiColCutTest.Tpo -c OsiColCutTest.cpp  -fPIC -DPIC -o .libs/OsiColCutTest.o\n",
      "if /bin/bash ../../../libtool --tag=CXX --mode=compile g++ -DHAVE_CONFIG_H -I. -I`echo .` -I../../src/Osi  -I`echo ./../Osi` -I/home/pedro/.julia/v0.5/Cbc/deps/src/Cbc-2.9.8/CoinUtils/src   -O3 -pipe -DNDEBUG -pedantic-errors -Wparentheses -Wreturn-type -Wcast-qual -Wall -Wpointer-arith -Wwrite-strings -Wconversion -Wno-unknown-pragmas -Wno-long-long   -DOSI_BUILD -MT OsiCutsTest.lo -MD -MP -MF \".deps/OsiCutsTest.Tpo\" -c -o OsiCutsTest.lo OsiCutsTest.cpp; \\\n",
      "then mv -f \".deps/OsiCutsTest.Tpo\" \".deps/OsiCutsTest.Plo\"; else rm -f \".deps/OsiCutsTest.Tpo\"; exit 1; fi\n"
     ]
    },
    {
     "name": "stderr",
     "output_type": "stream",
     "text": [
      "In file included from ../../src/Osi/OsiSolverInterface.hpp:17:0,\n",
      "                 from ../../src/Osi/OsiCut.hpp:9,\n",
      "                 from ../../src/Osi/OsiColCut.hpp:13,\n",
      "                 from OsiColCutTest.cpp:13:\n",
      "/home/pedro/.julia/v0.5/Cbc/deps/src/Cbc-2.9.8/CoinUtils/src/CoinFinite.hpp:17:14: warning: ‘COIN_DBL_MIN’ defined but not used [-Wunused-variable]\n",
      " const double COIN_DBL_MIN = (std::numeric_limits<double>::min)();\n",
      "              ^\n",
      "/home/pedro/.julia/v0.5/Cbc/deps/src/Cbc-2.9.8/CoinUtils/src/CoinFinite.hpp:18:14: warning: ‘COIN_DBL_MAX’ defined but not used [-Wunused-variable]\n",
      " const double COIN_DBL_MAX = (std::numeric_limits<double>::max)();\n",
      "              ^\n",
      "/home/pedro/.julia/v0.5/Cbc/deps/src/Cbc-2.9.8/CoinUtils/src/CoinFinite.hpp:19:14: warning: ‘COIN_INT_MAX’ defined but not used [-Wunused-variable]\n",
      " const int    COIN_INT_MAX = (std::numeric_limits<int>::max)();\n",
      "              ^\n",
      "/home/pedro/.julia/v0.5/Cbc/deps/src/Cbc-2.9.8/CoinUtils/src/CoinFinite.hpp:20:14: warning: ‘COIN_INT_MAX_AS_DOUBLE’ defined but not used [-Wunused-variable]\n",
      " const double COIN_INT_MAX_AS_DOUBLE = (std::numeric_limits<int>::max)();\n",
      "              ^\n"
     ]
    },
    {
     "name": "stdout",
     "output_type": "stream",
     "text": [
      " g++ -DHAVE_CONFIG_H -I. -I. -I../../src/Osi -I./../Osi -I/home/pedro/.julia/v0.5/Cbc/deps/src/Cbc-2.9.8/CoinUtils/src -O3 -pipe -DNDEBUG -pedantic-errors -Wparentheses -Wreturn-type -Wcast-qual -Wall -Wpointer-arith -Wwrite-strings -Wconversion -Wno-unknown-pragmas -Wno-long-long -DOSI_BUILD -MT OsiCutsTest.lo -MD -MP -MF .deps/OsiCutsTest.Tpo -c OsiCutsTest.cpp  -fPIC -DPIC -o .libs/OsiCutsTest.o\n",
      "if /bin/bash ../../../libtool --tag=CXX --mode=compile g++ -DHAVE_CONFIG_H -I. -I`echo .` -I../../src/Osi  -I`echo ./../Osi` -I/home/pedro/.julia/v0.5/Cbc/deps/src/Cbc-2.9.8/CoinUtils/src   -O3 -pipe -DNDEBUG -pedantic-errors -Wparentheses -Wreturn-type -Wcast-qual -Wall -Wpointer-arith -Wwrite-strings -Wconversion -Wno-unknown-pragmas -Wno-long-long   -DOSI_BUILD -MT OsiRowCutDebuggerTest.lo -MD -MP -MF \".deps/OsiRowCutDebuggerTest.Tpo\" -c -o OsiRowCutDebuggerTest.lo OsiRowCutDebuggerTest.cpp; \\\n",
      "then mv -f \".deps/OsiRowCutDebuggerTest.Tpo\" \".deps/OsiRowCutDebuggerTest.Plo\"; else rm -f \".deps/OsiRowCutDebuggerTest.Tpo\"; exit 1; fi\n"
     ]
    },
    {
     "name": "stderr",
     "output_type": "stream",
     "text": [
      "In file included from ../../src/Osi/OsiSolverInterface.hpp:17:0,\n",
      "                 from ../../src/Osi/OsiCut.hpp:9,\n",
      "                 from ../../src/Osi/OsiRowCut.hpp:11,\n",
      "                 from ../../src/Osi/OsiCuts.hpp:13,\n",
      "                 from OsiCutsTest.cpp:9:\n",
      "/home/pedro/.julia/v0.5/Cbc/deps/src/Cbc-2.9.8/CoinUtils/src/CoinFinite.hpp:18:14: warning: ‘COIN_DBL_MAX’ defined but not used [-Wunused-variable]\n",
      " const double COIN_DBL_MAX = (std::numeric_limits<double>::max)();\n",
      "              ^\n",
      "/home/pedro/.julia/v0.5/Cbc/deps/src/Cbc-2.9.8/CoinUtils/src/CoinFinite.hpp:19:14: warning: ‘COIN_INT_MAX’ defined but not used [-Wunused-variable]\n",
      " const int    COIN_INT_MAX = (std::numeric_limits<int>::max)();\n",
      "              ^\n",
      "/home/pedro/.julia/v0.5/Cbc/deps/src/Cbc-2.9.8/CoinUtils/src/CoinFinite.hpp:20:14: warning: ‘COIN_INT_MAX_AS_DOUBLE’ defined but not used [-Wunused-variable]\n",
      " const double COIN_INT_MAX_AS_DOUBLE = (std::numeric_limits<int>::max)();\n",
      "              ^\n"
     ]
    },
    {
     "name": "stdout",
     "output_type": "stream",
     "text": [
      " g++ -DHAVE_CONFIG_H -I. -I. -I../../src/Osi -I./../Osi -I/home/pedro/.julia/v0.5/Cbc/deps/src/Cbc-2.9.8/CoinUtils/src -O3 -pipe -DNDEBUG -pedantic-errors -Wparentheses -Wreturn-type -Wcast-qual -Wall -Wpointer-arith -Wwrite-strings -Wconversion -Wno-unknown-pragmas -Wno-long-long -DOSI_BUILD -MT OsiRowCutDebuggerTest.lo -MD -MP -MF .deps/OsiRowCutDebuggerTest.Tpo -c OsiRowCutDebuggerTest.cpp  -fPIC -DPIC -o .libs/OsiRowCutDebuggerTest.o\n"
     ]
    },
    {
     "name": "stderr",
     "output_type": "stream",
     "text": [
      "In file included from ../../src/Osi/OsiSolverInterface.hpp:17:0,\n",
      "                 from ../../src/Osi/OsiCut.hpp:9,\n",
      "                 from ../../src/Osi/OsiRowCut.hpp:11,\n",
      "                 from ../../src/Osi/OsiCuts.hpp:13,\n",
      "                 from ../../src/Osi/OsiRowCutDebugger.hpp:16,\n",
      "                 from OsiRowCutDebuggerTest.cpp:9:\n",
      "/home/pedro/.julia/v0.5/Cbc/deps/src/Cbc-2.9.8/CoinUtils/src/CoinFinite.hpp:18:14: warning: ‘COIN_DBL_MAX’ defined but not used [-Wunused-variable]\n",
      " const double COIN_DBL_MAX = (std::numeric_limits<double>::max)();\n",
      "              ^\n",
      "/home/pedro/.julia/v0.5/Cbc/deps/src/Cbc-2.9.8/CoinUtils/src/CoinFinite.hpp:19:14: warning: ‘COIN_INT_MAX’ defined but not used [-Wunused-variable]\n",
      " const int    COIN_INT_MAX = (std::numeric_limits<int>::max)();\n",
      "              ^\n",
      "/home/pedro/.julia/v0.5/Cbc/deps/src/Cbc-2.9.8/CoinUtils/src/CoinFinite.hpp:20:14: warning: ‘COIN_INT_MAX_AS_DOUBLE’ defined but not used [-Wunused-variable]\n",
      " const double COIN_INT_MAX_AS_DOUBLE = (std::numeric_limits<int>::max)();\n",
      "              ^\n"
     ]
    },
    {
     "name": "stdout",
     "output_type": "stream",
     "text": [
      "if /bin/bash ../../../libtool --tag=CXX --mode=compile g++ -DHAVE_CONFIG_H -I. -I`echo .` -I../../src/Osi  -I`echo ./../Osi` -I/home/pedro/.julia/v0.5/Cbc/deps/src/Cbc-2.9.8/CoinUtils/src   -O3 -pipe -DNDEBUG -pedantic-errors -Wparentheses -Wreturn-type -Wcast-qual -Wall -Wpointer-arith -Wwrite-strings -Wconversion -Wno-unknown-pragmas -Wno-long-long   -DOSI_BUILD -MT OsiRowCutTest.lo -MD -MP -MF \".deps/OsiRowCutTest.Tpo\" -c -o OsiRowCutTest.lo OsiRowCutTest.cpp; \\\n",
      "then mv -f \".deps/OsiRowCutTest.Tpo\" \".deps/OsiRowCutTest.Plo\"; else rm -f \".deps/OsiRowCutTest.Tpo\"; exit 1; fi\n",
      " g++ -DHAVE_CONFIG_H -I. -I. -I../../src/Osi -I./../Osi -I/home/pedro/.julia/v0.5/Cbc/deps/src/Cbc-2.9.8/CoinUtils/src -O3 -pipe -DNDEBUG -pedantic-errors -Wparentheses -Wreturn-type -Wcast-qual -Wall -Wpointer-arith -Wwrite-strings -Wconversion -Wno-unknown-pragmas -Wno-long-long -DOSI_BUILD -MT OsiRowCutTest.lo -MD -MP -MF .deps/OsiRowCutTest.Tpo -c OsiRowCutTest.cpp  -fPIC -DPIC -o .libs/OsiRowCutTest.o\n",
      "if /bin/bash ../../../libtool --tag=CXX --mode=compile g++ -DHAVE_CONFIG_H -I. -I`echo .` -I../../src/Osi  -I`echo ./../Osi` -I/home/pedro/.julia/v0.5/Cbc/deps/src/Cbc-2.9.8/CoinUtils/src   -O3 -pipe -DNDEBUG -pedantic-errors -Wparentheses -Wreturn-type -Wcast-qual -Wall -Wpointer-arith -Wwrite-strings -Wconversion -Wno-unknown-pragmas -Wno-long-long   -DOSI_BUILD -MT OsiSimplexAPITest.lo -MD -MP -MF \".deps/OsiSimplexAPITest.Tpo\" -c -o OsiSimplexAPITest.lo OsiSimplexAPITest.cpp; \\\n",
      "then mv -f \".deps/OsiSimplexAPITest.Tpo\" \".deps/OsiSimplexAPITest.Plo\"; else rm -f \".deps/OsiSimplexAPITest.Tpo\"; exit 1; fi\n"
     ]
    },
    {
     "name": "stderr",
     "output_type": "stream",
     "text": [
      "In file included from ../../src/Osi/OsiSolverInterface.hpp:17:0,\n",
      "                 from ../../src/Osi/OsiCut.hpp:9,\n",
      "                 from ../../src/Osi/OsiRowCut.hpp:11,\n",
      "                 from OsiRowCutTest.cpp:11:\n",
      "/home/pedro/.julia/v0.5/Cbc/deps/src/Cbc-2.9.8/CoinUtils/src/CoinFinite.hpp:17:14: warning: ‘COIN_DBL_MIN’ defined but not used [-Wunused-variable]\n",
      " const double COIN_DBL_MIN = (std::numeric_limits<double>::min)();\n",
      "              ^\n",
      "/home/pedro/.julia/v0.5/Cbc/deps/src/Cbc-2.9.8/CoinUtils/src/CoinFinite.hpp:19:14: warning: ‘COIN_INT_MAX’ defined but not used [-Wunused-variable]\n",
      " const int    COIN_INT_MAX = (std::numeric_limits<int>::max)();\n",
      "              ^\n",
      "/home/pedro/.julia/v0.5/Cbc/deps/src/Cbc-2.9.8/CoinUtils/src/CoinFinite.hpp:20:14: warning: ‘COIN_INT_MAX_AS_DOUBLE’ defined but not used [-Wunused-variable]\n",
      " const double COIN_INT_MAX_AS_DOUBLE = (std::numeric_limits<int>::max)();\n",
      "              ^\n"
     ]
    },
    {
     "name": "stdout",
     "output_type": "stream",
     "text": [
      " g++ -DHAVE_CONFIG_H -I. -I. -I../../src/Osi -I./../Osi -I/home/pedro/.julia/v0.5/Cbc/deps/src/Cbc-2.9.8/CoinUtils/src -O3 -pipe -DNDEBUG -pedantic-errors -Wparentheses -Wreturn-type -Wcast-qual -Wall -Wpointer-arith -Wwrite-strings -Wconversion -Wno-unknown-pragmas -Wno-long-long -DOSI_BUILD -MT OsiSimplexAPITest.lo -MD -MP -MF .deps/OsiSimplexAPITest.Tpo -c OsiSimplexAPITest.cpp  -fPIC -DPIC -o .libs/OsiSimplexAPITest.o\n",
      "if /bin/bash ../../../libtool --tag=CXX --mode=compile g++ -DHAVE_CONFIG_H -I. -I`echo .` -I../../src/Osi  -I`echo ./../Osi` -I/home/pedro/.julia/v0.5/Cbc/deps/src/Cbc-2.9.8/CoinUtils/src   -O3 -pipe -DNDEBUG -pedantic-errors -Wparentheses -Wreturn-type -Wcast-qual -Wall -Wpointer-arith -Wwrite-strings -Wconversion -Wno-unknown-pragmas -Wno-long-long   -DOSI_BUILD -MT OsiNetlibTest.lo -MD -MP -MF \".deps/OsiNetlibTest.Tpo\" -c -o OsiNetlibTest.lo OsiNetlibTest.cpp; \\\n",
      "then mv -f \".deps/OsiNetlibTest.Tpo\" \".deps/OsiNetlibTest.Plo\"; else rm -f \".deps/OsiNetlibTest.Tpo\"; exit 1; fi\n"
     ]
    },
    {
     "name": "stderr",
     "output_type": "stream",
     "text": [
      "In file included from OsiSimplexAPITest.cpp:26:0:\n",
      "/home/pedro/.julia/v0.5/Cbc/deps/src/Cbc-2.9.8/CoinUtils/src/CoinFinite.hpp:17:14: warning: ‘COIN_DBL_MIN’ defined but not used [-Wunused-variable]\n",
      " const double COIN_DBL_MIN = (std::numeric_limits<double>::min)();\n",
      "              ^\n",
      "/home/pedro/.julia/v0.5/Cbc/deps/src/Cbc-2.9.8/CoinUtils/src/CoinFinite.hpp:19:14: warning: ‘COIN_INT_MAX’ defined but not used [-Wunused-variable]\n",
      " const int    COIN_INT_MAX = (std::numeric_limits<int>::max)();\n",
      "              ^\n",
      "/home/pedro/.julia/v0.5/Cbc/deps/src/Cbc-2.9.8/CoinUtils/src/CoinFinite.hpp:20:14: warning: ‘COIN_INT_MAX_AS_DOUBLE’ defined but not used [-Wunused-variable]\n",
      " const double COIN_INT_MAX_AS_DOUBLE = (std::numeric_limits<int>::max)();\n",
      "              ^\n"
     ]
    },
    {
     "name": "stdout",
     "output_type": "stream",
     "text": [
      " g++ -DHAVE_CONFIG_H -I. -I. -I../../src/Osi -I./../Osi -I/home/pedro/.julia/v0.5/Cbc/deps/src/Cbc-2.9.8/CoinUtils/src -O3 -pipe -DNDEBUG -pedantic-errors -Wparentheses -Wreturn-type -Wcast-qual -Wall -Wpointer-arith -Wwrite-strings -Wconversion -Wno-unknown-pragmas -Wno-long-long -DOSI_BUILD -MT OsiNetlibTest.lo -MD -MP -MF .deps/OsiNetlibTest.Tpo -c OsiNetlibTest.cpp  -fPIC -DPIC -o .libs/OsiNetlibTest.o\n"
     ]
    },
    {
     "name": "stderr",
     "output_type": "stream",
     "text": [
      "In file included from /home/pedro/.julia/v0.5/Cbc/deps/src/Cbc-2.9.8/CoinUtils/src/CoinFloatEqual.hpp:12:0,\n",
      "                 from OsiNetlibTest.cpp:15:\n",
      "/home/pedro/.julia/v0.5/Cbc/deps/src/Cbc-2.9.8/CoinUtils/src/CoinFinite.hpp:17:14: warning: ‘COIN_DBL_MIN’ defined but not used [-Wunused-variable]\n",
      " const double COIN_DBL_MIN = (std::numeric_limits<double>::min)();\n",
      "              ^\n",
      "/home/pedro/.julia/v0.5/Cbc/deps/src/Cbc-2.9.8/CoinUtils/src/CoinFinite.hpp:18:14: warning: ‘COIN_DBL_MAX’ defined but not used [-Wunused-variable]\n",
      " const double COIN_DBL_MAX = (std::numeric_limits<double>::max)();\n",
      "              ^\n",
      "/home/pedro/.julia/v0.5/Cbc/deps/src/Cbc-2.9.8/CoinUtils/src/CoinFinite.hpp:19:14: warning: ‘COIN_INT_MAX’ defined but not used [-Wunused-variable]\n",
      " const int    COIN_INT_MAX = (std::numeric_limits<int>::max)();\n",
      "              ^\n",
      "/home/pedro/.julia/v0.5/Cbc/deps/src/Cbc-2.9.8/CoinUtils/src/CoinFinite.hpp:20:14: warning: ‘COIN_INT_MAX_AS_DOUBLE’ defined but not used [-Wunused-variable]\n",
      " const double COIN_INT_MAX_AS_DOUBLE = (std::numeric_limits<int>::max)();\n",
      "              ^\n"
     ]
    },
    {
     "name": "stdout",
     "output_type": "stream",
     "text": [
      "if /bin/bash ../../../libtool --tag=CXX --mode=compile g++ -DHAVE_CONFIG_H -I. -I`echo .` -I../../src/Osi  -I`echo ./../Osi` -I/home/pedro/.julia/v0.5/Cbc/deps/src/Cbc-2.9.8/CoinUtils/src   -O3 -pipe -DNDEBUG -pedantic-errors -Wparentheses -Wreturn-type -Wcast-qual -Wall -Wpointer-arith -Wwrite-strings -Wconversion -Wno-unknown-pragmas -Wno-long-long   -DOSI_BUILD -MT OsiUnitTestUtils.lo -MD -MP -MF \".deps/OsiUnitTestUtils.Tpo\" -c -o OsiUnitTestUtils.lo OsiUnitTestUtils.cpp; \\\n",
      "then mv -f \".deps/OsiUnitTestUtils.Tpo\" \".deps/OsiUnitTestUtils.Plo\"; else rm -f \".deps/OsiUnitTestUtils.Tpo\"; exit 1; fi\n",
      " g++ -DHAVE_CONFIG_H -I. -I. -I../../src/Osi -I./../Osi -I/home/pedro/.julia/v0.5/Cbc/deps/src/Cbc-2.9.8/CoinUtils/src -O3 -pipe -DNDEBUG -pedantic-errors -Wparentheses -Wreturn-type -Wcast-qual -Wall -Wpointer-arith -Wwrite-strings -Wconversion -Wno-unknown-pragmas -Wno-long-long -DOSI_BUILD -MT OsiUnitTestUtils.lo -MD -MP -MF .deps/OsiUnitTestUtils.Tpo -c OsiUnitTestUtils.cpp  -fPIC -DPIC -o .libs/OsiUnitTestUtils.o\n",
      "if /bin/bash ../../../libtool --tag=CXX --mode=compile g++ -DHAVE_CONFIG_H -I. -I`echo .` -I../../src/Osi  -I`echo ./../Osi` -I/home/pedro/.julia/v0.5/Cbc/deps/src/Cbc-2.9.8/CoinUtils/src   -O3 -pipe -DNDEBUG -pedantic-errors -Wparentheses -Wreturn-type -Wcast-qual -Wall -Wpointer-arith -Wwrite-strings -Wconversion -Wno-unknown-pragmas -Wno-long-long   -DOSI_BUILD -MT OsiSolverInterfaceTest.lo -MD -MP -MF \".deps/OsiSolverInterfaceTest.Tpo\" -c -o OsiSolverInterfaceTest.lo OsiSolverInterfaceTest.cpp; \\\n",
      "then mv -f \".deps/OsiSolverInterfaceTest.Tpo\" \".deps/OsiSolverInterfaceTest.Plo\"; else rm -f \".deps/OsiSolverInterfaceTest.Tpo\"; exit 1; fi\n"
     ]
    },
    {
     "name": "stderr",
     "output_type": "stream",
     "text": [
      "In file included from ../../src/Osi/OsiSolverInterface.hpp:17:0,\n",
      "                 from OsiUnitTestUtils.cpp:25:\n",
      "/home/pedro/.julia/v0.5/Cbc/deps/src/Cbc-2.9.8/CoinUtils/src/CoinFinite.hpp:17:14: warning: ‘COIN_DBL_MIN’ defined but not used [-Wunused-variable]\n",
      " const double COIN_DBL_MIN = (std::numeric_limits<double>::min)();\n",
      "              ^\n",
      "/home/pedro/.julia/v0.5/Cbc/deps/src/Cbc-2.9.8/CoinUtils/src/CoinFinite.hpp:18:14: warning: ‘COIN_DBL_MAX’ defined but not used [-Wunused-variable]\n",
      " const double COIN_DBL_MAX = (std::numeric_limits<double>::max)();\n",
      "              ^\n",
      "/home/pedro/.julia/v0.5/Cbc/deps/src/Cbc-2.9.8/CoinUtils/src/CoinFinite.hpp:19:14: warning: ‘COIN_INT_MAX’ defined but not used [-Wunused-variable]\n",
      " const int    COIN_INT_MAX = (std::numeric_limits<int>::max)();\n",
      "              ^\n",
      "/home/pedro/.julia/v0.5/Cbc/deps/src/Cbc-2.9.8/CoinUtils/src/CoinFinite.hpp:20:14: warning: ‘COIN_INT_MAX_AS_DOUBLE’ defined but not used [-Wunused-variable]\n",
      " const double COIN_INT_MAX_AS_DOUBLE = (std::numeric_limits<int>::max)();\n",
      "              ^\n"
     ]
    },
    {
     "name": "stdout",
     "output_type": "stream",
     "text": [
      " g++ -DHAVE_CONFIG_H -I. -I. -I../../src/Osi -I./../Osi -I/home/pedro/.julia/v0.5/Cbc/deps/src/Cbc-2.9.8/CoinUtils/src -O3 -pipe -DNDEBUG -pedantic-errors -Wparentheses -Wreturn-type -Wcast-qual -Wall -Wpointer-arith -Wwrite-strings -Wconversion -Wno-unknown-pragmas -Wno-long-long -DOSI_BUILD -MT OsiSolverInterfaceTest.lo -MD -MP -MF .deps/OsiSolverInterfaceTest.Tpo -c OsiSolverInterfaceTest.cpp  -fPIC -DPIC -o .libs/OsiSolverInterfaceTest.o\n"
     ]
    },
    {
     "name": "stderr",
     "output_type": "stream",
     "text": [
      "In file included from ../../src/Osi/OsiSolverInterface.hpp:17:0,\n",
      "                 from OsiSolverInterfaceTest.cpp:77:\n",
      "/home/pedro/.julia/v0.5/Cbc/deps/src/Cbc-2.9.8/CoinUtils/src/CoinFinite.hpp:20:14: warning: ‘COIN_INT_MAX_AS_DOUBLE’ defined but not used [-Wunused-variable]\n",
      " const double COIN_INT_MAX_AS_DOUBLE = (std::numeric_limits<int>::max)();\n",
      "              ^\n"
     ]
    },
    {
     "name": "stdout",
     "output_type": "stream",
     "text": [
      "/bin/bash ../../../libtool --tag=CXX --mode=link g++  -O3 -pipe -DNDEBUG -pedantic-errors -Wparentheses -Wreturn-type -Wcast-qual -Wall -Wpointer-arith -Wwrite-strings -Wconversion -Wno-unknown-pragmas -Wno-long-long   -DOSI_BUILD   -o libOsiCommonTests.la -rpath /home/pedro/.julia/v0.5/Cbc/deps/usr/lib -no-undefined -version-info 13:8:12 OsiColCutTest.lo OsiCutsTest.lo OsiRowCutDebuggerTest.lo OsiRowCutTest.lo OsiSimplexAPITest.lo OsiNetlibTest.lo OsiUnitTestUtils.lo OsiSolverInterfaceTest.lo /home/pedro/.julia/v0.5/Cbc/deps/src/Cbc-2.9.8/CoinUtils/src/libCoinUtils.la -lm  ../Osi/libOsi.la \n",
      "g++ -shared -nostdlib /usr/lib/gcc/x86_64-linux-gnu/5/../../../x86_64-linux-gnu/crti.o /usr/lib/gcc/x86_64-linux-gnu/5/crtbeginS.o  .libs/OsiColCutTest.o .libs/OsiCutsTest.o .libs/OsiRowCutDebuggerTest.o .libs/OsiRowCutTest.o .libs/OsiSimplexAPITest.o .libs/OsiNetlibTest.o .libs/OsiUnitTestUtils.o .libs/OsiSolverInterfaceTest.o  -Wl,--rpath -Wl,/home/pedro/.julia/v0.5/Cbc/deps/src/Cbc-2.9.8/CoinUtils/src/.libs -Wl,--rpath -Wl,/home/pedro/.julia/v0.5/Cbc/deps/src/Cbc-2.9.8/Osi/src/Osi/.libs -Wl,--rpath -Wl,/home/pedro/.julia/v0.5/Cbc/deps/usr/lib -L/home/pedro/.julia/v0.5/Cbc/deps/src/Cbc-2.9.8/CoinUtils/src/.libs /home/pedro/.julia/v0.5/Cbc/deps/src/Cbc-2.9.8/CoinUtils/src/.libs/libCoinUtils.so ../Osi/.libs/libOsi.so -L/usr/lib/gcc/x86_64-linux-gnu/5 -L/usr/lib/gcc/x86_64-linux-gnu/5/../../../x86_64-linux-gnu -L/usr/lib/gcc/x86_64-linux-gnu/5/../../../../lib -L/lib/x86_64-linux-gnu -L/lib/../lib -L/usr/lib/x86_64-linux-gnu -L/usr/lib/../lib -L/usr/lib/gcc/x86_64-linux-gnu/5/../../.. -lstdc++ -lm -lc -lgcc_s /usr/lib/gcc/x86_64-linux-gnu/5/crtendS.o /usr/lib/gcc/x86_64-linux-gnu/5/../../../x86_64-linux-gnu/crtn.o  -Wl,-soname -Wl,libOsiCommonTests.so.1 -o .libs/libOsiCommonTests.so.1.12.8\n",
      "(cd .libs && rm -f libOsiCommonTests.so.1 && ln -s libOsiCommonTests.so.1.12.8 libOsiCommonTests.so.1)\n",
      "(cd .libs && rm -f libOsiCommonTests.so && ln -s libOsiCommonTests.so.1.12.8 libOsiCommonTests.so)\n",
      "creating libOsiCommonTests.la\n",
      "(cd .libs && rm -f libOsiCommonTests.la && ln -s ../libOsiCommonTests.la libOsiCommonTests.la)\n",
      "make[3]: Entering directory '/home/pedro/.julia/v0.5/Cbc/deps/src/Cbc-2.9.8/Osi/src/OsiCommonTest'\n",
      "test -z \"/home/pedro/.julia/v0.5/Cbc/deps/usr/lib\" || mkdir -p -- \"/home/pedro/.julia/v0.5/Cbc/deps/usr/lib\"\n",
      " /bin/bash ../../../libtool --mode=install /usr/bin/install -c  'libOsiCommonTests.la' '/home/pedro/.julia/v0.5/Cbc/deps/usr/lib/libOsiCommonTests.la'\n",
      "(cd /home/pedro/.julia/v0.5/Cbc/deps/src/Cbc-2.9.8/Osi/src/OsiCommonTest; /bin/bash ../../../libtool  --tag=CXX --mode=relink g++ -O3 -pipe -DNDEBUG -pedantic-errors -Wparentheses -Wreturn-type -Wcast-qual -Wall -Wpointer-arith -Wwrite-strings -Wconversion -Wno-unknown-pragmas -Wno-long-long -DOSI_BUILD -o libOsiCommonTests.la -rpath /home/pedro/.julia/v0.5/Cbc/deps/usr/lib -no-undefined -version-info 13:8:12 OsiColCutTest.lo OsiCutsTest.lo OsiRowCutDebuggerTest.lo OsiRowCutTest.lo OsiSimplexAPITest.lo OsiNetlibTest.lo OsiUnitTestUtils.lo OsiSolverInterfaceTest.lo /home/pedro/.julia/v0.5/Cbc/deps/src/Cbc-2.9.8/CoinUtils/src/libCoinUtils.la -lm ../Osi/libOsi.la )\n"
     ]
    },
    {
     "name": "stderr",
     "output_type": "stream",
     "text": [
      "libtool: install: warning: relinking `libOsiCommonTests.la'\n"
     ]
    },
    {
     "name": "stdout",
     "output_type": "stream",
     "text": [
      "g++ -shared -nostdlib /usr/lib/gcc/x86_64-linux-gnu/5/../../../x86_64-linux-gnu/crti.o /usr/lib/gcc/x86_64-linux-gnu/5/crtbeginS.o  .libs/OsiColCutTest.o .libs/OsiCutsTest.o .libs/OsiRowCutDebuggerTest.o .libs/OsiRowCutTest.o .libs/OsiSimplexAPITest.o .libs/OsiNetlibTest.o .libs/OsiUnitTestUtils.o .libs/OsiSolverInterfaceTest.o  -Wl,--rpath -Wl,/home/pedro/.julia/v0.5/Cbc/deps/usr/lib -L/home/pedro/.julia/v0.5/Cbc/deps/src/Cbc-2.9.8/CoinUtils/src/.libs -L/home/pedro/.julia/v0.5/Cbc/deps/usr/lib -lCoinUtils -lOsi -L/usr/lib/gcc/x86_64-linux-gnu/5 -L/usr/lib/gcc/x86_64-linux-gnu/5/../../../x86_64-linux-gnu -L/usr/lib/gcc/x86_64-linux-gnu/5/../../../../lib -L/lib/x86_64-linux-gnu -L/lib/../lib -L/usr/lib/x86_64-linux-gnu -L/usr/lib/../lib -L/usr/lib/gcc/x86_64-linux-gnu/5/../../.. -lstdc++ -lm -lc -lgcc_s /usr/lib/gcc/x86_64-linux-gnu/5/crtendS.o /usr/lib/gcc/x86_64-linux-gnu/5/../../../x86_64-linux-gnu/crtn.o  -Wl,-soname -Wl,libOsiCommonTests.so.1 -o .libs/libOsiCommonTests.so.1.12.8\n",
      "/usr/bin/install -c .libs/libOsiCommonTests.so.1.12.8T /home/pedro/.julia/v0.5/Cbc/deps/usr/lib/libOsiCommonTests.so.1.12.8\n",
      "(cd /home/pedro/.julia/v0.5/Cbc/deps/usr/lib && { ln -s -f libOsiCommonTests.so.1.12.8 libOsiCommonTests.so.1 || { rm -f libOsiCommonTests.so.1 && ln -s libOsiCommonTests.so.1.12.8 libOsiCommonTests.so.1; }; })\n",
      "(cd /home/pedro/.julia/v0.5/Cbc/deps/usr/lib && { ln -s -f libOsiCommonTests.so.1.12.8 libOsiCommonTests.so || { rm -f libOsiCommonTests.so && ln -s libOsiCommonTests.so.1.12.8 libOsiCommonTests.so; }; })\n",
      "/usr/bin/install -c .libs/libOsiCommonTests.lai /home/pedro/.julia/v0.5/Cbc/deps/usr/lib/libOsiCommonTests.la\n",
      "PATH=\"$PATH:/sbin\" ldconfig -n /home/pedro/.julia/v0.5/Cbc/deps/usr/lib\n",
      "----------------------------------------------------------------------\n",
      "Libraries have been installed in:\n",
      "   /home/pedro/.julia/v0.5/Cbc/deps/usr/lib\n",
      "\n",
      "If you ever happen to want to link against installed libraries\n",
      "in a given directory, LIBDIR, you must either use libtool, and\n",
      "specify the full pathname of the library, or use the `-LLIBDIR'\n",
      "flag during linking and do at least one of the following:\n",
      "   - add LIBDIR to the `LD_LIBRARY_PATH' environment variable\n",
      "     during execution\n",
      "   - add LIBDIR to the `LD_RUN_PATH' environment variable\n",
      "     during linking\n",
      "   - use the `-Wl,--rpath -Wl,LIBDIR' linker flag\n",
      "   - have your system administrator add LIBDIR to `/etc/ld.so.conf'\n",
      "\n",
      "See any operating system documentation about shared libraries for\n",
      "more information, such as the ld(1) and ld.so(8) manual pages.\n",
      "----------------------------------------------------------------------\n",
      "test -z \"/home/pedro/.julia/v0.5/Cbc/deps/usr/include/coin\" || mkdir -p -- \"/home/pedro/.julia/v0.5/Cbc/deps/usr/include/coin\"\n",
      " /usr/bin/install -c -m 644 'OsiUnitTests.hpp' '/home/pedro/.julia/v0.5/Cbc/deps/usr/include/coin/OsiUnitTests.hpp'\n",
      "make[3]: Leaving directory '/home/pedro/.julia/v0.5/Cbc/deps/src/Cbc-2.9.8/Osi/src/OsiCommonTest'\n",
      "make[2]: Leaving directory '/home/pedro/.julia/v0.5/Cbc/deps/src/Cbc-2.9.8/Osi/src/OsiCommonTest'\n",
      "make[2]: Entering directory '/home/pedro/.julia/v0.5/Cbc/deps/src/Cbc-2.9.8/Osi'\n",
      "make[3]: Entering directory '/home/pedro/.julia/v0.5/Cbc/deps/src/Cbc-2.9.8/Osi'\n",
      "test -z \"/home/pedro/.julia/v0.5/Cbc/deps/usr/share/coin/doc/Osi\" || mkdir -p -- \"/home/pedro/.julia/v0.5/Cbc/deps/usr/share/coin/doc/Osi\"\n",
      "for file in README AUTHORS LICENSE ; do \\\n",
      "  if test -f \"$file\"; then dir=; else dir=\"./\"; fi; \\\n",
      "  if test -f \"$dir$file\"; then /usr/bin/install -c -m 644 \"$dir$file\" \"/home/pedro/.julia/v0.5/Cbc/deps/usr/share/coin/doc/Osi/$file\"; fi; \\\n",
      "done \n",
      "test -z \"/home/pedro/.julia/v0.5/Cbc/deps/usr/lib/pkgconfig\" || mkdir -p -- \"/home/pedro/.julia/v0.5/Cbc/deps/usr/lib/pkgconfig\"\n",
      " /usr/bin/install -c -m 644 'osi.pc' '/home/pedro/.julia/v0.5/Cbc/deps/usr/lib/pkgconfig/osi.pc'\n",
      " /usr/bin/install -c -m 644 'osi-unittests.pc' '/home/pedro/.julia/v0.5/Cbc/deps/usr/lib/pkgconfig/osi-unittests.pc'\n",
      "make  install-data-hook\n",
      "make[4]: Entering directory '/home/pedro/.julia/v0.5/Cbc/deps/src/Cbc-2.9.8/Osi'\n",
      "PKG_CONFIG_PATH=/home/pedro/.julia/v0.5/Cbc/deps/usr/lib64/pkgconfig:/home/pedro/.julia/v0.5/Cbc/deps/usr/lib/pkgconfig:/home/pedro/.julia/v0.5/Cbc/deps/usr/share/pkgconfig::/home/pedro/.julia/v0.5/Cbc/deps/usr/lib/pkgconfig \\\n",
      "pkg-config --libs osi > /home/pedro/.julia/v0.5/Cbc/deps/usr/share/coin/doc/Osi/osi_addlibs.txt\n",
      "make[4]: Leaving directory '/home/pedro/.julia/v0.5/Cbc/deps/src/Cbc-2.9.8/Osi'\n",
      "make[3]: Leaving directory '/home/pedro/.julia/v0.5/Cbc/deps/src/Cbc-2.9.8/Osi'\n",
      "make[2]: Leaving directory '/home/pedro/.julia/v0.5/Cbc/deps/src/Cbc-2.9.8/Osi'\n",
      "make[1]: Leaving directory '/home/pedro/.julia/v0.5/Cbc/deps/src/Cbc-2.9.8/Osi'\n",
      "Making install in Clp\n",
      "make[1]: Entering directory '/home/pedro/.julia/v0.5/Cbc/deps/src/Cbc-2.9.8/Clp'\n",
      "Making install in src\n",
      "make[2]: Entering directory '/home/pedro/.julia/v0.5/Cbc/deps/src/Cbc-2.9.8/Clp/src'\n",
      "if /bin/bash ../../libtool --tag=CXX --mode=compile g++ -DHAVE_CONFIG_H -I. -I`echo .`  -I/home/pedro/.julia/v0.5/Cbc/deps/src/Cbc-2.9.8/CoinUtils/src  -DCOIN_HAS_CLP     -O3 -pipe -DNDEBUG -pedantic-errors -Wparentheses -Wreturn-type -Wcast-qual -Wall -Wpointer-arith -Wwrite-strings -Wconversion -Wno-unknown-pragmas -Wno-long-long   -DCLP_BUILD -MT ClpCholeskyBase.lo -MD -MP -MF \".deps/ClpCholeskyBase.Tpo\" -c -o ClpCholeskyBase.lo ClpCholeskyBase.cpp; \\\n",
      "then mv -f \".deps/ClpCholeskyBase.Tpo\" \".deps/ClpCholeskyBase.Plo\"; else rm -f \".deps/ClpCholeskyBase.Tpo\"; exit 1; fi\n",
      "mkdir .libs\n",
      " g++ -DHAVE_CONFIG_H -I. -I. -I/home/pedro/.julia/v0.5/Cbc/deps/src/Cbc-2.9.8/CoinUtils/src -DCOIN_HAS_CLP -O3 -pipe -DNDEBUG -pedantic-errors -Wparentheses -Wreturn-type -Wcast-qual -Wall -Wpointer-arith -Wwrite-strings -Wconversion -Wno-unknown-pragmas -Wno-long-long -DCLP_BUILD -MT ClpCholeskyBase.lo -MD -MP -MF .deps/ClpCholeskyBase.Tpo -c ClpCholeskyBase.cpp  -fPIC -DPIC -o .libs/ClpCholeskyBase.o\n",
      "if /bin/bash ../../libtool --tag=CXX --mode=compile g++ -DHAVE_CONFIG_H -I. -I`echo .`  -I/home/pedro/.julia/v0.5/Cbc/deps/src/Cbc-2.9.8/CoinUtils/src  -DCOIN_HAS_CLP     -O3 -pipe -DNDEBUG -pedantic-errors -Wparentheses -Wreturn-type -Wcast-qual -Wall -Wpointer-arith -Wwrite-strings -Wconversion -Wno-unknown-pragmas -Wno-long-long   -DCLP_BUILD -MT ClpCholeskyDense.lo -MD -MP -MF \".deps/ClpCholeskyDense.Tpo\" -c -o ClpCholeskyDense.lo ClpCholeskyDense.cpp; \\\n",
      "then mv -f \".deps/ClpCholeskyDense.Tpo\" \".deps/ClpCholeskyDense.Plo\"; else rm -f \".deps/ClpCholeskyDense.Tpo\"; exit 1; fi\n"
     ]
    },
    {
     "name": "stderr",
     "output_type": "stream",
     "text": [
      "In file included from ClpModel.hpp:23:0,\n",
      "                 from ClpInterior.hpp:20,\n",
      "                 from ClpCholeskyBase.cpp:29:\n",
      "/home/pedro/.julia/v0.5/Cbc/deps/src/Cbc-2.9.8/CoinUtils/src/CoinFinite.hpp:17:14: warning: ‘COIN_DBL_MIN’ defined but not used [-Wunused-variable]\n",
      " const double COIN_DBL_MIN = (std::numeric_limits<double>::min)();\n",
      "              ^\n",
      "/home/pedro/.julia/v0.5/Cbc/deps/src/Cbc-2.9.8/CoinUtils/src/CoinFinite.hpp:19:14: warning: ‘COIN_INT_MAX’ defined but not used [-Wunused-variable]\n",
      " const int    COIN_INT_MAX = (std::numeric_limits<int>::max)();\n",
      "              ^\n",
      "/home/pedro/.julia/v0.5/Cbc/deps/src/Cbc-2.9.8/CoinUtils/src/CoinFinite.hpp:20:14: warning: ‘COIN_INT_MAX_AS_DOUBLE’ defined but not used [-Wunused-variable]\n",
      " const double COIN_INT_MAX_AS_DOUBLE = (std::numeric_limits<int>::max)();\n",
      "              ^\n"
     ]
    },
    {
     "name": "stdout",
     "output_type": "stream",
     "text": [
      " g++ -DHAVE_CONFIG_H -I. -I. -I/home/pedro/.julia/v0.5/Cbc/deps/src/Cbc-2.9.8/CoinUtils/src -DCOIN_HAS_CLP -O3 -pipe -DNDEBUG -pedantic-errors -Wparentheses -Wreturn-type -Wcast-qual -Wall -Wpointer-arith -Wwrite-strings -Wconversion -Wno-unknown-pragmas -Wno-long-long -DCLP_BUILD -MT ClpCholeskyDense.lo -MD -MP -MF .deps/ClpCholeskyDense.Tpo -c ClpCholeskyDense.cpp  -fPIC -DPIC -o .libs/ClpCholeskyDense.o\n",
      "if /bin/bash ../../libtool --tag=CXX --mode=compile g++ -DHAVE_CONFIG_H -I. -I`echo .`  -I/home/pedro/.julia/v0.5/Cbc/deps/src/Cbc-2.9.8/CoinUtils/src  -DCOIN_HAS_CLP     -O3 -pipe -DNDEBUG -pedantic-errors -Wparentheses -Wreturn-type -Wcast-qual -Wall -Wpointer-arith -Wwrite-strings -Wconversion -Wno-unknown-pragmas -Wno-long-long   -DCLP_BUILD -MT ClpConstraint.lo -MD -MP -MF \".deps/ClpConstraint.Tpo\" -c -o ClpConstraint.lo ClpConstraint.cpp; \\\n",
      "then mv -f \".deps/ClpConstraint.Tpo\" \".deps/ClpConstraint.Plo\"; else rm -f \".deps/ClpConstraint.Tpo\"; exit 1; fi\n"
     ]
    },
    {
     "name": "stderr",
     "output_type": "stream",
     "text": [
      "In file included from ClpModel.hpp:23:0,\n",
      "                 from ClpInterior.hpp:20,\n",
      "                 from ClpCholeskyDense.cpp:12:\n",
      "/home/pedro/.julia/v0.5/Cbc/deps/src/Cbc-2.9.8/CoinUtils/src/CoinFinite.hpp:17:14: warning: ‘COIN_DBL_MIN’ defined but not used [-Wunused-variable]\n",
      " const double COIN_DBL_MIN = (std::numeric_limits<double>::min)();\n",
      "              ^\n",
      "/home/pedro/.julia/v0.5/Cbc/deps/src/Cbc-2.9.8/CoinUtils/src/CoinFinite.hpp:19:14: warning: ‘COIN_INT_MAX’ defined but not used [-Wunused-variable]\n",
      " const int    COIN_INT_MAX = (std::numeric_limits<int>::max)();\n",
      "              ^\n",
      "/home/pedro/.julia/v0.5/Cbc/deps/src/Cbc-2.9.8/CoinUtils/src/CoinFinite.hpp:20:14: warning: ‘COIN_INT_MAX_AS_DOUBLE’ defined but not used [-Wunused-variable]\n",
      " const double COIN_INT_MAX_AS_DOUBLE = (std::numeric_limits<int>::max)();\n",
      "              ^\n"
     ]
    },
    {
     "name": "stdout",
     "output_type": "stream",
     "text": [
      " g++ -DHAVE_CONFIG_H -I. -I. -I/home/pedro/.julia/v0.5/Cbc/deps/src/Cbc-2.9.8/CoinUtils/src -DCOIN_HAS_CLP -O3 -pipe -DNDEBUG -pedantic-errors -Wparentheses -Wreturn-type -Wcast-qual -Wall -Wpointer-arith -Wwrite-strings -Wconversion -Wno-unknown-pragmas -Wno-long-long -DCLP_BUILD -MT ClpConstraint.lo -MD -MP -MF .deps/ClpConstraint.Tpo -c ClpConstraint.cpp  -fPIC -DPIC -o .libs/ClpConstraint.o\n",
      "if /bin/bash ../../libtool --tag=CXX --mode=compile g++ -DHAVE_CONFIG_H -I. -I`echo .`  -I/home/pedro/.julia/v0.5/Cbc/deps/src/Cbc-2.9.8/CoinUtils/src  -DCOIN_HAS_CLP     -O3 -pipe -DNDEBUG -pedantic-errors -Wparentheses -Wreturn-type -Wcast-qual -Wall -Wpointer-arith -Wwrite-strings -Wconversion -Wno-unknown-pragmas -Wno-long-long   -DCLP_BUILD -MT ClpConstraintLinear.lo -MD -MP -MF \".deps/ClpConstraintLinear.Tpo\" -c -o ClpConstraintLinear.lo ClpConstraintLinear.cpp; \\\n",
      "then mv -f \".deps/ClpConstraintLinear.Tpo\" \".deps/ClpConstraintLinear.Plo\"; else rm -f \".deps/ClpConstraintLinear.Tpo\"; exit 1; fi\n"
     ]
    },
    {
     "name": "stderr",
     "output_type": "stream",
     "text": [
      "In file included from ClpModel.hpp:23:0,\n",
      "                 from ClpSimplex.hpp:16,\n",
      "                 from ClpConstraint.cpp:7:\n",
      "/home/pedro/.julia/v0.5/Cbc/deps/src/Cbc-2.9.8/CoinUtils/src/CoinFinite.hpp:17:14: warning: ‘COIN_DBL_MIN’ defined but not used [-Wunused-variable]\n",
      " const double COIN_DBL_MIN = (std::numeric_limits<double>::min)();\n",
      "              ^\n",
      "/home/pedro/.julia/v0.5/Cbc/deps/src/Cbc-2.9.8/CoinUtils/src/CoinFinite.hpp:19:14: warning: ‘COIN_INT_MAX’ defined but not used [-Wunused-variable]\n",
      " const int    COIN_INT_MAX = (std::numeric_limits<int>::max)();\n",
      "              ^\n",
      "/home/pedro/.julia/v0.5/Cbc/deps/src/Cbc-2.9.8/CoinUtils/src/CoinFinite.hpp:20:14: warning: ‘COIN_INT_MAX_AS_DOUBLE’ defined but not used [-Wunused-variable]\n",
      " const double COIN_INT_MAX_AS_DOUBLE = (std::numeric_limits<int>::max)();\n",
      "              ^\n"
     ]
    },
    {
     "name": "stdout",
     "output_type": "stream",
     "text": [
      " g++ -DHAVE_CONFIG_H -I. -I. -I/home/pedro/.julia/v0.5/Cbc/deps/src/Cbc-2.9.8/CoinUtils/src -DCOIN_HAS_CLP -O3 -pipe -DNDEBUG -pedantic-errors -Wparentheses -Wreturn-type -Wcast-qual -Wall -Wpointer-arith -Wwrite-strings -Wconversion -Wno-unknown-pragmas -Wno-long-long -DCLP_BUILD -MT ClpConstraintLinear.lo -MD -MP -MF .deps/ClpConstraintLinear.Tpo -c ClpConstraintLinear.cpp  -fPIC -DPIC -o .libs/ClpConstraintLinear.o\n"
     ]
    },
    {
     "name": "stderr",
     "output_type": "stream",
     "text": [
      "In file included from /home/pedro/.julia/v0.5/Cbc/deps/src/Cbc-2.9.8/CoinUtils/src/CoinIndexedVector.hpp:15:0,\n",
      "                 from ClpConstraintLinear.cpp:8:\n",
      "/home/pedro/.julia/v0.5/Cbc/deps/src/Cbc-2.9.8/CoinUtils/src/CoinFinite.hpp:19:14: warning: ‘COIN_INT_MAX’ defined but not used [-Wunused-variable]\n",
      " const int    COIN_INT_MAX = (std::numeric_limits<int>::max)();\n",
      "              ^\n",
      "/home/pedro/.julia/v0.5/Cbc/deps/src/Cbc-2.9.8/CoinUtils/src/CoinFinite.hpp:20:14: warning: ‘COIN_INT_MAX_AS_DOUBLE’ defined but not used [-Wunused-variable]\n",
      " const double COIN_INT_MAX_AS_DOUBLE = (std::numeric_limits<int>::max)();\n",
      "              ^\n"
     ]
    },
    {
     "name": "stdout",
     "output_type": "stream",
     "text": [
      "if /bin/bash ../../libtool --tag=CXX --mode=compile g++ -DHAVE_CONFIG_H -I. -I`echo .`  -I/home/pedro/.julia/v0.5/Cbc/deps/src/Cbc-2.9.8/CoinUtils/src  -DCOIN_HAS_CLP     -O3 -pipe -DNDEBUG -pedantic-errors -Wparentheses -Wreturn-type -Wcast-qual -Wall -Wpointer-arith -Wwrite-strings -Wconversion -Wno-unknown-pragmas -Wno-long-long   -DCLP_BUILD -MT ClpConstraintQuadratic.lo -MD -MP -MF \".deps/ClpConstraintQuadratic.Tpo\" -c -o ClpConstraintQuadratic.lo ClpConstraintQuadratic.cpp; \\\n",
      "then mv -f \".deps/ClpConstraintQuadratic.Tpo\" \".deps/ClpConstraintQuadratic.Plo\"; else rm -f \".deps/ClpConstraintQuadratic.Tpo\"; exit 1; fi\n",
      " g++ -DHAVE_CONFIG_H -I. -I. -I/home/pedro/.julia/v0.5/Cbc/deps/src/Cbc-2.9.8/CoinUtils/src -DCOIN_HAS_CLP -O3 -pipe -DNDEBUG -pedantic-errors -Wparentheses -Wreturn-type -Wcast-qual -Wall -Wpointer-arith -Wwrite-strings -Wconversion -Wno-unknown-pragmas -Wno-long-long -DCLP_BUILD -MT ClpConstraintQuadratic.lo -MD -MP -MF .deps/ClpConstraintQuadratic.Tpo -c ClpConstraintQuadratic.cpp  -fPIC -DPIC -o .libs/ClpConstraintQuadratic.o\n",
      "if /bin/bash ../../libtool --tag=CXX --mode=compile g++ -DHAVE_CONFIG_H -I. -I`echo .`  -I/home/pedro/.julia/v0.5/Cbc/deps/src/Cbc-2.9.8/CoinUtils/src  -DCOIN_HAS_CLP     -O3 -pipe -DNDEBUG -pedantic-errors -Wparentheses -Wreturn-type -Wcast-qual -Wall -Wpointer-arith -Wwrite-strings -Wconversion -Wno-unknown-pragmas -Wno-long-long   -DCLP_BUILD -MT Clp_C_Interface.lo -MD -MP -MF \".deps/Clp_C_Interface.Tpo\" -c -o Clp_C_Interface.lo Clp_C_Interface.cpp; \\\n",
      "then mv -f \".deps/Clp_C_Interface.Tpo\" \".deps/Clp_C_Interface.Plo\"; else rm -f \".deps/Clp_C_Interface.Tpo\"; exit 1; fi\n"
     ]
    },
    {
     "name": "stderr",
     "output_type": "stream",
     "text": [
      "In file included from /home/pedro/.julia/v0.5/Cbc/deps/src/Cbc-2.9.8/CoinUtils/src/CoinIndexedVector.hpp:15:0,\n",
      "                 from ClpConstraintQuadratic.cpp:8:\n",
      "/home/pedro/.julia/v0.5/Cbc/deps/src/Cbc-2.9.8/CoinUtils/src/CoinFinite.hpp:19:14: warning: ‘COIN_INT_MAX’ defined but not used [-Wunused-variable]\n",
      " const int    COIN_INT_MAX = (std::numeric_limits<int>::max)();\n",
      "              ^\n",
      "/home/pedro/.julia/v0.5/Cbc/deps/src/Cbc-2.9.8/CoinUtils/src/CoinFinite.hpp:20:14: warning: ‘COIN_INT_MAX_AS_DOUBLE’ defined but not used [-Wunused-variable]\n",
      " const double COIN_INT_MAX_AS_DOUBLE = (std::numeric_limits<int>::max)();\n",
      "              ^\n"
     ]
    },
    {
     "name": "stdout",
     "output_type": "stream",
     "text": [
      " g++ -DHAVE_CONFIG_H -I. -I. -I/home/pedro/.julia/v0.5/Cbc/deps/src/Cbc-2.9.8/CoinUtils/src -DCOIN_HAS_CLP -O3 -pipe -DNDEBUG -pedantic-errors -Wparentheses -Wreturn-type -Wcast-qual -Wall -Wpointer-arith -Wwrite-strings -Wconversion -Wno-unknown-pragmas -Wno-long-long -DCLP_BUILD -MT Clp_C_Interface.lo -MD -MP -MF .deps/Clp_C_Interface.Tpo -c Clp_C_Interface.cpp  -fPIC -DPIC -o .libs/Clp_C_Interface.o\n",
      "if /bin/bash ../../libtool --tag=CXX --mode=compile g++ -DHAVE_CONFIG_H -I. -I`echo .`  -I/home/pedro/.julia/v0.5/Cbc/deps/src/Cbc-2.9.8/CoinUtils/src  -DCOIN_HAS_CLP     -O3 -pipe -DNDEBUG -pedantic-errors -Wparentheses -Wreturn-type -Wcast-qual -Wall -Wpointer-arith -Wwrite-strings -Wconversion -Wno-unknown-pragmas -Wno-long-long   -DCLP_BUILD -MT ClpDualRowDantzig.lo -MD -MP -MF \".deps/ClpDualRowDantzig.Tpo\" -c -o ClpDualRowDantzig.lo ClpDualRowDantzig.cpp; \\\n",
      "then mv -f \".deps/ClpDualRowDantzig.Tpo\" \".deps/ClpDualRowDantzig.Plo\"; else rm -f \".deps/ClpDualRowDantzig.Tpo\"; exit 1; fi\n"
     ]
    },
    {
     "name": "stderr",
     "output_type": "stream",
     "text": [
      "In file included from ClpModel.hpp:23:0,\n",
      "                 from ClpSimplex.hpp:16,\n",
      "                 from Clp_C_Interface.cpp:14:\n",
      "/home/pedro/.julia/v0.5/Cbc/deps/src/Cbc-2.9.8/CoinUtils/src/CoinFinite.hpp:17:14: warning: ‘COIN_DBL_MIN’ defined but not used [-Wunused-variable]\n",
      " const double COIN_DBL_MIN = (std::numeric_limits<double>::min)();\n",
      "              ^\n",
      "/home/pedro/.julia/v0.5/Cbc/deps/src/Cbc-2.9.8/CoinUtils/src/CoinFinite.hpp:19:14: warning: ‘COIN_INT_MAX’ defined but not used [-Wunused-variable]\n",
      " const int    COIN_INT_MAX = (std::numeric_limits<int>::max)();\n",
      "              ^\n",
      "/home/pedro/.julia/v0.5/Cbc/deps/src/Cbc-2.9.8/CoinUtils/src/CoinFinite.hpp:20:14: warning: ‘COIN_INT_MAX_AS_DOUBLE’ defined but not used [-Wunused-variable]\n",
      " const double COIN_INT_MAX_AS_DOUBLE = (std::numeric_limits<int>::max)();\n",
      "              ^\n"
     ]
    },
    {
     "name": "stdout",
     "output_type": "stream",
     "text": [
      " g++ -DHAVE_CONFIG_H -I. -I. -I/home/pedro/.julia/v0.5/Cbc/deps/src/Cbc-2.9.8/CoinUtils/src -DCOIN_HAS_CLP -O3 -pipe -DNDEBUG -pedantic-errors -Wparentheses -Wreturn-type -Wcast-qual -Wall -Wpointer-arith -Wwrite-strings -Wconversion -Wno-unknown-pragmas -Wno-long-long -DCLP_BUILD -MT ClpDualRowDantzig.lo -MD -MP -MF .deps/ClpDualRowDantzig.Tpo -c ClpDualRowDantzig.cpp  -fPIC -DPIC -o .libs/ClpDualRowDantzig.o\n",
      "if /bin/bash ../../libtool --tag=CXX --mode=compile g++ -DHAVE_CONFIG_H -I. -I`echo .`  -I/home/pedro/.julia/v0.5/Cbc/deps/src/Cbc-2.9.8/CoinUtils/src  -DCOIN_HAS_CLP     -O3 -pipe -DNDEBUG -pedantic-errors -Wparentheses -Wreturn-type -Wcast-qual -Wall -Wpointer-arith -Wwrite-strings -Wconversion -Wno-unknown-pragmas -Wno-long-long   -DCLP_BUILD -MT ClpDualRowPivot.lo -MD -MP -MF \".deps/ClpDualRowPivot.Tpo\" -c -o ClpDualRowPivot.lo ClpDualRowPivot.cpp; \\\n",
      "then mv -f \".deps/ClpDualRowPivot.Tpo\" \".deps/ClpDualRowPivot.Plo\"; else rm -f \".deps/ClpDualRowPivot.Tpo\"; exit 1; fi\n"
     ]
    },
    {
     "name": "stderr",
     "output_type": "stream",
     "text": [
      "In file included from ClpModel.hpp:23:0,\n",
      "                 from ClpSimplex.hpp:16,\n",
      "                 from ClpDualRowDantzig.cpp:7:\n",
      "/home/pedro/.julia/v0.5/Cbc/deps/src/Cbc-2.9.8/CoinUtils/src/CoinFinite.hpp:19:14: warning: ‘COIN_INT_MAX’ defined but not used [-Wunused-variable]\n",
      " const int    COIN_INT_MAX = (std::numeric_limits<int>::max)();\n",
      "              ^\n",
      "/home/pedro/.julia/v0.5/Cbc/deps/src/Cbc-2.9.8/CoinUtils/src/CoinFinite.hpp:20:14: warning: ‘COIN_INT_MAX_AS_DOUBLE’ defined but not used [-Wunused-variable]\n",
      " const double COIN_INT_MAX_AS_DOUBLE = (std::numeric_limits<int>::max)();\n",
      "              ^\n"
     ]
    },
    {
     "name": "stdout",
     "output_type": "stream",
     "text": [
      " g++ -DHAVE_CONFIG_H -I. -I. -I/home/pedro/.julia/v0.5/Cbc/deps/src/Cbc-2.9.8/CoinUtils/src -DCOIN_HAS_CLP -O3 -pipe -DNDEBUG -pedantic-errors -Wparentheses -Wreturn-type -Wcast-qual -Wall -Wpointer-arith -Wwrite-strings -Wconversion -Wno-unknown-pragmas -Wno-long-long -DCLP_BUILD -MT ClpDualRowPivot.lo -MD -MP -MF .deps/ClpDualRowPivot.Tpo -c ClpDualRowPivot.cpp  -fPIC -DPIC -o .libs/ClpDualRowPivot.o\n",
      "if /bin/bash ../../libtool --tag=CXX --mode=compile g++ -DHAVE_CONFIG_H -I. -I`echo .`  -I/home/pedro/.julia/v0.5/Cbc/deps/src/Cbc-2.9.8/CoinUtils/src  -DCOIN_HAS_CLP     -O3 -pipe -DNDEBUG -pedantic-errors -Wparentheses -Wreturn-type -Wcast-qual -Wall -Wpointer-arith -Wwrite-strings -Wconversion -Wno-unknown-pragmas -Wno-long-long   -DCLP_BUILD -MT ClpDualRowSteepest.lo -MD -MP -MF \".deps/ClpDualRowSteepest.Tpo\" -c -o ClpDualRowSteepest.lo ClpDualRowSteepest.cpp; \\\n",
      "then mv -f \".deps/ClpDualRowSteepest.Tpo\" \".deps/ClpDualRowSteepest.Plo\"; else rm -f \".deps/ClpDualRowSteepest.Tpo\"; exit 1; fi\n"
     ]
    },
    {
     "name": "stderr",
     "output_type": "stream",
     "text": [
      "In file included from ClpModel.hpp:23:0,\n",
      "                 from ClpSimplex.hpp:16,\n",
      "                 from ClpDualRowPivot.cpp:7:\n",
      "/home/pedro/.julia/v0.5/Cbc/deps/src/Cbc-2.9.8/CoinUtils/src/CoinFinite.hpp:17:14: warning: ‘COIN_DBL_MIN’ defined but not used [-Wunused-variable]\n",
      " const double COIN_DBL_MIN = (std::numeric_limits<double>::min)();\n",
      "              ^\n",
      "/home/pedro/.julia/v0.5/Cbc/deps/src/Cbc-2.9.8/CoinUtils/src/CoinFinite.hpp:19:14: warning: ‘COIN_INT_MAX’ defined but not used [-Wunused-variable]\n",
      " const int    COIN_INT_MAX = (std::numeric_limits<int>::max)();\n",
      "              ^\n",
      "/home/pedro/.julia/v0.5/Cbc/deps/src/Cbc-2.9.8/CoinUtils/src/CoinFinite.hpp:20:14: warning: ‘COIN_INT_MAX_AS_DOUBLE’ defined but not used [-Wunused-variable]\n",
      " const double COIN_INT_MAX_AS_DOUBLE = (std::numeric_limits<int>::max)();\n",
      "              ^\n"
     ]
    },
    {
     "name": "stdout",
     "output_type": "stream",
     "text": [
      " g++ -DHAVE_CONFIG_H -I. -I. -I/home/pedro/.julia/v0.5/Cbc/deps/src/Cbc-2.9.8/CoinUtils/src -DCOIN_HAS_CLP -O3 -pipe -DNDEBUG -pedantic-errors -Wparentheses -Wreturn-type -Wcast-qual -Wall -Wpointer-arith -Wwrite-strings -Wconversion -Wno-unknown-pragmas -Wno-long-long -DCLP_BUILD -MT ClpDualRowSteepest.lo -MD -MP -MF .deps/ClpDualRowSteepest.Tpo -c ClpDualRowSteepest.cpp  -fPIC -DPIC -o .libs/ClpDualRowSteepest.o\n",
      "if /bin/bash ../../libtool --tag=CXX --mode=compile g++ -DHAVE_CONFIG_H -I. -I`echo .`  -I/home/pedro/.julia/v0.5/Cbc/deps/src/Cbc-2.9.8/CoinUtils/src  -DCOIN_HAS_CLP     -O3 -pipe -DNDEBUG -pedantic-errors -Wparentheses -Wreturn-type -Wcast-qual -Wall -Wpointer-arith -Wwrite-strings -Wconversion -Wno-unknown-pragmas -Wno-long-long   -DCLP_BUILD -MT ClpDummyMatrix.lo -MD -MP -MF \".deps/ClpDummyMatrix.Tpo\" -c -o ClpDummyMatrix.lo ClpDummyMatrix.cpp; \\\n",
      "then mv -f \".deps/ClpDummyMatrix.Tpo\" \".deps/ClpDummyMatrix.Plo\"; else rm -f \".deps/ClpDummyMatrix.Tpo\"; exit 1; fi\n"
     ]
    },
    {
     "name": "stderr",
     "output_type": "stream",
     "text": [
      "In file included from ClpModel.hpp:23:0,\n",
      "                 from ClpSimplex.hpp:16,\n",
      "                 from ClpDualRowSteepest.cpp:7:\n",
      "/home/pedro/.julia/v0.5/Cbc/deps/src/Cbc-2.9.8/CoinUtils/src/CoinFinite.hpp:19:14: warning: ‘COIN_INT_MAX’ defined but not used [-Wunused-variable]\n",
      " const int    COIN_INT_MAX = (std::numeric_limits<int>::max)();\n",
      "              ^\n",
      "/home/pedro/.julia/v0.5/Cbc/deps/src/Cbc-2.9.8/CoinUtils/src/CoinFinite.hpp:20:14: warning: ‘COIN_INT_MAX_AS_DOUBLE’ defined but not used [-Wunused-variable]\n",
      " const double COIN_INT_MAX_AS_DOUBLE = (std::numeric_limits<int>::max)();\n",
      "              ^\n"
     ]
    },
    {
     "name": "stdout",
     "output_type": "stream",
     "text": [
      " g++ -DHAVE_CONFIG_H -I. -I. -I/home/pedro/.julia/v0.5/Cbc/deps/src/Cbc-2.9.8/CoinUtils/src -DCOIN_HAS_CLP -O3 -pipe -DNDEBUG -pedantic-errors -Wparentheses -Wreturn-type -Wcast-qual -Wall -Wpointer-arith -Wwrite-strings -Wconversion -Wno-unknown-pragmas -Wno-long-long -DCLP_BUILD -MT ClpDummyMatrix.lo -MD -MP -MF .deps/ClpDummyMatrix.Tpo -c ClpDummyMatrix.cpp  -fPIC -DPIC -o .libs/ClpDummyMatrix.o\n",
      "if /bin/bash ../../libtool --tag=CXX --mode=compile g++ -DHAVE_CONFIG_H -I. -I`echo .`  -I/home/pedro/.julia/v0.5/Cbc/deps/src/Cbc-2.9.8/CoinUtils/src  -DCOIN_HAS_CLP     -O3 -pipe -DNDEBUG -pedantic-errors -Wparentheses -Wreturn-type -Wcast-qual -Wall -Wpointer-arith -Wwrite-strings -Wconversion -Wno-unknown-pragmas -Wno-long-long   -DCLP_BUILD -MT ClpDynamicExampleMatrix.lo -MD -MP -MF \".deps/ClpDynamicExampleMatrix.Tpo\" -c -o ClpDynamicExampleMatrix.lo ClpDynamicExampleMatrix.cpp; \\\n",
      "then mv -f \".deps/ClpDynamicExampleMatrix.Tpo\" \".deps/ClpDynamicExampleMatrix.Plo\"; else rm -f \".deps/ClpDynamicExampleMatrix.Tpo\"; exit 1; fi\n"
     ]
    },
    {
     "name": "stderr",
     "output_type": "stream",
     "text": [
      "In file included from ClpModel.hpp:23:0,\n",
      "                 from ClpSimplex.hpp:16,\n",
      "                 from ClpDummyMatrix.cpp:10:\n",
      "/home/pedro/.julia/v0.5/Cbc/deps/src/Cbc-2.9.8/CoinUtils/src/CoinFinite.hpp:19:14: warning: ‘COIN_INT_MAX’ defined but not used [-Wunused-variable]\n",
      " const int    COIN_INT_MAX = (std::numeric_limits<int>::max)();\n",
      "              ^\n",
      "/home/pedro/.julia/v0.5/Cbc/deps/src/Cbc-2.9.8/CoinUtils/src/CoinFinite.hpp:20:14: warning: ‘COIN_INT_MAX_AS_DOUBLE’ defined but not used [-Wunused-variable]\n",
      " const double COIN_INT_MAX_AS_DOUBLE = (std::numeric_limits<int>::max)();\n",
      "              ^\n"
     ]
    },
    {
     "name": "stdout",
     "output_type": "stream",
     "text": [
      " g++ -DHAVE_CONFIG_H -I. -I. -I/home/pedro/.julia/v0.5/Cbc/deps/src/Cbc-2.9.8/CoinUtils/src -DCOIN_HAS_CLP -O3 -pipe -DNDEBUG -pedantic-errors -Wparentheses -Wreturn-type -Wcast-qual -Wall -Wpointer-arith -Wwrite-strings -Wconversion -Wno-unknown-pragmas -Wno-long-long -DCLP_BUILD -MT ClpDynamicExampleMatrix.lo -MD -MP -MF .deps/ClpDynamicExampleMatrix.Tpo -c ClpDynamicExampleMatrix.cpp  -fPIC -DPIC -o .libs/ClpDynamicExampleMatrix.o\n",
      "if /bin/bash ../../libtool --tag=CXX --mode=compile g++ -DHAVE_CONFIG_H -I. -I`echo .`  -I/home/pedro/.julia/v0.5/Cbc/deps/src/Cbc-2.9.8/CoinUtils/src  -DCOIN_HAS_CLP     -O3 -pipe -DNDEBUG -pedantic-errors -Wparentheses -Wreturn-type -Wcast-qual -Wall -Wpointer-arith -Wwrite-strings -Wconversion -Wno-unknown-pragmas -Wno-long-long   -DCLP_BUILD -MT ClpDynamicMatrix.lo -MD -MP -MF \".deps/ClpDynamicMatrix.Tpo\" -c -o ClpDynamicMatrix.lo ClpDynamicMatrix.cpp; \\\n",
      "then mv -f \".deps/ClpDynamicMatrix.Tpo\" \".deps/ClpDynamicMatrix.Plo\"; else rm -f \".deps/ClpDynamicMatrix.Tpo\"; exit 1; fi\n"
     ]
    },
    {
     "name": "stderr",
     "output_type": "stream",
     "text": [
      "In file included from /home/pedro/.julia/v0.5/Cbc/deps/src/Cbc-2.9.8/CoinUtils/src/CoinIndexedVector.hpp:15:0,\n",
      "                 from ClpDynamicExampleMatrix.cpp:9:\n",
      "/home/pedro/.julia/v0.5/Cbc/deps/src/Cbc-2.9.8/CoinUtils/src/CoinFinite.hpp:19:14: warning: ‘COIN_INT_MAX’ defined but not used [-Wunused-variable]\n",
      " const int    COIN_INT_MAX = (std::numeric_limits<int>::max)();\n",
      "              ^\n",
      "/home/pedro/.julia/v0.5/Cbc/deps/src/Cbc-2.9.8/CoinUtils/src/CoinFinite.hpp:20:14: warning: ‘COIN_INT_MAX_AS_DOUBLE’ defined but not used [-Wunused-variable]\n",
      " const double COIN_INT_MAX_AS_DOUBLE = (std::numeric_limits<int>::max)();\n",
      "              ^\n"
     ]
    },
    {
     "name": "stdout",
     "output_type": "stream",
     "text": [
      " g++ -DHAVE_CONFIG_H -I. -I. -I/home/pedro/.julia/v0.5/Cbc/deps/src/Cbc-2.9.8/CoinUtils/src -DCOIN_HAS_CLP -O3 -pipe -DNDEBUG -pedantic-errors -Wparentheses -Wreturn-type -Wcast-qual -Wall -Wpointer-arith -Wwrite-strings -Wconversion -Wno-unknown-pragmas -Wno-long-long -DCLP_BUILD -MT ClpDynamicMatrix.lo -MD -MP -MF .deps/ClpDynamicMatrix.Tpo -c ClpDynamicMatrix.cpp  -fPIC -DPIC -o .libs/ClpDynamicMatrix.o\n",
      "if /bin/bash ../../libtool --tag=CXX --mode=compile g++ -DHAVE_CONFIG_H -I. -I`echo .`  -I/home/pedro/.julia/v0.5/Cbc/deps/src/Cbc-2.9.8/CoinUtils/src  -DCOIN_HAS_CLP     -O3 -pipe -DNDEBUG -pedantic-errors -Wparentheses -Wreturn-type -Wcast-qual -Wall -Wpointer-arith -Wwrite-strings -Wconversion -Wno-unknown-pragmas -Wno-long-long   -DCLP_BUILD -MT ClpEventHandler.lo -MD -MP -MF \".deps/ClpEventHandler.Tpo\" -c -o ClpEventHandler.lo ClpEventHandler.cpp; \\\n",
      "then mv -f \".deps/ClpEventHandler.Tpo\" \".deps/ClpEventHandler.Plo\"; else rm -f \".deps/ClpEventHandler.Tpo\"; exit 1; fi\n"
     ]
    },
    {
     "name": "stderr",
     "output_type": "stream",
     "text": [
      "In file included from /home/pedro/.julia/v0.5/Cbc/deps/src/Cbc-2.9.8/CoinUtils/src/CoinIndexedVector.hpp:15:0,\n",
      "                 from ClpDynamicMatrix.cpp:10:\n",
      "/home/pedro/.julia/v0.5/Cbc/deps/src/Cbc-2.9.8/CoinUtils/src/CoinFinite.hpp:19:14: warning: ‘COIN_INT_MAX’ defined but not used [-Wunused-variable]\n",
      " const int    COIN_INT_MAX = (std::numeric_limits<int>::max)();\n",
      "              ^\n",
      "/home/pedro/.julia/v0.5/Cbc/deps/src/Cbc-2.9.8/CoinUtils/src/CoinFinite.hpp:20:14: warning: ‘COIN_INT_MAX_AS_DOUBLE’ defined but not used [-Wunused-variable]\n",
      " const double COIN_INT_MAX_AS_DOUBLE = (std::numeric_limits<int>::max)();\n",
      "              ^\n"
     ]
    },
    {
     "name": "stdout",
     "output_type": "stream",
     "text": [
      " g++ -DHAVE_CONFIG_H -I. -I. -I/home/pedro/.julia/v0.5/Cbc/deps/src/Cbc-2.9.8/CoinUtils/src -DCOIN_HAS_CLP -O3 -pipe -DNDEBUG -pedantic-errors -Wparentheses -Wreturn-type -Wcast-qual -Wall -Wpointer-arith -Wwrite-strings -Wconversion -Wno-unknown-pragmas -Wno-long-long -DCLP_BUILD -MT ClpEventHandler.lo -MD -MP -MF .deps/ClpEventHandler.Tpo -c ClpEventHandler.cpp  -fPIC -DPIC -o .libs/ClpEventHandler.o\n",
      "if /bin/bash ../../libtool --tag=CXX --mode=compile g++ -DHAVE_CONFIG_H -I. -I`echo .`  -I/home/pedro/.julia/v0.5/Cbc/deps/src/Cbc-2.9.8/CoinUtils/src  -DCOIN_HAS_CLP     -O3 -pipe -DNDEBUG -pedantic-errors -Wparentheses -Wreturn-type -Wcast-qual -Wall -Wpointer-arith -Wwrite-strings -Wconversion -Wno-unknown-pragmas -Wno-long-long   -DCLP_BUILD -MT ClpFactorization.lo -MD -MP -MF \".deps/ClpFactorization.Tpo\" -c -o ClpFactorization.lo ClpFactorization.cpp; \\\n",
      "then mv -f \".deps/ClpFactorization.Tpo\" \".deps/ClpFactorization.Plo\"; else rm -f \".deps/ClpFactorization.Tpo\"; exit 1; fi\n"
     ]
    },
    {
     "name": "stderr",
     "output_type": "stream",
     "text": [
      "In file included from ClpModel.hpp:23:0,\n",
      "                 from ClpSimplex.hpp:16,\n",
      "                 from ClpEventHandler.hpp:9,\n",
      "                 from ClpEventHandler.cpp:8:\n",
      "/home/pedro/.julia/v0.5/Cbc/deps/src/Cbc-2.9.8/CoinUtils/src/CoinFinite.hpp:17:14: warning: ‘COIN_DBL_MIN’ defined but not used [-Wunused-variable]\n",
      " const double COIN_DBL_MIN = (std::numeric_limits<double>::min)();\n",
      "              ^\n",
      "/home/pedro/.julia/v0.5/Cbc/deps/src/Cbc-2.9.8/CoinUtils/src/CoinFinite.hpp:19:14: warning: ‘COIN_INT_MAX’ defined but not used [-Wunused-variable]\n",
      " const int    COIN_INT_MAX = (std::numeric_limits<int>::max)();\n",
      "              ^\n",
      "/home/pedro/.julia/v0.5/Cbc/deps/src/Cbc-2.9.8/CoinUtils/src/CoinFinite.hpp:20:14: warning: ‘COIN_INT_MAX_AS_DOUBLE’ defined but not used [-Wunused-variable]\n",
      " const double COIN_INT_MAX_AS_DOUBLE = (std::numeric_limits<int>::max)();\n",
      "              ^\n"
     ]
    },
    {
     "name": "stdout",
     "output_type": "stream",
     "text": [
      " g++ -DHAVE_CONFIG_H -I. -I. -I/home/pedro/.julia/v0.5/Cbc/deps/src/Cbc-2.9.8/CoinUtils/src -DCOIN_HAS_CLP -O3 -pipe -DNDEBUG -pedantic-errors -Wparentheses -Wreturn-type -Wcast-qual -Wall -Wpointer-arith -Wwrite-strings -Wconversion -Wno-unknown-pragmas -Wno-long-long -DCLP_BUILD -MT ClpFactorization.lo -MD -MP -MF .deps/ClpFactorization.Tpo -c ClpFactorization.cpp  -fPIC -DPIC -o .libs/ClpFactorization.o\n",
      "if /bin/bash ../../libtool --tag=CXX --mode=compile g++ -DHAVE_CONFIG_H -I. -I`echo .`  -I/home/pedro/.julia/v0.5/Cbc/deps/src/Cbc-2.9.8/CoinUtils/src  -DCOIN_HAS_CLP     -O3 -pipe -DNDEBUG -pedantic-errors -Wparentheses -Wreturn-type -Wcast-qual -Wall -Wpointer-arith -Wwrite-strings -Wconversion -Wno-unknown-pragmas -Wno-long-long   -DCLP_BUILD -MT ClpGubDynamicMatrix.lo -MD -MP -MF \".deps/ClpGubDynamicMatrix.Tpo\" -c -o ClpGubDynamicMatrix.lo ClpGubDynamicMatrix.cpp; \\\n",
      "then mv -f \".deps/ClpGubDynamicMatrix.Tpo\" \".deps/ClpGubDynamicMatrix.Plo\"; else rm -f \".deps/ClpGubDynamicMatrix.Tpo\"; exit 1; fi\n"
     ]
    },
    {
     "name": "stderr",
     "output_type": "stream",
     "text": [
      "In file included from /home/pedro/.julia/v0.5/Cbc/deps/src/Cbc-2.9.8/CoinUtils/src/CoinIndexedVector.hpp:15:0,\n",
      "                 from /home/pedro/.julia/v0.5/Cbc/deps/src/Cbc-2.9.8/CoinUtils/src/CoinFactorization.hpp:22,\n",
      "                 from ClpFactorization.hpp:12,\n",
      "                 from ClpFactorization.cpp:7:\n",
      "/home/pedro/.julia/v0.5/Cbc/deps/src/Cbc-2.9.8/CoinUtils/src/CoinFinite.hpp:20:14: warning: ‘COIN_INT_MAX_AS_DOUBLE’ defined but not used [-Wunused-variable]\n",
      " const double COIN_INT_MAX_AS_DOUBLE = (std::numeric_limits<int>::max)();\n",
      "              ^\n"
     ]
    },
    {
     "name": "stdout",
     "output_type": "stream",
     "text": [
      " g++ -DHAVE_CONFIG_H -I. -I. -I/home/pedro/.julia/v0.5/Cbc/deps/src/Cbc-2.9.8/CoinUtils/src -DCOIN_HAS_CLP -O3 -pipe -DNDEBUG -pedantic-errors -Wparentheses -Wreturn-type -Wcast-qual -Wall -Wpointer-arith -Wwrite-strings -Wconversion -Wno-unknown-pragmas -Wno-long-long -DCLP_BUILD -MT ClpGubDynamicMatrix.lo -MD -MP -MF .deps/ClpGubDynamicMatrix.Tpo -c ClpGubDynamicMatrix.cpp  -fPIC -DPIC -o .libs/ClpGubDynamicMatrix.o\n",
      "if /bin/bash ../../libtool --tag=CXX --mode=compile g++ -DHAVE_CONFIG_H -I. -I`echo .`  -I/home/pedro/.julia/v0.5/Cbc/deps/src/Cbc-2.9.8/CoinUtils/src  -DCOIN_HAS_CLP     -O3 -pipe -DNDEBUG -pedantic-errors -Wparentheses -Wreturn-type -Wcast-qual -Wall -Wpointer-arith -Wwrite-strings -Wconversion -Wno-unknown-pragmas -Wno-long-long   -DCLP_BUILD -MT ClpGubMatrix.lo -MD -MP -MF \".deps/ClpGubMatrix.Tpo\" -c -o ClpGubMatrix.lo ClpGubMatrix.cpp; \\\n",
      "then mv -f \".deps/ClpGubMatrix.Tpo\" \".deps/ClpGubMatrix.Plo\"; else rm -f \".deps/ClpGubMatrix.Tpo\"; exit 1; fi\n"
     ]
    },
    {
     "name": "stderr",
     "output_type": "stream",
     "text": [
      "In file included from /home/pedro/.julia/v0.5/Cbc/deps/src/Cbc-2.9.8/CoinUtils/src/CoinIndexedVector.hpp:15:0,\n",
      "                 from ClpGubDynamicMatrix.cpp:10:\n",
      "/home/pedro/.julia/v0.5/Cbc/deps/src/Cbc-2.9.8/CoinUtils/src/CoinFinite.hpp:20:14: warning: ‘COIN_INT_MAX_AS_DOUBLE’ defined but not used [-Wunused-variable]\n",
      " const double COIN_INT_MAX_AS_DOUBLE = (std::numeric_limits<int>::max)();\n",
      "              ^\n"
     ]
    },
    {
     "name": "stdout",
     "output_type": "stream",
     "text": [
      " g++ -DHAVE_CONFIG_H -I. -I. -I/home/pedro/.julia/v0.5/Cbc/deps/src/Cbc-2.9.8/CoinUtils/src -DCOIN_HAS_CLP -O3 -pipe -DNDEBUG -pedantic-errors -Wparentheses -Wreturn-type -Wcast-qual -Wall -Wpointer-arith -Wwrite-strings -Wconversion -Wno-unknown-pragmas -Wno-long-long -DCLP_BUILD -MT ClpGubMatrix.lo -MD -MP -MF .deps/ClpGubMatrix.Tpo -c ClpGubMatrix.cpp  -fPIC -DPIC -o .libs/ClpGubMatrix.o\n",
      "if /bin/bash ../../libtool --tag=CXX --mode=compile g++ -DHAVE_CONFIG_H -I. -I`echo .`  -I/home/pedro/.julia/v0.5/Cbc/deps/src/Cbc-2.9.8/CoinUtils/src  -DCOIN_HAS_CLP     -O3 -pipe -DNDEBUG -pedantic-errors -Wparentheses -Wreturn-type -Wcast-qual -Wall -Wpointer-arith -Wwrite-strings -Wconversion -Wno-unknown-pragmas -Wno-long-long   -DCLP_BUILD -MT ClpHelperFunctions.lo -MD -MP -MF \".deps/ClpHelperFunctions.Tpo\" -c -o ClpHelperFunctions.lo ClpHelperFunctions.cpp; \\\n",
      "then mv -f \".deps/ClpHelperFunctions.Tpo\" \".deps/ClpHelperFunctions.Plo\"; else rm -f \".deps/ClpHelperFunctions.Tpo\"; exit 1; fi\n"
     ]
    },
    {
     "name": "stderr",
     "output_type": "stream",
     "text": [
      "In file included from /home/pedro/.julia/v0.5/Cbc/deps/src/Cbc-2.9.8/CoinUtils/src/CoinIndexedVector.hpp:15:0,\n",
      "                 from ClpGubMatrix.cpp:10:\n",
      "/home/pedro/.julia/v0.5/Cbc/deps/src/Cbc-2.9.8/CoinUtils/src/CoinFinite.hpp:20:14: warning: ‘COIN_INT_MAX_AS_DOUBLE’ defined but not used [-Wunused-variable]\n",
      " const double COIN_INT_MAX_AS_DOUBLE = (std::numeric_limits<int>::max)();\n",
      "              ^\n"
     ]
    },
    {
     "name": "stdout",
     "output_type": "stream",
     "text": [
      " g++ -DHAVE_CONFIG_H -I. -I. -I/home/pedro/.julia/v0.5/Cbc/deps/src/Cbc-2.9.8/CoinUtils/src -DCOIN_HAS_CLP -O3 -pipe -DNDEBUG -pedantic-errors -Wparentheses -Wreturn-type -Wcast-qual -Wall -Wpointer-arith -Wwrite-strings -Wconversion -Wno-unknown-pragmas -Wno-long-long -DCLP_BUILD -MT ClpHelperFunctions.lo -MD -MP -MF .deps/ClpHelperFunctions.Tpo -c ClpHelperFunctions.cpp  -fPIC -DPIC -o .libs/ClpHelperFunctions.o\n",
      "if /bin/bash ../../libtool --tag=CXX --mode=compile g++ -DHAVE_CONFIG_H -I. -I`echo .`  -I/home/pedro/.julia/v0.5/Cbc/deps/src/Cbc-2.9.8/CoinUtils/src  -DCOIN_HAS_CLP     -O3 -pipe -DNDEBUG -pedantic-errors -Wparentheses -Wreturn-type -Wcast-qual -Wall -Wpointer-arith -Wwrite-strings -Wconversion -Wno-unknown-pragmas -Wno-long-long   -DCLP_BUILD -MT ClpInterior.lo -MD -MP -MF \".deps/ClpInterior.Tpo\" -c -o ClpInterior.lo ClpInterior.cpp; \\\n",
      "then mv -f \".deps/ClpInterior.Tpo\" \".deps/ClpInterior.Plo\"; else rm -f \".deps/ClpInterior.Tpo\"; exit 1; fi\n",
      " g++ -DHAVE_CONFIG_H -I. -I. -I/home/pedro/.julia/v0.5/Cbc/deps/src/Cbc-2.9.8/CoinUtils/src -DCOIN_HAS_CLP -O3 -pipe -DNDEBUG -pedantic-errors -Wparentheses -Wreturn-type -Wcast-qual -Wall -Wpointer-arith -Wwrite-strings -Wconversion -Wno-unknown-pragmas -Wno-long-long -DCLP_BUILD -MT ClpInterior.lo -MD -MP -MF .deps/ClpInterior.Tpo -c ClpInterior.cpp  -fPIC -DPIC -o .libs/ClpInterior.o\n",
      "if /bin/bash ../../libtool --tag=CXX --mode=compile g++ -DHAVE_CONFIG_H -I. -I`echo .`  -I/home/pedro/.julia/v0.5/Cbc/deps/src/Cbc-2.9.8/CoinUtils/src  -DCOIN_HAS_CLP     -O3 -pipe -DNDEBUG -pedantic-errors -Wparentheses -Wreturn-type -Wcast-qual -Wall -Wpointer-arith -Wwrite-strings -Wconversion -Wno-unknown-pragmas -Wno-long-long   -DCLP_BUILD -MT ClpLinearObjective.lo -MD -MP -MF \".deps/ClpLinearObjective.Tpo\" -c -o ClpLinearObjective.lo ClpLinearObjective.cpp; \\\n",
      "then mv -f \".deps/ClpLinearObjective.Tpo\" \".deps/ClpLinearObjective.Plo\"; else rm -f \".deps/ClpLinearObjective.Tpo\"; exit 1; fi\n"
     ]
    },
    {
     "name": "stderr",
     "output_type": "stream",
     "text": [
      "In file included from ClpModel.hpp:23:0,\n",
      "                 from ClpInterior.hpp:20,\n",
      "                 from ClpInterior.cpp:12:\n",
      "/home/pedro/.julia/v0.5/Cbc/deps/src/Cbc-2.9.8/CoinUtils/src/CoinFinite.hpp:17:14: warning: ‘COIN_DBL_MIN’ defined but not used [-Wunused-variable]\n",
      " const double COIN_DBL_MIN = (std::numeric_limits<double>::min)();\n",
      "              ^\n",
      "/home/pedro/.julia/v0.5/Cbc/deps/src/Cbc-2.9.8/CoinUtils/src/CoinFinite.hpp:19:14: warning: ‘COIN_INT_MAX’ defined but not used [-Wunused-variable]\n",
      " const int    COIN_INT_MAX = (std::numeric_limits<int>::max)();\n",
      "              ^\n",
      "/home/pedro/.julia/v0.5/Cbc/deps/src/Cbc-2.9.8/CoinUtils/src/CoinFinite.hpp:20:14: warning: ‘COIN_INT_MAX_AS_DOUBLE’ defined but not used [-Wunused-variable]\n",
      " const double COIN_INT_MAX_AS_DOUBLE = (std::numeric_limits<int>::max)();\n",
      "              ^\n"
     ]
    },
    {
     "name": "stdout",
     "output_type": "stream",
     "text": [
      " g++ -DHAVE_CONFIG_H -I. -I. -I/home/pedro/.julia/v0.5/Cbc/deps/src/Cbc-2.9.8/CoinUtils/src -DCOIN_HAS_CLP -O3 -pipe -DNDEBUG -pedantic-errors -Wparentheses -Wreturn-type -Wcast-qual -Wall -Wpointer-arith -Wwrite-strings -Wconversion -Wno-unknown-pragmas -Wno-long-long -DCLP_BUILD -MT ClpLinearObjective.lo -MD -MP -MF .deps/ClpLinearObjective.Tpo -c ClpLinearObjective.cpp  -fPIC -DPIC -o .libs/ClpLinearObjective.o\n",
      "if /bin/bash ../../libtool --tag=CXX --mode=compile g++ -DHAVE_CONFIG_H -I. -I`echo .`  -I/home/pedro/.julia/v0.5/Cbc/deps/src/Cbc-2.9.8/CoinUtils/src  -DCOIN_HAS_CLP     -O3 -pipe -DNDEBUG -pedantic-errors -Wparentheses -Wreturn-type -Wcast-qual -Wall -Wpointer-arith -Wwrite-strings -Wconversion -Wno-unknown-pragmas -Wno-long-long   -DCLP_BUILD -MT ClpMatrixBase.lo -MD -MP -MF \".deps/ClpMatrixBase.Tpo\" -c -o ClpMatrixBase.lo ClpMatrixBase.cpp; \\\n",
      "then mv -f \".deps/ClpMatrixBase.Tpo\" \".deps/ClpMatrixBase.Plo\"; else rm -f \".deps/ClpMatrixBase.Tpo\"; exit 1; fi\n"
     ]
    },
    {
     "name": "stderr",
     "output_type": "stream",
     "text": [
      "In file included from /home/pedro/.julia/v0.5/Cbc/deps/src/Cbc-2.9.8/CoinUtils/src/CoinIndexedVector.hpp:15:0,\n",
      "                 from ClpLinearObjective.cpp:7:\n",
      "/home/pedro/.julia/v0.5/Cbc/deps/src/Cbc-2.9.8/CoinUtils/src/CoinFinite.hpp:19:14: warning: ‘COIN_INT_MAX’ defined but not used [-Wunused-variable]\n",
      " const int    COIN_INT_MAX = (std::numeric_limits<int>::max)();\n",
      "              ^\n",
      "/home/pedro/.julia/v0.5/Cbc/deps/src/Cbc-2.9.8/CoinUtils/src/CoinFinite.hpp:20:14: warning: ‘COIN_INT_MAX_AS_DOUBLE’ defined but not used [-Wunused-variable]\n",
      " const double COIN_INT_MAX_AS_DOUBLE = (std::numeric_limits<int>::max)();\n",
      "              ^\n"
     ]
    },
    {
     "name": "stdout",
     "output_type": "stream",
     "text": [
      " g++ -DHAVE_CONFIG_H -I. -I. -I/home/pedro/.julia/v0.5/Cbc/deps/src/Cbc-2.9.8/CoinUtils/src -DCOIN_HAS_CLP -O3 -pipe -DNDEBUG -pedantic-errors -Wparentheses -Wreturn-type -Wcast-qual -Wall -Wpointer-arith -Wwrite-strings -Wconversion -Wno-unknown-pragmas -Wno-long-long -DCLP_BUILD -MT ClpMatrixBase.lo -MD -MP -MF .deps/ClpMatrixBase.Tpo -c ClpMatrixBase.cpp  -fPIC -DPIC -o .libs/ClpMatrixBase.o\n",
      "if /bin/bash ../../libtool --tag=CXX --mode=compile g++ -DHAVE_CONFIG_H -I. -I`echo .`  -I/home/pedro/.julia/v0.5/Cbc/deps/src/Cbc-2.9.8/CoinUtils/src  -DCOIN_HAS_CLP     -O3 -pipe -DNDEBUG -pedantic-errors -Wparentheses -Wreturn-type -Wcast-qual -Wall -Wpointer-arith -Wwrite-strings -Wconversion -Wno-unknown-pragmas -Wno-long-long   -DCLP_BUILD -MT ClpMessage.lo -MD -MP -MF \".deps/ClpMessage.Tpo\" -c -o ClpMessage.lo ClpMessage.cpp; \\\n",
      "then mv -f \".deps/ClpMessage.Tpo\" \".deps/ClpMessage.Plo\"; else rm -f \".deps/ClpMessage.Tpo\"; exit 1; fi\n"
     ]
    },
    {
     "name": "stderr",
     "output_type": "stream",
     "text": [
      "In file included from /home/pedro/.julia/v0.5/Cbc/deps/src/Cbc-2.9.8/CoinUtils/src/CoinIndexedVector.hpp:15:0,\n",
      "                 from ClpMatrixBase.cpp:10:\n",
      "/home/pedro/.julia/v0.5/Cbc/deps/src/Cbc-2.9.8/CoinUtils/src/CoinFinite.hpp:19:14: warning: ‘COIN_INT_MAX’ defined but not used [-Wunused-variable]\n",
      " const int    COIN_INT_MAX = (std::numeric_limits<int>::max)();\n",
      "              ^\n",
      "/home/pedro/.julia/v0.5/Cbc/deps/src/Cbc-2.9.8/CoinUtils/src/CoinFinite.hpp:20:14: warning: ‘COIN_INT_MAX_AS_DOUBLE’ defined but not used [-Wunused-variable]\n",
      " const double COIN_INT_MAX_AS_DOUBLE = (std::numeric_limits<int>::max)();\n",
      "              ^\n"
     ]
    },
    {
     "name": "stdout",
     "output_type": "stream",
     "text": [
      " g++ -DHAVE_CONFIG_H -I. -I. -I/home/pedro/.julia/v0.5/Cbc/deps/src/Cbc-2.9.8/CoinUtils/src -DCOIN_HAS_CLP -O3 -pipe -DNDEBUG -pedantic-errors -Wparentheses -Wreturn-type -Wcast-qual -Wall -Wpointer-arith -Wwrite-strings -Wconversion -Wno-unknown-pragmas -Wno-long-long -DCLP_BUILD -MT ClpMessage.lo -MD -MP -MF .deps/ClpMessage.Tpo -c ClpMessage.cpp  -fPIC -DPIC -o .libs/ClpMessage.o\n",
      "if /bin/bash ../../libtool --tag=CXX --mode=compile g++ -DHAVE_CONFIG_H -I. -I`echo .`  -I/home/pedro/.julia/v0.5/Cbc/deps/src/Cbc-2.9.8/CoinUtils/src  -DCOIN_HAS_CLP     -O3 -pipe -DNDEBUG -pedantic-errors -Wparentheses -Wreturn-type -Wcast-qual -Wall -Wpointer-arith -Wwrite-strings -Wconversion -Wno-unknown-pragmas -Wno-long-long   -DCLP_BUILD -MT ClpModel.lo -MD -MP -MF \".deps/ClpModel.Tpo\" -c -o ClpModel.lo ClpModel.cpp; \\\n",
      "then mv -f \".deps/ClpModel.Tpo\" \".deps/ClpModel.Plo\"; else rm -f \".deps/ClpModel.Tpo\"; exit 1; fi\n",
      " g++ -DHAVE_CONFIG_H -I. -I. -I/home/pedro/.julia/v0.5/Cbc/deps/src/Cbc-2.9.8/CoinUtils/src -DCOIN_HAS_CLP -O3 -pipe -DNDEBUG -pedantic-errors -Wparentheses -Wreturn-type -Wcast-qual -Wall -Wpointer-arith -Wwrite-strings -Wconversion -Wno-unknown-pragmas -Wno-long-long -DCLP_BUILD -MT ClpModel.lo -MD -MP -MF .deps/ClpModel.Tpo -c ClpModel.cpp  -fPIC -DPIC -o .libs/ClpModel.o\n"
     ]
    },
    {
     "name": "stderr",
     "output_type": "stream",
     "text": [
      "In file included from ClpModel.hpp:23:0,\n",
      "                 from ClpModel.cpp:42:\n",
      "/home/pedro/.julia/v0.5/Cbc/deps/src/Cbc-2.9.8/CoinUtils/src/CoinFinite.hpp:19:14: warning: ‘COIN_INT_MAX’ defined but not used [-Wunused-variable]\n",
      " const int    COIN_INT_MAX = (std::numeric_limits<int>::max)();\n",
      "              ^\n",
      "/home/pedro/.julia/v0.5/Cbc/deps/src/Cbc-2.9.8/CoinUtils/src/CoinFinite.hpp:20:14: warning: ‘COIN_INT_MAX_AS_DOUBLE’ defined but not used [-Wunused-variable]\n",
      " const double COIN_INT_MAX_AS_DOUBLE = (std::numeric_limits<int>::max)();\n",
      "              ^\n"
     ]
    },
    {
     "name": "stdout",
     "output_type": "stream",
     "text": [
      "if /bin/bash ../../libtool --tag=CXX --mode=compile g++ -DHAVE_CONFIG_H -I. -I`echo .`  -I/home/pedro/.julia/v0.5/Cbc/deps/src/Cbc-2.9.8/CoinUtils/src  -DCOIN_HAS_CLP     -O3 -pipe -DNDEBUG -pedantic-errors -Wparentheses -Wreturn-type -Wcast-qual -Wall -Wpointer-arith -Wwrite-strings -Wconversion -Wno-unknown-pragmas -Wno-long-long   -DCLP_BUILD -MT ClpNetworkBasis.lo -MD -MP -MF \".deps/ClpNetworkBasis.Tpo\" -c -o ClpNetworkBasis.lo ClpNetworkBasis.cpp; \\\n",
      "then mv -f \".deps/ClpNetworkBasis.Tpo\" \".deps/ClpNetworkBasis.Plo\"; else rm -f \".deps/ClpNetworkBasis.Tpo\"; exit 1; fi\n",
      " g++ -DHAVE_CONFIG_H -I. -I. -I/home/pedro/.julia/v0.5/Cbc/deps/src/Cbc-2.9.8/CoinUtils/src -DCOIN_HAS_CLP -O3 -pipe -DNDEBUG -pedantic-errors -Wparentheses -Wreturn-type -Wcast-qual -Wall -Wpointer-arith -Wwrite-strings -Wconversion -Wno-unknown-pragmas -Wno-long-long -DCLP_BUILD -MT ClpNetworkBasis.lo -MD -MP -MF .deps/ClpNetworkBasis.Tpo -c ClpNetworkBasis.cpp  -fPIC -DPIC -o .libs/ClpNetworkBasis.o\n",
      "if /bin/bash ../../libtool --tag=CXX --mode=compile g++ -DHAVE_CONFIG_H -I. -I`echo .`  -I/home/pedro/.julia/v0.5/Cbc/deps/src/Cbc-2.9.8/CoinUtils/src  -DCOIN_HAS_CLP     -O3 -pipe -DNDEBUG -pedantic-errors -Wparentheses -Wreturn-type -Wcast-qual -Wall -Wpointer-arith -Wwrite-strings -Wconversion -Wno-unknown-pragmas -Wno-long-long   -DCLP_BUILD -MT ClpNetworkMatrix.lo -MD -MP -MF \".deps/ClpNetworkMatrix.Tpo\" -c -o ClpNetworkMatrix.lo ClpNetworkMatrix.cpp; \\\n",
      "then mv -f \".deps/ClpNetworkMatrix.Tpo\" \".deps/ClpNetworkMatrix.Plo\"; else rm -f \".deps/ClpNetworkMatrix.Tpo\"; exit 1; fi\n"
     ]
    },
    {
     "name": "stderr",
     "output_type": "stream",
     "text": [
      "In file included from ClpModel.hpp:23:0,\n",
      "                 from ClpSimplex.hpp:16,\n",
      "                 from ClpNetworkBasis.cpp:9:\n",
      "/home/pedro/.julia/v0.5/Cbc/deps/src/Cbc-2.9.8/CoinUtils/src/CoinFinite.hpp:19:14: warning: ‘COIN_INT_MAX’ defined but not used [-Wunused-variable]\n",
      " const int    COIN_INT_MAX = (std::numeric_limits<int>::max)();\n",
      "              ^\n",
      "/home/pedro/.julia/v0.5/Cbc/deps/src/Cbc-2.9.8/CoinUtils/src/CoinFinite.hpp:20:14: warning: ‘COIN_INT_MAX_AS_DOUBLE’ defined but not used [-Wunused-variable]\n",
      " const double COIN_INT_MAX_AS_DOUBLE = (std::numeric_limits<int>::max)();\n",
      "              ^\n"
     ]
    },
    {
     "name": "stdout",
     "output_type": "stream",
     "text": [
      " g++ -DHAVE_CONFIG_H -I. -I. -I/home/pedro/.julia/v0.5/Cbc/deps/src/Cbc-2.9.8/CoinUtils/src -DCOIN_HAS_CLP -O3 -pipe -DNDEBUG -pedantic-errors -Wparentheses -Wreturn-type -Wcast-qual -Wall -Wpointer-arith -Wwrite-strings -Wconversion -Wno-unknown-pragmas -Wno-long-long -DCLP_BUILD -MT ClpNetworkMatrix.lo -MD -MP -MF .deps/ClpNetworkMatrix.Tpo -c ClpNetworkMatrix.cpp  -fPIC -DPIC -o .libs/ClpNetworkMatrix.o\n",
      "if /bin/bash ../../libtool --tag=CXX --mode=compile g++ -DHAVE_CONFIG_H -I. -I`echo .`  -I/home/pedro/.julia/v0.5/Cbc/deps/src/Cbc-2.9.8/CoinUtils/src  -DCOIN_HAS_CLP     -O3 -pipe -DNDEBUG -pedantic-errors -Wparentheses -Wreturn-type -Wcast-qual -Wall -Wpointer-arith -Wwrite-strings -Wconversion -Wno-unknown-pragmas -Wno-long-long   -DCLP_BUILD -MT ClpNonLinearCost.lo -MD -MP -MF \".deps/ClpNonLinearCost.Tpo\" -c -o ClpNonLinearCost.lo ClpNonLinearCost.cpp; \\\n",
      "then mv -f \".deps/ClpNonLinearCost.Tpo\" \".deps/ClpNonLinearCost.Plo\"; else rm -f \".deps/ClpNonLinearCost.Tpo\"; exit 1; fi\n"
     ]
    },
    {
     "name": "stderr",
     "output_type": "stream",
     "text": [
      "In file included from /home/pedro/.julia/v0.5/Cbc/deps/src/Cbc-2.9.8/CoinUtils/src/CoinIndexedVector.hpp:15:0,\n",
      "                 from ClpNetworkMatrix.cpp:10:\n",
      "/home/pedro/.julia/v0.5/Cbc/deps/src/Cbc-2.9.8/CoinUtils/src/CoinFinite.hpp:19:14: warning: ‘COIN_INT_MAX’ defined but not used [-Wunused-variable]\n",
      " const int    COIN_INT_MAX = (std::numeric_limits<int>::max)();\n",
      "              ^\n",
      "/home/pedro/.julia/v0.5/Cbc/deps/src/Cbc-2.9.8/CoinUtils/src/CoinFinite.hpp:20:14: warning: ‘COIN_INT_MAX_AS_DOUBLE’ defined but not used [-Wunused-variable]\n",
      " const double COIN_INT_MAX_AS_DOUBLE = (std::numeric_limits<int>::max)();\n",
      "              ^\n"
     ]
    },
    {
     "name": "stdout",
     "output_type": "stream",
     "text": [
      " g++ -DHAVE_CONFIG_H -I. -I. -I/home/pedro/.julia/v0.5/Cbc/deps/src/Cbc-2.9.8/CoinUtils/src -DCOIN_HAS_CLP -O3 -pipe -DNDEBUG -pedantic-errors -Wparentheses -Wreturn-type -Wcast-qual -Wall -Wpointer-arith -Wwrite-strings -Wconversion -Wno-unknown-pragmas -Wno-long-long -DCLP_BUILD -MT ClpNonLinearCost.lo -MD -MP -MF .deps/ClpNonLinearCost.Tpo -c ClpNonLinearCost.cpp  -fPIC -DPIC -o .libs/ClpNonLinearCost.o\n",
      "if /bin/bash ../../libtool --tag=CXX --mode=compile g++ -DHAVE_CONFIG_H -I. -I`echo .`  -I/home/pedro/.julia/v0.5/Cbc/deps/src/Cbc-2.9.8/CoinUtils/src  -DCOIN_HAS_CLP     -O3 -pipe -DNDEBUG -pedantic-errors -Wparentheses -Wreturn-type -Wcast-qual -Wall -Wpointer-arith -Wwrite-strings -Wconversion -Wno-unknown-pragmas -Wno-long-long   -DCLP_BUILD -MT ClpNode.lo -MD -MP -MF \".deps/ClpNode.Tpo\" -c -o ClpNode.lo ClpNode.cpp; \\\n",
      "then mv -f \".deps/ClpNode.Tpo\" \".deps/ClpNode.Plo\"; else rm -f \".deps/ClpNode.Tpo\"; exit 1; fi\n"
     ]
    },
    {
     "name": "stderr",
     "output_type": "stream",
     "text": [
      "In file included from /home/pedro/.julia/v0.5/Cbc/deps/src/Cbc-2.9.8/CoinUtils/src/CoinIndexedVector.hpp:15:0,\n",
      "                 from ClpNonLinearCost.cpp:10:\n",
      "/home/pedro/.julia/v0.5/Cbc/deps/src/Cbc-2.9.8/CoinUtils/src/CoinFinite.hpp:19:14: warning: ‘COIN_INT_MAX’ defined but not used [-Wunused-variable]\n",
      " const int    COIN_INT_MAX = (std::numeric_limits<int>::max)();\n",
      "              ^\n",
      "/home/pedro/.julia/v0.5/Cbc/deps/src/Cbc-2.9.8/CoinUtils/src/CoinFinite.hpp:20:14: warning: ‘COIN_INT_MAX_AS_DOUBLE’ defined but not used [-Wunused-variable]\n",
      " const double COIN_INT_MAX_AS_DOUBLE = (std::numeric_limits<int>::max)();\n",
      "              ^\n"
     ]
    },
    {
     "name": "stdout",
     "output_type": "stream",
     "text": [
      " g++ -DHAVE_CONFIG_H -I. -I. -I/home/pedro/.julia/v0.5/Cbc/deps/src/Cbc-2.9.8/CoinUtils/src -DCOIN_HAS_CLP -O3 -pipe -DNDEBUG -pedantic-errors -Wparentheses -Wreturn-type -Wcast-qual -Wall -Wpointer-arith -Wwrite-strings -Wconversion -Wno-unknown-pragmas -Wno-long-long -DCLP_BUILD -MT ClpNode.lo -MD -MP -MF .deps/ClpNode.Tpo -c ClpNode.cpp  -fPIC -DPIC -o .libs/ClpNode.o\n",
      "if /bin/bash ../../libtool --tag=CXX --mode=compile g++ -DHAVE_CONFIG_H -I. -I`echo .`  -I/home/pedro/.julia/v0.5/Cbc/deps/src/Cbc-2.9.8/CoinUtils/src  -DCOIN_HAS_CLP     -O3 -pipe -DNDEBUG -pedantic-errors -Wparentheses -Wreturn-type -Wcast-qual -Wall -Wpointer-arith -Wwrite-strings -Wconversion -Wno-unknown-pragmas -Wno-long-long   -DCLP_BUILD -MT ClpObjective.lo -MD -MP -MF \".deps/ClpObjective.Tpo\" -c -o ClpObjective.lo ClpObjective.cpp; \\\n",
      "then mv -f \".deps/ClpObjective.Tpo\" \".deps/ClpObjective.Plo\"; else rm -f \".deps/ClpObjective.Tpo\"; exit 1; fi\n"
     ]
    },
    {
     "name": "stderr",
     "output_type": "stream",
     "text": [
      "In file included from ClpModel.hpp:23:0,\n",
      "                 from ClpSimplex.hpp:16,\n",
      "                 from ClpNode.cpp:7:\n",
      "/home/pedro/.julia/v0.5/Cbc/deps/src/Cbc-2.9.8/CoinUtils/src/CoinFinite.hpp:20:14: warning: ‘COIN_INT_MAX_AS_DOUBLE’ defined but not used [-Wunused-variable]\n",
      " const double COIN_INT_MAX_AS_DOUBLE = (std::numeric_limits<int>::max)();\n",
      "              ^\n"
     ]
    },
    {
     "name": "stdout",
     "output_type": "stream",
     "text": [
      " g++ -DHAVE_CONFIG_H -I. -I. -I/home/pedro/.julia/v0.5/Cbc/deps/src/Cbc-2.9.8/CoinUtils/src -DCOIN_HAS_CLP -O3 -pipe -DNDEBUG -pedantic-errors -Wparentheses -Wreturn-type -Wcast-qual -Wall -Wpointer-arith -Wwrite-strings -Wconversion -Wno-unknown-pragmas -Wno-long-long -DCLP_BUILD -MT ClpObjective.lo -MD -MP -MF .deps/ClpObjective.Tpo -c ClpObjective.cpp  -fPIC -DPIC -o .libs/ClpObjective.o\n",
      "if /bin/bash ../../libtool --tag=CXX --mode=compile g++ -DHAVE_CONFIG_H -I. -I`echo .`  -I/home/pedro/.julia/v0.5/Cbc/deps/src/Cbc-2.9.8/CoinUtils/src  -DCOIN_HAS_CLP     -O3 -pipe -DNDEBUG -pedantic-errors -Wparentheses -Wreturn-type -Wcast-qual -Wall -Wpointer-arith -Wwrite-strings -Wconversion -Wno-unknown-pragmas -Wno-long-long   -DCLP_BUILD -MT ClpPackedMatrix.lo -MD -MP -MF \".deps/ClpPackedMatrix.Tpo\" -c -o ClpPackedMatrix.lo ClpPackedMatrix.cpp; \\\n",
      "then mv -f \".deps/ClpPackedMatrix.Tpo\" \".deps/ClpPackedMatrix.Plo\"; else rm -f \".deps/ClpPackedMatrix.Tpo\"; exit 1; fi\n"
     ]
    },
    {
     "name": "stderr",
     "output_type": "stream",
     "text": [
      "In file included from ClpModel.hpp:23:0,\n",
      "                 from ClpSimplex.hpp:16,\n",
      "                 from ClpObjective.cpp:7:\n",
      "/home/pedro/.julia/v0.5/Cbc/deps/src/Cbc-2.9.8/CoinUtils/src/CoinFinite.hpp:17:14: warning: ‘COIN_DBL_MIN’ defined but not used [-Wunused-variable]\n",
      " const double COIN_DBL_MIN = (std::numeric_limits<double>::min)();\n",
      "              ^\n",
      "/home/pedro/.julia/v0.5/Cbc/deps/src/Cbc-2.9.8/CoinUtils/src/CoinFinite.hpp:19:14: warning: ‘COIN_INT_MAX’ defined but not used [-Wunused-variable]\n",
      " const int    COIN_INT_MAX = (std::numeric_limits<int>::max)();\n",
      "              ^\n",
      "/home/pedro/.julia/v0.5/Cbc/deps/src/Cbc-2.9.8/CoinUtils/src/CoinFinite.hpp:20:14: warning: ‘COIN_INT_MAX_AS_DOUBLE’ defined but not used [-Wunused-variable]\n",
      " const double COIN_INT_MAX_AS_DOUBLE = (std::numeric_limits<int>::max)();\n",
      "              ^\n"
     ]
    },
    {
     "name": "stdout",
     "output_type": "stream",
     "text": [
      " g++ -DHAVE_CONFIG_H -I. -I. -I/home/pedro/.julia/v0.5/Cbc/deps/src/Cbc-2.9.8/CoinUtils/src -DCOIN_HAS_CLP -O3 -pipe -DNDEBUG -pedantic-errors -Wparentheses -Wreturn-type -Wcast-qual -Wall -Wpointer-arith -Wwrite-strings -Wconversion -Wno-unknown-pragmas -Wno-long-long -DCLP_BUILD -MT ClpPackedMatrix.lo -MD -MP -MF .deps/ClpPackedMatrix.Tpo -c ClpPackedMatrix.cpp  -fPIC -DPIC -o .libs/ClpPackedMatrix.o\n",
      "if /bin/bash ../../libtool --tag=CXX --mode=compile g++ -DHAVE_CONFIG_H -I. -I`echo .`  -I/home/pedro/.julia/v0.5/Cbc/deps/src/Cbc-2.9.8/CoinUtils/src  -DCOIN_HAS_CLP     -O3 -pipe -DNDEBUG -pedantic-errors -Wparentheses -Wreturn-type -Wcast-qual -Wall -Wpointer-arith -Wwrite-strings -Wconversion -Wno-unknown-pragmas -Wno-long-long   -DCLP_BUILD -MT ClpPlusMinusOneMatrix.lo -MD -MP -MF \".deps/ClpPlusMinusOneMatrix.Tpo\" -c -o ClpPlusMinusOneMatrix.lo ClpPlusMinusOneMatrix.cpp; \\\n",
      "then mv -f \".deps/ClpPlusMinusOneMatrix.Tpo\" \".deps/ClpPlusMinusOneMatrix.Plo\"; else rm -f \".deps/ClpPlusMinusOneMatrix.Tpo\"; exit 1; fi\n"
     ]
    },
    {
     "name": "stderr",
     "output_type": "stream",
     "text": [
      "In file included from /home/pedro/.julia/v0.5/Cbc/deps/src/Cbc-2.9.8/CoinUtils/src/CoinIndexedVector.hpp:15:0,\n",
      "                 from ClpPackedMatrix.cpp:11:\n",
      "/home/pedro/.julia/v0.5/Cbc/deps/src/Cbc-2.9.8/CoinUtils/src/CoinFinite.hpp:19:14: warning: ‘COIN_INT_MAX’ defined but not used [-Wunused-variable]\n",
      " const int    COIN_INT_MAX = (std::numeric_limits<int>::max)();\n",
      "              ^\n",
      "/home/pedro/.julia/v0.5/Cbc/deps/src/Cbc-2.9.8/CoinUtils/src/CoinFinite.hpp:20:14: warning: ‘COIN_INT_MAX_AS_DOUBLE’ defined but not used [-Wunused-variable]\n",
      " const double COIN_INT_MAX_AS_DOUBLE = (std::numeric_limits<int>::max)();\n",
      "              ^\n"
     ]
    },
    {
     "name": "stdout",
     "output_type": "stream",
     "text": [
      " g++ -DHAVE_CONFIG_H -I. -I. -I/home/pedro/.julia/v0.5/Cbc/deps/src/Cbc-2.9.8/CoinUtils/src -DCOIN_HAS_CLP -O3 -pipe -DNDEBUG -pedantic-errors -Wparentheses -Wreturn-type -Wcast-qual -Wall -Wpointer-arith -Wwrite-strings -Wconversion -Wno-unknown-pragmas -Wno-long-long -DCLP_BUILD -MT ClpPlusMinusOneMatrix.lo -MD -MP -MF .deps/ClpPlusMinusOneMatrix.Tpo -c ClpPlusMinusOneMatrix.cpp  -fPIC -DPIC -o .libs/ClpPlusMinusOneMatrix.o\n",
      "if /bin/bash ../../libtool --tag=CXX --mode=compile g++ -DHAVE_CONFIG_H -I. -I`echo .`  -I/home/pedro/.julia/v0.5/Cbc/deps/src/Cbc-2.9.8/CoinUtils/src  -DCOIN_HAS_CLP     -O3 -pipe -DNDEBUG -pedantic-errors -Wparentheses -Wreturn-type -Wcast-qual -Wall -Wpointer-arith -Wwrite-strings -Wconversion -Wno-unknown-pragmas -Wno-long-long   -DCLP_BUILD -MT ClpPredictorCorrector.lo -MD -MP -MF \".deps/ClpPredictorCorrector.Tpo\" -c -o ClpPredictorCorrector.lo ClpPredictorCorrector.cpp; \\\n",
      "then mv -f \".deps/ClpPredictorCorrector.Tpo\" \".deps/ClpPredictorCorrector.Plo\"; else rm -f \".deps/ClpPredictorCorrector.Tpo\"; exit 1; fi\n"
     ]
    },
    {
     "name": "stderr",
     "output_type": "stream",
     "text": [
      "In file included from /home/pedro/.julia/v0.5/Cbc/deps/src/Cbc-2.9.8/CoinUtils/src/CoinIndexedVector.hpp:15:0,\n",
      "                 from ClpPlusMinusOneMatrix.cpp:10:\n",
      "/home/pedro/.julia/v0.5/Cbc/deps/src/Cbc-2.9.8/CoinUtils/src/CoinFinite.hpp:19:14: warning: ‘COIN_INT_MAX’ defined but not used [-Wunused-variable]\n",
      " const int    COIN_INT_MAX = (std::numeric_limits<int>::max)();\n",
      "              ^\n",
      "/home/pedro/.julia/v0.5/Cbc/deps/src/Cbc-2.9.8/CoinUtils/src/CoinFinite.hpp:20:14: warning: ‘COIN_INT_MAX_AS_DOUBLE’ defined but not used [-Wunused-variable]\n",
      " const double COIN_INT_MAX_AS_DOUBLE = (std::numeric_limits<int>::max)();\n",
      "              ^\n",
      "ClpPlusMinusOneMatrix.cpp:459:13: warning: ‘doPlusOnes’ defined but not used [-Wunused-variable]\n",
      " static bool doPlusOnes=true;\n",
      "             ^\n"
     ]
    },
    {
     "name": "stdout",
     "output_type": "stream",
     "text": [
      " g++ -DHAVE_CONFIG_H -I. -I. -I/home/pedro/.julia/v0.5/Cbc/deps/src/Cbc-2.9.8/CoinUtils/src -DCOIN_HAS_CLP -O3 -pipe -DNDEBUG -pedantic-errors -Wparentheses -Wreturn-type -Wcast-qual -Wall -Wpointer-arith -Wwrite-strings -Wconversion -Wno-unknown-pragmas -Wno-long-long -DCLP_BUILD -MT ClpPredictorCorrector.lo -MD -MP -MF .deps/ClpPredictorCorrector.Tpo -c ClpPredictorCorrector.cpp  -fPIC -DPIC -o .libs/ClpPredictorCorrector.o\n"
     ]
    },
    {
     "name": "stderr",
     "output_type": "stream",
     "text": [
      "In file included from ClpModel.hpp:23:0,\n",
      "                 from ClpInterior.hpp:20,\n",
      "                 from ClpPredictorCorrector.hpp:14,\n",
      "                 from ClpPredictorCorrector.cpp:16:\n",
      "/home/pedro/.julia/v0.5/Cbc/deps/src/Cbc-2.9.8/CoinUtils/src/CoinFinite.hpp:17:14: warning: ‘COIN_DBL_MIN’ defined but not used [-Wunused-variable]\n",
      " const double COIN_DBL_MIN = (std::numeric_limits<double>::min)();\n",
      "              ^\n",
      "/home/pedro/.julia/v0.5/Cbc/deps/src/Cbc-2.9.8/CoinUtils/src/CoinFinite.hpp:19:14: warning: ‘COIN_INT_MAX’ defined but not used [-Wunused-variable]\n",
      " const int    COIN_INT_MAX = (std::numeric_limits<int>::max)();\n",
      "              ^\n",
      "/home/pedro/.julia/v0.5/Cbc/deps/src/Cbc-2.9.8/CoinUtils/src/CoinFinite.hpp:20:14: warning: ‘COIN_INT_MAX_AS_DOUBLE’ defined but not used [-Wunused-variable]\n",
      " const double COIN_INT_MAX_AS_DOUBLE = (std::numeric_limits<int>::max)();\n",
      "              ^\n"
     ]
    },
    {
     "name": "stdout",
     "output_type": "stream",
     "text": [
      "if /bin/bash ../../libtool --tag=CXX --mode=compile g++ -DHAVE_CONFIG_H -I. -I`echo .`  -I/home/pedro/.julia/v0.5/Cbc/deps/src/Cbc-2.9.8/CoinUtils/src  -DCOIN_HAS_CLP     -O3 -pipe -DNDEBUG -pedantic-errors -Wparentheses -Wreturn-type -Wcast-qual -Wall -Wpointer-arith -Wwrite-strings -Wconversion -Wno-unknown-pragmas -Wno-long-long   -DCLP_BUILD -MT ClpPdco.lo -MD -MP -MF \".deps/ClpPdco.Tpo\" -c -o ClpPdco.lo ClpPdco.cpp; \\\n",
      "then mv -f \".deps/ClpPdco.Tpo\" \".deps/ClpPdco.Plo\"; else rm -f \".deps/ClpPdco.Tpo\"; exit 1; fi\n",
      " g++ -DHAVE_CONFIG_H -I. -I. -I/home/pedro/.julia/v0.5/Cbc/deps/src/Cbc-2.9.8/CoinUtils/src -DCOIN_HAS_CLP -O3 -pipe -DNDEBUG -pedantic-errors -Wparentheses -Wreturn-type -Wcast-qual -Wall -Wpointer-arith -Wwrite-strings -Wconversion -Wno-unknown-pragmas -Wno-long-long -DCLP_BUILD -MT ClpPdco.lo -MD -MP -MF .deps/ClpPdco.Tpo -c ClpPdco.cpp  -fPIC -DPIC -o .libs/ClpPdco.o\n",
      "if /bin/bash ../../libtool --tag=CXX --mode=compile g++ -DHAVE_CONFIG_H -I. -I`echo .`  -I/home/pedro/.julia/v0.5/Cbc/deps/src/Cbc-2.9.8/CoinUtils/src  -DCOIN_HAS_CLP     -O3 -pipe -DNDEBUG -pedantic-errors -Wparentheses -Wreturn-type -Wcast-qual -Wall -Wpointer-arith -Wwrite-strings -Wconversion -Wno-unknown-pragmas -Wno-long-long   -DCLP_BUILD -MT ClpPdcoBase.lo -MD -MP -MF \".deps/ClpPdcoBase.Tpo\" -c -o ClpPdcoBase.lo ClpPdcoBase.cpp; \\\n",
      "then mv -f \".deps/ClpPdcoBase.Tpo\" \".deps/ClpPdcoBase.Plo\"; else rm -f \".deps/ClpPdcoBase.Tpo\"; exit 1; fi\n"
     ]
    },
    {
     "name": "stderr",
     "output_type": "stream",
     "text": [
      "In file included from ClpModel.hpp:23:0,\n",
      "                 from ClpInterior.hpp:20,\n",
      "                 from ClpPdco.hpp:14,\n",
      "                 from ClpPdco.cpp:20:\n",
      "/home/pedro/.julia/v0.5/Cbc/deps/src/Cbc-2.9.8/CoinUtils/src/CoinFinite.hpp:17:14: warning: ‘COIN_DBL_MIN’ defined but not used [-Wunused-variable]\n",
      " const double COIN_DBL_MIN = (std::numeric_limits<double>::min)();\n",
      "              ^\n",
      "/home/pedro/.julia/v0.5/Cbc/deps/src/Cbc-2.9.8/CoinUtils/src/CoinFinite.hpp:19:14: warning: ‘COIN_INT_MAX’ defined but not used [-Wunused-variable]\n",
      " const int    COIN_INT_MAX = (std::numeric_limits<int>::max)();\n",
      "              ^\n",
      "/home/pedro/.julia/v0.5/Cbc/deps/src/Cbc-2.9.8/CoinUtils/src/CoinFinite.hpp:20:14: warning: ‘COIN_INT_MAX_AS_DOUBLE’ defined but not used [-Wunused-variable]\n",
      " const double COIN_INT_MAX_AS_DOUBLE = (std::numeric_limits<int>::max)();\n",
      "              ^\n"
     ]
    },
    {
     "name": "stdout",
     "output_type": "stream",
     "text": [
      " g++ -DHAVE_CONFIG_H -I. -I. -I/home/pedro/.julia/v0.5/Cbc/deps/src/Cbc-2.9.8/CoinUtils/src -DCOIN_HAS_CLP -O3 -pipe -DNDEBUG -pedantic-errors -Wparentheses -Wreturn-type -Wcast-qual -Wall -Wpointer-arith -Wwrite-strings -Wconversion -Wno-unknown-pragmas -Wno-long-long -DCLP_BUILD -MT ClpPdcoBase.lo -MD -MP -MF .deps/ClpPdcoBase.Tpo -c ClpPdcoBase.cpp  -fPIC -DPIC -o .libs/ClpPdcoBase.o\n",
      "if /bin/bash ../../libtool --tag=CXX --mode=compile g++ -DHAVE_CONFIG_H -I. -I`echo .`  -I/home/pedro/.julia/v0.5/Cbc/deps/src/Cbc-2.9.8/CoinUtils/src  -DCOIN_HAS_CLP     -O3 -pipe -DNDEBUG -pedantic-errors -Wparentheses -Wreturn-type -Wcast-qual -Wall -Wpointer-arith -Wwrite-strings -Wconversion -Wno-unknown-pragmas -Wno-long-long   -DCLP_BUILD -MT ClpLsqr.lo -MD -MP -MF \".deps/ClpLsqr.Tpo\" -c -o ClpLsqr.lo ClpLsqr.cpp; \\\n",
      "then mv -f \".deps/ClpLsqr.Tpo\" \".deps/ClpLsqr.Plo\"; else rm -f \".deps/ClpLsqr.Tpo\"; exit 1; fi\n"
     ]
    },
    {
     "name": "stderr",
     "output_type": "stream",
     "text": [
      "In file included from ClpModel.hpp:23:0,\n",
      "                 from ClpInterior.hpp:20,\n",
      "                 from ClpPdco.hpp:14,\n",
      "                 from ClpPdcoBase.cpp:11:\n",
      "/home/pedro/.julia/v0.5/Cbc/deps/src/Cbc-2.9.8/CoinUtils/src/CoinFinite.hpp:17:14: warning: ‘COIN_DBL_MIN’ defined but not used [-Wunused-variable]\n",
      " const double COIN_DBL_MIN = (std::numeric_limits<double>::min)();\n",
      "              ^\n",
      "/home/pedro/.julia/v0.5/Cbc/deps/src/Cbc-2.9.8/CoinUtils/src/CoinFinite.hpp:19:14: warning: ‘COIN_INT_MAX’ defined but not used [-Wunused-variable]\n",
      " const int    COIN_INT_MAX = (std::numeric_limits<int>::max)();\n",
      "              ^\n",
      "/home/pedro/.julia/v0.5/Cbc/deps/src/Cbc-2.9.8/CoinUtils/src/CoinFinite.hpp:20:14: warning: ‘COIN_INT_MAX_AS_DOUBLE’ defined but not used [-Wunused-variable]\n",
      " const double COIN_INT_MAX_AS_DOUBLE = (std::numeric_limits<int>::max)();\n",
      "              ^\n"
     ]
    },
    {
     "name": "stdout",
     "output_type": "stream",
     "text": [
      " g++ -DHAVE_CONFIG_H -I. -I. -I/home/pedro/.julia/v0.5/Cbc/deps/src/Cbc-2.9.8/CoinUtils/src -DCOIN_HAS_CLP -O3 -pipe -DNDEBUG -pedantic-errors -Wparentheses -Wreturn-type -Wcast-qual -Wall -Wpointer-arith -Wwrite-strings -Wconversion -Wno-unknown-pragmas -Wno-long-long -DCLP_BUILD -MT ClpLsqr.lo -MD -MP -MF .deps/ClpLsqr.Tpo -c ClpLsqr.cpp  -fPIC -DPIC -o .libs/ClpLsqr.o\n",
      "if /bin/bash ../../libtool --tag=CXX --mode=compile g++ -DHAVE_CONFIG_H -I. -I`echo .`  -I/home/pedro/.julia/v0.5/Cbc/deps/src/Cbc-2.9.8/CoinUtils/src  -DCOIN_HAS_CLP     -O3 -pipe -DNDEBUG -pedantic-errors -Wparentheses -Wreturn-type -Wcast-qual -Wall -Wpointer-arith -Wwrite-strings -Wconversion -Wno-unknown-pragmas -Wno-long-long   -DCLP_BUILD -MT ClpPresolve.lo -MD -MP -MF \".deps/ClpPresolve.Tpo\" -c -o ClpPresolve.lo ClpPresolve.cpp; \\\n",
      "then mv -f \".deps/ClpPresolve.Tpo\" \".deps/ClpPresolve.Plo\"; else rm -f \".deps/ClpPresolve.Tpo\"; exit 1; fi\n"
     ]
    },
    {
     "name": "stderr",
     "output_type": "stream",
     "text": [
      "In file included from ClpModel.hpp:23:0,\n",
      "                 from ClpInterior.hpp:20,\n",
      "                 from ClpLsqr.hpp:11,\n",
      "                 from ClpLsqr.cpp:6:\n",
      "/home/pedro/.julia/v0.5/Cbc/deps/src/Cbc-2.9.8/CoinUtils/src/CoinFinite.hpp:17:14: warning: ‘COIN_DBL_MIN’ defined but not used [-Wunused-variable]\n",
      " const double COIN_DBL_MIN = (std::numeric_limits<double>::min)();\n",
      "              ^\n",
      "/home/pedro/.julia/v0.5/Cbc/deps/src/Cbc-2.9.8/CoinUtils/src/CoinFinite.hpp:19:14: warning: ‘COIN_INT_MAX’ defined but not used [-Wunused-variable]\n",
      " const int    COIN_INT_MAX = (std::numeric_limits<int>::max)();\n",
      "              ^\n",
      "/home/pedro/.julia/v0.5/Cbc/deps/src/Cbc-2.9.8/CoinUtils/src/CoinFinite.hpp:20:14: warning: ‘COIN_INT_MAX_AS_DOUBLE’ defined but not used [-Wunused-variable]\n",
      " const double COIN_INT_MAX_AS_DOUBLE = (std::numeric_limits<int>::max)();\n",
      "              ^\n"
     ]
    },
    {
     "name": "stdout",
     "output_type": "stream",
     "text": [
      " g++ -DHAVE_CONFIG_H -I. -I. -I/home/pedro/.julia/v0.5/Cbc/deps/src/Cbc-2.9.8/CoinUtils/src -DCOIN_HAS_CLP -O3 -pipe -DNDEBUG -pedantic-errors -Wparentheses -Wreturn-type -Wcast-qual -Wall -Wpointer-arith -Wwrite-strings -Wconversion -Wno-unknown-pragmas -Wno-long-long -DCLP_BUILD -MT ClpPresolve.lo -MD -MP -MF .deps/ClpPresolve.Tpo -c ClpPresolve.cpp  -fPIC -DPIC -o .libs/ClpPresolve.o\n"
     ]
    },
    {
     "name": "stderr",
     "output_type": "stream",
     "text": [
      "ClpPresolve.cpp: In member function ‘virtual const CoinPresolveAction* ClpPresolve::presolve(CoinPresolveMatrix*)’:\n",
      "ClpPresolve.cpp:890:27: warning: assuming signed overflow does not occur when assuming that (X + c) < X is always false [-Wstrict-overflow]\n",
      " const CoinPresolveAction *ClpPresolve::presolve(CoinPresolveMatrix *prob)\n",
      "                           ^\n"
     ]
    },
    {
     "name": "stdout",
     "output_type": "stream",
     "text": [
      "if /bin/bash ../../libtool --tag=CXX --mode=compile g++ -DHAVE_CONFIG_H -I. -I`echo .`  -I/home/pedro/.julia/v0.5/Cbc/deps/src/Cbc-2.9.8/CoinUtils/src  -DCOIN_HAS_CLP     -O3 -pipe -DNDEBUG -pedantic-errors -Wparentheses -Wreturn-type -Wcast-qual -Wall -Wpointer-arith -Wwrite-strings -Wconversion -Wno-unknown-pragmas -Wno-long-long   -DCLP_BUILD -MT ClpPrimalColumnDantzig.lo -MD -MP -MF \".deps/ClpPrimalColumnDantzig.Tpo\" -c -o ClpPrimalColumnDantzig.lo ClpPrimalColumnDantzig.cpp; \\\n",
      "then mv -f \".deps/ClpPrimalColumnDantzig.Tpo\" \".deps/ClpPrimalColumnDantzig.Plo\"; else rm -f \".deps/ClpPrimalColumnDantzig.Tpo\"; exit 1; fi\n"
     ]
    },
    {
     "name": "stderr",
     "output_type": "stream",
     "text": [
      "In file included from ClpModel.hpp:23:0,\n",
      "                 from ClpSimplex.hpp:16,\n",
      "                 from ClpPresolve.cpp:22:\n",
      "/home/pedro/.julia/v0.5/Cbc/deps/src/Cbc-2.9.8/CoinUtils/src/CoinFinite.hpp: At global scope:\n",
      "/home/pedro/.julia/v0.5/Cbc/deps/src/Cbc-2.9.8/CoinUtils/src/CoinFinite.hpp:17:14: warning: ‘COIN_DBL_MIN’ defined but not used [-Wunused-variable]\n",
      " const double COIN_DBL_MIN = (std::numeric_limits<double>::min)();\n",
      "              ^\n",
      "/home/pedro/.julia/v0.5/Cbc/deps/src/Cbc-2.9.8/CoinUtils/src/CoinFinite.hpp:19:14: warning: ‘COIN_INT_MAX’ defined but not used [-Wunused-variable]\n",
      " const int    COIN_INT_MAX = (std::numeric_limits<int>::max)();\n",
      "              ^\n",
      "/home/pedro/.julia/v0.5/Cbc/deps/src/Cbc-2.9.8/CoinUtils/src/CoinFinite.hpp:20:14: warning: ‘COIN_INT_MAX_AS_DOUBLE’ defined but not used [-Wunused-variable]\n",
      " const double COIN_INT_MAX_AS_DOUBLE = (std::numeric_limits<int>::max)();\n",
      "              ^\n"
     ]
    },
    {
     "name": "stdout",
     "output_type": "stream",
     "text": [
      " g++ -DHAVE_CONFIG_H -I. -I. -I/home/pedro/.julia/v0.5/Cbc/deps/src/Cbc-2.9.8/CoinUtils/src -DCOIN_HAS_CLP -O3 -pipe -DNDEBUG -pedantic-errors -Wparentheses -Wreturn-type -Wcast-qual -Wall -Wpointer-arith -Wwrite-strings -Wconversion -Wno-unknown-pragmas -Wno-long-long -DCLP_BUILD -MT ClpPrimalColumnDantzig.lo -MD -MP -MF .deps/ClpPrimalColumnDantzig.Tpo -c ClpPrimalColumnDantzig.cpp  -fPIC -DPIC -o .libs/ClpPrimalColumnDantzig.o\n",
      "if /bin/bash ../../libtool --tag=CXX --mode=compile g++ -DHAVE_CONFIG_H -I. -I`echo .`  -I/home/pedro/.julia/v0.5/Cbc/deps/src/Cbc-2.9.8/CoinUtils/src  -DCOIN_HAS_CLP     -O3 -pipe -DNDEBUG -pedantic-errors -Wparentheses -Wreturn-type -Wcast-qual -Wall -Wpointer-arith -Wwrite-strings -Wconversion -Wno-unknown-pragmas -Wno-long-long   -DCLP_BUILD -MT ClpPrimalColumnPivot.lo -MD -MP -MF \".deps/ClpPrimalColumnPivot.Tpo\" -c -o ClpPrimalColumnPivot.lo ClpPrimalColumnPivot.cpp; \\\n",
      "then mv -f \".deps/ClpPrimalColumnPivot.Tpo\" \".deps/ClpPrimalColumnPivot.Plo\"; else rm -f \".deps/ClpPrimalColumnPivot.Tpo\"; exit 1; fi\n"
     ]
    },
    {
     "name": "stderr",
     "output_type": "stream",
     "text": [
      "In file included from /home/pedro/.julia/v0.5/Cbc/deps/src/Cbc-2.9.8/CoinUtils/src/CoinIndexedVector.hpp:15:0,\n",
      "                 from ClpPrimalColumnDantzig.cpp:10:\n",
      "/home/pedro/.julia/v0.5/Cbc/deps/src/Cbc-2.9.8/CoinUtils/src/CoinFinite.hpp:19:14: warning: ‘COIN_INT_MAX’ defined but not used [-Wunused-variable]\n",
      " const int    COIN_INT_MAX = (std::numeric_limits<int>::max)();\n",
      "              ^\n",
      "/home/pedro/.julia/v0.5/Cbc/deps/src/Cbc-2.9.8/CoinUtils/src/CoinFinite.hpp:20:14: warning: ‘COIN_INT_MAX_AS_DOUBLE’ defined but not used [-Wunused-variable]\n",
      " const double COIN_INT_MAX_AS_DOUBLE = (std::numeric_limits<int>::max)();\n",
      "              ^\n"
     ]
    },
    {
     "name": "stdout",
     "output_type": "stream",
     "text": [
      " g++ -DHAVE_CONFIG_H -I. -I. -I/home/pedro/.julia/v0.5/Cbc/deps/src/Cbc-2.9.8/CoinUtils/src -DCOIN_HAS_CLP -O3 -pipe -DNDEBUG -pedantic-errors -Wparentheses -Wreturn-type -Wcast-qual -Wall -Wpointer-arith -Wwrite-strings -Wconversion -Wno-unknown-pragmas -Wno-long-long -DCLP_BUILD -MT ClpPrimalColumnPivot.lo -MD -MP -MF .deps/ClpPrimalColumnPivot.Tpo -c ClpPrimalColumnPivot.cpp  -fPIC -DPIC -o .libs/ClpPrimalColumnPivot.o\n",
      "if /bin/bash ../../libtool --tag=CXX --mode=compile g++ -DHAVE_CONFIG_H -I. -I`echo .`  -I/home/pedro/.julia/v0.5/Cbc/deps/src/Cbc-2.9.8/CoinUtils/src  -DCOIN_HAS_CLP     -O3 -pipe -DNDEBUG -pedantic-errors -Wparentheses -Wreturn-type -Wcast-qual -Wall -Wpointer-arith -Wwrite-strings -Wconversion -Wno-unknown-pragmas -Wno-long-long   -DCLP_BUILD -MT ClpPrimalColumnSteepest.lo -MD -MP -MF \".deps/ClpPrimalColumnSteepest.Tpo\" -c -o ClpPrimalColumnSteepest.lo ClpPrimalColumnSteepest.cpp; \\\n",
      "then mv -f \".deps/ClpPrimalColumnSteepest.Tpo\" \".deps/ClpPrimalColumnSteepest.Plo\"; else rm -f \".deps/ClpPrimalColumnSteepest.Tpo\"; exit 1; fi\n"
     ]
    },
    {
     "name": "stderr",
     "output_type": "stream",
     "text": [
      "In file included from ClpModel.hpp:23:0,\n",
      "                 from ClpSimplex.hpp:16,\n",
      "                 from ClpPrimalColumnPivot.cpp:8:\n",
      "/home/pedro/.julia/v0.5/Cbc/deps/src/Cbc-2.9.8/CoinUtils/src/CoinFinite.hpp:17:14: warning: ‘COIN_DBL_MIN’ defined but not used [-Wunused-variable]\n",
      " const double COIN_DBL_MIN = (std::numeric_limits<double>::min)();\n",
      "              ^\n",
      "/home/pedro/.julia/v0.5/Cbc/deps/src/Cbc-2.9.8/CoinUtils/src/CoinFinite.hpp:19:14: warning: ‘COIN_INT_MAX’ defined but not used [-Wunused-variable]\n",
      " const int    COIN_INT_MAX = (std::numeric_limits<int>::max)();\n",
      "              ^\n",
      "/home/pedro/.julia/v0.5/Cbc/deps/src/Cbc-2.9.8/CoinUtils/src/CoinFinite.hpp:20:14: warning: ‘COIN_INT_MAX_AS_DOUBLE’ defined but not used [-Wunused-variable]\n",
      " const double COIN_INT_MAX_AS_DOUBLE = (std::numeric_limits<int>::max)();\n",
      "              ^\n"
     ]
    },
    {
     "name": "stdout",
     "output_type": "stream",
     "text": [
      " g++ -DHAVE_CONFIG_H -I. -I. -I/home/pedro/.julia/v0.5/Cbc/deps/src/Cbc-2.9.8/CoinUtils/src -DCOIN_HAS_CLP -O3 -pipe -DNDEBUG -pedantic-errors -Wparentheses -Wreturn-type -Wcast-qual -Wall -Wpointer-arith -Wwrite-strings -Wconversion -Wno-unknown-pragmas -Wno-long-long -DCLP_BUILD -MT ClpPrimalColumnSteepest.lo -MD -MP -MF .deps/ClpPrimalColumnSteepest.Tpo -c ClpPrimalColumnSteepest.cpp  -fPIC -DPIC -o .libs/ClpPrimalColumnSteepest.o\n",
      "if /bin/bash ../../libtool --tag=CXX --mode=compile g++ -DHAVE_CONFIG_H -I. -I`echo .`  -I/home/pedro/.julia/v0.5/Cbc/deps/src/Cbc-2.9.8/CoinUtils/src  -DCOIN_HAS_CLP     -O3 -pipe -DNDEBUG -pedantic-errors -Wparentheses -Wreturn-type -Wcast-qual -Wall -Wpointer-arith -Wwrite-strings -Wconversion -Wno-unknown-pragmas -Wno-long-long   -DCLP_BUILD -MT ClpQuadraticObjective.lo -MD -MP -MF \".deps/ClpQuadraticObjective.Tpo\" -c -o ClpQuadraticObjective.lo ClpQuadraticObjective.cpp; \\\n",
      "then mv -f \".deps/ClpQuadraticObjective.Tpo\" \".deps/ClpQuadraticObjective.Plo\"; else rm -f \".deps/ClpQuadraticObjective.Tpo\"; exit 1; fi\n"
     ]
    },
    {
     "name": "stderr",
     "output_type": "stream",
     "text": [
      "In file included from ClpModel.hpp:23:0,\n",
      "                 from ClpSimplex.hpp:16,\n",
      "                 from ClpPrimalColumnSteepest.cpp:8:\n",
      "/home/pedro/.julia/v0.5/Cbc/deps/src/Cbc-2.9.8/CoinUtils/src/CoinFinite.hpp:19:14: warning: ‘COIN_INT_MAX’ defined but not used [-Wunused-variable]\n",
      " const int    COIN_INT_MAX = (std::numeric_limits<int>::max)();\n",
      "              ^\n",
      "/home/pedro/.julia/v0.5/Cbc/deps/src/Cbc-2.9.8/CoinUtils/src/CoinFinite.hpp:20:14: warning: ‘COIN_INT_MAX_AS_DOUBLE’ defined but not used [-Wunused-variable]\n",
      " const double COIN_INT_MAX_AS_DOUBLE = (std::numeric_limits<int>::max)();\n",
      "              ^\n"
     ]
    },
    {
     "name": "stdout",
     "output_type": "stream",
     "text": [
      " g++ -DHAVE_CONFIG_H -I. -I. -I/home/pedro/.julia/v0.5/Cbc/deps/src/Cbc-2.9.8/CoinUtils/src -DCOIN_HAS_CLP -O3 -pipe -DNDEBUG -pedantic-errors -Wparentheses -Wreturn-type -Wcast-qual -Wall -Wpointer-arith -Wwrite-strings -Wconversion -Wno-unknown-pragmas -Wno-long-long -DCLP_BUILD -MT ClpQuadraticObjective.lo -MD -MP -MF .deps/ClpQuadraticObjective.Tpo -c ClpQuadraticObjective.cpp  -fPIC -DPIC -o .libs/ClpQuadraticObjective.o\n",
      "if /bin/bash ../../libtool --tag=CXX --mode=compile g++ -DHAVE_CONFIG_H -I. -I`echo .`  -I/home/pedro/.julia/v0.5/Cbc/deps/src/Cbc-2.9.8/CoinUtils/src  -DCOIN_HAS_CLP     -O3 -pipe -DNDEBUG -pedantic-errors -Wparentheses -Wreturn-type -Wcast-qual -Wall -Wpointer-arith -Wwrite-strings -Wconversion -Wno-unknown-pragmas -Wno-long-long   -DCLP_BUILD -MT ClpSimplex.lo -MD -MP -MF \".deps/ClpSimplex.Tpo\" -c -o ClpSimplex.lo ClpSimplex.cpp; \\\n",
      "then mv -f \".deps/ClpSimplex.Tpo\" \".deps/ClpSimplex.Plo\"; else rm -f \".deps/ClpSimplex.Tpo\"; exit 1; fi\n"
     ]
    },
    {
     "name": "stderr",
     "output_type": "stream",
     "text": [
      "In file included from /home/pedro/.julia/v0.5/Cbc/deps/src/Cbc-2.9.8/CoinUtils/src/CoinIndexedVector.hpp:15:0,\n",
      "                 from ClpQuadraticObjective.cpp:8:\n",
      "/home/pedro/.julia/v0.5/Cbc/deps/src/Cbc-2.9.8/CoinUtils/src/CoinFinite.hpp:19:14: warning: ‘COIN_INT_MAX’ defined but not used [-Wunused-variable]\n",
      " const int    COIN_INT_MAX = (std::numeric_limits<int>::max)();\n",
      "              ^\n",
      "/home/pedro/.julia/v0.5/Cbc/deps/src/Cbc-2.9.8/CoinUtils/src/CoinFinite.hpp:20:14: warning: ‘COIN_INT_MAX_AS_DOUBLE’ defined but not used [-Wunused-variable]\n",
      " const double COIN_INT_MAX_AS_DOUBLE = (std::numeric_limits<int>::max)();\n",
      "              ^\n"
     ]
    },
    {
     "name": "stdout",
     "output_type": "stream",
     "text": [
      " g++ -DHAVE_CONFIG_H -I. -I. -I/home/pedro/.julia/v0.5/Cbc/deps/src/Cbc-2.9.8/CoinUtils/src -DCOIN_HAS_CLP -O3 -pipe -DNDEBUG -pedantic-errors -Wparentheses -Wreturn-type -Wcast-qual -Wall -Wpointer-arith -Wwrite-strings -Wconversion -Wno-unknown-pragmas -Wno-long-long -DCLP_BUILD -MT ClpSimplex.lo -MD -MP -MF .deps/ClpSimplex.Tpo -c ClpSimplex.cpp  -fPIC -DPIC -o .libs/ClpSimplex.o\n"
     ]
    },
    {
     "name": "stderr",
     "output_type": "stream",
     "text": [
      "ClpSimplex.cpp: In member function ‘int ClpSimplex::fathom(void*)’:\n",
      "ClpSimplex.cpp:11081:15: warning: unused variable ‘statusWeights’ [-Wunused-variable]\n",
      "           int statusWeights = fastDual2(info);\n",
      "               ^\n"
     ]
    },
    {
     "name": "stdout",
     "output_type": "stream",
     "text": [
      "if /bin/bash ../../libtool --tag=CXX --mode=compile g++ -DHAVE_CONFIG_H -I. -I`echo .`  -I/home/pedro/.julia/v0.5/Cbc/deps/src/Cbc-2.9.8/CoinUtils/src  -DCOIN_HAS_CLP     -O3 -pipe -DNDEBUG -pedantic-errors -Wparentheses -Wreturn-type -Wcast-qual -Wall -Wpointer-arith -Wwrite-strings -Wconversion -Wno-unknown-pragmas -Wno-long-long   -DCLP_BUILD -MT ClpSimplexDual.lo -MD -MP -MF \".deps/ClpSimplexDual.Tpo\" -c -o ClpSimplexDual.lo ClpSimplexDual.cpp; \\\n",
      "then mv -f \".deps/ClpSimplexDual.Tpo\" \".deps/ClpSimplexDual.Plo\"; else rm -f \".deps/ClpSimplexDual.Tpo\"; exit 1; fi\n"
     ]
    },
    {
     "name": "stderr",
     "output_type": "stream",
     "text": [
      "In file included from /home/pedro/.julia/v0.5/Cbc/deps/src/Cbc-2.9.8/CoinUtils/src/CoinFloatEqual.hpp:12:0,\n",
      "                 from ClpSimplex.cpp:17:\n",
      "/home/pedro/.julia/v0.5/Cbc/deps/src/Cbc-2.9.8/CoinUtils/src/CoinFinite.hpp: At global scope:\n",
      "/home/pedro/.julia/v0.5/Cbc/deps/src/Cbc-2.9.8/CoinUtils/src/CoinFinite.hpp:19:14: warning: ‘COIN_INT_MAX’ defined but not used [-Wunused-variable]\n",
      " const int    COIN_INT_MAX = (std::numeric_limits<int>::max)();\n",
      "              ^\n",
      "/home/pedro/.julia/v0.5/Cbc/deps/src/Cbc-2.9.8/CoinUtils/src/CoinFinite.hpp:20:14: warning: ‘COIN_INT_MAX_AS_DOUBLE’ defined but not used [-Wunused-variable]\n",
      " const double COIN_INT_MAX_AS_DOUBLE = (std::numeric_limits<int>::max)();\n",
      "              ^\n"
     ]
    },
    {
     "name": "stdout",
     "output_type": "stream",
     "text": [
      " g++ -DHAVE_CONFIG_H -I. -I. -I/home/pedro/.julia/v0.5/Cbc/deps/src/Cbc-2.9.8/CoinUtils/src -DCOIN_HAS_CLP -O3 -pipe -DNDEBUG -pedantic-errors -Wparentheses -Wreturn-type -Wcast-qual -Wall -Wpointer-arith -Wwrite-strings -Wconversion -Wno-unknown-pragmas -Wno-long-long -DCLP_BUILD -MT ClpSimplexDual.lo -MD -MP -MF .deps/ClpSimplexDual.Tpo -c ClpSimplexDual.cpp  -fPIC -DPIC -o .libs/ClpSimplexDual.o\n"
     ]
    },
    {
     "name": "stderr",
     "output_type": "stream",
     "text": [
      "ClpSimplexDual.cpp: In member function ‘int ClpSimplexDual::dualColumn0(const CoinIndexedVector*, const CoinIndexedVector*, CoinIndexedVector*, double, double&, double&, double&)’:\n",
      "ClpSimplexDual.cpp:3621:15: warning: unused variable ‘bound’ [-Wunused-variable]\n",
      "     FakeBound bound = getFakeBound(jSequence);\n",
      "               ^\n"
     ]
    },
    {
     "name": "stdout",
     "output_type": "stream",
     "text": [
      "if /bin/bash ../../libtool --tag=CXX --mode=compile g++ -DHAVE_CONFIG_H -I. -I`echo .`  -I/home/pedro/.julia/v0.5/Cbc/deps/src/Cbc-2.9.8/CoinUtils/src  -DCOIN_HAS_CLP     -O3 -pipe -DNDEBUG -pedantic-errors -Wparentheses -Wreturn-type -Wcast-qual -Wall -Wpointer-arith -Wwrite-strings -Wconversion -Wno-unknown-pragmas -Wno-long-long   -DCLP_BUILD -MT ClpSimplexNonlinear.lo -MD -MP -MF \".deps/ClpSimplexNonlinear.Tpo\" -c -o ClpSimplexNonlinear.lo ClpSimplexNonlinear.cpp; \\\n",
      "then mv -f \".deps/ClpSimplexNonlinear.Tpo\" \".deps/ClpSimplexNonlinear.Plo\"; else rm -f \".deps/ClpSimplexNonlinear.Tpo\"; exit 1; fi\n"
     ]
    },
    {
     "name": "stderr",
     "output_type": "stream",
     "text": [
      "In file included from ClpModel.hpp:23:0,\n",
      "                 from ClpSimplex.hpp:16,\n",
      "                 from ClpSimplexDual.hpp:14,\n",
      "                 from ClpSimplexDual.cpp:101:\n",
      "/home/pedro/.julia/v0.5/Cbc/deps/src/Cbc-2.9.8/CoinUtils/src/CoinFinite.hpp: At global scope:\n",
      "/home/pedro/.julia/v0.5/Cbc/deps/src/Cbc-2.9.8/CoinUtils/src/CoinFinite.hpp:19:14: warning: ‘COIN_INT_MAX’ defined but not used [-Wunused-variable]\n",
      " const int    COIN_INT_MAX = (std::numeric_limits<int>::max)();\n",
      "              ^\n",
      "/home/pedro/.julia/v0.5/Cbc/deps/src/Cbc-2.9.8/CoinUtils/src/CoinFinite.hpp:20:14: warning: ‘COIN_INT_MAX_AS_DOUBLE’ defined but not used [-Wunused-variable]\n",
      " const double COIN_INT_MAX_AS_DOUBLE = (std::numeric_limits<int>::max)();\n",
      "              ^\n"
     ]
    },
    {
     "name": "stdout",
     "output_type": "stream",
     "text": [
      " g++ -DHAVE_CONFIG_H -I. -I. -I/home/pedro/.julia/v0.5/Cbc/deps/src/Cbc-2.9.8/CoinUtils/src -DCOIN_HAS_CLP -O3 -pipe -DNDEBUG -pedantic-errors -Wparentheses -Wreturn-type -Wcast-qual -Wall -Wpointer-arith -Wwrite-strings -Wconversion -Wno-unknown-pragmas -Wno-long-long -DCLP_BUILD -MT ClpSimplexNonlinear.lo -MD -MP -MF .deps/ClpSimplexNonlinear.Tpo -c ClpSimplexNonlinear.cpp  -fPIC -DPIC -o .libs/ClpSimplexNonlinear.o\n",
      "if /bin/bash ../../libtool --tag=CXX --mode=compile g++ -DHAVE_CONFIG_H -I. -I`echo .`  -I/home/pedro/.julia/v0.5/Cbc/deps/src/Cbc-2.9.8/CoinUtils/src  -DCOIN_HAS_CLP     -O3 -pipe -DNDEBUG -pedantic-errors -Wparentheses -Wreturn-type -Wcast-qual -Wall -Wpointer-arith -Wwrite-strings -Wconversion -Wno-unknown-pragmas -Wno-long-long   -DCLP_BUILD -MT ClpSimplexOther.lo -MD -MP -MF \".deps/ClpSimplexOther.Tpo\" -c -o ClpSimplexOther.lo ClpSimplexOther.cpp; \\\n",
      "then mv -f \".deps/ClpSimplexOther.Tpo\" \".deps/ClpSimplexOther.Plo\"; else rm -f \".deps/ClpSimplexOther.Tpo\"; exit 1; fi\n"
     ]
    },
    {
     "name": "stderr",
     "output_type": "stream",
     "text": [
      "In file included from ClpModel.hpp:23:0,\n",
      "                 from ClpSimplex.hpp:16,\n",
      "                 from ClpSimplexPrimal.hpp:14,\n",
      "                 from ClpSimplexNonlinear.hpp:18,\n",
      "                 from ClpSimplexNonlinear.cpp:11:\n",
      "/home/pedro/.julia/v0.5/Cbc/deps/src/Cbc-2.9.8/CoinUtils/src/CoinFinite.hpp:19:14: warning: ‘COIN_INT_MAX’ defined but not used [-Wunused-variable]\n",
      " const int    COIN_INT_MAX = (std::numeric_limits<int>::max)();\n",
      "              ^\n",
      "/home/pedro/.julia/v0.5/Cbc/deps/src/Cbc-2.9.8/CoinUtils/src/CoinFinite.hpp:20:14: warning: ‘COIN_INT_MAX_AS_DOUBLE’ defined but not used [-Wunused-variable]\n",
      " const double COIN_INT_MAX_AS_DOUBLE = (std::numeric_limits<int>::max)();\n",
      "              ^\n"
     ]
    },
    {
     "name": "stdout",
     "output_type": "stream",
     "text": [
      " g++ -DHAVE_CONFIG_H -I. -I. -I/home/pedro/.julia/v0.5/Cbc/deps/src/Cbc-2.9.8/CoinUtils/src -DCOIN_HAS_CLP -O3 -pipe -DNDEBUG -pedantic-errors -Wparentheses -Wreturn-type -Wcast-qual -Wall -Wpointer-arith -Wwrite-strings -Wconversion -Wno-unknown-pragmas -Wno-long-long -DCLP_BUILD -MT ClpSimplexOther.lo -MD -MP -MF .deps/ClpSimplexOther.Tpo -c ClpSimplexOther.cpp  -fPIC -DPIC -o .libs/ClpSimplexOther.o\n"
     ]
    },
    {
     "name": "stderr",
     "output_type": "stream",
     "text": [
      "ClpSimplexOther.cpp: In member function ‘int ClpSimplexOther::setInDual(ClpSimplex*)’:\n",
      "ClpSimplexOther.cpp:1313:12: warning: unused variable ‘statusD’ [-Wunused-variable]\n",
      "     Status statusD = dualProblem->getRowStatus(iColumn);\n",
      "            ^\n",
      "ClpSimplexOther.cpp:1314:12: warning: unused variable ‘statusDJ’ [-Wunused-variable]\n",
      "     Status statusDJ = dualProblem->getColumnStatus(jColumn);\n",
      "            ^\n",
      "ClpSimplexOther.cpp:1352:12: warning: unused variable ‘statusD’ [-Wunused-variable]\n",
      "     Status statusD = dualProblem->getColumnStatus(iRow);\n",
      "            ^\n",
      "In file included from ClpModel.hpp:23:0,\n",
      "                 from ClpSimplex.hpp:16,\n",
      "                 from ClpSimplexOther.hpp:14,\n",
      "                 from ClpSimplexOther.cpp:11:\n",
      "/home/pedro/.julia/v0.5/Cbc/deps/src/Cbc-2.9.8/CoinUtils/src/CoinFinite.hpp: At global scope:\n",
      "/home/pedro/.julia/v0.5/Cbc/deps/src/Cbc-2.9.8/CoinUtils/src/CoinFinite.hpp:19:14: warning: ‘COIN_INT_MAX’ defined but not used [-Wunused-variable]\n",
      " const int    COIN_INT_MAX = (std::numeric_limits<int>::max)();\n",
      "              ^\n",
      "/home/pedro/.julia/v0.5/Cbc/deps/src/Cbc-2.9.8/CoinUtils/src/CoinFinite.hpp:20:14: warning: ‘COIN_INT_MAX_AS_DOUBLE’ defined but not used [-Wunused-variable]\n",
      " const double COIN_INT_MAX_AS_DOUBLE = (std::numeric_limits<int>::max)();\n",
      "              ^\n"
     ]
    },
    {
     "name": "stdout",
     "output_type": "stream",
     "text": [
      "if /bin/bash ../../libtool --tag=CXX --mode=compile g++ -DHAVE_CONFIG_H -I. -I`echo .`  -I/home/pedro/.julia/v0.5/Cbc/deps/src/Cbc-2.9.8/CoinUtils/src  -DCOIN_HAS_CLP     -O3 -pipe -DNDEBUG -pedantic-errors -Wparentheses -Wreturn-type -Wcast-qual -Wall -Wpointer-arith -Wwrite-strings -Wconversion -Wno-unknown-pragmas -Wno-long-long   -DCLP_BUILD -MT ClpSimplexPrimal.lo -MD -MP -MF \".deps/ClpSimplexPrimal.Tpo\" -c -o ClpSimplexPrimal.lo ClpSimplexPrimal.cpp; \\\n",
      "then mv -f \".deps/ClpSimplexPrimal.Tpo\" \".deps/ClpSimplexPrimal.Plo\"; else rm -f \".deps/ClpSimplexPrimal.Tpo\"; exit 1; fi\n",
      " g++ -DHAVE_CONFIG_H -I. -I. -I/home/pedro/.julia/v0.5/Cbc/deps/src/Cbc-2.9.8/CoinUtils/src -DCOIN_HAS_CLP -O3 -pipe -DNDEBUG -pedantic-errors -Wparentheses -Wreturn-type -Wcast-qual -Wall -Wpointer-arith -Wwrite-strings -Wconversion -Wno-unknown-pragmas -Wno-long-long -DCLP_BUILD -MT ClpSimplexPrimal.lo -MD -MP -MF .deps/ClpSimplexPrimal.Tpo -c ClpSimplexPrimal.cpp  -fPIC -DPIC -o .libs/ClpSimplexPrimal.o\n",
      "if /bin/bash ../../libtool --tag=CXX --mode=compile g++ -DHAVE_CONFIG_H -I. -I`echo .`  -I/home/pedro/.julia/v0.5/Cbc/deps/src/Cbc-2.9.8/CoinUtils/src  -DCOIN_HAS_CLP     -O3 -pipe -DNDEBUG -pedantic-errors -Wparentheses -Wreturn-type -Wcast-qual -Wall -Wpointer-arith -Wwrite-strings -Wconversion -Wno-unknown-pragmas -Wno-long-long   -DCLP_BUILD -MT ClpSolve.lo -MD -MP -MF \".deps/ClpSolve.Tpo\" -c -o ClpSolve.lo ClpSolve.cpp; \\\n",
      "then mv -f \".deps/ClpSolve.Tpo\" \".deps/ClpSolve.Plo\"; else rm -f \".deps/ClpSolve.Tpo\"; exit 1; fi\n"
     ]
    },
    {
     "name": "stderr",
     "output_type": "stream",
     "text": [
      "In file included from ClpModel.hpp:23:0,\n",
      "                 from ClpSimplex.hpp:16,\n",
      "                 from ClpSimplexPrimal.hpp:14,\n",
      "                 from ClpSimplexPrimal.cpp:86:\n",
      "/home/pedro/.julia/v0.5/Cbc/deps/src/Cbc-2.9.8/CoinUtils/src/CoinFinite.hpp:19:14: warning: ‘COIN_INT_MAX’ defined but not used [-Wunused-variable]\n",
      " const int    COIN_INT_MAX = (std::numeric_limits<int>::max)();\n",
      "              ^\n",
      "/home/pedro/.julia/v0.5/Cbc/deps/src/Cbc-2.9.8/CoinUtils/src/CoinFinite.hpp:20:14: warning: ‘COIN_INT_MAX_AS_DOUBLE’ defined but not used [-Wunused-variable]\n",
      " const double COIN_INT_MAX_AS_DOUBLE = (std::numeric_limits<int>::max)();\n",
      "              ^\n"
     ]
    },
    {
     "name": "stdout",
     "output_type": "stream",
     "text": [
      " g++ -DHAVE_CONFIG_H -I. -I. -I/home/pedro/.julia/v0.5/Cbc/deps/src/Cbc-2.9.8/CoinUtils/src -DCOIN_HAS_CLP -O3 -pipe -DNDEBUG -pedantic-errors -Wparentheses -Wreturn-type -Wcast-qual -Wall -Wpointer-arith -Wwrite-strings -Wconversion -Wno-unknown-pragmas -Wno-long-long -DCLP_BUILD -MT ClpSolve.lo -MD -MP -MF .deps/ClpSolve.Tpo -c ClpSolve.cpp  -fPIC -DPIC -o .libs/ClpSolve.o\n",
      "if /bin/bash ../../libtool --tag=CXX --mode=compile g++ -DHAVE_CONFIG_H -I. -I`echo .`  -I/home/pedro/.julia/v0.5/Cbc/deps/src/Cbc-2.9.8/CoinUtils/src  -DCOIN_HAS_CLP     -O3 -pipe -DNDEBUG -pedantic-errors -Wparentheses -Wreturn-type -Wcast-qual -Wall -Wpointer-arith -Wwrite-strings -Wconversion -Wno-unknown-pragmas -Wno-long-long   -DCLP_BUILD -MT Idiot.lo -MD -MP -MF \".deps/Idiot.Tpo\" -c -o Idiot.lo Idiot.cpp; \\\n",
      "then mv -f \".deps/Idiot.Tpo\" \".deps/Idiot.Plo\"; else rm -f \".deps/Idiot.Tpo\"; exit 1; fi\n"
     ]
    },
    {
     "name": "stderr",
     "output_type": "stream",
     "text": [
      "In file included from /home/pedro/.julia/v0.5/Cbc/deps/src/Cbc-2.9.8/CoinUtils/src/CoinIndexedVector.hpp:15:0,\n",
      "                 from /home/pedro/.julia/v0.5/Cbc/deps/src/Cbc-2.9.8/CoinUtils/src/CoinFactorization.hpp:22,\n",
      "                 from ClpFactorization.hpp:12,\n",
      "                 from ClpSolve.cpp:29:\n",
      "/home/pedro/.julia/v0.5/Cbc/deps/src/Cbc-2.9.8/CoinUtils/src/CoinFinite.hpp:20:14: warning: ‘COIN_INT_MAX_AS_DOUBLE’ defined but not used [-Wunused-variable]\n",
      " const double COIN_INT_MAX_AS_DOUBLE = (std::numeric_limits<int>::max)();\n",
      "              ^\n"
     ]
    },
    {
     "name": "stdout",
     "output_type": "stream",
     "text": [
      " g++ -DHAVE_CONFIG_H -I. -I. -I/home/pedro/.julia/v0.5/Cbc/deps/src/Cbc-2.9.8/CoinUtils/src -DCOIN_HAS_CLP -O3 -pipe -DNDEBUG -pedantic-errors -Wparentheses -Wreturn-type -Wcast-qual -Wall -Wpointer-arith -Wwrite-strings -Wconversion -Wno-unknown-pragmas -Wno-long-long -DCLP_BUILD -MT Idiot.lo -MD -MP -MF .deps/Idiot.Tpo -c Idiot.cpp  -fPIC -DPIC -o .libs/Idiot.o\n",
      "if /bin/bash ../../libtool --tag=CXX --mode=compile g++ -DHAVE_CONFIG_H -I. -I`echo .`  -I/home/pedro/.julia/v0.5/Cbc/deps/src/Cbc-2.9.8/CoinUtils/src  -DCOIN_HAS_CLP     -O3 -pipe -DNDEBUG -pedantic-errors -Wparentheses -Wreturn-type -Wcast-qual -Wall -Wpointer-arith -Wwrite-strings -Wconversion -Wno-unknown-pragmas -Wno-long-long   -DCLP_BUILD -MT IdiSolve.lo -MD -MP -MF \".deps/IdiSolve.Tpo\" -c -o IdiSolve.lo IdiSolve.cpp; \\\n",
      "then mv -f \".deps/IdiSolve.Tpo\" \".deps/IdiSolve.Plo\"; else rm -f \".deps/IdiSolve.Tpo\"; exit 1; fi\n"
     ]
    },
    {
     "name": "stderr",
     "output_type": "stream",
     "text": [
      "In file included from ClpModel.hpp:23:0,\n",
      "                 from ClpSimplex.hpp:16,\n",
      "                 from ClpPresolve.hpp:8,\n",
      "                 from Idiot.cpp:11:\n",
      "/home/pedro/.julia/v0.5/Cbc/deps/src/Cbc-2.9.8/CoinUtils/src/CoinFinite.hpp:19:14: warning: ‘COIN_INT_MAX’ defined but not used [-Wunused-variable]\n",
      " const int    COIN_INT_MAX = (std::numeric_limits<int>::max)();\n",
      "              ^\n",
      "/home/pedro/.julia/v0.5/Cbc/deps/src/Cbc-2.9.8/CoinUtils/src/CoinFinite.hpp:20:14: warning: ‘COIN_INT_MAX_AS_DOUBLE’ defined but not used [-Wunused-variable]\n",
      " const double COIN_INT_MAX_AS_DOUBLE = (std::numeric_limits<int>::max)();\n",
      "              ^\n"
     ]
    },
    {
     "name": "stdout",
     "output_type": "stream",
     "text": [
      " g++ -DHAVE_CONFIG_H -I. -I. -I/home/pedro/.julia/v0.5/Cbc/deps/src/Cbc-2.9.8/CoinUtils/src -DCOIN_HAS_CLP -O3 -pipe -DNDEBUG -pedantic-errors -Wparentheses -Wreturn-type -Wcast-qual -Wall -Wpointer-arith -Wwrite-strings -Wconversion -Wno-unknown-pragmas -Wno-long-long -DCLP_BUILD -MT IdiSolve.lo -MD -MP -MF .deps/IdiSolve.Tpo -c IdiSolve.cpp  -fPIC -DPIC -o .libs/IdiSolve.o\n",
      "/bin/bash ../../libtool --tag=CXX --mode=link g++  -O3 -pipe -DNDEBUG -pedantic-errors -Wparentheses -Wreturn-type -Wcast-qual -Wall -Wpointer-arith -Wwrite-strings -Wconversion -Wno-unknown-pragmas -Wno-long-long   -DCLP_BUILD   -o libClp.la -rpath /home/pedro/.julia/v0.5/Cbc/deps/usr/lib -no-undefined -version-info 14:10:13 ClpCholeskyBase.lo ClpCholeskyDense.lo ClpConstraint.lo ClpConstraintLinear.lo ClpConstraintQuadratic.lo Clp_C_Interface.lo ClpDualRowDantzig.lo ClpDualRowPivot.lo ClpDualRowSteepest.lo ClpDummyMatrix.lo ClpDynamicExampleMatrix.lo ClpDynamicMatrix.lo ClpEventHandler.lo ClpFactorization.lo ClpGubDynamicMatrix.lo ClpGubMatrix.lo ClpHelperFunctions.lo ClpInterior.lo ClpLinearObjective.lo ClpMatrixBase.lo ClpMessage.lo ClpModel.lo ClpNetworkBasis.lo ClpNetworkMatrix.lo ClpNonLinearCost.lo ClpNode.lo ClpObjective.lo ClpPackedMatrix.lo ClpPlusMinusOneMatrix.lo ClpPredictorCorrector.lo ClpPdco.lo ClpPdcoBase.lo ClpLsqr.lo ClpPresolve.lo ClpPrimalColumnDantzig.lo ClpPrimalColumnPivot.lo ClpPrimalColumnSteepest.lo ClpQuadraticObjective.lo ClpSimplex.lo ClpSimplexDual.lo ClpSimplexNonlinear.lo ClpSimplexOther.lo ClpSimplexPrimal.lo ClpSolve.lo Idiot.lo IdiSolve.lo       /home/pedro/.julia/v0.5/Cbc/deps/src/Cbc-2.9.8/CoinUtils/src/libCoinUtils.la -lm  \n"
     ]
    },
    {
     "name": "stderr",
     "output_type": "stream",
     "text": [
      "In file included from ClpModel.hpp:23:0,\n",
      "                 from ClpSimplex.hpp:16,\n",
      "                 from Idiot.hpp:13,\n",
      "                 from IdiSolve.cpp:12:\n",
      "/home/pedro/.julia/v0.5/Cbc/deps/src/Cbc-2.9.8/CoinUtils/src/CoinFinite.hpp:17:14: warning: ‘COIN_DBL_MIN’ defined but not used [-Wunused-variable]\n",
      " const double COIN_DBL_MIN = (std::numeric_limits<double>::min)();\n",
      "              ^\n",
      "/home/pedro/.julia/v0.5/Cbc/deps/src/Cbc-2.9.8/CoinUtils/src/CoinFinite.hpp:19:14: warning: ‘COIN_INT_MAX’ defined but not used [-Wunused-variable]\n",
      " const int    COIN_INT_MAX = (std::numeric_limits<int>::max)();\n",
      "              ^\n",
      "/home/pedro/.julia/v0.5/Cbc/deps/src/Cbc-2.9.8/CoinUtils/src/CoinFinite.hpp:20:14: warning: ‘COIN_INT_MAX_AS_DOUBLE’ defined but not used [-Wunused-variable]\n",
      " const double COIN_INT_MAX_AS_DOUBLE = (std::numeric_limits<int>::max)();\n",
      "              ^\n"
     ]
    },
    {
     "name": "stdout",
     "output_type": "stream",
     "text": [
      "g++ -shared -nostdlib /usr/lib/gcc/x86_64-linux-gnu/5/../../../x86_64-linux-gnu/crti.o /usr/lib/gcc/x86_64-linux-gnu/5/crtbeginS.o  .libs/ClpCholeskyBase.o .libs/ClpCholeskyDense.o .libs/ClpConstraint.o .libs/ClpConstraintLinear.o .libs/ClpConstraintQuadratic.o .libs/Clp_C_Interface.o .libs/ClpDualRowDantzig.o .libs/ClpDualRowPivot.o .libs/ClpDualRowSteepest.o .libs/ClpDummyMatrix.o .libs/ClpDynamicExampleMatrix.o .libs/ClpDynamicMatrix.o .libs/ClpEventHandler.o .libs/ClpFactorization.o .libs/ClpGubDynamicMatrix.o .libs/ClpGubMatrix.o .libs/ClpHelperFunctions.o .libs/ClpInterior.o .libs/ClpLinearObjective.o .libs/ClpMatrixBase.o .libs/ClpMessage.o .libs/ClpModel.o .libs/ClpNetworkBasis.o .libs/ClpNetworkMatrix.o .libs/ClpNonLinearCost.o .libs/ClpNode.o .libs/ClpObjective.o .libs/ClpPackedMatrix.o .libs/ClpPlusMinusOneMatrix.o .libs/ClpPredictorCorrector.o .libs/ClpPdco.o .libs/ClpPdcoBase.o .libs/ClpLsqr.o .libs/ClpPresolve.o .libs/ClpPrimalColumnDantzig.o .libs/ClpPrimalColumnPivot.o .libs/ClpPrimalColumnSteepest.o .libs/ClpQuadraticObjective.o .libs/ClpSimplex.o .libs/ClpSimplexDual.o .libs/ClpSimplexNonlinear.o .libs/ClpSimplexOther.o .libs/ClpSimplexPrimal.o .libs/ClpSolve.o .libs/Idiot.o .libs/IdiSolve.o  -Wl,--rpath -Wl,/home/pedro/.julia/v0.5/Cbc/deps/src/Cbc-2.9.8/CoinUtils/src/.libs -Wl,--rpath -Wl,/home/pedro/.julia/v0.5/Cbc/deps/usr/lib /home/pedro/.julia/v0.5/Cbc/deps/src/Cbc-2.9.8/CoinUtils/src/.libs/libCoinUtils.so -L/usr/lib/gcc/x86_64-linux-gnu/5 -L/usr/lib/gcc/x86_64-linux-gnu/5/../../../x86_64-linux-gnu -L/usr/lib/gcc/x86_64-linux-gnu/5/../../../../lib -L/lib/x86_64-linux-gnu -L/lib/../lib -L/usr/lib/x86_64-linux-gnu -L/usr/lib/../lib -L/usr/lib/gcc/x86_64-linux-gnu/5/../../.. -lstdc++ -lm -lc -lgcc_s /usr/lib/gcc/x86_64-linux-gnu/5/crtendS.o /usr/lib/gcc/x86_64-linux-gnu/5/../../../x86_64-linux-gnu/crtn.o  -Wl,-soname -Wl,libClp.so.1 -o .libs/libClp.so.1.13.10\n",
      "(cd .libs && rm -f libClp.so.1 && ln -s libClp.so.1.13.10 libClp.so.1)\n",
      "(cd .libs && rm -f libClp.so && ln -s libClp.so.1.13.10 libClp.so)\n",
      "creating libClp.la\n",
      "(cd .libs && rm -f libClp.la && ln -s ../libClp.la libClp.la)\n",
      "if /bin/bash ../../libtool --tag=CXX --mode=compile g++ -DHAVE_CONFIG_H -I. -I`echo .`  -I/home/pedro/.julia/v0.5/Cbc/deps/src/Cbc-2.9.8/CoinUtils/src  -DCOIN_HAS_CLP     -O3 -pipe -DNDEBUG -pedantic-errors -Wparentheses -Wreturn-type -Wcast-qual -Wall -Wpointer-arith -Wwrite-strings -Wconversion -Wno-unknown-pragmas -Wno-long-long   -DCLP_BUILD -MT ClpSolver.lo -MD -MP -MF \".deps/ClpSolver.Tpo\" -c -o ClpSolver.lo ClpSolver.cpp; \\\n",
      "then mv -f \".deps/ClpSolver.Tpo\" \".deps/ClpSolver.Plo\"; else rm -f \".deps/ClpSolver.Tpo\"; exit 1; fi\n",
      " g++ -DHAVE_CONFIG_H -I. -I. -I/home/pedro/.julia/v0.5/Cbc/deps/src/Cbc-2.9.8/CoinUtils/src -DCOIN_HAS_CLP -O3 -pipe -DNDEBUG -pedantic-errors -Wparentheses -Wreturn-type -Wcast-qual -Wall -Wpointer-arith -Wwrite-strings -Wconversion -Wno-unknown-pragmas -Wno-long-long -DCLP_BUILD -MT ClpSolver.lo -MD -MP -MF .deps/ClpSolver.Tpo -c ClpSolver.cpp  -fPIC -DPIC -o .libs/ClpSolver.o\n"
     ]
    },
    {
     "name": "stderr",
     "output_type": "stream",
     "text": [
      "ClpSolver.cpp: In function ‘void statistics(ClpSimplex*, ClpSimplex*)’:\n",
      "ClpSolver.cpp:3756:10: warning: variable ‘numberWritten’ set but not used [-Wunused-but-set-variable]\n",
      "   size_t numberWritten;\n",
      "          ^\n"
     ]
    },
    {
     "name": "stdout",
     "output_type": "stream",
     "text": [
      "if /bin/bash ../../libtool --tag=CXX --mode=compile g++ -DHAVE_CONFIG_H -I. -I`echo .`  -I/home/pedro/.julia/v0.5/Cbc/deps/src/Cbc-2.9.8/CoinUtils/src  -DCOIN_HAS_CLP     -O3 -pipe -DNDEBUG -pedantic-errors -Wparentheses -Wreturn-type -Wcast-qual -Wall -Wpointer-arith -Wwrite-strings -Wconversion -Wno-unknown-pragmas -Wno-long-long   -DCLP_BUILD -MT CbcOrClpParam.lo -MD -MP -MF \".deps/CbcOrClpParam.Tpo\" -c -o CbcOrClpParam.lo CbcOrClpParam.cpp; \\\n",
      "then mv -f \".deps/CbcOrClpParam.Tpo\" \".deps/CbcOrClpParam.Plo\"; else rm -f \".deps/CbcOrClpParam.Tpo\"; exit 1; fi\n"
     ]
    },
    {
     "name": "stderr",
     "output_type": "stream",
     "text": [
      "In file included from /home/pedro/.julia/v0.5/Cbc/deps/src/Cbc-2.9.8/CoinUtils/src/CoinIndexedVector.hpp:15:0,\n",
      "                 from /home/pedro/.julia/v0.5/Cbc/deps/src/Cbc-2.9.8/CoinUtils/src/CoinFactorization.hpp:22,\n",
      "                 from ClpFactorization.hpp:12,\n",
      "                 from ClpSolver.cpp:45:\n",
      "/home/pedro/.julia/v0.5/Cbc/deps/src/Cbc-2.9.8/CoinUtils/src/CoinFinite.hpp: At global scope:\n",
      "/home/pedro/.julia/v0.5/Cbc/deps/src/Cbc-2.9.8/CoinUtils/src/CoinFinite.hpp:19:14: warning: ‘COIN_INT_MAX’ defined but not used [-Wunused-variable]\n",
      " const int    COIN_INT_MAX = (std::numeric_limits<int>::max)();\n",
      "              ^\n",
      "/home/pedro/.julia/v0.5/Cbc/deps/src/Cbc-2.9.8/CoinUtils/src/CoinFinite.hpp:20:14: warning: ‘COIN_INT_MAX_AS_DOUBLE’ defined but not used [-Wunused-variable]\n",
      " const double COIN_INT_MAX_AS_DOUBLE = (std::numeric_limits<int>::max)();\n",
      "              ^\n"
     ]
    },
    {
     "name": "stdout",
     "output_type": "stream",
     "text": [
      " g++ -DHAVE_CONFIG_H -I. -I. -I/home/pedro/.julia/v0.5/Cbc/deps/src/Cbc-2.9.8/CoinUtils/src -DCOIN_HAS_CLP -O3 -pipe -DNDEBUG -pedantic-errors -Wparentheses -Wreturn-type -Wcast-qual -Wall -Wpointer-arith -Wwrite-strings -Wconversion -Wno-unknown-pragmas -Wno-long-long -DCLP_BUILD -MT CbcOrClpParam.lo -MD -MP -MF .deps/CbcOrClpParam.Tpo -c CbcOrClpParam.cpp  -fPIC -DPIC -o .libs/CbcOrClpParam.o\n",
      "if /bin/bash ../../libtool --tag=CXX --mode=compile g++ -DHAVE_CONFIG_H -I. -I`echo .`  -I/home/pedro/.julia/v0.5/Cbc/deps/src/Cbc-2.9.8/CoinUtils/src  -DCOIN_HAS_CLP     -O3 -pipe -DNDEBUG -pedantic-errors -Wparentheses -Wreturn-type -Wcast-qual -Wall -Wpointer-arith -Wwrite-strings -Wconversion -Wno-unknown-pragmas -Wno-long-long   -DCLP_BUILD -MT Clp_ampl.lo -MD -MP -MF \".deps/Clp_ampl.Tpo\" -c -o Clp_ampl.lo Clp_ampl.cpp; \\\n",
      "then mv -f \".deps/Clp_ampl.Tpo\" \".deps/Clp_ampl.Plo\"; else rm -f \".deps/Clp_ampl.Tpo\"; exit 1; fi\n"
     ]
    },
    {
     "name": "stderr",
     "output_type": "stream",
     "text": [
      "In file included from ClpModel.hpp:23:0,\n",
      "                 from ClpSimplex.hpp:16,\n",
      "                 from CbcOrClpParam.cpp:23:\n",
      "/home/pedro/.julia/v0.5/Cbc/deps/src/Cbc-2.9.8/CoinUtils/src/CoinFinite.hpp:19:14: warning: ‘COIN_INT_MAX’ defined but not used [-Wunused-variable]\n",
      " const int    COIN_INT_MAX = (std::numeric_limits<int>::max)();\n",
      "              ^\n",
      "/home/pedro/.julia/v0.5/Cbc/deps/src/Cbc-2.9.8/CoinUtils/src/CoinFinite.hpp:20:14: warning: ‘COIN_INT_MAX_AS_DOUBLE’ defined but not used [-Wunused-variable]\n",
      " const double COIN_INT_MAX_AS_DOUBLE = (std::numeric_limits<int>::max)();\n",
      "              ^\n"
     ]
    },
    {
     "name": "stdout",
     "output_type": "stream",
     "text": [
      " g++ -DHAVE_CONFIG_H -I. -I. -I/home/pedro/.julia/v0.5/Cbc/deps/src/Cbc-2.9.8/CoinUtils/src -DCOIN_HAS_CLP -O3 -pipe -DNDEBUG -pedantic-errors -Wparentheses -Wreturn-type -Wcast-qual -Wall -Wpointer-arith -Wwrite-strings -Wconversion -Wno-unknown-pragmas -Wno-long-long -DCLP_BUILD -MT Clp_ampl.lo -MD -MP -MF .deps/Clp_ampl.Tpo -c Clp_ampl.cpp  -fPIC -DPIC -o .libs/Clp_ampl.o\n",
      "if /bin/bash ../../libtool --tag=CXX --mode=compile g++ -DHAVE_CONFIG_H -I. -I`echo .`  -I/home/pedro/.julia/v0.5/Cbc/deps/src/Cbc-2.9.8/CoinUtils/src  -DCOIN_HAS_CLP     -O3 -pipe -DNDEBUG -pedantic-errors -Wparentheses -Wreturn-type -Wcast-qual -Wall -Wpointer-arith -Wwrite-strings -Wconversion -Wno-unknown-pragmas -Wno-long-long   -DCLP_BUILD -MT MyEventHandler.lo -MD -MP -MF \".deps/MyEventHandler.Tpo\" -c -o MyEventHandler.lo MyEventHandler.cpp; \\\n",
      "then mv -f \".deps/MyEventHandler.Tpo\" \".deps/MyEventHandler.Plo\"; else rm -f \".deps/MyEventHandler.Tpo\"; exit 1; fi\n",
      " g++ -DHAVE_CONFIG_H -I. -I. -I/home/pedro/.julia/v0.5/Cbc/deps/src/Cbc-2.9.8/CoinUtils/src -DCOIN_HAS_CLP -O3 -pipe -DNDEBUG -pedantic-errors -Wparentheses -Wreturn-type -Wcast-qual -Wall -Wpointer-arith -Wwrite-strings -Wconversion -Wno-unknown-pragmas -Wno-long-long -DCLP_BUILD -MT MyEventHandler.lo -MD -MP -MF .deps/MyEventHandler.Tpo -c MyEventHandler.cpp  -fPIC -DPIC -o .libs/MyEventHandler.o\n"
     ]
    },
    {
     "name": "stderr",
     "output_type": "stream",
     "text": [
      "In file included from ClpModel.hpp:23:0,\n",
      "                 from ClpSimplex.hpp:16,\n",
      "                 from ClpEventHandler.hpp:9,\n",
      "                 from MyEventHandler.hpp:9,\n",
      "                 from MyEventHandler.cpp:11:\n",
      "/home/pedro/.julia/v0.5/Cbc/deps/src/Cbc-2.9.8/CoinUtils/src/CoinFinite.hpp:17:14: warning: ‘COIN_DBL_MIN’ defined but not used [-Wunused-variable]\n",
      " const double COIN_DBL_MIN = (std::numeric_limits<double>::min)();\n",
      "              ^\n",
      "/home/pedro/.julia/v0.5/Cbc/deps/src/Cbc-2.9.8/CoinUtils/src/CoinFinite.hpp:19:14: warning: ‘COIN_INT_MAX’ defined but not used [-Wunused-variable]\n",
      " const int    COIN_INT_MAX = (std::numeric_limits<int>::max)();\n",
      "              ^\n",
      "/home/pedro/.julia/v0.5/Cbc/deps/src/Cbc-2.9.8/CoinUtils/src/CoinFinite.hpp:20:14: warning: ‘COIN_INT_MAX_AS_DOUBLE’ defined but not used [-Wunused-variable]\n",
      " const double COIN_INT_MAX_AS_DOUBLE = (std::numeric_limits<int>::max)();\n",
      "              ^\n"
     ]
    },
    {
     "name": "stdout",
     "output_type": "stream",
     "text": [
      "if /bin/bash ../../libtool --tag=CXX --mode=compile g++ -DHAVE_CONFIG_H -I. -I`echo .`  -I/home/pedro/.julia/v0.5/Cbc/deps/src/Cbc-2.9.8/CoinUtils/src  -DCOIN_HAS_CLP     -O3 -pipe -DNDEBUG -pedantic-errors -Wparentheses -Wreturn-type -Wcast-qual -Wall -Wpointer-arith -Wwrite-strings -Wconversion -Wno-unknown-pragmas -Wno-long-long   -DCLP_BUILD -MT MyMessageHandler.lo -MD -MP -MF \".deps/MyMessageHandler.Tpo\" -c -o MyMessageHandler.lo MyMessageHandler.cpp; \\\n",
      "then mv -f \".deps/MyMessageHandler.Tpo\" \".deps/MyMessageHandler.Plo\"; else rm -f \".deps/MyMessageHandler.Tpo\"; exit 1; fi\n",
      " g++ -DHAVE_CONFIG_H -I. -I. -I/home/pedro/.julia/v0.5/Cbc/deps/src/Cbc-2.9.8/CoinUtils/src -DCOIN_HAS_CLP -O3 -pipe -DNDEBUG -pedantic-errors -Wparentheses -Wreturn-type -Wcast-qual -Wall -Wpointer-arith -Wwrite-strings -Wconversion -Wno-unknown-pragmas -Wno-long-long -DCLP_BUILD -MT MyMessageHandler.lo -MD -MP -MF .deps/MyMessageHandler.Tpo -c MyMessageHandler.cpp  -fPIC -DPIC -o .libs/MyMessageHandler.o\n",
      "if /bin/bash ../../libtool --tag=CXX --mode=compile g++ -DHAVE_CONFIG_H -I. -I`echo .`  -I/home/pedro/.julia/v0.5/Cbc/deps/src/Cbc-2.9.8/CoinUtils/src  -DCOIN_HAS_CLP     -O3 -pipe -DNDEBUG -pedantic-errors -Wparentheses -Wreturn-type -Wcast-qual -Wall -Wpointer-arith -Wwrite-strings -Wconversion -Wno-unknown-pragmas -Wno-long-long   -DCLP_BUILD -MT unitTest.lo -MD -MP -MF \".deps/unitTest.Tpo\" -c -o unitTest.lo unitTest.cpp; \\\n",
      "then mv -f \".deps/unitTest.Tpo\" \".deps/unitTest.Plo\"; else rm -f \".deps/unitTest.Tpo\"; exit 1; fi\n"
     ]
    },
    {
     "name": "stderr",
     "output_type": "stream",
     "text": [
      "In file included from ClpModel.hpp:23:0,\n",
      "                 from ClpSimplex.hpp:16,\n",
      "                 from MyMessageHandler.cpp:14:\n",
      "/home/pedro/.julia/v0.5/Cbc/deps/src/Cbc-2.9.8/CoinUtils/src/CoinFinite.hpp:17:14: warning: ‘COIN_DBL_MIN’ defined but not used [-Wunused-variable]\n",
      " const double COIN_DBL_MIN = (std::numeric_limits<double>::min)();\n",
      "              ^\n",
      "/home/pedro/.julia/v0.5/Cbc/deps/src/Cbc-2.9.8/CoinUtils/src/CoinFinite.hpp:19:14: warning: ‘COIN_INT_MAX’ defined but not used [-Wunused-variable]\n",
      " const int    COIN_INT_MAX = (std::numeric_limits<int>::max)();\n",
      "              ^\n",
      "/home/pedro/.julia/v0.5/Cbc/deps/src/Cbc-2.9.8/CoinUtils/src/CoinFinite.hpp:20:14: warning: ‘COIN_INT_MAX_AS_DOUBLE’ defined but not used [-Wunused-variable]\n",
      " const double COIN_INT_MAX_AS_DOUBLE = (std::numeric_limits<int>::max)();\n",
      "              ^\n"
     ]
    },
    {
     "name": "stdout",
     "output_type": "stream",
     "text": [
      " g++ -DHAVE_CONFIG_H -I. -I. -I/home/pedro/.julia/v0.5/Cbc/deps/src/Cbc-2.9.8/CoinUtils/src -DCOIN_HAS_CLP -O3 -pipe -DNDEBUG -pedantic-errors -Wparentheses -Wreturn-type -Wcast-qual -Wall -Wpointer-arith -Wwrite-strings -Wconversion -Wno-unknown-pragmas -Wno-long-long -DCLP_BUILD -MT unitTest.lo -MD -MP -MF .deps/unitTest.Tpo -c unitTest.cpp  -fPIC -DPIC -o .libs/unitTest.o\n"
     ]
    },
    {
     "name": "stderr",
     "output_type": "stream",
     "text": [
      "In file included from /home/pedro/.julia/v0.5/Cbc/deps/src/Cbc-2.9.8/CoinUtils/src/CoinModel.hpp:12:0,\n",
      "                 from /home/pedro/.julia/v0.5/Cbc/deps/src/Cbc-2.9.8/CoinUtils/src/CoinStructuredModel.hpp:9,\n",
      "                 from unitTest.cpp:23:\n",
      "/home/pedro/.julia/v0.5/Cbc/deps/src/Cbc-2.9.8/CoinUtils/src/CoinFinite.hpp:19:14: warning: ‘COIN_INT_MAX’ defined but not used [-Wunused-variable]\n",
      " const int    COIN_INT_MAX = (std::numeric_limits<int>::max)();\n",
      "              ^\n",
      "/home/pedro/.julia/v0.5/Cbc/deps/src/Cbc-2.9.8/CoinUtils/src/CoinFinite.hpp:20:14: warning: ‘COIN_INT_MAX_AS_DOUBLE’ defined but not used [-Wunused-variable]\n",
      " const double COIN_INT_MAX_AS_DOUBLE = (std::numeric_limits<int>::max)();\n",
      "              ^\n"
     ]
    },
    {
     "name": "stdout",
     "output_type": "stream",
     "text": [
      "/bin/bash ../../libtool --tag=CXX --mode=link g++  -O3 -pipe -DNDEBUG -pedantic-errors -Wparentheses -Wreturn-type -Wcast-qual -Wall -Wpointer-arith -Wwrite-strings -Wconversion -Wno-unknown-pragmas -Wno-long-long   -DCLP_BUILD   -o libClpSolver.la -rpath /home/pedro/.julia/v0.5/Cbc/deps/usr/lib -no-undefined -version-info 14:10:13 ClpSolver.lo CbcOrClpParam.lo Clp_ampl.lo MyEventHandler.lo MyMessageHandler.lo unitTest.lo /home/pedro/.julia/v0.5/Cbc/deps/src/Cbc-2.9.8/CoinUtils/src/libCoinUtils.la -lm  libClp.la \n",
      "g++ -shared -nostdlib /usr/lib/gcc/x86_64-linux-gnu/5/../../../x86_64-linux-gnu/crti.o /usr/lib/gcc/x86_64-linux-gnu/5/crtbeginS.o  .libs/ClpSolver.o .libs/CbcOrClpParam.o .libs/Clp_ampl.o .libs/MyEventHandler.o .libs/MyMessageHandler.o .libs/unitTest.o  -Wl,--rpath -Wl,/home/pedro/.julia/v0.5/Cbc/deps/src/Cbc-2.9.8/CoinUtils/src/.libs -Wl,--rpath -Wl,/home/pedro/.julia/v0.5/Cbc/deps/src/Cbc-2.9.8/Clp/src/.libs -Wl,--rpath -Wl,/home/pedro/.julia/v0.5/Cbc/deps/usr/lib -L/home/pedro/.julia/v0.5/Cbc/deps/src/Cbc-2.9.8/CoinUtils/src/.libs /home/pedro/.julia/v0.5/Cbc/deps/src/Cbc-2.9.8/CoinUtils/src/.libs/libCoinUtils.so ./.libs/libClp.so -L/usr/lib/gcc/x86_64-linux-gnu/5 -L/usr/lib/gcc/x86_64-linux-gnu/5/../../../x86_64-linux-gnu -L/usr/lib/gcc/x86_64-linux-gnu/5/../../../../lib -L/lib/x86_64-linux-gnu -L/lib/../lib -L/usr/lib/x86_64-linux-gnu -L/usr/lib/../lib -L/usr/lib/gcc/x86_64-linux-gnu/5/../../.. -lstdc++ -lm -lc -lgcc_s /usr/lib/gcc/x86_64-linux-gnu/5/crtendS.o /usr/lib/gcc/x86_64-linux-gnu/5/../../../x86_64-linux-gnu/crtn.o  -Wl,-soname -Wl,libClpSolver.so.1 -o .libs/libClpSolver.so.1.13.10\n",
      "(cd .libs && rm -f libClpSolver.so.1 && ln -s libClpSolver.so.1.13.10 libClpSolver.so.1)\n",
      "(cd .libs && rm -f libClpSolver.so && ln -s libClpSolver.so.1.13.10 libClpSolver.so)\n",
      "creating libClpSolver.la\n",
      "(cd .libs && rm -f libClpSolver.la && ln -s ../libClpSolver.la libClpSolver.la)\n",
      "if g++ -DHAVE_CONFIG_H -I. -I`echo .`  -I/home/pedro/.julia/v0.5/Cbc/deps/src/Cbc-2.9.8/CoinUtils/src  -DCOIN_HAS_CLP     -O3 -pipe -DNDEBUG -pedantic-errors -Wparentheses -Wreturn-type -Wcast-qual -Wall -Wpointer-arith -Wwrite-strings -Wconversion -Wno-unknown-pragmas -Wno-long-long   -DCLP_BUILD -MT ClpMain.o -MD -MP -MF \".deps/ClpMain.Tpo\" -c -o ClpMain.o ClpMain.cpp; \\\n",
      "then mv -f \".deps/ClpMain.Tpo\" \".deps/ClpMain.Po\"; else rm -f \".deps/ClpMain.Tpo\"; exit 1; fi\n",
      "/bin/bash ../../libtool --tag=CXX --mode=link g++  -O3 -pipe -DNDEBUG -pedantic-errors -Wparentheses -Wreturn-type -Wcast-qual -Wall -Wpointer-arith -Wwrite-strings -Wconversion -Wno-unknown-pragmas -Wno-long-long   -DCLP_BUILD   -o clp  ClpMain.o libClpSolver.la libClp.la /home/pedro/.julia/v0.5/Cbc/deps/src/Cbc-2.9.8/CoinUtils/src/libCoinUtils.la -lm   \n"
     ]
    },
    {
     "name": "stderr",
     "output_type": "stream",
     "text": [
      "In file included from ClpModel.hpp:23:0,\n",
      "                 from ClpSimplex.hpp:16,\n",
      "                 from ClpMain.cpp:9:\n",
      "/home/pedro/.julia/v0.5/Cbc/deps/src/Cbc-2.9.8/CoinUtils/src/CoinFinite.hpp:17:14: warning: ‘COIN_DBL_MIN’ defined but not used [-Wunused-variable]\n",
      " const double COIN_DBL_MIN = (std::numeric_limits<double>::min)();\n",
      "              ^\n",
      "/home/pedro/.julia/v0.5/Cbc/deps/src/Cbc-2.9.8/CoinUtils/src/CoinFinite.hpp:19:14: warning: ‘COIN_INT_MAX’ defined but not used [-Wunused-variable]\n",
      " const int    COIN_INT_MAX = (std::numeric_limits<int>::max)();\n",
      "              ^\n",
      "/home/pedro/.julia/v0.5/Cbc/deps/src/Cbc-2.9.8/CoinUtils/src/CoinFinite.hpp:20:14: warning: ‘COIN_INT_MAX_AS_DOUBLE’ defined but not used [-Wunused-variable]\n",
      " const double COIN_INT_MAX_AS_DOUBLE = (std::numeric_limits<int>::max)();\n",
      "              ^\n"
     ]
    },
    {
     "name": "stdout",
     "output_type": "stream",
     "text": [
      "g++ -O3 -pipe -DNDEBUG -pedantic-errors -Wparentheses -Wreturn-type -Wcast-qual -Wall -Wpointer-arith -Wwrite-strings -Wconversion -Wno-unknown-pragmas -Wno-long-long -DCLP_BUILD -o .libs/clp ClpMain.o  ./.libs/libClpSolver.so /home/pedro/.julia/v0.5/Cbc/deps/src/Cbc-2.9.8/Clp/src/.libs/libClp.so ./.libs/libClp.so /home/pedro/.julia/v0.5/Cbc/deps/src/Cbc-2.9.8/CoinUtils/src/.libs/libCoinUtils.so -lm -Wl,--rpath -Wl,/home/pedro/.julia/v0.5/Cbc/deps/usr/lib\n",
      "creating clp\n",
      "make[3]: Entering directory '/home/pedro/.julia/v0.5/Cbc/deps/src/Cbc-2.9.8/Clp/src'\n",
      "test -z \"/home/pedro/.julia/v0.5/Cbc/deps/usr/lib\" || mkdir -p -- \"/home/pedro/.julia/v0.5/Cbc/deps/usr/lib\"\n",
      " /bin/bash ../../libtool --mode=install /usr/bin/install -c  'libClp.la' '/home/pedro/.julia/v0.5/Cbc/deps/usr/lib/libClp.la'\n",
      "(cd /home/pedro/.julia/v0.5/Cbc/deps/src/Cbc-2.9.8/Clp/src; /bin/bash ../../libtool  --tag=CXX --mode=relink g++ -O3 -pipe -DNDEBUG -pedantic-errors -Wparentheses -Wreturn-type -Wcast-qual -Wall -Wpointer-arith -Wwrite-strings -Wconversion -Wno-unknown-pragmas -Wno-long-long -DCLP_BUILD -o libClp.la -rpath /home/pedro/.julia/v0.5/Cbc/deps/usr/lib -no-undefined -version-info 14:10:13 ClpCholeskyBase.lo ClpCholeskyDense.lo ClpConstraint.lo ClpConstraintLinear.lo ClpConstraintQuadratic.lo Clp_C_Interface.lo ClpDualRowDantzig.lo ClpDualRowPivot.lo ClpDualRowSteepest.lo ClpDummyMatrix.lo ClpDynamicExampleMatrix.lo ClpDynamicMatrix.lo ClpEventHandler.lo ClpFactorization.lo ClpGubDynamicMatrix.lo ClpGubMatrix.lo ClpHelperFunctions.lo ClpInterior.lo ClpLinearObjective.lo ClpMatrixBase.lo ClpMessage.lo ClpModel.lo ClpNetworkBasis.lo ClpNetworkMatrix.lo ClpNonLinearCost.lo ClpNode.lo ClpObjective.lo ClpPackedMatrix.lo ClpPlusMinusOneMatrix.lo ClpPredictorCorrector.lo ClpPdco.lo ClpPdcoBase.lo ClpLsqr.lo ClpPresolve.lo ClpPrimalColumnDantzig.lo ClpPrimalColumnPivot.lo ClpPrimalColumnSteepest.lo ClpQuadraticObjective.lo ClpSimplex.lo ClpSimplexDual.lo ClpSimplexNonlinear.lo ClpSimplexOther.lo ClpSimplexPrimal.lo ClpSolve.lo Idiot.lo IdiSolve.lo /home/pedro/.julia/v0.5/Cbc/deps/src/Cbc-2.9.8/CoinUtils/src/libCoinUtils.la -lm )\n"
     ]
    },
    {
     "name": "stderr",
     "output_type": "stream",
     "text": [
      "libtool: install: warning: relinking `libClp.la'\n"
     ]
    },
    {
     "name": "stdout",
     "output_type": "stream",
     "text": [
      "g++ -shared -nostdlib /usr/lib/gcc/x86_64-linux-gnu/5/../../../x86_64-linux-gnu/crti.o /usr/lib/gcc/x86_64-linux-gnu/5/crtbeginS.o  .libs/ClpCholeskyBase.o .libs/ClpCholeskyDense.o .libs/ClpConstraint.o .libs/ClpConstraintLinear.o .libs/ClpConstraintQuadratic.o .libs/Clp_C_Interface.o .libs/ClpDualRowDantzig.o .libs/ClpDualRowPivot.o .libs/ClpDualRowSteepest.o .libs/ClpDummyMatrix.o .libs/ClpDynamicExampleMatrix.o .libs/ClpDynamicMatrix.o .libs/ClpEventHandler.o .libs/ClpFactorization.o .libs/ClpGubDynamicMatrix.o .libs/ClpGubMatrix.o .libs/ClpHelperFunctions.o .libs/ClpInterior.o .libs/ClpLinearObjective.o .libs/ClpMatrixBase.o .libs/ClpMessage.o .libs/ClpModel.o .libs/ClpNetworkBasis.o .libs/ClpNetworkMatrix.o .libs/ClpNonLinearCost.o .libs/ClpNode.o .libs/ClpObjective.o .libs/ClpPackedMatrix.o .libs/ClpPlusMinusOneMatrix.o .libs/ClpPredictorCorrector.o .libs/ClpPdco.o .libs/ClpPdcoBase.o .libs/ClpLsqr.o .libs/ClpPresolve.o .libs/ClpPrimalColumnDantzig.o .libs/ClpPrimalColumnPivot.o .libs/ClpPrimalColumnSteepest.o .libs/ClpQuadraticObjective.o .libs/ClpSimplex.o .libs/ClpSimplexDual.o .libs/ClpSimplexNonlinear.o .libs/ClpSimplexOther.o .libs/ClpSimplexPrimal.o .libs/ClpSolve.o .libs/Idiot.o .libs/IdiSolve.o  -Wl,--rpath -Wl,/home/pedro/.julia/v0.5/Cbc/deps/usr/lib -L/home/pedro/.julia/v0.5/Cbc/deps/usr/lib -lCoinUtils -L/usr/lib/gcc/x86_64-linux-gnu/5 -L/usr/lib/gcc/x86_64-linux-gnu/5/../../../x86_64-linux-gnu -L/usr/lib/gcc/x86_64-linux-gnu/5/../../../../lib -L/lib/x86_64-linux-gnu -L/lib/../lib -L/usr/lib/x86_64-linux-gnu -L/usr/lib/../lib -L/usr/lib/gcc/x86_64-linux-gnu/5/../../.. -lstdc++ -lm -lc -lgcc_s /usr/lib/gcc/x86_64-linux-gnu/5/crtendS.o /usr/lib/gcc/x86_64-linux-gnu/5/../../../x86_64-linux-gnu/crtn.o  -Wl,-soname -Wl,libClp.so.1 -o .libs/libClp.so.1.13.10\n",
      "/usr/bin/install -c .libs/libClp.so.1.13.10T /home/pedro/.julia/v0.5/Cbc/deps/usr/lib/libClp.so.1.13.10\n",
      "(cd /home/pedro/.julia/v0.5/Cbc/deps/usr/lib && { ln -s -f libClp.so.1.13.10 libClp.so.1 || { rm -f libClp.so.1 && ln -s libClp.so.1.13.10 libClp.so.1; }; })\n",
      "(cd /home/pedro/.julia/v0.5/Cbc/deps/usr/lib && { ln -s -f libClp.so.1.13.10 libClp.so || { rm -f libClp.so && ln -s libClp.so.1.13.10 libClp.so; }; })\n",
      "/usr/bin/install -c .libs/libClp.lai /home/pedro/.julia/v0.5/Cbc/deps/usr/lib/libClp.la\n",
      "PATH=\"$PATH:/sbin\" ldconfig -n /home/pedro/.julia/v0.5/Cbc/deps/usr/lib\n",
      "----------------------------------------------------------------------\n",
      "Libraries have been installed in:\n",
      "   /home/pedro/.julia/v0.5/Cbc/deps/usr/lib\n",
      "\n",
      "If you ever happen to want to link against installed libraries\n",
      "in a given directory, LIBDIR, you must either use libtool, and\n",
      "specify the full pathname of the library, or use the `-LLIBDIR'\n",
      "flag during linking and do at least one of the following:\n",
      "   - add LIBDIR to the `LD_LIBRARY_PATH' environment variable\n",
      "     during execution\n",
      "   - add LIBDIR to the `LD_RUN_PATH' environment variable\n",
      "     during linking\n",
      "   - use the `-Wl,--rpath -Wl,LIBDIR' linker flag\n",
      "   - have your system administrator add LIBDIR to `/etc/ld.so.conf'\n",
      "\n",
      "See any operating system documentation about shared libraries for\n",
      "more information, such as the ld(1) and ld.so(8) manual pages.\n",
      "----------------------------------------------------------------------\n",
      " /bin/bash ../../libtool --mode=install /usr/bin/install -c  'libClpSolver.la' '/home/pedro/.julia/v0.5/Cbc/deps/usr/lib/libClpSolver.la'\n",
      "(cd /home/pedro/.julia/v0.5/Cbc/deps/src/Cbc-2.9.8/Clp/src; /bin/bash ../../libtool  --tag=CXX --mode=relink g++ -O3 -pipe -DNDEBUG -pedantic-errors -Wparentheses -Wreturn-type -Wcast-qual -Wall -Wpointer-arith -Wwrite-strings -Wconversion -Wno-unknown-pragmas -Wno-long-long -DCLP_BUILD -o libClpSolver.la -rpath /home/pedro/.julia/v0.5/Cbc/deps/usr/lib -no-undefined -version-info 14:10:13 ClpSolver.lo CbcOrClpParam.lo Clp_ampl.lo MyEventHandler.lo MyMessageHandler.lo unitTest.lo /home/pedro/.julia/v0.5/Cbc/deps/src/Cbc-2.9.8/CoinUtils/src/libCoinUtils.la -lm libClp.la )\n"
     ]
    },
    {
     "name": "stderr",
     "output_type": "stream",
     "text": [
      "libtool: install: warning: relinking `libClpSolver.la'\n"
     ]
    },
    {
     "name": "stdout",
     "output_type": "stream",
     "text": [
      "g++ -shared -nostdlib /usr/lib/gcc/x86_64-linux-gnu/5/../../../x86_64-linux-gnu/crti.o /usr/lib/gcc/x86_64-linux-gnu/5/crtbeginS.o  .libs/ClpSolver.o .libs/CbcOrClpParam.o .libs/Clp_ampl.o .libs/MyEventHandler.o .libs/MyMessageHandler.o .libs/unitTest.o  -Wl,--rpath -Wl,/home/pedro/.julia/v0.5/Cbc/deps/usr/lib -L/home/pedro/.julia/v0.5/Cbc/deps/src/Cbc-2.9.8/CoinUtils/src/.libs -L/home/pedro/.julia/v0.5/Cbc/deps/usr/lib -lCoinUtils -lClp -L/usr/lib/gcc/x86_64-linux-gnu/5 -L/usr/lib/gcc/x86_64-linux-gnu/5/../../../x86_64-linux-gnu -L/usr/lib/gcc/x86_64-linux-gnu/5/../../../../lib -L/lib/x86_64-linux-gnu -L/lib/../lib -L/usr/lib/x86_64-linux-gnu -L/usr/lib/../lib -L/usr/lib/gcc/x86_64-linux-gnu/5/../../.. -lstdc++ -lm -lc -lgcc_s /usr/lib/gcc/x86_64-linux-gnu/5/crtendS.o /usr/lib/gcc/x86_64-linux-gnu/5/../../../x86_64-linux-gnu/crtn.o  -Wl,-soname -Wl,libClpSolver.so.1 -o .libs/libClpSolver.so.1.13.10\n",
      "/usr/bin/install -c .libs/libClpSolver.so.1.13.10T /home/pedro/.julia/v0.5/Cbc/deps/usr/lib/libClpSolver.so.1.13.10\n",
      "(cd /home/pedro/.julia/v0.5/Cbc/deps/usr/lib && { ln -s -f libClpSolver.so.1.13.10 libClpSolver.so.1 || { rm -f libClpSolver.so.1 && ln -s libClpSolver.so.1.13.10 libClpSolver.so.1; }; })\n",
      "(cd /home/pedro/.julia/v0.5/Cbc/deps/usr/lib && { ln -s -f libClpSolver.so.1.13.10 libClpSolver.so || { rm -f libClpSolver.so && ln -s libClpSolver.so.1.13.10 libClpSolver.so; }; })\n",
      "/usr/bin/install -c .libs/libClpSolver.lai /home/pedro/.julia/v0.5/Cbc/deps/usr/lib/libClpSolver.la\n",
      "PATH=\"$PATH:/sbin\" ldconfig -n /home/pedro/.julia/v0.5/Cbc/deps/usr/lib\n",
      "----------------------------------------------------------------------\n",
      "Libraries have been installed in:\n",
      "   /home/pedro/.julia/v0.5/Cbc/deps/usr/lib\n",
      "\n",
      "If you ever happen to want to link against installed libraries\n",
      "in a given directory, LIBDIR, you must either use libtool, and\n",
      "specify the full pathname of the library, or use the `-LLIBDIR'\n",
      "flag during linking and do at least one of the following:\n",
      "   - add LIBDIR to the `LD_LIBRARY_PATH' environment variable\n",
      "     during execution\n",
      "   - add LIBDIR to the `LD_RUN_PATH' environment variable\n",
      "     during linking\n",
      "   - use the `-Wl,--rpath -Wl,LIBDIR' linker flag\n",
      "   - have your system administrator add LIBDIR to `/etc/ld.so.conf'\n",
      "\n",
      "See any operating system documentation about shared libraries for\n",
      "more information, such as the ld(1) and ld.so(8) manual pages.\n",
      "----------------------------------------------------------------------\n",
      "test -z \"/home/pedro/.julia/v0.5/Cbc/deps/usr/bin\" || mkdir -p -- \"/home/pedro/.julia/v0.5/Cbc/deps/usr/bin\"\n",
      "  /bin/bash ../../libtool --mode=install /usr/bin/install -c 'clp' '/home/pedro/.julia/v0.5/Cbc/deps/usr/bin/clp'\n",
      "/usr/bin/install -c .libs/clp /home/pedro/.julia/v0.5/Cbc/deps/usr/bin/clp\n",
      "/home/pedro/.julia/v0.5/Cbc/deps/src/Cbc-2.9.8/Clp/install-sh -c -m 644 config_clp.h /home/pedro/.julia/v0.5/Cbc/deps/usr/include/coin/ClpConfig.h\n",
      "make  install-exec-hook\n",
      "make[4]: Entering directory '/home/pedro/.julia/v0.5/Cbc/deps/src/Cbc-2.9.8/Clp/src'\n",
      "make[4]: Nothing to be done for 'install-exec-hook'.\n",
      "make[4]: Leaving directory '/home/pedro/.julia/v0.5/Cbc/deps/src/Cbc-2.9.8/Clp/src'\n",
      "test -z \"/home/pedro/.julia/v0.5/Cbc/deps/usr/include/coin\" || mkdir -p -- \"/home/pedro/.julia/v0.5/Cbc/deps/usr/include/coin\"\n",
      " /usr/bin/install -c -m 644 'Clp_C_Interface.h' '/home/pedro/.julia/v0.5/Cbc/deps/usr/include/coin/Clp_C_Interface.h'\n",
      " /usr/bin/install -c -m 644 'ClpCholeskyBase.hpp' '/home/pedro/.julia/v0.5/Cbc/deps/usr/include/coin/ClpCholeskyBase.hpp'\n",
      " /usr/bin/install -c -m 644 'ClpCholeskyDense.hpp' '/home/pedro/.julia/v0.5/Cbc/deps/usr/include/coin/ClpCholeskyDense.hpp'\n",
      " /usr/bin/install -c -m 644 'ClpConstraint.hpp' '/home/pedro/.julia/v0.5/Cbc/deps/usr/include/coin/ClpConstraint.hpp'\n",
      " /usr/bin/install -c -m 644 'ClpConstraintLinear.hpp' '/home/pedro/.julia/v0.5/Cbc/deps/usr/include/coin/ClpConstraintLinear.hpp'\n",
      " /usr/bin/install -c -m 644 'ClpConstraintQuadratic.hpp' '/home/pedro/.julia/v0.5/Cbc/deps/usr/include/coin/ClpConstraintQuadratic.hpp'\n",
      " /usr/bin/install -c -m 644 'ClpDualRowDantzig.hpp' '/home/pedro/.julia/v0.5/Cbc/deps/usr/include/coin/ClpDualRowDantzig.hpp'\n",
      " /usr/bin/install -c -m 644 'ClpDualRowPivot.hpp' '/home/pedro/.julia/v0.5/Cbc/deps/usr/include/coin/ClpDualRowPivot.hpp'\n",
      " /usr/bin/install -c -m 644 'ClpDualRowSteepest.hpp' '/home/pedro/.julia/v0.5/Cbc/deps/usr/include/coin/ClpDualRowSteepest.hpp'\n",
      " /usr/bin/install -c -m 644 'ClpDummyMatrix.hpp' '/home/pedro/.julia/v0.5/Cbc/deps/usr/include/coin/ClpDummyMatrix.hpp'\n",
      " /usr/bin/install -c -m 644 'ClpDynamicExampleMatrix.hpp' '/home/pedro/.julia/v0.5/Cbc/deps/usr/include/coin/ClpDynamicExampleMatrix.hpp'\n",
      " /usr/bin/install -c -m 644 'ClpDynamicMatrix.hpp' '/home/pedro/.julia/v0.5/Cbc/deps/usr/include/coin/ClpDynamicMatrix.hpp'\n",
      " /usr/bin/install -c -m 644 'ClpEventHandler.hpp' '/home/pedro/.julia/v0.5/Cbc/deps/usr/include/coin/ClpEventHandler.hpp'\n",
      " /usr/bin/install -c -m 644 'ClpFactorization.hpp' '/home/pedro/.julia/v0.5/Cbc/deps/usr/include/coin/ClpFactorization.hpp'\n",
      " /usr/bin/install -c -m 644 'ClpGubDynamicMatrix.hpp' '/home/pedro/.julia/v0.5/Cbc/deps/usr/include/coin/ClpGubDynamicMatrix.hpp'\n",
      " /usr/bin/install -c -m 644 'ClpGubMatrix.hpp' '/home/pedro/.julia/v0.5/Cbc/deps/usr/include/coin/ClpGubMatrix.hpp'\n",
      " /usr/bin/install -c -m 644 'ClpInterior.hpp' '/home/pedro/.julia/v0.5/Cbc/deps/usr/include/coin/ClpInterior.hpp'\n",
      " /usr/bin/install -c -m 644 'ClpLinearObjective.hpp' '/home/pedro/.julia/v0.5/Cbc/deps/usr/include/coin/ClpLinearObjective.hpp'\n",
      " /usr/bin/install -c -m 644 'ClpMatrixBase.hpp' '/home/pedro/.julia/v0.5/Cbc/deps/usr/include/coin/ClpMatrixBase.hpp'\n",
      " /usr/bin/install -c -m 644 'ClpMessage.hpp' '/home/pedro/.julia/v0.5/Cbc/deps/usr/include/coin/ClpMessage.hpp'\n",
      " /usr/bin/install -c -m 644 'ClpModel.hpp' '/home/pedro/.julia/v0.5/Cbc/deps/usr/include/coin/ClpModel.hpp'\n",
      " /usr/bin/install -c -m 644 'ClpNetworkMatrix.hpp' '/home/pedro/.julia/v0.5/Cbc/deps/usr/include/coin/ClpNetworkMatrix.hpp'\n",
      " /usr/bin/install -c -m 644 'ClpNonLinearCost.hpp' '/home/pedro/.julia/v0.5/Cbc/deps/usr/include/coin/ClpNonLinearCost.hpp'\n",
      " /usr/bin/install -c -m 644 'ClpNode.hpp' '/home/pedro/.julia/v0.5/Cbc/deps/usr/include/coin/ClpNode.hpp'\n",
      " /usr/bin/install -c -m 644 'ClpObjective.hpp' '/home/pedro/.julia/v0.5/Cbc/deps/usr/include/coin/ClpObjective.hpp'\n",
      " /usr/bin/install -c -m 644 'ClpPackedMatrix.hpp' '/home/pedro/.julia/v0.5/Cbc/deps/usr/include/coin/ClpPackedMatrix.hpp'\n",
      " /usr/bin/install -c -m 644 'ClpPdcoBase.hpp' '/home/pedro/.julia/v0.5/Cbc/deps/usr/include/coin/ClpPdcoBase.hpp'\n",
      " /usr/bin/install -c -m 644 'ClpPlusMinusOneMatrix.hpp' '/home/pedro/.julia/v0.5/Cbc/deps/usr/include/coin/ClpPlusMinusOneMatrix.hpp'\n",
      " /usr/bin/install -c -m 644 'ClpParameters.hpp' '/home/pedro/.julia/v0.5/Cbc/deps/usr/include/coin/ClpParameters.hpp'\n",
      " /usr/bin/install -c -m 644 'ClpPresolve.hpp' '/home/pedro/.julia/v0.5/Cbc/deps/usr/include/coin/ClpPresolve.hpp'\n",
      " /usr/bin/install -c -m 644 'ClpPrimalColumnDantzig.hpp' '/home/pedro/.julia/v0.5/Cbc/deps/usr/include/coin/ClpPrimalColumnDantzig.hpp'\n",
      " /usr/bin/install -c -m 644 'ClpPrimalColumnPivot.hpp' '/home/pedro/.julia/v0.5/Cbc/deps/usr/include/coin/ClpPrimalColumnPivot.hpp'\n",
      " /usr/bin/install -c -m 644 'ClpPrimalColumnSteepest.hpp' '/home/pedro/.julia/v0.5/Cbc/deps/usr/include/coin/ClpPrimalColumnSteepest.hpp'\n",
      " /usr/bin/install -c -m 644 'ClpQuadraticObjective.hpp' '/home/pedro/.julia/v0.5/Cbc/deps/usr/include/coin/ClpQuadraticObjective.hpp'\n",
      " /usr/bin/install -c -m 644 'ClpSimplex.hpp' '/home/pedro/.julia/v0.5/Cbc/deps/usr/include/coin/ClpSimplex.hpp'\n",
      " /usr/bin/install -c -m 644 'ClpSimplexNonlinear.hpp' '/home/pedro/.julia/v0.5/Cbc/deps/usr/include/coin/ClpSimplexNonlinear.hpp'\n",
      " /usr/bin/install -c -m 644 'ClpSimplexOther.hpp' '/home/pedro/.julia/v0.5/Cbc/deps/usr/include/coin/ClpSimplexOther.hpp'\n",
      " /usr/bin/install -c -m 644 'ClpSimplexDual.hpp' '/home/pedro/.julia/v0.5/Cbc/deps/usr/include/coin/ClpSimplexDual.hpp'\n",
      " /usr/bin/install -c -m 644 'ClpSimplexPrimal.hpp' '/home/pedro/.julia/v0.5/Cbc/deps/usr/include/coin/ClpSimplexPrimal.hpp'\n",
      " /usr/bin/install -c -m 644 'ClpSolve.hpp' '/home/pedro/.julia/v0.5/Cbc/deps/usr/include/coin/ClpSolve.hpp'\n",
      " /usr/bin/install -c -m 644 'CbcOrClpParam.hpp' '/home/pedro/.julia/v0.5/Cbc/deps/usr/include/coin/CbcOrClpParam.hpp'\n",
      " /usr/bin/install -c -m 644 'Idiot.hpp' '/home/pedro/.julia/v0.5/Cbc/deps/usr/include/coin/Idiot.hpp'\n",
      " /usr/bin/install -c -m 644 'CbcOrClpParam.cpp' '/home/pedro/.julia/v0.5/Cbc/deps/usr/include/coin/CbcOrClpParam.cpp'\n",
      "make[3]: Leaving directory '/home/pedro/.julia/v0.5/Cbc/deps/src/Cbc-2.9.8/Clp/src'\n",
      "make[2]: Leaving directory '/home/pedro/.julia/v0.5/Cbc/deps/src/Cbc-2.9.8/Clp/src'\n",
      "Making install in src/OsiClp\n",
      "make[2]: Entering directory '/home/pedro/.julia/v0.5/Cbc/deps/src/Cbc-2.9.8/Clp/src/OsiClp'\n",
      "if /bin/bash ../../../libtool --tag=CXX --mode=compile g++ -DHAVE_CONFIG_H -I. -I`echo .` -I..  -I`echo ./..` -I/home/pedro/.julia/v0.5/Cbc/deps/src/Cbc-2.9.8/CoinUtils/src -I/home/pedro/.julia/v0.5/Cbc/deps/src/Cbc-2.9.8/Osi/src/Osi -I/home/pedro/.julia/v0.5/Cbc/deps/src/Cbc-2.9.8/CoinUtils/src   -O3 -pipe -DNDEBUG -pedantic-errors -Wparentheses -Wreturn-type -Wcast-qual -Wall -Wpointer-arith -Wwrite-strings -Wconversion -Wno-unknown-pragmas -Wno-long-long   -DCLP_BUILD -MT OsiClpSolverInterface.lo -MD -MP -MF \".deps/OsiClpSolverInterface.Tpo\" -c -o OsiClpSolverInterface.lo OsiClpSolverInterface.cpp; \\\n",
      "then mv -f \".deps/OsiClpSolverInterface.Tpo\" \".deps/OsiClpSolverInterface.Plo\"; else rm -f \".deps/OsiClpSolverInterface.Tpo\"; exit 1; fi\n",
      "mkdir .libs\n",
      " g++ -DHAVE_CONFIG_H -I. -I. -I.. -I./.. -I/home/pedro/.julia/v0.5/Cbc/deps/src/Cbc-2.9.8/CoinUtils/src -I/home/pedro/.julia/v0.5/Cbc/deps/src/Cbc-2.9.8/Osi/src/Osi -I/home/pedro/.julia/v0.5/Cbc/deps/src/Cbc-2.9.8/CoinUtils/src -O3 -pipe -DNDEBUG -pedantic-errors -Wparentheses -Wreturn-type -Wcast-qual -Wall -Wpointer-arith -Wwrite-strings -Wconversion -Wno-unknown-pragmas -Wno-long-long -DCLP_BUILD -MT OsiClpSolverInterface.lo -MD -MP -MF .deps/OsiClpSolverInterface.Tpo -c OsiClpSolverInterface.cpp  -fPIC -DPIC -o .libs/OsiClpSolverInterface.o\n"
     ]
    },
    {
     "name": "stderr",
     "output_type": "stream",
     "text": [
      "OsiClpSolverInterface.cpp: In member function ‘virtual void OsiClpSolverInterface::initialSolve()’:\n",
      "OsiClpSolverInterface.cpp:148:8: warning: variable ‘gotHint’ set but not used [-Wunused-but-set-variable]\n",
      "   bool gotHint = (getHintParam(OsiDoReducePrint,takeHint,strength));\n",
      "        ^\n",
      "OsiClpSolverInterface.cpp: In member function ‘virtual void OsiClpSolverInterface::resolve()’:\n",
      "OsiClpSolverInterface.cpp:843:8: warning: variable ‘gotHint’ set but not used [-Wunused-but-set-variable]\n",
      "   bool gotHint = (getHintParam(OsiDoInBranchAndCut,takeHint,strength));\n",
      "        ^\n",
      "OsiClpSolverInterface.cpp: In member function ‘int OsiClpSolverInterface::infeasibleOtherWay(char*)’:\n",
      "OsiClpSolverInterface.cpp:9986:22: warning: conversion to ‘char’ from ‘int’ may alter its value [-Wconversion]\n",
      "    whichWay[iColumn] *=2;\n",
      "                      ^\n",
      "OsiClpSolverInterface.cpp:9991:22: warning: conversion to ‘char’ from ‘int’ may alter its value [-Wconversion]\n",
      "    whichWay[iColumn] *=2;\n",
      "                      ^\n",
      "OsiClpSolverInterface.cpp:9841:7: warning: unused variable ‘iRow’ [-Wunused-variable]\n",
      "   int iRow,iColumn;\n",
      "       ^\n",
      "OsiClpSolverInterface.cpp:9859:17: warning: unused variable ‘objective’ [-Wunused-variable]\n",
      "   const double *objective = getObjCoefficients() ;\n",
      "                 ^\n",
      "OsiClpSolverInterface.cpp:9860:10: warning: unused variable ‘direction’ [-Wunused-variable]\n",
      "   double direction = getObjSense();\n",
      "          ^\n"
     ]
    },
    {
     "name": "stdout",
     "output_type": "stream",
     "text": [
      "/bin/bash ../../../libtool --tag=CXX --mode=link g++  -O3 -pipe -DNDEBUG -pedantic-errors -Wparentheses -Wreturn-type -Wcast-qual -Wall -Wpointer-arith -Wwrite-strings -Wconversion -Wno-unknown-pragmas -Wno-long-long   -DCLP_BUILD   -o libOsiClp.la -rpath /home/pedro/.julia/v0.5/Cbc/deps/usr/lib -no-undefined -version-info 14:10:13 OsiClpSolverInterface.lo /home/pedro/.julia/v0.5/Cbc/deps/src/Cbc-2.9.8/Osi/src/Osi/libOsi.la /home/pedro/.julia/v0.5/Cbc/deps/src/Cbc-2.9.8/CoinUtils/src/libCoinUtils.la -lm  ../libClp.la \n"
     ]
    },
    {
     "name": "stderr",
     "output_type": "stream",
     "text": [
      "In file included from /home/pedro/.julia/v0.5/Cbc/deps/src/Cbc-2.9.8/CoinUtils/src/CoinIndexedVector.hpp:15:0,\n",
      "                 from OsiClpSolverInterface.cpp:15:\n",
      "/home/pedro/.julia/v0.5/Cbc/deps/src/Cbc-2.9.8/CoinUtils/src/CoinFinite.hpp: At global scope:\n",
      "/home/pedro/.julia/v0.5/Cbc/deps/src/Cbc-2.9.8/CoinUtils/src/CoinFinite.hpp:19:14: warning: ‘COIN_INT_MAX’ defined but not used [-Wunused-variable]\n",
      " const int    COIN_INT_MAX = (std::numeric_limits<int>::max)();\n",
      "              ^\n",
      "/home/pedro/.julia/v0.5/Cbc/deps/src/Cbc-2.9.8/CoinUtils/src/CoinFinite.hpp:20:14: warning: ‘COIN_INT_MAX_AS_DOUBLE’ defined but not used [-Wunused-variable]\n",
      " const double COIN_INT_MAX_AS_DOUBLE = (std::numeric_limits<int>::max)();\n",
      "              ^\n"
     ]
    },
    {
     "name": "stdout",
     "output_type": "stream",
     "text": [
      "g++ -shared -nostdlib /usr/lib/gcc/x86_64-linux-gnu/5/../../../x86_64-linux-gnu/crti.o /usr/lib/gcc/x86_64-linux-gnu/5/crtbeginS.o  .libs/OsiClpSolverInterface.o  -Wl,--rpath -Wl,/home/pedro/.julia/v0.5/Cbc/deps/src/Cbc-2.9.8/Osi/src/Osi/.libs -Wl,--rpath -Wl,/home/pedro/.julia/v0.5/Cbc/deps/src/Cbc-2.9.8/CoinUtils/src/.libs -Wl,--rpath -Wl,/home/pedro/.julia/v0.5/Cbc/deps/src/Cbc-2.9.8/Clp/src/.libs -Wl,--rpath -Wl,/home/pedro/.julia/v0.5/Cbc/deps/usr/lib -L/home/pedro/.julia/v0.5/Cbc/deps/src/Cbc-2.9.8/CoinUtils/src/.libs /home/pedro/.julia/v0.5/Cbc/deps/src/Cbc-2.9.8/Osi/src/Osi/.libs/libOsi.so /home/pedro/.julia/v0.5/Cbc/deps/src/Cbc-2.9.8/CoinUtils/src/.libs/libCoinUtils.so ../.libs/libClp.so -L/usr/lib/gcc/x86_64-linux-gnu/5 -L/usr/lib/gcc/x86_64-linux-gnu/5/../../../x86_64-linux-gnu -L/usr/lib/gcc/x86_64-linux-gnu/5/../../../../lib -L/lib/x86_64-linux-gnu -L/lib/../lib -L/usr/lib/x86_64-linux-gnu -L/usr/lib/../lib -L/usr/lib/gcc/x86_64-linux-gnu/5/../../.. -lstdc++ -lm -lc -lgcc_s /usr/lib/gcc/x86_64-linux-gnu/5/crtendS.o /usr/lib/gcc/x86_64-linux-gnu/5/../../../x86_64-linux-gnu/crtn.o  -Wl,-soname -Wl,libOsiClp.so.1 -o .libs/libOsiClp.so.1.13.10\n",
      "(cd .libs && rm -f libOsiClp.so.1 && ln -s libOsiClp.so.1.13.10 libOsiClp.so.1)\n",
      "(cd .libs && rm -f libOsiClp.so && ln -s libOsiClp.so.1.13.10 libOsiClp.so)\n",
      "creating libOsiClp.la\n",
      "(cd .libs && rm -f libOsiClp.la && ln -s ../libOsiClp.la libOsiClp.la)\n",
      "make[3]: Entering directory '/home/pedro/.julia/v0.5/Cbc/deps/src/Cbc-2.9.8/Clp/src/OsiClp'\n",
      "test -z \"/home/pedro/.julia/v0.5/Cbc/deps/usr/lib\" || mkdir -p -- \"/home/pedro/.julia/v0.5/Cbc/deps/usr/lib\"\n",
      " /bin/bash ../../../libtool --mode=install /usr/bin/install -c  'libOsiClp.la' '/home/pedro/.julia/v0.5/Cbc/deps/usr/lib/libOsiClp.la'\n",
      "(cd /home/pedro/.julia/v0.5/Cbc/deps/src/Cbc-2.9.8/Clp/src/OsiClp; /bin/bash ../../../libtool  --tag=CXX --mode=relink g++ -O3 -pipe -DNDEBUG -pedantic-errors -Wparentheses -Wreturn-type -Wcast-qual -Wall -Wpointer-arith -Wwrite-strings -Wconversion -Wno-unknown-pragmas -Wno-long-long -DCLP_BUILD -o libOsiClp.la -rpath /home/pedro/.julia/v0.5/Cbc/deps/usr/lib -no-undefined -version-info 14:10:13 OsiClpSolverInterface.lo /home/pedro/.julia/v0.5/Cbc/deps/src/Cbc-2.9.8/Osi/src/Osi/libOsi.la /home/pedro/.julia/v0.5/Cbc/deps/src/Cbc-2.9.8/CoinUtils/src/libCoinUtils.la -lm ../libClp.la )\n"
     ]
    },
    {
     "name": "stderr",
     "output_type": "stream",
     "text": [
      "libtool: install: warning: relinking `libOsiClp.la'\n"
     ]
    },
    {
     "name": "stdout",
     "output_type": "stream",
     "text": [
      "g++ -shared -nostdlib /usr/lib/gcc/x86_64-linux-gnu/5/../../../x86_64-linux-gnu/crti.o /usr/lib/gcc/x86_64-linux-gnu/5/crtbeginS.o  .libs/OsiClpSolverInterface.o  -Wl,--rpath -Wl,/home/pedro/.julia/v0.5/Cbc/deps/usr/lib -L/home/pedro/.julia/v0.5/Cbc/deps/src/Cbc-2.9.8/CoinUtils/src/.libs -L/home/pedro/.julia/v0.5/Cbc/deps/usr/lib -lOsi -lCoinUtils -lClp -L/usr/lib/gcc/x86_64-linux-gnu/5 -L/usr/lib/gcc/x86_64-linux-gnu/5/../../../x86_64-linux-gnu -L/usr/lib/gcc/x86_64-linux-gnu/5/../../../../lib -L/lib/x86_64-linux-gnu -L/lib/../lib -L/usr/lib/x86_64-linux-gnu -L/usr/lib/../lib -L/usr/lib/gcc/x86_64-linux-gnu/5/../../.. -lstdc++ -lm -lc -lgcc_s /usr/lib/gcc/x86_64-linux-gnu/5/crtendS.o /usr/lib/gcc/x86_64-linux-gnu/5/../../../x86_64-linux-gnu/crtn.o  -Wl,-soname -Wl,libOsiClp.so.1 -o .libs/libOsiClp.so.1.13.10\n",
      "/usr/bin/install -c .libs/libOsiClp.so.1.13.10T /home/pedro/.julia/v0.5/Cbc/deps/usr/lib/libOsiClp.so.1.13.10\n",
      "(cd /home/pedro/.julia/v0.5/Cbc/deps/usr/lib && { ln -s -f libOsiClp.so.1.13.10 libOsiClp.so.1 || { rm -f libOsiClp.so.1 && ln -s libOsiClp.so.1.13.10 libOsiClp.so.1; }; })\n",
      "(cd /home/pedro/.julia/v0.5/Cbc/deps/usr/lib && { ln -s -f libOsiClp.so.1.13.10 libOsiClp.so || { rm -f libOsiClp.so && ln -s libOsiClp.so.1.13.10 libOsiClp.so; }; })\n",
      "/usr/bin/install -c .libs/libOsiClp.lai /home/pedro/.julia/v0.5/Cbc/deps/usr/lib/libOsiClp.la\n",
      "PATH=\"$PATH:/sbin\" ldconfig -n /home/pedro/.julia/v0.5/Cbc/deps/usr/lib\n",
      "----------------------------------------------------------------------\n",
      "Libraries have been installed in:\n",
      "   /home/pedro/.julia/v0.5/Cbc/deps/usr/lib\n",
      "\n",
      "If you ever happen to want to link against installed libraries\n",
      "in a given directory, LIBDIR, you must either use libtool, and\n",
      "specify the full pathname of the library, or use the `-LLIBDIR'\n",
      "flag during linking and do at least one of the following:\n",
      "   - add LIBDIR to the `LD_LIBRARY_PATH' environment variable\n",
      "     during execution\n",
      "   - add LIBDIR to the `LD_RUN_PATH' environment variable\n",
      "     during linking\n",
      "   - use the `-Wl,--rpath -Wl,LIBDIR' linker flag\n",
      "   - have your system administrator add LIBDIR to `/etc/ld.so.conf'\n",
      "\n",
      "See any operating system documentation about shared libraries for\n",
      "more information, such as the ld(1) and ld.so(8) manual pages.\n",
      "----------------------------------------------------------------------\n",
      "test -z \"/home/pedro/.julia/v0.5/Cbc/deps/usr/include/coin\" || mkdir -p -- \"/home/pedro/.julia/v0.5/Cbc/deps/usr/include/coin\"\n",
      " /usr/bin/install -c -m 644 'OsiClpSolverInterface.hpp' '/home/pedro/.julia/v0.5/Cbc/deps/usr/include/coin/OsiClpSolverInterface.hpp'\n",
      "make[3]: Leaving directory '/home/pedro/.julia/v0.5/Cbc/deps/src/Cbc-2.9.8/Clp/src/OsiClp'\n",
      "make[2]: Leaving directory '/home/pedro/.julia/v0.5/Cbc/deps/src/Cbc-2.9.8/Clp/src/OsiClp'\n",
      "make[2]: Entering directory '/home/pedro/.julia/v0.5/Cbc/deps/src/Cbc-2.9.8/Clp'\n",
      "make[3]: Entering directory '/home/pedro/.julia/v0.5/Cbc/deps/src/Cbc-2.9.8/Clp'\n",
      "test -z \"/home/pedro/.julia/v0.5/Cbc/deps/usr/share/coin/doc/Clp\" || mkdir -p -- \"/home/pedro/.julia/v0.5/Cbc/deps/usr/share/coin/doc/Clp\"\n",
      "for file in README AUTHORS LICENSE ; do \\\n",
      "  if test -f \"$file\"; then dir=; else dir=\"./\"; fi; \\\n",
      "  if test -f \"$dir$file\"; then /usr/bin/install -c -m 644 \"$dir$file\" \"/home/pedro/.julia/v0.5/Cbc/deps/usr/share/coin/doc/Clp/$file\"; fi; \\\n",
      "done \n",
      "test -z \"/home/pedro/.julia/v0.5/Cbc/deps/usr/lib/pkgconfig\" || mkdir -p -- \"/home/pedro/.julia/v0.5/Cbc/deps/usr/lib/pkgconfig\"\n",
      " /usr/bin/install -c -m 644 'clp.pc' '/home/pedro/.julia/v0.5/Cbc/deps/usr/lib/pkgconfig/clp.pc'\n",
      " /usr/bin/install -c -m 644 'osi-clp.pc' '/home/pedro/.julia/v0.5/Cbc/deps/usr/lib/pkgconfig/osi-clp.pc'\n",
      "make  install-data-hook\n",
      "make[4]: Entering directory '/home/pedro/.julia/v0.5/Cbc/deps/src/Cbc-2.9.8/Clp'\n",
      "PKG_CONFIG_PATH=/home/pedro/.julia/v0.5/Cbc/deps/usr/lib64/pkgconfig:/home/pedro/.julia/v0.5/Cbc/deps/usr/lib/pkgconfig:/home/pedro/.julia/v0.5/Cbc/deps/usr/share/pkgconfig::/home/pedro/.julia/v0.5/Cbc/deps/usr/lib/pkgconfig \\\n",
      "pkg-config --libs clp > /home/pedro/.julia/v0.5/Cbc/deps/usr/share/coin/doc/Clp/clp_addlibs.txt\n",
      "make[4]: Leaving directory '/home/pedro/.julia/v0.5/Cbc/deps/src/Cbc-2.9.8/Clp'\n",
      "make[3]: Leaving directory '/home/pedro/.julia/v0.5/Cbc/deps/src/Cbc-2.9.8/Clp'\n",
      "make[2]: Leaving directory '/home/pedro/.julia/v0.5/Cbc/deps/src/Cbc-2.9.8/Clp'\n",
      "make[1]: Leaving directory '/home/pedro/.julia/v0.5/Cbc/deps/src/Cbc-2.9.8/Clp'\n",
      "Making install in Cgl\n",
      "make[1]: Entering directory '/home/pedro/.julia/v0.5/Cbc/deps/src/Cbc-2.9.8/Cgl'\n",
      "Making install in src\n",
      "make[2]: Entering directory '/home/pedro/.julia/v0.5/Cbc/deps/src/Cbc-2.9.8/Cgl/src'\n",
      "Making install in CglAllDifferent\n",
      "make[3]: Entering directory '/home/pedro/.julia/v0.5/Cbc/deps/src/Cbc-2.9.8/Cgl/src/CglAllDifferent'\n",
      "if /bin/bash ../../../libtool --tag=CXX --mode=compile g++ -DHAVE_CONFIG_H -I. -I`echo .` -I..  -I`echo ./..` -I/home/pedro/.julia/v0.5/Cbc/deps/src/Cbc-2.9.8/CoinUtils/src -I/home/pedro/.julia/v0.5/Cbc/deps/src/Cbc-2.9.8/Osi/src/Osi -I/home/pedro/.julia/v0.5/Cbc/deps/src/Cbc-2.9.8/CoinUtils/src   -O3 -pipe -DNDEBUG -pedantic-errors -Wparentheses -Wreturn-type -Wcast-qual -Wall -Wpointer-arith -Wwrite-strings -Wconversion -Wno-unknown-pragmas -Wno-long-long   -DCGL_BUILD -MT CglAllDifferent.lo -MD -MP -MF \".deps/CglAllDifferent.Tpo\" -c -o CglAllDifferent.lo CglAllDifferent.cpp; \\\n",
      "then mv -f \".deps/CglAllDifferent.Tpo\" \".deps/CglAllDifferent.Plo\"; else rm -f \".deps/CglAllDifferent.Tpo\"; exit 1; fi\n",
      "mkdir .libs\n",
      " g++ -DHAVE_CONFIG_H -I. -I. -I.. -I./.. -I/home/pedro/.julia/v0.5/Cbc/deps/src/Cbc-2.9.8/CoinUtils/src -I/home/pedro/.julia/v0.5/Cbc/deps/src/Cbc-2.9.8/Osi/src/Osi -I/home/pedro/.julia/v0.5/Cbc/deps/src/Cbc-2.9.8/CoinUtils/src -O3 -pipe -DNDEBUG -pedantic-errors -Wparentheses -Wreturn-type -Wcast-qual -Wall -Wpointer-arith -Wwrite-strings -Wconversion -Wno-unknown-pragmas -Wno-long-long -DCGL_BUILD -MT CglAllDifferent.lo -MD -MP -MF .deps/CglAllDifferent.Tpo -c CglAllDifferent.cpp  -fPIC -DPIC -o .libs/CglAllDifferent.o\n",
      "/bin/bash ../../../libtool --tag=CXX --mode=link g++  -O3 -pipe -DNDEBUG -pedantic-errors -Wparentheses -Wreturn-type -Wcast-qual -Wall -Wpointer-arith -Wwrite-strings -Wconversion -Wno-unknown-pragmas -Wno-long-long   -DCGL_BUILD   -o libCglAllDifferent.la  -no-undefined -version-info 10:9:9 CglAllDifferent.lo  \n"
     ]
    },
    {
     "name": "stderr",
     "output_type": "stream",
     "text": [
      "In file included from CglAllDifferent.cpp:18:0:\n",
      "/home/pedro/.julia/v0.5/Cbc/deps/src/Cbc-2.9.8/CoinUtils/src/CoinFinite.hpp:20:14: warning: ‘COIN_INT_MAX_AS_DOUBLE’ defined but not used [-Wunused-variable]\n",
      " const double COIN_INT_MAX_AS_DOUBLE = (std::numeric_limits<int>::max)();\n",
      "              ^\n"
     ]
    },
    {
     "name": "stdout",
     "output_type": "stream",
     "text": [
      "ar cru .libs/libCglAllDifferent.a .libs/CglAllDifferent.o\n"
     ]
    },
    {
     "name": "stderr",
     "output_type": "stream",
     "text": [
      "libtool: link: warning: `-version-info/-version-number' is ignored for convenience libraries\n"
     ]
    },
    {
     "name": "stdout",
     "output_type": "stream",
     "text": [
      "ranlib .libs/libCglAllDifferent.a\n"
     ]
    },
    {
     "name": "stderr",
     "output_type": "stream",
     "text": [
      "ar: `u' modifier ignored since `D' is the default (see `U')\n"
     ]
    },
    {
     "name": "stdout",
     "output_type": "stream",
     "text": [
      "creating libCglAllDifferent.la\n",
      "(cd .libs && rm -f libCglAllDifferent.la && ln -s ../libCglAllDifferent.la libCglAllDifferent.la)\n",
      "make[4]: Entering directory '/home/pedro/.julia/v0.5/Cbc/deps/src/Cbc-2.9.8/Cgl/src/CglAllDifferent'\n",
      "make[4]: Nothing to be done for 'install-exec-am'.\n",
      "test -z \"/home/pedro/.julia/v0.5/Cbc/deps/usr/include/coin\" || mkdir -p -- \"/home/pedro/.julia/v0.5/Cbc/deps/usr/include/coin\"\n",
      " /usr/bin/install -c -m 644 'CglAllDifferent.hpp' '/home/pedro/.julia/v0.5/Cbc/deps/usr/include/coin/CglAllDifferent.hpp'\n",
      "make[4]: Leaving directory '/home/pedro/.julia/v0.5/Cbc/deps/src/Cbc-2.9.8/Cgl/src/CglAllDifferent'\n",
      "make[3]: Leaving directory '/home/pedro/.julia/v0.5/Cbc/deps/src/Cbc-2.9.8/Cgl/src/CglAllDifferent'\n",
      "Making install in CglClique\n",
      "make[3]: Entering directory '/home/pedro/.julia/v0.5/Cbc/deps/src/Cbc-2.9.8/Cgl/src/CglClique'\n",
      "if /bin/bash ../../../libtool --tag=CXX --mode=compile g++ -DHAVE_CONFIG_H -I. -I`echo .` -I..  -I`echo ./..` -I/home/pedro/.julia/v0.5/Cbc/deps/src/Cbc-2.9.8/CoinUtils/src -I/home/pedro/.julia/v0.5/Cbc/deps/src/Cbc-2.9.8/Osi/src/Osi -I/home/pedro/.julia/v0.5/Cbc/deps/src/Cbc-2.9.8/CoinUtils/src   -O3 -pipe -DNDEBUG -pedantic-errors -Wparentheses -Wreturn-type -Wcast-qual -Wall -Wpointer-arith -Wwrite-strings -Wconversion -Wno-unknown-pragmas -Wno-long-long   -DCGL_BUILD -MT CglClique.lo -MD -MP -MF \".deps/CglClique.Tpo\" -c -o CglClique.lo CglClique.cpp; \\\n",
      "then mv -f \".deps/CglClique.Tpo\" \".deps/CglClique.Plo\"; else rm -f \".deps/CglClique.Tpo\"; exit 1; fi\n",
      "mkdir .libs\n",
      " g++ -DHAVE_CONFIG_H -I. -I. -I.. -I./.. -I/home/pedro/.julia/v0.5/Cbc/deps/src/Cbc-2.9.8/CoinUtils/src -I/home/pedro/.julia/v0.5/Cbc/deps/src/Cbc-2.9.8/Osi/src/Osi -I/home/pedro/.julia/v0.5/Cbc/deps/src/Cbc-2.9.8/CoinUtils/src -O3 -pipe -DNDEBUG -pedantic-errors -Wparentheses -Wreturn-type -Wcast-qual -Wall -Wpointer-arith -Wwrite-strings -Wconversion -Wno-unknown-pragmas -Wno-long-long -DCGL_BUILD -MT CglClique.lo -MD -MP -MF .deps/CglClique.Tpo -c CglClique.cpp  -fPIC -DPIC -o .libs/CglClique.o\n",
      "if /bin/bash ../../../libtool --tag=CXX --mode=compile g++ -DHAVE_CONFIG_H -I. -I`echo .` -I..  -I`echo ./..` -I/home/pedro/.julia/v0.5/Cbc/deps/src/Cbc-2.9.8/CoinUtils/src -I/home/pedro/.julia/v0.5/Cbc/deps/src/Cbc-2.9.8/Osi/src/Osi -I/home/pedro/.julia/v0.5/Cbc/deps/src/Cbc-2.9.8/CoinUtils/src   -O3 -pipe -DNDEBUG -pedantic-errors -Wparentheses -Wreturn-type -Wcast-qual -Wall -Wpointer-arith -Wwrite-strings -Wconversion -Wno-unknown-pragmas -Wno-long-long   -DCGL_BUILD -MT CglCliqueHelper.lo -MD -MP -MF \".deps/CglCliqueHelper.Tpo\" -c -o CglCliqueHelper.lo CglCliqueHelper.cpp; \\\n",
      "then mv -f \".deps/CglCliqueHelper.Tpo\" \".deps/CglCliqueHelper.Plo\"; else rm -f \".deps/CglCliqueHelper.Tpo\"; exit 1; fi\n"
     ]
    },
    {
     "name": "stderr",
     "output_type": "stream",
     "text": [
      "In file included from /home/pedro/.julia/v0.5/Cbc/deps/src/Cbc-2.9.8/Osi/src/Osi/OsiSolverInterface.hpp:17:0,\n",
      "                 from /home/pedro/.julia/v0.5/Cbc/deps/src/Cbc-2.9.8/Osi/src/Osi/OsiCut.hpp:9,\n",
      "                 from /home/pedro/.julia/v0.5/Cbc/deps/src/Cbc-2.9.8/Osi/src/Osi/OsiRowCut.hpp:11,\n",
      "                 from /home/pedro/.julia/v0.5/Cbc/deps/src/Cbc-2.9.8/Osi/src/Osi/OsiCuts.hpp:13,\n",
      "                 from CglClique.cpp:10:\n",
      "/home/pedro/.julia/v0.5/Cbc/deps/src/Cbc-2.9.8/CoinUtils/src/CoinFinite.hpp:20:14: warning: ‘COIN_INT_MAX_AS_DOUBLE’ defined but not used [-Wunused-variable]\n",
      " const double COIN_INT_MAX_AS_DOUBLE = (std::numeric_limits<int>::max)();\n",
      "              ^\n"
     ]
    },
    {
     "name": "stdout",
     "output_type": "stream",
     "text": [
      " g++ -DHAVE_CONFIG_H -I. -I. -I.. -I./.. -I/home/pedro/.julia/v0.5/Cbc/deps/src/Cbc-2.9.8/CoinUtils/src -I/home/pedro/.julia/v0.5/Cbc/deps/src/Cbc-2.9.8/Osi/src/Osi -I/home/pedro/.julia/v0.5/Cbc/deps/src/Cbc-2.9.8/CoinUtils/src -O3 -pipe -DNDEBUG -pedantic-errors -Wparentheses -Wreturn-type -Wcast-qual -Wall -Wpointer-arith -Wwrite-strings -Wconversion -Wno-unknown-pragmas -Wno-long-long -DCGL_BUILD -MT CglCliqueHelper.lo -MD -MP -MF .deps/CglCliqueHelper.Tpo -c CglCliqueHelper.cpp  -fPIC -DPIC -o .libs/CglCliqueHelper.o\n",
      "if /bin/bash ../../../libtool --tag=CXX --mode=compile g++ -DHAVE_CONFIG_H -I. -I`echo .` -I..  -I`echo ./..` -I/home/pedro/.julia/v0.5/Cbc/deps/src/Cbc-2.9.8/CoinUtils/src -I/home/pedro/.julia/v0.5/Cbc/deps/src/Cbc-2.9.8/Osi/src/Osi -I/home/pedro/.julia/v0.5/Cbc/deps/src/Cbc-2.9.8/CoinUtils/src   -O3 -pipe -DNDEBUG -pedantic-errors -Wparentheses -Wreturn-type -Wcast-qual -Wall -Wpointer-arith -Wwrite-strings -Wconversion -Wno-unknown-pragmas -Wno-long-long   -DCGL_BUILD -MT CglCliqueTest.lo -MD -MP -MF \".deps/CglCliqueTest.Tpo\" -c -o CglCliqueTest.lo CglCliqueTest.cpp; \\\n",
      "then mv -f \".deps/CglCliqueTest.Tpo\" \".deps/CglCliqueTest.Plo\"; else rm -f \".deps/CglCliqueTest.Tpo\"; exit 1; fi\n"
     ]
    },
    {
     "name": "stderr",
     "output_type": "stream",
     "text": [
      "In file included from /home/pedro/.julia/v0.5/Cbc/deps/src/Cbc-2.9.8/Osi/src/Osi/OsiSolverInterface.hpp:17:0,\n",
      "                 from CglCliqueHelper.cpp:10:\n",
      "/home/pedro/.julia/v0.5/Cbc/deps/src/Cbc-2.9.8/CoinUtils/src/CoinFinite.hpp:18:14: warning: ‘COIN_DBL_MAX’ defined but not used [-Wunused-variable]\n",
      " const double COIN_DBL_MAX = (std::numeric_limits<double>::max)();\n",
      "              ^\n",
      "/home/pedro/.julia/v0.5/Cbc/deps/src/Cbc-2.9.8/CoinUtils/src/CoinFinite.hpp:20:14: warning: ‘COIN_INT_MAX_AS_DOUBLE’ defined but not used [-Wunused-variable]\n",
      " const double COIN_INT_MAX_AS_DOUBLE = (std::numeric_limits<int>::max)();\n",
      "              ^\n"
     ]
    },
    {
     "name": "stdout",
     "output_type": "stream",
     "text": [
      " g++ -DHAVE_CONFIG_H -I. -I. -I.. -I./.. -I/home/pedro/.julia/v0.5/Cbc/deps/src/Cbc-2.9.8/CoinUtils/src -I/home/pedro/.julia/v0.5/Cbc/deps/src/Cbc-2.9.8/Osi/src/Osi -I/home/pedro/.julia/v0.5/Cbc/deps/src/Cbc-2.9.8/CoinUtils/src -O3 -pipe -DNDEBUG -pedantic-errors -Wparentheses -Wreturn-type -Wcast-qual -Wall -Wpointer-arith -Wwrite-strings -Wconversion -Wno-unknown-pragmas -Wno-long-long -DCGL_BUILD -MT CglCliqueTest.lo -MD -MP -MF .deps/CglCliqueTest.Tpo -c CglCliqueTest.cpp  -fPIC -DPIC -o .libs/CglCliqueTest.o\n",
      "/bin/bash ../../../libtool --tag=CXX --mode=link g++  -O3 -pipe -DNDEBUG -pedantic-errors -Wparentheses -Wreturn-type -Wcast-qual -Wall -Wpointer-arith -Wwrite-strings -Wconversion -Wno-unknown-pragmas -Wno-long-long   -DCGL_BUILD   -o libCglClique.la  -no-undefined -version-info 10:9:9 CglClique.lo CglCliqueHelper.lo CglCliqueTest.lo  \n"
     ]
    },
    {
     "name": "stderr",
     "output_type": "stream",
     "text": [
      "In file included from /home/pedro/.julia/v0.5/Cbc/deps/src/Cbc-2.9.8/Osi/src/Osi/OsiSolverInterface.hpp:17:0,\n",
      "                 from /home/pedro/.julia/v0.5/Cbc/deps/src/Cbc-2.9.8/Osi/src/Osi/OsiCut.hpp:9,\n",
      "                 from /home/pedro/.julia/v0.5/Cbc/deps/src/Cbc-2.9.8/Osi/src/Osi/OsiRowCut.hpp:11,\n",
      "                 from /home/pedro/.julia/v0.5/Cbc/deps/src/Cbc-2.9.8/Osi/src/Osi/OsiCuts.hpp:13,\n",
      "                 from ../CglCutGenerator.hpp:8,\n",
      "                 from CglClique.hpp:9,\n",
      "                 from CglCliqueTest.cpp:14:\n",
      "/home/pedro/.julia/v0.5/Cbc/deps/src/Cbc-2.9.8/CoinUtils/src/CoinFinite.hpp:18:14: warning: ‘COIN_DBL_MAX’ defined but not used [-Wunused-variable]\n",
      " const double COIN_DBL_MAX = (std::numeric_limits<double>::max)();\n",
      "              ^\n",
      "/home/pedro/.julia/v0.5/Cbc/deps/src/Cbc-2.9.8/CoinUtils/src/CoinFinite.hpp:20:14: warning: ‘COIN_INT_MAX_AS_DOUBLE’ defined but not used [-Wunused-variable]\n",
      " const double COIN_INT_MAX_AS_DOUBLE = (std::numeric_limits<int>::max)();\n",
      "              ^\n"
     ]
    },
    {
     "name": "stdout",
     "output_type": "stream",
     "text": [
      "ar cru .libs/libCglClique.a .libs/CglClique.o .libs/CglCliqueHelper.o .libs/CglCliqueTest.o\n",
      "ranlib .libs/libCglClique.a\n",
      "creating libCglClique.la\n",
      "(cd .libs && rm -f libCglClique.la && ln -s ../libCglClique.la libCglClique.la)\n",
      "make[4]: Entering directory '/home/pedro/.julia/v0.5/Cbc/deps/src/Cbc-2.9.8/Cgl/src/CglClique'\n",
      "make[4]: Nothing to be done for 'install-exec-am'.\n",
      "test -z \"/home/pedro/.julia/v0.5/Cbc/deps/usr/include/coin\" || mkdir -p -- \"/home/pedro/.julia/v0.5/Cbc/deps/usr/include/coin\"\n",
      " /usr/bin/install -c -m 644 'CglClique.hpp' '/home/pedro/.julia/v0.5/Cbc/deps/usr/include/coin/CglClique.hpp'\n",
      "make[4]: Leaving directory '/home/pedro/.julia/v0.5/Cbc/deps/src/Cbc-2.9.8/Cgl/src/CglClique'\n"
     ]
    },
    {
     "name": "stderr",
     "output_type": "stream",
     "text": [
      "libtool: link: warning: `-version-info/-version-number' is ignored for convenience libraries\n",
      "ar: `u' modifier ignored since `D' is the default (see `U')\n"
     ]
    },
    {
     "name": "stdout",
     "output_type": "stream",
     "text": [
      "make[3]: Leaving directory '/home/pedro/.julia/v0.5/Cbc/deps/src/Cbc-2.9.8/Cgl/src/CglClique'\n",
      "Making install in CglDuplicateRow\n",
      "make[3]: Entering directory '/home/pedro/.julia/v0.5/Cbc/deps/src/Cbc-2.9.8/Cgl/src/CglDuplicateRow'\n",
      "if /bin/bash ../../../libtool --tag=CXX --mode=compile g++ -DHAVE_CONFIG_H -I. -I`echo .` -I..  -I`echo ./..` -I/home/pedro/.julia/v0.5/Cbc/deps/src/Cbc-2.9.8/CoinUtils/src -I/home/pedro/.julia/v0.5/Cbc/deps/src/Cbc-2.9.8/Osi/src/Osi -I/home/pedro/.julia/v0.5/Cbc/deps/src/Cbc-2.9.8/CoinUtils/src   -O3 -pipe -DNDEBUG -pedantic-errors -Wparentheses -Wreturn-type -Wcast-qual -Wall -Wpointer-arith -Wwrite-strings -Wconversion -Wno-unknown-pragmas -Wno-long-long   -DCGL_BUILD -MT CglDuplicateRow.lo -MD -MP -MF \".deps/CglDuplicateRow.Tpo\" -c -o CglDuplicateRow.lo CglDuplicateRow.cpp; \\\n",
      "then mv -f \".deps/CglDuplicateRow.Tpo\" \".deps/CglDuplicateRow.Plo\"; else rm -f \".deps/CglDuplicateRow.Tpo\"; exit 1; fi\n",
      "mkdir .libs\n",
      " g++ -DHAVE_CONFIG_H -I. -I. -I.. -I./.. -I/home/pedro/.julia/v0.5/Cbc/deps/src/Cbc-2.9.8/CoinUtils/src -I/home/pedro/.julia/v0.5/Cbc/deps/src/Cbc-2.9.8/Osi/src/Osi -I/home/pedro/.julia/v0.5/Cbc/deps/src/Cbc-2.9.8/CoinUtils/src -O3 -pipe -DNDEBUG -pedantic-errors -Wparentheses -Wreturn-type -Wcast-qual -Wall -Wpointer-arith -Wwrite-strings -Wconversion -Wno-unknown-pragmas -Wno-long-long -DCGL_BUILD -MT CglDuplicateRow.lo -MD -MP -MF .deps/CglDuplicateRow.Tpo -c CglDuplicateRow.cpp  -fPIC -DPIC -o .libs/CglDuplicateRow.o\n",
      "/bin/bash ../../../libtool --tag=CXX --mode=link g++  -O3 -pipe -DNDEBUG -pedantic-errors -Wparentheses -Wreturn-type -Wcast-qual -Wall -Wpointer-arith -Wwrite-strings -Wconversion -Wno-unknown-pragmas -Wno-long-long   -DCGL_BUILD   -o libCglDuplicateRow.la  -no-undefined -version-info 10:9:9 CglDuplicateRow.lo  \n"
     ]
    },
    {
     "name": "stderr",
     "output_type": "stream",
     "text": [
      "In file included from CglDuplicateRow.cpp:17:0:\n",
      "/home/pedro/.julia/v0.5/Cbc/deps/src/Cbc-2.9.8/CoinUtils/src/CoinFinite.hpp:20:14: warning: ‘COIN_INT_MAX_AS_DOUBLE’ defined but not used [-Wunused-variable]\n",
      " const double COIN_INT_MAX_AS_DOUBLE = (std::numeric_limits<int>::max)();\n",
      "              ^\n"
     ]
    },
    {
     "name": "stdout",
     "output_type": "stream",
     "text": [
      "ar cru .libs/libCglDuplicateRow.a .libs/CglDuplicateRow.o\n",
      "ranlib .libs/libCglDuplicateRow.a\n",
      "creating libCglDuplicateRow.la\n",
      "(cd .libs && rm -f libCglDuplicateRow.la && ln -s ../libCglDuplicateRow.la libCglDuplicateRow.la)\n",
      "make[4]: Entering directory '/home/pedro/.julia/v0.5/Cbc/deps/src/Cbc-2.9.8/Cgl/src/CglDuplicateRow'\n",
      "make[4]: Nothing to be done for 'install-exec-am'.\n",
      "test -z \"/home/pedro/.julia/v0.5/Cbc/deps/usr/include/coin\" || mkdir -p -- \"/home/pedro/.julia/v0.5/Cbc/deps/usr/include/coin\"\n",
      " /usr/bin/install -c -m 644 'CglDuplicateRow.hpp' '/home/pedro/.julia/v0.5/Cbc/deps/usr/include/coin/CglDuplicateRow.hpp'\n",
      "make[4]: Leaving directory '/home/pedro/.julia/v0.5/Cbc/deps/src/Cbc-2.9.8/Cgl/src/CglDuplicateRow'\n",
      "make[3]: Leaving directory '/home/pedro/.julia/v0.5/Cbc/deps/src/Cbc-2.9.8/Cgl/src/CglDuplicateRow'\n",
      "Making install in CglFlowCover\n",
      "make[3]: Entering directory '/home/pedro/.julia/v0.5/Cbc/deps/src/Cbc-2.9.8/Cgl/src/CglFlowCover'\n",
      "if /bin/bash ../../../libtool --tag=CXX --mode=compile g++ -DHAVE_CONFIG_H -I. -I`echo .` -I..  -I`echo ./..` -I/home/pedro/.julia/v0.5/Cbc/deps/src/Cbc-2.9.8/CoinUtils/src -I/home/pedro/.julia/v0.5/Cbc/deps/src/Cbc-2.9.8/Osi/src/Osi -I/home/pedro/.julia/v0.5/Cbc/deps/src/Cbc-2.9.8/CoinUtils/src   -O3 -pipe -DNDEBUG -pedantic-errors -Wparentheses -Wreturn-type -Wcast-qual -Wall -Wpointer-arith -Wwrite-strings -Wconversion -Wno-unknown-pragmas -Wno-long-long   -DCGL_BUILD -MT CglFlowCover.lo -MD -MP -MF \".deps/CglFlowCover.Tpo\" -c -o CglFlowCover.lo CglFlowCover.cpp; \\\n",
      "then mv -f \".deps/CglFlowCover.Tpo\" \".deps/CglFlowCover.Plo\"; else rm -f \".deps/CglFlowCover.Tpo\"; exit 1; fi\n"
     ]
    },
    {
     "name": "stderr",
     "output_type": "stream",
     "text": [
      "libtool: link: warning: `-version-info/-version-number' is ignored for convenience libraries\n",
      "ar: `u' modifier ignored since `D' is the default (see `U')\n"
     ]
    },
    {
     "name": "stdout",
     "output_type": "stream",
     "text": [
      "mkdir .libs\n",
      " g++ -DHAVE_CONFIG_H -I. -I. -I.. -I./.. -I/home/pedro/.julia/v0.5/Cbc/deps/src/Cbc-2.9.8/CoinUtils/src -I/home/pedro/.julia/v0.5/Cbc/deps/src/Cbc-2.9.8/Osi/src/Osi -I/home/pedro/.julia/v0.5/Cbc/deps/src/Cbc-2.9.8/CoinUtils/src -O3 -pipe -DNDEBUG -pedantic-errors -Wparentheses -Wreturn-type -Wcast-qual -Wall -Wpointer-arith -Wwrite-strings -Wconversion -Wno-unknown-pragmas -Wno-long-long -DCGL_BUILD -MT CglFlowCover.lo -MD -MP -MF .deps/CglFlowCover.Tpo -c CglFlowCover.cpp  -fPIC -DPIC -o .libs/CglFlowCover.o\n",
      "if /bin/bash ../../../libtool --tag=CXX --mode=compile g++ -DHAVE_CONFIG_H -I. -I`echo .` -I..  -I`echo ./..` -I/home/pedro/.julia/v0.5/Cbc/deps/src/Cbc-2.9.8/CoinUtils/src -I/home/pedro/.julia/v0.5/Cbc/deps/src/Cbc-2.9.8/Osi/src/Osi -I/home/pedro/.julia/v0.5/Cbc/deps/src/Cbc-2.9.8/CoinUtils/src   -O3 -pipe -DNDEBUG -pedantic-errors -Wparentheses -Wreturn-type -Wcast-qual -Wall -Wpointer-arith -Wwrite-strings -Wconversion -Wno-unknown-pragmas -Wno-long-long   -DCGL_BUILD -MT CglFlowCoverTest.lo -MD -MP -MF \".deps/CglFlowCoverTest.Tpo\" -c -o CglFlowCoverTest.lo CglFlowCoverTest.cpp; \\\n",
      "then mv -f \".deps/CglFlowCoverTest.Tpo\" \".deps/CglFlowCoverTest.Plo\"; else rm -f \".deps/CglFlowCoverTest.Tpo\"; exit 1; fi\n"
     ]
    },
    {
     "name": "stderr",
     "output_type": "stream",
     "text": [
      "In file included from /home/pedro/.julia/v0.5/Cbc/deps/src/Cbc-2.9.8/Osi/src/Osi/OsiSolverInterface.hpp:17:0,\n",
      "                 from /home/pedro/.julia/v0.5/Cbc/deps/src/Cbc-2.9.8/Osi/src/Osi/OsiCut.hpp:9,\n",
      "                 from /home/pedro/.julia/v0.5/Cbc/deps/src/Cbc-2.9.8/Osi/src/Osi/OsiRowCut.hpp:11,\n",
      "                 from /home/pedro/.julia/v0.5/Cbc/deps/src/Cbc-2.9.8/Osi/src/Osi/OsiCuts.hpp:13,\n",
      "                 from ../CglCutGenerator.hpp:8,\n",
      "                 from CglFlowCover.hpp:21,\n",
      "                 from CglFlowCover.cpp:23:\n",
      "/home/pedro/.julia/v0.5/Cbc/deps/src/Cbc-2.9.8/CoinUtils/src/CoinFinite.hpp:18:14: warning: ‘COIN_DBL_MAX’ defined but not used [-Wunused-variable]\n",
      " const double COIN_DBL_MAX = (std::numeric_limits<double>::max)();\n",
      "              ^\n",
      "/home/pedro/.julia/v0.5/Cbc/deps/src/Cbc-2.9.8/CoinUtils/src/CoinFinite.hpp:20:14: warning: ‘COIN_INT_MAX_AS_DOUBLE’ defined but not used [-Wunused-variable]\n",
      " const double COIN_INT_MAX_AS_DOUBLE = (std::numeric_limits<int>::max)();\n",
      "              ^\n"
     ]
    },
    {
     "name": "stdout",
     "output_type": "stream",
     "text": [
      " g++ -DHAVE_CONFIG_H -I. -I. -I.. -I./.. -I/home/pedro/.julia/v0.5/Cbc/deps/src/Cbc-2.9.8/CoinUtils/src -I/home/pedro/.julia/v0.5/Cbc/deps/src/Cbc-2.9.8/Osi/src/Osi -I/home/pedro/.julia/v0.5/Cbc/deps/src/Cbc-2.9.8/CoinUtils/src -O3 -pipe -DNDEBUG -pedantic-errors -Wparentheses -Wreturn-type -Wcast-qual -Wall -Wpointer-arith -Wwrite-strings -Wconversion -Wno-unknown-pragmas -Wno-long-long -DCGL_BUILD -MT CglFlowCoverTest.lo -MD -MP -MF .deps/CglFlowCoverTest.Tpo -c CglFlowCoverTest.cpp  -fPIC -DPIC -o .libs/CglFlowCoverTest.o\n",
      "/bin/bash ../../../libtool --tag=CXX --mode=link g++  -O3 -pipe -DNDEBUG -pedantic-errors -Wparentheses -Wreturn-type -Wcast-qual -Wall -Wpointer-arith -Wwrite-strings -Wconversion -Wno-unknown-pragmas -Wno-long-long   -DCGL_BUILD   -o libCglFlowCover.la  -no-undefined -version-info 10:9:9 CglFlowCover.lo CglFlowCoverTest.lo  \n"
     ]
    },
    {
     "name": "stderr",
     "output_type": "stream",
     "text": [
      "In file included from /home/pedro/.julia/v0.5/Cbc/deps/src/Cbc-2.9.8/Osi/src/Osi/OsiSolverInterface.hpp:17:0,\n",
      "                 from /home/pedro/.julia/v0.5/Cbc/deps/src/Cbc-2.9.8/Osi/src/Osi/OsiCut.hpp:9,\n",
      "                 from /home/pedro/.julia/v0.5/Cbc/deps/src/Cbc-2.9.8/Osi/src/Osi/OsiRowCut.hpp:11,\n",
      "                 from /home/pedro/.julia/v0.5/Cbc/deps/src/Cbc-2.9.8/Osi/src/Osi/OsiCuts.hpp:13,\n",
      "                 from ../CglCutGenerator.hpp:8,\n",
      "                 from CglFlowCover.hpp:21,\n",
      "                 from CglFlowCoverTest.cpp:22:\n",
      "/home/pedro/.julia/v0.5/Cbc/deps/src/Cbc-2.9.8/CoinUtils/src/CoinFinite.hpp:18:14: warning: ‘COIN_DBL_MAX’ defined but not used [-Wunused-variable]\n",
      " const double COIN_DBL_MAX = (std::numeric_limits<double>::max)();\n",
      "              ^\n",
      "/home/pedro/.julia/v0.5/Cbc/deps/src/Cbc-2.9.8/CoinUtils/src/CoinFinite.hpp:20:14: warning: ‘COIN_INT_MAX_AS_DOUBLE’ defined but not used [-Wunused-variable]\n",
      " const double COIN_INT_MAX_AS_DOUBLE = (std::numeric_limits<int>::max)();\n",
      "              ^\n"
     ]
    },
    {
     "name": "stdout",
     "output_type": "stream",
     "text": [
      "ar cru .libs/libCglFlowCover.a .libs/CglFlowCover.o .libs/CglFlowCoverTest.o\n",
      "ranlib .libs/libCglFlowCover.a\n",
      "creating libCglFlowCover.la\n",
      "(cd .libs && rm -f libCglFlowCover.la && ln -s ../libCglFlowCover.la libCglFlowCover.la)\n",
      "make[4]: Entering directory '/home/pedro/.julia/v0.5/Cbc/deps/src/Cbc-2.9.8/Cgl/src/CglFlowCover'\n",
      "make[4]: Nothing to be done for 'install-exec-am'.\n",
      "test -z \"/home/pedro/.julia/v0.5/Cbc/deps/usr/include/coin\" || mkdir -p -- \"/home/pedro/.julia/v0.5/Cbc/deps/usr/include/coin\"\n",
      " /usr/bin/install -c -m 644 'CglFlowCover.hpp' '/home/pedro/.julia/v0.5/Cbc/deps/usr/include/coin/CglFlowCover.hpp'\n",
      "make[4]: Leaving directory '/home/pedro/.julia/v0.5/Cbc/deps/src/Cbc-2.9.8/Cgl/src/CglFlowCover'\n",
      "make[3]: Leaving directory '/home/pedro/.julia/v0.5/Cbc/deps/src/Cbc-2.9.8/Cgl/src/CglFlowCover'\n",
      "Making install in CglGMI\n",
      "make[3]: Entering directory '/home/pedro/.julia/v0.5/Cbc/deps/src/Cbc-2.9.8/Cgl/src/CglGMI'\n",
      "if /bin/bash ../../../libtool --tag=CXX --mode=compile g++ -DHAVE_CONFIG_H -I. -I`echo .` -I..  -I`echo ./..` -I/home/pedro/.julia/v0.5/Cbc/deps/src/Cbc-2.9.8/CoinUtils/src -I/home/pedro/.julia/v0.5/Cbc/deps/src/Cbc-2.9.8/Osi/src/Osi -I/home/pedro/.julia/v0.5/Cbc/deps/src/Cbc-2.9.8/CoinUtils/src   -O3 -pipe -DNDEBUG -pedantic-errors -Wparentheses -Wreturn-type -Wcast-qual -Wall -Wpointer-arith -Wwrite-strings -Wconversion -Wno-unknown-pragmas -Wno-long-long   -DCGL_BUILD -MT CglGMI.lo -MD -MP -MF \".deps/CglGMI.Tpo\" -c -o CglGMI.lo CglGMI.cpp; \\\n",
      "then mv -f \".deps/CglGMI.Tpo\" \".deps/CglGMI.Plo\"; else rm -f \".deps/CglGMI.Tpo\"; exit 1; fi\n"
     ]
    },
    {
     "name": "stderr",
     "output_type": "stream",
     "text": [
      "libtool: link: warning: `-version-info/-version-number' is ignored for convenience libraries\n",
      "ar: `u' modifier ignored since `D' is the default (see `U')\n"
     ]
    },
    {
     "name": "stdout",
     "output_type": "stream",
     "text": [
      "mkdir .libs\n",
      " g++ -DHAVE_CONFIG_H -I. -I. -I.. -I./.. -I/home/pedro/.julia/v0.5/Cbc/deps/src/Cbc-2.9.8/CoinUtils/src -I/home/pedro/.julia/v0.5/Cbc/deps/src/Cbc-2.9.8/Osi/src/Osi -I/home/pedro/.julia/v0.5/Cbc/deps/src/Cbc-2.9.8/CoinUtils/src -O3 -pipe -DNDEBUG -pedantic-errors -Wparentheses -Wreturn-type -Wcast-qual -Wall -Wpointer-arith -Wwrite-strings -Wconversion -Wno-unknown-pragmas -Wno-long-long -DCGL_BUILD -MT CglGMI.lo -MD -MP -MF .deps/CglGMI.Tpo -c CglGMI.cpp  -fPIC -DPIC -o .libs/CglGMI.o\n"
     ]
    },
    {
     "name": "stderr",
     "output_type": "stream",
     "text": [
      "CglGMI.cpp: In member function ‘bool CglGMI::scaleCutIntegral(double*, int*, int, double&)’:\n",
      "CglGMI.cpp:891:8: warning: unused variable ‘numerator’ [-Wunused-variable]\n",
      "   long numerator = 0, denominator = 0;\n",
      "        ^\n",
      "CglGMI.cpp:891:23: warning: unused variable ‘denominator’ [-Wunused-variable]\n",
      "   long numerator = 0, denominator = 0;\n",
      "                       ^\n"
     ]
    },
    {
     "name": "stdout",
     "output_type": "stream",
     "text": [
      "if /bin/bash ../../../libtool --tag=CXX --mode=compile g++ -DHAVE_CONFIG_H -I. -I`echo .` -I..  -I`echo ./..` -I/home/pedro/.julia/v0.5/Cbc/deps/src/Cbc-2.9.8/CoinUtils/src -I/home/pedro/.julia/v0.5/Cbc/deps/src/Cbc-2.9.8/Osi/src/Osi -I/home/pedro/.julia/v0.5/Cbc/deps/src/Cbc-2.9.8/CoinUtils/src   -O3 -pipe -DNDEBUG -pedantic-errors -Wparentheses -Wreturn-type -Wcast-qual -Wall -Wpointer-arith -Wwrite-strings -Wconversion -Wno-unknown-pragmas -Wno-long-long   -DCGL_BUILD -MT CglGMIParam.lo -MD -MP -MF \".deps/CglGMIParam.Tpo\" -c -o CglGMIParam.lo CglGMIParam.cpp; \\\n",
      "then mv -f \".deps/CglGMIParam.Tpo\" \".deps/CglGMIParam.Plo\"; else rm -f \".deps/CglGMIParam.Tpo\"; exit 1; fi\n"
     ]
    },
    {
     "name": "stderr",
     "output_type": "stream",
     "text": [
      "In file included from /home/pedro/.julia/v0.5/Cbc/deps/src/Cbc-2.9.8/CoinUtils/src/CoinIndexedVector.hpp:15:0,\n",
      "                 from CglGMI.cpp:23:\n",
      "/home/pedro/.julia/v0.5/Cbc/deps/src/Cbc-2.9.8/CoinUtils/src/CoinFinite.hpp: At global scope:\n",
      "/home/pedro/.julia/v0.5/Cbc/deps/src/Cbc-2.9.8/CoinUtils/src/CoinFinite.hpp:20:14: warning: ‘COIN_INT_MAX_AS_DOUBLE’ defined but not used [-Wunused-variable]\n",
      " const double COIN_INT_MAX_AS_DOUBLE = (std::numeric_limits<int>::max)();\n",
      "              ^\n"
     ]
    },
    {
     "name": "stdout",
     "output_type": "stream",
     "text": [
      " g++ -DHAVE_CONFIG_H -I. -I. -I.. -I./.. -I/home/pedro/.julia/v0.5/Cbc/deps/src/Cbc-2.9.8/CoinUtils/src -I/home/pedro/.julia/v0.5/Cbc/deps/src/Cbc-2.9.8/Osi/src/Osi -I/home/pedro/.julia/v0.5/Cbc/deps/src/Cbc-2.9.8/CoinUtils/src -O3 -pipe -DNDEBUG -pedantic-errors -Wparentheses -Wreturn-type -Wcast-qual -Wall -Wpointer-arith -Wwrite-strings -Wconversion -Wno-unknown-pragmas -Wno-long-long -DCGL_BUILD -MT CglGMIParam.lo -MD -MP -MF .deps/CglGMIParam.Tpo -c CglGMIParam.cpp  -fPIC -DPIC -o .libs/CglGMIParam.o\n",
      "/bin/bash ../../../libtool --tag=CXX --mode=link g++  -O3 -pipe -DNDEBUG -pedantic-errors -Wparentheses -Wreturn-type -Wcast-qual -Wall -Wpointer-arith -Wwrite-strings -Wconversion -Wno-unknown-pragmas -Wno-long-long   -DCGL_BUILD   -o libCglGMI.la  -no-undefined -version-info 10:9:9 CglGMI.lo CglGMIParam.lo  \n"
     ]
    },
    {
     "name": "stderr",
     "output_type": "stream",
     "text": [
      "In file included from ../CglParam.hpp:17:0,\n",
      "                 from CglGMIParam.hpp:13,\n",
      "                 from CglGMIParam.cpp:18:\n",
      "/home/pedro/.julia/v0.5/Cbc/deps/src/Cbc-2.9.8/CoinUtils/src/CoinFinite.hpp:17:14: warning: ‘COIN_DBL_MIN’ defined but not used [-Wunused-variable]\n",
      " const double COIN_DBL_MIN = (std::numeric_limits<double>::min)();\n",
      "              ^\n",
      "/home/pedro/.julia/v0.5/Cbc/deps/src/Cbc-2.9.8/CoinUtils/src/CoinFinite.hpp:20:14: warning: ‘COIN_INT_MAX_AS_DOUBLE’ defined but not used [-Wunused-variable]\n",
      " const double COIN_INT_MAX_AS_DOUBLE = (std::numeric_limits<int>::max)();\n",
      "              ^\n"
     ]
    },
    {
     "name": "stdout",
     "output_type": "stream",
     "text": [
      "ar cru .libs/libCglGMI.a .libs/CglGMI.o .libs/CglGMIParam.o\n",
      "ranlib .libs/libCglGMI.a\n",
      "creating libCglGMI.la\n"
     ]
    },
    {
     "name": "stderr",
     "output_type": "stream",
     "text": [
      "libtool: link: warning: `-version-info/-version-number' is ignored for convenience libraries\n",
      "ar: `u' modifier ignored since `D' is the default (see `U')\n"
     ]
    },
    {
     "name": "stdout",
     "output_type": "stream",
     "text": [
      "(cd .libs && rm -f libCglGMI.la && ln -s ../libCglGMI.la libCglGMI.la)\n",
      "make[4]: Entering directory '/home/pedro/.julia/v0.5/Cbc/deps/src/Cbc-2.9.8/Cgl/src/CglGMI'\n",
      "make[4]: Nothing to be done for 'install-exec-am'.\n",
      "test -z \"/home/pedro/.julia/v0.5/Cbc/deps/usr/include/coin\" || mkdir -p -- \"/home/pedro/.julia/v0.5/Cbc/deps/usr/include/coin\"\n",
      " /usr/bin/install -c -m 644 'CglGMI.hpp' '/home/pedro/.julia/v0.5/Cbc/deps/usr/include/coin/CglGMI.hpp'\n",
      " /usr/bin/install -c -m 644 'CglGMIParam.hpp' '/home/pedro/.julia/v0.5/Cbc/deps/usr/include/coin/CglGMIParam.hpp'\n",
      "make[4]: Leaving directory '/home/pedro/.julia/v0.5/Cbc/deps/src/Cbc-2.9.8/Cgl/src/CglGMI'\n",
      "make[3]: Leaving directory '/home/pedro/.julia/v0.5/Cbc/deps/src/Cbc-2.9.8/Cgl/src/CglGMI'\n",
      "Making install in CglGomory\n",
      "make[3]: Entering directory '/home/pedro/.julia/v0.5/Cbc/deps/src/Cbc-2.9.8/Cgl/src/CglGomory'\n",
      "if /bin/bash ../../../libtool --tag=CXX --mode=compile g++ -DHAVE_CONFIG_H -I. -I`echo .` -I..  -I`echo ./..` -I/home/pedro/.julia/v0.5/Cbc/deps/src/Cbc-2.9.8/CoinUtils/src -I/home/pedro/.julia/v0.5/Cbc/deps/src/Cbc-2.9.8/Osi/src/Osi -I/home/pedro/.julia/v0.5/Cbc/deps/src/Cbc-2.9.8/CoinUtils/src -I/home/pedro/.julia/v0.5/Cbc/deps/src/Cbc-2.9.8/Clp/src/OsiClp -I/home/pedro/.julia/v0.5/Cbc/deps/src/Cbc-2.9.8/Clp/src -I/home/pedro/.julia/v0.5/Cbc/deps/src/Cbc-2.9.8/Osi/src/Osi -I/home/pedro/.julia/v0.5/Cbc/deps/src/Cbc-2.9.8/CoinUtils/src   -O3 -pipe -DNDEBUG -pedantic-errors -Wparentheses -Wreturn-type -Wcast-qual -Wall -Wpointer-arith -Wwrite-strings -Wconversion -Wno-unknown-pragmas -Wno-long-long   -DCGL_BUILD -MT CglGomory.lo -MD -MP -MF \".deps/CglGomory.Tpo\" -c -o CglGomory.lo CglGomory.cpp; \\\n",
      "then mv -f \".deps/CglGomory.Tpo\" \".deps/CglGomory.Plo\"; else rm -f \".deps/CglGomory.Tpo\"; exit 1; fi\n",
      "mkdir .libs\n",
      " g++ -DHAVE_CONFIG_H -I. -I. -I.. -I./.. -I/home/pedro/.julia/v0.5/Cbc/deps/src/Cbc-2.9.8/CoinUtils/src -I/home/pedro/.julia/v0.5/Cbc/deps/src/Cbc-2.9.8/Osi/src/Osi -I/home/pedro/.julia/v0.5/Cbc/deps/src/Cbc-2.9.8/CoinUtils/src -I/home/pedro/.julia/v0.5/Cbc/deps/src/Cbc-2.9.8/Clp/src/OsiClp -I/home/pedro/.julia/v0.5/Cbc/deps/src/Cbc-2.9.8/Clp/src -I/home/pedro/.julia/v0.5/Cbc/deps/src/Cbc-2.9.8/Osi/src/Osi -I/home/pedro/.julia/v0.5/Cbc/deps/src/Cbc-2.9.8/CoinUtils/src -O3 -pipe -DNDEBUG -pedantic-errors -Wparentheses -Wreturn-type -Wcast-qual -Wall -Wpointer-arith -Wwrite-strings -Wconversion -Wno-unknown-pragmas -Wno-long-long -DCGL_BUILD -MT CglGomory.lo -MD -MP -MF .deps/CglGomory.Tpo -c CglGomory.cpp  -fPIC -DPIC -o .libs/CglGomory.o\n",
      "if /bin/bash ../../../libtool --tag=CXX --mode=compile g++ -DHAVE_CONFIG_H -I. -I`echo .` -I..  -I`echo ./..` -I/home/pedro/.julia/v0.5/Cbc/deps/src/Cbc-2.9.8/CoinUtils/src -I/home/pedro/.julia/v0.5/Cbc/deps/src/Cbc-2.9.8/Osi/src/Osi -I/home/pedro/.julia/v0.5/Cbc/deps/src/Cbc-2.9.8/CoinUtils/src -I/home/pedro/.julia/v0.5/Cbc/deps/src/Cbc-2.9.8/Clp/src/OsiClp -I/home/pedro/.julia/v0.5/Cbc/deps/src/Cbc-2.9.8/Clp/src -I/home/pedro/.julia/v0.5/Cbc/deps/src/Cbc-2.9.8/Osi/src/Osi -I/home/pedro/.julia/v0.5/Cbc/deps/src/Cbc-2.9.8/CoinUtils/src   -O3 -pipe -DNDEBUG -pedantic-errors -Wparentheses -Wreturn-type -Wcast-qual -Wall -Wpointer-arith -Wwrite-strings -Wconversion -Wno-unknown-pragmas -Wno-long-long   -DCGL_BUILD -MT CglGomoryTest.lo -MD -MP -MF \".deps/CglGomoryTest.Tpo\" -c -o CglGomoryTest.lo CglGomoryTest.cpp; \\\n",
      "then mv -f \".deps/CglGomoryTest.Tpo\" \".deps/CglGomoryTest.Plo\"; else rm -f \".deps/CglGomoryTest.Tpo\"; exit 1; fi\n"
     ]
    },
    {
     "name": "stderr",
     "output_type": "stream",
     "text": [
      "In file included from /home/pedro/.julia/v0.5/Cbc/deps/src/Cbc-2.9.8/CoinUtils/src/CoinIndexedVector.hpp:15:0,\n",
      "                 from CglGomory.cpp:19:\n",
      "/home/pedro/.julia/v0.5/Cbc/deps/src/Cbc-2.9.8/CoinUtils/src/CoinFinite.hpp:20:14: warning: ‘COIN_INT_MAX_AS_DOUBLE’ defined but not used [-Wunused-variable]\n",
      " const double COIN_INT_MAX_AS_DOUBLE = (std::numeric_limits<int>::max)();\n",
      "              ^\n"
     ]
    },
    {
     "name": "stdout",
     "output_type": "stream",
     "text": [
      " g++ -DHAVE_CONFIG_H -I. -I. -I.. -I./.. -I/home/pedro/.julia/v0.5/Cbc/deps/src/Cbc-2.9.8/CoinUtils/src -I/home/pedro/.julia/v0.5/Cbc/deps/src/Cbc-2.9.8/Osi/src/Osi -I/home/pedro/.julia/v0.5/Cbc/deps/src/Cbc-2.9.8/CoinUtils/src -I/home/pedro/.julia/v0.5/Cbc/deps/src/Cbc-2.9.8/Clp/src/OsiClp -I/home/pedro/.julia/v0.5/Cbc/deps/src/Cbc-2.9.8/Clp/src -I/home/pedro/.julia/v0.5/Cbc/deps/src/Cbc-2.9.8/Osi/src/Osi -I/home/pedro/.julia/v0.5/Cbc/deps/src/Cbc-2.9.8/CoinUtils/src -O3 -pipe -DNDEBUG -pedantic-errors -Wparentheses -Wreturn-type -Wcast-qual -Wall -Wpointer-arith -Wwrite-strings -Wconversion -Wno-unknown-pragmas -Wno-long-long -DCGL_BUILD -MT CglGomoryTest.lo -MD -MP -MF .deps/CglGomoryTest.Tpo -c CglGomoryTest.cpp  -fPIC -DPIC -o .libs/CglGomoryTest.o\n",
      "/bin/bash ../../../libtool --tag=CXX --mode=link g++  -O3 -pipe -DNDEBUG -pedantic-errors -Wparentheses -Wreturn-type -Wcast-qual -Wall -Wpointer-arith -Wwrite-strings -Wconversion -Wno-unknown-pragmas -Wno-long-long   -DCGL_BUILD   -o libCglGomory.la  -no-undefined -version-info 10:9:9 CglGomory.lo CglGomoryTest.lo  \n"
     ]
    },
    {
     "name": "stderr",
     "output_type": "stream",
     "text": [
      "In file included from /home/pedro/.julia/v0.5/Cbc/deps/src/Cbc-2.9.8/Osi/src/Osi/OsiSolverInterface.hpp:17:0,\n",
      "                 from /home/pedro/.julia/v0.5/Cbc/deps/src/Cbc-2.9.8/Osi/src/Osi/OsiCut.hpp:9,\n",
      "                 from /home/pedro/.julia/v0.5/Cbc/deps/src/Cbc-2.9.8/Osi/src/Osi/OsiRowCut.hpp:11,\n",
      "                 from /home/pedro/.julia/v0.5/Cbc/deps/src/Cbc-2.9.8/Osi/src/Osi/OsiCuts.hpp:13,\n",
      "                 from CglGomoryTest.cpp:15:\n",
      "/home/pedro/.julia/v0.5/Cbc/deps/src/Cbc-2.9.8/CoinUtils/src/CoinFinite.hpp:18:14: warning: ‘COIN_DBL_MAX’ defined but not used [-Wunused-variable]\n",
      " const double COIN_DBL_MAX = (std::numeric_limits<double>::max)();\n",
      "              ^\n",
      "/home/pedro/.julia/v0.5/Cbc/deps/src/Cbc-2.9.8/CoinUtils/src/CoinFinite.hpp:20:14: warning: ‘COIN_INT_MAX_AS_DOUBLE’ defined but not used [-Wunused-variable]\n",
      " const double COIN_INT_MAX_AS_DOUBLE = (std::numeric_limits<int>::max)();\n",
      "              ^\n"
     ]
    },
    {
     "name": "stdout",
     "output_type": "stream",
     "text": [
      "ar cru .libs/libCglGomory.a .libs/CglGomory.o .libs/CglGomoryTest.o\n",
      "ranlib .libs/libCglGomory.a\n",
      "creating libCglGomory.la\n",
      "(cd .libs && rm -f libCglGomory.la && ln -s ../libCglGomory.la libCglGomory.la)\n",
      "make[4]: Entering directory '/home/pedro/.julia/v0.5/Cbc/deps/src/Cbc-2.9.8/Cgl/src/CglGomory'\n",
      "make[4]: Nothing to be done for 'install-exec-am'.\n",
      "test -z \"/home/pedro/.julia/v0.5/Cbc/deps/usr/include/coin\" || mkdir -p -- \"/home/pedro/.julia/v0.5/Cbc/deps/usr/include/coin\"\n",
      " /usr/bin/install -c -m 644 'CglGomory.hpp' '/home/pedro/.julia/v0.5/Cbc/deps/usr/include/coin/CglGomory.hpp'\n",
      "make[4]: Leaving directory '/home/pedro/.julia/v0.5/Cbc/deps/src/Cbc-2.9.8/Cgl/src/CglGomory'\n",
      "make[3]: Leaving directory '/home/pedro/.julia/v0.5/Cbc/deps/src/Cbc-2.9.8/Cgl/src/CglGomory'\n",
      "Making install in CglKnapsackCover\n",
      "make[3]: Entering directory '/home/pedro/.julia/v0.5/Cbc/deps/src/Cbc-2.9.8/Cgl/src/CglKnapsackCover'\n",
      "if /bin/bash ../../../libtool --tag=CXX --mode=compile g++ -DHAVE_CONFIG_H -I. -I`echo .` -I..  -I`echo ./..` -I/home/pedro/.julia/v0.5/Cbc/deps/src/Cbc-2.9.8/CoinUtils/src -I/home/pedro/.julia/v0.5/Cbc/deps/src/Cbc-2.9.8/Osi/src/Osi -I/home/pedro/.julia/v0.5/Cbc/deps/src/Cbc-2.9.8/CoinUtils/src   -O3 -pipe -DNDEBUG -pedantic-errors -Wparentheses -Wreturn-type -Wcast-qual -Wall -Wpointer-arith -Wwrite-strings -Wconversion -Wno-unknown-pragmas -Wno-long-long   -DCGL_BUILD -MT CglKnapsackCover.lo -MD -MP -MF \".deps/CglKnapsackCover.Tpo\" -c -o CglKnapsackCover.lo CglKnapsackCover.cpp; \\\n",
      "then mv -f \".deps/CglKnapsackCover.Tpo\" \".deps/CglKnapsackCover.Plo\"; else rm -f \".deps/CglKnapsackCover.Tpo\"; exit 1; fi\n"
     ]
    },
    {
     "name": "stderr",
     "output_type": "stream",
     "text": [
      "libtool: link: warning: `-version-info/-version-number' is ignored for convenience libraries\n",
      "ar: `u' modifier ignored since `D' is the default (see `U')\n"
     ]
    },
    {
     "name": "stdout",
     "output_type": "stream",
     "text": [
      "mkdir .libs\n",
      " g++ -DHAVE_CONFIG_H -I. -I. -I.. -I./.. -I/home/pedro/.julia/v0.5/Cbc/deps/src/Cbc-2.9.8/CoinUtils/src -I/home/pedro/.julia/v0.5/Cbc/deps/src/Cbc-2.9.8/Osi/src/Osi -I/home/pedro/.julia/v0.5/Cbc/deps/src/Cbc-2.9.8/CoinUtils/src -O3 -pipe -DNDEBUG -pedantic-errors -Wparentheses -Wreturn-type -Wcast-qual -Wall -Wpointer-arith -Wwrite-strings -Wconversion -Wno-unknown-pragmas -Wno-long-long -DCGL_BUILD -MT CglKnapsackCover.lo -MD -MP -MF .deps/CglKnapsackCover.Tpo -c CglKnapsackCover.cpp  -fPIC -DPIC -o .libs/CglKnapsackCover.o\n",
      "if /bin/bash ../../../libtool --tag=CXX --mode=compile g++ -DHAVE_CONFIG_H -I. -I`echo .` -I..  -I`echo ./..` -I/home/pedro/.julia/v0.5/Cbc/deps/src/Cbc-2.9.8/CoinUtils/src -I/home/pedro/.julia/v0.5/Cbc/deps/src/Cbc-2.9.8/Osi/src/Osi -I/home/pedro/.julia/v0.5/Cbc/deps/src/Cbc-2.9.8/CoinUtils/src   -O3 -pipe -DNDEBUG -pedantic-errors -Wparentheses -Wreturn-type -Wcast-qual -Wall -Wpointer-arith -Wwrite-strings -Wconversion -Wno-unknown-pragmas -Wno-long-long   -DCGL_BUILD -MT CglKnapsackCoverTest.lo -MD -MP -MF \".deps/CglKnapsackCoverTest.Tpo\" -c -o CglKnapsackCoverTest.lo CglKnapsackCoverTest.cpp; \\\n",
      "then mv -f \".deps/CglKnapsackCoverTest.Tpo\" \".deps/CglKnapsackCoverTest.Plo\"; else rm -f \".deps/CglKnapsackCoverTest.Tpo\"; exit 1; fi\n"
     ]
    },
    {
     "name": "stderr",
     "output_type": "stream",
     "text": [
      "In file included from /home/pedro/.julia/v0.5/Cbc/deps/src/Cbc-2.9.8/Osi/src/Osi/OsiSolverInterface.hpp:17:0,\n",
      "                 from /home/pedro/.julia/v0.5/Cbc/deps/src/Cbc-2.9.8/Osi/src/Osi/OsiCut.hpp:9,\n",
      "                 from /home/pedro/.julia/v0.5/Cbc/deps/src/Cbc-2.9.8/Osi/src/Osi/OsiRowCut.hpp:11,\n",
      "                 from /home/pedro/.julia/v0.5/Cbc/deps/src/Cbc-2.9.8/Osi/src/Osi/OsiCuts.hpp:13,\n",
      "                 from ../CglCutGenerator.hpp:8,\n",
      "                 from CglKnapsackCover.hpp:11,\n",
      "                 from CglKnapsackCover.cpp:15:\n",
      "/home/pedro/.julia/v0.5/Cbc/deps/src/Cbc-2.9.8/CoinUtils/src/CoinFinite.hpp:20:14: warning: ‘COIN_INT_MAX_AS_DOUBLE’ defined but not used [-Wunused-variable]\n",
      " const double COIN_INT_MAX_AS_DOUBLE = (std::numeric_limits<int>::max)();\n",
      "              ^\n"
     ]
    },
    {
     "name": "stdout",
     "output_type": "stream",
     "text": [
      " g++ -DHAVE_CONFIG_H -I. -I. -I.. -I./.. -I/home/pedro/.julia/v0.5/Cbc/deps/src/Cbc-2.9.8/CoinUtils/src -I/home/pedro/.julia/v0.5/Cbc/deps/src/Cbc-2.9.8/Osi/src/Osi -I/home/pedro/.julia/v0.5/Cbc/deps/src/Cbc-2.9.8/CoinUtils/src -O3 -pipe -DNDEBUG -pedantic-errors -Wparentheses -Wreturn-type -Wcast-qual -Wall -Wpointer-arith -Wwrite-strings -Wconversion -Wno-unknown-pragmas -Wno-long-long -DCGL_BUILD -MT CglKnapsackCoverTest.lo -MD -MP -MF .deps/CglKnapsackCoverTest.Tpo -c CglKnapsackCoverTest.cpp  -fPIC -DPIC -o .libs/CglKnapsackCoverTest.o\n"
     ]
    },
    {
     "name": "stderr",
     "output_type": "stream",
     "text": [
      "In file included from /home/pedro/.julia/v0.5/Cbc/deps/src/Cbc-2.9.8/Osi/src/Osi/OsiSolverInterface.hpp:17:0,\n",
      "                 from /home/pedro/.julia/v0.5/Cbc/deps/src/Cbc-2.9.8/Osi/src/Osi/OsiCut.hpp:9,\n",
      "                 from /home/pedro/.julia/v0.5/Cbc/deps/src/Cbc-2.9.8/Osi/src/Osi/OsiRowCut.hpp:11,\n",
      "                 from /home/pedro/.julia/v0.5/Cbc/deps/src/Cbc-2.9.8/Osi/src/Osi/OsiCuts.hpp:13,\n",
      "                 from ../CglCutGenerator.hpp:8,\n",
      "                 from CglKnapsackCover.hpp:11,\n",
      "                 from CglKnapsackCoverTest.cpp:14:\n",
      "/home/pedro/.julia/v0.5/Cbc/deps/src/Cbc-2.9.8/CoinUtils/src/CoinFinite.hpp:20:14: warning: ‘COIN_INT_MAX_AS_DOUBLE’ defined but not used [-Wunused-variable]\n",
      " const double COIN_INT_MAX_AS_DOUBLE = (std::numeric_limits<int>::max)();\n",
      "              ^\n"
     ]
    },
    {
     "name": "stdout",
     "output_type": "stream",
     "text": [
      "/bin/bash ../../../libtool --tag=CXX --mode=link g++  -O3 -pipe -DNDEBUG -pedantic-errors -Wparentheses -Wreturn-type -Wcast-qual -Wall -Wpointer-arith -Wwrite-strings -Wconversion -Wno-unknown-pragmas -Wno-long-long   -DCGL_BUILD   -o libCglKnapsackCover.la  -no-undefined -version-info 10:9:9 CglKnapsackCover.lo CglKnapsackCoverTest.lo  \n",
      "ar cru .libs/libCglKnapsackCover.a .libs/CglKnapsackCover.o .libs/CglKnapsackCoverTest.o\n",
      "ranlib .libs/libCglKnapsackCover.a\n",
      "creating libCglKnapsackCover.la\n",
      "(cd .libs && rm -f libCglKnapsackCover.la && ln -s ../libCglKnapsackCover.la libCglKnapsackCover.la)\n",
      "make[4]: Entering directory '/home/pedro/.julia/v0.5/Cbc/deps/src/Cbc-2.9.8/Cgl/src/CglKnapsackCover'\n",
      "make[4]: Nothing to be done for 'install-exec-am'.\n",
      "test -z \"/home/pedro/.julia/v0.5/Cbc/deps/usr/include/coin\" || mkdir -p -- \"/home/pedro/.julia/v0.5/Cbc/deps/usr/include/coin\"\n"
     ]
    },
    {
     "name": "stderr",
     "output_type": "stream",
     "text": [
      "libtool: link: warning: `-version-info/-version-number' is ignored for convenience libraries\n",
      "ar: `u' modifier ignored since `D' is the default (see `U')\n"
     ]
    },
    {
     "name": "stdout",
     "output_type": "stream",
     "text": [
      " /usr/bin/install -c -m 644 'CglKnapsackCover.hpp' '/home/pedro/.julia/v0.5/Cbc/deps/usr/include/coin/CglKnapsackCover.hpp'\n",
      "make[4]: Leaving directory '/home/pedro/.julia/v0.5/Cbc/deps/src/Cbc-2.9.8/Cgl/src/CglKnapsackCover'\n",
      "make[3]: Leaving directory '/home/pedro/.julia/v0.5/Cbc/deps/src/Cbc-2.9.8/Cgl/src/CglKnapsackCover'\n",
      "Making install in CglLandP\n",
      "make[3]: Entering directory '/home/pedro/.julia/v0.5/Cbc/deps/src/Cbc-2.9.8/Cgl/src/CglLandP'\n",
      "if /bin/bash ../../../libtool --tag=CXX --mode=compile g++ -DHAVE_CONFIG_H -I. -I`echo .` -I..  -I`echo ./..` -I`echo ./../CglGomory` -I/home/pedro/.julia/v0.5/Cbc/deps/src/Cbc-2.9.8/CoinUtils/src -I/home/pedro/.julia/v0.5/Cbc/deps/src/Cbc-2.9.8/Osi/src/Osi -I/home/pedro/.julia/v0.5/Cbc/deps/src/Cbc-2.9.8/CoinUtils/src -I/home/pedro/.julia/v0.5/Cbc/deps/src/Cbc-2.9.8/Clp/src/OsiClp -I/home/pedro/.julia/v0.5/Cbc/deps/src/Cbc-2.9.8/Clp/src -I/home/pedro/.julia/v0.5/Cbc/deps/src/Cbc-2.9.8/Osi/src/Osi -I/home/pedro/.julia/v0.5/Cbc/deps/src/Cbc-2.9.8/CoinUtils/src   -O3 -pipe -DNDEBUG -pedantic-errors -Wparentheses -Wreturn-type -Wcast-qual -Wall -Wpointer-arith -Wwrite-strings -Wconversion -Wno-unknown-pragmas -Wno-long-long   -DCGL_BUILD -MT CglLandPUtils.lo -MD -MP -MF \".deps/CglLandPUtils.Tpo\" -c -o CglLandPUtils.lo CglLandPUtils.cpp; \\\n",
      "then mv -f \".deps/CglLandPUtils.Tpo\" \".deps/CglLandPUtils.Plo\"; else rm -f \".deps/CglLandPUtils.Tpo\"; exit 1; fi\n",
      "mkdir .libs\n",
      " g++ -DHAVE_CONFIG_H -I. -I. -I.. -I./.. -I./../CglGomory -I/home/pedro/.julia/v0.5/Cbc/deps/src/Cbc-2.9.8/CoinUtils/src -I/home/pedro/.julia/v0.5/Cbc/deps/src/Cbc-2.9.8/Osi/src/Osi -I/home/pedro/.julia/v0.5/Cbc/deps/src/Cbc-2.9.8/CoinUtils/src -I/home/pedro/.julia/v0.5/Cbc/deps/src/Cbc-2.9.8/Clp/src/OsiClp -I/home/pedro/.julia/v0.5/Cbc/deps/src/Cbc-2.9.8/Clp/src -I/home/pedro/.julia/v0.5/Cbc/deps/src/Cbc-2.9.8/Osi/src/Osi -I/home/pedro/.julia/v0.5/Cbc/deps/src/Cbc-2.9.8/CoinUtils/src -O3 -pipe -DNDEBUG -pedantic-errors -Wparentheses -Wreturn-type -Wcast-qual -Wall -Wpointer-arith -Wwrite-strings -Wconversion -Wno-unknown-pragmas -Wno-long-long -DCGL_BUILD -MT CglLandPUtils.lo -MD -MP -MF .deps/CglLandPUtils.Tpo -c CglLandPUtils.cpp  -fPIC -DPIC -o .libs/CglLandPUtils.o\n",
      "if /bin/bash ../../../libtool --tag=CXX --mode=compile g++ -DHAVE_CONFIG_H -I. -I`echo .` -I..  -I`echo ./..` -I`echo ./../CglGomory` -I/home/pedro/.julia/v0.5/Cbc/deps/src/Cbc-2.9.8/CoinUtils/src -I/home/pedro/.julia/v0.5/Cbc/deps/src/Cbc-2.9.8/Osi/src/Osi -I/home/pedro/.julia/v0.5/Cbc/deps/src/Cbc-2.9.8/CoinUtils/src -I/home/pedro/.julia/v0.5/Cbc/deps/src/Cbc-2.9.8/Clp/src/OsiClp -I/home/pedro/.julia/v0.5/Cbc/deps/src/Cbc-2.9.8/Clp/src -I/home/pedro/.julia/v0.5/Cbc/deps/src/Cbc-2.9.8/Osi/src/Osi -I/home/pedro/.julia/v0.5/Cbc/deps/src/Cbc-2.9.8/CoinUtils/src   -O3 -pipe -DNDEBUG -pedantic-errors -Wparentheses -Wreturn-type -Wcast-qual -Wall -Wpointer-arith -Wwrite-strings -Wconversion -Wno-unknown-pragmas -Wno-long-long   -DCGL_BUILD -MT CglLandP.lo -MD -MP -MF \".deps/CglLandP.Tpo\" -c -o CglLandP.lo CglLandP.cpp; \\\n",
      "then mv -f \".deps/CglLandP.Tpo\" \".deps/CglLandP.Plo\"; else rm -f \".deps/CglLandP.Tpo\"; exit 1; fi\n"
     ]
    },
    {
     "name": "stderr",
     "output_type": "stream",
     "text": [
      "In file included from /home/pedro/.julia/v0.5/Cbc/deps/src/Cbc-2.9.8/CoinUtils/src/CoinIndexedVector.hpp:15:0,\n",
      "                 from CglLandPTabRow.hpp:15,\n",
      "                 from CglLandPUtils.hpp:14,\n",
      "                 from CglLandPUtils.cpp:12:\n",
      "/home/pedro/.julia/v0.5/Cbc/deps/src/Cbc-2.9.8/CoinUtils/src/CoinFinite.hpp:18:14: warning: ‘COIN_DBL_MAX’ defined but not used [-Wunused-variable]\n",
      " const double COIN_DBL_MAX = (std::numeric_limits<double>::max)();\n",
      "              ^\n",
      "/home/pedro/.julia/v0.5/Cbc/deps/src/Cbc-2.9.8/CoinUtils/src/CoinFinite.hpp:19:14: warning: ‘COIN_INT_MAX’ defined but not used [-Wunused-variable]\n",
      " const int    COIN_INT_MAX = (std::numeric_limits<int>::max)();\n",
      "              ^\n",
      "/home/pedro/.julia/v0.5/Cbc/deps/src/Cbc-2.9.8/CoinUtils/src/CoinFinite.hpp:20:14: warning: ‘COIN_INT_MAX_AS_DOUBLE’ defined but not used [-Wunused-variable]\n",
      " const double COIN_INT_MAX_AS_DOUBLE = (std::numeric_limits<int>::max)();\n",
      "              ^\n"
     ]
    },
    {
     "name": "stdout",
     "output_type": "stream",
     "text": [
      " g++ -DHAVE_CONFIG_H -I. -I. -I.. -I./.. -I./../CglGomory -I/home/pedro/.julia/v0.5/Cbc/deps/src/Cbc-2.9.8/CoinUtils/src -I/home/pedro/.julia/v0.5/Cbc/deps/src/Cbc-2.9.8/Osi/src/Osi -I/home/pedro/.julia/v0.5/Cbc/deps/src/Cbc-2.9.8/CoinUtils/src -I/home/pedro/.julia/v0.5/Cbc/deps/src/Cbc-2.9.8/Clp/src/OsiClp -I/home/pedro/.julia/v0.5/Cbc/deps/src/Cbc-2.9.8/Clp/src -I/home/pedro/.julia/v0.5/Cbc/deps/src/Cbc-2.9.8/Osi/src/Osi -I/home/pedro/.julia/v0.5/Cbc/deps/src/Cbc-2.9.8/CoinUtils/src -O3 -pipe -DNDEBUG -pedantic-errors -Wparentheses -Wreturn-type -Wcast-qual -Wall -Wpointer-arith -Wwrite-strings -Wconversion -Wno-unknown-pragmas -Wno-long-long -DCGL_BUILD -MT CglLandP.lo -MD -MP -MF .deps/CglLandP.Tpo -c CglLandP.cpp  -fPIC -DPIC -o .libs/CglLandP.o\n",
      "if /bin/bash ../../../libtool --tag=CXX --mode=compile g++ -DHAVE_CONFIG_H -I. -I`echo .` -I..  -I`echo ./..` -I`echo ./../CglGomory` -I/home/pedro/.julia/v0.5/Cbc/deps/src/Cbc-2.9.8/CoinUtils/src -I/home/pedro/.julia/v0.5/Cbc/deps/src/Cbc-2.9.8/Osi/src/Osi -I/home/pedro/.julia/v0.5/Cbc/deps/src/Cbc-2.9.8/CoinUtils/src -I/home/pedro/.julia/v0.5/Cbc/deps/src/Cbc-2.9.8/Clp/src/OsiClp -I/home/pedro/.julia/v0.5/Cbc/deps/src/Cbc-2.9.8/Clp/src -I/home/pedro/.julia/v0.5/Cbc/deps/src/Cbc-2.9.8/Osi/src/Osi -I/home/pedro/.julia/v0.5/Cbc/deps/src/Cbc-2.9.8/CoinUtils/src   -O3 -pipe -DNDEBUG -pedantic-errors -Wparentheses -Wreturn-type -Wcast-qual -Wall -Wpointer-arith -Wwrite-strings -Wconversion -Wno-unknown-pragmas -Wno-long-long   -DCGL_BUILD -MT CglLandPTabRow.lo -MD -MP -MF \".deps/CglLandPTabRow.Tpo\" -c -o CglLandPTabRow.lo CglLandPTabRow.cpp; \\\n",
      "then mv -f \".deps/CglLandPTabRow.Tpo\" \".deps/CglLandPTabRow.Plo\"; else rm -f \".deps/CglLandPTabRow.Tpo\"; exit 1; fi\n"
     ]
    },
    {
     "name": "stderr",
     "output_type": "stream",
     "text": [
      "In file included from /home/pedro/.julia/v0.5/Cbc/deps/src/Cbc-2.9.8/Osi/src/Osi/OsiSolverInterface.hpp:17:0,\n",
      "                 from CglLandPValidator.hpp:14,\n",
      "                 from CglLandP.hpp:14,\n",
      "                 from CglLandP.cpp:11:\n",
      "/home/pedro/.julia/v0.5/Cbc/deps/src/Cbc-2.9.8/CoinUtils/src/CoinFinite.hpp:20:14: warning: ‘COIN_INT_MAX_AS_DOUBLE’ defined but not used [-Wunused-variable]\n",
      " const double COIN_INT_MAX_AS_DOUBLE = (std::numeric_limits<int>::max)();\n",
      "              ^\n"
     ]
    },
    {
     "name": "stdout",
     "output_type": "stream",
     "text": [
      " g++ -DHAVE_CONFIG_H -I. -I. -I.. -I./.. -I./../CglGomory -I/home/pedro/.julia/v0.5/Cbc/deps/src/Cbc-2.9.8/CoinUtils/src -I/home/pedro/.julia/v0.5/Cbc/deps/src/Cbc-2.9.8/Osi/src/Osi -I/home/pedro/.julia/v0.5/Cbc/deps/src/Cbc-2.9.8/CoinUtils/src -I/home/pedro/.julia/v0.5/Cbc/deps/src/Cbc-2.9.8/Clp/src/OsiClp -I/home/pedro/.julia/v0.5/Cbc/deps/src/Cbc-2.9.8/Clp/src -I/home/pedro/.julia/v0.5/Cbc/deps/src/Cbc-2.9.8/Osi/src/Osi -I/home/pedro/.julia/v0.5/Cbc/deps/src/Cbc-2.9.8/CoinUtils/src -O3 -pipe -DNDEBUG -pedantic-errors -Wparentheses -Wreturn-type -Wcast-qual -Wall -Wpointer-arith -Wwrite-strings -Wconversion -Wno-unknown-pragmas -Wno-long-long -DCGL_BUILD -MT CglLandPTabRow.lo -MD -MP -MF .deps/CglLandPTabRow.Tpo -c CglLandPTabRow.cpp  -fPIC -DPIC -o .libs/CglLandPTabRow.o\n",
      "if /bin/bash ../../../libtool --tag=CXX --mode=compile g++ -DHAVE_CONFIG_H -I. -I`echo .` -I..  -I`echo ./..` -I`echo ./../CglGomory` -I/home/pedro/.julia/v0.5/Cbc/deps/src/Cbc-2.9.8/CoinUtils/src -I/home/pedro/.julia/v0.5/Cbc/deps/src/Cbc-2.9.8/Osi/src/Osi -I/home/pedro/.julia/v0.5/Cbc/deps/src/Cbc-2.9.8/CoinUtils/src -I/home/pedro/.julia/v0.5/Cbc/deps/src/Cbc-2.9.8/Clp/src/OsiClp -I/home/pedro/.julia/v0.5/Cbc/deps/src/Cbc-2.9.8/Clp/src -I/home/pedro/.julia/v0.5/Cbc/deps/src/Cbc-2.9.8/Osi/src/Osi -I/home/pedro/.julia/v0.5/Cbc/deps/src/Cbc-2.9.8/CoinUtils/src   -O3 -pipe -DNDEBUG -pedantic-errors -Wparentheses -Wreturn-type -Wcast-qual -Wall -Wpointer-arith -Wwrite-strings -Wconversion -Wno-unknown-pragmas -Wno-long-long   -DCGL_BUILD -MT CglLandPMessages.lo -MD -MP -MF \".deps/CglLandPMessages.Tpo\" -c -o CglLandPMessages.lo CglLandPMessages.cpp; \\\n",
      "then mv -f \".deps/CglLandPMessages.Tpo\" \".deps/CglLandPMessages.Plo\"; else rm -f \".deps/CglLandPMessages.Tpo\"; exit 1; fi\n"
     ]
    },
    {
     "name": "stderr",
     "output_type": "stream",
     "text": [
      "In file included from /home/pedro/.julia/v0.5/Cbc/deps/src/Cbc-2.9.8/CoinUtils/src/CoinIndexedVector.hpp:15:0,\n",
      "                 from CglLandPTabRow.hpp:15,\n",
      "                 from CglLandPTabRow.cpp:12:\n",
      "/home/pedro/.julia/v0.5/Cbc/deps/src/Cbc-2.9.8/CoinUtils/src/CoinFinite.hpp:20:14: warning: ‘COIN_INT_MAX_AS_DOUBLE’ defined but not used [-Wunused-variable]\n",
      " const double COIN_INT_MAX_AS_DOUBLE = (std::numeric_limits<int>::max)();\n",
      "              ^\n"
     ]
    },
    {
     "name": "stdout",
     "output_type": "stream",
     "text": [
      " g++ -DHAVE_CONFIG_H -I. -I. -I.. -I./.. -I./../CglGomory -I/home/pedro/.julia/v0.5/Cbc/deps/src/Cbc-2.9.8/CoinUtils/src -I/home/pedro/.julia/v0.5/Cbc/deps/src/Cbc-2.9.8/Osi/src/Osi -I/home/pedro/.julia/v0.5/Cbc/deps/src/Cbc-2.9.8/CoinUtils/src -I/home/pedro/.julia/v0.5/Cbc/deps/src/Cbc-2.9.8/Clp/src/OsiClp -I/home/pedro/.julia/v0.5/Cbc/deps/src/Cbc-2.9.8/Clp/src -I/home/pedro/.julia/v0.5/Cbc/deps/src/Cbc-2.9.8/Osi/src/Osi -I/home/pedro/.julia/v0.5/Cbc/deps/src/Cbc-2.9.8/CoinUtils/src -O3 -pipe -DNDEBUG -pedantic-errors -Wparentheses -Wreturn-type -Wcast-qual -Wall -Wpointer-arith -Wwrite-strings -Wconversion -Wno-unknown-pragmas -Wno-long-long -DCGL_BUILD -MT CglLandPMessages.lo -MD -MP -MF .deps/CglLandPMessages.Tpo -c CglLandPMessages.cpp  -fPIC -DPIC -o .libs/CglLandPMessages.o\n",
      "if /bin/bash ../../../libtool --tag=CXX --mode=compile g++ -DHAVE_CONFIG_H -I. -I`echo .` -I..  -I`echo ./..` -I`echo ./../CglGomory` -I/home/pedro/.julia/v0.5/Cbc/deps/src/Cbc-2.9.8/CoinUtils/src -I/home/pedro/.julia/v0.5/Cbc/deps/src/Cbc-2.9.8/Osi/src/Osi -I/home/pedro/.julia/v0.5/Cbc/deps/src/Cbc-2.9.8/CoinUtils/src -I/home/pedro/.julia/v0.5/Cbc/deps/src/Cbc-2.9.8/Clp/src/OsiClp -I/home/pedro/.julia/v0.5/Cbc/deps/src/Cbc-2.9.8/Clp/src -I/home/pedro/.julia/v0.5/Cbc/deps/src/Cbc-2.9.8/Osi/src/Osi -I/home/pedro/.julia/v0.5/Cbc/deps/src/Cbc-2.9.8/CoinUtils/src   -O3 -pipe -DNDEBUG -pedantic-errors -Wparentheses -Wreturn-type -Wcast-qual -Wall -Wpointer-arith -Wwrite-strings -Wconversion -Wno-unknown-pragmas -Wno-long-long   -DCGL_BUILD -MT CglLandPSimplex.lo -MD -MP -MF \".deps/CglLandPSimplex.Tpo\" -c -o CglLandPSimplex.lo CglLandPSimplex.cpp; \\\n",
      "then mv -f \".deps/CglLandPSimplex.Tpo\" \".deps/CglLandPSimplex.Plo\"; else rm -f \".deps/CglLandPSimplex.Tpo\"; exit 1; fi\n",
      " g++ -DHAVE_CONFIG_H -I. -I. -I.. -I./.. -I./../CglGomory -I/home/pedro/.julia/v0.5/Cbc/deps/src/Cbc-2.9.8/CoinUtils/src -I/home/pedro/.julia/v0.5/Cbc/deps/src/Cbc-2.9.8/Osi/src/Osi -I/home/pedro/.julia/v0.5/Cbc/deps/src/Cbc-2.9.8/CoinUtils/src -I/home/pedro/.julia/v0.5/Cbc/deps/src/Cbc-2.9.8/Clp/src/OsiClp -I/home/pedro/.julia/v0.5/Cbc/deps/src/Cbc-2.9.8/Clp/src -I/home/pedro/.julia/v0.5/Cbc/deps/src/Cbc-2.9.8/Osi/src/Osi -I/home/pedro/.julia/v0.5/Cbc/deps/src/Cbc-2.9.8/CoinUtils/src -O3 -pipe -DNDEBUG -pedantic-errors -Wparentheses -Wreturn-type -Wcast-qual -Wall -Wpointer-arith -Wwrite-strings -Wconversion -Wno-unknown-pragmas -Wno-long-long -DCGL_BUILD -MT CglLandPSimplex.lo -MD -MP -MF .deps/CglLandPSimplex.Tpo -c CglLandPSimplex.cpp  -fPIC -DPIC -o .libs/CglLandPSimplex.o\n"
     ]
    },
    {
     "name": "stderr",
     "output_type": "stream",
     "text": [
      "In file included from /home/pedro/.julia/v0.5/Cbc/deps/src/Cbc-2.9.8/Osi/src/Osi/OsiSolverInterface.hpp:17:0,\n",
      "                 from CglLandPValidator.hpp:14,\n",
      "                 from CglLandP.hpp:14,\n",
      "                 from CglLandPSimplex.hpp:18,\n",
      "                 from CglLandPSimplex.cpp:11:\n",
      "/home/pedro/.julia/v0.5/Cbc/deps/src/Cbc-2.9.8/CoinUtils/src/CoinFinite.hpp:20:14: warning: ‘COIN_INT_MAX_AS_DOUBLE’ defined but not used [-Wunused-variable]\n",
      " const double COIN_INT_MAX_AS_DOUBLE = (std::numeric_limits<int>::max)();\n",
      "              ^\n"
     ]
    },
    {
     "name": "stdout",
     "output_type": "stream",
     "text": [
      "if /bin/bash ../../../libtool --tag=CXX --mode=compile g++ -DHAVE_CONFIG_H -I. -I`echo .` -I..  -I`echo ./..` -I`echo ./../CglGomory` -I/home/pedro/.julia/v0.5/Cbc/deps/src/Cbc-2.9.8/CoinUtils/src -I/home/pedro/.julia/v0.5/Cbc/deps/src/Cbc-2.9.8/Osi/src/Osi -I/home/pedro/.julia/v0.5/Cbc/deps/src/Cbc-2.9.8/CoinUtils/src -I/home/pedro/.julia/v0.5/Cbc/deps/src/Cbc-2.9.8/Clp/src/OsiClp -I/home/pedro/.julia/v0.5/Cbc/deps/src/Cbc-2.9.8/Clp/src -I/home/pedro/.julia/v0.5/Cbc/deps/src/Cbc-2.9.8/Osi/src/Osi -I/home/pedro/.julia/v0.5/Cbc/deps/src/Cbc-2.9.8/CoinUtils/src   -O3 -pipe -DNDEBUG -pedantic-errors -Wparentheses -Wreturn-type -Wcast-qual -Wall -Wpointer-arith -Wwrite-strings -Wconversion -Wno-unknown-pragmas -Wno-long-long   -DCGL_BUILD -MT CglLandPValidator.lo -MD -MP -MF \".deps/CglLandPValidator.Tpo\" -c -o CglLandPValidator.lo CglLandPValidator.cpp; \\\n",
      "then mv -f \".deps/CglLandPValidator.Tpo\" \".deps/CglLandPValidator.Plo\"; else rm -f \".deps/CglLandPValidator.Tpo\"; exit 1; fi\n",
      " g++ -DHAVE_CONFIG_H -I. -I. -I.. -I./.. -I./../CglGomory -I/home/pedro/.julia/v0.5/Cbc/deps/src/Cbc-2.9.8/CoinUtils/src -I/home/pedro/.julia/v0.5/Cbc/deps/src/Cbc-2.9.8/Osi/src/Osi -I/home/pedro/.julia/v0.5/Cbc/deps/src/Cbc-2.9.8/CoinUtils/src -I/home/pedro/.julia/v0.5/Cbc/deps/src/Cbc-2.9.8/Clp/src/OsiClp -I/home/pedro/.julia/v0.5/Cbc/deps/src/Cbc-2.9.8/Clp/src -I/home/pedro/.julia/v0.5/Cbc/deps/src/Cbc-2.9.8/Osi/src/Osi -I/home/pedro/.julia/v0.5/Cbc/deps/src/Cbc-2.9.8/CoinUtils/src -O3 -pipe -DNDEBUG -pedantic-errors -Wparentheses -Wreturn-type -Wcast-qual -Wall -Wpointer-arith -Wwrite-strings -Wconversion -Wno-unknown-pragmas -Wno-long-long -DCGL_BUILD -MT CglLandPValidator.lo -MD -MP -MF .deps/CglLandPValidator.Tpo -c CglLandPValidator.cpp  -fPIC -DPIC -o .libs/CglLandPValidator.o\n",
      "if /bin/bash ../../../libtool --tag=CXX --mode=compile g++ -DHAVE_CONFIG_H -I. -I`echo .` -I..  -I`echo ./..` -I`echo ./../CglGomory` -I/home/pedro/.julia/v0.5/Cbc/deps/src/Cbc-2.9.8/CoinUtils/src -I/home/pedro/.julia/v0.5/Cbc/deps/src/Cbc-2.9.8/Osi/src/Osi -I/home/pedro/.julia/v0.5/Cbc/deps/src/Cbc-2.9.8/CoinUtils/src -I/home/pedro/.julia/v0.5/Cbc/deps/src/Cbc-2.9.8/Clp/src/OsiClp -I/home/pedro/.julia/v0.5/Cbc/deps/src/Cbc-2.9.8/Clp/src -I/home/pedro/.julia/v0.5/Cbc/deps/src/Cbc-2.9.8/Osi/src/Osi -I/home/pedro/.julia/v0.5/Cbc/deps/src/Cbc-2.9.8/CoinUtils/src   -O3 -pipe -DNDEBUG -pedantic-errors -Wparentheses -Wreturn-type -Wcast-qual -Wall -Wpointer-arith -Wwrite-strings -Wconversion -Wno-unknown-pragmas -Wno-long-long   -DCGL_BUILD -MT CglLandPTest.lo -MD -MP -MF \".deps/CglLandPTest.Tpo\" -c -o CglLandPTest.lo CglLandPTest.cpp; \\\n",
      "then mv -f \".deps/CglLandPTest.Tpo\" \".deps/CglLandPTest.Plo\"; else rm -f \".deps/CglLandPTest.Tpo\"; exit 1; fi\n"
     ]
    },
    {
     "name": "stderr",
     "output_type": "stream",
     "text": [
      "In file included from /home/pedro/.julia/v0.5/Cbc/deps/src/Cbc-2.9.8/Osi/src/Osi/OsiSolverInterface.hpp:17:0,\n",
      "                 from CglLandPValidator.hpp:14,\n",
      "                 from CglLandPValidator.cpp:11:\n",
      "/home/pedro/.julia/v0.5/Cbc/deps/src/Cbc-2.9.8/CoinUtils/src/CoinFinite.hpp:17:14: warning: ‘COIN_DBL_MIN’ defined but not used [-Wunused-variable]\n",
      " const double COIN_DBL_MIN = (std::numeric_limits<double>::min)();\n",
      "              ^\n",
      "/home/pedro/.julia/v0.5/Cbc/deps/src/Cbc-2.9.8/CoinUtils/src/CoinFinite.hpp:20:14: warning: ‘COIN_INT_MAX_AS_DOUBLE’ defined but not used [-Wunused-variable]\n",
      " const double COIN_INT_MAX_AS_DOUBLE = (std::numeric_limits<int>::max)();\n",
      "              ^\n"
     ]
    },
    {
     "name": "stdout",
     "output_type": "stream",
     "text": [
      " g++ -DHAVE_CONFIG_H -I. -I. -I.. -I./.. -I./../CglGomory -I/home/pedro/.julia/v0.5/Cbc/deps/src/Cbc-2.9.8/CoinUtils/src -I/home/pedro/.julia/v0.5/Cbc/deps/src/Cbc-2.9.8/Osi/src/Osi -I/home/pedro/.julia/v0.5/Cbc/deps/src/Cbc-2.9.8/CoinUtils/src -I/home/pedro/.julia/v0.5/Cbc/deps/src/Cbc-2.9.8/Clp/src/OsiClp -I/home/pedro/.julia/v0.5/Cbc/deps/src/Cbc-2.9.8/Clp/src -I/home/pedro/.julia/v0.5/Cbc/deps/src/Cbc-2.9.8/Osi/src/Osi -I/home/pedro/.julia/v0.5/Cbc/deps/src/Cbc-2.9.8/CoinUtils/src -O3 -pipe -DNDEBUG -pedantic-errors -Wparentheses -Wreturn-type -Wcast-qual -Wall -Wpointer-arith -Wwrite-strings -Wconversion -Wno-unknown-pragmas -Wno-long-long -DCGL_BUILD -MT CglLandPTest.lo -MD -MP -MF .deps/CglLandPTest.Tpo -c CglLandPTest.cpp  -fPIC -DPIC -o .libs/CglLandPTest.o\n",
      "/bin/bash ../../../libtool --tag=CXX --mode=link g++  -O3 -pipe -DNDEBUG -pedantic-errors -Wparentheses -Wreturn-type -Wcast-qual -Wall -Wpointer-arith -Wwrite-strings -Wconversion -Wno-unknown-pragmas -Wno-long-long   -DCGL_BUILD   -o libCglLandP.la  -no-undefined -version-info 10:9:9 CglLandPUtils.lo CglLandP.lo CglLandPTabRow.lo CglLandPMessages.lo CglLandPSimplex.lo CglLandPValidator.lo CglLandPTest.lo  \n"
     ]
    },
    {
     "name": "stderr",
     "output_type": "stream",
     "text": [
      "In file included from /home/pedro/.julia/v0.5/Cbc/deps/src/Cbc-2.9.8/Osi/src/Osi/OsiSolverInterface.hpp:17:0,\n",
      "                 from /home/pedro/.julia/v0.5/Cbc/deps/src/Cbc-2.9.8/Osi/src/Osi/OsiCut.hpp:9,\n",
      "                 from /home/pedro/.julia/v0.5/Cbc/deps/src/Cbc-2.9.8/Osi/src/Osi/OsiRowCut.hpp:11,\n",
      "                 from /home/pedro/.julia/v0.5/Cbc/deps/src/Cbc-2.9.8/Osi/src/Osi/OsiCuts.hpp:13,\n",
      "                 from CglLandPTest.cpp:18:\n",
      "/home/pedro/.julia/v0.5/Cbc/deps/src/Cbc-2.9.8/CoinUtils/src/CoinFinite.hpp:20:14: warning: ‘COIN_INT_MAX_AS_DOUBLE’ defined but not used [-Wunused-variable]\n",
      " const double COIN_INT_MAX_AS_DOUBLE = (std::numeric_limits<int>::max)();\n",
      "              ^\n"
     ]
    },
    {
     "name": "stdout",
     "output_type": "stream",
     "text": [
      "ar cru .libs/libCglLandP.a .libs/CglLandPUtils.o .libs/CglLandP.o .libs/CglLandPTabRow.o .libs/CglLandPMessages.o .libs/CglLandPSimplex.o .libs/CglLandPValidator.o .libs/CglLandPTest.o\n"
     ]
    },
    {
     "name": "stderr",
     "output_type": "stream",
     "text": [
      "libtool: link: warning: `-version-info/-version-number' is ignored for convenience libraries\n",
      "ar: `u' modifier ignored since `D' is the default (see `U')\n"
     ]
    },
    {
     "name": "stdout",
     "output_type": "stream",
     "text": [
      "ranlib .libs/libCglLandP.a\n",
      "creating libCglLandP.la\n",
      "(cd .libs && rm -f libCglLandP.la && ln -s ../libCglLandP.la libCglLandP.la)\n",
      "make[4]: Entering directory '/home/pedro/.julia/v0.5/Cbc/deps/src/Cbc-2.9.8/Cgl/src/CglLandP'\n",
      "make[4]: Nothing to be done for 'install-exec-am'.\n",
      "test -z \"/home/pedro/.julia/v0.5/Cbc/deps/usr/include/coin\" || mkdir -p -- \"/home/pedro/.julia/v0.5/Cbc/deps/usr/include/coin\"\n",
      " /usr/bin/install -c -m 644 'CglLandP.hpp' '/home/pedro/.julia/v0.5/Cbc/deps/usr/include/coin/CglLandP.hpp'\n",
      " /usr/bin/install -c -m 644 'CglLandPValidator.hpp' '/home/pedro/.julia/v0.5/Cbc/deps/usr/include/coin/CglLandPValidator.hpp'\n",
      "make[4]: Leaving directory '/home/pedro/.julia/v0.5/Cbc/deps/src/Cbc-2.9.8/Cgl/src/CglLandP'\n",
      "make[3]: Leaving directory '/home/pedro/.julia/v0.5/Cbc/deps/src/Cbc-2.9.8/Cgl/src/CglLandP'\n",
      "Making install in CglLiftAndProject\n",
      "make[3]: Entering directory '/home/pedro/.julia/v0.5/Cbc/deps/src/Cbc-2.9.8/Cgl/src/CglLiftAndProject'\n",
      "if /bin/bash ../../../libtool --tag=CXX --mode=compile g++ -DHAVE_CONFIG_H -I. -I`echo .` -I..  -I`echo ./..` -I/home/pedro/.julia/v0.5/Cbc/deps/src/Cbc-2.9.8/CoinUtils/src -I/home/pedro/.julia/v0.5/Cbc/deps/src/Cbc-2.9.8/Osi/src/Osi -I/home/pedro/.julia/v0.5/Cbc/deps/src/Cbc-2.9.8/CoinUtils/src   -O3 -pipe -DNDEBUG -pedantic-errors -Wparentheses -Wreturn-type -Wcast-qual -Wall -Wpointer-arith -Wwrite-strings -Wconversion -Wno-unknown-pragmas -Wno-long-long   -DCGL_BUILD -MT CglLiftAndProject.lo -MD -MP -MF \".deps/CglLiftAndProject.Tpo\" -c -o CglLiftAndProject.lo CglLiftAndProject.cpp; \\\n",
      "then mv -f \".deps/CglLiftAndProject.Tpo\" \".deps/CglLiftAndProject.Plo\"; else rm -f \".deps/CglLiftAndProject.Tpo\"; exit 1; fi\n",
      "mkdir .libs\n",
      " g++ -DHAVE_CONFIG_H -I. -I. -I.. -I./.. -I/home/pedro/.julia/v0.5/Cbc/deps/src/Cbc-2.9.8/CoinUtils/src -I/home/pedro/.julia/v0.5/Cbc/deps/src/Cbc-2.9.8/Osi/src/Osi -I/home/pedro/.julia/v0.5/Cbc/deps/src/Cbc-2.9.8/CoinUtils/src -O3 -pipe -DNDEBUG -pedantic-errors -Wparentheses -Wreturn-type -Wcast-qual -Wall -Wpointer-arith -Wwrite-strings -Wconversion -Wno-unknown-pragmas -Wno-long-long -DCGL_BUILD -MT CglLiftAndProject.lo -MD -MP -MF .deps/CglLiftAndProject.Tpo -c CglLiftAndProject.cpp  -fPIC -DPIC -o .libs/CglLiftAndProject.o\n",
      "/bin/bash ../../../libtool --tag=CXX --mode=link g++  -O3 -pipe -DNDEBUG -pedantic-errors -Wparentheses -Wreturn-type -Wcast-qual -Wall -Wpointer-arith -Wwrite-strings -Wconversion -Wno-unknown-pragmas -Wno-long-long   -DCGL_BUILD   -o libCglLiftAndProject.la  -no-undefined -version-info 10:9:9 CglLiftAndProject.lo  \n"
     ]
    },
    {
     "name": "stderr",
     "output_type": "stream",
     "text": [
      "In file included from /home/pedro/.julia/v0.5/Cbc/deps/src/Cbc-2.9.8/Osi/src/Osi/OsiSolverInterface.hpp:17:0,\n",
      "                 from /home/pedro/.julia/v0.5/Cbc/deps/src/Cbc-2.9.8/Osi/src/Osi/OsiCut.hpp:9,\n",
      "                 from /home/pedro/.julia/v0.5/Cbc/deps/src/Cbc-2.9.8/Osi/src/Osi/OsiRowCut.hpp:11,\n",
      "                 from /home/pedro/.julia/v0.5/Cbc/deps/src/Cbc-2.9.8/Osi/src/Osi/OsiCuts.hpp:13,\n",
      "                 from ../CglCutGenerator.hpp:8,\n",
      "                 from CglLiftAndProject.hpp:10,\n",
      "                 from CglLiftAndProject.cpp:14:\n",
      "/home/pedro/.julia/v0.5/Cbc/deps/src/Cbc-2.9.8/CoinUtils/src/CoinFinite.hpp:18:14: warning: ‘COIN_DBL_MAX’ defined but not used [-Wunused-variable]\n",
      " const double COIN_DBL_MAX = (std::numeric_limits<double>::max)();\n",
      "              ^\n",
      "/home/pedro/.julia/v0.5/Cbc/deps/src/Cbc-2.9.8/CoinUtils/src/CoinFinite.hpp:20:14: warning: ‘COIN_INT_MAX_AS_DOUBLE’ defined but not used [-Wunused-variable]\n",
      " const double COIN_INT_MAX_AS_DOUBLE = (std::numeric_limits<int>::max)();\n",
      "              ^\n"
     ]
    },
    {
     "name": "stdout",
     "output_type": "stream",
     "text": [
      "ar cru .libs/libCglLiftAndProject.a .libs/CglLiftAndProject.o\n",
      "ranlib .libs/libCglLiftAndProject.a\n",
      "creating libCglLiftAndProject.la\n",
      "(cd .libs && rm -f libCglLiftAndProject.la && ln -s ../libCglLiftAndProject.la libCglLiftAndProject.la)\n",
      "make[4]: Entering directory '/home/pedro/.julia/v0.5/Cbc/deps/src/Cbc-2.9.8/Cgl/src/CglLiftAndProject'\n",
      "make[4]: Nothing to be done for 'install-exec-am'.\n",
      "test -z \"/home/pedro/.julia/v0.5/Cbc/deps/usr/include/coin\" || mkdir -p -- \"/home/pedro/.julia/v0.5/Cbc/deps/usr/include/coin\"\n",
      " /usr/bin/install -c -m 644 'CglLiftAndProject.hpp' '/home/pedro/.julia/v0.5/Cbc/deps/usr/include/coin/CglLiftAndProject.hpp'\n",
      "make[4]: Leaving directory '/home/pedro/.julia/v0.5/Cbc/deps/src/Cbc-2.9.8/Cgl/src/CglLiftAndProject'\n",
      "make[3]: Leaving directory '/home/pedro/.julia/v0.5/Cbc/deps/src/Cbc-2.9.8/Cgl/src/CglLiftAndProject'\n",
      "Making install in CglMixedIntegerRounding\n",
      "make[3]: Entering directory '/home/pedro/.julia/v0.5/Cbc/deps/src/Cbc-2.9.8/Cgl/src/CglMixedIntegerRounding'\n",
      "if /bin/bash ../../../libtool --tag=CXX --mode=compile g++ -DHAVE_CONFIG_H -I. -I`echo .` -I..  -I`echo ./..` -I/home/pedro/.julia/v0.5/Cbc/deps/src/Cbc-2.9.8/CoinUtils/src -I/home/pedro/.julia/v0.5/Cbc/deps/src/Cbc-2.9.8/Osi/src/Osi -I/home/pedro/.julia/v0.5/Cbc/deps/src/Cbc-2.9.8/CoinUtils/src   -O3 -pipe -DNDEBUG -pedantic-errors -Wparentheses -Wreturn-type -Wcast-qual -Wall -Wpointer-arith -Wwrite-strings -Wconversion -Wno-unknown-pragmas -Wno-long-long   -DCGL_BUILD -MT CglMixedIntegerRounding.lo -MD -MP -MF \".deps/CglMixedIntegerRounding.Tpo\" -c -o CglMixedIntegerRounding.lo CglMixedIntegerRounding.cpp; \\\n",
      "then mv -f \".deps/CglMixedIntegerRounding.Tpo\" \".deps/CglMixedIntegerRounding.Plo\"; else rm -f \".deps/CglMixedIntegerRounding.Tpo\"; exit 1; fi\n"
     ]
    },
    {
     "name": "stderr",
     "output_type": "stream",
     "text": [
      "libtool: link: warning: `-version-info/-version-number' is ignored for convenience libraries\n",
      "ar: `u' modifier ignored since `D' is the default (see `U')\n"
     ]
    },
    {
     "name": "stdout",
     "output_type": "stream",
     "text": [
      "mkdir .libs\n",
      " g++ -DHAVE_CONFIG_H -I. -I. -I.. -I./.. -I/home/pedro/.julia/v0.5/Cbc/deps/src/Cbc-2.9.8/CoinUtils/src -I/home/pedro/.julia/v0.5/Cbc/deps/src/Cbc-2.9.8/Osi/src/Osi -I/home/pedro/.julia/v0.5/Cbc/deps/src/Cbc-2.9.8/CoinUtils/src -O3 -pipe -DNDEBUG -pedantic-errors -Wparentheses -Wreturn-type -Wcast-qual -Wall -Wpointer-arith -Wwrite-strings -Wconversion -Wno-unknown-pragmas -Wno-long-long -DCGL_BUILD -MT CglMixedIntegerRounding.lo -MD -MP -MF .deps/CglMixedIntegerRounding.Tpo -c CglMixedIntegerRounding.cpp  -fPIC -DPIC -o .libs/CglMixedIntegerRounding.o\n",
      "if /bin/bash ../../../libtool --tag=CXX --mode=compile g++ -DHAVE_CONFIG_H -I. -I`echo .` -I..  -I`echo ./..` -I/home/pedro/.julia/v0.5/Cbc/deps/src/Cbc-2.9.8/CoinUtils/src -I/home/pedro/.julia/v0.5/Cbc/deps/src/Cbc-2.9.8/Osi/src/Osi -I/home/pedro/.julia/v0.5/Cbc/deps/src/Cbc-2.9.8/CoinUtils/src   -O3 -pipe -DNDEBUG -pedantic-errors -Wparentheses -Wreturn-type -Wcast-qual -Wall -Wpointer-arith -Wwrite-strings -Wconversion -Wno-unknown-pragmas -Wno-long-long   -DCGL_BUILD -MT CglMixedIntegerRoundingTest.lo -MD -MP -MF \".deps/CglMixedIntegerRoundingTest.Tpo\" -c -o CglMixedIntegerRoundingTest.lo CglMixedIntegerRoundingTest.cpp; \\\n",
      "then mv -f \".deps/CglMixedIntegerRoundingTest.Tpo\" \".deps/CglMixedIntegerRoundingTest.Plo\"; else rm -f \".deps/CglMixedIntegerRoundingTest.Tpo\"; exit 1; fi\n"
     ]
    },
    {
     "name": "stderr",
     "output_type": "stream",
     "text": [
      "In file included from /home/pedro/.julia/v0.5/Cbc/deps/src/Cbc-2.9.8/Osi/src/Osi/OsiSolverInterface.hpp:17:0,\n",
      "                 from /home/pedro/.julia/v0.5/Cbc/deps/src/Cbc-2.9.8/Osi/src/Osi/OsiCut.hpp:9,\n",
      "                 from /home/pedro/.julia/v0.5/Cbc/deps/src/Cbc-2.9.8/Osi/src/Osi/OsiRowCut.hpp:11,\n",
      "                 from /home/pedro/.julia/v0.5/Cbc/deps/src/Cbc-2.9.8/Osi/src/Osi/OsiCuts.hpp:13,\n",
      "                 from ../CglCutGenerator.hpp:8,\n",
      "                 from CglMixedIntegerRounding.hpp:21,\n",
      "                 from CglMixedIntegerRounding.cpp:21:\n",
      "/home/pedro/.julia/v0.5/Cbc/deps/src/Cbc-2.9.8/CoinUtils/src/CoinFinite.hpp:18:14: warning: ‘COIN_DBL_MAX’ defined but not used [-Wunused-variable]\n",
      " const double COIN_DBL_MAX = (std::numeric_limits<double>::max)();\n",
      "              ^\n",
      "/home/pedro/.julia/v0.5/Cbc/deps/src/Cbc-2.9.8/CoinUtils/src/CoinFinite.hpp:20:14: warning: ‘COIN_INT_MAX_AS_DOUBLE’ defined but not used [-Wunused-variable]\n",
      " const double COIN_INT_MAX_AS_DOUBLE = (std::numeric_limits<int>::max)();\n",
      "              ^\n"
     ]
    },
    {
     "name": "stdout",
     "output_type": "stream",
     "text": [
      " g++ -DHAVE_CONFIG_H -I. -I. -I.. -I./.. -I/home/pedro/.julia/v0.5/Cbc/deps/src/Cbc-2.9.8/CoinUtils/src -I/home/pedro/.julia/v0.5/Cbc/deps/src/Cbc-2.9.8/Osi/src/Osi -I/home/pedro/.julia/v0.5/Cbc/deps/src/Cbc-2.9.8/CoinUtils/src -O3 -pipe -DNDEBUG -pedantic-errors -Wparentheses -Wreturn-type -Wcast-qual -Wall -Wpointer-arith -Wwrite-strings -Wconversion -Wno-unknown-pragmas -Wno-long-long -DCGL_BUILD -MT CglMixedIntegerRoundingTest.lo -MD -MP -MF .deps/CglMixedIntegerRoundingTest.Tpo -c CglMixedIntegerRoundingTest.cpp  -fPIC -DPIC -o .libs/CglMixedIntegerRoundingTest.o\n"
     ]
    },
    {
     "name": "stderr",
     "output_type": "stream",
     "text": [
      "In file included from /home/pedro/.julia/v0.5/Cbc/deps/src/Cbc-2.9.8/Osi/src/Osi/OsiSolverInterface.hpp:17:0,\n",
      "                 from /home/pedro/.julia/v0.5/Cbc/deps/src/Cbc-2.9.8/Osi/src/Osi/OsiCut.hpp:9,\n",
      "                 from /home/pedro/.julia/v0.5/Cbc/deps/src/Cbc-2.9.8/Osi/src/Osi/OsiRowCut.hpp:11,\n",
      "                 from /home/pedro/.julia/v0.5/Cbc/deps/src/Cbc-2.9.8/Osi/src/Osi/OsiCuts.hpp:13,\n",
      "                 from ../CglCutGenerator.hpp:8,\n",
      "                 from CglMixedIntegerRounding.hpp:21,\n",
      "                 from CglMixedIntegerRoundingTest.cpp:13:\n",
      "/home/pedro/.julia/v0.5/Cbc/deps/src/Cbc-2.9.8/CoinUtils/src/CoinFinite.hpp:18:14: warning: ‘COIN_DBL_MAX’ defined but not used [-Wunused-variable]\n",
      " const double COIN_DBL_MAX = (std::numeric_limits<double>::max)();\n",
      "              ^\n",
      "/home/pedro/.julia/v0.5/Cbc/deps/src/Cbc-2.9.8/CoinUtils/src/CoinFinite.hpp:20:14: warning: ‘COIN_INT_MAX_AS_DOUBLE’ defined but not used [-Wunused-variable]\n",
      " const double COIN_INT_MAX_AS_DOUBLE = (std::numeric_limits<int>::max)();\n",
      "              ^\n"
     ]
    },
    {
     "name": "stdout",
     "output_type": "stream",
     "text": [
      "/bin/bash ../../../libtool --tag=CXX --mode=link g++  -O3 -pipe -DNDEBUG -pedantic-errors -Wparentheses -Wreturn-type -Wcast-qual -Wall -Wpointer-arith -Wwrite-strings -Wconversion -Wno-unknown-pragmas -Wno-long-long   -DCGL_BUILD   -o libCglMixedIntegerRounding.la  -no-undefined -version-info 10:9:9 CglMixedIntegerRounding.lo CglMixedIntegerRoundingTest.lo  \n",
      "ar cru .libs/libCglMixedIntegerRounding.a .libs/CglMixedIntegerRounding.o .libs/CglMixedIntegerRoundingTest.o\n",
      "ranlib .libs/libCglMixedIntegerRounding.a\n",
      "creating libCglMixedIntegerRounding.la\n",
      "(cd .libs && rm -f libCglMixedIntegerRounding.la && ln -s ../libCglMixedIntegerRounding.la libCglMixedIntegerRounding.la)\n",
      "make[4]: Entering directory '/home/pedro/.julia/v0.5/Cbc/deps/src/Cbc-2.9.8/Cgl/src/CglMixedIntegerRounding'\n",
      "make[4]: Nothing to be done for 'install-exec-am'.\n",
      "test -z \"/home/pedro/.julia/v0.5/Cbc/deps/usr/include/coin\" || mkdir -p -- \"/home/pedro/.julia/v0.5/Cbc/deps/usr/include/coin\"\n",
      " /usr/bin/install -c -m 644 'CglMixedIntegerRounding.hpp' '/home/pedro/.julia/v0.5/Cbc/deps/usr/include/coin/CglMixedIntegerRounding.hpp'\n",
      "make[4]: Leaving directory '/home/pedro/.julia/v0.5/Cbc/deps/src/Cbc-2.9.8/Cgl/src/CglMixedIntegerRounding'\n",
      "make[3]: Leaving directory '/home/pedro/.julia/v0.5/Cbc/deps/src/Cbc-2.9.8/Cgl/src/CglMixedIntegerRounding'\n",
      "Making install in CglMixedIntegerRounding2\n",
      "make[3]: Entering directory '/home/pedro/.julia/v0.5/Cbc/deps/src/Cbc-2.9.8/Cgl/src/CglMixedIntegerRounding2'\n",
      "if /bin/bash ../../../libtool --tag=CXX --mode=compile g++ -DHAVE_CONFIG_H -I. -I`echo .` -I..  -I`echo ./..` -I/home/pedro/.julia/v0.5/Cbc/deps/src/Cbc-2.9.8/CoinUtils/src -I/home/pedro/.julia/v0.5/Cbc/deps/src/Cbc-2.9.8/Osi/src/Osi -I/home/pedro/.julia/v0.5/Cbc/deps/src/Cbc-2.9.8/CoinUtils/src   -O3 -pipe -DNDEBUG -pedantic-errors -Wparentheses -Wreturn-type -Wcast-qual -Wall -Wpointer-arith -Wwrite-strings -Wconversion -Wno-unknown-pragmas -Wno-long-long   -DCGL_BUILD -MT CglMixedIntegerRounding2.lo -MD -MP -MF \".deps/CglMixedIntegerRounding2.Tpo\" -c -o CglMixedIntegerRounding2.lo CglMixedIntegerRounding2.cpp; \\\n",
      "then mv -f \".deps/CglMixedIntegerRounding2.Tpo\" \".deps/CglMixedIntegerRounding2.Plo\"; else rm -f \".deps/CglMixedIntegerRounding2.Tpo\"; exit 1; fi\n"
     ]
    },
    {
     "name": "stderr",
     "output_type": "stream",
     "text": [
      "libtool: link: warning: `-version-info/-version-number' is ignored for convenience libraries\n",
      "ar: `u' modifier ignored since `D' is the default (see `U')\n"
     ]
    },
    {
     "name": "stdout",
     "output_type": "stream",
     "text": [
      "mkdir .libs\n",
      " g++ -DHAVE_CONFIG_H -I. -I. -I.. -I./.. -I/home/pedro/.julia/v0.5/Cbc/deps/src/Cbc-2.9.8/CoinUtils/src -I/home/pedro/.julia/v0.5/Cbc/deps/src/Cbc-2.9.8/Osi/src/Osi -I/home/pedro/.julia/v0.5/Cbc/deps/src/Cbc-2.9.8/CoinUtils/src -O3 -pipe -DNDEBUG -pedantic-errors -Wparentheses -Wreturn-type -Wcast-qual -Wall -Wpointer-arith -Wwrite-strings -Wconversion -Wno-unknown-pragmas -Wno-long-long -DCGL_BUILD -MT CglMixedIntegerRounding2.lo -MD -MP -MF .deps/CglMixedIntegerRounding2.Tpo -c CglMixedIntegerRounding2.cpp  -fPIC -DPIC -o .libs/CglMixedIntegerRounding2.o\n",
      "if /bin/bash ../../../libtool --tag=CXX --mode=compile g++ -DHAVE_CONFIG_H -I. -I`echo .` -I..  -I`echo ./..` -I/home/pedro/.julia/v0.5/Cbc/deps/src/Cbc-2.9.8/CoinUtils/src -I/home/pedro/.julia/v0.5/Cbc/deps/src/Cbc-2.9.8/Osi/src/Osi -I/home/pedro/.julia/v0.5/Cbc/deps/src/Cbc-2.9.8/CoinUtils/src   -O3 -pipe -DNDEBUG -pedantic-errors -Wparentheses -Wreturn-type -Wcast-qual -Wall -Wpointer-arith -Wwrite-strings -Wconversion -Wno-unknown-pragmas -Wno-long-long   -DCGL_BUILD -MT CglMixedIntegerRounding2Test.lo -MD -MP -MF \".deps/CglMixedIntegerRounding2Test.Tpo\" -c -o CglMixedIntegerRounding2Test.lo CglMixedIntegerRounding2Test.cpp; \\\n",
      "then mv -f \".deps/CglMixedIntegerRounding2Test.Tpo\" \".deps/CglMixedIntegerRounding2Test.Plo\"; else rm -f \".deps/CglMixedIntegerRounding2Test.Tpo\"; exit 1; fi\n"
     ]
    },
    {
     "name": "stderr",
     "output_type": "stream",
     "text": [
      "In file included from /home/pedro/.julia/v0.5/Cbc/deps/src/Cbc-2.9.8/Osi/src/Osi/OsiSolverInterface.hpp:17:0,\n",
      "                 from /home/pedro/.julia/v0.5/Cbc/deps/src/Cbc-2.9.8/Osi/src/Osi/OsiCut.hpp:9,\n",
      "                 from /home/pedro/.julia/v0.5/Cbc/deps/src/Cbc-2.9.8/Osi/src/Osi/OsiRowCut.hpp:11,\n",
      "                 from /home/pedro/.julia/v0.5/Cbc/deps/src/Cbc-2.9.8/Osi/src/Osi/OsiCuts.hpp:13,\n",
      "                 from ../CglCutGenerator.hpp:8,\n",
      "                 from CglMixedIntegerRounding2.hpp:21,\n",
      "                 from CglMixedIntegerRounding2.cpp:21:\n",
      "/home/pedro/.julia/v0.5/Cbc/deps/src/Cbc-2.9.8/CoinUtils/src/CoinFinite.hpp:20:14: warning: ‘COIN_INT_MAX_AS_DOUBLE’ defined but not used [-Wunused-variable]\n",
      " const double COIN_INT_MAX_AS_DOUBLE = (std::numeric_limits<int>::max)();\n",
      "              ^\n"
     ]
    },
    {
     "name": "stdout",
     "output_type": "stream",
     "text": [
      " g++ -DHAVE_CONFIG_H -I. -I. -I.. -I./.. -I/home/pedro/.julia/v0.5/Cbc/deps/src/Cbc-2.9.8/CoinUtils/src -I/home/pedro/.julia/v0.5/Cbc/deps/src/Cbc-2.9.8/Osi/src/Osi -I/home/pedro/.julia/v0.5/Cbc/deps/src/Cbc-2.9.8/CoinUtils/src -O3 -pipe -DNDEBUG -pedantic-errors -Wparentheses -Wreturn-type -Wcast-qual -Wall -Wpointer-arith -Wwrite-strings -Wconversion -Wno-unknown-pragmas -Wno-long-long -DCGL_BUILD -MT CglMixedIntegerRounding2Test.lo -MD -MP -MF .deps/CglMixedIntegerRounding2Test.Tpo -c CglMixedIntegerRounding2Test.cpp  -fPIC -DPIC -o .libs/CglMixedIntegerRounding2Test.o\n",
      "/bin/bash ../../../libtool --tag=CXX --mode=link g++  -O3 -pipe -DNDEBUG -pedantic-errors -Wparentheses -Wreturn-type -Wcast-qual -Wall -Wpointer-arith -Wwrite-strings -Wconversion -Wno-unknown-pragmas -Wno-long-long   -DCGL_BUILD   -o libCglMixedIntegerRounding2.la  -no-undefined -version-info 10:9:9 CglMixedIntegerRounding2.lo CglMixedIntegerRounding2Test.lo  \n"
     ]
    },
    {
     "name": "stderr",
     "output_type": "stream",
     "text": [
      "In file included from /home/pedro/.julia/v0.5/Cbc/deps/src/Cbc-2.9.8/Osi/src/Osi/OsiSolverInterface.hpp:17:0,\n",
      "                 from /home/pedro/.julia/v0.5/Cbc/deps/src/Cbc-2.9.8/Osi/src/Osi/OsiCut.hpp:9,\n",
      "                 from /home/pedro/.julia/v0.5/Cbc/deps/src/Cbc-2.9.8/Osi/src/Osi/OsiRowCut.hpp:11,\n",
      "                 from /home/pedro/.julia/v0.5/Cbc/deps/src/Cbc-2.9.8/Osi/src/Osi/OsiCuts.hpp:13,\n",
      "                 from ../CglCutGenerator.hpp:8,\n",
      "                 from CglMixedIntegerRounding2.hpp:21,\n",
      "                 from CglMixedIntegerRounding2Test.cpp:13:\n",
      "/home/pedro/.julia/v0.5/Cbc/deps/src/Cbc-2.9.8/CoinUtils/src/CoinFinite.hpp:18:14: warning: ‘COIN_DBL_MAX’ defined but not used [-Wunused-variable]\n",
      " const double COIN_DBL_MAX = (std::numeric_limits<double>::max)();\n",
      "              ^\n",
      "/home/pedro/.julia/v0.5/Cbc/deps/src/Cbc-2.9.8/CoinUtils/src/CoinFinite.hpp:20:14: warning: ‘COIN_INT_MAX_AS_DOUBLE’ defined but not used [-Wunused-variable]\n",
      " const double COIN_INT_MAX_AS_DOUBLE = (std::numeric_limits<int>::max)();\n",
      "              ^\n"
     ]
    },
    {
     "name": "stdout",
     "output_type": "stream",
     "text": [
      "ar cru .libs/libCglMixedIntegerRounding2.a .libs/CglMixedIntegerRounding2.o .libs/CglMixedIntegerRounding2Test.o\n",
      "ranlib .libs/libCglMixedIntegerRounding2.a\n"
     ]
    },
    {
     "name": "stderr",
     "output_type": "stream",
     "text": [
      "libtool: link: warning: `-version-info/-version-number' is ignored for convenience libraries\n",
      "ar: `u' modifier ignored since `D' is the default (see `U')\n"
     ]
    },
    {
     "name": "stdout",
     "output_type": "stream",
     "text": [
      "creating libCglMixedIntegerRounding2.la\n",
      "(cd .libs && rm -f libCglMixedIntegerRounding2.la && ln -s ../libCglMixedIntegerRounding2.la libCglMixedIntegerRounding2.la)\n",
      "make[4]: Entering directory '/home/pedro/.julia/v0.5/Cbc/deps/src/Cbc-2.9.8/Cgl/src/CglMixedIntegerRounding2'\n",
      "make[4]: Nothing to be done for 'install-exec-am'.\n",
      "test -z \"/home/pedro/.julia/v0.5/Cbc/deps/usr/include/coin\" || mkdir -p -- \"/home/pedro/.julia/v0.5/Cbc/deps/usr/include/coin\"\n",
      " /usr/bin/install -c -m 644 'CglMixedIntegerRounding2.hpp' '/home/pedro/.julia/v0.5/Cbc/deps/usr/include/coin/CglMixedIntegerRounding2.hpp'\n",
      "make[4]: Leaving directory '/home/pedro/.julia/v0.5/Cbc/deps/src/Cbc-2.9.8/Cgl/src/CglMixedIntegerRounding2'\n",
      "make[3]: Leaving directory '/home/pedro/.julia/v0.5/Cbc/deps/src/Cbc-2.9.8/Cgl/src/CglMixedIntegerRounding2'\n",
      "Making install in CglOddHole\n",
      "make[3]: Entering directory '/home/pedro/.julia/v0.5/Cbc/deps/src/Cbc-2.9.8/Cgl/src/CglOddHole'\n",
      "if /bin/bash ../../../libtool --tag=CXX --mode=compile g++ -DHAVE_CONFIG_H -I. -I`echo .` -I..  -I`echo ./..` -I/home/pedro/.julia/v0.5/Cbc/deps/src/Cbc-2.9.8/CoinUtils/src -I/home/pedro/.julia/v0.5/Cbc/deps/src/Cbc-2.9.8/Osi/src/Osi -I/home/pedro/.julia/v0.5/Cbc/deps/src/Cbc-2.9.8/CoinUtils/src   -O3 -pipe -DNDEBUG -pedantic-errors -Wparentheses -Wreturn-type -Wcast-qual -Wall -Wpointer-arith -Wwrite-strings -Wconversion -Wno-unknown-pragmas -Wno-long-long   -DCGL_BUILD -MT CglOddHole.lo -MD -MP -MF \".deps/CglOddHole.Tpo\" -c -o CglOddHole.lo CglOddHole.cpp; \\\n",
      "then mv -f \".deps/CglOddHole.Tpo\" \".deps/CglOddHole.Plo\"; else rm -f \".deps/CglOddHole.Tpo\"; exit 1; fi\n",
      "mkdir .libs\n",
      " g++ -DHAVE_CONFIG_H -I. -I. -I.. -I./.. -I/home/pedro/.julia/v0.5/Cbc/deps/src/Cbc-2.9.8/CoinUtils/src -I/home/pedro/.julia/v0.5/Cbc/deps/src/Cbc-2.9.8/Osi/src/Osi -I/home/pedro/.julia/v0.5/Cbc/deps/src/Cbc-2.9.8/CoinUtils/src -O3 -pipe -DNDEBUG -pedantic-errors -Wparentheses -Wreturn-type -Wcast-qual -Wall -Wpointer-arith -Wwrite-strings -Wconversion -Wno-unknown-pragmas -Wno-long-long -DCGL_BUILD -MT CglOddHole.lo -MD -MP -MF .deps/CglOddHole.Tpo -c CglOddHole.cpp  -fPIC -DPIC -o .libs/CglOddHole.o\n"
     ]
    },
    {
     "name": "stderr",
     "output_type": "stream",
     "text": [
      "In file included from /home/pedro/.julia/v0.5/Cbc/deps/src/Cbc-2.9.8/Osi/src/Osi/OsiSolverInterface.hpp:17:0,\n",
      "                 from /home/pedro/.julia/v0.5/Cbc/deps/src/Cbc-2.9.8/Osi/src/Osi/OsiCut.hpp:9,\n",
      "                 from /home/pedro/.julia/v0.5/Cbc/deps/src/Cbc-2.9.8/Osi/src/Osi/OsiRowCut.hpp:11,\n",
      "                 from /home/pedro/.julia/v0.5/Cbc/deps/src/Cbc-2.9.8/Osi/src/Osi/OsiCuts.hpp:13,\n",
      "                 from /home/pedro/.julia/v0.5/Cbc/deps/src/Cbc-2.9.8/Osi/src/Osi/OsiRowCutDebugger.hpp:16,\n",
      "                 from CglOddHole.cpp:16:\n",
      "/home/pedro/.julia/v0.5/Cbc/deps/src/Cbc-2.9.8/CoinUtils/src/CoinFinite.hpp:20:14: warning: ‘COIN_INT_MAX_AS_DOUBLE’ defined but not used [-Wunused-variable]\n",
      " const double COIN_INT_MAX_AS_DOUBLE = (std::numeric_limits<int>::max)();\n",
      "              ^\n"
     ]
    },
    {
     "name": "stdout",
     "output_type": "stream",
     "text": [
      "if /bin/bash ../../../libtool --tag=CXX --mode=compile g++ -DHAVE_CONFIG_H -I. -I`echo .` -I..  -I`echo ./..` -I/home/pedro/.julia/v0.5/Cbc/deps/src/Cbc-2.9.8/CoinUtils/src -I/home/pedro/.julia/v0.5/Cbc/deps/src/Cbc-2.9.8/Osi/src/Osi -I/home/pedro/.julia/v0.5/Cbc/deps/src/Cbc-2.9.8/CoinUtils/src   -O3 -pipe -DNDEBUG -pedantic-errors -Wparentheses -Wreturn-type -Wcast-qual -Wall -Wpointer-arith -Wwrite-strings -Wconversion -Wno-unknown-pragmas -Wno-long-long   -DCGL_BUILD -MT CglOddHoleTest.lo -MD -MP -MF \".deps/CglOddHoleTest.Tpo\" -c -o CglOddHoleTest.lo CglOddHoleTest.cpp; \\\n",
      "then mv -f \".deps/CglOddHoleTest.Tpo\" \".deps/CglOddHoleTest.Plo\"; else rm -f \".deps/CglOddHoleTest.Tpo\"; exit 1; fi\n",
      " g++ -DHAVE_CONFIG_H -I. -I. -I.. -I./.. -I/home/pedro/.julia/v0.5/Cbc/deps/src/Cbc-2.9.8/CoinUtils/src -I/home/pedro/.julia/v0.5/Cbc/deps/src/Cbc-2.9.8/Osi/src/Osi -I/home/pedro/.julia/v0.5/Cbc/deps/src/Cbc-2.9.8/CoinUtils/src -O3 -pipe -DNDEBUG -pedantic-errors -Wparentheses -Wreturn-type -Wcast-qual -Wall -Wpointer-arith -Wwrite-strings -Wconversion -Wno-unknown-pragmas -Wno-long-long -DCGL_BUILD -MT CglOddHoleTest.lo -MD -MP -MF .deps/CglOddHoleTest.Tpo -c CglOddHoleTest.cpp  -fPIC -DPIC -o .libs/CglOddHoleTest.o\n",
      "/bin/bash ../../../libtool --tag=CXX --mode=link g++  -O3 -pipe -DNDEBUG -pedantic-errors -Wparentheses -Wreturn-type -Wcast-qual -Wall -Wpointer-arith -Wwrite-strings -Wconversion -Wno-unknown-pragmas -Wno-long-long   -DCGL_BUILD   -o libCglOddHole.la  -no-undefined -version-info 10:9:9 CglOddHole.lo CglOddHoleTest.lo  \n"
     ]
    },
    {
     "name": "stderr",
     "output_type": "stream",
     "text": [
      "In file included from /home/pedro/.julia/v0.5/Cbc/deps/src/Cbc-2.9.8/Osi/src/Osi/OsiSolverInterface.hpp:17:0,\n",
      "                 from /home/pedro/.julia/v0.5/Cbc/deps/src/Cbc-2.9.8/Osi/src/Osi/OsiCut.hpp:9,\n",
      "                 from /home/pedro/.julia/v0.5/Cbc/deps/src/Cbc-2.9.8/Osi/src/Osi/OsiRowCut.hpp:11,\n",
      "                 from /home/pedro/.julia/v0.5/Cbc/deps/src/Cbc-2.9.8/Osi/src/Osi/OsiCuts.hpp:13,\n",
      "                 from ../CglCutGenerator.hpp:8,\n",
      "                 from CglOddHole.hpp:11,\n",
      "                 from CglOddHoleTest.cpp:16:\n",
      "/home/pedro/.julia/v0.5/Cbc/deps/src/Cbc-2.9.8/CoinUtils/src/CoinFinite.hpp:18:14: warning: ‘COIN_DBL_MAX’ defined but not used [-Wunused-variable]\n",
      " const double COIN_DBL_MAX = (std::numeric_limits<double>::max)();\n",
      "              ^\n",
      "/home/pedro/.julia/v0.5/Cbc/deps/src/Cbc-2.9.8/CoinUtils/src/CoinFinite.hpp:20:14: warning: ‘COIN_INT_MAX_AS_DOUBLE’ defined but not used [-Wunused-variable]\n",
      " const double COIN_INT_MAX_AS_DOUBLE = (std::numeric_limits<int>::max)();\n",
      "              ^\n"
     ]
    },
    {
     "name": "stdout",
     "output_type": "stream",
     "text": [
      "ar cru .libs/libCglOddHole.a .libs/CglOddHole.o .libs/CglOddHoleTest.o\n",
      "ranlib .libs/libCglOddHole.a\n",
      "creating libCglOddHole.la\n",
      "(cd .libs && rm -f libCglOddHole.la && ln -s ../libCglOddHole.la libCglOddHole.la)\n"
     ]
    },
    {
     "name": "stderr",
     "output_type": "stream",
     "text": [
      "libtool: link: warning: `-version-info/-version-number' is ignored for convenience libraries\n",
      "ar: `u' modifier ignored since `D' is the default (see `U')\n"
     ]
    },
    {
     "name": "stdout",
     "output_type": "stream",
     "text": [
      "make[4]: Entering directory '/home/pedro/.julia/v0.5/Cbc/deps/src/Cbc-2.9.8/Cgl/src/CglOddHole'\n",
      "make[4]: Nothing to be done for 'install-exec-am'.\n",
      "test -z \"/home/pedro/.julia/v0.5/Cbc/deps/usr/include/coin\" || mkdir -p -- \"/home/pedro/.julia/v0.5/Cbc/deps/usr/include/coin\"\n",
      " /usr/bin/install -c -m 644 'CglOddHole.hpp' '/home/pedro/.julia/v0.5/Cbc/deps/usr/include/coin/CglOddHole.hpp'\n",
      "make[4]: Leaving directory '/home/pedro/.julia/v0.5/Cbc/deps/src/Cbc-2.9.8/Cgl/src/CglOddHole'\n",
      "make[3]: Leaving directory '/home/pedro/.julia/v0.5/Cbc/deps/src/Cbc-2.9.8/Cgl/src/CglOddHole'\n",
      "Making install in CglPreProcess\n",
      "make[3]: Entering directory '/home/pedro/.julia/v0.5/Cbc/deps/src/Cbc-2.9.8/Cgl/src/CglPreProcess'\n",
      "if /bin/bash ../../../libtool --tag=CXX --mode=compile g++ -DHAVE_CONFIG_H -I. -I`echo .` -I..  -I`echo ./..` -I`echo ./../CglProbing` -I`echo ./../CglDuplicateRow` -I`echo ./../CglClique` -I/home/pedro/.julia/v0.5/Cbc/deps/src/Cbc-2.9.8/CoinUtils/src -I/home/pedro/.julia/v0.5/Cbc/deps/src/Cbc-2.9.8/Osi/src/Osi -I/home/pedro/.julia/v0.5/Cbc/deps/src/Cbc-2.9.8/CoinUtils/src   -O3 -pipe -DNDEBUG -pedantic-errors -Wparentheses -Wreturn-type -Wcast-qual -Wall -Wpointer-arith -Wwrite-strings -Wconversion -Wno-unknown-pragmas -Wno-long-long   -DCGL_BUILD -MT CglPreProcess.lo -MD -MP -MF \".deps/CglPreProcess.Tpo\" -c -o CglPreProcess.lo CglPreProcess.cpp; \\\n",
      "then mv -f \".deps/CglPreProcess.Tpo\" \".deps/CglPreProcess.Plo\"; else rm -f \".deps/CglPreProcess.Tpo\"; exit 1; fi\n",
      "mkdir .libs\n",
      " g++ -DHAVE_CONFIG_H -I. -I. -I.. -I./.. -I./../CglProbing -I./../CglDuplicateRow -I./../CglClique -I/home/pedro/.julia/v0.5/Cbc/deps/src/Cbc-2.9.8/CoinUtils/src -I/home/pedro/.julia/v0.5/Cbc/deps/src/Cbc-2.9.8/Osi/src/Osi -I/home/pedro/.julia/v0.5/Cbc/deps/src/Cbc-2.9.8/CoinUtils/src -O3 -pipe -DNDEBUG -pedantic-errors -Wparentheses -Wreturn-type -Wcast-qual -Wall -Wpointer-arith -Wwrite-strings -Wconversion -Wno-unknown-pragmas -Wno-long-long -DCGL_BUILD -MT CglPreProcess.lo -MD -MP -MF .deps/CglPreProcess.Tpo -c CglPreProcess.cpp  -fPIC -DPIC -o .libs/CglPreProcess.o\n"
     ]
    },
    {
     "name": "stderr",
     "output_type": "stream",
     "text": [
      "CglPreProcess.cpp: In member function ‘OsiSolverInterface* CglPreProcess::modified(OsiSolverInterface*, bool, int&, int, int)’:\n",
      "CglPreProcess.cpp:4632:19: warning: conversion to ‘unsigned char’ from ‘int’ may alter its value [-Wconversion]\n",
      "    result[k1][k2] |= static_cast<unsigned char>(stronger <<(4*j));\n",
      "                   ^\n",
      "CglPreProcess.cpp:4497:30: warning: ‘colUpper[1]’ may be used uninitialized in this function [-Wmaybe-uninitialized]\n",
      "       colLower[1]>colUpper[1]+1.0e-6) {\n",
      "                              ^\n"
     ]
    },
    {
     "name": "stdout",
     "output_type": "stream",
     "text": [
      "/bin/bash ../../../libtool --tag=CXX --mode=link g++  -O3 -pipe -DNDEBUG -pedantic-errors -Wparentheses -Wreturn-type -Wcast-qual -Wall -Wpointer-arith -Wwrite-strings -Wconversion -Wno-unknown-pragmas -Wno-long-long   -DCGL_BUILD   -o libCglPreProcess.la  -no-undefined -version-info 10:9:9 CglPreProcess.lo  \n"
     ]
    },
    {
     "name": "stderr",
     "output_type": "stream",
     "text": [
      "In file included from /home/pedro/.julia/v0.5/Cbc/deps/src/Cbc-2.9.8/Osi/src/Osi/OsiSolverInterface.hpp:17:0,\n",
      "                 from CglPreProcess.hpp:12,\n",
      "                 from CglPreProcess.cpp:13:\n",
      "/home/pedro/.julia/v0.5/Cbc/deps/src/Cbc-2.9.8/CoinUtils/src/CoinFinite.hpp: At global scope:\n",
      "/home/pedro/.julia/v0.5/Cbc/deps/src/Cbc-2.9.8/CoinUtils/src/CoinFinite.hpp:20:14: warning: ‘COIN_INT_MAX_AS_DOUBLE’ defined but not used [-Wunused-variable]\n",
      " const double COIN_INT_MAX_AS_DOUBLE = (std::numeric_limits<int>::max)();\n",
      "              ^\n"
     ]
    },
    {
     "name": "stdout",
     "output_type": "stream",
     "text": [
      "ar cru .libs/libCglPreProcess.a .libs/CglPreProcess.o\n"
     ]
    },
    {
     "name": "stderr",
     "output_type": "stream",
     "text": [
      "libtool: link: warning: `-version-info/-version-number' is ignored for convenience libraries\n"
     ]
    },
    {
     "name": "stdout",
     "output_type": "stream",
     "text": [
      "ranlib .libs/libCglPreProcess.a\n",
      "creating libCglPreProcess.la\n",
      "(cd .libs && rm -f libCglPreProcess.la && ln -s ../libCglPreProcess.la libCglPreProcess.la)\n",
      "make[4]: Entering directory '/home/pedro/.julia/v0.5/Cbc/deps/src/Cbc-2.9.8/Cgl/src/CglPreProcess'\n",
      "make[4]: Nothing to be done for 'install-exec-am'.\n",
      "test -z \"/home/pedro/.julia/v0.5/Cbc/deps/usr/include/coin\" || mkdir -p -- \"/home/pedro/.julia/v0.5/Cbc/deps/usr/include/coin\"\n",
      " /usr/bin/install -c -m 644 'CglPreProcess.hpp' '/home/pedro/.julia/v0.5/Cbc/deps/usr/include/coin/CglPreProcess.hpp'\n",
      "make[4]: Leaving directory '/home/pedro/.julia/v0.5/Cbc/deps/src/Cbc-2.9.8/Cgl/src/CglPreProcess'\n",
      "make[3]: Leaving directory '/home/pedro/.julia/v0.5/Cbc/deps/src/Cbc-2.9.8/Cgl/src/CglPreProcess'\n",
      "Making install in CglProbing\n",
      "make[3]: Entering directory '/home/pedro/.julia/v0.5/Cbc/deps/src/Cbc-2.9.8/Cgl/src/CglProbing'\n",
      "if /bin/bash ../../../libtool --tag=CXX --mode=compile g++ -DHAVE_CONFIG_H -I. -I`echo .` -I..  -I`echo ./..` -I/home/pedro/.julia/v0.5/Cbc/deps/src/Cbc-2.9.8/CoinUtils/src -I/home/pedro/.julia/v0.5/Cbc/deps/src/Cbc-2.9.8/Osi/src/Osi -I/home/pedro/.julia/v0.5/Cbc/deps/src/Cbc-2.9.8/CoinUtils/src   -O3 -pipe -DNDEBUG -pedantic-errors -Wparentheses -Wreturn-type -Wcast-qual -Wall -Wpointer-arith -Wwrite-strings -Wconversion -Wno-unknown-pragmas -Wno-long-long   -DCGL_BUILD -MT CglProbing.lo -MD -MP -MF \".deps/CglProbing.Tpo\" -c -o CglProbing.lo CglProbing.cpp; \\\n",
      "then mv -f \".deps/CglProbing.Tpo\" \".deps/CglProbing.Plo\"; else rm -f \".deps/CglProbing.Tpo\"; exit 1; fi\n"
     ]
    },
    {
     "name": "stderr",
     "output_type": "stream",
     "text": [
      "ar: `u' modifier ignored since `D' is the default (see `U')\n"
     ]
    },
    {
     "name": "stdout",
     "output_type": "stream",
     "text": [
      "mkdir .libs\n",
      " g++ -DHAVE_CONFIG_H -I. -I. -I.. -I./.. -I/home/pedro/.julia/v0.5/Cbc/deps/src/Cbc-2.9.8/CoinUtils/src -I/home/pedro/.julia/v0.5/Cbc/deps/src/Cbc-2.9.8/Osi/src/Osi -I/home/pedro/.julia/v0.5/Cbc/deps/src/Cbc-2.9.8/CoinUtils/src -O3 -pipe -DNDEBUG -pedantic-errors -Wparentheses -Wreturn-type -Wcast-qual -Wall -Wpointer-arith -Wwrite-strings -Wconversion -Wno-unknown-pragmas -Wno-long-long -DCGL_BUILD -MT CglProbing.lo -MD -MP -MF .deps/CglProbing.Tpo -c CglProbing.cpp  -fPIC -DPIC -o .libs/CglProbing.o\n",
      "if /bin/bash ../../../libtool --tag=CXX --mode=compile g++ -DHAVE_CONFIG_H -I. -I`echo .` -I..  -I`echo ./..` -I/home/pedro/.julia/v0.5/Cbc/deps/src/Cbc-2.9.8/CoinUtils/src -I/home/pedro/.julia/v0.5/Cbc/deps/src/Cbc-2.9.8/Osi/src/Osi -I/home/pedro/.julia/v0.5/Cbc/deps/src/Cbc-2.9.8/CoinUtils/src   -O3 -pipe -DNDEBUG -pedantic-errors -Wparentheses -Wreturn-type -Wcast-qual -Wall -Wpointer-arith -Wwrite-strings -Wconversion -Wno-unknown-pragmas -Wno-long-long   -DCGL_BUILD -MT CglProbingTest.lo -MD -MP -MF \".deps/CglProbingTest.Tpo\" -c -o CglProbingTest.lo CglProbingTest.cpp; \\\n",
      "then mv -f \".deps/CglProbingTest.Tpo\" \".deps/CglProbingTest.Plo\"; else rm -f \".deps/CglProbingTest.Tpo\"; exit 1; fi\n"
     ]
    },
    {
     "name": "stderr",
     "output_type": "stream",
     "text": [
      "In file included from CglProbing.cpp:20:0:\n",
      "/home/pedro/.julia/v0.5/Cbc/deps/src/Cbc-2.9.8/CoinUtils/src/CoinFinite.hpp:20:14: warning: ‘COIN_INT_MAX_AS_DOUBLE’ defined but not used [-Wunused-variable]\n",
      " const double COIN_INT_MAX_AS_DOUBLE = (std::numeric_limits<int>::max)();\n",
      "              ^\n"
     ]
    },
    {
     "name": "stdout",
     "output_type": "stream",
     "text": [
      " g++ -DHAVE_CONFIG_H -I. -I. -I.. -I./.. -I/home/pedro/.julia/v0.5/Cbc/deps/src/Cbc-2.9.8/CoinUtils/src -I/home/pedro/.julia/v0.5/Cbc/deps/src/Cbc-2.9.8/Osi/src/Osi -I/home/pedro/.julia/v0.5/Cbc/deps/src/Cbc-2.9.8/CoinUtils/src -O3 -pipe -DNDEBUG -pedantic-errors -Wparentheses -Wreturn-type -Wcast-qual -Wall -Wpointer-arith -Wwrite-strings -Wconversion -Wno-unknown-pragmas -Wno-long-long -DCGL_BUILD -MT CglProbingTest.lo -MD -MP -MF .deps/CglProbingTest.Tpo -c CglProbingTest.cpp  -fPIC -DPIC -o .libs/CglProbingTest.o\n",
      "/bin/bash ../../../libtool --tag=CXX --mode=link g++  -O3 -pipe -DNDEBUG -pedantic-errors -Wparentheses -Wreturn-type -Wcast-qual -Wall -Wpointer-arith -Wwrite-strings -Wconversion -Wno-unknown-pragmas -Wno-long-long   -DCGL_BUILD   -o libCglProbing.la  -no-undefined -version-info 10:9:9 CglProbing.lo CglProbingTest.lo  \n"
     ]
    },
    {
     "name": "stderr",
     "output_type": "stream",
     "text": [
      "In file included from /home/pedro/.julia/v0.5/Cbc/deps/src/Cbc-2.9.8/Osi/src/Osi/OsiSolverInterface.hpp:17:0,\n",
      "                 from /home/pedro/.julia/v0.5/Cbc/deps/src/Cbc-2.9.8/Osi/src/Osi/OsiCut.hpp:9,\n",
      "                 from /home/pedro/.julia/v0.5/Cbc/deps/src/Cbc-2.9.8/Osi/src/Osi/OsiRowCut.hpp:11,\n",
      "                 from /home/pedro/.julia/v0.5/Cbc/deps/src/Cbc-2.9.8/Osi/src/Osi/OsiCuts.hpp:13,\n",
      "                 from ../CglCutGenerator.hpp:8,\n",
      "                 from CglProbing.hpp:11,\n",
      "                 from CglProbingTest.cpp:15:\n",
      "/home/pedro/.julia/v0.5/Cbc/deps/src/Cbc-2.9.8/CoinUtils/src/CoinFinite.hpp:18:14: warning: ‘COIN_DBL_MAX’ defined but not used [-Wunused-variable]\n",
      " const double COIN_DBL_MAX = (std::numeric_limits<double>::max)();\n",
      "              ^\n",
      "/home/pedro/.julia/v0.5/Cbc/deps/src/Cbc-2.9.8/CoinUtils/src/CoinFinite.hpp:20:14: warning: ‘COIN_INT_MAX_AS_DOUBLE’ defined but not used [-Wunused-variable]\n",
      " const double COIN_INT_MAX_AS_DOUBLE = (std::numeric_limits<int>::max)();\n",
      "              ^\n"
     ]
    },
    {
     "name": "stdout",
     "output_type": "stream",
     "text": [
      "ar cru .libs/libCglProbing.a .libs/CglProbing.o .libs/CglProbingTest.o\n",
      "ranlib .libs/libCglProbing.a\n"
     ]
    },
    {
     "name": "stderr",
     "output_type": "stream",
     "text": [
      "libtool: link: warning: `-version-info/-version-number' is ignored for convenience libraries\n",
      "ar: `u' modifier ignored since `D' is the default (see `U')\n"
     ]
    },
    {
     "name": "stdout",
     "output_type": "stream",
     "text": [
      "creating libCglProbing.la\n",
      "(cd .libs && rm -f libCglProbing.la && ln -s ../libCglProbing.la libCglProbing.la)\n",
      "make[4]: Entering directory '/home/pedro/.julia/v0.5/Cbc/deps/src/Cbc-2.9.8/Cgl/src/CglProbing'\n",
      "make[4]: Nothing to be done for 'install-exec-am'.\n",
      "test -z \"/home/pedro/.julia/v0.5/Cbc/deps/usr/include/coin\" || mkdir -p -- \"/home/pedro/.julia/v0.5/Cbc/deps/usr/include/coin\"\n",
      " /usr/bin/install -c -m 644 'CglProbing.hpp' '/home/pedro/.julia/v0.5/Cbc/deps/usr/include/coin/CglProbing.hpp'\n",
      "make[4]: Leaving directory '/home/pedro/.julia/v0.5/Cbc/deps/src/Cbc-2.9.8/Cgl/src/CglProbing'\n",
      "make[3]: Leaving directory '/home/pedro/.julia/v0.5/Cbc/deps/src/Cbc-2.9.8/Cgl/src/CglProbing'\n",
      "Making install in CglRedSplit\n",
      "make[3]: Entering directory '/home/pedro/.julia/v0.5/Cbc/deps/src/Cbc-2.9.8/Cgl/src/CglRedSplit'\n",
      "if /bin/bash ../../../libtool --tag=CXX --mode=compile g++ -DHAVE_CONFIG_H -I. -I`echo .` -I..  -I`echo ./..` -I/home/pedro/.julia/v0.5/Cbc/deps/src/Cbc-2.9.8/CoinUtils/src -I/home/pedro/.julia/v0.5/Cbc/deps/src/Cbc-2.9.8/Osi/src/Osi -I/home/pedro/.julia/v0.5/Cbc/deps/src/Cbc-2.9.8/CoinUtils/src   -O3 -pipe -DNDEBUG -pedantic-errors -Wparentheses -Wreturn-type -Wcast-qual -Wall -Wpointer-arith -Wwrite-strings -Wconversion -Wno-unknown-pragmas -Wno-long-long   -DCGL_BUILD -MT CglRedSplit.lo -MD -MP -MF \".deps/CglRedSplit.Tpo\" -c -o CglRedSplit.lo CglRedSplit.cpp; \\\n",
      "then mv -f \".deps/CglRedSplit.Tpo\" \".deps/CglRedSplit.Plo\"; else rm -f \".deps/CglRedSplit.Tpo\"; exit 1; fi\n",
      "mkdir .libs\n",
      " g++ -DHAVE_CONFIG_H -I. -I. -I.. -I./.. -I/home/pedro/.julia/v0.5/Cbc/deps/src/Cbc-2.9.8/CoinUtils/src -I/home/pedro/.julia/v0.5/Cbc/deps/src/Cbc-2.9.8/Osi/src/Osi -I/home/pedro/.julia/v0.5/Cbc/deps/src/Cbc-2.9.8/CoinUtils/src -O3 -pipe -DNDEBUG -pedantic-errors -Wparentheses -Wreturn-type -Wcast-qual -Wall -Wpointer-arith -Wwrite-strings -Wconversion -Wno-unknown-pragmas -Wno-long-long -DCGL_BUILD -MT CglRedSplit.lo -MD -MP -MF .deps/CglRedSplit.Tpo -c CglRedSplit.cpp  -fPIC -DPIC -o .libs/CglRedSplit.o\n",
      "if /bin/bash ../../../libtool --tag=CXX --mode=compile g++ -DHAVE_CONFIG_H -I. -I`echo .` -I..  -I`echo ./..` -I/home/pedro/.julia/v0.5/Cbc/deps/src/Cbc-2.9.8/CoinUtils/src -I/home/pedro/.julia/v0.5/Cbc/deps/src/Cbc-2.9.8/Osi/src/Osi -I/home/pedro/.julia/v0.5/Cbc/deps/src/Cbc-2.9.8/CoinUtils/src   -O3 -pipe -DNDEBUG -pedantic-errors -Wparentheses -Wreturn-type -Wcast-qual -Wall -Wpointer-arith -Wwrite-strings -Wconversion -Wno-unknown-pragmas -Wno-long-long   -DCGL_BUILD -MT CglRedSplitTest.lo -MD -MP -MF \".deps/CglRedSplitTest.Tpo\" -c -o CglRedSplitTest.lo CglRedSplitTest.cpp; \\\n",
      "then mv -f \".deps/CglRedSplitTest.Tpo\" \".deps/CglRedSplitTest.Plo\"; else rm -f \".deps/CglRedSplitTest.Tpo\"; exit 1; fi\n"
     ]
    },
    {
     "name": "stderr",
     "output_type": "stream",
     "text": [
      "In file included from /home/pedro/.julia/v0.5/Cbc/deps/src/Cbc-2.9.8/Osi/src/Osi/OsiSolverInterface.hpp:17:0,\n",
      "                 from CglRedSplit.cpp:25:\n",
      "/home/pedro/.julia/v0.5/Cbc/deps/src/Cbc-2.9.8/CoinUtils/src/CoinFinite.hpp:20:14: warning: ‘COIN_INT_MAX_AS_DOUBLE’ defined but not used [-Wunused-variable]\n",
      " const double COIN_INT_MAX_AS_DOUBLE = (std::numeric_limits<int>::max)();\n",
      "              ^\n"
     ]
    },
    {
     "name": "stdout",
     "output_type": "stream",
     "text": [
      " g++ -DHAVE_CONFIG_H -I. -I. -I.. -I./.. -I/home/pedro/.julia/v0.5/Cbc/deps/src/Cbc-2.9.8/CoinUtils/src -I/home/pedro/.julia/v0.5/Cbc/deps/src/Cbc-2.9.8/Osi/src/Osi -I/home/pedro/.julia/v0.5/Cbc/deps/src/Cbc-2.9.8/CoinUtils/src -O3 -pipe -DNDEBUG -pedantic-errors -Wparentheses -Wreturn-type -Wcast-qual -Wall -Wpointer-arith -Wwrite-strings -Wconversion -Wno-unknown-pragmas -Wno-long-long -DCGL_BUILD -MT CglRedSplitTest.lo -MD -MP -MF .deps/CglRedSplitTest.Tpo -c CglRedSplitTest.cpp  -fPIC -DPIC -o .libs/CglRedSplitTest.o\n",
      "if /bin/bash ../../../libtool --tag=CXX --mode=compile g++ -DHAVE_CONFIG_H -I. -I`echo .` -I..  -I`echo ./..` -I/home/pedro/.julia/v0.5/Cbc/deps/src/Cbc-2.9.8/CoinUtils/src -I/home/pedro/.julia/v0.5/Cbc/deps/src/Cbc-2.9.8/Osi/src/Osi -I/home/pedro/.julia/v0.5/Cbc/deps/src/Cbc-2.9.8/CoinUtils/src   -O3 -pipe -DNDEBUG -pedantic-errors -Wparentheses -Wreturn-type -Wcast-qual -Wall -Wpointer-arith -Wwrite-strings -Wconversion -Wno-unknown-pragmas -Wno-long-long   -DCGL_BUILD -MT CglRedSplitParam.lo -MD -MP -MF \".deps/CglRedSplitParam.Tpo\" -c -o CglRedSplitParam.lo CglRedSplitParam.cpp; \\\n",
      "then mv -f \".deps/CglRedSplitParam.Tpo\" \".deps/CglRedSplitParam.Plo\"; else rm -f \".deps/CglRedSplitParam.Tpo\"; exit 1; fi\n"
     ]
    },
    {
     "name": "stderr",
     "output_type": "stream",
     "text": [
      "In file included from /home/pedro/.julia/v0.5/Cbc/deps/src/Cbc-2.9.8/Osi/src/Osi/OsiSolverInterface.hpp:17:0,\n",
      "                 from /home/pedro/.julia/v0.5/Cbc/deps/src/Cbc-2.9.8/Osi/src/Osi/OsiCut.hpp:9,\n",
      "                 from /home/pedro/.julia/v0.5/Cbc/deps/src/Cbc-2.9.8/Osi/src/Osi/OsiRowCut.hpp:11,\n",
      "                 from /home/pedro/.julia/v0.5/Cbc/deps/src/Cbc-2.9.8/Osi/src/Osi/OsiCuts.hpp:13,\n",
      "                 from ../CglCutGenerator.hpp:8,\n",
      "                 from CglRedSplit.hpp:18,\n",
      "                 from CglRedSplitTest.cpp:22:\n",
      "/home/pedro/.julia/v0.5/Cbc/deps/src/Cbc-2.9.8/CoinUtils/src/CoinFinite.hpp:20:14: warning: ‘COIN_INT_MAX_AS_DOUBLE’ defined but not used [-Wunused-variable]\n",
      " const double COIN_INT_MAX_AS_DOUBLE = (std::numeric_limits<int>::max)();\n",
      "              ^\n"
     ]
    },
    {
     "name": "stdout",
     "output_type": "stream",
     "text": [
      " g++ -DHAVE_CONFIG_H -I. -I. -I.. -I./.. -I/home/pedro/.julia/v0.5/Cbc/deps/src/Cbc-2.9.8/CoinUtils/src -I/home/pedro/.julia/v0.5/Cbc/deps/src/Cbc-2.9.8/Osi/src/Osi -I/home/pedro/.julia/v0.5/Cbc/deps/src/Cbc-2.9.8/CoinUtils/src -O3 -pipe -DNDEBUG -pedantic-errors -Wparentheses -Wreturn-type -Wcast-qual -Wall -Wpointer-arith -Wwrite-strings -Wconversion -Wno-unknown-pragmas -Wno-long-long -DCGL_BUILD -MT CglRedSplitParam.lo -MD -MP -MF .deps/CglRedSplitParam.Tpo -c CglRedSplitParam.cpp  -fPIC -DPIC -o .libs/CglRedSplitParam.o\n",
      "/bin/bash ../../../libtool --tag=CXX --mode=link g++  -O3 -pipe -DNDEBUG -pedantic-errors -Wparentheses -Wreturn-type -Wcast-qual -Wall -Wpointer-arith -Wwrite-strings -Wconversion -Wno-unknown-pragmas -Wno-long-long   -DCGL_BUILD   -o libCglRedSplit.la  -no-undefined -version-info 10:9:9 CglRedSplit.lo CglRedSplitTest.lo CglRedSplitParam.lo  \n"
     ]
    },
    {
     "name": "stderr",
     "output_type": "stream",
     "text": [
      "In file included from ../CglParam.hpp:17:0,\n",
      "                 from CglRedSplitParam.hpp:16,\n",
      "                 from CglRedSplitParam.cpp:20:\n",
      "/home/pedro/.julia/v0.5/Cbc/deps/src/Cbc-2.9.8/CoinUtils/src/CoinFinite.hpp:17:14: warning: ‘COIN_DBL_MIN’ defined but not used [-Wunused-variable]\n",
      " const double COIN_DBL_MIN = (std::numeric_limits<double>::min)();\n",
      "              ^\n",
      "/home/pedro/.julia/v0.5/Cbc/deps/src/Cbc-2.9.8/CoinUtils/src/CoinFinite.hpp:20:14: warning: ‘COIN_INT_MAX_AS_DOUBLE’ defined but not used [-Wunused-variable]\n",
      " const double COIN_INT_MAX_AS_DOUBLE = (std::numeric_limits<int>::max)();\n",
      "              ^\n"
     ]
    },
    {
     "name": "stdout",
     "output_type": "stream",
     "text": [
      "ar cru .libs/libCglRedSplit.a .libs/CglRedSplit.o .libs/CglRedSplitTest.o .libs/CglRedSplitParam.o\n",
      "ranlib .libs/libCglRedSplit.a\n",
      "creating libCglRedSplit.la\n",
      "(cd .libs && rm -f libCglRedSplit.la && ln -s ../libCglRedSplit.la libCglRedSplit.la)\n",
      "make[4]: Entering directory '/home/pedro/.julia/v0.5/Cbc/deps/src/Cbc-2.9.8/Cgl/src/CglRedSplit'\n",
      "make[4]: Nothing to be done for 'install-exec-am'.\n",
      "test -z \"/home/pedro/.julia/v0.5/Cbc/deps/usr/include/coin\" || mkdir -p -- \"/home/pedro/.julia/v0.5/Cbc/deps/usr/include/coin\"\n",
      " /usr/bin/install -c -m 644 'CglRedSplit.hpp' '/home/pedro/.julia/v0.5/Cbc/deps/usr/include/coin/CglRedSplit.hpp'\n",
      " /usr/bin/install -c -m 644 'CglRedSplitParam.hpp' '/home/pedro/.julia/v0.5/Cbc/deps/usr/include/coin/CglRedSplitParam.hpp'\n",
      "make[4]: Leaving directory '/home/pedro/.julia/v0.5/Cbc/deps/src/Cbc-2.9.8/Cgl/src/CglRedSplit'\n",
      "make[3]: Leaving directory '/home/pedro/.julia/v0.5/Cbc/deps/src/Cbc-2.9.8/Cgl/src/CglRedSplit'\n",
      "Making install in CglRedSplit2\n",
      "make[3]: Entering directory '/home/pedro/.julia/v0.5/Cbc/deps/src/Cbc-2.9.8/Cgl/src/CglRedSplit2'\n",
      "if /bin/bash ../../../libtool --tag=CXX --mode=compile g++ -DHAVE_CONFIG_H -I. -I`echo .` -I..  -I`echo ./..` -I/home/pedro/.julia/v0.5/Cbc/deps/src/Cbc-2.9.8/CoinUtils/src -I/home/pedro/.julia/v0.5/Cbc/deps/src/Cbc-2.9.8/Osi/src/Osi -I/home/pedro/.julia/v0.5/Cbc/deps/src/Cbc-2.9.8/CoinUtils/src   -O3 -pipe -DNDEBUG -pedantic-errors -Wparentheses -Wreturn-type -Wcast-qual -Wall -Wpointer-arith -Wwrite-strings -Wconversion -Wno-unknown-pragmas -Wno-long-long   -DCGL_BUILD -MT CglRedSplit2.lo -MD -MP -MF \".deps/CglRedSplit2.Tpo\" -c -o CglRedSplit2.lo CglRedSplit2.cpp; \\\n",
      "then mv -f \".deps/CglRedSplit2.Tpo\" \".deps/CglRedSplit2.Plo\"; else rm -f \".deps/CglRedSplit2.Tpo\"; exit 1; fi\n"
     ]
    },
    {
     "name": "stderr",
     "output_type": "stream",
     "text": [
      "libtool: link: warning: `-version-info/-version-number' is ignored for convenience libraries\n",
      "ar: `u' modifier ignored since `D' is the default (see `U')\n"
     ]
    },
    {
     "name": "stdout",
     "output_type": "stream",
     "text": [
      "mkdir .libs\n",
      " g++ -DHAVE_CONFIG_H -I. -I. -I.. -I./.. -I/home/pedro/.julia/v0.5/Cbc/deps/src/Cbc-2.9.8/CoinUtils/src -I/home/pedro/.julia/v0.5/Cbc/deps/src/Cbc-2.9.8/Osi/src/Osi -I/home/pedro/.julia/v0.5/Cbc/deps/src/Cbc-2.9.8/CoinUtils/src -O3 -pipe -DNDEBUG -pedantic-errors -Wparentheses -Wreturn-type -Wcast-qual -Wall -Wpointer-arith -Wwrite-strings -Wconversion -Wno-unknown-pragmas -Wno-long-long -DCGL_BUILD -MT CglRedSplit2.lo -MD -MP -MF .deps/CglRedSplit2.Tpo -c CglRedSplit2.cpp  -fPIC -DPIC -o .libs/CglRedSplit2.o\n",
      "if /bin/bash ../../../libtool --tag=CXX --mode=compile g++ -DHAVE_CONFIG_H -I. -I`echo .` -I..  -I`echo ./..` -I/home/pedro/.julia/v0.5/Cbc/deps/src/Cbc-2.9.8/CoinUtils/src -I/home/pedro/.julia/v0.5/Cbc/deps/src/Cbc-2.9.8/Osi/src/Osi -I/home/pedro/.julia/v0.5/Cbc/deps/src/Cbc-2.9.8/CoinUtils/src   -O3 -pipe -DNDEBUG -pedantic-errors -Wparentheses -Wreturn-type -Wcast-qual -Wall -Wpointer-arith -Wwrite-strings -Wconversion -Wno-unknown-pragmas -Wno-long-long   -DCGL_BUILD -MT CglRedSplit2Test.lo -MD -MP -MF \".deps/CglRedSplit2Test.Tpo\" -c -o CglRedSplit2Test.lo CglRedSplit2Test.cpp; \\\n",
      "then mv -f \".deps/CglRedSplit2Test.Tpo\" \".deps/CglRedSplit2Test.Plo\"; else rm -f \".deps/CglRedSplit2Test.Tpo\"; exit 1; fi\n"
     ]
    },
    {
     "name": "stderr",
     "output_type": "stream",
     "text": [
      "In file included from /home/pedro/.julia/v0.5/Cbc/deps/src/Cbc-2.9.8/Osi/src/Osi/OsiSolverInterface.hpp:17:0,\n",
      "                 from CglRedSplit2.cpp:37:\n",
      "/home/pedro/.julia/v0.5/Cbc/deps/src/Cbc-2.9.8/CoinUtils/src/CoinFinite.hpp:20:14: warning: ‘COIN_INT_MAX_AS_DOUBLE’ defined but not used [-Wunused-variable]\n",
      " const double COIN_INT_MAX_AS_DOUBLE = (std::numeric_limits<int>::max)();\n",
      "              ^\n"
     ]
    },
    {
     "name": "stdout",
     "output_type": "stream",
     "text": [
      " g++ -DHAVE_CONFIG_H -I. -I. -I.. -I./.. -I/home/pedro/.julia/v0.5/Cbc/deps/src/Cbc-2.9.8/CoinUtils/src -I/home/pedro/.julia/v0.5/Cbc/deps/src/Cbc-2.9.8/Osi/src/Osi -I/home/pedro/.julia/v0.5/Cbc/deps/src/Cbc-2.9.8/CoinUtils/src -O3 -pipe -DNDEBUG -pedantic-errors -Wparentheses -Wreturn-type -Wcast-qual -Wall -Wpointer-arith -Wwrite-strings -Wconversion -Wno-unknown-pragmas -Wno-long-long -DCGL_BUILD -MT CglRedSplit2Test.lo -MD -MP -MF .deps/CglRedSplit2Test.Tpo -c CglRedSplit2Test.cpp  -fPIC -DPIC -o .libs/CglRedSplit2Test.o\n",
      "if /bin/bash ../../../libtool --tag=CXX --mode=compile g++ -DHAVE_CONFIG_H -I. -I`echo .` -I..  -I`echo ./..` -I/home/pedro/.julia/v0.5/Cbc/deps/src/Cbc-2.9.8/CoinUtils/src -I/home/pedro/.julia/v0.5/Cbc/deps/src/Cbc-2.9.8/Osi/src/Osi -I/home/pedro/.julia/v0.5/Cbc/deps/src/Cbc-2.9.8/CoinUtils/src   -O3 -pipe -DNDEBUG -pedantic-errors -Wparentheses -Wreturn-type -Wcast-qual -Wall -Wpointer-arith -Wwrite-strings -Wconversion -Wno-unknown-pragmas -Wno-long-long   -DCGL_BUILD -MT CglRedSplit2Param.lo -MD -MP -MF \".deps/CglRedSplit2Param.Tpo\" -c -o CglRedSplit2Param.lo CglRedSplit2Param.cpp; \\\n",
      "then mv -f \".deps/CglRedSplit2Param.Tpo\" \".deps/CglRedSplit2Param.Plo\"; else rm -f \".deps/CglRedSplit2Param.Tpo\"; exit 1; fi\n"
     ]
    },
    {
     "name": "stderr",
     "output_type": "stream",
     "text": [
      "In file included from /home/pedro/.julia/v0.5/Cbc/deps/src/Cbc-2.9.8/Osi/src/Osi/OsiSolverInterface.hpp:17:0,\n",
      "                 from /home/pedro/.julia/v0.5/Cbc/deps/src/Cbc-2.9.8/Osi/src/Osi/OsiCut.hpp:9,\n",
      "                 from /home/pedro/.julia/v0.5/Cbc/deps/src/Cbc-2.9.8/Osi/src/Osi/OsiRowCut.hpp:11,\n",
      "                 from /home/pedro/.julia/v0.5/Cbc/deps/src/Cbc-2.9.8/Osi/src/Osi/OsiCuts.hpp:13,\n",
      "                 from ../CglCutGenerator.hpp:8,\n",
      "                 from CglRedSplit2.hpp:16,\n",
      "                 from CglRedSplit2Test.cpp:10:\n",
      "/home/pedro/.julia/v0.5/Cbc/deps/src/Cbc-2.9.8/CoinUtils/src/CoinFinite.hpp:20:14: warning: ‘COIN_INT_MAX_AS_DOUBLE’ defined but not used [-Wunused-variable]\n",
      " const double COIN_INT_MAX_AS_DOUBLE = (std::numeric_limits<int>::max)();\n",
      "              ^\n"
     ]
    },
    {
     "name": "stdout",
     "output_type": "stream",
     "text": [
      " g++ -DHAVE_CONFIG_H -I. -I. -I.. -I./.. -I/home/pedro/.julia/v0.5/Cbc/deps/src/Cbc-2.9.8/CoinUtils/src -I/home/pedro/.julia/v0.5/Cbc/deps/src/Cbc-2.9.8/Osi/src/Osi -I/home/pedro/.julia/v0.5/Cbc/deps/src/Cbc-2.9.8/CoinUtils/src -O3 -pipe -DNDEBUG -pedantic-errors -Wparentheses -Wreturn-type -Wcast-qual -Wall -Wpointer-arith -Wwrite-strings -Wconversion -Wno-unknown-pragmas -Wno-long-long -DCGL_BUILD -MT CglRedSplit2Param.lo -MD -MP -MF .deps/CglRedSplit2Param.Tpo -c CglRedSplit2Param.cpp  -fPIC -DPIC -o .libs/CglRedSplit2Param.o\n",
      "/bin/bash ../../../libtool --tag=CXX --mode=link g++  -O3 -pipe -DNDEBUG -pedantic-errors -Wparentheses -Wreturn-type -Wcast-qual -Wall -Wpointer-arith -Wwrite-strings -Wconversion -Wno-unknown-pragmas -Wno-long-long   -DCGL_BUILD   -o libCglRedSplit2.la  -no-undefined -version-info 10:9:9 CglRedSplit2.lo CglRedSplit2Test.lo CglRedSplit2Param.lo  \n"
     ]
    },
    {
     "name": "stderr",
     "output_type": "stream",
     "text": [
      "In file included from ../CglParam.hpp:17:0,\n",
      "                 from CglRedSplit2Param.hpp:13,\n",
      "                 from CglRedSplit2Param.cpp:18:\n",
      "/home/pedro/.julia/v0.5/Cbc/deps/src/Cbc-2.9.8/CoinUtils/src/CoinFinite.hpp:17:14: warning: ‘COIN_DBL_MIN’ defined but not used [-Wunused-variable]\n",
      " const double COIN_DBL_MIN = (std::numeric_limits<double>::min)();\n",
      "              ^\n",
      "/home/pedro/.julia/v0.5/Cbc/deps/src/Cbc-2.9.8/CoinUtils/src/CoinFinite.hpp:20:14: warning: ‘COIN_INT_MAX_AS_DOUBLE’ defined but not used [-Wunused-variable]\n",
      " const double COIN_INT_MAX_AS_DOUBLE = (std::numeric_limits<int>::max)();\n",
      "              ^\n"
     ]
    },
    {
     "name": "stdout",
     "output_type": "stream",
     "text": [
      "ar cru .libs/libCglRedSplit2.a .libs/CglRedSplit2.o .libs/CglRedSplit2Test.o .libs/CglRedSplit2Param.o\n",
      "ranlib .libs/libCglRedSplit2.a\n"
     ]
    },
    {
     "name": "stderr",
     "output_type": "stream",
     "text": [
      "libtool: link: warning: `-version-info/-version-number' is ignored for convenience libraries\n",
      "ar: `u' modifier ignored since `D' is the default (see `U')\n"
     ]
    },
    {
     "name": "stdout",
     "output_type": "stream",
     "text": [
      "creating libCglRedSplit2.la\n",
      "(cd .libs && rm -f libCglRedSplit2.la && ln -s ../libCglRedSplit2.la libCglRedSplit2.la)\n",
      "make[4]: Entering directory '/home/pedro/.julia/v0.5/Cbc/deps/src/Cbc-2.9.8/Cgl/src/CglRedSplit2'\n",
      "make[4]: Nothing to be done for 'install-exec-am'.\n",
      "test -z \"/home/pedro/.julia/v0.5/Cbc/deps/usr/include/coin\" || mkdir -p -- \"/home/pedro/.julia/v0.5/Cbc/deps/usr/include/coin\"\n",
      " /usr/bin/install -c -m 644 'CglRedSplit2.hpp' '/home/pedro/.julia/v0.5/Cbc/deps/usr/include/coin/CglRedSplit2.hpp'\n",
      " /usr/bin/install -c -m 644 'CglRedSplit2Param.hpp' '/home/pedro/.julia/v0.5/Cbc/deps/usr/include/coin/CglRedSplit2Param.hpp'\n",
      "make[4]: Leaving directory '/home/pedro/.julia/v0.5/Cbc/deps/src/Cbc-2.9.8/Cgl/src/CglRedSplit2'\n",
      "make[3]: Leaving directory '/home/pedro/.julia/v0.5/Cbc/deps/src/Cbc-2.9.8/Cgl/src/CglRedSplit2'\n",
      "Making install in CglResidualCapacity\n",
      "make[3]: Entering directory '/home/pedro/.julia/v0.5/Cbc/deps/src/Cbc-2.9.8/Cgl/src/CglResidualCapacity'\n",
      "if /bin/bash ../../../libtool --tag=CXX --mode=compile g++ -DHAVE_CONFIG_H -I. -I`echo .` -I..  -I`echo ./..` -I/home/pedro/.julia/v0.5/Cbc/deps/src/Cbc-2.9.8/CoinUtils/src -I/home/pedro/.julia/v0.5/Cbc/deps/src/Cbc-2.9.8/Osi/src/Osi -I/home/pedro/.julia/v0.5/Cbc/deps/src/Cbc-2.9.8/CoinUtils/src   -O3 -pipe -DNDEBUG -pedantic-errors -Wparentheses -Wreturn-type -Wcast-qual -Wall -Wpointer-arith -Wwrite-strings -Wconversion -Wno-unknown-pragmas -Wno-long-long   -DCGL_BUILD -MT CglResidualCapacity.lo -MD -MP -MF \".deps/CglResidualCapacity.Tpo\" -c -o CglResidualCapacity.lo CglResidualCapacity.cpp; \\\n",
      "then mv -f \".deps/CglResidualCapacity.Tpo\" \".deps/CglResidualCapacity.Plo\"; else rm -f \".deps/CglResidualCapacity.Tpo\"; exit 1; fi\n",
      "mkdir .libs\n",
      " g++ -DHAVE_CONFIG_H -I. -I. -I.. -I./.. -I/home/pedro/.julia/v0.5/Cbc/deps/src/Cbc-2.9.8/CoinUtils/src -I/home/pedro/.julia/v0.5/Cbc/deps/src/Cbc-2.9.8/Osi/src/Osi -I/home/pedro/.julia/v0.5/Cbc/deps/src/Cbc-2.9.8/CoinUtils/src -O3 -pipe -DNDEBUG -pedantic-errors -Wparentheses -Wreturn-type -Wcast-qual -Wall -Wpointer-arith -Wwrite-strings -Wconversion -Wno-unknown-pragmas -Wno-long-long -DCGL_BUILD -MT CglResidualCapacity.lo -MD -MP -MF .deps/CglResidualCapacity.Tpo -c CglResidualCapacity.cpp  -fPIC -DPIC -o .libs/CglResidualCapacity.o\n",
      "if /bin/bash ../../../libtool --tag=CXX --mode=compile g++ -DHAVE_CONFIG_H -I. -I`echo .` -I..  -I`echo ./..` -I/home/pedro/.julia/v0.5/Cbc/deps/src/Cbc-2.9.8/CoinUtils/src -I/home/pedro/.julia/v0.5/Cbc/deps/src/Cbc-2.9.8/Osi/src/Osi -I/home/pedro/.julia/v0.5/Cbc/deps/src/Cbc-2.9.8/CoinUtils/src   -O3 -pipe -DNDEBUG -pedantic-errors -Wparentheses -Wreturn-type -Wcast-qual -Wall -Wpointer-arith -Wwrite-strings -Wconversion -Wno-unknown-pragmas -Wno-long-long   -DCGL_BUILD -MT CglResidualCapacityTest.lo -MD -MP -MF \".deps/CglResidualCapacityTest.Tpo\" -c -o CglResidualCapacityTest.lo CglResidualCapacityTest.cpp; \\\n",
      "then mv -f \".deps/CglResidualCapacityTest.Tpo\" \".deps/CglResidualCapacityTest.Plo\"; else rm -f \".deps/CglResidualCapacityTest.Tpo\"; exit 1; fi\n"
     ]
    },
    {
     "name": "stderr",
     "output_type": "stream",
     "text": [
      "In file included from /home/pedro/.julia/v0.5/Cbc/deps/src/Cbc-2.9.8/Osi/src/Osi/OsiSolverInterface.hpp:17:0,\n",
      "                 from /home/pedro/.julia/v0.5/Cbc/deps/src/Cbc-2.9.8/Osi/src/Osi/OsiCut.hpp:9,\n",
      "                 from /home/pedro/.julia/v0.5/Cbc/deps/src/Cbc-2.9.8/Osi/src/Osi/OsiRowCut.hpp:11,\n",
      "                 from /home/pedro/.julia/v0.5/Cbc/deps/src/Cbc-2.9.8/Osi/src/Osi/OsiCuts.hpp:13,\n",
      "                 from ../CglCutGenerator.hpp:8,\n",
      "                 from CglResidualCapacity.hpp:21,\n",
      "                 from CglResidualCapacity.cpp:21:\n",
      "/home/pedro/.julia/v0.5/Cbc/deps/src/Cbc-2.9.8/CoinUtils/src/CoinFinite.hpp:18:14: warning: ‘COIN_DBL_MAX’ defined but not used [-Wunused-variable]\n",
      " const double COIN_DBL_MAX = (std::numeric_limits<double>::max)();\n",
      "              ^\n",
      "/home/pedro/.julia/v0.5/Cbc/deps/src/Cbc-2.9.8/CoinUtils/src/CoinFinite.hpp:20:14: warning: ‘COIN_INT_MAX_AS_DOUBLE’ defined but not used [-Wunused-variable]\n",
      " const double COIN_INT_MAX_AS_DOUBLE = (std::numeric_limits<int>::max)();\n",
      "              ^\n"
     ]
    },
    {
     "name": "stdout",
     "output_type": "stream",
     "text": [
      " g++ -DHAVE_CONFIG_H -I. -I. -I.. -I./.. -I/home/pedro/.julia/v0.5/Cbc/deps/src/Cbc-2.9.8/CoinUtils/src -I/home/pedro/.julia/v0.5/Cbc/deps/src/Cbc-2.9.8/Osi/src/Osi -I/home/pedro/.julia/v0.5/Cbc/deps/src/Cbc-2.9.8/CoinUtils/src -O3 -pipe -DNDEBUG -pedantic-errors -Wparentheses -Wreturn-type -Wcast-qual -Wall -Wpointer-arith -Wwrite-strings -Wconversion -Wno-unknown-pragmas -Wno-long-long -DCGL_BUILD -MT CglResidualCapacityTest.lo -MD -MP -MF .deps/CglResidualCapacityTest.Tpo -c CglResidualCapacityTest.cpp  -fPIC -DPIC -o .libs/CglResidualCapacityTest.o\n",
      "/bin/bash ../../../libtool --tag=CXX --mode=link g++  -O3 -pipe -DNDEBUG -pedantic-errors -Wparentheses -Wreturn-type -Wcast-qual -Wall -Wpointer-arith -Wwrite-strings -Wconversion -Wno-unknown-pragmas -Wno-long-long   -DCGL_BUILD   -o libCglResidualCapacity.la  -no-undefined -version-info 10:9:9 CglResidualCapacity.lo CglResidualCapacityTest.lo  \n"
     ]
    },
    {
     "name": "stderr",
     "output_type": "stream",
     "text": [
      "In file included from /home/pedro/.julia/v0.5/Cbc/deps/src/Cbc-2.9.8/Osi/src/Osi/OsiSolverInterface.hpp:17:0,\n",
      "                 from /home/pedro/.julia/v0.5/Cbc/deps/src/Cbc-2.9.8/Osi/src/Osi/OsiCut.hpp:9,\n",
      "                 from /home/pedro/.julia/v0.5/Cbc/deps/src/Cbc-2.9.8/Osi/src/Osi/OsiRowCut.hpp:11,\n",
      "                 from /home/pedro/.julia/v0.5/Cbc/deps/src/Cbc-2.9.8/Osi/src/Osi/OsiCuts.hpp:13,\n",
      "                 from ../CglCutGenerator.hpp:8,\n",
      "                 from CglResidualCapacity.hpp:21,\n",
      "                 from CglResidualCapacityTest.cpp:13:\n",
      "/home/pedro/.julia/v0.5/Cbc/deps/src/Cbc-2.9.8/CoinUtils/src/CoinFinite.hpp:18:14: warning: ‘COIN_DBL_MAX’ defined but not used [-Wunused-variable]\n",
      " const double COIN_DBL_MAX = (std::numeric_limits<double>::max)();\n",
      "              ^\n",
      "/home/pedro/.julia/v0.5/Cbc/deps/src/Cbc-2.9.8/CoinUtils/src/CoinFinite.hpp:20:14: warning: ‘COIN_INT_MAX_AS_DOUBLE’ defined but not used [-Wunused-variable]\n",
      " const double COIN_INT_MAX_AS_DOUBLE = (std::numeric_limits<int>::max)();\n",
      "              ^\n"
     ]
    },
    {
     "name": "stdout",
     "output_type": "stream",
     "text": [
      "ar cru .libs/libCglResidualCapacity.a .libs/CglResidualCapacity.o .libs/CglResidualCapacityTest.o\n",
      "ranlib .libs/libCglResidualCapacity.a\n",
      "creating libCglResidualCapacity.la\n",
      "(cd .libs && rm -f libCglResidualCapacity.la && ln -s ../libCglResidualCapacity.la libCglResidualCapacity.la)\n",
      "make[4]: Entering directory '/home/pedro/.julia/v0.5/Cbc/deps/src/Cbc-2.9.8/Cgl/src/CglResidualCapacity'\n",
      "make[4]: Nothing to be done for 'install-exec-am'.\n",
      "test -z \"/home/pedro/.julia/v0.5/Cbc/deps/usr/include/coin\" || mkdir -p -- \"/home/pedro/.julia/v0.5/Cbc/deps/usr/include/coin\"\n",
      " /usr/bin/install -c -m 644 'CglResidualCapacity.hpp' '/home/pedro/.julia/v0.5/Cbc/deps/usr/include/coin/CglResidualCapacity.hpp'\n",
      "make[4]: Leaving directory '/home/pedro/.julia/v0.5/Cbc/deps/src/Cbc-2.9.8/Cgl/src/CglResidualCapacity'\n",
      "make[3]: Leaving directory '/home/pedro/.julia/v0.5/Cbc/deps/src/Cbc-2.9.8/Cgl/src/CglResidualCapacity'\n",
      "Making install in CglSimpleRounding\n",
      "make[3]: Entering directory '/home/pedro/.julia/v0.5/Cbc/deps/src/Cbc-2.9.8/Cgl/src/CglSimpleRounding'\n",
      "if /bin/bash ../../../libtool --tag=CXX --mode=compile g++ -DHAVE_CONFIG_H -I. -I`echo .` -I..  -I`echo ./..` -I/home/pedro/.julia/v0.5/Cbc/deps/src/Cbc-2.9.8/CoinUtils/src -I/home/pedro/.julia/v0.5/Cbc/deps/src/Cbc-2.9.8/Osi/src/Osi -I/home/pedro/.julia/v0.5/Cbc/deps/src/Cbc-2.9.8/CoinUtils/src   -O3 -pipe -DNDEBUG -pedantic-errors -Wparentheses -Wreturn-type -Wcast-qual -Wall -Wpointer-arith -Wwrite-strings -Wconversion -Wno-unknown-pragmas -Wno-long-long   -DCGL_BUILD -MT CglSimpleRounding.lo -MD -MP -MF \".deps/CglSimpleRounding.Tpo\" -c -o CglSimpleRounding.lo CglSimpleRounding.cpp; \\\n",
      "then mv -f \".deps/CglSimpleRounding.Tpo\" \".deps/CglSimpleRounding.Plo\"; else rm -f \".deps/CglSimpleRounding.Tpo\"; exit 1; fi\n"
     ]
    },
    {
     "name": "stderr",
     "output_type": "stream",
     "text": [
      "libtool: link: warning: `-version-info/-version-number' is ignored for convenience libraries\n",
      "ar: `u' modifier ignored since `D' is the default (see `U')\n"
     ]
    },
    {
     "name": "stdout",
     "output_type": "stream",
     "text": [
      "mkdir .libs\n",
      " g++ -DHAVE_CONFIG_H -I. -I. -I.. -I./.. -I/home/pedro/.julia/v0.5/Cbc/deps/src/Cbc-2.9.8/CoinUtils/src -I/home/pedro/.julia/v0.5/Cbc/deps/src/Cbc-2.9.8/Osi/src/Osi -I/home/pedro/.julia/v0.5/Cbc/deps/src/Cbc-2.9.8/CoinUtils/src -O3 -pipe -DNDEBUG -pedantic-errors -Wparentheses -Wreturn-type -Wcast-qual -Wall -Wpointer-arith -Wwrite-strings -Wconversion -Wno-unknown-pragmas -Wno-long-long -DCGL_BUILD -MT CglSimpleRounding.lo -MD -MP -MF .deps/CglSimpleRounding.Tpo -c CglSimpleRounding.cpp  -fPIC -DPIC -o .libs/CglSimpleRounding.o\n",
      "if /bin/bash ../../../libtool --tag=CXX --mode=compile g++ -DHAVE_CONFIG_H -I. -I`echo .` -I..  -I`echo ./..` -I/home/pedro/.julia/v0.5/Cbc/deps/src/Cbc-2.9.8/CoinUtils/src -I/home/pedro/.julia/v0.5/Cbc/deps/src/Cbc-2.9.8/Osi/src/Osi -I/home/pedro/.julia/v0.5/Cbc/deps/src/Cbc-2.9.8/CoinUtils/src   -O3 -pipe -DNDEBUG -pedantic-errors -Wparentheses -Wreturn-type -Wcast-qual -Wall -Wpointer-arith -Wwrite-strings -Wconversion -Wno-unknown-pragmas -Wno-long-long   -DCGL_BUILD -MT CglSimpleRoundingTest.lo -MD -MP -MF \".deps/CglSimpleRoundingTest.Tpo\" -c -o CglSimpleRoundingTest.lo CglSimpleRoundingTest.cpp; \\\n",
      "then mv -f \".deps/CglSimpleRoundingTest.Tpo\" \".deps/CglSimpleRoundingTest.Plo\"; else rm -f \".deps/CglSimpleRoundingTest.Tpo\"; exit 1; fi\n"
     ]
    },
    {
     "name": "stderr",
     "output_type": "stream",
     "text": [
      "In file included from /home/pedro/.julia/v0.5/Cbc/deps/src/Cbc-2.9.8/Osi/src/Osi/OsiSolverInterface.hpp:17:0,\n",
      "                 from /home/pedro/.julia/v0.5/Cbc/deps/src/Cbc-2.9.8/Osi/src/Osi/OsiCut.hpp:9,\n",
      "                 from /home/pedro/.julia/v0.5/Cbc/deps/src/Cbc-2.9.8/Osi/src/Osi/OsiRowCut.hpp:11,\n",
      "                 from /home/pedro/.julia/v0.5/Cbc/deps/src/Cbc-2.9.8/Osi/src/Osi/OsiCuts.hpp:13,\n",
      "                 from ../CglCutGenerator.hpp:8,\n",
      "                 from CglSimpleRounding.hpp:11,\n",
      "                 from CglSimpleRounding.cpp:13:\n",
      "/home/pedro/.julia/v0.5/Cbc/deps/src/Cbc-2.9.8/CoinUtils/src/CoinFinite.hpp:20:14: warning: ‘COIN_INT_MAX_AS_DOUBLE’ defined but not used [-Wunused-variable]\n",
      " const double COIN_INT_MAX_AS_DOUBLE = (std::numeric_limits<int>::max)();\n",
      "              ^\n"
     ]
    },
    {
     "name": "stdout",
     "output_type": "stream",
     "text": [
      " g++ -DHAVE_CONFIG_H -I. -I. -I.. -I./.. -I/home/pedro/.julia/v0.5/Cbc/deps/src/Cbc-2.9.8/CoinUtils/src -I/home/pedro/.julia/v0.5/Cbc/deps/src/Cbc-2.9.8/Osi/src/Osi -I/home/pedro/.julia/v0.5/Cbc/deps/src/Cbc-2.9.8/CoinUtils/src -O3 -pipe -DNDEBUG -pedantic-errors -Wparentheses -Wreturn-type -Wcast-qual -Wall -Wpointer-arith -Wwrite-strings -Wconversion -Wno-unknown-pragmas -Wno-long-long -DCGL_BUILD -MT CglSimpleRoundingTest.lo -MD -MP -MF .deps/CglSimpleRoundingTest.Tpo -c CglSimpleRoundingTest.cpp  -fPIC -DPIC -o .libs/CglSimpleRoundingTest.o\n",
      "/bin/bash ../../../libtool --tag=CXX --mode=link g++  -O3 -pipe -DNDEBUG -pedantic-errors -Wparentheses -Wreturn-type -Wcast-qual -Wall -Wpointer-arith -Wwrite-strings -Wconversion -Wno-unknown-pragmas -Wno-long-long   -DCGL_BUILD   -o libCglSimpleRounding.la  -no-undefined -version-info 10:9:9 CglSimpleRounding.lo CglSimpleRoundingTest.lo  \n"
     ]
    },
    {
     "name": "stderr",
     "output_type": "stream",
     "text": [
      "In file included from /home/pedro/.julia/v0.5/Cbc/deps/src/Cbc-2.9.8/Osi/src/Osi/OsiSolverInterface.hpp:17:0,\n",
      "                 from /home/pedro/.julia/v0.5/Cbc/deps/src/Cbc-2.9.8/Osi/src/Osi/OsiCut.hpp:9,\n",
      "                 from /home/pedro/.julia/v0.5/Cbc/deps/src/Cbc-2.9.8/Osi/src/Osi/OsiRowCut.hpp:11,\n",
      "                 from /home/pedro/.julia/v0.5/Cbc/deps/src/Cbc-2.9.8/Osi/src/Osi/OsiCuts.hpp:13,\n",
      "                 from ../CglCutGenerator.hpp:8,\n",
      "                 from CglSimpleRounding.hpp:11,\n",
      "                 from CglSimpleRoundingTest.cpp:13:\n",
      "/home/pedro/.julia/v0.5/Cbc/deps/src/Cbc-2.9.8/CoinUtils/src/CoinFinite.hpp:20:14: warning: ‘COIN_INT_MAX_AS_DOUBLE’ defined but not used [-Wunused-variable]\n",
      " const double COIN_INT_MAX_AS_DOUBLE = (std::numeric_limits<int>::max)();\n",
      "              ^\n"
     ]
    },
    {
     "name": "stdout",
     "output_type": "stream",
     "text": [
      "ar cru .libs/libCglSimpleRounding.a .libs/CglSimpleRounding.o .libs/CglSimpleRoundingTest.o\n",
      "ranlib .libs/libCglSimpleRounding.a\n"
     ]
    },
    {
     "name": "stderr",
     "output_type": "stream",
     "text": [
      "libtool: link: warning: `-version-info/-version-number' is ignored for convenience libraries\n",
      "ar: `u' modifier ignored since `D' is the default (see `U')\n"
     ]
    },
    {
     "name": "stdout",
     "output_type": "stream",
     "text": [
      "creating libCglSimpleRounding.la\n",
      "(cd .libs && rm -f libCglSimpleRounding.la && ln -s ../libCglSimpleRounding.la libCglSimpleRounding.la)\n",
      "make[4]: Entering directory '/home/pedro/.julia/v0.5/Cbc/deps/src/Cbc-2.9.8/Cgl/src/CglSimpleRounding'\n",
      "make[4]: Nothing to be done for 'install-exec-am'.\n",
      "test -z \"/home/pedro/.julia/v0.5/Cbc/deps/usr/include/coin\" || mkdir -p -- \"/home/pedro/.julia/v0.5/Cbc/deps/usr/include/coin\"\n",
      " /usr/bin/install -c -m 644 'CglSimpleRounding.hpp' '/home/pedro/.julia/v0.5/Cbc/deps/usr/include/coin/CglSimpleRounding.hpp'\n",
      "make[4]: Leaving directory '/home/pedro/.julia/v0.5/Cbc/deps/src/Cbc-2.9.8/Cgl/src/CglSimpleRounding'\n",
      "make[3]: Leaving directory '/home/pedro/.julia/v0.5/Cbc/deps/src/Cbc-2.9.8/Cgl/src/CglSimpleRounding'\n",
      "Making install in CglTwomir\n",
      "make[3]: Entering directory '/home/pedro/.julia/v0.5/Cbc/deps/src/Cbc-2.9.8/Cgl/src/CglTwomir'\n",
      "if /bin/bash ../../../libtool --tag=CXX --mode=compile g++ -DHAVE_CONFIG_H -I. -I`echo .` -I..  -I`echo ./..` -I/home/pedro/.julia/v0.5/Cbc/deps/src/Cbc-2.9.8/CoinUtils/src -I/home/pedro/.julia/v0.5/Cbc/deps/src/Cbc-2.9.8/Osi/src/Osi -I/home/pedro/.julia/v0.5/Cbc/deps/src/Cbc-2.9.8/CoinUtils/src -I/home/pedro/.julia/v0.5/Cbc/deps/src/Cbc-2.9.8/Clp/src/OsiClp -I/home/pedro/.julia/v0.5/Cbc/deps/src/Cbc-2.9.8/Clp/src -I/home/pedro/.julia/v0.5/Cbc/deps/src/Cbc-2.9.8/Osi/src/Osi -I/home/pedro/.julia/v0.5/Cbc/deps/src/Cbc-2.9.8/CoinUtils/src   -O3 -pipe -DNDEBUG -pedantic-errors -Wparentheses -Wreturn-type -Wcast-qual -Wall -Wpointer-arith -Wwrite-strings -Wconversion -Wno-unknown-pragmas -Wno-long-long   -DCGL_BUILD -MT CglTwomir.lo -MD -MP -MF \".deps/CglTwomir.Tpo\" -c -o CglTwomir.lo CglTwomir.cpp; \\\n",
      "then mv -f \".deps/CglTwomir.Tpo\" \".deps/CglTwomir.Plo\"; else rm -f \".deps/CglTwomir.Tpo\"; exit 1; fi\n",
      "mkdir .libs\n",
      " g++ -DHAVE_CONFIG_H -I. -I. -I.. -I./.. -I/home/pedro/.julia/v0.5/Cbc/deps/src/Cbc-2.9.8/CoinUtils/src -I/home/pedro/.julia/v0.5/Cbc/deps/src/Cbc-2.9.8/Osi/src/Osi -I/home/pedro/.julia/v0.5/Cbc/deps/src/Cbc-2.9.8/CoinUtils/src -I/home/pedro/.julia/v0.5/Cbc/deps/src/Cbc-2.9.8/Clp/src/OsiClp -I/home/pedro/.julia/v0.5/Cbc/deps/src/Cbc-2.9.8/Clp/src -I/home/pedro/.julia/v0.5/Cbc/deps/src/Cbc-2.9.8/Osi/src/Osi -I/home/pedro/.julia/v0.5/Cbc/deps/src/Cbc-2.9.8/CoinUtils/src -O3 -pipe -DNDEBUG -pedantic-errors -Wparentheses -Wreturn-type -Wcast-qual -Wall -Wpointer-arith -Wwrite-strings -Wconversion -Wno-unknown-pragmas -Wno-long-long -DCGL_BUILD -MT CglTwomir.lo -MD -MP -MF .deps/CglTwomir.Tpo -c CglTwomir.cpp  -fPIC -DPIC -o .libs/CglTwomir.o\n"
     ]
    },
    {
     "name": "stderr",
     "output_type": "stream",
     "text": [
      "CglTwomir.cpp: In member function ‘virtual void CglTwomir::generateCuts(const OsiSolverInterface&, OsiCuts&, CglTreeInfo)’:\n",
      "CglTwomir.cpp:487:13: warning: ‘numberOriginalRows’ may be used uninitialized in this function [-Wmaybe-uninitialized]\n",
      "  delRow[i]=i+numberOriginalRows;\n",
      "             ^\n",
      "In file included from /home/pedro/.julia/v0.5/Cbc/deps/src/Cbc-2.9.8/CoinUtils/src/CoinIndexedVector.hpp:15:0,\n",
      "                 from CglTwomir.cpp:16:\n",
      "/home/pedro/.julia/v0.5/Cbc/deps/src/Cbc-2.9.8/CoinUtils/src/CoinFinite.hpp: At global scope:\n",
      "/home/pedro/.julia/v0.5/Cbc/deps/src/Cbc-2.9.8/CoinUtils/src/CoinFinite.hpp:20:14: warning: ‘COIN_INT_MAX_AS_DOUBLE’ defined but not used [-Wunused-variable]\n",
      " const double COIN_INT_MAX_AS_DOUBLE = (std::numeric_limits<int>::max)();\n",
      "              ^\n"
     ]
    },
    {
     "name": "stdout",
     "output_type": "stream",
     "text": [
      "if /bin/bash ../../../libtool --tag=CXX --mode=compile g++ -DHAVE_CONFIG_H -I. -I`echo .` -I..  -I`echo ./..` -I/home/pedro/.julia/v0.5/Cbc/deps/src/Cbc-2.9.8/CoinUtils/src -I/home/pedro/.julia/v0.5/Cbc/deps/src/Cbc-2.9.8/Osi/src/Osi -I/home/pedro/.julia/v0.5/Cbc/deps/src/Cbc-2.9.8/CoinUtils/src -I/home/pedro/.julia/v0.5/Cbc/deps/src/Cbc-2.9.8/Clp/src/OsiClp -I/home/pedro/.julia/v0.5/Cbc/deps/src/Cbc-2.9.8/Clp/src -I/home/pedro/.julia/v0.5/Cbc/deps/src/Cbc-2.9.8/Osi/src/Osi -I/home/pedro/.julia/v0.5/Cbc/deps/src/Cbc-2.9.8/CoinUtils/src   -O3 -pipe -DNDEBUG -pedantic-errors -Wparentheses -Wreturn-type -Wcast-qual -Wall -Wpointer-arith -Wwrite-strings -Wconversion -Wno-unknown-pragmas -Wno-long-long   -DCGL_BUILD -MT CglTwomirTest.lo -MD -MP -MF \".deps/CglTwomirTest.Tpo\" -c -o CglTwomirTest.lo CglTwomirTest.cpp; \\\n",
      "then mv -f \".deps/CglTwomirTest.Tpo\" \".deps/CglTwomirTest.Plo\"; else rm -f \".deps/CglTwomirTest.Tpo\"; exit 1; fi\n",
      " g++ -DHAVE_CONFIG_H -I. -I. -I.. -I./.. -I/home/pedro/.julia/v0.5/Cbc/deps/src/Cbc-2.9.8/CoinUtils/src -I/home/pedro/.julia/v0.5/Cbc/deps/src/Cbc-2.9.8/Osi/src/Osi -I/home/pedro/.julia/v0.5/Cbc/deps/src/Cbc-2.9.8/CoinUtils/src -I/home/pedro/.julia/v0.5/Cbc/deps/src/Cbc-2.9.8/Clp/src/OsiClp -I/home/pedro/.julia/v0.5/Cbc/deps/src/Cbc-2.9.8/Clp/src -I/home/pedro/.julia/v0.5/Cbc/deps/src/Cbc-2.9.8/Osi/src/Osi -I/home/pedro/.julia/v0.5/Cbc/deps/src/Cbc-2.9.8/CoinUtils/src -O3 -pipe -DNDEBUG -pedantic-errors -Wparentheses -Wreturn-type -Wcast-qual -Wall -Wpointer-arith -Wwrite-strings -Wconversion -Wno-unknown-pragmas -Wno-long-long -DCGL_BUILD -MT CglTwomirTest.lo -MD -MP -MF .deps/CglTwomirTest.Tpo -c CglTwomirTest.cpp  -fPIC -DPIC -o .libs/CglTwomirTest.o\n",
      "/bin/bash ../../../libtool --tag=CXX --mode=link g++  -O3 -pipe -DNDEBUG -pedantic-errors -Wparentheses -Wreturn-type -Wcast-qual -Wall -Wpointer-arith -Wwrite-strings -Wconversion -Wno-unknown-pragmas -Wno-long-long   -DCGL_BUILD   -o libCglTwomir.la  -no-undefined -version-info 10:9:9 CglTwomir.lo CglTwomirTest.lo  \n"
     ]
    },
    {
     "name": "stderr",
     "output_type": "stream",
     "text": [
      "In file included from /home/pedro/.julia/v0.5/Cbc/deps/src/Cbc-2.9.8/Osi/src/Osi/OsiSolverInterface.hpp:17:0,\n",
      "                 from /home/pedro/.julia/v0.5/Cbc/deps/src/Cbc-2.9.8/Osi/src/Osi/OsiCut.hpp:9,\n",
      "                 from /home/pedro/.julia/v0.5/Cbc/deps/src/Cbc-2.9.8/Osi/src/Osi/OsiRowCut.hpp:11,\n",
      "                 from /home/pedro/.julia/v0.5/Cbc/deps/src/Cbc-2.9.8/Osi/src/Osi/OsiCuts.hpp:13,\n",
      "                 from ../CglCutGenerator.hpp:8,\n",
      "                 from CglTwomir.hpp:10,\n",
      "                 from CglTwomirTest.cpp:14:\n",
      "/home/pedro/.julia/v0.5/Cbc/deps/src/Cbc-2.9.8/CoinUtils/src/CoinFinite.hpp:18:14: warning: ‘COIN_DBL_MAX’ defined but not used [-Wunused-variable]\n",
      " const double COIN_DBL_MAX = (std::numeric_limits<double>::max)();\n",
      "              ^\n",
      "/home/pedro/.julia/v0.5/Cbc/deps/src/Cbc-2.9.8/CoinUtils/src/CoinFinite.hpp:20:14: warning: ‘COIN_INT_MAX_AS_DOUBLE’ defined but not used [-Wunused-variable]\n",
      " const double COIN_INT_MAX_AS_DOUBLE = (std::numeric_limits<int>::max)();\n",
      "              ^\n"
     ]
    },
    {
     "name": "stdout",
     "output_type": "stream",
     "text": [
      "ar cru .libs/libCglTwomir.a .libs/CglTwomir.o .libs/CglTwomirTest.o\n",
      "ranlib .libs/libCglTwomir.a\n",
      "creating libCglTwomir.la\n",
      "(cd .libs && rm -f libCglTwomir.la && ln -s ../libCglTwomir.la libCglTwomir.la)\n",
      "make[4]: Entering directory '/home/pedro/.julia/v0.5/Cbc/deps/src/Cbc-2.9.8/Cgl/src/CglTwomir'\n",
      "make[4]: Nothing to be done for 'install-exec-am'.\n",
      "test -z \"/home/pedro/.julia/v0.5/Cbc/deps/usr/include/coin\" || mkdir -p -- \"/home/pedro/.julia/v0.5/Cbc/deps/usr/include/coin\"\n",
      " /usr/bin/install -c -m 644 'CglTwomir.hpp' '/home/pedro/.julia/v0.5/Cbc/deps/usr/include/coin/CglTwomir.hpp'\n",
      "make[4]: Leaving directory '/home/pedro/.julia/v0.5/Cbc/deps/src/Cbc-2.9.8/Cgl/src/CglTwomir'\n",
      "make[3]: Leaving directory '/home/pedro/.julia/v0.5/Cbc/deps/src/Cbc-2.9.8/Cgl/src/CglTwomir'\n",
      "Making install in CglZeroHalf\n",
      "make[3]: Entering directory '/home/pedro/.julia/v0.5/Cbc/deps/src/Cbc-2.9.8/Cgl/src/CglZeroHalf'\n",
      "if /bin/bash ../../../libtool --tag=CXX --mode=compile g++ -DHAVE_CONFIG_H -I. -I`echo .`  -I`echo ./..` -I/home/pedro/.julia/v0.5/Cbc/deps/src/Cbc-2.9.8/CoinUtils/src -I/home/pedro/.julia/v0.5/Cbc/deps/src/Cbc-2.9.8/Osi/src/Osi -I/home/pedro/.julia/v0.5/Cbc/deps/src/Cbc-2.9.8/CoinUtils/src   -O3 -pipe -DNDEBUG -pedantic-errors -Wparentheses -Wreturn-type -Wcast-qual -Wall -Wpointer-arith -Wwrite-strings -Wconversion -Wno-unknown-pragmas -Wno-long-long   -DCGL_BUILD -MT CglZeroHalf.lo -MD -MP -MF \".deps/CglZeroHalf.Tpo\" -c -o CglZeroHalf.lo CglZeroHalf.cpp; \\\n",
      "then mv -f \".deps/CglZeroHalf.Tpo\" \".deps/CglZeroHalf.Plo\"; else rm -f \".deps/CglZeroHalf.Tpo\"; exit 1; fi\n"
     ]
    },
    {
     "name": "stderr",
     "output_type": "stream",
     "text": [
      "libtool: link: warning: `-version-info/-version-number' is ignored for convenience libraries\n",
      "ar: `u' modifier ignored since `D' is the default (see `U')\n"
     ]
    },
    {
     "name": "stdout",
     "output_type": "stream",
     "text": [
      "mkdir .libs\n",
      " g++ -DHAVE_CONFIG_H -I. -I. -I./.. -I/home/pedro/.julia/v0.5/Cbc/deps/src/Cbc-2.9.8/CoinUtils/src -I/home/pedro/.julia/v0.5/Cbc/deps/src/Cbc-2.9.8/Osi/src/Osi -I/home/pedro/.julia/v0.5/Cbc/deps/src/Cbc-2.9.8/CoinUtils/src -O3 -pipe -DNDEBUG -pedantic-errors -Wparentheses -Wreturn-type -Wcast-qual -Wall -Wpointer-arith -Wwrite-strings -Wconversion -Wno-unknown-pragmas -Wno-long-long -DCGL_BUILD -MT CglZeroHalf.lo -MD -MP -MF .deps/CglZeroHalf.Tpo -c CglZeroHalf.cpp  -fPIC -DPIC -o .libs/CglZeroHalf.o\n"
     ]
    },
    {
     "name": "stderr",
     "output_type": "stream",
     "text": [
      "CglZeroHalf.cpp: In member function ‘virtual void CglZeroHalf::refreshSolver(OsiSolverInterface*)’:\n",
      "CglZeroHalf.cpp:376:7: warning: unused variable ‘saveMr’ [-Wunused-variable]\n",
      "   int saveMr=mr_;\n",
      "       ^\n",
      "CglZeroHalf.cpp:377:7: warning: unused variable ‘saveMnz’ [-Wunused-variable]\n",
      "   int saveMnz=mnz_;\n",
      "       ^\n"
     ]
    },
    {
     "name": "stdout",
     "output_type": "stream",
     "text": [
      "if /bin/bash ../../../libtool --tag=CXX --mode=compile g++ -DHAVE_CONFIG_H -I. -I`echo .`  -I`echo ./..` -I/home/pedro/.julia/v0.5/Cbc/deps/src/Cbc-2.9.8/CoinUtils/src -I/home/pedro/.julia/v0.5/Cbc/deps/src/Cbc-2.9.8/Osi/src/Osi -I/home/pedro/.julia/v0.5/Cbc/deps/src/Cbc-2.9.8/CoinUtils/src   -O3 -pipe -DNDEBUG -pedantic-errors -Wparentheses -Wreturn-type -Wcast-qual -Wall -Wpointer-arith -Wwrite-strings -Wconversion -Wno-unknown-pragmas -Wno-long-long   -DCGL_BUILD -MT Cgl012cut.lo -MD -MP -MF \".deps/Cgl012cut.Tpo\" -c -o Cgl012cut.lo Cgl012cut.cpp; \\\n",
      "then mv -f \".deps/Cgl012cut.Tpo\" \".deps/Cgl012cut.Plo\"; else rm -f \".deps/Cgl012cut.Tpo\"; exit 1; fi\n"
     ]
    },
    {
     "name": "stderr",
     "output_type": "stream",
     "text": [
      "In file included from /home/pedro/.julia/v0.5/Cbc/deps/src/Cbc-2.9.8/Osi/src/Osi/OsiSolverInterface.hpp:17:0,\n",
      "                 from /home/pedro/.julia/v0.5/Cbc/deps/src/Cbc-2.9.8/Osi/src/Osi/OsiCut.hpp:9,\n",
      "                 from /home/pedro/.julia/v0.5/Cbc/deps/src/Cbc-2.9.8/Osi/src/Osi/OsiRowCut.hpp:11,\n",
      "                 from /home/pedro/.julia/v0.5/Cbc/deps/src/Cbc-2.9.8/Osi/src/Osi/OsiCuts.hpp:13,\n",
      "                 from ./../CglCutGenerator.hpp:8,\n",
      "                 from CglZeroHalf.hpp:10,\n",
      "                 from CglZeroHalf.cpp:12:\n",
      "/home/pedro/.julia/v0.5/Cbc/deps/src/Cbc-2.9.8/CoinUtils/src/CoinFinite.hpp: At global scope:\n",
      "/home/pedro/.julia/v0.5/Cbc/deps/src/Cbc-2.9.8/CoinUtils/src/CoinFinite.hpp:20:14: warning: ‘COIN_INT_MAX_AS_DOUBLE’ defined but not used [-Wunused-variable]\n",
      " const double COIN_INT_MAX_AS_DOUBLE = (std::numeric_limits<int>::max)();\n",
      "              ^\n"
     ]
    },
    {
     "name": "stdout",
     "output_type": "stream",
     "text": [
      " g++ -DHAVE_CONFIG_H -I. -I. -I./.. -I/home/pedro/.julia/v0.5/Cbc/deps/src/Cbc-2.9.8/CoinUtils/src -I/home/pedro/.julia/v0.5/Cbc/deps/src/Cbc-2.9.8/Osi/src/Osi -I/home/pedro/.julia/v0.5/Cbc/deps/src/Cbc-2.9.8/CoinUtils/src -O3 -pipe -DNDEBUG -pedantic-errors -Wparentheses -Wreturn-type -Wcast-qual -Wall -Wpointer-arith -Wwrite-strings -Wconversion -Wno-unknown-pragmas -Wno-long-long -DCGL_BUILD -MT Cgl012cut.lo -MD -MP -MF .deps/Cgl012cut.Tpo -c Cgl012cut.cpp  -fPIC -DPIC -o .libs/Cgl012cut.o\n"
     ]
    },
    {
     "name": "stderr",
     "output_type": "stream",
     "text": [
      "Cgl012cut.cpp: In member function ‘cut_list* Cgl012Cut::basic_separation()’:\n",
      "Cgl012cut.cpp:2142:14: warning: conversion to ‘short int’ from ‘int’ may alter its value [-Wconversion]\n",
      "      ok_weak = best_weakening(n_to_weak,vars_to_weak,\n",
      "              ^\n"
     ]
    },
    {
     "name": "stdout",
     "output_type": "stream",
     "text": [
      "if /bin/bash ../../../libtool --tag=CXX --mode=compile g++ -DHAVE_CONFIG_H -I. -I`echo .`  -I`echo ./..` -I/home/pedro/.julia/v0.5/Cbc/deps/src/Cbc-2.9.8/CoinUtils/src -I/home/pedro/.julia/v0.5/Cbc/deps/src/Cbc-2.9.8/Osi/src/Osi -I/home/pedro/.julia/v0.5/Cbc/deps/src/Cbc-2.9.8/CoinUtils/src   -O3 -pipe -DNDEBUG -pedantic-errors -Wparentheses -Wreturn-type -Wcast-qual -Wall -Wpointer-arith -Wwrite-strings -Wconversion -Wno-unknown-pragmas -Wno-long-long   -DCGL_BUILD -MT CglZeroHalfTest.lo -MD -MP -MF \".deps/CglZeroHalfTest.Tpo\" -c -o CglZeroHalfTest.lo CglZeroHalfTest.cpp; \\\n",
      "then mv -f \".deps/CglZeroHalfTest.Tpo\" \".deps/CglZeroHalfTest.Plo\"; else rm -f \".deps/CglZeroHalfTest.Tpo\"; exit 1; fi\n"
     ]
    },
    {
     "name": "stderr",
     "output_type": "stream",
     "text": [
      "In file included from Cgl012cut.cpp:6:0:\n",
      "/home/pedro/.julia/v0.5/Cbc/deps/src/Cbc-2.9.8/CoinUtils/src/CoinFinite.hpp: At global scope:\n",
      "/home/pedro/.julia/v0.5/Cbc/deps/src/Cbc-2.9.8/CoinUtils/src/CoinFinite.hpp:20:14: warning: ‘COIN_INT_MAX_AS_DOUBLE’ defined but not used [-Wunused-variable]\n",
      " const double COIN_INT_MAX_AS_DOUBLE = (std::numeric_limits<int>::max)();\n",
      "              ^\n"
     ]
    },
    {
     "name": "stdout",
     "output_type": "stream",
     "text": [
      " g++ -DHAVE_CONFIG_H -I. -I. -I./.. -I/home/pedro/.julia/v0.5/Cbc/deps/src/Cbc-2.9.8/CoinUtils/src -I/home/pedro/.julia/v0.5/Cbc/deps/src/Cbc-2.9.8/Osi/src/Osi -I/home/pedro/.julia/v0.5/Cbc/deps/src/Cbc-2.9.8/CoinUtils/src -O3 -pipe -DNDEBUG -pedantic-errors -Wparentheses -Wreturn-type -Wcast-qual -Wall -Wpointer-arith -Wwrite-strings -Wconversion -Wno-unknown-pragmas -Wno-long-long -DCGL_BUILD -MT CglZeroHalfTest.lo -MD -MP -MF .deps/CglZeroHalfTest.Tpo -c CglZeroHalfTest.cpp  -fPIC -DPIC -o .libs/CglZeroHalfTest.o\n",
      "/bin/bash ../../../libtool --tag=CXX --mode=link g++  -O3 -pipe -DNDEBUG -pedantic-errors -Wparentheses -Wreturn-type -Wcast-qual -Wall -Wpointer-arith -Wwrite-strings -Wconversion -Wno-unknown-pragmas -Wno-long-long   -DCGL_BUILD   -o libCglZeroHalf.la  -no-undefined -version-info 10:9:9 CglZeroHalf.lo Cgl012cut.lo CglZeroHalfTest.lo  \n"
     ]
    },
    {
     "name": "stderr",
     "output_type": "stream",
     "text": [
      "In file included from /home/pedro/.julia/v0.5/Cbc/deps/src/Cbc-2.9.8/Osi/src/Osi/OsiSolverInterface.hpp:17:0,\n",
      "                 from /home/pedro/.julia/v0.5/Cbc/deps/src/Cbc-2.9.8/Osi/src/Osi/OsiCut.hpp:9,\n",
      "                 from /home/pedro/.julia/v0.5/Cbc/deps/src/Cbc-2.9.8/Osi/src/Osi/OsiRowCut.hpp:11,\n",
      "                 from /home/pedro/.julia/v0.5/Cbc/deps/src/Cbc-2.9.8/Osi/src/Osi/OsiCuts.hpp:13,\n",
      "                 from ./../CglCutGenerator.hpp:8,\n",
      "                 from CglZeroHalf.hpp:10,\n",
      "                 from CglZeroHalfTest.cpp:12:\n",
      "/home/pedro/.julia/v0.5/Cbc/deps/src/Cbc-2.9.8/CoinUtils/src/CoinFinite.hpp:18:14: warning: ‘COIN_DBL_MAX’ defined but not used [-Wunused-variable]\n",
      " const double COIN_DBL_MAX = (std::numeric_limits<double>::max)();\n",
      "              ^\n",
      "/home/pedro/.julia/v0.5/Cbc/deps/src/Cbc-2.9.8/CoinUtils/src/CoinFinite.hpp:20:14: warning: ‘COIN_INT_MAX_AS_DOUBLE’ defined but not used [-Wunused-variable]\n",
      " const double COIN_INT_MAX_AS_DOUBLE = (std::numeric_limits<int>::max)();\n",
      "              ^\n"
     ]
    },
    {
     "name": "stdout",
     "output_type": "stream",
     "text": [
      "ar cru .libs/libCglZeroHalf.a .libs/CglZeroHalf.o .libs/Cgl012cut.o .libs/CglZeroHalfTest.o\n",
      "ranlib .libs/libCglZeroHalf.a\n",
      "creating libCglZeroHalf.la\n",
      "(cd .libs && rm -f libCglZeroHalf.la && ln -s ../libCglZeroHalf.la libCglZeroHalf.la)\n",
      "make[4]: Entering directory '/home/pedro/.julia/v0.5/Cbc/deps/src/Cbc-2.9.8/Cgl/src/CglZeroHalf'\n",
      "make[4]: Nothing to be done for 'install-exec-am'.\n",
      "test -z \"/home/pedro/.julia/v0.5/Cbc/deps/usr/include/coin\" || mkdir -p -- \"/home/pedro/.julia/v0.5/Cbc/deps/usr/include/coin\"\n",
      " /usr/bin/install -c -m 644 'CglZeroHalf.hpp' '/home/pedro/.julia/v0.5/Cbc/deps/usr/include/coin/CglZeroHalf.hpp'\n",
      " /usr/bin/install -c -m 644 'Cgl012cut.hpp' '/home/pedro/.julia/v0.5/Cbc/deps/usr/include/coin/Cgl012cut.hpp'\n",
      "make[4]: Leaving directory '/home/pedro/.julia/v0.5/Cbc/deps/src/Cbc-2.9.8/Cgl/src/CglZeroHalf'\n",
      "make[3]: Leaving directory '/home/pedro/.julia/v0.5/Cbc/deps/src/Cbc-2.9.8/Cgl/src/CglZeroHalf'\n",
      "make[3]: Entering directory '/home/pedro/.julia/v0.5/Cbc/deps/src/Cbc-2.9.8/Cgl/src'\n",
      "if /bin/bash ../../libtool --tag=CXX --mode=compile g++ -DHAVE_CONFIG_H -I. -I`echo .`  -I/home/pedro/.julia/v0.5/Cbc/deps/src/Cbc-2.9.8/CoinUtils/src -I/home/pedro/.julia/v0.5/Cbc/deps/src/Cbc-2.9.8/Osi/src/Osi -I/home/pedro/.julia/v0.5/Cbc/deps/src/Cbc-2.9.8/CoinUtils/src   -O3 -pipe -DNDEBUG -pedantic-errors -Wparentheses -Wreturn-type -Wcast-qual -Wall -Wpointer-arith -Wwrite-strings -Wconversion -Wno-unknown-pragmas -Wno-long-long   -DCGL_BUILD -MT CglCutGenerator.lo -MD -MP -MF \".deps/CglCutGenerator.Tpo\" -c -o CglCutGenerator.lo CglCutGenerator.cpp; \\\n",
      "then mv -f \".deps/CglCutGenerator.Tpo\" \".deps/CglCutGenerator.Plo\"; else rm -f \".deps/CglCutGenerator.Tpo\"; exit 1; fi\n"
     ]
    },
    {
     "name": "stderr",
     "output_type": "stream",
     "text": [
      "libtool: link: warning: `-version-info/-version-number' is ignored for convenience libraries\n",
      "ar: `u' modifier ignored since `D' is the default (see `U')\n"
     ]
    },
    {
     "name": "stdout",
     "output_type": "stream",
     "text": [
      "mkdir .libs\n",
      " g++ -DHAVE_CONFIG_H -I. -I. -I/home/pedro/.julia/v0.5/Cbc/deps/src/Cbc-2.9.8/CoinUtils/src -I/home/pedro/.julia/v0.5/Cbc/deps/src/Cbc-2.9.8/Osi/src/Osi -I/home/pedro/.julia/v0.5/Cbc/deps/src/Cbc-2.9.8/CoinUtils/src -O3 -pipe -DNDEBUG -pedantic-errors -Wparentheses -Wreturn-type -Wcast-qual -Wall -Wpointer-arith -Wwrite-strings -Wconversion -Wno-unknown-pragmas -Wno-long-long -DCGL_BUILD -MT CglCutGenerator.lo -MD -MP -MF .deps/CglCutGenerator.Tpo -c CglCutGenerator.cpp  -fPIC -DPIC -o .libs/CglCutGenerator.o\n",
      "if /bin/bash ../../libtool --tag=CXX --mode=compile g++ -DHAVE_CONFIG_H -I. -I`echo .`  -I/home/pedro/.julia/v0.5/Cbc/deps/src/Cbc-2.9.8/CoinUtils/src -I/home/pedro/.julia/v0.5/Cbc/deps/src/Cbc-2.9.8/Osi/src/Osi -I/home/pedro/.julia/v0.5/Cbc/deps/src/Cbc-2.9.8/CoinUtils/src   -O3 -pipe -DNDEBUG -pedantic-errors -Wparentheses -Wreturn-type -Wcast-qual -Wall -Wpointer-arith -Wwrite-strings -Wconversion -Wno-unknown-pragmas -Wno-long-long   -DCGL_BUILD -MT CglMessage.lo -MD -MP -MF \".deps/CglMessage.Tpo\" -c -o CglMessage.lo CglMessage.cpp; \\\n",
      "then mv -f \".deps/CglMessage.Tpo\" \".deps/CglMessage.Plo\"; else rm -f \".deps/CglMessage.Tpo\"; exit 1; fi\n"
     ]
    },
    {
     "name": "stderr",
     "output_type": "stream",
     "text": [
      "In file included from /home/pedro/.julia/v0.5/Cbc/deps/src/Cbc-2.9.8/Osi/src/Osi/OsiSolverInterface.hpp:17:0,\n",
      "                 from /home/pedro/.julia/v0.5/Cbc/deps/src/Cbc-2.9.8/Osi/src/Osi/OsiCut.hpp:9,\n",
      "                 from /home/pedro/.julia/v0.5/Cbc/deps/src/Cbc-2.9.8/Osi/src/Osi/OsiRowCut.hpp:11,\n",
      "                 from /home/pedro/.julia/v0.5/Cbc/deps/src/Cbc-2.9.8/Osi/src/Osi/OsiCuts.hpp:13,\n",
      "                 from CglCutGenerator.hpp:8,\n",
      "                 from CglCutGenerator.cpp:12:\n",
      "/home/pedro/.julia/v0.5/Cbc/deps/src/Cbc-2.9.8/CoinUtils/src/CoinFinite.hpp:18:14: warning: ‘COIN_DBL_MAX’ defined but not used [-Wunused-variable]\n",
      " const double COIN_DBL_MAX = (std::numeric_limits<double>::max)();\n",
      "              ^\n",
      "/home/pedro/.julia/v0.5/Cbc/deps/src/Cbc-2.9.8/CoinUtils/src/CoinFinite.hpp:20:14: warning: ‘COIN_INT_MAX_AS_DOUBLE’ defined but not used [-Wunused-variable]\n",
      " const double COIN_INT_MAX_AS_DOUBLE = (std::numeric_limits<int>::max)();\n",
      "              ^\n"
     ]
    },
    {
     "name": "stdout",
     "output_type": "stream",
     "text": [
      " g++ -DHAVE_CONFIG_H -I. -I. -I/home/pedro/.julia/v0.5/Cbc/deps/src/Cbc-2.9.8/CoinUtils/src -I/home/pedro/.julia/v0.5/Cbc/deps/src/Cbc-2.9.8/Osi/src/Osi -I/home/pedro/.julia/v0.5/Cbc/deps/src/Cbc-2.9.8/CoinUtils/src -O3 -pipe -DNDEBUG -pedantic-errors -Wparentheses -Wreturn-type -Wcast-qual -Wall -Wpointer-arith -Wwrite-strings -Wconversion -Wno-unknown-pragmas -Wno-long-long -DCGL_BUILD -MT CglMessage.lo -MD -MP -MF .deps/CglMessage.Tpo -c CglMessage.cpp  -fPIC -DPIC -o .libs/CglMessage.o\n",
      "if /bin/bash ../../libtool --tag=CXX --mode=compile g++ -DHAVE_CONFIG_H -I. -I`echo .`  -I/home/pedro/.julia/v0.5/Cbc/deps/src/Cbc-2.9.8/CoinUtils/src -I/home/pedro/.julia/v0.5/Cbc/deps/src/Cbc-2.9.8/Osi/src/Osi -I/home/pedro/.julia/v0.5/Cbc/deps/src/Cbc-2.9.8/CoinUtils/src   -O3 -pipe -DNDEBUG -pedantic-errors -Wparentheses -Wreturn-type -Wcast-qual -Wall -Wpointer-arith -Wwrite-strings -Wconversion -Wno-unknown-pragmas -Wno-long-long   -DCGL_BUILD -MT CglStored.lo -MD -MP -MF \".deps/CglStored.Tpo\" -c -o CglStored.lo CglStored.cpp; \\\n",
      "then mv -f \".deps/CglStored.Tpo\" \".deps/CglStored.Plo\"; else rm -f \".deps/CglStored.Tpo\"; exit 1; fi\n",
      " g++ -DHAVE_CONFIG_H -I. -I. -I/home/pedro/.julia/v0.5/Cbc/deps/src/Cbc-2.9.8/CoinUtils/src -I/home/pedro/.julia/v0.5/Cbc/deps/src/Cbc-2.9.8/Osi/src/Osi -I/home/pedro/.julia/v0.5/Cbc/deps/src/Cbc-2.9.8/CoinUtils/src -O3 -pipe -DNDEBUG -pedantic-errors -Wparentheses -Wreturn-type -Wcast-qual -Wall -Wpointer-arith -Wwrite-strings -Wconversion -Wno-unknown-pragmas -Wno-long-long -DCGL_BUILD -MT CglStored.lo -MD -MP -MF .deps/CglStored.Tpo -c CglStored.cpp  -fPIC -DPIC -o .libs/CglStored.o\n"
     ]
    },
    {
     "name": "stderr",
     "output_type": "stream",
     "text": [
      "CglStored.cpp: In constructor ‘CglStored::CglStored(const char*)’:\n",
      "CglStored.cpp:293:33: warning: ignoring return value of ‘size_t fread(void*, size_t, size_t, FILE*)’, declared with attribute warn_unused_result [-Wunused-result]\n",
      "       fread(&n,sizeof(int),1,fp);\n",
      "                                 ^\n",
      "CglStored.cpp:308:37: warning: ignoring return value of ‘size_t fread(void*, size_t, size_t, FILE*)’, declared with attribute warn_unused_result [-Wunused-result]\n",
      "       fread(rhs,sizeof(double),2,fp);\n",
      "                                     ^\n",
      "CglStored.cpp:310:36: warning: ignoring return value of ‘size_t fread(void*, size_t, size_t, FILE*)’, declared with attribute warn_unused_result [-Wunused-result]\n",
      "       fread(index,sizeof(int),n,fp);\n",
      "                                    ^\n",
      "CglStored.cpp:311:45: warning: ignoring return value of ‘size_t fread(void*, size_t, size_t, FILE*)’, declared with attribute warn_unused_result [-Wunused-result]\n",
      "       fread(coefficient,sizeof(double),n,fp);\n",
      "                                             ^\n"
     ]
    },
    {
     "name": "stdout",
     "output_type": "stream",
     "text": [
      "if /bin/bash ../../libtool --tag=CXX --mode=compile g++ -DHAVE_CONFIG_H -I. -I`echo .`  -I/home/pedro/.julia/v0.5/Cbc/deps/src/Cbc-2.9.8/CoinUtils/src -I/home/pedro/.julia/v0.5/Cbc/deps/src/Cbc-2.9.8/Osi/src/Osi -I/home/pedro/.julia/v0.5/Cbc/deps/src/Cbc-2.9.8/CoinUtils/src   -O3 -pipe -DNDEBUG -pedantic-errors -Wparentheses -Wreturn-type -Wcast-qual -Wall -Wpointer-arith -Wwrite-strings -Wconversion -Wno-unknown-pragmas -Wno-long-long   -DCGL_BUILD -MT CglParam.lo -MD -MP -MF \".deps/CglParam.Tpo\" -c -o CglParam.lo CglParam.cpp; \\\n",
      "then mv -f \".deps/CglParam.Tpo\" \".deps/CglParam.Plo\"; else rm -f \".deps/CglParam.Tpo\"; exit 1; fi\n"
     ]
    },
    {
     "name": "stderr",
     "output_type": "stream",
     "text": [
      "In file included from /home/pedro/.julia/v0.5/Cbc/deps/src/Cbc-2.9.8/Osi/src/Osi/OsiSolverInterface.hpp:17:0,\n",
      "                 from /home/pedro/.julia/v0.5/Cbc/deps/src/Cbc-2.9.8/Osi/src/Osi/OsiCut.hpp:9,\n",
      "                 from /home/pedro/.julia/v0.5/Cbc/deps/src/Cbc-2.9.8/Osi/src/Osi/OsiRowCut.hpp:11,\n",
      "                 from /home/pedro/.julia/v0.5/Cbc/deps/src/Cbc-2.9.8/Osi/src/Osi/OsiCuts.hpp:13,\n",
      "                 from /home/pedro/.julia/v0.5/Cbc/deps/src/Cbc-2.9.8/Osi/src/Osi/OsiRowCutDebugger.hpp:16,\n",
      "                 from CglStored.cpp:15:\n",
      "/home/pedro/.julia/v0.5/Cbc/deps/src/Cbc-2.9.8/CoinUtils/src/CoinFinite.hpp: At global scope:\n",
      "/home/pedro/.julia/v0.5/Cbc/deps/src/Cbc-2.9.8/CoinUtils/src/CoinFinite.hpp:20:14: warning: ‘COIN_INT_MAX_AS_DOUBLE’ defined but not used [-Wunused-variable]\n",
      " const double COIN_INT_MAX_AS_DOUBLE = (std::numeric_limits<int>::max)();\n",
      "              ^\n"
     ]
    },
    {
     "name": "stdout",
     "output_type": "stream",
     "text": [
      " g++ -DHAVE_CONFIG_H -I. -I. -I/home/pedro/.julia/v0.5/Cbc/deps/src/Cbc-2.9.8/CoinUtils/src -I/home/pedro/.julia/v0.5/Cbc/deps/src/Cbc-2.9.8/Osi/src/Osi -I/home/pedro/.julia/v0.5/Cbc/deps/src/Cbc-2.9.8/CoinUtils/src -O3 -pipe -DNDEBUG -pedantic-errors -Wparentheses -Wreturn-type -Wcast-qual -Wall -Wpointer-arith -Wwrite-strings -Wconversion -Wno-unknown-pragmas -Wno-long-long -DCGL_BUILD -MT CglParam.lo -MD -MP -MF .deps/CglParam.Tpo -c CglParam.cpp  -fPIC -DPIC -o .libs/CglParam.o\n",
      "if /bin/bash ../../libtool --tag=CXX --mode=compile g++ -DHAVE_CONFIG_H -I. -I`echo .`  -I/home/pedro/.julia/v0.5/Cbc/deps/src/Cbc-2.9.8/CoinUtils/src -I/home/pedro/.julia/v0.5/Cbc/deps/src/Cbc-2.9.8/Osi/src/Osi -I/home/pedro/.julia/v0.5/Cbc/deps/src/Cbc-2.9.8/CoinUtils/src   -O3 -pipe -DNDEBUG -pedantic-errors -Wparentheses -Wreturn-type -Wcast-qual -Wall -Wpointer-arith -Wwrite-strings -Wconversion -Wno-unknown-pragmas -Wno-long-long   -DCGL_BUILD -MT CglTreeInfo.lo -MD -MP -MF \".deps/CglTreeInfo.Tpo\" -c -o CglTreeInfo.lo CglTreeInfo.cpp; \\\n",
      "then mv -f \".deps/CglTreeInfo.Tpo\" \".deps/CglTreeInfo.Plo\"; else rm -f \".deps/CglTreeInfo.Tpo\"; exit 1; fi\n"
     ]
    },
    {
     "name": "stderr",
     "output_type": "stream",
     "text": [
      "In file included from CglParam.hpp:17:0,\n",
      "                 from CglParam.cpp:19:\n",
      "/home/pedro/.julia/v0.5/Cbc/deps/src/Cbc-2.9.8/CoinUtils/src/CoinFinite.hpp:17:14: warning: ‘COIN_DBL_MIN’ defined but not used [-Wunused-variable]\n",
      " const double COIN_DBL_MIN = (std::numeric_limits<double>::min)();\n",
      "              ^\n",
      "/home/pedro/.julia/v0.5/Cbc/deps/src/Cbc-2.9.8/CoinUtils/src/CoinFinite.hpp:20:14: warning: ‘COIN_INT_MAX_AS_DOUBLE’ defined but not used [-Wunused-variable]\n",
      " const double COIN_INT_MAX_AS_DOUBLE = (std::numeric_limits<int>::max)();\n",
      "              ^\n"
     ]
    },
    {
     "name": "stdout",
     "output_type": "stream",
     "text": [
      " g++ -DHAVE_CONFIG_H -I. -I. -I/home/pedro/.julia/v0.5/Cbc/deps/src/Cbc-2.9.8/CoinUtils/src -I/home/pedro/.julia/v0.5/Cbc/deps/src/Cbc-2.9.8/Osi/src/Osi -I/home/pedro/.julia/v0.5/Cbc/deps/src/Cbc-2.9.8/CoinUtils/src -O3 -pipe -DNDEBUG -pedantic-errors -Wparentheses -Wreturn-type -Wcast-qual -Wall -Wpointer-arith -Wwrite-strings -Wconversion -Wno-unknown-pragmas -Wno-long-long -DCGL_BUILD -MT CglTreeInfo.lo -MD -MP -MF .deps/CglTreeInfo.Tpo -c CglTreeInfo.cpp  -fPIC -DPIC -o .libs/CglTreeInfo.o\n",
      "/bin/bash ../../libtool --tag=CXX --mode=link g++  -O3 -pipe -DNDEBUG -pedantic-errors -Wparentheses -Wreturn-type -Wcast-qual -Wall -Wpointer-arith -Wwrite-strings -Wconversion -Wno-unknown-pragmas -Wno-long-long   -DCGL_BUILD   -o libCgl.la -rpath /home/pedro/.julia/v0.5/Cbc/deps/usr/lib -no-undefined -version-info 10:9:9 CglCutGenerator.lo CglMessage.lo CglStored.lo CglParam.lo CglTreeInfo.lo CglAllDifferent/libCglAllDifferent.la CglClique/libCglClique.la CglDuplicateRow/libCglDuplicateRow.la CglFlowCover/libCglFlowCover.la CglGMI/libCglGMI.la CglGomory/libCglGomory.la CglKnapsackCover/libCglKnapsackCover.la CglLandP/libCglLandP.la CglLiftAndProject/libCglLiftAndProject.la CglMixedIntegerRounding/libCglMixedIntegerRounding.la CglMixedIntegerRounding2/libCglMixedIntegerRounding2.la CglOddHole/libCglOddHole.la CglPreProcess/libCglPreProcess.la CglProbing/libCglProbing.la CglRedSplit/libCglRedSplit.la CglRedSplit2/libCglRedSplit2.la CglResidualCapacity/libCglResidualCapacity.la CglSimpleRounding/libCglSimpleRounding.la CglTwomir/libCglTwomir.la CglZeroHalf/libCglZeroHalf.la /home/pedro/.julia/v0.5/Cbc/deps/src/Cbc-2.9.8/Clp/src/OsiClp/libOsiClp.la /home/pedro/.julia/v0.5/Cbc/deps/src/Cbc-2.9.8/Clp/src/libClpSolver.la /home/pedro/.julia/v0.5/Cbc/deps/src/Cbc-2.9.8/Clp/src/libClp.la /home/pedro/.julia/v0.5/Cbc/deps/src/Cbc-2.9.8/Osi/src/Osi/libOsi.la /home/pedro/.julia/v0.5/Cbc/deps/src/Cbc-2.9.8/CoinUtils/src/libCoinUtils.la -lm /home/pedro/.julia/v0.5/Cbc/deps/src/Cbc-2.9.8/Osi/src/Osi/libOsi.la /home/pedro/.julia/v0.5/Cbc/deps/src/Cbc-2.9.8/CoinUtils/src/libCoinUtils.la -lm /home/pedro/.julia/v0.5/Cbc/deps/src/Cbc-2.9.8/CoinUtils/src/libCoinUtils.la -lm  \n"
     ]
    },
    {
     "name": "stderr",
     "output_type": "stream",
     "text": [
      "In file included from /home/pedro/.julia/v0.5/Cbc/deps/src/Cbc-2.9.8/Osi/src/Osi/OsiSolverInterface.hpp:17:0,\n",
      "                 from /home/pedro/.julia/v0.5/Cbc/deps/src/Cbc-2.9.8/Osi/src/Osi/OsiCut.hpp:9,\n",
      "                 from /home/pedro/.julia/v0.5/Cbc/deps/src/Cbc-2.9.8/Osi/src/Osi/OsiRowCut.hpp:11,\n",
      "                 from /home/pedro/.julia/v0.5/Cbc/deps/src/Cbc-2.9.8/Osi/src/Osi/OsiCuts.hpp:13,\n",
      "                 from CglTreeInfo.hpp:9,\n",
      "                 from CglTreeInfo.cpp:14:\n",
      "/home/pedro/.julia/v0.5/Cbc/deps/src/Cbc-2.9.8/CoinUtils/src/CoinFinite.hpp:20:14: warning: ‘COIN_INT_MAX_AS_DOUBLE’ defined but not used [-Wunused-variable]\n",
      " const double COIN_INT_MAX_AS_DOUBLE = (std::numeric_limits<int>::max)();\n",
      "              ^\n"
     ]
    },
    {
     "name": "stdout",
     "output_type": "stream",
     "text": [
      "g++ -shared -nostdlib /usr/lib/gcc/x86_64-linux-gnu/5/../../../x86_64-linux-gnu/crti.o /usr/lib/gcc/x86_64-linux-gnu/5/crtbeginS.o  .libs/CglCutGenerator.o .libs/CglMessage.o .libs/CglStored.o .libs/CglParam.o .libs/CglTreeInfo.o -Wl,--whole-archive CglAllDifferent/.libs/libCglAllDifferent.a CglClique/.libs/libCglClique.a CglDuplicateRow/.libs/libCglDuplicateRow.a CglFlowCover/.libs/libCglFlowCover.a CglGMI/.libs/libCglGMI.a CglGomory/.libs/libCglGomory.a CglKnapsackCover/.libs/libCglKnapsackCover.a CglLandP/.libs/libCglLandP.a CglLiftAndProject/.libs/libCglLiftAndProject.a CglMixedIntegerRounding/.libs/libCglMixedIntegerRounding.a CglMixedIntegerRounding2/.libs/libCglMixedIntegerRounding2.a CglOddHole/.libs/libCglOddHole.a CglPreProcess/.libs/libCglPreProcess.a CglProbing/.libs/libCglProbing.a CglRedSplit/.libs/libCglRedSplit.a CglRedSplit2/.libs/libCglRedSplit2.a CglResidualCapacity/.libs/libCglResidualCapacity.a CglSimpleRounding/.libs/libCglSimpleRounding.a CglTwomir/.libs/libCglTwomir.a CglZeroHalf/.libs/libCglZeroHalf.a -Wl,--no-whole-archive  -Wl,--rpath -Wl,/home/pedro/.julia/v0.5/Cbc/deps/src/Cbc-2.9.8/Clp/src/OsiClp/.libs -Wl,--rpath -Wl,/home/pedro/.julia/v0.5/Cbc/deps/src/Cbc-2.9.8/Clp/src/.libs -Wl,--rpath -Wl,/home/pedro/.julia/v0.5/Cbc/deps/src/Cbc-2.9.8/Osi/src/Osi/.libs -Wl,--rpath -Wl,/home/pedro/.julia/v0.5/Cbc/deps/src/Cbc-2.9.8/CoinUtils/src/.libs -Wl,--rpath -Wl,/home/pedro/.julia/v0.5/Cbc/deps/usr/lib -L/home/pedro/.julia/v0.5/Cbc/deps/src/Cbc-2.9.8/Clp/src/.libs -L/home/pedro/.julia/v0.5/Cbc/deps/src/Cbc-2.9.8/Osi/src/Osi/.libs -L/home/pedro/.julia/v0.5/Cbc/deps/src/Cbc-2.9.8/CoinUtils/src/.libs /home/pedro/.julia/v0.5/Cbc/deps/src/Cbc-2.9.8/Clp/src/OsiClp/.libs/libOsiClp.so /home/pedro/.julia/v0.5/Cbc/deps/src/Cbc-2.9.8/Clp/src/.libs/libClpSolver.so /home/pedro/.julia/v0.5/Cbc/deps/src/Cbc-2.9.8/Clp/src/.libs/libClp.so /home/pedro/.julia/v0.5/Cbc/deps/src/Cbc-2.9.8/Osi/src/Osi/.libs/libOsi.so /home/pedro/.julia/v0.5/Cbc/deps/src/Cbc-2.9.8/CoinUtils/src/.libs/libCoinUtils.so -L/usr/lib/gcc/x86_64-linux-gnu/5 -L/usr/lib/gcc/x86_64-linux-gnu/5/../../../x86_64-linux-gnu -L/usr/lib/gcc/x86_64-linux-gnu/5/../../../../lib -L/lib/x86_64-linux-gnu -L/lib/../lib -L/usr/lib/x86_64-linux-gnu -L/usr/lib/../lib -L/usr/lib/gcc/x86_64-linux-gnu/5/../../.. -lstdc++ -lm -lc -lgcc_s /usr/lib/gcc/x86_64-linux-gnu/5/crtendS.o /usr/lib/gcc/x86_64-linux-gnu/5/../../../x86_64-linux-gnu/crtn.o  -Wl,-soname -Wl,libCgl.so.1 -o .libs/libCgl.so.1.9.9\n",
      "(cd .libs && rm -f libCgl.so.1 && ln -s libCgl.so.1.9.9 libCgl.so.1)\n",
      "(cd .libs && rm -f libCgl.so && ln -s libCgl.so.1.9.9 libCgl.so)\n",
      "creating libCgl.la\n",
      "(cd .libs && rm -f libCgl.la && ln -s ../libCgl.la libCgl.la)\n",
      "make[4]: Entering directory '/home/pedro/.julia/v0.5/Cbc/deps/src/Cbc-2.9.8/Cgl/src'\n",
      "/home/pedro/.julia/v0.5/Cbc/deps/src/Cbc-2.9.8/Cgl/install-sh -c -m 644 config_cgl.h /home/pedro/.julia/v0.5/Cbc/deps/usr/include/coin/CglConfig.h\n",
      "test -z \"/home/pedro/.julia/v0.5/Cbc/deps/usr/lib\" || mkdir -p -- \"/home/pedro/.julia/v0.5/Cbc/deps/usr/lib\"\n",
      " /bin/bash ../../libtool --mode=install /usr/bin/install -c  'libCgl.la' '/home/pedro/.julia/v0.5/Cbc/deps/usr/lib/libCgl.la'\n",
      "(cd /home/pedro/.julia/v0.5/Cbc/deps/src/Cbc-2.9.8/Cgl/src; /bin/bash ../../libtool  --tag=CXX --mode=relink g++ -O3 -pipe -DNDEBUG -pedantic-errors -Wparentheses -Wreturn-type -Wcast-qual -Wall -Wpointer-arith -Wwrite-strings -Wconversion -Wno-unknown-pragmas -Wno-long-long -DCGL_BUILD -o libCgl.la -rpath /home/pedro/.julia/v0.5/Cbc/deps/usr/lib -no-undefined -version-info 10:9:9 CglCutGenerator.lo CglMessage.lo CglStored.lo CglParam.lo CglTreeInfo.lo CglAllDifferent/libCglAllDifferent.la CglClique/libCglClique.la CglDuplicateRow/libCglDuplicateRow.la CglFlowCover/libCglFlowCover.la CglGMI/libCglGMI.la CglGomory/libCglGomory.la CglKnapsackCover/libCglKnapsackCover.la CglLandP/libCglLandP.la CglLiftAndProject/libCglLiftAndProject.la CglMixedIntegerRounding/libCglMixedIntegerRounding.la CglMixedIntegerRounding2/libCglMixedIntegerRounding2.la CglOddHole/libCglOddHole.la CglPreProcess/libCglPreProcess.la CglProbing/libCglProbing.la CglRedSplit/libCglRedSplit.la CglRedSplit2/libCglRedSplit2.la CglResidualCapacity/libCglResidualCapacity.la CglSimpleRounding/libCglSimpleRounding.la CglTwomir/libCglTwomir.la CglZeroHalf/libCglZeroHalf.la /home/pedro/.julia/v0.5/Cbc/deps/src/Cbc-2.9.8/Clp/src/OsiClp/libOsiClp.la /home/pedro/.julia/v0.5/Cbc/deps/src/Cbc-2.9.8/Clp/src/libClpSolver.la /home/pedro/.julia/v0.5/Cbc/deps/src/Cbc-2.9.8/Clp/src/libClp.la /home/pedro/.julia/v0.5/Cbc/deps/src/Cbc-2.9.8/Osi/src/Osi/libOsi.la /home/pedro/.julia/v0.5/Cbc/deps/src/Cbc-2.9.8/CoinUtils/src/libCoinUtils.la -lm /home/pedro/.julia/v0.5/Cbc/deps/src/Cbc-2.9.8/Osi/src/Osi/libOsi.la /home/pedro/.julia/v0.5/Cbc/deps/src/Cbc-2.9.8/CoinUtils/src/libCoinUtils.la -lm /home/pedro/.julia/v0.5/Cbc/deps/src/Cbc-2.9.8/CoinUtils/src/libCoinUtils.la -lm )\n"
     ]
    },
    {
     "name": "stderr",
     "output_type": "stream",
     "text": [
      "libtool: install: warning: relinking `libCgl.la'\n"
     ]
    },
    {
     "name": "stdout",
     "output_type": "stream",
     "text": [
      "g++ -shared -nostdlib /usr/lib/gcc/x86_64-linux-gnu/5/../../../x86_64-linux-gnu/crti.o /usr/lib/gcc/x86_64-linux-gnu/5/crtbeginS.o  .libs/CglCutGenerator.o .libs/CglMessage.o .libs/CglStored.o .libs/CglParam.o .libs/CglTreeInfo.o -Wl,--whole-archive CglAllDifferent/.libs/libCglAllDifferent.a CglClique/.libs/libCglClique.a CglDuplicateRow/.libs/libCglDuplicateRow.a CglFlowCover/.libs/libCglFlowCover.a CglGMI/.libs/libCglGMI.a CglGomory/.libs/libCglGomory.a CglKnapsackCover/.libs/libCglKnapsackCover.a CglLandP/.libs/libCglLandP.a CglLiftAndProject/.libs/libCglLiftAndProject.a CglMixedIntegerRounding/.libs/libCglMixedIntegerRounding.a CglMixedIntegerRounding2/.libs/libCglMixedIntegerRounding2.a CglOddHole/.libs/libCglOddHole.a CglPreProcess/.libs/libCglPreProcess.a CglProbing/.libs/libCglProbing.a CglRedSplit/.libs/libCglRedSplit.a CglRedSplit2/.libs/libCglRedSplit2.a CglResidualCapacity/.libs/libCglResidualCapacity.a CglSimpleRounding/.libs/libCglSimpleRounding.a CglTwomir/.libs/libCglTwomir.a CglZeroHalf/.libs/libCglZeroHalf.a -Wl,--no-whole-archive  -Wl,--rpath -Wl,/home/pedro/.julia/v0.5/Cbc/deps/usr/lib -L/home/pedro/.julia/v0.5/Cbc/deps/src/Cbc-2.9.8/Clp/src/.libs -L/home/pedro/.julia/v0.5/Cbc/deps/src/Cbc-2.9.8/Osi/src/Osi/.libs -L/home/pedro/.julia/v0.5/Cbc/deps/src/Cbc-2.9.8/CoinUtils/src/.libs -L/home/pedro/.julia/v0.5/Cbc/deps/usr/lib -lOsiClp -lClpSolver -lClp -lOsi -lCoinUtils -L/usr/lib/gcc/x86_64-linux-gnu/5 -L/usr/lib/gcc/x86_64-linux-gnu/5/../../../x86_64-linux-gnu -L/usr/lib/gcc/x86_64-linux-gnu/5/../../../../lib -L/lib/x86_64-linux-gnu -L/lib/../lib -L/usr/lib/x86_64-linux-gnu -L/usr/lib/../lib -L/usr/lib/gcc/x86_64-linux-gnu/5/../../.. -lstdc++ -lm -lc -lgcc_s /usr/lib/gcc/x86_64-linux-gnu/5/crtendS.o /usr/lib/gcc/x86_64-linux-gnu/5/../../../x86_64-linux-gnu/crtn.o  -Wl,-soname -Wl,libCgl.so.1 -o .libs/libCgl.so.1.9.9\n",
      "/usr/bin/install -c .libs/libCgl.so.1.9.9T /home/pedro/.julia/v0.5/Cbc/deps/usr/lib/libCgl.so.1.9.9\n",
      "(cd /home/pedro/.julia/v0.5/Cbc/deps/usr/lib && { ln -s -f libCgl.so.1.9.9 libCgl.so.1 || { rm -f libCgl.so.1 && ln -s libCgl.so.1.9.9 libCgl.so.1; }; })\n",
      "(cd /home/pedro/.julia/v0.5/Cbc/deps/usr/lib && { ln -s -f libCgl.so.1.9.9 libCgl.so || { rm -f libCgl.so && ln -s libCgl.so.1.9.9 libCgl.so; }; })\n",
      "/usr/bin/install -c .libs/libCgl.lai /home/pedro/.julia/v0.5/Cbc/deps/usr/lib/libCgl.la\n",
      "PATH=\"$PATH:/sbin\" ldconfig -n /home/pedro/.julia/v0.5/Cbc/deps/usr/lib\n",
      "----------------------------------------------------------------------\n",
      "Libraries have been installed in:\n",
      "   /home/pedro/.julia/v0.5/Cbc/deps/usr/lib\n",
      "\n",
      "If you ever happen to want to link against installed libraries\n",
      "in a given directory, LIBDIR, you must either use libtool, and\n",
      "specify the full pathname of the library, or use the `-LLIBDIR'\n",
      "flag during linking and do at least one of the following:\n",
      "   - add LIBDIR to the `LD_LIBRARY_PATH' environment variable\n",
      "     during execution\n",
      "   - add LIBDIR to the `LD_RUN_PATH' environment variable\n",
      "     during linking\n",
      "   - use the `-Wl,--rpath -Wl,LIBDIR' linker flag\n",
      "   - have your system administrator add LIBDIR to `/etc/ld.so.conf'\n",
      "\n",
      "See any operating system documentation about shared libraries for\n",
      "more information, such as the ld(1) and ld.so(8) manual pages.\n",
      "----------------------------------------------------------------------\n",
      "test -z \"/home/pedro/.julia/v0.5/Cbc/deps/usr/include/coin\" || mkdir -p -- \"/home/pedro/.julia/v0.5/Cbc/deps/usr/include/coin\"\n",
      " /usr/bin/install -c -m 644 'CglCutGenerator.hpp' '/home/pedro/.julia/v0.5/Cbc/deps/usr/include/coin/CglCutGenerator.hpp'\n",
      " /usr/bin/install -c -m 644 'CglMessage.hpp' '/home/pedro/.julia/v0.5/Cbc/deps/usr/include/coin/CglMessage.hpp'\n",
      " /usr/bin/install -c -m 644 'CglStored.hpp' '/home/pedro/.julia/v0.5/Cbc/deps/usr/include/coin/CglStored.hpp'\n",
      " /usr/bin/install -c -m 644 'CglParam.hpp' '/home/pedro/.julia/v0.5/Cbc/deps/usr/include/coin/CglParam.hpp'\n",
      " /usr/bin/install -c -m 644 'CglTreeInfo.hpp' '/home/pedro/.julia/v0.5/Cbc/deps/usr/include/coin/CglTreeInfo.hpp'\n",
      "make[4]: Leaving directory '/home/pedro/.julia/v0.5/Cbc/deps/src/Cbc-2.9.8/Cgl/src'\n",
      "make[3]: Leaving directory '/home/pedro/.julia/v0.5/Cbc/deps/src/Cbc-2.9.8/Cgl/src'\n",
      "make[2]: Leaving directory '/home/pedro/.julia/v0.5/Cbc/deps/src/Cbc-2.9.8/Cgl/src'\n",
      "make[2]: Entering directory '/home/pedro/.julia/v0.5/Cbc/deps/src/Cbc-2.9.8/Cgl'\n",
      "make[3]: Entering directory '/home/pedro/.julia/v0.5/Cbc/deps/src/Cbc-2.9.8/Cgl'\n",
      "test -z \"/home/pedro/.julia/v0.5/Cbc/deps/usr/share/coin/doc/Cgl\" || mkdir -p -- \"/home/pedro/.julia/v0.5/Cbc/deps/usr/share/coin/doc/Cgl\"\n",
      "for file in README AUTHORS LICENSE ; do \\\n",
      "  if test -f \"$file\"; then dir=; else dir=\"./\"; fi; \\\n",
      "  if test -f \"$dir$file\"; then /usr/bin/install -c -m 644 \"$dir$file\" \"/home/pedro/.julia/v0.5/Cbc/deps/usr/share/coin/doc/Cgl/$file\"; fi; \\\n",
      "done \n",
      "test -z \"/home/pedro/.julia/v0.5/Cbc/deps/usr/lib/pkgconfig\" || mkdir -p -- \"/home/pedro/.julia/v0.5/Cbc/deps/usr/lib/pkgconfig\"\n",
      " /usr/bin/install -c -m 644 'cgl.pc' '/home/pedro/.julia/v0.5/Cbc/deps/usr/lib/pkgconfig/cgl.pc'\n",
      "make  install-data-hook\n",
      "make[4]: Entering directory '/home/pedro/.julia/v0.5/Cbc/deps/src/Cbc-2.9.8/Cgl'\n",
      "PKG_CONFIG_PATH=/home/pedro/.julia/v0.5/Cbc/deps/usr/lib64/pkgconfig:/home/pedro/.julia/v0.5/Cbc/deps/usr/lib/pkgconfig:/home/pedro/.julia/v0.5/Cbc/deps/usr/share/pkgconfig::/home/pedro/.julia/v0.5/Cbc/deps/usr/lib/pkgconfig \\\n",
      "pkg-config --libs cgl > /home/pedro/.julia/v0.5/Cbc/deps/usr/share/coin/doc/Cgl/cgl_addlibs.txt\n",
      "make[4]: Leaving directory '/home/pedro/.julia/v0.5/Cbc/deps/src/Cbc-2.9.8/Cgl'\n",
      "make[3]: Leaving directory '/home/pedro/.julia/v0.5/Cbc/deps/src/Cbc-2.9.8/Cgl'\n",
      "make[2]: Leaving directory '/home/pedro/.julia/v0.5/Cbc/deps/src/Cbc-2.9.8/Cgl'\n",
      "make[1]: Leaving directory '/home/pedro/.julia/v0.5/Cbc/deps/src/Cbc-2.9.8/Cgl'\n",
      "Making install in Cbc\n",
      "make[1]: Entering directory '/home/pedro/.julia/v0.5/Cbc/deps/src/Cbc-2.9.8/Cbc'\n",
      "Making install in src\n",
      "make[2]: Entering directory '/home/pedro/.julia/v0.5/Cbc/deps/src/Cbc-2.9.8/Cbc/src'\n",
      "if /bin/bash ../../libtool --tag=CXX --mode=compile g++ -DHAVE_CONFIG_H -I. -I`echo .` -I../src  -I/home/pedro/.julia/v0.5/Cbc/deps/src/Cbc-2.9.8/Cgl/src -I/home/pedro/.julia/v0.5/Cbc/deps/src/Cbc-2.9.8/Cgl/src/CglAllDifferent -I/home/pedro/.julia/v0.5/Cbc/deps/src/Cbc-2.9.8/Cgl/src/CglClique -I/home/pedro/.julia/v0.5/Cbc/deps/src/Cbc-2.9.8/Cgl/src/CglDuplicateRow -I/home/pedro/.julia/v0.5/Cbc/deps/src/Cbc-2.9.8/Cgl/src/CglFlowCover -I/home/pedro/.julia/v0.5/Cbc/deps/src/Cbc-2.9.8/Cgl/src/CglGMI -I/home/pedro/.julia/v0.5/Cbc/deps/src/Cbc-2.9.8/Cgl/src/CglGomory -I/home/pedro/.julia/v0.5/Cbc/deps/src/Cbc-2.9.8/Cgl/src/CglKnapsackCover -I/home/pedro/.julia/v0.5/Cbc/deps/src/Cbc-2.9.8/Cgl/src/CglLandP -I/home/pedro/.julia/v0.5/Cbc/deps/src/Cbc-2.9.8/Cgl/src/CglLiftAndProject -I/home/pedro/.julia/v0.5/Cbc/deps/src/Cbc-2.9.8/Cgl/src/CglMixedIntegerRounding -I/home/pedro/.julia/v0.5/Cbc/deps/src/Cbc-2.9.8/Cgl/src/CglMixedIntegerRounding2 -I/home/pedro/.julia/v0.5/Cbc/deps/src/Cbc-2.9.8/Cgl/src/CglOddHole -I/home/pedro/.julia/v0.5/Cbc/deps/src/Cbc-2.9.8/Cgl/src/CglPreProcess -I/home/pedro/.julia/v0.5/Cbc/deps/src/Cbc-2.9.8/Cgl/src/CglProbing -I/home/pedro/.julia/v0.5/Cbc/deps/src/Cbc-2.9.8/Cgl/src/CglRedSplit -I/home/pedro/.julia/v0.5/Cbc/deps/src/Cbc-2.9.8/Cgl/src/CglRedSplit2 -I/home/pedro/.julia/v0.5/Cbc/deps/src/Cbc-2.9.8/Cgl/src/CglResidualCapacity -I/home/pedro/.julia/v0.5/Cbc/deps/src/Cbc-2.9.8/Cgl/src/CglSimpleRounding -I/home/pedro/.julia/v0.5/Cbc/deps/src/Cbc-2.9.8/Cgl/src/CglTwomir -I/home/pedro/.julia/v0.5/Cbc/deps/src/Cbc-2.9.8/Cgl/src/CglZeroHalf -I/home/pedro/.julia/v0.5/Cbc/deps/src/Cbc-2.9.8/Cgl/src -I/home/pedro/.julia/v0.5/Cbc/deps/src/Cbc-2.9.8/Clp/src/OsiClp -I/home/pedro/.julia/v0.5/Cbc/deps/src/Cbc-2.9.8/Clp/src -I/home/pedro/.julia/v0.5/Cbc/deps/src/Cbc-2.9.8/Osi/src/Osi -I/home/pedro/.julia/v0.5/Cbc/deps/src/Cbc-2.9.8/CoinUtils/src -I/home/pedro/.julia/v0.5/Cbc/deps/src/Cbc-2.9.8/Clp/src/OsiClp -I/home/pedro/.julia/v0.5/Cbc/deps/src/Cbc-2.9.8/Clp/src -I/home/pedro/.julia/v0.5/Cbc/deps/src/Cbc-2.9.8/Osi/src/Osi -I/home/pedro/.julia/v0.5/Cbc/deps/src/Cbc-2.9.8/CoinUtils/src     -DCOIN_NO_CLP_MESSAGE -DUSE_CBCCONFIG   -O3 -pipe -DNDEBUG -pedantic-errors -Wparentheses -Wreturn-type -Wcast-qual -Wall -Wpointer-arith -Wwrite-strings -Wconversion -Wno-unknown-pragmas -Wno-long-long   -DCBC_BUILD -MT CbcBranchAllDifferent.lo -MD -MP -MF \".deps/CbcBranchAllDifferent.Tpo\" -c -o CbcBranchAllDifferent.lo CbcBranchAllDifferent.cpp; \\\n",
      "then mv -f \".deps/CbcBranchAllDifferent.Tpo\" \".deps/CbcBranchAllDifferent.Plo\"; else rm -f \".deps/CbcBranchAllDifferent.Tpo\"; exit 1; fi\n",
      "mkdir .libs\n",
      " g++ -DHAVE_CONFIG_H -I. -I. -I../src -I/home/pedro/.julia/v0.5/Cbc/deps/src/Cbc-2.9.8/Cgl/src -I/home/pedro/.julia/v0.5/Cbc/deps/src/Cbc-2.9.8/Cgl/src/CglAllDifferent -I/home/pedro/.julia/v0.5/Cbc/deps/src/Cbc-2.9.8/Cgl/src/CglClique -I/home/pedro/.julia/v0.5/Cbc/deps/src/Cbc-2.9.8/Cgl/src/CglDuplicateRow -I/home/pedro/.julia/v0.5/Cbc/deps/src/Cbc-2.9.8/Cgl/src/CglFlowCover -I/home/pedro/.julia/v0.5/Cbc/deps/src/Cbc-2.9.8/Cgl/src/CglGMI -I/home/pedro/.julia/v0.5/Cbc/deps/src/Cbc-2.9.8/Cgl/src/CglGomory -I/home/pedro/.julia/v0.5/Cbc/deps/src/Cbc-2.9.8/Cgl/src/CglKnapsackCover -I/home/pedro/.julia/v0.5/Cbc/deps/src/Cbc-2.9.8/Cgl/src/CglLandP -I/home/pedro/.julia/v0.5/Cbc/deps/src/Cbc-2.9.8/Cgl/src/CglLiftAndProject -I/home/pedro/.julia/v0.5/Cbc/deps/src/Cbc-2.9.8/Cgl/src/CglMixedIntegerRounding -I/home/pedro/.julia/v0.5/Cbc/deps/src/Cbc-2.9.8/Cgl/src/CglMixedIntegerRounding2 -I/home/pedro/.julia/v0.5/Cbc/deps/src/Cbc-2.9.8/Cgl/src/CglOddHole -I/home/pedro/.julia/v0.5/Cbc/deps/src/Cbc-2.9.8/Cgl/src/CglPreProcess -I/home/pedro/.julia/v0.5/Cbc/deps/src/Cbc-2.9.8/Cgl/src/CglProbing -I/home/pedro/.julia/v0.5/Cbc/deps/src/Cbc-2.9.8/Cgl/src/CglRedSplit -I/home/pedro/.julia/v0.5/Cbc/deps/src/Cbc-2.9.8/Cgl/src/CglRedSplit2 -I/home/pedro/.julia/v0.5/Cbc/deps/src/Cbc-2.9.8/Cgl/src/CglResidualCapacity -I/home/pedro/.julia/v0.5/Cbc/deps/src/Cbc-2.9.8/Cgl/src/CglSimpleRounding -I/home/pedro/.julia/v0.5/Cbc/deps/src/Cbc-2.9.8/Cgl/src/CglTwomir -I/home/pedro/.julia/v0.5/Cbc/deps/src/Cbc-2.9.8/Cgl/src/CglZeroHalf -I/home/pedro/.julia/v0.5/Cbc/deps/src/Cbc-2.9.8/Cgl/src -I/home/pedro/.julia/v0.5/Cbc/deps/src/Cbc-2.9.8/Clp/src/OsiClp -I/home/pedro/.julia/v0.5/Cbc/deps/src/Cbc-2.9.8/Clp/src -I/home/pedro/.julia/v0.5/Cbc/deps/src/Cbc-2.9.8/Osi/src/Osi -I/home/pedro/.julia/v0.5/Cbc/deps/src/Cbc-2.9.8/CoinUtils/src -I/home/pedro/.julia/v0.5/Cbc/deps/src/Cbc-2.9.8/Clp/src/OsiClp -I/home/pedro/.julia/v0.5/Cbc/deps/src/Cbc-2.9.8/Clp/src -I/home/pedro/.julia/v0.5/Cbc/deps/src/Cbc-2.9.8/Osi/src/Osi -I/home/pedro/.julia/v0.5/Cbc/deps/src/Cbc-2.9.8/CoinUtils/src -DCOIN_NO_CLP_MESSAGE -DUSE_CBCCONFIG -O3 -pipe -DNDEBUG -pedantic-errors -Wparentheses -Wreturn-type -Wcast-qual -Wall -Wpointer-arith -Wwrite-strings -Wconversion -Wno-unknown-pragmas -Wno-long-long -DCBC_BUILD -MT CbcBranchAllDifferent.lo -MD -MP -MF .deps/CbcBranchAllDifferent.Tpo -c CbcBranchAllDifferent.cpp  -fPIC -DPIC -o .libs/CbcBranchAllDifferent.o\n",
      "if /bin/bash ../../libtool --tag=CXX --mode=compile g++ -DHAVE_CONFIG_H -I. -I`echo .` -I../src  -I/home/pedro/.julia/v0.5/Cbc/deps/src/Cbc-2.9.8/Cgl/src -I/home/pedro/.julia/v0.5/Cbc/deps/src/Cbc-2.9.8/Cgl/src/CglAllDifferent -I/home/pedro/.julia/v0.5/Cbc/deps/src/Cbc-2.9.8/Cgl/src/CglClique -I/home/pedro/.julia/v0.5/Cbc/deps/src/Cbc-2.9.8/Cgl/src/CglDuplicateRow -I/home/pedro/.julia/v0.5/Cbc/deps/src/Cbc-2.9.8/Cgl/src/CglFlowCover -I/home/pedro/.julia/v0.5/Cbc/deps/src/Cbc-2.9.8/Cgl/src/CglGMI -I/home/pedro/.julia/v0.5/Cbc/deps/src/Cbc-2.9.8/Cgl/src/CglGomory -I/home/pedro/.julia/v0.5/Cbc/deps/src/Cbc-2.9.8/Cgl/src/CglKnapsackCover -I/home/pedro/.julia/v0.5/Cbc/deps/src/Cbc-2.9.8/Cgl/src/CglLandP -I/home/pedro/.julia/v0.5/Cbc/deps/src/Cbc-2.9.8/Cgl/src/CglLiftAndProject -I/home/pedro/.julia/v0.5/Cbc/deps/src/Cbc-2.9.8/Cgl/src/CglMixedIntegerRounding -I/home/pedro/.julia/v0.5/Cbc/deps/src/Cbc-2.9.8/Cgl/src/CglMixedIntegerRounding2 -I/home/pedro/.julia/v0.5/Cbc/deps/src/Cbc-2.9.8/Cgl/src/CglOddHole -I/home/pedro/.julia/v0.5/Cbc/deps/src/Cbc-2.9.8/Cgl/src/CglPreProcess -I/home/pedro/.julia/v0.5/Cbc/deps/src/Cbc-2.9.8/Cgl/src/CglProbing -I/home/pedro/.julia/v0.5/Cbc/deps/src/Cbc-2.9.8/Cgl/src/CglRedSplit -I/home/pedro/.julia/v0.5/Cbc/deps/src/Cbc-2.9.8/Cgl/src/CglRedSplit2 -I/home/pedro/.julia/v0.5/Cbc/deps/src/Cbc-2.9.8/Cgl/src/CglResidualCapacity -I/home/pedro/.julia/v0.5/Cbc/deps/src/Cbc-2.9.8/Cgl/src/CglSimpleRounding -I/home/pedro/.julia/v0.5/Cbc/deps/src/Cbc-2.9.8/Cgl/src/CglTwomir -I/home/pedro/.julia/v0.5/Cbc/deps/src/Cbc-2.9.8/Cgl/src/CglZeroHalf -I/home/pedro/.julia/v0.5/Cbc/deps/src/Cbc-2.9.8/Cgl/src -I/home/pedro/.julia/v0.5/Cbc/deps/src/Cbc-2.9.8/Clp/src/OsiClp -I/home/pedro/.julia/v0.5/Cbc/deps/src/Cbc-2.9.8/Clp/src -I/home/pedro/.julia/v0.5/Cbc/deps/src/Cbc-2.9.8/Osi/src/Osi -I/home/pedro/.julia/v0.5/Cbc/deps/src/Cbc-2.9.8/CoinUtils/src -I/home/pedro/.julia/v0.5/Cbc/deps/src/Cbc-2.9.8/Clp/src/OsiClp -I/home/pedro/.julia/v0.5/Cbc/deps/src/Cbc-2.9.8/Clp/src -I/home/pedro/.julia/v0.5/Cbc/deps/src/Cbc-2.9.8/Osi/src/Osi -I/home/pedro/.julia/v0.5/Cbc/deps/src/Cbc-2.9.8/CoinUtils/src     -DCOIN_NO_CLP_MESSAGE -DUSE_CBCCONFIG   -O3 -pipe -DNDEBUG -pedantic-errors -Wparentheses -Wreturn-type -Wcast-qual -Wall -Wpointer-arith -Wwrite-strings -Wconversion -Wno-unknown-pragmas -Wno-long-long   -DCBC_BUILD -MT CbcBranchCut.lo -MD -MP -MF \".deps/CbcBranchCut.Tpo\" -c -o CbcBranchCut.lo CbcBranchCut.cpp; \\\n",
      "then mv -f \".deps/CbcBranchCut.Tpo\" \".deps/CbcBranchCut.Plo\"; else rm -f \".deps/CbcBranchCut.Tpo\"; exit 1; fi\n"
     ]
    },
    {
     "name": "stderr",
     "output_type": "stream",
     "text": [
      "In file included from /home/pedro/.julia/v0.5/Cbc/deps/src/Cbc-2.9.8/Osi/src/Osi/OsiSolverInterface.hpp:17:0,\n",
      "                 from CbcBranchAllDifferent.cpp:18:\n",
      "/home/pedro/.julia/v0.5/Cbc/deps/src/Cbc-2.9.8/CoinUtils/src/CoinFinite.hpp:20:14: warning: ‘COIN_INT_MAX_AS_DOUBLE’ defined but not used [-Wunused-variable]\n",
      " const double COIN_INT_MAX_AS_DOUBLE = (std::numeric_limits<int>::max)();\n",
      "              ^\n"
     ]
    },
    {
     "name": "stdout",
     "output_type": "stream",
     "text": [
      " g++ -DHAVE_CONFIG_H -I. -I. -I../src -I/home/pedro/.julia/v0.5/Cbc/deps/src/Cbc-2.9.8/Cgl/src -I/home/pedro/.julia/v0.5/Cbc/deps/src/Cbc-2.9.8/Cgl/src/CglAllDifferent -I/home/pedro/.julia/v0.5/Cbc/deps/src/Cbc-2.9.8/Cgl/src/CglClique -I/home/pedro/.julia/v0.5/Cbc/deps/src/Cbc-2.9.8/Cgl/src/CglDuplicateRow -I/home/pedro/.julia/v0.5/Cbc/deps/src/Cbc-2.9.8/Cgl/src/CglFlowCover -I/home/pedro/.julia/v0.5/Cbc/deps/src/Cbc-2.9.8/Cgl/src/CglGMI -I/home/pedro/.julia/v0.5/Cbc/deps/src/Cbc-2.9.8/Cgl/src/CglGomory -I/home/pedro/.julia/v0.5/Cbc/deps/src/Cbc-2.9.8/Cgl/src/CglKnapsackCover -I/home/pedro/.julia/v0.5/Cbc/deps/src/Cbc-2.9.8/Cgl/src/CglLandP -I/home/pedro/.julia/v0.5/Cbc/deps/src/Cbc-2.9.8/Cgl/src/CglLiftAndProject -I/home/pedro/.julia/v0.5/Cbc/deps/src/Cbc-2.9.8/Cgl/src/CglMixedIntegerRounding -I/home/pedro/.julia/v0.5/Cbc/deps/src/Cbc-2.9.8/Cgl/src/CglMixedIntegerRounding2 -I/home/pedro/.julia/v0.5/Cbc/deps/src/Cbc-2.9.8/Cgl/src/CglOddHole -I/home/pedro/.julia/v0.5/Cbc/deps/src/Cbc-2.9.8/Cgl/src/CglPreProcess -I/home/pedro/.julia/v0.5/Cbc/deps/src/Cbc-2.9.8/Cgl/src/CglProbing -I/home/pedro/.julia/v0.5/Cbc/deps/src/Cbc-2.9.8/Cgl/src/CglRedSplit -I/home/pedro/.julia/v0.5/Cbc/deps/src/Cbc-2.9.8/Cgl/src/CglRedSplit2 -I/home/pedro/.julia/v0.5/Cbc/deps/src/Cbc-2.9.8/Cgl/src/CglResidualCapacity -I/home/pedro/.julia/v0.5/Cbc/deps/src/Cbc-2.9.8/Cgl/src/CglSimpleRounding -I/home/pedro/.julia/v0.5/Cbc/deps/src/Cbc-2.9.8/Cgl/src/CglTwomir -I/home/pedro/.julia/v0.5/Cbc/deps/src/Cbc-2.9.8/Cgl/src/CglZeroHalf -I/home/pedro/.julia/v0.5/Cbc/deps/src/Cbc-2.9.8/Cgl/src -I/home/pedro/.julia/v0.5/Cbc/deps/src/Cbc-2.9.8/Clp/src/OsiClp -I/home/pedro/.julia/v0.5/Cbc/deps/src/Cbc-2.9.8/Clp/src -I/home/pedro/.julia/v0.5/Cbc/deps/src/Cbc-2.9.8/Osi/src/Osi -I/home/pedro/.julia/v0.5/Cbc/deps/src/Cbc-2.9.8/CoinUtils/src -I/home/pedro/.julia/v0.5/Cbc/deps/src/Cbc-2.9.8/Clp/src/OsiClp -I/home/pedro/.julia/v0.5/Cbc/deps/src/Cbc-2.9.8/Clp/src -I/home/pedro/.julia/v0.5/Cbc/deps/src/Cbc-2.9.8/Osi/src/Osi -I/home/pedro/.julia/v0.5/Cbc/deps/src/Cbc-2.9.8/CoinUtils/src -DCOIN_NO_CLP_MESSAGE -DUSE_CBCCONFIG -O3 -pipe -DNDEBUG -pedantic-errors -Wparentheses -Wreturn-type -Wcast-qual -Wall -Wpointer-arith -Wwrite-strings -Wconversion -Wno-unknown-pragmas -Wno-long-long -DCBC_BUILD -MT CbcBranchCut.lo -MD -MP -MF .deps/CbcBranchCut.Tpo -c CbcBranchCut.cpp  -fPIC -DPIC -o .libs/CbcBranchCut.o\n",
      "if /bin/bash ../../libtool --tag=CXX --mode=compile g++ -DHAVE_CONFIG_H -I. -I`echo .` -I../src  -I/home/pedro/.julia/v0.5/Cbc/deps/src/Cbc-2.9.8/Cgl/src -I/home/pedro/.julia/v0.5/Cbc/deps/src/Cbc-2.9.8/Cgl/src/CglAllDifferent -I/home/pedro/.julia/v0.5/Cbc/deps/src/Cbc-2.9.8/Cgl/src/CglClique -I/home/pedro/.julia/v0.5/Cbc/deps/src/Cbc-2.9.8/Cgl/src/CglDuplicateRow -I/home/pedro/.julia/v0.5/Cbc/deps/src/Cbc-2.9.8/Cgl/src/CglFlowCover -I/home/pedro/.julia/v0.5/Cbc/deps/src/Cbc-2.9.8/Cgl/src/CglGMI -I/home/pedro/.julia/v0.5/Cbc/deps/src/Cbc-2.9.8/Cgl/src/CglGomory -I/home/pedro/.julia/v0.5/Cbc/deps/src/Cbc-2.9.8/Cgl/src/CglKnapsackCover -I/home/pedro/.julia/v0.5/Cbc/deps/src/Cbc-2.9.8/Cgl/src/CglLandP -I/home/pedro/.julia/v0.5/Cbc/deps/src/Cbc-2.9.8/Cgl/src/CglLiftAndProject -I/home/pedro/.julia/v0.5/Cbc/deps/src/Cbc-2.9.8/Cgl/src/CglMixedIntegerRounding -I/home/pedro/.julia/v0.5/Cbc/deps/src/Cbc-2.9.8/Cgl/src/CglMixedIntegerRounding2 -I/home/pedro/.julia/v0.5/Cbc/deps/src/Cbc-2.9.8/Cgl/src/CglOddHole -I/home/pedro/.julia/v0.5/Cbc/deps/src/Cbc-2.9.8/Cgl/src/CglPreProcess -I/home/pedro/.julia/v0.5/Cbc/deps/src/Cbc-2.9.8/Cgl/src/CglProbing -I/home/pedro/.julia/v0.5/Cbc/deps/src/Cbc-2.9.8/Cgl/src/CglRedSplit -I/home/pedro/.julia/v0.5/Cbc/deps/src/Cbc-2.9.8/Cgl/src/CglRedSplit2 -I/home/pedro/.julia/v0.5/Cbc/deps/src/Cbc-2.9.8/Cgl/src/CglResidualCapacity -I/home/pedro/.julia/v0.5/Cbc/deps/src/Cbc-2.9.8/Cgl/src/CglSimpleRounding -I/home/pedro/.julia/v0.5/Cbc/deps/src/Cbc-2.9.8/Cgl/src/CglTwomir -I/home/pedro/.julia/v0.5/Cbc/deps/src/Cbc-2.9.8/Cgl/src/CglZeroHalf -I/home/pedro/.julia/v0.5/Cbc/deps/src/Cbc-2.9.8/Cgl/src -I/home/pedro/.julia/v0.5/Cbc/deps/src/Cbc-2.9.8/Clp/src/OsiClp -I/home/pedro/.julia/v0.5/Cbc/deps/src/Cbc-2.9.8/Clp/src -I/home/pedro/.julia/v0.5/Cbc/deps/src/Cbc-2.9.8/Osi/src/Osi -I/home/pedro/.julia/v0.5/Cbc/deps/src/Cbc-2.9.8/CoinUtils/src -I/home/pedro/.julia/v0.5/Cbc/deps/src/Cbc-2.9.8/Clp/src/OsiClp -I/home/pedro/.julia/v0.5/Cbc/deps/src/Cbc-2.9.8/Clp/src -I/home/pedro/.julia/v0.5/Cbc/deps/src/Cbc-2.9.8/Osi/src/Osi -I/home/pedro/.julia/v0.5/Cbc/deps/src/Cbc-2.9.8/CoinUtils/src     -DCOIN_NO_CLP_MESSAGE -DUSE_CBCCONFIG   -O3 -pipe -DNDEBUG -pedantic-errors -Wparentheses -Wreturn-type -Wcast-qual -Wall -Wpointer-arith -Wwrite-strings -Wconversion -Wno-unknown-pragmas -Wno-long-long   -DCBC_BUILD -MT CbcBranchDecision.lo -MD -MP -MF \".deps/CbcBranchDecision.Tpo\" -c -o CbcBranchDecision.lo CbcBranchDecision.cpp; \\\n",
      "then mv -f \".deps/CbcBranchDecision.Tpo\" \".deps/CbcBranchDecision.Plo\"; else rm -f \".deps/CbcBranchDecision.Tpo\"; exit 1; fi\n"
     ]
    },
    {
     "name": "stderr",
     "output_type": "stream",
     "text": [
      "In file included from /home/pedro/.julia/v0.5/Cbc/deps/src/Cbc-2.9.8/Osi/src/Osi/OsiSolverInterface.hpp:17:0,\n",
      "                 from CbcBranchCut.cpp:16:\n",
      "/home/pedro/.julia/v0.5/Cbc/deps/src/Cbc-2.9.8/CoinUtils/src/CoinFinite.hpp:20:14: warning: ‘COIN_INT_MAX_AS_DOUBLE’ defined but not used [-Wunused-variable]\n",
      " const double COIN_INT_MAX_AS_DOUBLE = (std::numeric_limits<int>::max)();\n",
      "              ^\n"
     ]
    },
    {
     "name": "stdout",
     "output_type": "stream",
     "text": [
      " g++ -DHAVE_CONFIG_H -I. -I. -I../src -I/home/pedro/.julia/v0.5/Cbc/deps/src/Cbc-2.9.8/Cgl/src -I/home/pedro/.julia/v0.5/Cbc/deps/src/Cbc-2.9.8/Cgl/src/CglAllDifferent -I/home/pedro/.julia/v0.5/Cbc/deps/src/Cbc-2.9.8/Cgl/src/CglClique -I/home/pedro/.julia/v0.5/Cbc/deps/src/Cbc-2.9.8/Cgl/src/CglDuplicateRow -I/home/pedro/.julia/v0.5/Cbc/deps/src/Cbc-2.9.8/Cgl/src/CglFlowCover -I/home/pedro/.julia/v0.5/Cbc/deps/src/Cbc-2.9.8/Cgl/src/CglGMI -I/home/pedro/.julia/v0.5/Cbc/deps/src/Cbc-2.9.8/Cgl/src/CglGomory -I/home/pedro/.julia/v0.5/Cbc/deps/src/Cbc-2.9.8/Cgl/src/CglKnapsackCover -I/home/pedro/.julia/v0.5/Cbc/deps/src/Cbc-2.9.8/Cgl/src/CglLandP -I/home/pedro/.julia/v0.5/Cbc/deps/src/Cbc-2.9.8/Cgl/src/CglLiftAndProject -I/home/pedro/.julia/v0.5/Cbc/deps/src/Cbc-2.9.8/Cgl/src/CglMixedIntegerRounding -I/home/pedro/.julia/v0.5/Cbc/deps/src/Cbc-2.9.8/Cgl/src/CglMixedIntegerRounding2 -I/home/pedro/.julia/v0.5/Cbc/deps/src/Cbc-2.9.8/Cgl/src/CglOddHole -I/home/pedro/.julia/v0.5/Cbc/deps/src/Cbc-2.9.8/Cgl/src/CglPreProcess -I/home/pedro/.julia/v0.5/Cbc/deps/src/Cbc-2.9.8/Cgl/src/CglProbing -I/home/pedro/.julia/v0.5/Cbc/deps/src/Cbc-2.9.8/Cgl/src/CglRedSplit -I/home/pedro/.julia/v0.5/Cbc/deps/src/Cbc-2.9.8/Cgl/src/CglRedSplit2 -I/home/pedro/.julia/v0.5/Cbc/deps/src/Cbc-2.9.8/Cgl/src/CglResidualCapacity -I/home/pedro/.julia/v0.5/Cbc/deps/src/Cbc-2.9.8/Cgl/src/CglSimpleRounding -I/home/pedro/.julia/v0.5/Cbc/deps/src/Cbc-2.9.8/Cgl/src/CglTwomir -I/home/pedro/.julia/v0.5/Cbc/deps/src/Cbc-2.9.8/Cgl/src/CglZeroHalf -I/home/pedro/.julia/v0.5/Cbc/deps/src/Cbc-2.9.8/Cgl/src -I/home/pedro/.julia/v0.5/Cbc/deps/src/Cbc-2.9.8/Clp/src/OsiClp -I/home/pedro/.julia/v0.5/Cbc/deps/src/Cbc-2.9.8/Clp/src -I/home/pedro/.julia/v0.5/Cbc/deps/src/Cbc-2.9.8/Osi/src/Osi -I/home/pedro/.julia/v0.5/Cbc/deps/src/Cbc-2.9.8/CoinUtils/src -I/home/pedro/.julia/v0.5/Cbc/deps/src/Cbc-2.9.8/Clp/src/OsiClp -I/home/pedro/.julia/v0.5/Cbc/deps/src/Cbc-2.9.8/Clp/src -I/home/pedro/.julia/v0.5/Cbc/deps/src/Cbc-2.9.8/Osi/src/Osi -I/home/pedro/.julia/v0.5/Cbc/deps/src/Cbc-2.9.8/CoinUtils/src -DCOIN_NO_CLP_MESSAGE -DUSE_CBCCONFIG -O3 -pipe -DNDEBUG -pedantic-errors -Wparentheses -Wreturn-type -Wcast-qual -Wall -Wpointer-arith -Wwrite-strings -Wconversion -Wno-unknown-pragmas -Wno-long-long -DCBC_BUILD -MT CbcBranchDecision.lo -MD -MP -MF .deps/CbcBranchDecision.Tpo -c CbcBranchDecision.cpp  -fPIC -DPIC -o .libs/CbcBranchDecision.o\n"
     ]
    },
    {
     "name": "stderr",
     "output_type": "stream",
     "text": [
      "In file included from /home/pedro/.julia/v0.5/Cbc/deps/src/Cbc-2.9.8/Osi/src/Osi/OsiSolverInterface.hpp:17:0,\n",
      "                 from CbcBranchDecision.cpp:17:\n",
      "/home/pedro/.julia/v0.5/Cbc/deps/src/Cbc-2.9.8/CoinUtils/src/CoinFinite.hpp:20:14: warning: ‘COIN_INT_MAX_AS_DOUBLE’ defined but not used [-Wunused-variable]\n",
      " const double COIN_INT_MAX_AS_DOUBLE = (std::numeric_limits<int>::max)();\n",
      "              ^\n"
     ]
    },
    {
     "name": "stdout",
     "output_type": "stream",
     "text": [
      "if /bin/bash ../../libtool --tag=CXX --mode=compile g++ -DHAVE_CONFIG_H -I. -I`echo .` -I../src  -I/home/pedro/.julia/v0.5/Cbc/deps/src/Cbc-2.9.8/Cgl/src -I/home/pedro/.julia/v0.5/Cbc/deps/src/Cbc-2.9.8/Cgl/src/CglAllDifferent -I/home/pedro/.julia/v0.5/Cbc/deps/src/Cbc-2.9.8/Cgl/src/CglClique -I/home/pedro/.julia/v0.5/Cbc/deps/src/Cbc-2.9.8/Cgl/src/CglDuplicateRow -I/home/pedro/.julia/v0.5/Cbc/deps/src/Cbc-2.9.8/Cgl/src/CglFlowCover -I/home/pedro/.julia/v0.5/Cbc/deps/src/Cbc-2.9.8/Cgl/src/CglGMI -I/home/pedro/.julia/v0.5/Cbc/deps/src/Cbc-2.9.8/Cgl/src/CglGomory -I/home/pedro/.julia/v0.5/Cbc/deps/src/Cbc-2.9.8/Cgl/src/CglKnapsackCover -I/home/pedro/.julia/v0.5/Cbc/deps/src/Cbc-2.9.8/Cgl/src/CglLandP -I/home/pedro/.julia/v0.5/Cbc/deps/src/Cbc-2.9.8/Cgl/src/CglLiftAndProject -I/home/pedro/.julia/v0.5/Cbc/deps/src/Cbc-2.9.8/Cgl/src/CglMixedIntegerRounding -I/home/pedro/.julia/v0.5/Cbc/deps/src/Cbc-2.9.8/Cgl/src/CglMixedIntegerRounding2 -I/home/pedro/.julia/v0.5/Cbc/deps/src/Cbc-2.9.8/Cgl/src/CglOddHole -I/home/pedro/.julia/v0.5/Cbc/deps/src/Cbc-2.9.8/Cgl/src/CglPreProcess -I/home/pedro/.julia/v0.5/Cbc/deps/src/Cbc-2.9.8/Cgl/src/CglProbing -I/home/pedro/.julia/v0.5/Cbc/deps/src/Cbc-2.9.8/Cgl/src/CglRedSplit -I/home/pedro/.julia/v0.5/Cbc/deps/src/Cbc-2.9.8/Cgl/src/CglRedSplit2 -I/home/pedro/.julia/v0.5/Cbc/deps/src/Cbc-2.9.8/Cgl/src/CglResidualCapacity -I/home/pedro/.julia/v0.5/Cbc/deps/src/Cbc-2.9.8/Cgl/src/CglSimpleRounding -I/home/pedro/.julia/v0.5/Cbc/deps/src/Cbc-2.9.8/Cgl/src/CglTwomir -I/home/pedro/.julia/v0.5/Cbc/deps/src/Cbc-2.9.8/Cgl/src/CglZeroHalf -I/home/pedro/.julia/v0.5/Cbc/deps/src/Cbc-2.9.8/Cgl/src -I/home/pedro/.julia/v0.5/Cbc/deps/src/Cbc-2.9.8/Clp/src/OsiClp -I/home/pedro/.julia/v0.5/Cbc/deps/src/Cbc-2.9.8/Clp/src -I/home/pedro/.julia/v0.5/Cbc/deps/src/Cbc-2.9.8/Osi/src/Osi -I/home/pedro/.julia/v0.5/Cbc/deps/src/Cbc-2.9.8/CoinUtils/src -I/home/pedro/.julia/v0.5/Cbc/deps/src/Cbc-2.9.8/Clp/src/OsiClp -I/home/pedro/.julia/v0.5/Cbc/deps/src/Cbc-2.9.8/Clp/src -I/home/pedro/.julia/v0.5/Cbc/deps/src/Cbc-2.9.8/Osi/src/Osi -I/home/pedro/.julia/v0.5/Cbc/deps/src/Cbc-2.9.8/CoinUtils/src     -DCOIN_NO_CLP_MESSAGE -DUSE_CBCCONFIG   -O3 -pipe -DNDEBUG -pedantic-errors -Wparentheses -Wreturn-type -Wcast-qual -Wall -Wpointer-arith -Wwrite-strings -Wconversion -Wno-unknown-pragmas -Wno-long-long   -DCBC_BUILD -MT CbcBranchDefaultDecision.lo -MD -MP -MF \".deps/CbcBranchDefaultDecision.Tpo\" -c -o CbcBranchDefaultDecision.lo CbcBranchDefaultDecision.cpp; \\\n",
      "then mv -f \".deps/CbcBranchDefaultDecision.Tpo\" \".deps/CbcBranchDefaultDecision.Plo\"; else rm -f \".deps/CbcBranchDefaultDecision.Tpo\"; exit 1; fi\n",
      " g++ -DHAVE_CONFIG_H -I. -I. -I../src -I/home/pedro/.julia/v0.5/Cbc/deps/src/Cbc-2.9.8/Cgl/src -I/home/pedro/.julia/v0.5/Cbc/deps/src/Cbc-2.9.8/Cgl/src/CglAllDifferent -I/home/pedro/.julia/v0.5/Cbc/deps/src/Cbc-2.9.8/Cgl/src/CglClique -I/home/pedro/.julia/v0.5/Cbc/deps/src/Cbc-2.9.8/Cgl/src/CglDuplicateRow -I/home/pedro/.julia/v0.5/Cbc/deps/src/Cbc-2.9.8/Cgl/src/CglFlowCover -I/home/pedro/.julia/v0.5/Cbc/deps/src/Cbc-2.9.8/Cgl/src/CglGMI -I/home/pedro/.julia/v0.5/Cbc/deps/src/Cbc-2.9.8/Cgl/src/CglGomory -I/home/pedro/.julia/v0.5/Cbc/deps/src/Cbc-2.9.8/Cgl/src/CglKnapsackCover -I/home/pedro/.julia/v0.5/Cbc/deps/src/Cbc-2.9.8/Cgl/src/CglLandP -I/home/pedro/.julia/v0.5/Cbc/deps/src/Cbc-2.9.8/Cgl/src/CglLiftAndProject -I/home/pedro/.julia/v0.5/Cbc/deps/src/Cbc-2.9.8/Cgl/src/CglMixedIntegerRounding -I/home/pedro/.julia/v0.5/Cbc/deps/src/Cbc-2.9.8/Cgl/src/CglMixedIntegerRounding2 -I/home/pedro/.julia/v0.5/Cbc/deps/src/Cbc-2.9.8/Cgl/src/CglOddHole -I/home/pedro/.julia/v0.5/Cbc/deps/src/Cbc-2.9.8/Cgl/src/CglPreProcess -I/home/pedro/.julia/v0.5/Cbc/deps/src/Cbc-2.9.8/Cgl/src/CglProbing -I/home/pedro/.julia/v0.5/Cbc/deps/src/Cbc-2.9.8/Cgl/src/CglRedSplit -I/home/pedro/.julia/v0.5/Cbc/deps/src/Cbc-2.9.8/Cgl/src/CglRedSplit2 -I/home/pedro/.julia/v0.5/Cbc/deps/src/Cbc-2.9.8/Cgl/src/CglResidualCapacity -I/home/pedro/.julia/v0.5/Cbc/deps/src/Cbc-2.9.8/Cgl/src/CglSimpleRounding -I/home/pedro/.julia/v0.5/Cbc/deps/src/Cbc-2.9.8/Cgl/src/CglTwomir -I/home/pedro/.julia/v0.5/Cbc/deps/src/Cbc-2.9.8/Cgl/src/CglZeroHalf -I/home/pedro/.julia/v0.5/Cbc/deps/src/Cbc-2.9.8/Cgl/src -I/home/pedro/.julia/v0.5/Cbc/deps/src/Cbc-2.9.8/Clp/src/OsiClp -I/home/pedro/.julia/v0.5/Cbc/deps/src/Cbc-2.9.8/Clp/src -I/home/pedro/.julia/v0.5/Cbc/deps/src/Cbc-2.9.8/Osi/src/Osi -I/home/pedro/.julia/v0.5/Cbc/deps/src/Cbc-2.9.8/CoinUtils/src -I/home/pedro/.julia/v0.5/Cbc/deps/src/Cbc-2.9.8/Clp/src/OsiClp -I/home/pedro/.julia/v0.5/Cbc/deps/src/Cbc-2.9.8/Clp/src -I/home/pedro/.julia/v0.5/Cbc/deps/src/Cbc-2.9.8/Osi/src/Osi -I/home/pedro/.julia/v0.5/Cbc/deps/src/Cbc-2.9.8/CoinUtils/src -DCOIN_NO_CLP_MESSAGE -DUSE_CBCCONFIG -O3 -pipe -DNDEBUG -pedantic-errors -Wparentheses -Wreturn-type -Wcast-qual -Wall -Wpointer-arith -Wwrite-strings -Wconversion -Wno-unknown-pragmas -Wno-long-long -DCBC_BUILD -MT CbcBranchDefaultDecision.lo -MD -MP -MF .deps/CbcBranchDefaultDecision.Tpo -c CbcBranchDefaultDecision.cpp  -fPIC -DPIC -o .libs/CbcBranchDefaultDecision.o\n",
      "if /bin/bash ../../libtool --tag=CXX --mode=compile g++ -DHAVE_CONFIG_H -I. -I`echo .` -I../src  -I/home/pedro/.julia/v0.5/Cbc/deps/src/Cbc-2.9.8/Cgl/src -I/home/pedro/.julia/v0.5/Cbc/deps/src/Cbc-2.9.8/Cgl/src/CglAllDifferent -I/home/pedro/.julia/v0.5/Cbc/deps/src/Cbc-2.9.8/Cgl/src/CglClique -I/home/pedro/.julia/v0.5/Cbc/deps/src/Cbc-2.9.8/Cgl/src/CglDuplicateRow -I/home/pedro/.julia/v0.5/Cbc/deps/src/Cbc-2.9.8/Cgl/src/CglFlowCover -I/home/pedro/.julia/v0.5/Cbc/deps/src/Cbc-2.9.8/Cgl/src/CglGMI -I/home/pedro/.julia/v0.5/Cbc/deps/src/Cbc-2.9.8/Cgl/src/CglGomory -I/home/pedro/.julia/v0.5/Cbc/deps/src/Cbc-2.9.8/Cgl/src/CglKnapsackCover -I/home/pedro/.julia/v0.5/Cbc/deps/src/Cbc-2.9.8/Cgl/src/CglLandP -I/home/pedro/.julia/v0.5/Cbc/deps/src/Cbc-2.9.8/Cgl/src/CglLiftAndProject -I/home/pedro/.julia/v0.5/Cbc/deps/src/Cbc-2.9.8/Cgl/src/CglMixedIntegerRounding -I/home/pedro/.julia/v0.5/Cbc/deps/src/Cbc-2.9.8/Cgl/src/CglMixedIntegerRounding2 -I/home/pedro/.julia/v0.5/Cbc/deps/src/Cbc-2.9.8/Cgl/src/CglOddHole -I/home/pedro/.julia/v0.5/Cbc/deps/src/Cbc-2.9.8/Cgl/src/CglPreProcess -I/home/pedro/.julia/v0.5/Cbc/deps/src/Cbc-2.9.8/Cgl/src/CglProbing -I/home/pedro/.julia/v0.5/Cbc/deps/src/Cbc-2.9.8/Cgl/src/CglRedSplit -I/home/pedro/.julia/v0.5/Cbc/deps/src/Cbc-2.9.8/Cgl/src/CglRedSplit2 -I/home/pedro/.julia/v0.5/Cbc/deps/src/Cbc-2.9.8/Cgl/src/CglResidualCapacity -I/home/pedro/.julia/v0.5/Cbc/deps/src/Cbc-2.9.8/Cgl/src/CglSimpleRounding -I/home/pedro/.julia/v0.5/Cbc/deps/src/Cbc-2.9.8/Cgl/src/CglTwomir -I/home/pedro/.julia/v0.5/Cbc/deps/src/Cbc-2.9.8/Cgl/src/CglZeroHalf -I/home/pedro/.julia/v0.5/Cbc/deps/src/Cbc-2.9.8/Cgl/src -I/home/pedro/.julia/v0.5/Cbc/deps/src/Cbc-2.9.8/Clp/src/OsiClp -I/home/pedro/.julia/v0.5/Cbc/deps/src/Cbc-2.9.8/Clp/src -I/home/pedro/.julia/v0.5/Cbc/deps/src/Cbc-2.9.8/Osi/src/Osi -I/home/pedro/.julia/v0.5/Cbc/deps/src/Cbc-2.9.8/CoinUtils/src -I/home/pedro/.julia/v0.5/Cbc/deps/src/Cbc-2.9.8/Clp/src/OsiClp -I/home/pedro/.julia/v0.5/Cbc/deps/src/Cbc-2.9.8/Clp/src -I/home/pedro/.julia/v0.5/Cbc/deps/src/Cbc-2.9.8/Osi/src/Osi -I/home/pedro/.julia/v0.5/Cbc/deps/src/Cbc-2.9.8/CoinUtils/src     -DCOIN_NO_CLP_MESSAGE -DUSE_CBCCONFIG   -O3 -pipe -DNDEBUG -pedantic-errors -Wparentheses -Wreturn-type -Wcast-qual -Wall -Wpointer-arith -Wwrite-strings -Wconversion -Wno-unknown-pragmas -Wno-long-long   -DCBC_BUILD -MT CbcBranchDynamic.lo -MD -MP -MF \".deps/CbcBranchDynamic.Tpo\" -c -o CbcBranchDynamic.lo CbcBranchDynamic.cpp; \\\n",
      "then mv -f \".deps/CbcBranchDynamic.Tpo\" \".deps/CbcBranchDynamic.Plo\"; else rm -f \".deps/CbcBranchDynamic.Tpo\"; exit 1; fi\n"
     ]
    },
    {
     "name": "stderr",
     "output_type": "stream",
     "text": [
      "In file included from /home/pedro/.julia/v0.5/Cbc/deps/src/Cbc-2.9.8/Osi/src/Osi/OsiSolverInterface.hpp:17:0,\n",
      "                 from CbcBranchDefaultDecision.cpp:19:\n",
      "/home/pedro/.julia/v0.5/Cbc/deps/src/Cbc-2.9.8/CoinUtils/src/CoinFinite.hpp:20:14: warning: ‘COIN_INT_MAX_AS_DOUBLE’ defined but not used [-Wunused-variable]\n",
      " const double COIN_INT_MAX_AS_DOUBLE = (std::numeric_limits<int>::max)();\n",
      "              ^\n"
     ]
    },
    {
     "name": "stdout",
     "output_type": "stream",
     "text": [
      " g++ -DHAVE_CONFIG_H -I. -I. -I../src -I/home/pedro/.julia/v0.5/Cbc/deps/src/Cbc-2.9.8/Cgl/src -I/home/pedro/.julia/v0.5/Cbc/deps/src/Cbc-2.9.8/Cgl/src/CglAllDifferent -I/home/pedro/.julia/v0.5/Cbc/deps/src/Cbc-2.9.8/Cgl/src/CglClique -I/home/pedro/.julia/v0.5/Cbc/deps/src/Cbc-2.9.8/Cgl/src/CglDuplicateRow -I/home/pedro/.julia/v0.5/Cbc/deps/src/Cbc-2.9.8/Cgl/src/CglFlowCover -I/home/pedro/.julia/v0.5/Cbc/deps/src/Cbc-2.9.8/Cgl/src/CglGMI -I/home/pedro/.julia/v0.5/Cbc/deps/src/Cbc-2.9.8/Cgl/src/CglGomory -I/home/pedro/.julia/v0.5/Cbc/deps/src/Cbc-2.9.8/Cgl/src/CglKnapsackCover -I/home/pedro/.julia/v0.5/Cbc/deps/src/Cbc-2.9.8/Cgl/src/CglLandP -I/home/pedro/.julia/v0.5/Cbc/deps/src/Cbc-2.9.8/Cgl/src/CglLiftAndProject -I/home/pedro/.julia/v0.5/Cbc/deps/src/Cbc-2.9.8/Cgl/src/CglMixedIntegerRounding -I/home/pedro/.julia/v0.5/Cbc/deps/src/Cbc-2.9.8/Cgl/src/CglMixedIntegerRounding2 -I/home/pedro/.julia/v0.5/Cbc/deps/src/Cbc-2.9.8/Cgl/src/CglOddHole -I/home/pedro/.julia/v0.5/Cbc/deps/src/Cbc-2.9.8/Cgl/src/CglPreProcess -I/home/pedro/.julia/v0.5/Cbc/deps/src/Cbc-2.9.8/Cgl/src/CglProbing -I/home/pedro/.julia/v0.5/Cbc/deps/src/Cbc-2.9.8/Cgl/src/CglRedSplit -I/home/pedro/.julia/v0.5/Cbc/deps/src/Cbc-2.9.8/Cgl/src/CglRedSplit2 -I/home/pedro/.julia/v0.5/Cbc/deps/src/Cbc-2.9.8/Cgl/src/CglResidualCapacity -I/home/pedro/.julia/v0.5/Cbc/deps/src/Cbc-2.9.8/Cgl/src/CglSimpleRounding -I/home/pedro/.julia/v0.5/Cbc/deps/src/Cbc-2.9.8/Cgl/src/CglTwomir -I/home/pedro/.julia/v0.5/Cbc/deps/src/Cbc-2.9.8/Cgl/src/CglZeroHalf -I/home/pedro/.julia/v0.5/Cbc/deps/src/Cbc-2.9.8/Cgl/src -I/home/pedro/.julia/v0.5/Cbc/deps/src/Cbc-2.9.8/Clp/src/OsiClp -I/home/pedro/.julia/v0.5/Cbc/deps/src/Cbc-2.9.8/Clp/src -I/home/pedro/.julia/v0.5/Cbc/deps/src/Cbc-2.9.8/Osi/src/Osi -I/home/pedro/.julia/v0.5/Cbc/deps/src/Cbc-2.9.8/CoinUtils/src -I/home/pedro/.julia/v0.5/Cbc/deps/src/Cbc-2.9.8/Clp/src/OsiClp -I/home/pedro/.julia/v0.5/Cbc/deps/src/Cbc-2.9.8/Clp/src -I/home/pedro/.julia/v0.5/Cbc/deps/src/Cbc-2.9.8/Osi/src/Osi -I/home/pedro/.julia/v0.5/Cbc/deps/src/Cbc-2.9.8/CoinUtils/src -DCOIN_NO_CLP_MESSAGE -DUSE_CBCCONFIG -O3 -pipe -DNDEBUG -pedantic-errors -Wparentheses -Wreturn-type -Wcast-qual -Wall -Wpointer-arith -Wwrite-strings -Wconversion -Wno-unknown-pragmas -Wno-long-long -DCBC_BUILD -MT CbcBranchDynamic.lo -MD -MP -MF .deps/CbcBranchDynamic.Tpo -c CbcBranchDynamic.cpp  -fPIC -DPIC -o .libs/CbcBranchDynamic.o\n",
      "if /bin/bash ../../libtool --tag=CXX --mode=compile g++ -DHAVE_CONFIG_H -I. -I`echo .` -I../src  -I/home/pedro/.julia/v0.5/Cbc/deps/src/Cbc-2.9.8/Cgl/src -I/home/pedro/.julia/v0.5/Cbc/deps/src/Cbc-2.9.8/Cgl/src/CglAllDifferent -I/home/pedro/.julia/v0.5/Cbc/deps/src/Cbc-2.9.8/Cgl/src/CglClique -I/home/pedro/.julia/v0.5/Cbc/deps/src/Cbc-2.9.8/Cgl/src/CglDuplicateRow -I/home/pedro/.julia/v0.5/Cbc/deps/src/Cbc-2.9.8/Cgl/src/CglFlowCover -I/home/pedro/.julia/v0.5/Cbc/deps/src/Cbc-2.9.8/Cgl/src/CglGMI -I/home/pedro/.julia/v0.5/Cbc/deps/src/Cbc-2.9.8/Cgl/src/CglGomory -I/home/pedro/.julia/v0.5/Cbc/deps/src/Cbc-2.9.8/Cgl/src/CglKnapsackCover -I/home/pedro/.julia/v0.5/Cbc/deps/src/Cbc-2.9.8/Cgl/src/CglLandP -I/home/pedro/.julia/v0.5/Cbc/deps/src/Cbc-2.9.8/Cgl/src/CglLiftAndProject -I/home/pedro/.julia/v0.5/Cbc/deps/src/Cbc-2.9.8/Cgl/src/CglMixedIntegerRounding -I/home/pedro/.julia/v0.5/Cbc/deps/src/Cbc-2.9.8/Cgl/src/CglMixedIntegerRounding2 -I/home/pedro/.julia/v0.5/Cbc/deps/src/Cbc-2.9.8/Cgl/src/CglOddHole -I/home/pedro/.julia/v0.5/Cbc/deps/src/Cbc-2.9.8/Cgl/src/CglPreProcess -I/home/pedro/.julia/v0.5/Cbc/deps/src/Cbc-2.9.8/Cgl/src/CglProbing -I/home/pedro/.julia/v0.5/Cbc/deps/src/Cbc-2.9.8/Cgl/src/CglRedSplit -I/home/pedro/.julia/v0.5/Cbc/deps/src/Cbc-2.9.8/Cgl/src/CglRedSplit2 -I/home/pedro/.julia/v0.5/Cbc/deps/src/Cbc-2.9.8/Cgl/src/CglResidualCapacity -I/home/pedro/.julia/v0.5/Cbc/deps/src/Cbc-2.9.8/Cgl/src/CglSimpleRounding -I/home/pedro/.julia/v0.5/Cbc/deps/src/Cbc-2.9.8/Cgl/src/CglTwomir -I/home/pedro/.julia/v0.5/Cbc/deps/src/Cbc-2.9.8/Cgl/src/CglZeroHalf -I/home/pedro/.julia/v0.5/Cbc/deps/src/Cbc-2.9.8/Cgl/src -I/home/pedro/.julia/v0.5/Cbc/deps/src/Cbc-2.9.8/Clp/src/OsiClp -I/home/pedro/.julia/v0.5/Cbc/deps/src/Cbc-2.9.8/Clp/src -I/home/pedro/.julia/v0.5/Cbc/deps/src/Cbc-2.9.8/Osi/src/Osi -I/home/pedro/.julia/v0.5/Cbc/deps/src/Cbc-2.9.8/CoinUtils/src -I/home/pedro/.julia/v0.5/Cbc/deps/src/Cbc-2.9.8/Clp/src/OsiClp -I/home/pedro/.julia/v0.5/Cbc/deps/src/Cbc-2.9.8/Clp/src -I/home/pedro/.julia/v0.5/Cbc/deps/src/Cbc-2.9.8/Osi/src/Osi -I/home/pedro/.julia/v0.5/Cbc/deps/src/Cbc-2.9.8/CoinUtils/src     -DCOIN_NO_CLP_MESSAGE -DUSE_CBCCONFIG   -O3 -pipe -DNDEBUG -pedantic-errors -Wparentheses -Wreturn-type -Wcast-qual -Wall -Wpointer-arith -Wwrite-strings -Wconversion -Wno-unknown-pragmas -Wno-long-long   -DCBC_BUILD -MT CbcBranchingObject.lo -MD -MP -MF \".deps/CbcBranchingObject.Tpo\" -c -o CbcBranchingObject.lo CbcBranchingObject.cpp; \\\n",
      "then mv -f \".deps/CbcBranchingObject.Tpo\" \".deps/CbcBranchingObject.Plo\"; else rm -f \".deps/CbcBranchingObject.Tpo\"; exit 1; fi\n"
     ]
    },
    {
     "name": "stderr",
     "output_type": "stream",
     "text": [
      "In file included from /home/pedro/.julia/v0.5/Cbc/deps/src/Cbc-2.9.8/Osi/src/Osi/OsiSolverInterface.hpp:17:0,\n",
      "                 from CbcBranchDynamic.cpp:16:\n",
      "/home/pedro/.julia/v0.5/Cbc/deps/src/Cbc-2.9.8/CoinUtils/src/CoinFinite.hpp:20:14: warning: ‘COIN_INT_MAX_AS_DOUBLE’ defined but not used [-Wunused-variable]\n",
      " const double COIN_INT_MAX_AS_DOUBLE = (std::numeric_limits<int>::max)();\n",
      "              ^\n"
     ]
    },
    {
     "name": "stdout",
     "output_type": "stream",
     "text": [
      " g++ -DHAVE_CONFIG_H -I. -I. -I../src -I/home/pedro/.julia/v0.5/Cbc/deps/src/Cbc-2.9.8/Cgl/src -I/home/pedro/.julia/v0.5/Cbc/deps/src/Cbc-2.9.8/Cgl/src/CglAllDifferent -I/home/pedro/.julia/v0.5/Cbc/deps/src/Cbc-2.9.8/Cgl/src/CglClique -I/home/pedro/.julia/v0.5/Cbc/deps/src/Cbc-2.9.8/Cgl/src/CglDuplicateRow -I/home/pedro/.julia/v0.5/Cbc/deps/src/Cbc-2.9.8/Cgl/src/CglFlowCover -I/home/pedro/.julia/v0.5/Cbc/deps/src/Cbc-2.9.8/Cgl/src/CglGMI -I/home/pedro/.julia/v0.5/Cbc/deps/src/Cbc-2.9.8/Cgl/src/CglGomory -I/home/pedro/.julia/v0.5/Cbc/deps/src/Cbc-2.9.8/Cgl/src/CglKnapsackCover -I/home/pedro/.julia/v0.5/Cbc/deps/src/Cbc-2.9.8/Cgl/src/CglLandP -I/home/pedro/.julia/v0.5/Cbc/deps/src/Cbc-2.9.8/Cgl/src/CglLiftAndProject -I/home/pedro/.julia/v0.5/Cbc/deps/src/Cbc-2.9.8/Cgl/src/CglMixedIntegerRounding -I/home/pedro/.julia/v0.5/Cbc/deps/src/Cbc-2.9.8/Cgl/src/CglMixedIntegerRounding2 -I/home/pedro/.julia/v0.5/Cbc/deps/src/Cbc-2.9.8/Cgl/src/CglOddHole -I/home/pedro/.julia/v0.5/Cbc/deps/src/Cbc-2.9.8/Cgl/src/CglPreProcess -I/home/pedro/.julia/v0.5/Cbc/deps/src/Cbc-2.9.8/Cgl/src/CglProbing -I/home/pedro/.julia/v0.5/Cbc/deps/src/Cbc-2.9.8/Cgl/src/CglRedSplit -I/home/pedro/.julia/v0.5/Cbc/deps/src/Cbc-2.9.8/Cgl/src/CglRedSplit2 -I/home/pedro/.julia/v0.5/Cbc/deps/src/Cbc-2.9.8/Cgl/src/CglResidualCapacity -I/home/pedro/.julia/v0.5/Cbc/deps/src/Cbc-2.9.8/Cgl/src/CglSimpleRounding -I/home/pedro/.julia/v0.5/Cbc/deps/src/Cbc-2.9.8/Cgl/src/CglTwomir -I/home/pedro/.julia/v0.5/Cbc/deps/src/Cbc-2.9.8/Cgl/src/CglZeroHalf -I/home/pedro/.julia/v0.5/Cbc/deps/src/Cbc-2.9.8/Cgl/src -I/home/pedro/.julia/v0.5/Cbc/deps/src/Cbc-2.9.8/Clp/src/OsiClp -I/home/pedro/.julia/v0.5/Cbc/deps/src/Cbc-2.9.8/Clp/src -I/home/pedro/.julia/v0.5/Cbc/deps/src/Cbc-2.9.8/Osi/src/Osi -I/home/pedro/.julia/v0.5/Cbc/deps/src/Cbc-2.9.8/CoinUtils/src -I/home/pedro/.julia/v0.5/Cbc/deps/src/Cbc-2.9.8/Clp/src/OsiClp -I/home/pedro/.julia/v0.5/Cbc/deps/src/Cbc-2.9.8/Clp/src -I/home/pedro/.julia/v0.5/Cbc/deps/src/Cbc-2.9.8/Osi/src/Osi -I/home/pedro/.julia/v0.5/Cbc/deps/src/Cbc-2.9.8/CoinUtils/src -DCOIN_NO_CLP_MESSAGE -DUSE_CBCCONFIG -O3 -pipe -DNDEBUG -pedantic-errors -Wparentheses -Wreturn-type -Wcast-qual -Wall -Wpointer-arith -Wwrite-strings -Wconversion -Wno-unknown-pragmas -Wno-long-long -DCBC_BUILD -MT CbcBranchingObject.lo -MD -MP -MF .deps/CbcBranchingObject.Tpo -c CbcBranchingObject.cpp  -fPIC -DPIC -o .libs/CbcBranchingObject.o\n",
      "if /bin/bash ../../libtool --tag=CXX --mode=compile g++ -DHAVE_CONFIG_H -I. -I`echo .` -I../src  -I/home/pedro/.julia/v0.5/Cbc/deps/src/Cbc-2.9.8/Cgl/src -I/home/pedro/.julia/v0.5/Cbc/deps/src/Cbc-2.9.8/Cgl/src/CglAllDifferent -I/home/pedro/.julia/v0.5/Cbc/deps/src/Cbc-2.9.8/Cgl/src/CglClique -I/home/pedro/.julia/v0.5/Cbc/deps/src/Cbc-2.9.8/Cgl/src/CglDuplicateRow -I/home/pedro/.julia/v0.5/Cbc/deps/src/Cbc-2.9.8/Cgl/src/CglFlowCover -I/home/pedro/.julia/v0.5/Cbc/deps/src/Cbc-2.9.8/Cgl/src/CglGMI -I/home/pedro/.julia/v0.5/Cbc/deps/src/Cbc-2.9.8/Cgl/src/CglGomory -I/home/pedro/.julia/v0.5/Cbc/deps/src/Cbc-2.9.8/Cgl/src/CglKnapsackCover -I/home/pedro/.julia/v0.5/Cbc/deps/src/Cbc-2.9.8/Cgl/src/CglLandP -I/home/pedro/.julia/v0.5/Cbc/deps/src/Cbc-2.9.8/Cgl/src/CglLiftAndProject -I/home/pedro/.julia/v0.5/Cbc/deps/src/Cbc-2.9.8/Cgl/src/CglMixedIntegerRounding -I/home/pedro/.julia/v0.5/Cbc/deps/src/Cbc-2.9.8/Cgl/src/CglMixedIntegerRounding2 -I/home/pedro/.julia/v0.5/Cbc/deps/src/Cbc-2.9.8/Cgl/src/CglOddHole -I/home/pedro/.julia/v0.5/Cbc/deps/src/Cbc-2.9.8/Cgl/src/CglPreProcess -I/home/pedro/.julia/v0.5/Cbc/deps/src/Cbc-2.9.8/Cgl/src/CglProbing -I/home/pedro/.julia/v0.5/Cbc/deps/src/Cbc-2.9.8/Cgl/src/CglRedSplit -I/home/pedro/.julia/v0.5/Cbc/deps/src/Cbc-2.9.8/Cgl/src/CglRedSplit2 -I/home/pedro/.julia/v0.5/Cbc/deps/src/Cbc-2.9.8/Cgl/src/CglResidualCapacity -I/home/pedro/.julia/v0.5/Cbc/deps/src/Cbc-2.9.8/Cgl/src/CglSimpleRounding -I/home/pedro/.julia/v0.5/Cbc/deps/src/Cbc-2.9.8/Cgl/src/CglTwomir -I/home/pedro/.julia/v0.5/Cbc/deps/src/Cbc-2.9.8/Cgl/src/CglZeroHalf -I/home/pedro/.julia/v0.5/Cbc/deps/src/Cbc-2.9.8/Cgl/src -I/home/pedro/.julia/v0.5/Cbc/deps/src/Cbc-2.9.8/Clp/src/OsiClp -I/home/pedro/.julia/v0.5/Cbc/deps/src/Cbc-2.9.8/Clp/src -I/home/pedro/.julia/v0.5/Cbc/deps/src/Cbc-2.9.8/Osi/src/Osi -I/home/pedro/.julia/v0.5/Cbc/deps/src/Cbc-2.9.8/CoinUtils/src -I/home/pedro/.julia/v0.5/Cbc/deps/src/Cbc-2.9.8/Clp/src/OsiClp -I/home/pedro/.julia/v0.5/Cbc/deps/src/Cbc-2.9.8/Clp/src -I/home/pedro/.julia/v0.5/Cbc/deps/src/Cbc-2.9.8/Osi/src/Osi -I/home/pedro/.julia/v0.5/Cbc/deps/src/Cbc-2.9.8/CoinUtils/src     -DCOIN_NO_CLP_MESSAGE -DUSE_CBCCONFIG   -O3 -pipe -DNDEBUG -pedantic-errors -Wparentheses -Wreturn-type -Wcast-qual -Wall -Wpointer-arith -Wwrite-strings -Wconversion -Wno-unknown-pragmas -Wno-long-long   -DCBC_BUILD -MT CbcBranchLotsize.lo -MD -MP -MF \".deps/CbcBranchLotsize.Tpo\" -c -o CbcBranchLotsize.lo CbcBranchLotsize.cpp; \\\n",
      "then mv -f \".deps/CbcBranchLotsize.Tpo\" \".deps/CbcBranchLotsize.Plo\"; else rm -f \".deps/CbcBranchLotsize.Tpo\"; exit 1; fi\n"
     ]
    },
    {
     "name": "stderr",
     "output_type": "stream",
     "text": [
      "In file included from /home/pedro/.julia/v0.5/Cbc/deps/src/Cbc-2.9.8/Osi/src/Osi/OsiSolverInterface.hpp:17:0,\n",
      "                 from CbcBranchingObject.cpp:17:\n",
      "/home/pedro/.julia/v0.5/Cbc/deps/src/Cbc-2.9.8/CoinUtils/src/CoinFinite.hpp:20:14: warning: ‘COIN_INT_MAX_AS_DOUBLE’ defined but not used [-Wunused-variable]\n",
      " const double COIN_INT_MAX_AS_DOUBLE = (std::numeric_limits<int>::max)();\n",
      "              ^\n"
     ]
    },
    {
     "name": "stdout",
     "output_type": "stream",
     "text": [
      " g++ -DHAVE_CONFIG_H -I. -I. -I../src -I/home/pedro/.julia/v0.5/Cbc/deps/src/Cbc-2.9.8/Cgl/src -I/home/pedro/.julia/v0.5/Cbc/deps/src/Cbc-2.9.8/Cgl/src/CglAllDifferent -I/home/pedro/.julia/v0.5/Cbc/deps/src/Cbc-2.9.8/Cgl/src/CglClique -I/home/pedro/.julia/v0.5/Cbc/deps/src/Cbc-2.9.8/Cgl/src/CglDuplicateRow -I/home/pedro/.julia/v0.5/Cbc/deps/src/Cbc-2.9.8/Cgl/src/CglFlowCover -I/home/pedro/.julia/v0.5/Cbc/deps/src/Cbc-2.9.8/Cgl/src/CglGMI -I/home/pedro/.julia/v0.5/Cbc/deps/src/Cbc-2.9.8/Cgl/src/CglGomory -I/home/pedro/.julia/v0.5/Cbc/deps/src/Cbc-2.9.8/Cgl/src/CglKnapsackCover -I/home/pedro/.julia/v0.5/Cbc/deps/src/Cbc-2.9.8/Cgl/src/CglLandP -I/home/pedro/.julia/v0.5/Cbc/deps/src/Cbc-2.9.8/Cgl/src/CglLiftAndProject -I/home/pedro/.julia/v0.5/Cbc/deps/src/Cbc-2.9.8/Cgl/src/CglMixedIntegerRounding -I/home/pedro/.julia/v0.5/Cbc/deps/src/Cbc-2.9.8/Cgl/src/CglMixedIntegerRounding2 -I/home/pedro/.julia/v0.5/Cbc/deps/src/Cbc-2.9.8/Cgl/src/CglOddHole -I/home/pedro/.julia/v0.5/Cbc/deps/src/Cbc-2.9.8/Cgl/src/CglPreProcess -I/home/pedro/.julia/v0.5/Cbc/deps/src/Cbc-2.9.8/Cgl/src/CglProbing -I/home/pedro/.julia/v0.5/Cbc/deps/src/Cbc-2.9.8/Cgl/src/CglRedSplit -I/home/pedro/.julia/v0.5/Cbc/deps/src/Cbc-2.9.8/Cgl/src/CglRedSplit2 -I/home/pedro/.julia/v0.5/Cbc/deps/src/Cbc-2.9.8/Cgl/src/CglResidualCapacity -I/home/pedro/.julia/v0.5/Cbc/deps/src/Cbc-2.9.8/Cgl/src/CglSimpleRounding -I/home/pedro/.julia/v0.5/Cbc/deps/src/Cbc-2.9.8/Cgl/src/CglTwomir -I/home/pedro/.julia/v0.5/Cbc/deps/src/Cbc-2.9.8/Cgl/src/CglZeroHalf -I/home/pedro/.julia/v0.5/Cbc/deps/src/Cbc-2.9.8/Cgl/src -I/home/pedro/.julia/v0.5/Cbc/deps/src/Cbc-2.9.8/Clp/src/OsiClp -I/home/pedro/.julia/v0.5/Cbc/deps/src/Cbc-2.9.8/Clp/src -I/home/pedro/.julia/v0.5/Cbc/deps/src/Cbc-2.9.8/Osi/src/Osi -I/home/pedro/.julia/v0.5/Cbc/deps/src/Cbc-2.9.8/CoinUtils/src -I/home/pedro/.julia/v0.5/Cbc/deps/src/Cbc-2.9.8/Clp/src/OsiClp -I/home/pedro/.julia/v0.5/Cbc/deps/src/Cbc-2.9.8/Clp/src -I/home/pedro/.julia/v0.5/Cbc/deps/src/Cbc-2.9.8/Osi/src/Osi -I/home/pedro/.julia/v0.5/Cbc/deps/src/Cbc-2.9.8/CoinUtils/src -DCOIN_NO_CLP_MESSAGE -DUSE_CBCCONFIG -O3 -pipe -DNDEBUG -pedantic-errors -Wparentheses -Wreturn-type -Wcast-qual -Wall -Wpointer-arith -Wwrite-strings -Wconversion -Wno-unknown-pragmas -Wno-long-long -DCBC_BUILD -MT CbcBranchLotsize.lo -MD -MP -MF .deps/CbcBranchLotsize.Tpo -c CbcBranchLotsize.cpp  -fPIC -DPIC -o .libs/CbcBranchLotsize.o\n",
      "if /bin/bash ../../libtool --tag=CXX --mode=compile g++ -DHAVE_CONFIG_H -I. -I`echo .` -I../src  -I/home/pedro/.julia/v0.5/Cbc/deps/src/Cbc-2.9.8/Cgl/src -I/home/pedro/.julia/v0.5/Cbc/deps/src/Cbc-2.9.8/Cgl/src/CglAllDifferent -I/home/pedro/.julia/v0.5/Cbc/deps/src/Cbc-2.9.8/Cgl/src/CglClique -I/home/pedro/.julia/v0.5/Cbc/deps/src/Cbc-2.9.8/Cgl/src/CglDuplicateRow -I/home/pedro/.julia/v0.5/Cbc/deps/src/Cbc-2.9.8/Cgl/src/CglFlowCover -I/home/pedro/.julia/v0.5/Cbc/deps/src/Cbc-2.9.8/Cgl/src/CglGMI -I/home/pedro/.julia/v0.5/Cbc/deps/src/Cbc-2.9.8/Cgl/src/CglGomory -I/home/pedro/.julia/v0.5/Cbc/deps/src/Cbc-2.9.8/Cgl/src/CglKnapsackCover -I/home/pedro/.julia/v0.5/Cbc/deps/src/Cbc-2.9.8/Cgl/src/CglLandP -I/home/pedro/.julia/v0.5/Cbc/deps/src/Cbc-2.9.8/Cgl/src/CglLiftAndProject -I/home/pedro/.julia/v0.5/Cbc/deps/src/Cbc-2.9.8/Cgl/src/CglMixedIntegerRounding -I/home/pedro/.julia/v0.5/Cbc/deps/src/Cbc-2.9.8/Cgl/src/CglMixedIntegerRounding2 -I/home/pedro/.julia/v0.5/Cbc/deps/src/Cbc-2.9.8/Cgl/src/CglOddHole -I/home/pedro/.julia/v0.5/Cbc/deps/src/Cbc-2.9.8/Cgl/src/CglPreProcess -I/home/pedro/.julia/v0.5/Cbc/deps/src/Cbc-2.9.8/Cgl/src/CglProbing -I/home/pedro/.julia/v0.5/Cbc/deps/src/Cbc-2.9.8/Cgl/src/CglRedSplit -I/home/pedro/.julia/v0.5/Cbc/deps/src/Cbc-2.9.8/Cgl/src/CglRedSplit2 -I/home/pedro/.julia/v0.5/Cbc/deps/src/Cbc-2.9.8/Cgl/src/CglResidualCapacity -I/home/pedro/.julia/v0.5/Cbc/deps/src/Cbc-2.9.8/Cgl/src/CglSimpleRounding -I/home/pedro/.julia/v0.5/Cbc/deps/src/Cbc-2.9.8/Cgl/src/CglTwomir -I/home/pedro/.julia/v0.5/Cbc/deps/src/Cbc-2.9.8/Cgl/src/CglZeroHalf -I/home/pedro/.julia/v0.5/Cbc/deps/src/Cbc-2.9.8/Cgl/src -I/home/pedro/.julia/v0.5/Cbc/deps/src/Cbc-2.9.8/Clp/src/OsiClp -I/home/pedro/.julia/v0.5/Cbc/deps/src/Cbc-2.9.8/Clp/src -I/home/pedro/.julia/v0.5/Cbc/deps/src/Cbc-2.9.8/Osi/src/Osi -I/home/pedro/.julia/v0.5/Cbc/deps/src/Cbc-2.9.8/CoinUtils/src -I/home/pedro/.julia/v0.5/Cbc/deps/src/Cbc-2.9.8/Clp/src/OsiClp -I/home/pedro/.julia/v0.5/Cbc/deps/src/Cbc-2.9.8/Clp/src -I/home/pedro/.julia/v0.5/Cbc/deps/src/Cbc-2.9.8/Osi/src/Osi -I/home/pedro/.julia/v0.5/Cbc/deps/src/Cbc-2.9.8/CoinUtils/src     -DCOIN_NO_CLP_MESSAGE -DUSE_CBCCONFIG   -O3 -pipe -DNDEBUG -pedantic-errors -Wparentheses -Wreturn-type -Wcast-qual -Wall -Wpointer-arith -Wwrite-strings -Wconversion -Wno-unknown-pragmas -Wno-long-long   -DCBC_BUILD -MT CbcBranchToFixLots.lo -MD -MP -MF \".deps/CbcBranchToFixLots.Tpo\" -c -o CbcBranchToFixLots.lo CbcBranchToFixLots.cpp; \\\n",
      "then mv -f \".deps/CbcBranchToFixLots.Tpo\" \".deps/CbcBranchToFixLots.Plo\"; else rm -f \".deps/CbcBranchToFixLots.Tpo\"; exit 1; fi\n"
     ]
    },
    {
     "name": "stderr",
     "output_type": "stream",
     "text": [
      "In file included from /home/pedro/.julia/v0.5/Cbc/deps/src/Cbc-2.9.8/Osi/src/Osi/OsiSolverInterface.hpp:17:0,\n",
      "                 from CbcBranchLotsize.cpp:15:\n",
      "/home/pedro/.julia/v0.5/Cbc/deps/src/Cbc-2.9.8/CoinUtils/src/CoinFinite.hpp:20:14: warning: ‘COIN_INT_MAX_AS_DOUBLE’ defined but not used [-Wunused-variable]\n",
      " const double COIN_INT_MAX_AS_DOUBLE = (std::numeric_limits<int>::max)();\n",
      "              ^\n"
     ]
    },
    {
     "name": "stdout",
     "output_type": "stream",
     "text": [
      " g++ -DHAVE_CONFIG_H -I. -I. -I../src -I/home/pedro/.julia/v0.5/Cbc/deps/src/Cbc-2.9.8/Cgl/src -I/home/pedro/.julia/v0.5/Cbc/deps/src/Cbc-2.9.8/Cgl/src/CglAllDifferent -I/home/pedro/.julia/v0.5/Cbc/deps/src/Cbc-2.9.8/Cgl/src/CglClique -I/home/pedro/.julia/v0.5/Cbc/deps/src/Cbc-2.9.8/Cgl/src/CglDuplicateRow -I/home/pedro/.julia/v0.5/Cbc/deps/src/Cbc-2.9.8/Cgl/src/CglFlowCover -I/home/pedro/.julia/v0.5/Cbc/deps/src/Cbc-2.9.8/Cgl/src/CglGMI -I/home/pedro/.julia/v0.5/Cbc/deps/src/Cbc-2.9.8/Cgl/src/CglGomory -I/home/pedro/.julia/v0.5/Cbc/deps/src/Cbc-2.9.8/Cgl/src/CglKnapsackCover -I/home/pedro/.julia/v0.5/Cbc/deps/src/Cbc-2.9.8/Cgl/src/CglLandP -I/home/pedro/.julia/v0.5/Cbc/deps/src/Cbc-2.9.8/Cgl/src/CglLiftAndProject -I/home/pedro/.julia/v0.5/Cbc/deps/src/Cbc-2.9.8/Cgl/src/CglMixedIntegerRounding -I/home/pedro/.julia/v0.5/Cbc/deps/src/Cbc-2.9.8/Cgl/src/CglMixedIntegerRounding2 -I/home/pedro/.julia/v0.5/Cbc/deps/src/Cbc-2.9.8/Cgl/src/CglOddHole -I/home/pedro/.julia/v0.5/Cbc/deps/src/Cbc-2.9.8/Cgl/src/CglPreProcess -I/home/pedro/.julia/v0.5/Cbc/deps/src/Cbc-2.9.8/Cgl/src/CglProbing -I/home/pedro/.julia/v0.5/Cbc/deps/src/Cbc-2.9.8/Cgl/src/CglRedSplit -I/home/pedro/.julia/v0.5/Cbc/deps/src/Cbc-2.9.8/Cgl/src/CglRedSplit2 -I/home/pedro/.julia/v0.5/Cbc/deps/src/Cbc-2.9.8/Cgl/src/CglResidualCapacity -I/home/pedro/.julia/v0.5/Cbc/deps/src/Cbc-2.9.8/Cgl/src/CglSimpleRounding -I/home/pedro/.julia/v0.5/Cbc/deps/src/Cbc-2.9.8/Cgl/src/CglTwomir -I/home/pedro/.julia/v0.5/Cbc/deps/src/Cbc-2.9.8/Cgl/src/CglZeroHalf -I/home/pedro/.julia/v0.5/Cbc/deps/src/Cbc-2.9.8/Cgl/src -I/home/pedro/.julia/v0.5/Cbc/deps/src/Cbc-2.9.8/Clp/src/OsiClp -I/home/pedro/.julia/v0.5/Cbc/deps/src/Cbc-2.9.8/Clp/src -I/home/pedro/.julia/v0.5/Cbc/deps/src/Cbc-2.9.8/Osi/src/Osi -I/home/pedro/.julia/v0.5/Cbc/deps/src/Cbc-2.9.8/CoinUtils/src -I/home/pedro/.julia/v0.5/Cbc/deps/src/Cbc-2.9.8/Clp/src/OsiClp -I/home/pedro/.julia/v0.5/Cbc/deps/src/Cbc-2.9.8/Clp/src -I/home/pedro/.julia/v0.5/Cbc/deps/src/Cbc-2.9.8/Osi/src/Osi -I/home/pedro/.julia/v0.5/Cbc/deps/src/Cbc-2.9.8/CoinUtils/src -DCOIN_NO_CLP_MESSAGE -DUSE_CBCCONFIG -O3 -pipe -DNDEBUG -pedantic-errors -Wparentheses -Wreturn-type -Wcast-qual -Wall -Wpointer-arith -Wwrite-strings -Wconversion -Wno-unknown-pragmas -Wno-long-long -DCBC_BUILD -MT CbcBranchToFixLots.lo -MD -MP -MF .deps/CbcBranchToFixLots.Tpo -c CbcBranchToFixLots.cpp  -fPIC -DPIC -o .libs/CbcBranchToFixLots.o\n",
      "if /bin/bash ../../libtool --tag=CXX --mode=compile g++ -DHAVE_CONFIG_H -I. -I`echo .` -I../src  -I/home/pedro/.julia/v0.5/Cbc/deps/src/Cbc-2.9.8/Cgl/src -I/home/pedro/.julia/v0.5/Cbc/deps/src/Cbc-2.9.8/Cgl/src/CglAllDifferent -I/home/pedro/.julia/v0.5/Cbc/deps/src/Cbc-2.9.8/Cgl/src/CglClique -I/home/pedro/.julia/v0.5/Cbc/deps/src/Cbc-2.9.8/Cgl/src/CglDuplicateRow -I/home/pedro/.julia/v0.5/Cbc/deps/src/Cbc-2.9.8/Cgl/src/CglFlowCover -I/home/pedro/.julia/v0.5/Cbc/deps/src/Cbc-2.9.8/Cgl/src/CglGMI -I/home/pedro/.julia/v0.5/Cbc/deps/src/Cbc-2.9.8/Cgl/src/CglGomory -I/home/pedro/.julia/v0.5/Cbc/deps/src/Cbc-2.9.8/Cgl/src/CglKnapsackCover -I/home/pedro/.julia/v0.5/Cbc/deps/src/Cbc-2.9.8/Cgl/src/CglLandP -I/home/pedro/.julia/v0.5/Cbc/deps/src/Cbc-2.9.8/Cgl/src/CglLiftAndProject -I/home/pedro/.julia/v0.5/Cbc/deps/src/Cbc-2.9.8/Cgl/src/CglMixedIntegerRounding -I/home/pedro/.julia/v0.5/Cbc/deps/src/Cbc-2.9.8/Cgl/src/CglMixedIntegerRounding2 -I/home/pedro/.julia/v0.5/Cbc/deps/src/Cbc-2.9.8/Cgl/src/CglOddHole -I/home/pedro/.julia/v0.5/Cbc/deps/src/Cbc-2.9.8/Cgl/src/CglPreProcess -I/home/pedro/.julia/v0.5/Cbc/deps/src/Cbc-2.9.8/Cgl/src/CglProbing -I/home/pedro/.julia/v0.5/Cbc/deps/src/Cbc-2.9.8/Cgl/src/CglRedSplit -I/home/pedro/.julia/v0.5/Cbc/deps/src/Cbc-2.9.8/Cgl/src/CglRedSplit2 -I/home/pedro/.julia/v0.5/Cbc/deps/src/Cbc-2.9.8/Cgl/src/CglResidualCapacity -I/home/pedro/.julia/v0.5/Cbc/deps/src/Cbc-2.9.8/Cgl/src/CglSimpleRounding -I/home/pedro/.julia/v0.5/Cbc/deps/src/Cbc-2.9.8/Cgl/src/CglTwomir -I/home/pedro/.julia/v0.5/Cbc/deps/src/Cbc-2.9.8/Cgl/src/CglZeroHalf -I/home/pedro/.julia/v0.5/Cbc/deps/src/Cbc-2.9.8/Cgl/src -I/home/pedro/.julia/v0.5/Cbc/deps/src/Cbc-2.9.8/Clp/src/OsiClp -I/home/pedro/.julia/v0.5/Cbc/deps/src/Cbc-2.9.8/Clp/src -I/home/pedro/.julia/v0.5/Cbc/deps/src/Cbc-2.9.8/Osi/src/Osi -I/home/pedro/.julia/v0.5/Cbc/deps/src/Cbc-2.9.8/CoinUtils/src -I/home/pedro/.julia/v0.5/Cbc/deps/src/Cbc-2.9.8/Clp/src/OsiClp -I/home/pedro/.julia/v0.5/Cbc/deps/src/Cbc-2.9.8/Clp/src -I/home/pedro/.julia/v0.5/Cbc/deps/src/Cbc-2.9.8/Osi/src/Osi -I/home/pedro/.julia/v0.5/Cbc/deps/src/Cbc-2.9.8/CoinUtils/src     -DCOIN_NO_CLP_MESSAGE -DUSE_CBCCONFIG   -O3 -pipe -DNDEBUG -pedantic-errors -Wparentheses -Wreturn-type -Wcast-qual -Wall -Wpointer-arith -Wwrite-strings -Wconversion -Wno-unknown-pragmas -Wno-long-long   -DCBC_BUILD -MT CbcCompareDefault.lo -MD -MP -MF \".deps/CbcCompareDefault.Tpo\" -c -o CbcCompareDefault.lo CbcCompareDefault.cpp; \\\n",
      "then mv -f \".deps/CbcCompareDefault.Tpo\" \".deps/CbcCompareDefault.Plo\"; else rm -f \".deps/CbcCompareDefault.Tpo\"; exit 1; fi\n"
     ]
    },
    {
     "name": "stderr",
     "output_type": "stream",
     "text": [
      "In file included from /home/pedro/.julia/v0.5/Cbc/deps/src/Cbc-2.9.8/Osi/src/Osi/OsiSolverInterface.hpp:17:0,\n",
      "                 from CbcBranchToFixLots.cpp:18:\n",
      "/home/pedro/.julia/v0.5/Cbc/deps/src/Cbc-2.9.8/CoinUtils/src/CoinFinite.hpp:20:14: warning: ‘COIN_INT_MAX_AS_DOUBLE’ defined but not used [-Wunused-variable]\n",
      " const double COIN_INT_MAX_AS_DOUBLE = (std::numeric_limits<int>::max)();\n",
      "              ^\n"
     ]
    },
    {
     "name": "stdout",
     "output_type": "stream",
     "text": [
      " g++ -DHAVE_CONFIG_H -I. -I. -I../src -I/home/pedro/.julia/v0.5/Cbc/deps/src/Cbc-2.9.8/Cgl/src -I/home/pedro/.julia/v0.5/Cbc/deps/src/Cbc-2.9.8/Cgl/src/CglAllDifferent -I/home/pedro/.julia/v0.5/Cbc/deps/src/Cbc-2.9.8/Cgl/src/CglClique -I/home/pedro/.julia/v0.5/Cbc/deps/src/Cbc-2.9.8/Cgl/src/CglDuplicateRow -I/home/pedro/.julia/v0.5/Cbc/deps/src/Cbc-2.9.8/Cgl/src/CglFlowCover -I/home/pedro/.julia/v0.5/Cbc/deps/src/Cbc-2.9.8/Cgl/src/CglGMI -I/home/pedro/.julia/v0.5/Cbc/deps/src/Cbc-2.9.8/Cgl/src/CglGomory -I/home/pedro/.julia/v0.5/Cbc/deps/src/Cbc-2.9.8/Cgl/src/CglKnapsackCover -I/home/pedro/.julia/v0.5/Cbc/deps/src/Cbc-2.9.8/Cgl/src/CglLandP -I/home/pedro/.julia/v0.5/Cbc/deps/src/Cbc-2.9.8/Cgl/src/CglLiftAndProject -I/home/pedro/.julia/v0.5/Cbc/deps/src/Cbc-2.9.8/Cgl/src/CglMixedIntegerRounding -I/home/pedro/.julia/v0.5/Cbc/deps/src/Cbc-2.9.8/Cgl/src/CglMixedIntegerRounding2 -I/home/pedro/.julia/v0.5/Cbc/deps/src/Cbc-2.9.8/Cgl/src/CglOddHole -I/home/pedro/.julia/v0.5/Cbc/deps/src/Cbc-2.9.8/Cgl/src/CglPreProcess -I/home/pedro/.julia/v0.5/Cbc/deps/src/Cbc-2.9.8/Cgl/src/CglProbing -I/home/pedro/.julia/v0.5/Cbc/deps/src/Cbc-2.9.8/Cgl/src/CglRedSplit -I/home/pedro/.julia/v0.5/Cbc/deps/src/Cbc-2.9.8/Cgl/src/CglRedSplit2 -I/home/pedro/.julia/v0.5/Cbc/deps/src/Cbc-2.9.8/Cgl/src/CglResidualCapacity -I/home/pedro/.julia/v0.5/Cbc/deps/src/Cbc-2.9.8/Cgl/src/CglSimpleRounding -I/home/pedro/.julia/v0.5/Cbc/deps/src/Cbc-2.9.8/Cgl/src/CglTwomir -I/home/pedro/.julia/v0.5/Cbc/deps/src/Cbc-2.9.8/Cgl/src/CglZeroHalf -I/home/pedro/.julia/v0.5/Cbc/deps/src/Cbc-2.9.8/Cgl/src -I/home/pedro/.julia/v0.5/Cbc/deps/src/Cbc-2.9.8/Clp/src/OsiClp -I/home/pedro/.julia/v0.5/Cbc/deps/src/Cbc-2.9.8/Clp/src -I/home/pedro/.julia/v0.5/Cbc/deps/src/Cbc-2.9.8/Osi/src/Osi -I/home/pedro/.julia/v0.5/Cbc/deps/src/Cbc-2.9.8/CoinUtils/src -I/home/pedro/.julia/v0.5/Cbc/deps/src/Cbc-2.9.8/Clp/src/OsiClp -I/home/pedro/.julia/v0.5/Cbc/deps/src/Cbc-2.9.8/Clp/src -I/home/pedro/.julia/v0.5/Cbc/deps/src/Cbc-2.9.8/Osi/src/Osi -I/home/pedro/.julia/v0.5/Cbc/deps/src/Cbc-2.9.8/CoinUtils/src -DCOIN_NO_CLP_MESSAGE -DUSE_CBCCONFIG -O3 -pipe -DNDEBUG -pedantic-errors -Wparentheses -Wreturn-type -Wcast-qual -Wall -Wpointer-arith -Wwrite-strings -Wconversion -Wno-unknown-pragmas -Wno-long-long -DCBC_BUILD -MT CbcCompareDefault.lo -MD -MP -MF .deps/CbcCompareDefault.Tpo -c CbcCompareDefault.cpp  -fPIC -DPIC -o .libs/CbcCompareDefault.o\n",
      "if /bin/bash ../../libtool --tag=CXX --mode=compile g++ -DHAVE_CONFIG_H -I. -I`echo .` -I../src  -I/home/pedro/.julia/v0.5/Cbc/deps/src/Cbc-2.9.8/Cgl/src -I/home/pedro/.julia/v0.5/Cbc/deps/src/Cbc-2.9.8/Cgl/src/CglAllDifferent -I/home/pedro/.julia/v0.5/Cbc/deps/src/Cbc-2.9.8/Cgl/src/CglClique -I/home/pedro/.julia/v0.5/Cbc/deps/src/Cbc-2.9.8/Cgl/src/CglDuplicateRow -I/home/pedro/.julia/v0.5/Cbc/deps/src/Cbc-2.9.8/Cgl/src/CglFlowCover -I/home/pedro/.julia/v0.5/Cbc/deps/src/Cbc-2.9.8/Cgl/src/CglGMI -I/home/pedro/.julia/v0.5/Cbc/deps/src/Cbc-2.9.8/Cgl/src/CglGomory -I/home/pedro/.julia/v0.5/Cbc/deps/src/Cbc-2.9.8/Cgl/src/CglKnapsackCover -I/home/pedro/.julia/v0.5/Cbc/deps/src/Cbc-2.9.8/Cgl/src/CglLandP -I/home/pedro/.julia/v0.5/Cbc/deps/src/Cbc-2.9.8/Cgl/src/CglLiftAndProject -I/home/pedro/.julia/v0.5/Cbc/deps/src/Cbc-2.9.8/Cgl/src/CglMixedIntegerRounding -I/home/pedro/.julia/v0.5/Cbc/deps/src/Cbc-2.9.8/Cgl/src/CglMixedIntegerRounding2 -I/home/pedro/.julia/v0.5/Cbc/deps/src/Cbc-2.9.8/Cgl/src/CglOddHole -I/home/pedro/.julia/v0.5/Cbc/deps/src/Cbc-2.9.8/Cgl/src/CglPreProcess -I/home/pedro/.julia/v0.5/Cbc/deps/src/Cbc-2.9.8/Cgl/src/CglProbing -I/home/pedro/.julia/v0.5/Cbc/deps/src/Cbc-2.9.8/Cgl/src/CglRedSplit -I/home/pedro/.julia/v0.5/Cbc/deps/src/Cbc-2.9.8/Cgl/src/CglRedSplit2 -I/home/pedro/.julia/v0.5/Cbc/deps/src/Cbc-2.9.8/Cgl/src/CglResidualCapacity -I/home/pedro/.julia/v0.5/Cbc/deps/src/Cbc-2.9.8/Cgl/src/CglSimpleRounding -I/home/pedro/.julia/v0.5/Cbc/deps/src/Cbc-2.9.8/Cgl/src/CglTwomir -I/home/pedro/.julia/v0.5/Cbc/deps/src/Cbc-2.9.8/Cgl/src/CglZeroHalf -I/home/pedro/.julia/v0.5/Cbc/deps/src/Cbc-2.9.8/Cgl/src -I/home/pedro/.julia/v0.5/Cbc/deps/src/Cbc-2.9.8/Clp/src/OsiClp -I/home/pedro/.julia/v0.5/Cbc/deps/src/Cbc-2.9.8/Clp/src -I/home/pedro/.julia/v0.5/Cbc/deps/src/Cbc-2.9.8/Osi/src/Osi -I/home/pedro/.julia/v0.5/Cbc/deps/src/Cbc-2.9.8/CoinUtils/src -I/home/pedro/.julia/v0.5/Cbc/deps/src/Cbc-2.9.8/Clp/src/OsiClp -I/home/pedro/.julia/v0.5/Cbc/deps/src/Cbc-2.9.8/Clp/src -I/home/pedro/.julia/v0.5/Cbc/deps/src/Cbc-2.9.8/Osi/src/Osi -I/home/pedro/.julia/v0.5/Cbc/deps/src/Cbc-2.9.8/CoinUtils/src     -DCOIN_NO_CLP_MESSAGE -DUSE_CBCCONFIG   -O3 -pipe -DNDEBUG -pedantic-errors -Wparentheses -Wreturn-type -Wcast-qual -Wall -Wpointer-arith -Wwrite-strings -Wconversion -Wno-unknown-pragmas -Wno-long-long   -DCBC_BUILD -MT CbcCompareDepth.lo -MD -MP -MF \".deps/CbcCompareDepth.Tpo\" -c -o CbcCompareDepth.lo CbcCompareDepth.cpp; \\\n",
      "then mv -f \".deps/CbcCompareDepth.Tpo\" \".deps/CbcCompareDepth.Plo\"; else rm -f \".deps/CbcCompareDepth.Tpo\"; exit 1; fi\n"
     ]
    },
    {
     "name": "stderr",
     "output_type": "stream",
     "text": [
      "In file included from /home/pedro/.julia/v0.5/Cbc/deps/src/Cbc-2.9.8/Osi/src/Osi/OsiSolverInterface.hpp:17:0,\n",
      "                 from CbcModel.hpp:11,\n",
      "                 from CbcCompareDefault.cpp:19:\n",
      "/home/pedro/.julia/v0.5/Cbc/deps/src/Cbc-2.9.8/CoinUtils/src/CoinFinite.hpp:20:14: warning: ‘COIN_INT_MAX_AS_DOUBLE’ defined but not used [-Wunused-variable]\n",
      " const double COIN_INT_MAX_AS_DOUBLE = (std::numeric_limits<int>::max)();\n",
      "              ^\n"
     ]
    },
    {
     "name": "stdout",
     "output_type": "stream",
     "text": [
      " g++ -DHAVE_CONFIG_H -I. -I. -I../src -I/home/pedro/.julia/v0.5/Cbc/deps/src/Cbc-2.9.8/Cgl/src -I/home/pedro/.julia/v0.5/Cbc/deps/src/Cbc-2.9.8/Cgl/src/CglAllDifferent -I/home/pedro/.julia/v0.5/Cbc/deps/src/Cbc-2.9.8/Cgl/src/CglClique -I/home/pedro/.julia/v0.5/Cbc/deps/src/Cbc-2.9.8/Cgl/src/CglDuplicateRow -I/home/pedro/.julia/v0.5/Cbc/deps/src/Cbc-2.9.8/Cgl/src/CglFlowCover -I/home/pedro/.julia/v0.5/Cbc/deps/src/Cbc-2.9.8/Cgl/src/CglGMI -I/home/pedro/.julia/v0.5/Cbc/deps/src/Cbc-2.9.8/Cgl/src/CglGomory -I/home/pedro/.julia/v0.5/Cbc/deps/src/Cbc-2.9.8/Cgl/src/CglKnapsackCover -I/home/pedro/.julia/v0.5/Cbc/deps/src/Cbc-2.9.8/Cgl/src/CglLandP -I/home/pedro/.julia/v0.5/Cbc/deps/src/Cbc-2.9.8/Cgl/src/CglLiftAndProject -I/home/pedro/.julia/v0.5/Cbc/deps/src/Cbc-2.9.8/Cgl/src/CglMixedIntegerRounding -I/home/pedro/.julia/v0.5/Cbc/deps/src/Cbc-2.9.8/Cgl/src/CglMixedIntegerRounding2 -I/home/pedro/.julia/v0.5/Cbc/deps/src/Cbc-2.9.8/Cgl/src/CglOddHole -I/home/pedro/.julia/v0.5/Cbc/deps/src/Cbc-2.9.8/Cgl/src/CglPreProcess -I/home/pedro/.julia/v0.5/Cbc/deps/src/Cbc-2.9.8/Cgl/src/CglProbing -I/home/pedro/.julia/v0.5/Cbc/deps/src/Cbc-2.9.8/Cgl/src/CglRedSplit -I/home/pedro/.julia/v0.5/Cbc/deps/src/Cbc-2.9.8/Cgl/src/CglRedSplit2 -I/home/pedro/.julia/v0.5/Cbc/deps/src/Cbc-2.9.8/Cgl/src/CglResidualCapacity -I/home/pedro/.julia/v0.5/Cbc/deps/src/Cbc-2.9.8/Cgl/src/CglSimpleRounding -I/home/pedro/.julia/v0.5/Cbc/deps/src/Cbc-2.9.8/Cgl/src/CglTwomir -I/home/pedro/.julia/v0.5/Cbc/deps/src/Cbc-2.9.8/Cgl/src/CglZeroHalf -I/home/pedro/.julia/v0.5/Cbc/deps/src/Cbc-2.9.8/Cgl/src -I/home/pedro/.julia/v0.5/Cbc/deps/src/Cbc-2.9.8/Clp/src/OsiClp -I/home/pedro/.julia/v0.5/Cbc/deps/src/Cbc-2.9.8/Clp/src -I/home/pedro/.julia/v0.5/Cbc/deps/src/Cbc-2.9.8/Osi/src/Osi -I/home/pedro/.julia/v0.5/Cbc/deps/src/Cbc-2.9.8/CoinUtils/src -I/home/pedro/.julia/v0.5/Cbc/deps/src/Cbc-2.9.8/Clp/src/OsiClp -I/home/pedro/.julia/v0.5/Cbc/deps/src/Cbc-2.9.8/Clp/src -I/home/pedro/.julia/v0.5/Cbc/deps/src/Cbc-2.9.8/Osi/src/Osi -I/home/pedro/.julia/v0.5/Cbc/deps/src/Cbc-2.9.8/CoinUtils/src -DCOIN_NO_CLP_MESSAGE -DUSE_CBCCONFIG -O3 -pipe -DNDEBUG -pedantic-errors -Wparentheses -Wreturn-type -Wcast-qual -Wall -Wpointer-arith -Wwrite-strings -Wconversion -Wno-unknown-pragmas -Wno-long-long -DCBC_BUILD -MT CbcCompareDepth.lo -MD -MP -MF .deps/CbcCompareDepth.Tpo -c CbcCompareDepth.cpp  -fPIC -DPIC -o .libs/CbcCompareDepth.o\n",
      "if /bin/bash ../../libtool --tag=CXX --mode=compile g++ -DHAVE_CONFIG_H -I. -I`echo .` -I../src  -I/home/pedro/.julia/v0.5/Cbc/deps/src/Cbc-2.9.8/Cgl/src -I/home/pedro/.julia/v0.5/Cbc/deps/src/Cbc-2.9.8/Cgl/src/CglAllDifferent -I/home/pedro/.julia/v0.5/Cbc/deps/src/Cbc-2.9.8/Cgl/src/CglClique -I/home/pedro/.julia/v0.5/Cbc/deps/src/Cbc-2.9.8/Cgl/src/CglDuplicateRow -I/home/pedro/.julia/v0.5/Cbc/deps/src/Cbc-2.9.8/Cgl/src/CglFlowCover -I/home/pedro/.julia/v0.5/Cbc/deps/src/Cbc-2.9.8/Cgl/src/CglGMI -I/home/pedro/.julia/v0.5/Cbc/deps/src/Cbc-2.9.8/Cgl/src/CglGomory -I/home/pedro/.julia/v0.5/Cbc/deps/src/Cbc-2.9.8/Cgl/src/CglKnapsackCover -I/home/pedro/.julia/v0.5/Cbc/deps/src/Cbc-2.9.8/Cgl/src/CglLandP -I/home/pedro/.julia/v0.5/Cbc/deps/src/Cbc-2.9.8/Cgl/src/CglLiftAndProject -I/home/pedro/.julia/v0.5/Cbc/deps/src/Cbc-2.9.8/Cgl/src/CglMixedIntegerRounding -I/home/pedro/.julia/v0.5/Cbc/deps/src/Cbc-2.9.8/Cgl/src/CglMixedIntegerRounding2 -I/home/pedro/.julia/v0.5/Cbc/deps/src/Cbc-2.9.8/Cgl/src/CglOddHole -I/home/pedro/.julia/v0.5/Cbc/deps/src/Cbc-2.9.8/Cgl/src/CglPreProcess -I/home/pedro/.julia/v0.5/Cbc/deps/src/Cbc-2.9.8/Cgl/src/CglProbing -I/home/pedro/.julia/v0.5/Cbc/deps/src/Cbc-2.9.8/Cgl/src/CglRedSplit -I/home/pedro/.julia/v0.5/Cbc/deps/src/Cbc-2.9.8/Cgl/src/CglRedSplit2 -I/home/pedro/.julia/v0.5/Cbc/deps/src/Cbc-2.9.8/Cgl/src/CglResidualCapacity -I/home/pedro/.julia/v0.5/Cbc/deps/src/Cbc-2.9.8/Cgl/src/CglSimpleRounding -I/home/pedro/.julia/v0.5/Cbc/deps/src/Cbc-2.9.8/Cgl/src/CglTwomir -I/home/pedro/.julia/v0.5/Cbc/deps/src/Cbc-2.9.8/Cgl/src/CglZeroHalf -I/home/pedro/.julia/v0.5/Cbc/deps/src/Cbc-2.9.8/Cgl/src -I/home/pedro/.julia/v0.5/Cbc/deps/src/Cbc-2.9.8/Clp/src/OsiClp -I/home/pedro/.julia/v0.5/Cbc/deps/src/Cbc-2.9.8/Clp/src -I/home/pedro/.julia/v0.5/Cbc/deps/src/Cbc-2.9.8/Osi/src/Osi -I/home/pedro/.julia/v0.5/Cbc/deps/src/Cbc-2.9.8/CoinUtils/src -I/home/pedro/.julia/v0.5/Cbc/deps/src/Cbc-2.9.8/Clp/src/OsiClp -I/home/pedro/.julia/v0.5/Cbc/deps/src/Cbc-2.9.8/Clp/src -I/home/pedro/.julia/v0.5/Cbc/deps/src/Cbc-2.9.8/Osi/src/Osi -I/home/pedro/.julia/v0.5/Cbc/deps/src/Cbc-2.9.8/CoinUtils/src     -DCOIN_NO_CLP_MESSAGE -DUSE_CBCCONFIG   -O3 -pipe -DNDEBUG -pedantic-errors -Wparentheses -Wreturn-type -Wcast-qual -Wall -Wpointer-arith -Wwrite-strings -Wconversion -Wno-unknown-pragmas -Wno-long-long   -DCBC_BUILD -MT CbcCompareEstimate.lo -MD -MP -MF \".deps/CbcCompareEstimate.Tpo\" -c -o CbcCompareEstimate.lo CbcCompareEstimate.cpp; \\\n",
      "then mv -f \".deps/CbcCompareEstimate.Tpo\" \".deps/CbcCompareEstimate.Plo\"; else rm -f \".deps/CbcCompareEstimate.Tpo\"; exit 1; fi\n"
     ]
    },
    {
     "name": "stderr",
     "output_type": "stream",
     "text": [
      "In file included from /home/pedro/.julia/v0.5/Cbc/deps/src/Cbc-2.9.8/Osi/src/Osi/OsiSolverInterface.hpp:17:0,\n",
      "                 from CbcModel.hpp:11,\n",
      "                 from CbcCompareDepth.cpp:19:\n",
      "/home/pedro/.julia/v0.5/Cbc/deps/src/Cbc-2.9.8/CoinUtils/src/CoinFinite.hpp:20:14: warning: ‘COIN_INT_MAX_AS_DOUBLE’ defined but not used [-Wunused-variable]\n",
      " const double COIN_INT_MAX_AS_DOUBLE = (std::numeric_limits<int>::max)();\n",
      "              ^\n",
      "Excessive output truncated after 526003 bytes."
     ]
    }
   ],
   "source": [
    "Pkg.add(\"Clp\")"
   ]
  },
  {
   "cell_type": "markdown",
   "metadata": {},
   "source": [
    "To get a feeling of JuMP basic function we will implement the following model:\n",
    "\n",
    "$Max\\ x + y$\n",
    "\n",
    "subject to:\n",
    "\n",
    "$2x + 4y <= 10,$\n",
    "\n",
    "$2x + 2y <= 10.$\n",
    "\n",
    "We begin by creating a Model object."
   ]
  },
  {
   "cell_type": "code",
   "execution_count": 15,
   "metadata": {
    "collapsed": false
   },
   "outputs": [
    {
     "name": "stderr",
     "output_type": "stream",
     "text": [
      "\u001b[1m\u001b[34mINFO: Precompiling module Clp.\n",
      "\u001b[0m"
     ]
    },
    {
     "data": {
      "text/latex": [
       "$$ \\begin{alignat*}{1}\\min\\quad & 0\\\\\n",
       "\\text{Subject to} \\quad\\end{alignat*}\n",
       " $$"
      ],
      "text/plain": [
       "Feasibility problem with:\n",
       " * 0 linear constraints\n",
       " * 0 variables\n",
       "Solver is default solver"
      ]
     },
     "execution_count": 15,
     "metadata": {},
     "output_type": "execute_result"
    }
   ],
   "source": [
    "using JuMP  # Tell that we are using the JuMP library\n",
    "using Clp   # Tell that we are using the Clp solver\n",
    "\n",
    "m = Model()"
   ]
  },
  {
   "cell_type": "markdown",
   "metadata": {},
   "source": [
    "The second step is to define the variables. Their are associated with the model and can created using the <i>@variable</i> macro."
   ]
  },
  {
   "cell_type": "code",
   "execution_count": 16,
   "metadata": {
    "collapsed": false
   },
   "outputs": [
    {
     "data": {
      "text/latex": [
       "$$ y $$"
      ],
      "text/plain": [
       "y"
      ]
     },
     "execution_count": 16,
     "metadata": {},
     "output_type": "execute_result"
    }
   ],
   "source": [
    "@variable(m, x)\n",
    "@variable(m, y)"
   ]
  },
  {
   "cell_type": "markdown",
   "metadata": {},
   "source": [
    "Then, the objective function."
   ]
  },
  {
   "cell_type": "code",
   "execution_count": 17,
   "metadata": {
    "collapsed": false
   },
   "outputs": [
    {
     "data": {
      "text/latex": [
       "$$ x + y $$"
      ],
      "text/plain": [
       "x + y"
      ]
     },
     "execution_count": 17,
     "metadata": {},
     "output_type": "execute_result"
    }
   ],
   "source": [
    "@objective(m, Max, x + y)"
   ]
  },
  {
   "cell_type": "markdown",
   "metadata": {},
   "source": [
    "Finally, the constraints."
   ]
  },
  {
   "cell_type": "code",
   "execution_count": 18,
   "metadata": {
    "collapsed": false
   },
   "outputs": [
    {
     "data": {
      "text/latex": [
       "$$ \\begin{alignat*}{1}\\max\\quad & x + y\\\\\n",
       "\\text{Subject to} \\quad & 2 x + 3 y \\leq 10\\\\\n",
       " & 3 x + 2 y \\leq 10\\\\\n",
       " & x free\\\\\n",
       " & y free\\\\\n",
       "\\end{alignat*}\n",
       " $$"
      ],
      "text/plain": [
       "Maximization problem with:\n",
       " * 2 linear constraints\n",
       " * 2 variables\n",
       "Solver is default solver"
      ]
     },
     "execution_count": 18,
     "metadata": {},
     "output_type": "execute_result"
    }
   ],
   "source": [
    "@constraint(m, 2x + 3y <= 10)\n",
    "@constraint(m, 3x + 2y <= 10)\n",
    "\n",
    "m  # Just to diplay our model"
   ]
  },
  {
   "cell_type": "markdown",
   "metadata": {},
   "source": [
    "Now that we have completely defined our model, we may want to solve it."
   ]
  },
  {
   "cell_type": "code",
   "execution_count": 19,
   "metadata": {
    "collapsed": false
   },
   "outputs": [
    {
     "data": {
      "text/plain": [
       ":Optimal"
      ]
     },
     "execution_count": 19,
     "metadata": {},
     "output_type": "execute_result"
    }
   ],
   "source": [
    "solve(m)"
   ]
  },
  {
   "cell_type": "markdown",
   "metadata": {},
   "source": [
    "The solve function returns the status of the solving procedure. We can query for the solution and variable values using <i>getobjectivevalue</i> and <i>getvalue</i> functions."
   ]
  },
  {
   "cell_type": "code",
   "execution_count": 20,
   "metadata": {
    "collapsed": false
   },
   "outputs": [
    {
     "name": "stdout",
     "output_type": "stream",
     "text": [
      "Objective function = 4.0\n",
      "x = 2.0\n",
      "y = 2.0\n"
     ]
    }
   ],
   "source": [
    "println(\"Objective function = \", getobjectivevalue(m))\n",
    "\n",
    "println(\"x = \", getvalue(x))\n",
    "println(\"y = \", getvalue(y))"
   ]
  },
  {
   "cell_type": "markdown",
   "metadata": {},
   "source": [
    "## The sum function\n",
    "\n",
    "Let $i \\in I$ be an item with value $v_i$ and volume $c_i$. We want to choose the most valuable subset of items to carry in a knaspack withouth violating its capacity $C$. Let $x_i \\in \\{0, 1\\}$, $i \\in I$ indicate whether item $i$ is put into the knapsack. The following integer program solver our knapsack problem.\n",
    "\n",
    "$\\displaystyle Max\\ \\sum_{i \\in I} v_i x_i$\n",
    "\n",
    "subject to\n",
    "\n",
    "$\\displaystyle \\sum_{i \\in I} c_i x_i \\leq C,$\n",
    "\n",
    "$x_i \\in \\{0, 1\\}, i \\in I.$\n",
    "\n",
    "We will implement this program using JuMP. First, we need some input data."
   ]
  },
  {
   "cell_type": "code",
   "execution_count": 33,
   "metadata": {
    "collapsed": false
   },
   "outputs": [
    {
     "data": {
      "text/plain": [
       "12"
      ]
     },
     "execution_count": 33,
     "metadata": {},
     "output_type": "execute_result"
    }
   ],
   "source": [
    "v = [3, 1, 4, 6, 2, 7, 2, 4, 7, 9, 5, 7, 3, 1]  # Value of the items.\n",
    "c = [2, 5, 3, 8, 9, 6, 4, 8, 2, 2, 1, 4, 2, 3]  # Volume of the items.\n",
    "n = length(v)  # How many items we have\n",
    "\n",
    "C = 12  # The capacity of our knapsack."
   ]
  },
  {
   "cell_type": "markdown",
   "metadata": {},
   "source": [
    "We do the same as before, create our model."
   ]
  },
  {
   "cell_type": "code",
   "execution_count": 22,
   "metadata": {
    "collapsed": false
   },
   "outputs": [
    {
     "data": {
      "text/latex": [
       "$$ \\begin{alignat*}{1}\\min\\quad & 0\\\\\n",
       "\\text{Subject to} \\quad\\end{alignat*}\n",
       " $$"
      ],
      "text/plain": [
       "Feasibility problem with:\n",
       " * 0 linear constraints\n",
       " * 0 variables\n",
       "Solver is default solver"
      ]
     },
     "execution_count": 22,
     "metadata": {},
     "output_type": "execute_result"
    }
   ],
   "source": [
    "m = Model()"
   ]
  },
  {
   "cell_type": "markdown",
   "metadata": {},
   "source": [
    "But now, we are not going to creating the variables one by one, instead we will use the following."
   ]
  },
  {
   "cell_type": "code",
   "execution_count": 25,
   "metadata": {
    "collapsed": false
   },
   "outputs": [
    {
     "name": "stderr",
     "output_type": "stream",
     "text": [
      "\u001b[1m\u001b[31mWARNING: A variable named x is already attached to this model. If creating variables programmatically, consider using the anonymous variable syntax x = @variable(m, [1:N], ...).\u001b[0m\n"
     ]
    },
    {
     "data": {
      "text/latex": [
       "$$ x_{1} $$"
      ],
      "text/plain": [
       "x[1]"
      ]
     },
     "execution_count": 25,
     "metadata": {},
     "output_type": "execute_result"
    }
   ],
   "source": [
    "@variable(m, x[i=1:n], Bin)"
   ]
  },
  {
   "cell_type": "markdown",
   "metadata": {},
   "source": [
    "Which is a shortcut for adding the variables <i>x[1]</i> to <i>x[|n|]</i> to the model <i>m</i>. To add the objective function we can use the <i> sum </i> function."
   ]
  },
  {
   "cell_type": "code",
   "execution_count": 29,
   "metadata": {
    "collapsed": false
   },
   "outputs": [
    {
     "data": {
      "text/latex": [
       "$$ 3 x_{1} + x_{2} + 4 x_{3} + 6 x_{4} + 2 x_{5} + 7 x_{6} + 2 x_{7} + 4 x_{8} + 7 x_{9} + 9 x_{10} + 5 x_{11} + 7 x_{12} + 3 x_{13} + x_{14} $$"
      ],
      "text/plain": [
       "3 x[1] + x[2] + 4 x[3] + 6 x[4] + 2 x[5] + 7 x[6] + 2 x[7] + 4 x[8] + 7 x[9] + 9 x[10] + 5 x[11] + 7 x[12] + 3 x[13] + x[14]"
      ]
     },
     "execution_count": 29,
     "metadata": {},
     "output_type": "execute_result"
    }
   ],
   "source": [
    "@objective(m, Max, sum(v[i]*x[i] for i=1:n))"
   ]
  },
  {
   "cell_type": "markdown",
   "metadata": {},
   "source": [
    "It can also be used to create constraints."
   ]
  },
  {
   "cell_type": "code",
   "execution_count": 34,
   "metadata": {
    "collapsed": false
   },
   "outputs": [
    {
     "data": {
      "text/latex": [
       "$$ \\begin{alignat*}{1}\\max\\quad & 3 x_{1} + x_{2} + 4 x_{3} + 6 x_{4} + 2 x_{5} + 7 x_{6} + 2 x_{7} + 4 x_{8} + 7 x_{9} + 9 x_{10} + 5 x_{11} + 7 x_{12} + 3 x_{13} + x_{14}\\\\\n",
       "\\text{Subject to} \\quad & 2 x_{1} + 5 x_{2} + 3 x_{3} + 8 x_{4} + 9 x_{5} + 6 x_{6} + 4 x_{7} + 8 x_{8} + 2 x_{9} + 2 x_{10} + x_{11} + 4 x_{12} + 2 x_{13} + 3 x_{14} \\leq 12\\\\\n",
       " & x_{i} \\in \\{0,1\\} \\quad\\forall i \\in \\{1,2,\\dots,13,14\\}\\\\\n",
       " & x_{i} \\in \\{0,1\\} \\quad\\forall i \\in \\{1,2,\\dots,13,14\\}\\\\\n",
       "\\end{alignat*}\n",
       " $$"
      ],
      "text/plain": [
       "Maximization problem with:\n",
       " * 1 linear constraint\n",
       " * 28 variables: 28 binary\n",
       "Solver is default solver"
      ]
     },
     "execution_count": 34,
     "metadata": {},
     "output_type": "execute_result"
    }
   ],
   "source": [
    "@constraint(m, sum(x[i]*c[i] for i=1:n) <= C)\n",
    "\n",
    "m  # Just to print our model."
   ]
  },
  {
   "cell_type": "markdown",
   "metadata": {},
   "source": [
    "And then, we can solve our model."
   ]
  },
  {
   "cell_type": "code",
   "execution_count": 36,
   "metadata": {
    "collapsed": false
   },
   "outputs": [
    {
     "name": "stdout",
     "output_type": "stream",
     "text": [
      "Presolve 0 (-1) rows, 0 (-28) columns and 0 (-14) elements\n",
      "Optimal - objective value 32\n",
      "After Postsolve, objective 32, infeasibilities - dual 0 (0), primal 0 (0)\n",
      "Optimal objective 32 - 0 iterations time 0.002, Presolve 0.00\n",
      "Cbc0045I Solution with objective value -32 saved\n",
      "Coin0505I Presolved problem not optimal, resolve after postsolve\n",
      "Coin0505I Presolved problem not optimal, resolve after postsolve\n"
     ]
    },
    {
     "data": {
      "text/plain": [
       ":Optimal"
      ]
     },
     "execution_count": 36,
     "metadata": {},
     "output_type": "execute_result"
    }
   ],
   "source": [
    "solve(m)"
   ]
  },
  {
   "cell_type": "code",
   "execution_count": 37,
   "metadata": {
    "collapsed": false
   },
   "outputs": [
    {
     "name": "stdout",
     "output_type": "stream",
     "text": [
      "Take \t Don't take\n",
      "1\n",
      "\t 2\n",
      "\t 3\n",
      "\t 4\n",
      "\t 5\n",
      "\t 6\n",
      "\t 7\n",
      "\t 8\n",
      "9\n",
      "10\n",
      "11\n",
      "12\n",
      "\t 13\n",
      "\t 14\n"
     ]
    }
   ],
   "source": [
    "println(\"Take \\t Don't take\")\n",
    "\n",
    "for i in collect(1:n)\n",
    "    if getvalue(x[i]) >= 0.99\n",
    "        println(\"$i\")\n",
    "    else\n",
    "        println(\"\\t $i\")\n",
    "    end\n",
    "end"
   ]
  },
  {
   "cell_type": "markdown",
   "metadata": {},
   "source": [
    "## A more visual example\n",
    "\n",
    "In this example, let us assume we have some experimental data and want to fit a linear model to it. Perhaps, the most famous method to accomplish this is to use the Least Square Method, which finds the linear model that minimizes the squared error, i. e. the distance from data points to the model. Instead of minimizing the square error, we will minimize the absolute error. More formally, we have experimental points $(x_i, y_i)$, $i = 1, \\ldots, n$ and we want the parameters $(a, b)$ of a function $f(x) = ax + b$ such that:\n",
    "\n",
    "$$|\\sum_{i=1}^n f(x_i) - y_i|$$\n",
    "\n",
    "is minimized. We can formulate a linear programming model of the problem using $a$ and $b$ as decision variables:\n",
    "\n",
    "$\\displaystyle Min\\ \\epsilon$,\n",
    "\n",
    "subject to:\n",
    "\n",
    "$\\displaystyle \\sum_{i=1}^n y_i - a x_i - b \\leq -\\epsilon b$,\n",
    "\n",
    "$\\displaystyle \\sum_{i=1}^n -y_i - a x_i - b \\geq \\epsilon b$.\n",
    "\n",
    "To test it, let us generate some data."
   ]
  },
  {
   "cell_type": "code",
   "execution_count": 80,
   "metadata": {
    "collapsed": false
   },
   "outputs": [
    {
     "name": "stdout",
     "output_type": "stream",
     "text": [
      "\n",
      "1.509798684883786 0.3461233118118061\n",
      "1.9877112639066747 2.66817639883002\n",
      "2.8094902446848318 3.8182113440453427\n",
      "4.783994809808641 4.052226049475551\n",
      "5.2249235760685 4.247593795872436\n",
      "5.092052541889958 5.377021038892789\n",
      "7.892834685549638 6.635680005314807\n",
      "7.834084190378421 7.980834511092185\n",
      "9.800777408959934 8.586430704181453\n",
      "9.601217508263106 9.795588724282496\n"
     ]
    },
    {
     "data": {
      "text/plain": [
       "10×2 Array{Float64,2}:\n",
       " 1.5098   0.346123\n",
       " 1.98771  2.66818 \n",
       " 2.80949  3.81821 \n",
       " 4.78399  4.05223 \n",
       " 5.22492  4.24759 \n",
       " 5.09205  5.37702 \n",
       " 7.89283  6.63568 \n",
       " 7.83408  7.98083 \n",
       " 9.80078  8.58643 \n",
       " 9.60122  9.79559 "
      ]
     },
     "execution_count": 80,
     "metadata": {},
     "output_type": "execute_result"
    }
   ],
   "source": [
    "n = 10\n",
    "\n",
    "points = Array{Float64, Float64}[]\n",
    "points = zeros(0, 2)\n",
    "\n",
    "println(points)\n",
    "for i=1:n\n",
    "    \n",
    "    xRand = rand()*2 - 1\n",
    "    yRand = rand()*2 - 1\n",
    "\n",
    "    x, y = i + xRand, i + yRand\n",
    "    points = [points; x y]\n",
    "end\n",
    "\n",
    "points"
   ]
  },
  {
   "cell_type": "markdown",
   "metadata": {},
   "source": [
    "To get a sense of the data, let us scatter plot it."
   ]
  },
  {
   "cell_type": "code",
   "execution_count": 43,
   "metadata": {
    "collapsed": false
   },
   "outputs": [
    {
     "name": "stderr",
     "output_type": "stream",
     "text": [
      "\u001b[1m\u001b[34mINFO: Nothing to be done\n",
      "\u001b[0m\u001b[1m\u001b[34mINFO: METADATA is out-of-date — you may not have the latest version of PyPlot\n",
      "\u001b[0m\u001b[1m\u001b[34mINFO: Use `Pkg.update()` to get the latest versions of your packages\n",
      "\u001b[0m\u001b[1m\u001b[34mINFO: Precompiling module PyPlot.\n",
      "\u001b[0m"
     ]
    },
    {
     "ename": "LoadError",
     "evalue": "InitError: Failed to import required Python module matplotlib.\n\nFor automated matplotlib installation, try configuring PyCall to use the Conda.jl package's Python \"Miniconda\" distribution within Julia. Relaunch Julia and run:\n    ENV[\"PYTHON\"]=\"\"\n    Pkg.build(\"PyCall\")\nbefore trying again.\n\nThe pyimport exception was: PyError (:PyImport_ImportModule) <type 'exceptions.ImportError'>\nImportError('No module named matplotlib',)\n\n\nduring initialization of module PyPlot",
     "output_type": "error",
     "traceback": [
      "InitError: Failed to import required Python module matplotlib.\n\nFor automated matplotlib installation, try configuring PyCall to use the Conda.jl package's Python \"Miniconda\" distribution within Julia. Relaunch Julia and run:\n    ENV[\"PYTHON\"]=\"\"\n    Pkg.build(\"PyCall\")\nbefore trying again.\n\nThe pyimport exception was: PyError (:PyImport_ImportModule) <type 'exceptions.ImportError'>\nImportError('No module named matplotlib',)\n\n\nduring initialization of module PyPlot",
      "",
      " in pyimport_conda(::String, ::String, ::String) at /home/pedro/.julia/v0.5/PyCall/src/PyCall.jl:502",
      " in __init__() at /home/pedro/.julia/v0.5/PyPlot/src/PyPlot.jl:223",
      " in _include_from_serialized(::String) at ./loading.jl:150",
      " in _require_from_serialized(::Int64, ::Symbol, ::String, ::Bool) at ./loading.jl:187",
      " in require(::Symbol) at ./loading.jl:423"
     ]
    }
   ],
   "source": [
    "Pkg.add(\"PyPlot\")\n",
    "using PyPlot\n",
    "\n",
    "grid(\"on\")\n",
    "\n",
    "for j in 1:size(points,1)\n",
    "    xp, yp = points[j, :]\n",
    "    scatter(xp, yp)\n",
    "end\n",
    "\n",
    "y = [getvalue(angCoeff)*points[i, 1] + getvalue(linearCoeff) for i in 1:size(points,1)]\n",
    "plot(points[:, 1], y)\n",
    "\n",
    "y = [0.96596 * points[i, 1] + 0.775847 for i in 1:size(points,1)]\n",
    "plot(points[:, 1], y)"
   ]
  },
  {
   "cell_type": "code",
   "execution_count": 114,
   "metadata": {
    "collapsed": false
   },
   "outputs": [
    {
     "data": {
      "text/latex": [
       "$$ \\begin{alignat*}{1}\\min\\quad & err\\\\\n",
       "\\text{Subject to} \\quad & -56.00000000000001 angCoeff - 10 linearCoeff - err \\leq -69.31768448145897\\\\\n",
       " & 56.00000000000001 angCoeff + 10 linearCoeff + err \\geq 69.31768448145897\\\\\n",
       " & err \\geq 0\\\\\n",
       " & angCoeff free\\\\\n",
       " & linearCoeff free\\\\\n",
       "\\end{alignat*}\n",
       " $$"
      ],
      "text/plain": [
       "Minimization problem with:\n",
       " * 2 linear constraints\n",
       " * 3 variables\n",
       "Solver is default solver"
      ]
     },
     "execution_count": 114,
     "metadata": {},
     "output_type": "execute_result"
    }
   ],
   "source": [
    "using JuMP\n",
    "\n",
    "m = Model()\n",
    "\n",
    "@variable(m, err, lowerbound=0)\n",
    "@variable(m, angCoeff)\n",
    "@variable(m, linearCoeff)\n",
    "\n",
    "@objective(m, Min, err)\n",
    "\n",
    "@constraint(m, sum(points[i, 2] - angCoeff*points[i, 1] - linearCoeff  for i in 1:size(points,1)) <= err)\n",
    "@constraint(m, -sum(points[i, 2] - angCoeff*points[i, 1] - linearCoeff  for i in 1:size(points,1)) >= -err)\n",
    "m"
   ]
  },
  {
   "cell_type": "code",
   "execution_count": 115,
   "metadata": {
    "collapsed": false
   },
   "outputs": [
    {
     "name": "stdout",
     "output_type": "stream",
     "text": [
      "Angular coeff = 1.2378157943117671\n",
      "Linear coeff = 0.0\n"
     ]
    }
   ],
   "source": [
    "solve(m)\n",
    "println(\"Angular coeff = $(getvalue(angCoeff))\")\n",
    "println(\"Linear coeff = $(getvalue(linearCoeff))\")"
   ]
  },
  {
   "cell_type": "code",
   "execution_count": 116,
   "metadata": {
    "collapsed": false
   },
   "outputs": [
    {
     "name": "stderr",
     "output_type": "stream",
     "text": [
      "INFO: Nothing to be done\n",
      "INFO: Updating METADATA...\n",
      "INFO: Updating cache of DataFrames...\n",
      "INFO: Updating cache of DataFrames...\n",
      "INFO: Computing changes...\n",
      "INFO: No packages to install, update or remove\n"
     ]
    }
   ],
   "source": [
    "Pkg.add(\"PyPlot\")\n",
    "Pkg.update()"
   ]
  },
  {
   "cell_type": "code",
   "execution_count": 112,
   "metadata": {
    "collapsed": false
   },
   "outputs": [
    {
     "data": {
      "image/png": "[encoded data removed]",
      "text/plain": [
       "PyPlot.Figure(PyObject <matplotlib.figure.Figure object at 0x7f7ac55f1f90>)"
      ]
     },
     "metadata": {},
     "output_type": "display_data"
    },
    {
     "data": {
      "text/plain": [
       "1-element Array{Any,1}:\n",
       " PyObject <matplotlib.lines.Line2D object at 0x7f7ac5966fd0>"
      ]
     },
     "execution_count": 112,
     "metadata": {},
     "output_type": "execute_result"
    }
   ],
   "source": [
    "using PyPlot\n",
    "\n",
    "grid(\"on\")\n",
    "\n",
    "for j in 1:size(points,1)\n",
    "    xp, yp = points[j, :]\n",
    "    scatter(xp, yp)\n",
    "end\n",
    "\n",
    "y = [getvalue(angCoeff)*points[i, 1] + getvalue(linearCoeff) for i in 1:size(points,1)]\n",
    "plot(points[:, 1], y)\n",
    "\n",
    "y = [0.96596 * points[i, 1] + 0.775847 for i in 1:size(points,1)]\n",
    "plot(points[:, 1], y)"
   ]
  },
  {
   "cell_type": "code",
   "execution_count": 79,
   "metadata": {
    "collapsed": false
   },
   "outputs": [
    {
     "name": "stderr",
     "output_type": "stream",
     "text": [
      "INFO: Cloning cache of Distributions from https://github.com/JuliaStats/Distributions.jl.git\n",
      "INFO: Cloning cache of GLM from https://github.com/JuliaStats/GLM.jl.git\n",
      "INFO: Cloning cache of PDMats from https://github.com/JuliaStats/PDMats.jl.git\n",
      "INFO: Cloning cache of Rmath from https://github.com/JuliaStats/Rmath.jl.git\n",
      "INFO: Cloning cache of StatsBase from https://github.com/JuliaStats/StatsBase.jl.git\n",
      "INFO: Cloning cache of StatsFuns from https://github.com/JuliaStats/StatsFuns.jl.git\n",
      "INFO: Installing Distributions v0.11.1\n",
      "INFO: Installing GLM v0.6.1\n",
      "INFO: Installing PDMats v0.5.2\n",
      "INFO: Installing Rmath v0.1.5\n",
      "INFO: Installing StatsBase v0.11.1\n",
      "INFO: Installing StatsFuns v0.3.1\n",
      "INFO: Building Rmath\n",
      "INFO: Package database updated\n"
     ]
    }
   ],
   "source": [
    "Pkg.add(\"GLM\")"
   ]
  },
  {
   "cell_type": "code",
   "execution_count": 82,
   "metadata": {
    "collapsed": false
   },
   "outputs": [
    {
     "name": "stderr",
     "output_type": "stream",
     "text": [
      "INFO: Cloning cache of DataArrays from https://github.com/JuliaStats/DataArrays.jl.git\n",
      "INFO: Cloning cache of DataFrames from https://github.com/JuliaStats/DataFrames.jl.git\n",
      "INFO: Cloning cache of GZip from https://github.com/JuliaIO/GZip.jl.git\n",
      "INFO: Cloning cache of SortingAlgorithms from https://github.com/JuliaLang/SortingAlgorithms.jl.git\n",
      "INFO: Installing DataArrays v0.3.10\n",
      "INFO: Installing DataFrames v0.8.5\n",
      "INFO: Installing GZip v0.2.20\n",
      "INFO: Installing SortingAlgorithms v0.1.0\n",
      "INFO: Package database updated\n"
     ]
    }
   ],
   "source": [
    "Pkg.add(\"DataFrames\")"
   ]
  },
  {
   "cell_type": "code",
   "execution_count": 110,
   "metadata": {
    "collapsed": false
   },
   "outputs": [
    {
     "data": {
      "text/html": [
       "<table class=\"data-frame\"><thead><tr><th></th><th>X</th><th>Y</th></tr></thead><tbody><tr><th>1</th><td>1.1</td><td>1.9229738407418053</td></tr><tr><th>2</th><td>2.1</td><td>2.6917057967009814</td></tr><tr><th>3</th><td>3.1</td><td>3.8109868733304517</td></tr><tr><th>4</th><td>4.1</td><td>4.63230432062981</td></tr><tr><th>5</th><td>5.1</td><td>5.586423637920026</td></tr><tr><th>6</th><td>6.1</td><td>6.8693406653816</td></tr><tr><th>7</th><td>7.1</td><td>7.529901584699459</td></tr><tr><th>8</th><td>8.1</td><td>8.664566204277342</td></tr><tr><th>9</th><td>9.1</td><td>10.00388240369874</td></tr><tr><th>10</th><td>10.1</td><td>10.140148154904095</td></tr></tbody></table>"
      ],
      "text/plain": [
       "10×2 DataFrames.DataFrame\n",
       "│ Row │ X    │ Y       │\n",
       "├─────┼──────┼─────────┤\n",
       "│ 1   │ 1.1  │ 1.92297 │\n",
       "│ 2   │ 2.1  │ 2.69171 │\n",
       "│ 3   │ 3.1  │ 3.81099 │\n",
       "│ 4   │ 4.1  │ 4.6323  │\n",
       "│ 5   │ 5.1  │ 5.58642 │\n",
       "│ 6   │ 6.1  │ 6.86934 │\n",
       "│ 7   │ 7.1  │ 7.5299  │\n",
       "│ 8   │ 8.1  │ 8.66457 │\n",
       "│ 9   │ 9.1  │ 10.0039 │\n",
       "│ 10  │ 10.1 │ 10.1401 │"
      ]
     },
     "execution_count": 110,
     "metadata": {},
     "output_type": "execute_result"
    }
   ],
   "source": [
    "using DataFrames\n",
    "using GLM\n",
    "data = DataFrame(X=points[:, 1], Y=points[:, 2])"
   ]
  },
  {
   "cell_type": "code",
   "execution_count": 111,
   "metadata": {
    "collapsed": false
   },
   "outputs": [
    {
     "data": {
      "text/plain": [
       "DataFrames.DataFrameRegressionModel{GLM.GeneralizedLinearModel{GLM.GlmResp{Array{Float64,1},Distributions.Normal{Float64},GLM.IdentityLink},GLM.DensePredChol{Float64,Base.LinAlg.Cholesky{Float64,Array{Float64,2}}}},Array{Float64,2}}\n",
       "\n",
       "Formula: Y ~ 1 + X\n",
       "\n",
       "Coefficients:\n",
       "             Estimate Std.Error z value Pr(>|z|)\n",
       "(Intercept)  0.775847  0.163689 4.73978    <1e-5\n",
       "X             0.96596 0.0260085 37.1401   <1e-99\n"
      ]
     },
     "execution_count": 111,
     "metadata": {},
     "output_type": "execute_result"
    }
   ],
   "source": [
    "glm(Y ~ X, data, Normal(), IdentityLink())"
   ]
  },
  {
   "cell_type": "code",
   "execution_count": null,
   "metadata": {
    "collapsed": true
   },
   "outputs": [],
   "source": []
  }
 ],
 "metadata": {
  "kernelspec": {
   "display_name": "Julia 0.5.0",
   "language": "julia",
   "name": "julia-0.5"
  },
  "language_info": {
   "file_extension": ".jl",
   "mimetype": "application/julia",
   "name": "julia",
   "version": "0.5.0"
  }
 },
 "nbformat": 4,
 "nbformat_minor": 1
}
