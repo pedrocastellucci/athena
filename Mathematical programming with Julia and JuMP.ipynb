{
 "cells": [
  {
   "cell_type": "markdown",
   "metadata": {},
   "source": [
    "# Solving mixed integer programs with PuLP"
   ]
  },
  {
   "cell_type": "code",
   "execution_count": 3,
   "metadata": {
    "collapsed": false
   },
   "outputs": [],
   "source": [
    "using JuMP"
   ]
  },
  {
   "cell_type": "code",
   "execution_count": 4,
   "metadata": {
    "collapsed": false
   },
   "outputs": [
    {
     "data": {
      "text/latex": [
       "$$ \\begin{alignat*}{1}\\max\\quad & x + y\\\\\n",
       "\\text{Subject to} \\quad & 2 x + 3 y \\leq 10\\\\\n",
       " & 3 x + 2 y \\leq 10\\\\\n",
       " & x free\\\\\n",
       " & y free\\\\\n",
       "\\end{alignat*}\n",
       " $$"
      ],
      "text/plain": [
       "Maximization problem with:\n",
       " * 2 linear constraints\n",
       " * 2 variables\n",
       "Solver is default solver"
      ]
     },
     "execution_count": 4,
     "metadata": {},
     "output_type": "execute_result"
    }
   ],
   "source": [
    "m = Model()\n",
    "\n",
    "@variable(m, x)\n",
    "@variable(m, y)\n",
    "\n",
    "@objective(m, Max, x + y)\n",
    "\n",
    "@constraint(m, 2x + 3y <= 10)\n",
    "@constraint(m, 3x + 2y <= 10)\n",
    "\n",
    "m"
   ]
  },
  {
   "cell_type": "code",
   "execution_count": 5,
   "metadata": {
    "collapsed": false
   },
   "outputs": [
    {
     "name": "stdout",
     "output_type": "stream",
     "text": [
      "Optimize a model with 2 rows, 2 columns and 4 nonzeros\n",
      "Coefficient statistics:\n",
      "  Matrix range     [2e+00, 3e+00]\n",
      "  Objective range  [1e+00, 1e+00]\n",
      "  Bounds range     [0e+00, 0e+00]\n",
      "  RHS range        [1e+01, 1e+01]\n",
      "Presolve removed 2 rows and 2 columns\n",
      "Presolve time: 0.00s\n",
      "Presolve: All rows and columns removed\n",
      "Iteration    Objective       Primal Inf.    Dual Inf.      Time\n",
      "       0    4.0000000e+00   0.000000e+00   0.000000e+00      0s\n",
      "\n",
      "Solved in 0 iterations and 0.00 seconds\n",
      "Optimal objective  4.000000000e+00\n"
     ]
    },
    {
     "data": {
      "text/plain": [
       ":Optimal"
      ]
     },
     "execution_count": 5,
     "metadata": {},
     "output_type": "execute_result"
    }
   ],
   "source": [
    "solve(m)"
   ]
  },
  {
   "cell_type": "code",
   "execution_count": 6,
   "metadata": {
    "collapsed": false
   },
   "outputs": [
    {
     "name": "stdout",
     "output_type": "stream",
     "text": [
      "Objective function = 4.0\n",
      "x = 2.0000000000000004\n",
      "y = 1.9999999999999998\n"
     ]
    }
   ],
   "source": [
    "println(\"Objective function = \", getobjectivevalue(m))\n",
    "\n",
    "println(\"x = \", getvalue(x))\n",
    "println(\"y = \", getvalue(y))"
   ]
  },
  {
   "cell_type": "code",
   "execution_count": 7,
   "metadata": {
    "collapsed": false
   },
   "outputs": [
    {
     "data": {
      "text/latex": [
       "$$ \\begin{alignat*}{1}\\max\\quad & x_{1} + x_{2} + x_{3} + x_{4} + x_{5}\\\\\n",
       "\\text{Subject to} \\quad & 2 x_{1} + 3 x_{2} + x_{3} + 5 x_{4} + 3 x_{5} \\leq 10\\\\\n",
       " & x_{i} \\in \\{0,1\\} \\quad\\forall i \\in \\{1,2,\\dots,4,5\\}\\\\\n",
       "\\end{alignat*}\n",
       " $$"
      ],
      "text/plain": [
       "Maximization problem with:\n",
       " * 1 linear constraint\n",
       " * 5 variables: 5 binary\n",
       "Solver is default solver"
      ]
     },
     "execution_count": 7,
     "metadata": {},
     "output_type": "execute_result"
    }
   ],
   "source": [
    "m = Model()\n",
    "\n",
    "@variable(m, x[i=1:5], Bin)\n",
    "\n",
    "@objective(m, Max, sum{x[i], i=1:5})\n",
    "\n",
    "a = [2, 3, 1, 5, 3]\n",
    "@constraint(m, sum{x[i]*a[i], i=1:5} <= 10)\n",
    "\n",
    "m"
   ]
  },
  {
   "cell_type": "code",
   "execution_count": 8,
   "metadata": {
    "collapsed": false
   },
   "outputs": [
    {
     "data": {
      "text/plain": [
       ":Optimal"
      ]
     },
     "execution_count": 8,
     "metadata": {},
     "output_type": "execute_result"
    }
   ],
   "source": [
    "solve(m)"
   ]
  },
  {
   "cell_type": "code",
   "execution_count": 9,
   "metadata": {
    "collapsed": false
   },
   "outputs": [
    {
     "name": "stdout",
     "output_type": "stream",
     "text": [
      "Take \t Don't take\n",
      "1\n",
      "2\n",
      "3\n",
      "\t 4\n",
      "5\n"
     ]
    }
   ],
   "source": [
    "println(\"Take \\t Don't take\")\n",
    "\n",
    "for i in collect(1:5)\n",
    "    if getvalue(x[i]) >= 0.99\n",
    "        println(\"$i\")\n",
    "    else\n",
    "        println(\"\\t $i\")\n",
    "    end\n",
    "end"
   ]
  },
  {
   "cell_type": "code",
   "execution_count": 1,
   "metadata": {
    "collapsed": false
   },
   "outputs": [],
   "source": [
    "n = 10\n",
    "points = rand(n, 2);"
   ]
  },
  {
   "cell_type": "code",
   "execution_count": null,
   "metadata": {
    "collapsed": false
   },
   "outputs": [],
   "source": []
  },
  {
   "cell_type": "code",
   "execution_count": 2,
   "metadata": {
    "collapsed": false
   },
   "outputs": [],
   "source": [
    "using JuMP\n",
    "using Gurobi\n",
    "\n",
    "c = zeros(n, n)\n",
    "\n",
    "for i=1:n\n",
    "    for j=1:n\n",
    "        c[i, j] = norm(points[i, :] - points[j, :])\n",
    "    end\n",
    "end\n",
    "c\n",
    "\n",
    "nColors = 7\n",
    "\n",
    "m = Model(solver=GurobiSolver())\n",
    "\n",
    "@variable(m, y[1:nColors], Bin)\n",
    "@variable(m, x[1:nColors, 1:n], Bin)\n",
    "#@variable(m, A[1:nColors])\n",
    "@variable(m, A)\n",
    "\n",
    "#@objective(m, Min, sum{i*y[i], i=1:nColors} + 1000000*sum{A[i], i=1:nColors})\n",
    "@objective(m, Min, sum{i*y[i], i=1:nColors} + A)\n",
    "\n",
    "for i in 1:nColors\n",
    "    @constraint(m, sum{c[j, k]*(x[i, j] + x[i, k] - 1), j=1:n, k=1:n} <= A)\n",
    "end\n",
    "\n",
    "for j in 1:n\n",
    "    @constraint(m, sum{x[i, j], i=1:nColors} == 1)\n",
    "end\n",
    "\n",
    "for i in 1:nColors\n",
    "    for j in 1:n\n",
    "        @constraint(m, x[i, j] <= y[i])\n",
    "    end\n",
    "end\n",
    "\n"
   ]
  },
  {
   "cell_type": "code",
   "execution_count": null,
   "metadata": {
    "collapsed": false
   },
   "outputs": [],
   "source": [
    "solve(m)\n",
    "getvalue(A)"
   ]
  },
  {
   "cell_type": "code",
   "execution_count": null,
   "metadata": {
    "collapsed": false
   },
   "outputs": [],
   "source": [
    "#Pkg.add(\"PyPlot\")\n",
    "#Pkg.update()"
   ]
  },
  {
   "cell_type": "code",
   "execution_count": null,
   "metadata": {
    "collapsed": false
   },
   "outputs": [],
   "source": [
    "using PyPlot\n",
    "\n",
    "colors = [\"b\", \"g\", \"r\", \"c\", \"m\", \"y\", \"k\"]\n",
    "\n",
    "grid(\"on\")\n",
    "\n",
    "for j in 1:size(points,1)\n",
    "    xp, yp = points[j, :]\n",
    "\n",
    "    for c in 1:nColors\n",
    "        if getvalue(x[c, j]) > 0.99\n",
    "            scatter(xp, yp, color=colors[c])\n",
    "            break\n",
    "        end\n",
    "    end\n",
    "end"
   ]
  },
  {
   "cell_type": "code",
   "execution_count": 76,
   "metadata": {
    "collapsed": false
   },
   "outputs": [
    {
     "data": {
      "text/plain": [
       "30"
      ]
     },
     "execution_count": 76,
     "metadata": {},
     "output_type": "execute_result"
    }
   ],
   "source": [
    "size(points, 1)"
   ]
  }
 ],
 "metadata": {
  "kernelspec": {
   "display_name": "Julia 0.5.0",
   "language": "julia",
   "name": "julia-0.5"
  },
  "language_info": {
   "file_extension": ".jl",
   "mimetype": "application/julia",
   "name": "julia",
   "version": "0.5.0"
  }
 },
 "nbformat": 4,
 "nbformat_minor": 1
}
