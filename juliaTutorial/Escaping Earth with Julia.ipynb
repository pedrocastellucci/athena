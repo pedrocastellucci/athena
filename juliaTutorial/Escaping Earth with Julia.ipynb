{
 "cells": [
  {
   "cell_type": "markdown",
   "metadata": {},
   "source": [
    "# Escaping Earth with Julia\n",
    "\n",
    "<i>Copyright 2016, Pedro Belin Castellucci,\n",
    "\n",
    "This work is licensed under a <a rel=\"license\" href=\"http://creativecommons.org/licenses/by/4.0/\">Creative Commons Attribution 4.0 International License</a>.</i>\n",
    "\n",
    "Gravity is a familiar concept. Every object near the Earth is subject to Earth gravitational force, which attract the object to its center. This gravitation force is associated with gravitational acceleration $g$. Near the Earth surface $g \\approx 9.8\\ m/s²$. However, assuming the acceleration is constant may be an unrealistic for some applications. In fact, different parameters affect $g$ such as latitude and altitude. In this Notebook, we will play a little bit with the dependence of the gravitational acceleration and altitude. Our goal is not to do rigorous Math or Physics, but to use the context to learn some Julia programming basics (for some Math and Physics, the reader is refered to [this link]([https://en.wikipedia.org/wiki/Gravity_of_Earth])).\n",
    "\n",
    "Instead of assuming a constant acceleration, a more realistic model for the gravity acceleration $g_e$ is:\n",
    "\n",
    "$$g_e = g_0 \\Big(\\frac{r_e}{r_e + h}\\Big)^2,$$\n",
    "\n",
    "in which $g_0$ is called the standard acceleration of gravity and is defined as $g_0 = 9.80665\\ m/s^2$. The actual acceleration is $g_e$ and depends on $r_e$ and $h$, the average radius of Earth and the height (above sea level) of the point from which we are computing $g_e$, respectively.\n",
    " \n",
    "## Defining variables\n",
    "\n",
    "\n",
    "Let us define Julia variables to keep $g_0 = 9.788\\ m/s^2$ (Rio de Janeiro) value and the average radius of earth $r_e = 6 378 000\\ m$."
   ]
  },
  {
   "cell_type": "code",
   "execution_count": 1,
   "metadata": {
    "collapsed": false
   },
   "outputs": [
    {
     "data": {
      "text/plain": [
       "6378000"
      ]
     },
     "execution_count": 1,
     "metadata": {},
     "output_type": "execute_result"
    }
   ],
   "source": [
    "g0 = 9.80665  # g in Rio de Janeiro in m/s²\n",
    "re = 6378000  # Average radius of Earth in meters."
   ]
  },
  {
   "cell_type": "markdown",
   "metadata": {},
   "source": [
    "Note that we do not need to declare the type of our variables. However they do have a type, which we can check with <i>typeof</i>."
   ]
  },
  {
   "cell_type": "code",
   "execution_count": 2,
   "metadata": {
    "collapsed": false
   },
   "outputs": [
    {
     "data": {
      "text/plain": [
       "(Float64,Int64,String)"
      ]
     },
     "execution_count": 2,
     "metadata": {},
     "output_type": "execute_result"
    }
   ],
   "source": [
    "typeof(g0), typeof(re), typeof(\"Earth\")"
   ]
  },
  {
   "cell_type": "markdown",
   "metadata": {},
   "source": [
    "## Defining a function\n",
    "\n",
    "Next, we define a function called <i>localGravity</i> to compute $g_e$ as function of $g_0$, $r_e$ and $h$."
   ]
  },
  {
   "cell_type": "code",
   "execution_count": 3,
   "metadata": {
    "collapsed": false
   },
   "outputs": [
    {
     "data": {
      "text/plain": [
       "localGravity (generic function with 1 method)"
      ]
     },
     "execution_count": 3,
     "metadata": {},
     "output_type": "execute_result"
    }
   ],
   "source": [
    "function localGravity(g0, re, h)\n",
    "    g0*(re/(re + h))^2  # This is the return of the function\n",
    "end"
   ]
  },
  {
   "cell_type": "markdown",
   "metadata": {},
   "source": [
    "Note that the return of a function is the statement in its last line. Another way of defining the same function is using a one line definition."
   ]
  },
  {
   "cell_type": "code",
   "execution_count": 4,
   "metadata": {
    "collapsed": false
   },
   "outputs": [
    {
     "name": "stderr",
     "output_type": "stream",
     "text": [
      "WARNING: Method definition localGravity(Any, Any, Any) in module Main at In[3]:2 overwritten at In[4]:1.\n"
     ]
    },
    {
     "data": {
      "text/plain": [
       "localGravity (generic function with 1 method)"
      ]
     },
     "execution_count": 4,
     "metadata": {},
     "output_type": "execute_result"
    }
   ],
   "source": [
    "localGravity(g0, re, h) = g0*(re/(re + h))^2"
   ]
  },
  {
   "cell_type": "markdown",
   "metadata": {},
   "source": [
    "We get a warning because we are redefining the <i>localGravity</i> function.\n",
    "\n",
    "## While loop\n",
    "\n",
    "We will use a while-loop to simulate the position of our particle over time. As a first example, let us just see how to print out the time instants from 0 to 4s with a time step of $\\Delta t=0.5s$."
   ]
  },
  {
   "cell_type": "code",
   "execution_count": 5,
   "metadata": {
    "collapsed": false
   },
   "outputs": [
    {
     "name": "stdout",
     "output_type": "stream",
     "text": [
      "0\n",
      "0.5\n",
      "1.0\n",
      "1.5\n",
      "2.0\n",
      "2.5\n",
      "3.0\n",
      "3.5\n",
      "4.0\n"
     ]
    }
   ],
   "source": [
    "deltat = 0.5\n",
    "t = 0\n",
    "T = 4\n",
    "while t <= T\n",
    "    println(t)\n",
    "    t += deltat\n",
    "end"
   ]
  },
  {
   "cell_type": "markdown",
   "metadata": {},
   "source": [
    "Using a while-loop, we are ready to simulate a vertical launch of a particle. We will assume that the variation of position and velocity of our particle is given by:\n",
    "\n",
    "$$h_k = h_{k-1} + v_{k-1} \\Delta t,$$\n",
    "\n",
    "$$v_k = v_{k-1} + g_e^k \\Delta t,$$\n",
    "\n",
    "in which $h_k$ and $v_k$ are the height and velocity at time $k$, respectively. $g_e^k$ is given by the <i>localGravity</i> function and $\\Delta t$ is the discrete time step we choose for our simulation. As a first example, we will consider $(h_0, v_0) = (0, 10)$ and simulate 2.2 seconds with $\\Delta t = 0.1.$ "
   ]
  },
  {
   "cell_type": "code",
   "execution_count": 7,
   "metadata": {
    "collapsed": false
   },
   "outputs": [
    {
     "name": "stdout",
     "output_type": "stream",
     "text": [
      "t = 0.00 \t h = 1.00\n",
      "t = 0.10 \t h = 1.90\n",
      "t = 0.20 \t h = 2.71\n",
      "t = 0.30 \t h = 3.41\n",
      "t = 0.40 \t h = 4.02\n",
      "t = 0.50 \t h = 4.53\n",
      "t = 0.60 \t h = 4.94\n",
      "t = 0.70 \t h = 5.25\n",
      "t = 0.80 \t h = 5.47\n",
      "t = 0.90 \t h = 5.59\n",
      "t = 1.00 \t h = 5.61\n",
      "t = 1.10 \t h = 5.53\n",
      "t = 1.20 \t h = 5.35\n",
      "t = 1.30 \t h = 5.08\n",
      "t = 1.40 \t h = 4.70\n",
      "t = 1.50 \t h = 4.23\n",
      "t = 1.60 \t h = 3.66\n",
      "t = 1.70 \t h = 3.00\n",
      "t = 1.80 \t h = 2.23\n",
      "t = 1.90 \t h = 1.37\n",
      "t = 2.00 \t h = 0.41\n",
      "t = 2.10 \t h = -0.65\n"
     ]
    }
   ],
   "source": [
    "# Initial conditions:\n",
    "v0 = 10.0\n",
    "h0 = 0.0\n",
    "time = 0.0\n",
    "\n",
    "# Simulation time:\n",
    "endOfSimulation = 2.2\n",
    "\n",
    "# Time step:\n",
    "deltat = 0.1\n",
    "\n",
    "while time <= endOfSimulation\n",
    "    # Updating height and velocity:\n",
    "    h0, v0 = h0 + v0*deltat, v0 - localGravity(g0, re, h0)*deltat\n",
    "    \n",
    "    # Printing a formatted output:\n",
    "    toPrint = @sprintf(\"t = %.2f \\t h = %.2f\", time, h0)\n",
    "    println(toPrint)\n",
    "    \n",
    "    # Incrementing time:\n",
    "    time += deltat\n",
    "end"
   ]
  },
  {
   "cell_type": "markdown",
   "metadata": {},
   "source": [
    "We printed out the height of the particle as time evolves. To make it a little prettier, we used the macro @sprintf. We are not going to discuss macros here, but <b>superficially</b> they are like functions. \n",
    "\n",
    "However, we can do a better job with the output. Julia has different plotting libraries, we are going to use [Plots](https://juliaplots.github.io) to plot the trajectory of the particle over time. To install it you can use the following: "
   ]
  },
  {
   "cell_type": "code",
   "execution_count": 7,
   "metadata": {
    "collapsed": false
   },
   "outputs": [
    {
     "name": "stderr",
     "output_type": "stream",
     "text": [
      "\u001b[1m\u001b[34mINFO: Nothing to be done\n",
      "\u001b[0m"
     ]
    }
   ],
   "source": [
    "Pkg.add(\"Plots\")"
   ]
  },
  {
   "cell_type": "markdown",
   "metadata": {},
   "source": [
    "## Ranges, loops and conditions\n",
    "\n",
    "Before using the Plots library, we will take a look at ranges, for-loops and conditions. Ranges are objects that act like arrays in most cases but are implemented in an efficient way. Let us create a range."
   ]
  },
  {
   "cell_type": "code",
   "execution_count": 8,
   "metadata": {
    "collapsed": false
   },
   "outputs": [
    {
     "data": {
      "text/plain": [
       "1:10"
      ]
     },
     "execution_count": 8,
     "metadata": {},
     "output_type": "execute_result"
    }
   ],
   "source": [
    "myRange = 1:10"
   ]
  },
  {
   "cell_type": "markdown",
   "metadata": {},
   "source": [
    "We can check the type of the object."
   ]
  },
  {
   "cell_type": "code",
   "execution_count": 9,
   "metadata": {
    "collapsed": false
   },
   "outputs": [
    {
     "data": {
      "text/plain": [
       "UnitRange{Int64}"
      ]
     },
     "execution_count": 9,
     "metadata": {},
     "output_type": "execute_result"
    }
   ],
   "source": [
    "typeof(myRange)"
   ]
  },
  {
   "cell_type": "markdown",
   "metadata": {},
   "source": [
    "To check the elements inside the range object, we can use <i>collect</i>."
   ]
  },
  {
   "cell_type": "code",
   "execution_count": 10,
   "metadata": {
    "collapsed": false
   },
   "outputs": [
    {
     "data": {
      "text/plain": [
       "10-element Array{Int64,1}:\n",
       "  1\n",
       "  2\n",
       "  3\n",
       "  4\n",
       "  5\n",
       "  6\n",
       "  7\n",
       "  8\n",
       "  9\n",
       " 10"
      ]
     },
     "execution_count": 10,
     "metadata": {},
     "output_type": "execute_result"
    }
   ],
   "source": [
    "collect(myRange)"
   ]
  },
  {
   "cell_type": "markdown",
   "metadata": {},
   "source": [
    "Note that the syntax <i>a:b</i> creates a collection of elements in the interval $[a, b]$. By default, each element is separated by a unit but we can also specify the step of the range to be created."
   ]
  },
  {
   "cell_type": "code",
   "execution_count": 11,
   "metadata": {
    "collapsed": false
   },
   "outputs": [
    {
     "data": {
      "text/plain": [
       "11-element Array{Float64,1}:\n",
       " 1.0\n",
       " 1.1\n",
       " 1.2\n",
       " 1.3\n",
       " 1.4\n",
       " 1.5\n",
       " 1.6\n",
       " 1.7\n",
       " 1.8\n",
       " 1.9\n",
       " 2.0"
      ]
     },
     "execution_count": 11,
     "metadata": {},
     "output_type": "execute_result"
    }
   ],
   "source": [
    "collect(1:0.1:2)"
   ]
  },
  {
   "cell_type": "markdown",
   "metadata": {},
   "source": [
    "<b>Exercise:</b> Use ranges to create the following arrays:\n",
    "1. Even numbers in the interval [10, 40];\n",
    "2. Odd numbers in the interval [5, 15];\n",
    "3. [-10.5, -9.5, -8.5, -7.5];\n",
    "4. An empty array;"
   ]
  },
  {
   "cell_type": "markdown",
   "metadata": {},
   "source": [
    "For-loops are suitable to iterate over range objects."
   ]
  },
  {
   "cell_type": "code",
   "execution_count": 12,
   "metadata": {
    "collapsed": false
   },
   "outputs": [
    {
     "name": "stdout",
     "output_type": "stream",
     "text": [
      "1\n",
      "2\n",
      "3\n",
      "4\n",
      "5\n",
      "6\n",
      "7\n",
      "8\n",
      "9\n",
      "10\n"
     ]
    }
   ],
   "source": [
    "for i in myRange\n",
    "    println(i) \n",
    "end"
   ]
  },
  {
   "cell_type": "markdown",
   "metadata": {},
   "source": [
    "In Julia, true and false are Bool types."
   ]
  },
  {
   "cell_type": "code",
   "execution_count": 7,
   "metadata": {
    "collapsed": false
   },
   "outputs": [
    {
     "data": {
      "text/plain": [
       "(false,true,true,Bool)"
      ]
     },
     "execution_count": 7,
     "metadata": {},
     "output_type": "execute_result"
    }
   ],
   "source": [
    "5 == 2, 5 >= 2, 1 < 2 < 3, typeof(5 == 2)"
   ]
  },
  {
   "cell_type": "markdown",
   "metadata": {},
   "source": [
    "The Bool types can be used in conditional statements like the one that follows."
   ]
  },
  {
   "cell_type": "code",
   "execution_count": 10,
   "metadata": {
    "collapsed": false
   },
   "outputs": [
    {
     "name": "stdout",
     "output_type": "stream",
     "text": [
      "The numbers are different.\n"
     ]
    }
   ],
   "source": [
    "a, b = 5, 2\n",
    "if a == b\n",
    "    println(\"The numbers are equal.\")\n",
    "else\n",
    "    println(\"The numbers are different.\")\n",
    "end"
   ]
  },
  {
   "cell_type": "markdown",
   "metadata": {},
   "source": [
    "<b>Exercise:</b> Write an algorithm to tell which integer numbers between 1 and 10 are even and odd."
   ]
  },
  {
   "cell_type": "markdown",
   "metadata": {},
   "source": [
    "Now, we are ready to plot the trajectory of the particle. We will use an array to keep track of the positions of the particle over time. To append elements to an array we can use the <i>append!</i> method."
   ]
  },
  {
   "cell_type": "code",
   "execution_count": 8,
   "metadata": {
    "collapsed": false
   },
   "outputs": [
    {
     "ename": "LoadError",
     "evalue": "LoadError: ArgumentError: Module Plots not found in current path.\nRun `Pkg.add(\"Plots\")` to install the Plots package.\nwhile loading In[8], in expression starting on line 1",
     "output_type": "error",
     "traceback": [
      "LoadError: ArgumentError: Module Plots not found in current path.\nRun `Pkg.add(\"Plots\")` to install the Plots package.\nwhile loading In[8], in expression starting on line 1",
      "",
      " in require(::Symbol) at ./loading.jl:365"
     ]
    }
   ],
   "source": [
    "using Plots  # Importing the library we will use.\n",
    "# plotly()  # The backend we are using\n",
    "\n",
    "h0 = 0.0  # Initial height.\n",
    "v0 = 10.0  # Initial velocity.\n",
    "\n",
    "endOfSimulation = 2.2  # We will stop the simulation at 2.2 s.\n",
    "\n",
    "posList = []  # The array to store the positions.\n",
    "\n",
    "deltat = 0.1  # Time step\n",
    "\n",
    "for i = 0:deltat:endOfSimulation\n",
    "    \n",
    "    append!(posList, h0)  # Storing the position in posList array.\n",
    "    \n",
    "    # Updating position and velocity:\n",
    "    h0, v0 = h0 + v0*deltat, v0 - localGravity(g0, re, h0)*deltat\n",
    "    \n",
    "    if h0 < 0  \n",
    "        # If the particle returns to the ground we stop the simulation:\n",
    "        endOfSimulation = i\n",
    "        break\n",
    "    end\n",
    "    \n",
    "end\n",
    "\n",
    "# To plot the results we use the plot function from Plots:\n",
    "plot(0:deltat:endOfSimulation, posList, xlabel=\"Time\", ylabel=\"Height\", w=3, label=\"\")"
   ]
  },
  {
   "cell_type": "markdown",
   "metadata": {
    "collapsed": true
   },
   "source": [
    "The objects reaches a height of nearly $5.5\\ m$ when launched with a velocity of $10\\ m/s$. \n",
    "\n",
    "\n",
    "## Putting it all together\n",
    "\n",
    "There is the concept of Escape Velocity, which is the velocity something needs to be launched from a planet surface to escape its gravitational influence (and getting lost in space forever). So, what is the escape velocity of our model? We can try to estimate it, empirically. First, let us convert our simulation code into a function."
   ]
  },
  {
   "cell_type": "code",
   "execution_count": 15,
   "metadata": {
    "collapsed": false
   },
   "outputs": [
    {
     "data": {
      "text/plain": [
       "simul (generic function with 1 method)"
      ]
     },
     "execution_count": 15,
     "metadata": {},
     "output_type": "execute_result"
    }
   ],
   "source": [
    "function simul(h0, v0, endOfSimulation)\n",
    "\n",
    "    posList = []  # The array to store the positions.\n",
    "\n",
    "    Δt = 0.1  # Time step\n",
    "\n",
    "    for i = 0:deltat:endOfSimulation\n",
    "\n",
    "        append!(posList, h0)  # Storing the position in posList array.\n",
    "\n",
    "        # Updating position and velocity:\n",
    "        h0, v0 = h0 + v0*deltat, v0 - localGravity(g0, re, h0)*deltat\n",
    "\n",
    "        if h0 < 0  \n",
    "            # If the particle returns to the ground we stop the simulation\n",
    "            endOfSimulation = i\n",
    "            break\n",
    "        end\n",
    "    end\n",
    "    0:deltat:endOfSimulation, posList  # This is the return of our function\n",
    "    \n",
    "end"
   ]
  },
  {
   "cell_type": "markdown",
   "metadata": {},
   "source": [
    "Now, we plot the trajectory of the particle for different initial velocities."
   ]
  },
  {
   "cell_type": "code",
   "execution_count": 16,
   "metadata": {
    "collapsed": false
   },
   "outputs": [
    {
     "data": {
      "text/html": [
       "<img src=\"data:image/png;base64,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\" />"
      ]
     },
     "execution_count": 16,
     "metadata": {},
     "output_type": "execute_result"
    }
   ],
   "source": [
    "fig = plot()\n",
    "for v0 in 10000:500:12000\n",
    "    time, toPlot = simul(0, v0, 50000)\n",
    "    plot!(time, toPlot, label=string(v0) * \" m/s\", w=3)\n",
    "end\n",
    "fig"
   ]
  },
  {
   "cell_type": "markdown",
   "metadata": {},
   "source": [
    "We can see from the plot that the escape velocity is bigger than 10500 $m/s$. The actual Earth escape velocity is estimated to be 11200 $m/s$.  You can play with the values to see if you can get close to the actual value from our model.\n",
    "\n",
    "In this Notebook, we explored some basic features of Julia, namely, variables and function declarations, while and for-loops and used the PyPlot library to visualize some output."
   ]
  }
 ],
 "metadata": {
  "kernelspec": {
   "display_name": "Julia 0.5.0",
   "language": "julia",
   "name": "julia-0.5"
  },
  "language_info": {
   "file_extension": ".jl",
   "mimetype": "application/julia",
   "name": "julia",
   "version": "0.5.0"
  }
 },
 "nbformat": 4,
 "nbformat_minor": 0
}
