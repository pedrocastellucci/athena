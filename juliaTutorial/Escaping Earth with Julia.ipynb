{
 "cells": [
  {
   "cell_type": "markdown",
   "metadata": {},
   "source": [
    "# Escaping Earth with Julia\n",
    "\n",
    "<i>Copyright 2016, Pedro Belin Castellucci,\n",
    "\n",
    "This work is licensed under a <a rel=\"license\" href=\"http://creativecommons.org/licenses/by/4.0/\">Creative Commons Attribution 4.0 International License</a>.</i>\n",
    "\n",
    "Gravity is a familiar concept. Every object near the Earth is subject to Earth gravitational force, which attract the object to its center. This gravitation force is associated with gravitational acceleration $g$. Near the Earth surface $g \\approx 9.8\\ m/s²$. However, assuming the acceleration is constant may be an unrealistic for some applications. In fact, different parameters affect $g$ such as latitude and altitude. In this Notebook, we will play a little bit with the dependence of the gravitational acceleration and altitude. Our goal is not to do rigorous Math or Physics, but to use the context to learn some Julia programming basics (for some Math and Physics, the reader is refered to [this link]([https://en.wikipedia.org/wiki/Gravity_of_Earth])).\n",
    "\n",
    "Instead of assuming a constant acceleration, a more realistic model for the gravity acceleration $g_e$ is:\n",
    "\n",
    "$$g_e = g_0 \\Big(\\frac{r_e}{r_e + h}\\Big)^2,$$\n",
    "\n",
    "in which $g_0$ is called the standard acceleration of gravity and is defined as $g_0 = 9.80665\\ m/s^2$. The actual acceleration is $g_e$ and depends on $r_e$ and $h$, the average radius of Earth and the height (above sea level) of the point from which we are computing $g_e$, respectively.\n",
    " \n",
    "## Defining variables\n",
    "\n",
    "\n",
    "Let us define Julia variables to keep $g_0 = 9.788\\ m/s^2$ (Rio de Janeiro) value and the average radius of earth $r_e = 6 378 000\\ m$."
   ]
  },
  {
   "cell_type": "code",
   "execution_count": 14,
   "metadata": {
    "collapsed": false
   },
   "outputs": [
    {
     "data": {
      "text/plain": [
       "6378000"
      ]
     },
     "execution_count": 14,
     "metadata": {},
     "output_type": "execute_result"
    }
   ],
   "source": [
    "g0 = 9.80665  # g in Rio de Janeiro in m/s²\n",
    "re = 6378000 # Average radius of Earth in meters."
   ]
  },
  {
   "cell_type": "markdown",
   "metadata": {},
   "source": [
    "Note that we do not need to declare the type of our variables. However they do have a type, which we can check with <i>typeof</i>."
   ]
  },
  {
   "cell_type": "code",
   "execution_count": 15,
   "metadata": {
    "collapsed": false
   },
   "outputs": [
    {
     "data": {
      "text/plain": [
       "(Float64,Int64,String)"
      ]
     },
     "execution_count": 15,
     "metadata": {},
     "output_type": "execute_result"
    }
   ],
   "source": [
    "typeof(g0), typeof(re), typeof(\"Earth\")"
   ]
  },
  {
   "cell_type": "markdown",
   "metadata": {},
   "source": [
    "Julia supports Unicode variable names. This allows the definition of variables with more mathy names, e.g. with subscripts or with greek symbols. To declare a variable $\\alpha$, for example, we can type \\alpha{TAB}. Thus, let us redefine our variables with the g\\_0{TAB} and r\\_e{TAB}."
   ]
  },
  {
   "cell_type": "code",
   "execution_count": 16,
   "metadata": {
    "collapsed": false
   },
   "outputs": [
    {
     "data": {
      "text/plain": [
       "6378000"
      ]
     },
     "execution_count": 16,
     "metadata": {},
     "output_type": "execute_result"
    }
   ],
   "source": [
    "g₀ = g0\n",
    "rₑ = re "
   ]
  },
  {
   "cell_type": "markdown",
   "metadata": {},
   "source": [
    "## Defining a function\n",
    "\n",
    "Next, we define a function called <i>localGravity</i> to compute $g_e$ as function of $g_0$, $r_e$ and $h$."
   ]
  },
  {
   "cell_type": "code",
   "execution_count": 17,
   "metadata": {
    "collapsed": false
   },
   "outputs": [
    {
     "name": "stderr",
     "output_type": "stream",
     "text": [
      "WARNING: Method definition localGravity(Any, Any, Any) in module Main at In[11]:2 overwritten at In[17]:2.\n"
     ]
    },
    {
     "data": {
      "text/plain": [
       "localGravity (generic function with 1 method)"
      ]
     },
     "execution_count": 17,
     "metadata": {},
     "output_type": "execute_result"
    }
   ],
   "source": [
    "function localGravity(g₀, rₑ, h)\n",
    "    g₀*(rₑ/(rₑ + h))^2  # This is the return of the function\n",
    "end"
   ]
  },
  {
   "cell_type": "markdown",
   "metadata": {},
   "source": [
    "Note that the return of a function is the statement in its last line. Another way of defining the same function is using a one line definition."
   ]
  },
  {
   "cell_type": "code",
   "execution_count": 18,
   "metadata": {
    "collapsed": false
   },
   "outputs": [
    {
     "name": "stderr",
     "output_type": "stream",
     "text": [
      "WARNING: Method definition localGravity(Any, Any, Any) in module Main at In[17]:2 overwritten at In[18]:1.\n"
     ]
    },
    {
     "data": {
      "text/plain": [
       "localGravity (generic function with 1 method)"
      ]
     },
     "execution_count": 18,
     "metadata": {},
     "output_type": "execute_result"
    }
   ],
   "source": [
    "localGravity(g₀, rₑ, h) = g₀*(rₑ/(rₑ + h))^2"
   ]
  },
  {
   "cell_type": "markdown",
   "metadata": {},
   "source": [
    "We get a warning because we are redefining the <i>localGravity</i> function.\n",
    "\n",
    "## While loop\n",
    "\n",
    "Using a while-loop, we are ready to simulate a vertical launch of a particle. We will assume that the variation of position and velocity of our particle is given by:\n",
    "\n",
    "$$h_k = h_{k-1} + v_{k-1} \\Delta t,$$\n",
    "\n",
    "$$v_k = v_{k-1} + g_e^k \\Delta t,$$\n",
    "\n",
    "in which $h_k$ and $v_k$ are the height and velocity at time $k$, respectively. $g_e^k$ is given by the <i>localGravity</i> function and $\\Delta t$ is the discrete time step we choose for our simulation. As a first example, we will consider $(h_0, v_0) = (0, 10)$ and simulate 2.2 seconds with $\\Delta t = 0.1.$ "
   ]
  },
  {
   "cell_type": "code",
   "execution_count": 19,
   "metadata": {
    "collapsed": false
   },
   "outputs": [
    {
     "name": "stdout",
     "output_type": "stream",
     "text": [
      "t = 0.00 \t h = 1.00\n",
      "t = 0.10 \t h = 1.90\n",
      "t = 0.20 \t h = 2.71\n",
      "t = 0.30 \t h = 3.41\n",
      "t = 0.40 \t h = 4.02\n",
      "t = 0.50 \t h = 4.53\n",
      "t = 0.60 \t h = 4.94\n",
      "t = 0.70 \t h = 5.25\n",
      "t = 0.80 \t h = 5.47\n",
      "t = 0.90 \t h = 5.59\n",
      "t = 1.00 \t h = 5.61\n",
      "t = 1.10 \t h = 5.53\n",
      "t = 1.20 \t h = 5.35\n",
      "t = 1.30 \t h = 5.08\n",
      "t = 1.40 \t h = 4.70\n",
      "t = 1.50 \t h = 4.23\n",
      "t = 1.60 \t h = 3.66\n",
      "t = 1.70 \t h = 3.00\n",
      "t = 1.80 \t h = 2.23\n",
      "t = 1.90 \t h = 1.37\n",
      "t = 2.00 \t h = 0.41\n",
      "t = 2.10 \t h = -0.65\n"
     ]
    }
   ],
   "source": [
    "# Initial conditions:\n",
    "v0 = 10.0\n",
    "h0 = 0.0\n",
    "time = 0.0\n",
    "\n",
    "# Simulation time:\n",
    "endOfSimulation = 2.2\n",
    "\n",
    "# Time step:\n",
    "Δt = 0.1\n",
    "\n",
    "while time <= endOfSimulation\n",
    "    # Updating height and velocity:\n",
    "    h0, v0 = h0 + v0*Δt, v0 - localGravity(g₀, rₑ, h0)*Δt\n",
    "    \n",
    "    # Printing a formatted output:\n",
    "    toPrint = @sprintf(\"t = %.2f \\t h = %.2f\", time, h0)\n",
    "    println(toPrint)\n",
    "    \n",
    "    # Incrementing time:\n",
    "    time += Δt\n",
    "end"
   ]
  },
  {
   "cell_type": "markdown",
   "metadata": {},
   "source": [
    "We printed out the height of the particle as time evolves. To make it a little prettier, we used the macro @sprintf. We are not going to discuss macros here, but <b>superficially</b> they are like functions. \n",
    "\n",
    "However, we can do a better job with the output. Julia has different plotting libraries, we are going to use PyPlot to plot the trajectory of the particle over time. To install PyPlot you can use the following: "
   ]
  },
  {
   "cell_type": "code",
   "execution_count": 20,
   "metadata": {
    "collapsed": false
   },
   "outputs": [
    {
     "name": "stderr",
     "output_type": "stream",
     "text": [
      "INFO: Nothing to be done\n",
      "INFO: METADATA is out-of-date — you may not have the latest version of PyPlot\n",
      "INFO: Use `Pkg.update()` to get the latest versions of your packages\n"
     ]
    }
   ],
   "source": [
    "Pkg.add(\"PyPlot\")"
   ]
  },
  {
   "cell_type": "markdown",
   "metadata": {},
   "source": [
    "## Ranges, loops and conditions\n",
    "\n",
    "Before using the PyPlot library, we will take a look at ranges, for-loops and conditions. Ranges are objects that act like arrays in most cases but are implemented in an efficient way. Let us create a range."
   ]
  },
  {
   "cell_type": "code",
   "execution_count": 21,
   "metadata": {
    "collapsed": false
   },
   "outputs": [
    {
     "data": {
      "text/plain": [
       "1:10"
      ]
     },
     "execution_count": 21,
     "metadata": {},
     "output_type": "execute_result"
    }
   ],
   "source": [
    "myRange = 1:10"
   ]
  },
  {
   "cell_type": "markdown",
   "metadata": {},
   "source": [
    "We can check the type of the object."
   ]
  },
  {
   "cell_type": "code",
   "execution_count": 22,
   "metadata": {
    "collapsed": false
   },
   "outputs": [
    {
     "data": {
      "text/plain": [
       "UnitRange{Int64}"
      ]
     },
     "execution_count": 22,
     "metadata": {},
     "output_type": "execute_result"
    }
   ],
   "source": [
    "typeof(myRange)"
   ]
  },
  {
   "cell_type": "markdown",
   "metadata": {},
   "source": [
    "To check the elements inside the range object, we can use <i>collect</i>."
   ]
  },
  {
   "cell_type": "code",
   "execution_count": 23,
   "metadata": {
    "collapsed": false
   },
   "outputs": [
    {
     "data": {
      "text/plain": [
       "10-element Array{Int64,1}:\n",
       "  1\n",
       "  2\n",
       "  3\n",
       "  4\n",
       "  5\n",
       "  6\n",
       "  7\n",
       "  8\n",
       "  9\n",
       " 10"
      ]
     },
     "execution_count": 23,
     "metadata": {},
     "output_type": "execute_result"
    }
   ],
   "source": [
    "collect(myRange)"
   ]
  },
  {
   "cell_type": "markdown",
   "metadata": {},
   "source": [
    "Note that the syntax <i>a:b</i> creates a collection of elements in the interval $[a, b]$. By default, each element is separated by a unit but we can also specify the step of the range to be created."
   ]
  },
  {
   "cell_type": "code",
   "execution_count": 24,
   "metadata": {
    "collapsed": false
   },
   "outputs": [
    {
     "data": {
      "text/plain": [
       "11-element Array{Float64,1}:\n",
       " 1.0\n",
       " 1.1\n",
       " 1.2\n",
       " 1.3\n",
       " 1.4\n",
       " 1.5\n",
       " 1.6\n",
       " 1.7\n",
       " 1.8\n",
       " 1.9\n",
       " 2.0"
      ]
     },
     "execution_count": 24,
     "metadata": {},
     "output_type": "execute_result"
    }
   ],
   "source": [
    "collect(1:0.1:2)"
   ]
  },
  {
   "cell_type": "markdown",
   "metadata": {},
   "source": [
    "For-loops are suitable to iterate over range objects."
   ]
  },
  {
   "cell_type": "code",
   "execution_count": 25,
   "metadata": {
    "collapsed": false
   },
   "outputs": [
    {
     "name": "stdout",
     "output_type": "stream",
     "text": [
      "1\n",
      "2\n",
      "3\n",
      "4\n",
      "5\n",
      "6\n",
      "7\n",
      "8\n",
      "9\n",
      "10\n"
     ]
    }
   ],
   "source": [
    "for i in myRange\n",
    "    println(i) \n",
    "end"
   ]
  },
  {
   "cell_type": "markdown",
   "metadata": {},
   "source": [
    "Finally, let us see an example of an if-condition while iterating over <i>myRange</i>."
   ]
  },
  {
   "cell_type": "code",
   "execution_count": 26,
   "metadata": {
    "collapsed": false
   },
   "outputs": [
    {
     "name": "stdout",
     "output_type": "stream",
     "text": [
      "1 is odd.\n",
      "2 is even.\n",
      "3 is odd.\n",
      "4 is even.\n",
      "5 is odd.\n",
      "6 is even.\n",
      "7 is odd.\n",
      "8 is even.\n",
      "9 is odd.\n",
      "10 is even.\n"
     ]
    }
   ],
   "source": [
    "for i in myRange\n",
    "    if i % 2 == 0\n",
    "        println(\"$i is even.\")\n",
    "    else\n",
    "        println(\"$i is odd.\")\n",
    "    end\n",
    "end"
   ]
  },
  {
   "cell_type": "markdown",
   "metadata": {},
   "source": [
    "Now, we are ready to plot the trajectory of the particle. We will use an array to keep track of the positions of the particle over time. To append elements to an array we can use the <i>append!</i> method."
   ]
  },
  {
   "cell_type": "code",
   "execution_count": 27,
   "metadata": {
    "collapsed": false
   },
   "outputs": [
    {
     "data": {
      "image/png": "[encoded data removed]",
      "text/plain": [
       "PyPlot.Figure(PyObject <matplotlib.figure.Figure object at 0x7f74fb3e4110>)"
      ]
     },
     "metadata": {},
     "output_type": "display_data"
    },
    {
     "data": {
      "text/plain": [
       "1-element Array{Any,1}:\n",
       " PyObject <matplotlib.lines.Line2D object at 0x7f74ec75a910>"
      ]
     },
     "execution_count": 27,
     "metadata": {},
     "output_type": "execute_result"
    }
   ],
   "source": [
    "using PyPlot  # Importing the library we will use.\n",
    "\n",
    "h0 = 0.0  # Initial height.\n",
    "v0 = 10.0  # Initial velocity.\n",
    "\n",
    "endOfSimulation = 2.2  # We will stop the simulation at 2.2 s.\n",
    "\n",
    "posList = []  # The array to store the positions.\n",
    "\n",
    "Δt = 0.1  # Time step\n",
    "\n",
    "for i = 0:Δt:endOfSimulation\n",
    "    \n",
    "    append!(posList, h0)  # Storing the position in posList array.\n",
    "    \n",
    "    # Updating position and velocity:\n",
    "    h0, v0 = h0 + v0*Δt, v0 - localGravity(g₀, rₑ, h0)*Δt\n",
    "    \n",
    "    if h0 < 0  \n",
    "        # If the particle returns to the ground we stop the simulation:\n",
    "        endOfSimulation = i\n",
    "        break\n",
    "    end\n",
    "    \n",
    "end\n",
    "\n",
    "# To plot the results we use the plot function from PyPlot:\n",
    "plot(0:Δt:endOfSimulation, posList)"
   ]
  },
  {
   "cell_type": "markdown",
   "metadata": {
    "collapsed": true
   },
   "source": [
    "The objects reaches a height of nearly $5.5\\ m$ when launched with a velocity of $10\\ m/s$. \n",
    "\n",
    "\n",
    "## Putting it all together\n",
    "\n",
    "There is the concept of Escape Velocity, which is the velocity something needs to be launched from a planet surface to escape its gravitational influence (and getting lost in space forever). So, what is the escape velocity of our model? We can try to estimate it, empirically. First, let us convert our simulation code into a function."
   ]
  },
  {
   "cell_type": "code",
   "execution_count": 28,
   "metadata": {
    "collapsed": false
   },
   "outputs": [
    {
     "name": "stderr",
     "output_type": "stream",
     "text": [
      "WARNING: Method definition simul(Any, Any, Any) in module Main at In[12]:3 overwritten at In[28]:3.\n"
     ]
    },
    {
     "data": {
      "text/plain": [
       "simul (generic function with 1 method)"
      ]
     },
     "execution_count": 28,
     "metadata": {},
     "output_type": "execute_result"
    }
   ],
   "source": [
    "function simul(h0, v0, endOfSimulation)\n",
    "\n",
    "    posList = []  # The array to store the positions.\n",
    "\n",
    "    Δt = 0.1  # Time step\n",
    "\n",
    "    for i = 0:Δt:endOfSimulation\n",
    "\n",
    "        append!(posList, h0)  # Storing the position in posList array.\n",
    "\n",
    "        # Updating position and velocity:\n",
    "        h0, v0 = h0 + v0*Δt, v0 - localGravity(g₀, rₑ, h0)*Δt\n",
    "\n",
    "        if h0 < 0  \n",
    "            # If the particle returns to the ground we stop the simulation\n",
    "            endOfSimulation = i\n",
    "            break\n",
    "        end\n",
    "    end\n",
    "    0:Δt:endOfSimulation, posList  # This is the return of our function\n",
    "    \n",
    "end"
   ]
  },
  {
   "cell_type": "markdown",
   "metadata": {},
   "source": [
    "Now, we plot the trajectory of the particle for different initial velocities."
   ]
  },
  {
   "cell_type": "code",
   "execution_count": 30,
   "metadata": {
    "collapsed": false
   },
   "outputs": [
    {
     "data": {
      "image/png": "[encoded data removed]",
      "text/plain": [
       "PyPlot.Figure(PyObject <matplotlib.figure.Figure object at 0x7f74ec6aaf10>)"
      ]
     },
     "metadata": {},
     "output_type": "display_data"
    },
    {
     "data": {
      "text/plain": [
       "PyObject <matplotlib.legend.Legend object at 0x7f74ec59cf50>"
      ]
     },
     "execution_count": 30,
     "metadata": {},
     "output_type": "execute_result"
    }
   ],
   "source": [
    "for v0 in 10000:500:12000\n",
    "    time, toPlot = simul(0, v0, 50000)\n",
    "    plot(time, toPlot, label=string(v0) * \" m/s\")\n",
    "end\n",
    "\n",
    "PyPlot.legend(loc=\"best\")"
   ]
  },
  {
   "cell_type": "markdown",
   "metadata": {},
   "source": [
    "We can see from the plot that the escape velocity is bigger than 10500 $m/s$. The actual Earth escape velocity is estimated to be 11200 $m/s$.  You can play with the values to see if you can get close to the actual value from our model.\n",
    "\n",
    "In this Notebook, we explored some basic features of Julia, namely, variables and function declarations, while and for-loops and used the PyPlot library to visualize some output."
   ]
  }
 ],
 "metadata": {
  "kernelspec": {
   "display_name": "Julia 0.5.0",
   "language": "julia",
   "name": "julia-0.5"
  },
  "language_info": {
   "file_extension": ".jl",
   "mimetype": "application/julia",
   "name": "julia",
   "version": "0.5.0"
  }
 },
 "nbformat": 4,
 "nbformat_minor": 0
}
