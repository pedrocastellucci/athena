{
 "cells": [
  {
   "cell_type": "markdown",
   "metadata": {},
   "source": [
    "# Extracting bibliographic information\n",
    "\n",
    "<i>Copyright 2016, Pedro Belin Castellucci,\n",
    "\n",
    "This work is licensed under a <a rel=\"license\" href=\"http://creativecommons.org/licenses/by/4.0/\">Creative Commons Attribution 4.0 International License</a>.</i>\n",
    "\n",
    "\n",
    "<i>BibTeX is reference management software for formatting lists of references. The BibTeX tool is typically used together with the LaTeX document preparation system (...). The name is a portmanteau of the word bibliography and the name of the TeX typesetting software.\n",
    "\n",
    "BibTeX makes it easy to cite sources in a consistent manner, by separating bibliographic information from the presentation of this information, similarly to the separation of content and presentation/style supported by LaTeX itself.</i> [Wikipedia](https://en.wikipedia.org/wiki/BibTeX)\n",
    "\n",
    "One of the file extensions associated with BibTeX is <i>.bib</i>. In this Notebook we will parse a <i>.bib</i> file to create a profile of publications along a time horizon. This will motivate us to learn a bit about Strings, Files and Dictionaries in Julia.\n",
    "\n",
    "# Strings\n",
    "\n",
    "Strings in Julia are defined by two double quotes."
   ]
  },
  {
   "cell_type": "code",
   "execution_count": 1,
   "metadata": {
    "collapsed": false
   },
   "outputs": [
    {
     "data": {
      "text/plain": [
       "\"Hello\""
      ]
     },
     "execution_count": 1,
     "metadata": {},
     "output_type": "execute_result"
    }
   ],
   "source": [
    "exampleString = \"Hello\""
   ]
  },
  {
   "cell_type": "markdown",
   "metadata": {},
   "source": [
    "We can check its type."
   ]
  },
  {
   "cell_type": "code",
   "execution_count": 2,
   "metadata": {
    "collapsed": false
   },
   "outputs": [
    {
     "data": {
      "text/plain": [
       "String"
      ]
     },
     "execution_count": 2,
     "metadata": {},
     "output_type": "execute_result"
    }
   ],
   "source": [
    "typeof(exampleString)"
   ]
  },
  {
   "cell_type": "markdown",
   "metadata": {},
   "source": [
    "It is also possible to iterate over strings in the same way we iterate over arrays. In fact, strings can be thought as arrays of chars."
   ]
  },
  {
   "cell_type": "code",
   "execution_count": 3,
   "metadata": {
    "collapsed": false
   },
   "outputs": [
    {
     "name": "stdout",
     "output_type": "stream",
     "text": [
      "H is a Char\n",
      "e is a Char\n",
      "l is a Char\n",
      "l is a Char\n",
      "o is a Char\n"
     ]
    }
   ],
   "source": [
    "for c in exampleString\n",
    "    println(c, \" is a \", typeof(c))\n",
    "end"
   ]
  },
  {
   "cell_type": "markdown",
   "metadata": {},
   "source": [
    "## Concatenation, and methods <i>contains</i>, <i>strip</i>, <i>split</i> and <i>parse</i>\n",
    "\n",
    "We will not dig deep into strings in Julia, but will take a look at the following methods: <i>contains</i>, <i>strip</i>, <i>split</i> and <i>parse</i>. Later, we will use the <i>contains</i> method to check if a string contains a certain substring. Before that, let us show how to concatenate two strings."
   ]
  },
  {
   "cell_type": "code",
   "execution_count": 1,
   "metadata": {
    "collapsed": false
   },
   "outputs": [
    {
     "data": {
      "text/plain": [
       "\"Hello, Julia!\""
      ]
     },
     "execution_count": 1,
     "metadata": {},
     "output_type": "execute_result"
    }
   ],
   "source": [
    "\"Hello, \" * \"Julia!\""
   ]
  },
  {
   "cell_type": "markdown",
   "metadata": {},
   "source": [
    "Now, an example of the <i>contains</i> method."
   ]
  },
  {
   "cell_type": "code",
   "execution_count": 4,
   "metadata": {
    "collapsed": false
   },
   "outputs": [
    {
     "name": "stdout",
     "output_type": "stream",
     "text": [
      "true\n",
      "false\n"
     ]
    }
   ],
   "source": [
    "println(contains(\"Hello\", \"el\"))\n",
    "println(contains(\"Hello\", \"EL\"))"
   ]
  },
  {
   "cell_type": "markdown",
   "metadata": {},
   "source": [
    "The <i>strip</i> method is used to remove left and right characters of a string. By default it removes \"blank\" spaces (e. g. '\\n', '\\t', ' '), but we can specify the characters to be remove. The header of these two options can be checked with <i>methods</i>."
   ]
  },
  {
   "cell_type": "code",
   "execution_count": 5,
   "metadata": {
    "collapsed": false
   },
   "outputs": [
    {
     "data": {
      "text/html": [
       "2 methods for generic function <b>strip</b>:<ul><li> strip(s::<b>AbstractString</b>) at <a href=\"https://github.com/JuliaLang/julia/tree/3c9d75391c72d7c32eea75ff187ce77b2d5effc8/base/strings/util.jl#L89\" target=\"_blank\">strings/util.jl:89</a></li> <li> strip(s::<b>AbstractString</b>, chars::<b>Union{AbstractArray{Char,1},Char,Set{Char},Tuple{Vararg{Char,N<:Any}}}</b>) at <a href=\"https://github.com/JuliaLang/julia/tree/3c9d75391c72d7c32eea75ff187ce77b2d5effc8/base/strings/util.jl#L90\" target=\"_blank\">strings/util.jl:90</a></li> </ul>"
      ],
      "text/plain": [
       "# 2 methods for generic function \"strip\":\n",
       "strip(s::AbstractString) at strings/util.jl:89\n",
       "strip(s::AbstractString, chars::Union{AbstractArray{Char,1},Char,Set{Char},Tuple{Vararg{Char,N<:Any}}}) at strings/util.jl:90"
      ]
     },
     "execution_count": 5,
     "metadata": {},
     "output_type": "execute_result"
    }
   ],
   "source": [
    "methods(strip)"
   ]
  },
  {
   "cell_type": "markdown",
   "metadata": {},
   "source": [
    "Let us see an example of the version without further arguments."
   ]
  },
  {
   "cell_type": "code",
   "execution_count": 6,
   "metadata": {
    "collapsed": false
   },
   "outputs": [
    {
     "data": {
      "text/plain": [
       "\"string to be stripped\""
      ]
     },
     "execution_count": 6,
     "metadata": {},
     "output_type": "execute_result"
    }
   ],
   "source": [
    "stringExample = \"  string to be stripped     \\n\"\n",
    "strip(stringExample)"
   ]
  },
  {
   "cell_type": "markdown",
   "metadata": {},
   "source": [
    "For the second use, we can specify the characters which will be striped."
   ]
  },
  {
   "cell_type": "code",
   "execution_count": 7,
   "metadata": {
    "collapsed": false
   },
   "outputs": [
    {
     "data": {
      "text/plain": [
       "\"Hello, World!\""
      ]
     },
     "execution_count": 7,
     "metadata": {},
     "output_type": "execute_result"
    }
   ],
   "source": [
    "stringExample = \"pppHello, World!...\"\n",
    "strip(stringExample, ['p', '.'])"
   ]
  },
  {
   "cell_type": "markdown",
   "metadata": {},
   "source": [
    "The <i>split</i> method is used to separate \"words\" of a \"phrase\"."
   ]
  },
  {
   "cell_type": "code",
   "execution_count": 8,
   "metadata": {
    "collapsed": false
   },
   "outputs": [
    {
     "data": {
      "text/plain": [
       "5-element Array{SubString{String},1}:\n",
       " \"We\"    \n",
       " \"have\"  \n",
       " \"a\"     \n",
       " \"phrase\"\n",
       " \"here.\" "
      ]
     },
     "execution_count": 8,
     "metadata": {},
     "output_type": "execute_result"
    }
   ],
   "source": [
    "split(\"We have a phrase here.\")"
   ]
  },
  {
   "cell_type": "markdown",
   "metadata": {},
   "source": [
    "But we can also specify a separator of the \"words\". Let as see an example of that: "
   ]
  },
  {
   "cell_type": "code",
   "execution_count": 9,
   "metadata": {
    "collapsed": false
   },
   "outputs": [
    {
     "data": {
      "text/plain": [
       "3-element Array{SubString{String},1}:\n",
       " \"Now, let us separate the phrases\" \n",
       " \" We will use the dot as separator\"\n",
       " \" That's all we need\"              "
      ]
     },
     "execution_count": 9,
     "metadata": {},
     "output_type": "execute_result"
    }
   ],
   "source": [
    "split(\"Now, let us separate the phrases. We will use the dot as separator. That's all we need\", '.')"
   ]
  },
  {
   "cell_type": "markdown",
   "metadata": {},
   "source": [
    "Finally, the parse method is used to convert different string to different objects. We can check all its uses with <i>methods</i>."
   ]
  },
  {
   "cell_type": "code",
   "execution_count": 10,
   "metadata": {
    "collapsed": false
   },
   "outputs": [
    {
     "data": {
      "text/html": [
       "11 methods for generic function <b>parse</b>:<ul><li> parse<i>{T<:Integer}</i>(::<b>Type{T}</b>, c::<b>Char</b>) at <a href=\"https://github.com/JuliaLang/julia/tree/3c9d75391c72d7c32eea75ff187ce77b2d5effc8/base/parse.jl#L6\" target=\"_blank\">parse.jl:6</a></li> <li> parse<i>{T<:Integer}</i>(::<b>Type{T}</b>, c::<b>Char</b>, base::<b>Integer</b>) at <a href=\"https://github.com/JuliaLang/julia/tree/3c9d75391c72d7c32eea75ff187ce77b2d5effc8/base/parse.jl#L6\" target=\"_blank\">parse.jl:6</a></li> <li> parse<i>{T<:Integer}</i>(::<b>Type{T}</b>, s::<b>AbstractString</b>, base::<b>Integer</b>) at <a href=\"https://github.com/JuliaLang/julia/tree/3c9d75391c72d7c32eea75ff187ce77b2d5effc8/base/parse.jl#L150\" target=\"_blank\">parse.jl:150</a></li> <li> parse<i>{T<:Integer}</i>(::<b>Type{T}</b>, s::<b>AbstractString</b>) at <a href=\"https://github.com/JuliaLang/julia/tree/3c9d75391c72d7c32eea75ff187ce77b2d5effc8/base/parse.jl#L152\" target=\"_blank\">parse.jl:152</a></li> <li> parse<i>{T<:AbstractFloat}</i>(::<b>Type{T}</b>, s::<b>AbstractString</b>) at <a href=\"https://github.com/JuliaLang/julia/tree/3c9d75391c72d7c32eea75ff187ce77b2d5effc8/base/parse.jl#L166\" target=\"_blank\">parse.jl:166</a></li> <li> parse(str::<b>AbstractString</b>; <i>raise</i>) at <a href=\"https://github.com/JuliaLang/julia/tree/3c9d75391c72d7c32eea75ff187ce77b2d5effc8/base/parse.jl#L194\" target=\"_blank\">parse.jl:194</a></li> <li> parse(str::<b>AbstractString</b>, pos::<b>Int64</b>; <i>greedy, raise</i>) at <a href=\"https://github.com/JuliaLang/julia/tree/3c9d75391c72d7c32eea75ff187ce77b2d5effc8/base/parse.jl#L179\" target=\"_blank\">parse.jl:179</a></li> <li> parse(::<b>Type{IPv4}</b>, str::<b>AbstractString</b>) at <a href=\"https://github.com/JuliaLang/julia/tree/3c9d75391c72d7c32eea75ff187ce77b2d5effc8/base/socket.jl#L142\" target=\"_blank\">socket.jl:142</a></li> <li> parse(::<b>Type{IPv6}</b>, str::<b>AbstractString</b>) at <a href=\"https://github.com/JuliaLang/julia/tree/3c9d75391c72d7c32eea75ff187ce77b2d5effc8/base/socket.jl#L203\" target=\"_blank\">socket.jl:203</a></li> <li> parse(::<b>Type{IPAddr}</b>, str::<b>AbstractString</b>) at <a href=\"https://github.com/JuliaLang/julia/tree/3c9d75391c72d7c32eea75ff187ce77b2d5effc8/base/socket.jl#L223\" target=\"_blank\">socket.jl:223</a></li> <li> parse(stream::<b>IO</b>; <i>greedy, raise</i>) at <a href=\"https://github.com/JuliaLang/julia/tree/3c9d75391c72d7c32eea75ff187ce77b2d5effc8/base/markdown/Julia/interp.jl#L4\" target=\"_blank\">markdown/Julia/interp.jl:4</a></li> </ul>"
      ],
      "text/plain": [
       "# 11 methods for generic function \"parse\":\n",
       "parse{T<:Integer}(::Type{T}, c::Char) at parse.jl:6\n",
       "parse{T<:Integer}(::Type{T}, c::Char, base::Integer) at parse.jl:6\n",
       "parse{T<:Integer}(::Type{T}, s::AbstractString, base::Integer) at parse.jl:150\n",
       "parse{T<:Integer}(::Type{T}, s::AbstractString) at parse.jl:152\n",
       "parse{T<:AbstractFloat}(::Type{T}, s::AbstractString) at parse.jl:166\n",
       "parse(str::AbstractString; raise) at parse.jl:194\n",
       "parse(str::AbstractString, pos::Int64; greedy, raise) at parse.jl:179\n",
       "parse(::Type{IPv4}, str::AbstractString) at socket.jl:142\n",
       "parse(::Type{IPv6}, str::AbstractString) at socket.jl:203\n",
       "parse(::Type{IPAddr}, str::AbstractString) at socket.jl:223\n",
       "parse(stream::IO; greedy, raise) at markdown/Julia/interp.jl:4"
      ]
     },
     "execution_count": 10,
     "metadata": {},
     "output_type": "execute_result"
    }
   ],
   "source": [
    "methods(parse)"
   ]
  },
  {
   "cell_type": "markdown",
   "metadata": {},
   "source": [
    "Let us see a simple example."
   ]
  },
  {
   "cell_type": "code",
   "execution_count": 11,
   "metadata": {
    "collapsed": false
   },
   "outputs": [
    {
     "name": "stdout",
     "output_type": "stream",
     "text": [
      "String\n",
      "Int64\n"
     ]
    }
   ],
   "source": [
    "stringExample = \"123456\"\n",
    "println(typeof(stringExample))\n",
    "\n",
    "intValue = parse(Int64, stringExample)\n",
    "println(typeof(intValue))"
   ]
  },
  {
   "cell_type": "markdown",
   "metadata": {},
   "source": [
    "<b>Exercise:</b> Using the functions we have just seen, write algorithms to perform the following activities:\n",
    "1. Check if a given site address is brazilian (suffixed with <i>.br</i>).\n",
    "2. Remove leading and trailing zeros of an integer number, provided as a string.\n",
    "3. Separate user and domain from an e-mail provided as user@domain.com\n",
    "4. Build the e-mail address (user@domain.com) provided the <i>user</i> and <i>domain</i>."
   ]
  },
  {
   "cell_type": "markdown",
   "metadata": {},
   "source": [
    "We will use what we learnt so far to help us parse a <i>.bib</i>. But first we need to learn a bit about reading files.\n",
    "\n",
    "\n",
    "# Reading files\n",
    "\n",
    "The safest way in Julia to manipulate files in julia is to use a <i>open ... do ... end </i> block. "
   ]
  },
  {
   "cell_type": "code",
   "execution_count": 12,
   "metadata": {
    "collapsed": true
   },
   "outputs": [],
   "source": [
    "open(\"example.bib\") do fd\n",
    "    # Do something with the file...\n",
    "end"
   ]
  },
  {
   "cell_type": "markdown",
   "metadata": {},
   "source": [
    "Here, we will read the file <i>example.bib</i> line by line."
   ]
  },
  {
   "cell_type": "code",
   "execution_count": 13,
   "metadata": {
    "collapsed": false
   },
   "outputs": [
    {
     "name": "stdout",
     "output_type": "stream",
     "text": [
      "@article{Aqlan2014,\n",
      "author = {Aqlan, Faisal and Lam, Sarah S. and Ramakrishnan, Sreekanth},\n",
      "issn = {09255273},\n",
      "journal = {International Journal of Production Economics},\n",
      "keywords = {Configure-to-order production,Dynamic batch size,Optimization,Process layout,Product layout,Server manufacturing,Simulation},\n",
      "month = feb,\n",
      "pages = {51--61},\n",
      "publisher = {Elsevier},\n",
      "title = {{An integrated simulation-optimization study for consolidating production lines in a configure-to-order production environment}},\n",
      "volume = {148},\n",
      "year = {2014}\n",
      "}\n",
      "@article{Battaia2013,\n",
      "author = {Batta\\\"{\\i}a, Olga and Dolgui, Alexandre},\n",
      "journal = {International Journal of Production Economics},\n",
      "number = {2},\n",
      "pages = {259--277},\n",
      "title = {{A taxonomy of line balancing problems and their solution approaches}},\n",
      "volume = {142},\n",
      "year = {2013}\n",
      "}\n",
      "@article{Bernard2011,\n",
      "author = {Bernard, Carole and Boyle, Phelim},\n",
      "journal = {The European Journal of Finance},\n",
      "number = {3},\n",
      "pages = {169--196},\n",
      "title = {{Monte Carlo methods for pricing discrete Parisian options}},\n",
      "volume = {17},\n",
      "year = {2011}\n",
      "}\n",
      "@article{Brunet2012,\n",
      "author = {Brunet, Robert and Guill\\'{e}n-Gos\\'{a}lbez, Gonzalo and P\\'{e}rez-Correa, J. Ricardo and Caballero, Jos\\'{e} Antonio and Jim\\'{e}nez, Laureano},\n",
      "issn = {00981354},\n",
      "journal = {Computers \\& Chemical Engineering},\n",
      "keywords = {biotechnological processes,hybrid simulation-optimization,mixed-integer dynamic optimization},\n",
      "month = feb,\n",
      "pages = {125--135},\n",
      "publisher = {Elsevier Ltd},\n",
      "title = {{Hybrid simulation-optimization based approach for the optimal design of single-product biotechnological processes}},\n",
      "volume = {37},\n",
      "year = {2012}\n",
      "}\n",
      "@article{Figueira2014,\n",
      "author = {Figueira, Gon\\c{c}alo and Almada-Lobo, Bernardo},\n",
      "issn = {1569190X},\n",
      "journal = {Simulation Modelling Practice and Theory},\n",
      "keywords = {Classification,Hybrid methods,Review,Simulation–optimization,Taxonomy,optimization,simulation},\n",
      "month = aug,\n",
      "pages = {118--134},\n",
      "publisher = {Elsevier B.V.},\n",
      "title = {{Hybrid simulation-optimization methods: A taxonomy and discussion}},\n",
      "volume = {46},\n",
      "year = {2014}\n",
      "}\n",
      "@article{Lee2012,\n",
      "author = {Lee, Choonsik and Kim, Kwang Pyo and Long, Daniel J. and Bolch, Wesley E.},\n",
      "journal = {Medical physics},\n",
      "number = {4},\n",
      "pages = {2129--2146},\n",
      "title = {{Organ doses for reference pediatric and adolescent patients undergoing computed tomography estimated by Monte Carlo simulation}},\n",
      "volume = {39},\n",
      "year = {2012}\n",
      "}\n",
      "@article{Ludwig2011,\n",
      "author = {Ludwig, M. and Huege, T.},\n",
      "journal = {Astroparticle Physics},\n",
      "number = {6},\n",
      "pages = {438--446},\n",
      "title = {{REAS3: Monte Carlo simulations of radio emission from cosmic ray air showers using an \"end-point\" formalistm}},\n",
      "volume = {34},\n",
      "year = {2011}\n",
      "}\n",
      "@inproceedings{Mahajan2004,\n",
      "author = {Mahajan, Prasad S. and Ingalls, Ricki G.},\n",
      "booktitle = {Proceedings of the 2004 Winter Simulation Conference},\n",
      "pages = {663--671},\n",
      "title = {{Evaluation of methods used to detect warm-up period in steady state simulation}},\n",
      "year = {2004}\n",
      "}\n",
      "@article{Moreira2015,\n",
      "author = {Moreira, Mayron C\\'{e}sar O. and Miralles, Cristobal and Costa, Alysson M.},\n",
      "journal = {Computers \\& Operations Research},\n",
      "pages = {64--73},\n",
      "title = {{Model and heuristics for the Assembly Line Worker Integration and Balancing Problem}},\n",
      "volume = {54},\n",
      "year = {2015}\n",
      "}\n",
      "@incollection{Morettin2003,\n",
      "author = {Morettin, Pedro A. and Bussab, Wilton de O.},\n",
      "booktitle = {Estat\\'{\\i}stica b\\'{a}sica},\n",
      "pages = {323--355},\n",
      "title = {{Testes de hip\\'{o}teses}},\n",
      "year = {2003}\n",
      "}\n",
      "@article{Papadopoulos1996,\n",
      "author = {Papadopoulos, H T and Heavey, C},\n",
      "journal = {European Journal of Operational Research},\n",
      "keywords = {queueing},\n",
      "number = {1},\n",
      "pages = {1--27},\n",
      "title = {{Queueing theory in manufacturing systems analysis and design: A classification of models for production and transfer lines}},\n",
      "volume = {92},\n",
      "year = {1996}\n",
      "}\n",
      "@article{Srivastav2011,\n",
      "author = {Srivastav, R K and Srinivasan, K and Sudheer, K P},\n",
      "isbn = {9791191174},\n",
      "issn = {0022-1694},\n",
      "journal = {Journal of Hydrology},\n",
      "number = {3-4},\n",
      "pages = {209--225},\n",
      "publisher = {Elsevier B.V.},\n",
      "title = {{Simulation optimization framework for multi-season hybrid stochastic models}},\n",
      "volume = {404},\n",
      "year = {2011}\n",
      "}\n",
      "@article{Tekiner2010,\n",
      "author = {Tekiner, Hatice and Colt, David W. and Felder, Frank A.},\n",
      "journal = {Electric Power Systems Research},\n",
      "number = {12},\n",
      "pages = {1394--1405},\n",
      "title = {{Multi-period multi-objective electricity generation expansion planning problem with Monte Carlo simulation}},\n",
      "volume = {80},\n",
      "year = {2010}\n",
      "}\n",
      "@article{Tempelmeier2001,\n",
      "author = {Tempelmeier, Horst and B\\\"{u}rger, Malte},\n",
      "journal = {IIE Transactions},\n",
      "number = {4},\n",
      "pages = {293--302},\n",
      "title = {{Performance evaluation of unbalanced flow lines with general distributed processing times, failures and imperfect production}},\n",
      "volume = {33},\n",
      "year = {2001}\n",
      "}\n",
      "@misc{Amorim2011,\n",
      "abstract = {The pressure of reducing costs in supply chains forces companies to take an integrated view of their production and distribution processes. In perishable goods besides the cost issue there is an important freshness concern that shall not be disregarded. This challenging logistic problem involves several tightly interrelated production planning, scheduling, distribution and routing problems, considering more than one objective. Even when considered as independent from the other ones, each of the mentioned problems is of large combinatorial complexity. This research aims to allow companies to increase the value added by their perishable goods in supply chains through a combination of production and distribution planning on a multi-objective framework solved by hybrid solution approaches. Hence, along with realistic and integrated mathematical programming models, new state-of-the-art hybrid multi-objective optimization algorithms are to be developed.},\n",
      "author = {Amorim, Pedro Sanches},\n",
      "pages = {52},\n",
      "title = {{Research Project Proposal : Multi-Objective Optimization for Integrated Production and Distribution of Perishable Goods}},\n",
      "year = {2011}\n",
      "}\n",
      "@article{AraujoFelipeFB2012,\n",
      "abstract = {In this article, we introduce two new variants of the Assembly Line Worker Assignment and Balancing Problem (ALWABP) that allow parallelization of and collaboration between heterogeneous workers. These new approaches suppose an additional level of complexity in the Line Design and Assignment process, but also higher flexibility; which may be particularly useful in practical situations where the aim is to progressively integrate slow or limited workers in conventional assembly lines. We present linear models and heuristic procedures for these two new problems. Computational results show the efficiency of the proposed approaches and the efficacy of the studied layouts in different situations.},\n",
      "author = {{Ara\\'{u}jo, Felipe F B} and Costa, Alysson M and Miralles, Crist\\'{o}bal},\n",
      "journal = {International Journal of Production Economics},\n",
      "keywords = {Assembly line balancing,Disabled integration,Heterogeneous workers},\n",
      "number = {1},\n",
      "pages = {483--495},\n",
      "title = {{Two extensions for the assembly line worker assignment and balancing problem : parallel stations and collaborative approach .}},\n",
      "volume = {140},\n",
      "year = {2012}\n",
      "}\n",
      "@article{Baren1962,\n",
      "author = {Barten, K},\n",
      "journal = {Journal of Industrial Engineering},\n",
      "number = {6},\n",
      "pages = {703--710},\n",
      "title = {{A queuing simulator for determining optimum invetory levels in a sequential process}},\n",
      "volume = {14},\n",
      "year = {1962}\n",
      "}\n",
      "@article{Boysen2007,\n",
      "abstract = {Assembly lines are special flow-line production systems which are of great importance in the industrial production of high quantity standardized commodities. Recently, assembly lines even gained importance in low volume production of customized products (mass-customization). Due to high capital requirements when installing or redesigning a line, its con- figuration planning is of great relevance for practitioners. Accordingly, this attracted attention of many researchers, who tried to support real-world configuration planning by suited optimization models (assembly line balancing problems). In spite of the enormous academic effort in assembly line balancing, there remains a considerable gap between requirements of real configuration problems and the status of research. To ease communication between researchers and practitioners, we provide a classification scheme of assembly line balancing. This is a valuable step in identifying remaining research chal- lenges which might contribute to closing the gap.},\n",
      "author = {Boysen, N and Fliedner, M and Scholl, A},\n",
      "issn = {03772217},\n",
      "journal = {European Journal of Operational Research},\n",
      "keywords = {assembly line balancing,classification,configuration of assembly lines},\n",
      "month = dec,\n",
      "number = {2},\n",
      "pages = {674--693},\n",
      "title = {{A classification of assembly line balancing problems}},\n",
      "volume = {183},\n",
      "year = {2007}\n",
      "}\n",
      "@article{Boysen2008,\n",
      "abstract = {This paper discusses a two stage graph-algorithm, which was designed to solve line balancing problems including prac- tice relevant constraints (GALBP), such as parallel work stations and tasks, cost synergies, processing alternatives, zoning restrictions, stochastic processing times or U-shaped assembly lines. Unlike former procedures, the presented approach can be easily modified to incorporate all of the named extensions. It is not only possible to select and solve single classes of constraints, but rather any combination of them with just slight modifications.},\n",
      "author = {Boysen, Nils and Fliedner, Malte},\n",
      "issn = {03772217},\n",
      "journal = {European Journal of Operational Research},\n",
      "keywords = {General assembly line balancing (GALBP),Production,Shortest-path algorithm},\n",
      "month = jan,\n",
      "number = {1},\n",
      "pages = {39--56},\n",
      "title = {{A versatile algorithm for assembly line balancing}},\n",
      "volume = {184},\n",
      "year = {2008}\n",
      "}\n",
      "@article{Boysen2008a,\n",
      "abstract = {Assembly lines are flow-line production systems which are of great importance in the industrial production of high quantity standardized commodities and more recently even gained importance in low volume production of customized products. Due to high capital requirements when installing or redesigning a line, configuration planning is of great relevance for practitioners. Accordingly, this attracted the attention of researchers, who tried to support practical configuration planning by suited optimization models. In spite of the great amount of extensions of basic assembly line balancing (ALB) there remains a gap between requirements of real configuration problems and the status of research. This gap might result from research papers focusing on just a single or only a few practical extensions at a time. Real-world assembly systems require a lot of these extensions to be considered simultaneously. This paper structures the vast field of ALB according to characteristic practical settings and highlights relevant model extensions which are required to reflect real-world problems. By doing so, open research challenges are identified and the practitioner is provided with hints on how to single out suited balancing procedures for his type of assembly system.},\n",
      "author = {Boysen, Nils and Fliedner, Malte and Scholl, Armin},\n",
      "issn = {09255273},\n",
      "journal = {International Journal of Production Economics},\n",
      "keywords = {assembly line balancing,classification,configuration of assembly lines},\n",
      "month = feb,\n",
      "number = {2},\n",
      "pages = {509--528},\n",
      "title = {{Assembly line balancing: Which model to use when?}},\n",
      "volume = {111},\n",
      "year = {2008}\n",
      "}\n",
      "@inproceedings{Chaves2009,\n",
      "address = {Undine, Italy},\n",
      "author = {Chaves, Antonio Augusto and Lorena, Luiz Antonio Nogueira and Miralles, Cristobal},\n",
      "booktitle = {6th International Workshop, HM 2009},\n",
      "pages = {1--14},\n",
      "publisher = {Springer Berlin Heidelberg},\n",
      "title = {{Hybrid Metaheuristic for the Assembly Line Worker Assignment and Balancing Problem}},\n",
      "year = {2009}\n",
      "}\n",
      "@book{Checkland1981,\n",
      "author = {Checkland, Peter},\n",
      "publisher = {John Wiley \\& Sons, Ltd},\n",
      "title = {{Systems Thinking, Systems Practice}},\n",
      "year = {1981}\n",
      "}\n",
      "@inproceedings{Cortez2011,\n",
      "abstract = {Assembly lines are flow oriented production systems where parts of a product are assembled in different workstations. Depending on the context, the planning and operation of these lines give rise to different combinatorial optimization problems. In this study, two variants are of particular interest: the mixed-model assembly line sequencing problem, where different versions of a product must be sequenced in the line; and the assembly line worker assignment and balancing problem, where workers in the line present different characteristics. In this article, we study these two variants in an integrated fashion. The problem is defined and a linear mathematical model is introduced. Moreover, a hybrid heuristic approach is developed and tested on small-scale instances. The computational experiments show that the proposed method is both fast and acurate.},\n",
      "address = {Ubatuba, Brasil},\n",
      "author = {Cortez, P\\^{a}mela Michele C and Costa, Alysson M},\n",
      "booktitle = {Anais do XLIII SBPO},\n",
      "keywords = {assembly lines,disabled workers,multi-models},\n",
      "pages = {2046--2055},\n",
      "title = {{A mathematical model and a hybrid heuristic for sequencing mixed-model assembly lines with disabled workers}},\n",
      "year = {2011}\n",
      "}\n",
      "@article{Das2010,\n",
      "abstract = {A computer simulation model was used to evaluate a bowl versus inverted bowl assembly line arrangement for normal and exponential distributions and variances equal to 1 and 16. The model was developed on the basis of a realistic case problem and applied to a six- station assembly line. The results show that the inverted bowl is superior to the bowl arrangement for a normal distribution in terms of the total elapsed time evaluation criterion; however, with an exponential distribution, the bowl was found better than the inverted bowl for the same criterion. On the basis of the average percentage of working time and the average time in the system evaluation criteria, the bowl was found superior to the inverted bowl for a normal distribution. Similar results were obtained for an exponential distribution with a variance equal to 1, but no definitive inference could be made with a variance equal to 16.},\n",
      "author = {Das, Biman and Garcia-Diaz, Alberto and MacDonald, Corinne A. and Ghoshal, Kalyan K.},\n",
      "issn = {0268-3768},\n",
      "journal = {The International Journal of Advanced Manufacturing Technology},\n",
      "keywords = {1 introduction and literature,an assembly line consists,assembly line balancing,bowl,bowl and inverted,computer simulation,of a series of,review,variable operation times,where,workstations},\n",
      "month = mar,\n",
      "number = {1-4},\n",
      "pages = {15--24},\n",
      "title = {{A computer simulation approach to evaluating bowl versus inverted bowl assembly line arrangement with variable operation times}},\n",
      "volume = {51},\n",
      "year = {2010}\n",
      "}\n",
      "@article{Das2012,\n",
      "abstract = {Abstract Purpose – The purpose of this paper is to develop a computer simulation model to evaluate increasing versus decreasing mean operation times assembly line arrangement for normal and exponential distributions and the variances equal to 1 and 16. Design/methodology/approach – The model was developed on the basis of a realistic case problem and applied to a six-station assembly line. The evaluation criteria were: the minimization of the total elapsed time; the maximization of the average percentage of working time; and the minimization of the average time in the system. Findings – The increasing mean operation times line arrangement is superior to the decreasing mean operation times line arrangement for the normal and exponential distributions and the variances equal to 1 and 16, in terms of the total elapsed time and the average percentage of the working time evaluation criteria. The decreasing mean operation times lines is marginally superior to the increasing operation times line for the normal distribution for the variances equal to 1 and 16, in terms of the average time in the system evaluation criterion. The above inference can be made for the exponential distribution for the variance 16, but no definitive conclusion can be made for the variance 1. Overall, the increasing mean operation times line arrangement has proven to be superior to the decreasing operation times line arrangement for both the stated distributions and variances, in terms of the important evaluation criteria. Originality/value – The paper contributes to the computer simulation approach to solving assembly line problems that deal with the impact of normally and exponentially distributed operation times, with variances equal to 1 and 16, on the increasing and decreasing mean operation times assembly line arrangements. Keywords},\n",
      "author = {Das, Biman and Garcia-Diaz, Alberto and MacDonald, Corinne A. and Ghoshal, Kalyan K.},\n",
      "issn = {1741-038X},\n",
      "journal = {Journal of Manufacturing Technology Management},\n",
      "keywords = {Assembly line balancing,Assembly lines,Computer simulation,Increasing and decreasingmean operation times,Operations management,Stochastic operation times},\n",
      "number = {6},\n",
      "pages = {806--822},\n",
      "title = {{Evaluation of alternative assembly line arrangements with stochastic operation times: A computer simulation approach}},\n",
      "volume = {23},\n",
      "year = {2012}\n",
      "}\n",
      "@article{Das2010a,\n",
      "abstract = {Purpose – The purpose of this paper is to develop a computer simulation model to evaluate the bowl phenomenon and the allocation at the end of the line of stations with either greater mean operation times or higher variability of operation times. Design/methodology/approach – The model was developed on the basis of a realistic case problem and applied to a six-station assembly line. The evaluation criteria were the: minimization of the total elapsed time; maximization of the average percentage of working time; and minimization of the average time in the system. Findings – The performance of an assembly line with independently normally distributed operation times could be improved by applying the bowl phenomenon. The allocation of large operation mean times to stations located near the end of the line did not produce improved results. Instead a more balanced allocation proved to be more significantly effective. On the other hand, the assignment of larger variability of operation times to the stations near the end of the line improved the performance of the assembly line. Originality/value – The investigation contributed to the computer simulation approach to solving assembly line problems that dealt with the impact of normally distributed operation times on the bowl phenomenon and assembly lines with increasing mean operation times and higher variability of operation times at the end of the line of stations.},\n",
      "author = {Das, Biman and Sanchez-Rivas, Jesus M. and Garcia-Diaz, Alberto and MacDonald, Corinne a.},\n",
      "isbn = {1741038101107},\n",
      "issn = {1741-038X},\n",
      "journal = {Journal of Manufacturing Technology Management},\n",
      "keywords = {assembly lines,journal of manufacturing technology,operations and production management,paper type research paper,process planning,simulation},\n",
      "number = {7},\n",
      "pages = {872--887},\n",
      "title = {{A computer simulation approach to evaluating assembly line balancing with variable operation times}},\n",
      "volume = {21},\n",
      "year = {2010}\n",
      "}\n",
      "@article{Davis1966,\n",
      "author = {Davis, L.},\n",
      "journal = {International Journal of Production Research},\n",
      "number = {3},\n",
      "title = {{Pacing effects of manned assembly lines}},\n",
      "volume = {4},\n",
      "year = {1966}\n",
      "}\n",
      "@article{Dudley1963,\n",
      "author = {Dudley, N.A.},\n",
      "journal = {International Journal of Production Research},\n",
      "number = {2},\n",
      "pages = {137--144},\n",
      "title = {{Work-time distributions}},\n",
      "volume = {2},\n",
      "year = {1963}\n",
      "}\n",
      "@article{El-Rayah979,\n",
      "author = {El-Rayah, T.E.},\n",
      "journal = {International Journal of Production Research},\n",
      "number = {1},\n",
      "pages = {61--75},\n",
      "title = {{The efficiency of balanced and unbalanced production lines}},\n",
      "volume = {17},\n",
      "year = {1979}\n",
      "}\n",
      "@article{Hillier1966,\n",
      "abstract = {Presented the bowl phenomenon},\n",
      "author = {Hillier, F. S. and Boling, Ronald W.},\n",
      "journal = {Journal of Industrial Engineering},\n",
      "number = {12},\n",
      "pages = {651--658},\n",
      "title = {{The effect of some design factors on the efficiency of production lines with variable operation times}},\n",
      "volume = {17},\n",
      "year = {1966}\n",
      "}\n",
      "@article{Hillier1993,\n",
      "abstract = {The bowl phenomenon provides a way of increasing the throughput of some production line systems with variable processing times by purposely unbalancing the line in a certain manner. However, previously available numerical results for applying the bowl phenomenon have been quite limited. We extend these numerical results here by obtaining the optimal allocation of work for somewhat larger cases than previously considered. We also develop some guidelines and data for extrapolating these results to estimate the optimal allocation of work for even larger production lines that are beyond the reach of exact solution methods. The results cover a broad cross-section of values of both buffer capacities and the coefficient of variation of processing times.},\n",
      "author = {Hillier, Frederick S. and So, K. C.},\n",
      "journal = {International Journal of Production Research},\n",
      "number = {4},\n",
      "pages = {811--822},\n",
      "title = {{Some data for applying the bowl phenomenon to large production line systems}},\n",
      "volume = {31},\n",
      "year = {1993}\n",
      "}\n",
      "@article{Hillier1996,\n",
      "abstract = {The bowl phenomenon provides a way of increasing the throughput of some production line systems with variable processing times by purposely unbalancing the line in a certain manner. However, achieving this increase in throughput depends on correctly identifying the values of the system parameters to estimate the optimal amount of unbalance and then actually being able to assign work to stations according to the optimal bowl allocation. In this paper we study the robustness of the bowl phenomenon by examining the effect of inaccurately estimating the optimal amount of unbalance and the effect of deviating from the optimal bowl allocation. Our results show that the bowl phenomenon is relatively robust in the sense that fairly large errors (even 50\\%) in the amount of unbalance still provide most of the potential improvement in throughput over a perfectly balanced line. Moreover, the throughput still exceeds that of a perfectly balanced line in most cases even when the work allocation to each station deviates from the optimal bowl allocation by as much as 10\\%. We also address the question of whether the optimal bowl allocation or the balanced line provides a more robust 'target' when assigning work to stations. When the deviations from these two targets are of the same magnitude, we found that the optimal bowl allocation target yields the larger throughput in most cases, where the average difference between their throughputs is roughly the same as the difference between the optimal throughput and the throughput of a balanced line. Furthermore, for the same magnitude of deviation, the throughput depends more heavily on the direction of the deviation from the balanced line than that from the optimal bowl allocation, so that the risk of a substantially reduced throughput is much larger when using the balanced line as the target. Therefore, the optimal bowl allocation provides a much more robust target than the balanced line. Keywords:},\n",
      "author = {Hillier, Frederick S and So, Kut C},\n",
      "journal = {European Journal Of Operational Research},\n",
      "keywords = {manufacturing,production line design,queueing},\n",
      "number = {1979},\n",
      "pages = {496--515},\n",
      "title = {{On the robustness of the bowl phenomenon}},\n",
      "volume = {2217},\n",
      "year = {1996}\n",
      "}\n",
      "@article{Hillier1967,\n",
      "abstract = {This paper considers a queuing system consisting of N service channels in series where each channel has an exponential or Erlang holding time and (except for the first channel) a finite queue, and where the input process is such that the first queue is never empty. The measures considered are the steady-state mean output rate and mean number of customers in the system (excluding the first queue). First, a procedure is described, for obtaining these measures, that is relatively efficient computationally. Second, an exceptionally efficient procedure is developed for approximating the mean output rate for the case of exponential holding times. It is demonstrated that this procedure provides an excellent approximation for most cases and that it is computationally feasible for large problems. Third, extensive new numerical results are obtained.},\n",
      "author = {Hillier, Frederick S. and Boling, Ronald W.},\n",
      "journal = {Operations Research},\n",
      "number = {2},\n",
      "pages = {286--303},\n",
      "title = {{Finite Queues in Series with Exponential or Erlang Service Times-A Numerical Approach}},\n",
      "volume = {15},\n",
      "year = {1967}\n",
      "}\n",
      "@article{Hillier1979,\n",
      "abstract = {This paper provides results related to the optimal design of unpaced production lines. It has been shown previously that unbalancing an unpaced production line in an appropriate way will increase its production rate. Results are presented here which show how the optimal allocation of work between stations changes with respect to — the number of work stations in the line, — the limit on the amount of work-in-progress, and — the variance of station operation times. An analysis of results given here demonstrate the following system characteristics. When the number of stations in the production line increases, the average amount of unbalance in the optimal allocation remains about the same, but the increase in mean production rate obtained by using the optimal allocation rather than the balanced line becomes substantially larger. If the operation times are highly variable (exponential distribution), the effect of increasing in-process storage space is to substantially decrease the average amount of unbalance in the optimal allocation but to only slightly decrease the resulting improvement over the balanced line. If the amount of in-process storage space is very small, the effect of decreasing the variability of operation times is to decrease these same quantities but at a surprisingly slow rate. On the other hand, the effect of simultaneously increasing in-process storage space and decreasing the variability of operation times is to very rapidly decrease both the optimal unbalance and the resulting improvement. The model used to characterize an unpaced production line system is the classical queueing system with finite queues in series.},\n",
      "author = {Hillier, Frederick S. and Boling, Ronald W.},\n",
      "journal = {Management Science},\n",
      "keywords = {: inventory/production: stochastic systems,production/scheduling: line balancing,queues},\n",
      "number = {8},\n",
      "pages = {721--728},\n",
      "title = {{On the Optimal Allocation of Work in Symmetrically Unbalanced Production Line Systems with Variable Operation Times}},\n",
      "volume = {25},\n",
      "year = {1979}\n",
      "}\n",
      "@article{Hillier1995,\n",
      "abstract = {We consider tandem queueing systems that can be formulated as a continuous-time Markov chain, and investigate how to maximize the throughput when the queue capa- cities are limited. We consider various constrained optimization problems where the decision variables are of one or more of the following types: (1) expected service times, (2) queue capacities, and (3) the number of servers at the respective stations. After sur- veying our previous studies of this kind, we open up consideration of three new pro- blems by presenting some numerical results that should give some insight into the general form of the optimal design.},\n",
      "author = {Hillier, Frederick S. and So, Kut C.},\n",
      "issn = {0257-0130},\n",
      "journal = {Queueing Systems},\n",
      "keywords = {bowl phenomenon,optimal design,tandem queues},\n",
      "month = sep,\n",
      "number = {3-4},\n",
      "pages = {245--266},\n",
      "title = {{On the optimal design of tandem queueing systems with finite buffers}},\n",
      "volume = {21},\n",
      "year = {1995}\n",
      "}\n",
      "@article{Hillier2013,\n",
      "abstract = {This article considers the optimal design of unpaced assembly lines. Two key decisions in designing an unpaced assembly line are the allocation ofwork to the stations and the allocation of buffer storage space between the stations.To the best of the author’s knowledge, this is the first article to jointly optimize both the allocation of workload and the allocation of buffer spaces simultaneously when the objective is to maximize the revenue from throughput minus the cost of work-in-process inventory. Exact solutions are provided for small lines (three or four stations) with a fixed kind of processing time distribution (exponential or Erlang). Ten observations are made about the characteristics of the allocation of workload and buffer spaces.Heuristics are suggested for designing lines with more stations or different processing time distributions. A simulation study is done to test the observations and heuristics for longer lines and different processing time distributions (lognormal). Significant savings can be achieved by jointly optimizing both the workload and the buffer space allocations.},\n",
      "author = {Hillier, Mark},\n",
      "issn = {0740-817X},\n",
      "journal = {IIE Transactions},\n",
      "keywords = {applications,heuristics,inventory,line balancing,production,queueing,simulation},\n",
      "month = may,\n",
      "number = {5},\n",
      "pages = {516--527},\n",
      "title = {{Designing unpaced production lines to optimize throughput and work-in-process inventory}},\n",
      "volume = {45},\n",
      "year = {2013}\n",
      "}\n",
      "@article{Hillier2006,\n",
      "abstract = {Much of the previous research on unpaced production lines with variable processing times has addressed either the issue of the allocation of work to the stations or the allocation of storage space to the buffers between stations. Our focus is instead on the simultaneous optimization of the workload allocation and the buffer allocation. We use a basic cost-based model that includes both revenue per unit of throughput and cost per unit of buffer space. Using both exponential and Erlang processing times, exact numerical results are obtained for the underlying Markov chain for cases where the number of states range up to over 2000 000. We investigate how the bowl phenomenon for workload allocation and the storage bowl phenomenon for buffer allocation interact when performing both allocations simultaneously. We also find counterexamples to a conjecture previously published in the literature that a balanced buffer allocation is optimal when the total number of buffer spaces is an integer multiple of the number of buffers.},\n",
      "author = {Hillier, Mark. and Hillier, Frederick S.},\n",
      "journal = {IIE Transactions},\n",
      "number = {1},\n",
      "pages = {39--51},\n",
      "title = {{Simultaneous optimization of work and buffer space in unpaced production lines with random processing times}},\n",
      "volume = {38},\n",
      "year = {2006}\n",
      "}\n",
      "@article{Hong2013,\n",
      "abstract = {Often in lean manufacturing, multiple products are produced in U-shaped manufacturing cells to simulta- neously achieve product variety and production efficiency. We examine two design issues for mixed-model U-lines: work rules (a first-come-first-serve rule and a crossover-and-return rule) and inventory flow choices (direct flow and buffered flow). Simulation results indicated that throughput and labor utilization can be improved by implementing a “buffer” with the first-come-first-serve rule. Interestingly, the effectiveness of an inventory flow choice was dependent on the work rule (interaction effect), and relationships among performance dimensions differed across the designs.},\n",
      "author = {Hong, Yunsook and Visich, John K. and Pinto, Peter a. and Khumawala, Basheer M.},\n",
      "issn = {09696016},\n",
      "journal = {International Transactions in Operational Research},\n",
      "keywords = {inventory control,lean manufacturing,mixed-model,productivity,u-line design,work rules},\n",
      "month = jun,\n",
      "number = {6},\n",
      "pages = {917--936},\n",
      "title = {{Evaluation of mixed-model U-line operational designs}},\n",
      "volume = {20},\n",
      "year = {2013}\n",
      "}\n",
      "@article{Hunt956,\n",
      "author = {Hunt, Gordon C.},\n",
      "journal = {Operations Research},\n",
      "pages = {674--583},\n",
      "title = {{Sequential arrays of waiting lines}},\n",
      "volume = {4},\n",
      "year = {1956}\n",
      "}\n",
      "@article{Kala1973,\n",
      "author = {Kala, R. and Hitchings, G.},\n",
      "journal = {International Journal of Production Research},\n",
      "number = {2},\n",
      "title = {{The effects of performance time variance on a balanced, four-station manual assembly line}},\n",
      "volume = {11},\n",
      "year = {1973}\n",
      "}\n",
      "@article{Karwan1989,\n",
      "abstract = {A 1985 study in this journal examined the \"bowl phenomenon\" and claimed to demonstrate that Hllher and Boling's original results (1967) were due to an assumption of unrealistically large variations m processing times. A closer look at these findings reveals that they are derived from a flawed experiment that cannot possibly serve to verify whether or not average task times at work stations on an assembly line should be selected in a bowl distribution. We offer further arguments in clarification of Hilher and Boling's original work based both on our own simulation experiments as well as recent studies by other authors. We also comment on the need to orient future efforts toward practical integration of the bowl phenomenon result with other findings that relate to improving the throughput of unpaced assembly hnes.},\n",
      "author = {Karwan, K and Philipoom, P},\n",
      "issn = {02726963},\n",
      "journal = {Journal of Operations Management},\n",
      "month = jan,\n",
      "number = {1},\n",
      "pages = {48--54},\n",
      "title = {{A note on ``Stochastic unpaced line design: Review and further experimental results''}},\n",
      "volume = {8},\n",
      "year = {1989}\n",
      "}\n",
      "@article{Kong2013,\n",
      "abstract = {This study investigates the properties of the optimal assignment of two special workers in a limited-cycle model with multiple periods. Due to the competition among enterprises, meeting the scheduled delivery date becomes a necessity. In most arbitrary cases, the result and efficiency of a certain period of a production cycle are influenced not only by the risks that exist in the current period but also by the risks that existed in the foregoing ones. Moreover, the risk itself is also greatly affected by the risks that existed in the earlier periods. This kind of model is called a limited-cycle model with multiple periods. In this paper, we consider the properties of the optimal worker assignment that minimises the total expected risk in a limited-cycle model with multiple periods. This study is useful in describing the properties of the optimal worker assignment theoretically and determining an optimal cycle time.},\n",
      "author = {Kong, Xianda and Sun, Jing and Yamamoto, Hisashi and Matsui, Masayuki},\n",
      "journal = {Asian Journal Management Science and Applications},\n",
      "keywords = {expected cost.,limited-cycle model,multiple periods,optimal worker assignment,processing efficiency,scheduling},\n",
      "number = {1},\n",
      "pages = {96--120},\n",
      "title = {{Optimal worker assignment with two special workers in a limited-cycle model with multiple periods}},\n",
      "volume = {1},\n",
      "year = {2013}\n",
      "}\n",
      "@article{Kottas1981,\n",
      "abstract = {Unlike earlier simulation studies of unpaced production lines which generally concentrated on steady-state behavior, we are concerned with their transient characteristics. This paper (1) presents an approach for studying and monitoring transient behavior, (2) reports some important transient operating characteristics previously overlooked, and (3) demonstrates that the conflicting results reported in some of the earlier simulation studies are due to an inadequate accounting for transient behavior. Thus, this paper illustrates the importance of having a better understanding of transient behavior in unpaced lines, and presents our initial steps towards dealing with it.},\n",
      "author = {Kottas, John F. and Lau, Hon-Shiang},\n",
      "issn = {02726963},\n",
      "journal = {Journal of Operations Management},\n",
      "month = feb,\n",
      "number = {3},\n",
      "pages = {155--164},\n",
      "title = {{Some problems with transient phenomena when simulating unpaced lines}},\n",
      "volume = {1},\n",
      "year = {1981}\n",
      "}\n",
      "@article{Lau1992,\n",
      "abstract = {For an unpaced line with equal mean station processing time for all stations, we study how the line's utilization factor is affected by different patterns of allocating processing-time variances among the stations. A literature review shows that earlier results on this question are ambiguous and inconclusive. Using long simulation runs (up to 240000 production units) and considering ‘larger’ lines with up to 19 stations and 6 units/buffer, we identified three desirable variance-allocation characteristics: ‘bowl-shape’, ‘symmetry’ and ‘spike-shape’. Conceptual generalization of these characteristics enable us to explain and reconcile the seemingly contradictory performance of a wide variety of variance-allocation patterns considered in this as well as the earlier studies.},\n",
      "author = {Lau, Hon-Shiang},\n",
      "journal = {European Journal of Operational Research},\n",
      "number = {3},\n",
      "pages = {345--356},\n",
      "title = {{On balancing variances of station processing times in unpaced lines}},\n",
      "volume = {61},\n",
      "year = {1992}\n",
      "}\n",
      "@phdthesis{Malaki2012,\n",
      "abstract = {In the present fierce global competition, poor responsiveness, low flexibility to meet the uncertainty of demand, and the low efficiency of traditional assembly lines are adequate motives to persuade manufacturers to adopt highly flexible production tools such as cross-trained workers who move along the assembly line while carrying out their planned jobs at different stations [1]. Cross-trained workers can be applied in various models in assembly lines. A novel model which taken into consideration in many industries nowadays is called the linear walking worker assembly line and employs workers who travel along the line and fully assemble the product from beginning to end [2]. However, these flexible assembly lines consistently endure imbalance in their stations which causes a significant loss in the efficiency of the lines. The operational time variability is one of the main sources of this imbalance [3] and is the focus of this study which investigated the possibility of decreasing the mentioned loss by arranging workers with different variability in a special order in walking worker assembly lines. The problem motivation comes from the literature of unbalanced lines which is focused on bowl phenomenon. Hillier and Boling [4] indicated that unbalancing a line in a bowl shape could reach the optimal production rate and called it bowl phenomenon. This study chose a conceptual design proposed by a local automotive company as a case study and a discrete event simulation study as the research method to inspect the questions and hypotheses of this research. The results showed an improvement of about 2.4\\% in the throughput due to arranging workers in a specific order, which is significant compared to the fixed line one which had 1 to 2 percent improvement. In addition, analysis of the results concluded that having the most improvement requires grouping all low skill workers together. However, the pattern of imbalance is significantly effective in this improvement concerning validity and magnitude. Keywords:},\n",
      "author = {Malaki, Afshin Amini},\n",
      "pages = {73},\n",
      "school = {J\\\"{o}nk\\\"{o}ping University},\n",
      "title = {{A Study of the Effects of Operational Time Variability in Assembly Lines with Linear Walking Workers}},\n",
      "year = {2012}\n",
      "}\n",
      "@article{Mirabedini2013,\n",
      "abstract = {In this study, a simulation optimization method is applied in order to find the optimal design of a U-shape assembly line. The optimality criterion is the minimum number of needed stations. While many previous works use deterministic models to solve this problem, a simulation approach is applied in this study to consider the stochastic nature of the problem. On other hand, when we use a simulation method, a better understanding of system behavior can be obtained through the evolution of system. Another case that is considered in this study is the failures of conveyers which happen in the real world and the fatigue of operators is considered too. The procedure is as follows: first, an initial design of system is obtained by an optimizer (here Genetic Algorithm) with an initial given parameters. Second, the output of the optimizer is used to implement a simulation model in Visual Slam. Third, after running the model in simulator, the desired outputs are evaluated and the necessary changes will be made to optimizer parameters. Fourth, again the optimizer is used to generate new design with new parameters.},\n",
      "author = {Mirabedini, Seyed Nima and Mina, Hassan and Iranmanesh, Seyed Hossein and Saleckpay, Babak},\n",
      "journal = {Research Journal of Applied Sciences, Engineering and Technology},\n",
      "keywords = {assembly line balancing problem,mathematical programming,simulation,single line},\n",
      "number = {15},\n",
      "pages = {2846--2858},\n",
      "title = {{Optimization of a Single Model U-SLAB with Stochastic Duration with Integration of Genetic Algorithm and Computer Simulation}},\n",
      "volume = {6},\n",
      "year = {2013}\n",
      "}\n",
      "@article{Miralles2007,\n",
      "author = {Miralles, Crist\\'{o}bal and Garcia-Sabater, J and Andr\\'{e}s, C and Card\\'{o}s, M},\n",
      "journal = {International Journal of Production Economics},\n",
      "number = {1-2},\n",
      "pages = {187--197},\n",
      "title = {{Advantages of assembly lines in sheltered work centers for disabled: a case study}},\n",
      "volume = {110},\n",
      "year = {2007}\n",
      "}\n",
      "@phdthesis{Moreira2011,\n",
      "author = {Moreira, Mayron C\\'{e}sar de Oliveira},\n",
      "keywords = {Linhas de produ\\c{c}\\~{a}o. Trabalhadores,deficientes. Otimiza\\c{c}\\~{a}o inteira mista. Metaheur\\'{\\i}st},\n",
      "pages = {90},\n",
      "school = {Universidade de S\\~{a}o Paulo},\n",
      "title = {{Balanceamento de linhas de produ\\c{c}\\~{a}o com trabalhadores deficientes}},\n",
      "year = {2011}\n",
      "}\n",
      "@article{Moreira2013,\n",
      "author = {Moreira, Mayron C\\'{e}sar O. and Costa, Alysson M.},\n",
      "issn = {09255273},\n",
      "journal = {International Journal of Production Economics},\n",
      "keywords = {assembly lines,hybrid algorithm,job rotation},\n",
      "month = feb,\n",
      "number = {2},\n",
      "pages = {552--560},\n",
      "title = {{Hybrid heuristics for planning job rotation schedules in assembly lines with heterogeneous workers}},\n",
      "volume = {141},\n",
      "year = {2013}\n",
      "}\n",
      "@article{Muth1987,\n",
      "abstract = {A novel method of analysing serial production lines has been developed. This method lets one compute the throughput rate of lines composed of dissimilar stations, as well as for a large class of distributions of station service times. Several distribution-free models of 3-station lines are presented. These models are used to compute the throughput rate of unbalanced lines in which the sum of the mean service times is constant. Results are shown as contour plots of constant throughput rate. The bowl phenomenon is reviewed in the light of this capacity to model with a greater degree of freedom.},\n",
      "author = {Muth, Enginhard J. and Alkaff, Abdullah},\n",
      "doi = {0.1080/00207548708919831},\n",
      "journal = {International Journal of Production Research},\n",
      "number = {2},\n",
      "pages = {161--173},\n",
      "title = {{The bowl phenomenon revisited}},\n",
      "volume = {25},\n",
      "year = {1987}\n",
      "}\n",
      "@article{Otto2013,\n",
      "abstract = {Recently, the importance of correctly designed computational experiments for testing algorithms has been a subject of extended discussions. Whenever real-world data is lacking, generated data sets provide a substantive methodological tool for experiments. Focused research questions need to base on special- ized, randomized and sufficiently large data sets, which are sampled from the population of interest. We integrate the generation of data sets into the process of scientific testing. Until now, no appropriate generators or systematic data sets have been available for the assembly line balancing problem (ALBP). Computational experiments were mostly based on very limited data sets unsystematically collected from the literature and from some real-world cases. As a consequence, former performance analyses often come to contradictory conclusions and lack on statistical evidence. We introduce SALBPGen, a new instance generator for the simple ALBP which can be applied and extended to any generalized ALBP, too. Unlike most generators, SALBPGen takes into account usual prop- erties of precedence graphs in manufacturing. It is very flexible and able to create instances with very diverse structures under full control of the experiment’s designer. We also propose new challenging data sets, as shown with the new direct measure of instance’s hardness called trickiness. By two exemplary computational experiments, we illustrate how important insights can be gained with the help of the systematically generated data sets.},\n",
      "author = {Otto, Alena and Otto, Christian and Scholl, Armin},\n",
      "doi = {10.1016/j.ejor.2012.12.029},\n",
      "issn = {03772217},\n",
      "journal = {European Journal of Operational Research},\n",
      "keywords = {Assembly line balancing,Benchmark data set,Complexity measures,Precedence graph,Scheduling,Structure analysis},\n",
      "month = jul,\n",
      "number = {1},\n",
      "pages = {33--45},\n",
      "title = {{Systematic data generation and test design for solution algorithms on the example of SALBPGen for assembly line balancing}},\n",
      "volume = {228},\n",
      "year = {2013}\n",
      "}\n",
      "@article{Patterson1964,\n",
      "author = {Patterson, R.L.},\n",
      "journal = {Journal of Industrial Engineering},\n",
      "number = {4},\n",
      "pages = {188--193},\n",
      "title = {{Markov processes occurring in the theory of traffic flow through an N-Stage stochastic service system}},\n",
      "volume = {15},\n",
      "year = {1964}\n",
      "}\n",
      "@article{Payne1972,\n",
      "author = {Payne, S. and Slack, N. and R., Wild},\n",
      "journal = {International Journal of Production Research},\n",
      "number = {1},\n",
      "title = {{A note on the operating characteristics of balanced and unbalanced production flow lines}},\n",
      "volume = {10},\n",
      "year = {1972}\n",
      "}\n",
      "@book{Pidd1998,\n",
      "address = {Chichester, UK},\n",
      "author = {Pidd, M.},\n",
      "edition = {4th},\n",
      "isbn = {0470092300},\n",
      "publisher = {Wiley},\n",
      "title = {{Computer simulation in management science}},\n",
      "year = {1998}\n",
      "}\n",
      "@article{Rao1975,\n",
      "abstract = {This paper presents an analytical study of several aspects of two-stage production systems with variable operation times and provision for intermediate storage. For the exponential service times assumed at one of the stages, the set of simultaneous equations satisfied by the steady-state probabilities are shown to involve the Laplace transform of the density function at the other stage and its various order derivatives. An analysis of this set of equations leads to a recursive solution for the mean production rate of a system with any number of storages. The realistic cases of Erlang and normal density functions are worked out in detail. It turns out that for moderate coefficients of variation the production rates for these two distributions differ only marginally. That this is not generally true is illustrated by considering a uniform distribution, for which the results are significantly different. The problem of balancing the production system is discussed at some length. It is shown that the production rate improves on allotting a slightly higher load to the less variable stage.},\n",
      "author = {Rao, Nori Praska},\n",
      "journal = {IEE Transactions},\n",
      "number = {4},\n",
      "pages = {414--421},\n",
      "title = {{Two-Stage Production Systems with Intermediate Storage}},\n",
      "volume = {7},\n",
      "year = {1975}\n",
      "}\n",
      "@article{Rao1976,\n",
      "abstract = {' Bowl phenomenon ' refers to the increase in production rate obtained by unbalancing a series production system such that the service time increases progressively on either side of the central stage(s). While such a result is valid for production systems with otherwise identical stages, earlier studies have suggested that a different effect may come into play when the stages of the system differ in their variability. In the simplest case of n two-stage system, production rate could be improved by shifting a part of the work load from the more variable stage to the less variable one. From an analysis of three-stage systems with all possible combinations of exponential and deterministic stages, it is shown in the present paper that optimum unbalancing results from a superposition of these two effects. This loads in some cases to a large improvement in the production rate. For the large differences in coefficients of variation considered in this paper, the ' variability imbalance ' clearly plays a decisive role and outweighs the ' bowl phenomenon ' when they act in opposing directions. For a three-stage system with a uniform stage sandwiched between two exponential stages, it is shown that the two effects exactly cancel one another when the coefficient of variation of the central stage is nearly 05.},\n",
      "author = {Rao, Nori Praska},\n",
      "journal = {International Journal of Production Research},\n",
      "number = {4},\n",
      "pages = {437--443},\n",
      "title = {{A generalization of the 'bowl phenomenon' in series production systems}},\n",
      "volume = {14},\n",
      "year = {1976}\n",
      "}\n",
      "@book{Rapp2009,\n",
      "author = {Rapp, Donald},\n",
      "edition = {2009},\n",
      "isbn = {0387876294},\n",
      "pages = {274},\n",
      "publisher = {Copernicus},\n",
      "title = {{Bubbles, Booms, and Busts: The Rise and Fall of Financial Assets}},\n",
      "year = {2009}\n",
      "}\n",
      "@book{Robinson2004,\n",
      "author = {Robinson, Stewart},\n",
      "isbn = {0470847727},\n",
      "publisher = {John Wiley \\& Sons, Ltd},\n",
      "title = {{Simulation : The Practice of Model Development and Use}},\n",
      "year = {2004}\n",
      "}\n",
      "@book{Scholl1999,\n",
      "author = {Scholl, Armin},\n",
      "edition = {2},\n",
      "isbn = {3790811807},\n",
      "pages = {318},\n",
      "publisher = {Physica},\n",
      "title = {{Balancing and Sequencing of Assembly Lines}},\n",
      "year = {1999}\n",
      "}\n",
      "@inproceedings{Shaaban2011,\n",
      "abstract = {In this paper we study the operating behaviour and performance of reliable, unpaced and unbalanced serial production lines with either imbalanced service time means, unequal coefficients of variation, or uneven buffer capacities. The lines were simulated with various values of line length, buffer storage size, degree of imbalance, coefficient of variation, along with a number of imbalance configurations. The primary measures of efficiency were idle time and average buffer level. Output data from the discrete event simulation of such lines under their steady-state mode of operation were analyzed using a set of statistical methods. Various relationships between the independent and response variables, rankings of configurations and comparisons with balanced lines were obtained. For the mean processing times imbalance, it turned out that a bowl-shaped arrangement provides smaller idle time amounts and lower average buffer levels than those of a balanced line counterpart. As regards the variability imbalance, it was found that the best configurations are respectively, a bowl allocation and a monotone decreasing order, with the first resulting in decreased idle times and the second leading to lower average buffer levels than those of a balanced line. As far as the buffer size imbalance is concerned, it was concluded that the most advantageous patterns that generate lower idle times and average buffer levels as compared to a balanced line are to respectively distribute total available buffer capacity as evenly as possible along the buffers and to allocate more buffer capacity towards the end of the line.},\n",
      "author = {Shaaban, Sabry and Mcnamara, Tom and Atil, Ahmed},\n",
      "booktitle = {Proceedings for the Northeast Region Decision Sciences Institute},\n",
      "keywords = {imbalanced,one source imbalance,simulation,unpaced serial production lines},\n",
      "title = {{The behaviour of unpaced production lines with unequal mean processing times, variability, or buffer capacities}},\n",
      "year = {2011}\n",
      "}\n",
      "@article{Smunt1989,\n",
      "abstract = {In the May 1985 issue of the Journal of Operattons Management, we published a paper containing two major segments (Smunt and Perkins (1985)). The first segment provtded a comprehensive review of previously published research on unpaced assembly lines. Two of the primary references in this review were path-breaking studies by Hillier and Bohng (1966) and Hillier and Bohng (1979). These studies introduced the idea of the \"bowl phenomenon,\" which suggests that line output can be increased (compared to a balanced line) by unbalancing the line with high service times placed at the beginning and end of the line and low service times placed in the middle of the line. This pair of studies also verified the existence of the bowl phenomenon for exponential and Erlang service times with line lengths up to five stations and buffer capacities between stations from zero to four units.},\n",
      "author = {Smunt, T and Perkins, W},\n",
      "issn = {02726963},\n",
      "journal = {Journal of Operations Management},\n",
      "month = jan,\n",
      "number = {1},\n",
      "pages = {55--62},\n",
      "title = {{Stochastic unpaced line design: A reply}},\n",
      "volume = {8},\n",
      "year = {1989}\n",
      "}\n",
      "@article{Smunt1985,\n",
      "abstract = {Previous design studies of unpaced assembly lines that exhibit stochastic task times indicate that an unbalanced allocation of task times results in optimal output rates. In this article, we present a comprehensive review of the previous literature on this topic and discuss the results of simulation experiments that test the bowl distribution for unbalancing unpaced lines. The simulation experiment was designed to test the bowl distribution in more realistic environments than previously tested and illustrates that a balanced line configuration is as good as or better than an unbalanced line configuration when task times are modeled with more typical values of variance. Stochastic unpaced assembly line research employs both simulation and analytical approaches to test the allocation of buffer capacity and task times to work stations. Analytical models are utilized to investigate simple line designs with exponential or Erlang task time distributions. Simulation is used for longer lines and for normal task time distributions. From the review of the previous research using both approaches, we note five major findings: 1) unbalancing task time allocation is optimal when task time variation is large; 2) unbalanced allocation of buffer storage capacity improves line output rate when task time variation is large; 3) output rate of an unpaced line decreases as the number of sequential workstations increases; 4) output rate increases as more buffer storage capacity is available; and 5) output rate decreases as the task time variation increases. Most of the previous research on unpaced lines investigated lines with few workstations and large task time variation. Empirical research by Dudley (6) suggests that variation of task times in practice is much less than variations employed in previous unpaced line studies. We present the results from simulation experiments that model longer unpaced lines with lower levels of task time variance of the magnitude that is likely to occur in practice. The results of our simulation experiments verify the benefits of using the bowl distribution for task time allocation when line lengths are short and task times experience large variance. However, when line lengths are extended or task time variation is reduced, the use of the bowl distribution for unbalancing the line degrades the line's efficiency. In these situations, the optimal task time allocation is a balanced line. Two important implications for managers follow from the results of our experiments: 1) that unpaced line output rate is relatively insensitive to moderate variations from optimal task time allocations when buffer storage is limited; and 2) that perfectly balanced line designs are optimal for most cases in practice.},\n",
      "author = {Smunt, Timothy L. and Perkins, William C.},\n",
      "issn = {02726963},\n",
      "journal = {Journal of Operations Management},\n",
      "month = may,\n",
      "number = {3},\n",
      "pages = {351--373},\n",
      "title = {{Stochastic unpaced line design: Review and further experimental results}},\n",
      "volume = {5},\n",
      "year = {1985}\n",
      "}\n",
      "@article{So1989,\n",
      "abstract = {Previous work on optimal allocation of work to production line systems has found that the throughput of a production line is maximized by deliberately unbalancing the line in an appropriate way when the processing time distribution is exponential or Erlang. A recent simulation study suggests that unbalancing the production line may not improve the efficiency of the line when the processing times are normally distributed. However, it appears that the unbalanced work allocation being studied may not be chosen appropriately in the simulation study and therefore, no significant improvement (and actually a decrease) in performance was observed when compared with the perfectly balanced work allocation. This study performs a similar set of simulation experiments of the previous study with normally distributed processing times, but uses more appropriate unbalanced work allocations to determine whether the efficiency of a production line can be improved if the line is unbalanced appropriately.},\n",
      "author = {So, K. C.},\n",
      "journal = {International Journal of Production Research},\n",
      "number = {4},\n",
      "pages = {717--729},\n",
      "title = {{On the efficiency of unbalancing production lines}},\n",
      "volume = {27},\n",
      "year = {1989}\n",
      "}\n",
      "@article{Tempelmeier2003,\n",
      "abstract = {In this paper we consider the problems faced by an industrial planner who is responsible for the design of real-life asynchronous production lines under sto- chastic conditions that may be due to breakdowns or random processing times. Basedon real-life system data, it is shown that a number of available algorithms for the performance evaluation of a given system configuration as well as an algorithm for determining the optimum buffer configuration can be successfully applied in industrial practice.},\n",
      "author = {Tempelmeier, Horst},\n",
      "issn = {0020-7543},\n",
      "journal = {International Journal of Production Research},\n",
      "month = jan,\n",
      "number = {1},\n",
      "pages = {149--170},\n",
      "title = {{Practical considerations in the optimization of flow production systems}},\n",
      "volume = {41},\n",
      "year = {2003}\n",
      "}\n",
      "@article{Yarmand2013,\n",
      "abstract = {In this paper we consider the problem of allocating servers to maximize throughput for tandem queues with no buffers. We propose an allocation method that assigns servers to stations based on the mean service times and the current number of servers assigned to each station. A number of simu- lations are run on different configurations to refine and verify the algorithm. The algorithm is proposed for stations with exponentially distributed ser- vice times, but where the service rate at each station may be different. We also provide some initial thoughts on the impact on the proposed allocation method of including service time distributions with different coefficients of variation.},\n",
      "author = {Yarmand, Mohammad H. and Down, Douglas G.},\n",
      "issn = {03772217},\n",
      "journal = {European Journal of Operational Research},\n",
      "keywords = {server allocation,tandem queue,zero buffer},\n",
      "month = nov,\n",
      "number = {3},\n",
      "pages = {596--603},\n",
      "title = {{Server allocation for zero buffer tandem queues}},\n",
      "volume = {230},\n",
      "year = {2013}\n",
      "}\n"
     ]
    }
   ],
   "source": [
    "open(\"example.bib\") do fd\n",
    "    for line in eachline(fd)\n",
    "        print(line)\n",
    "    end\n",
    "end"
   ]
  },
  {
   "cell_type": "markdown",
   "metadata": {},
   "source": [
    "Our goal is to look for the lines indicating the year of each publication and count the number of publications of each year. A way to keep this information is to use dictionaries. So let us take a look at them.\n",
    "\n",
    "# Dictionaries\n",
    "\n",
    "Dictionaries are data structures data associate a key and a value. A simple example is a word dictionary. Each word is a key and its meaning is the associated value. Other example would be a mapping between account number and name of account owner. In Julia, it looks like the following:"
   ]
  },
  {
   "cell_type": "code",
   "execution_count": 14,
   "metadata": {
    "collapsed": false
   },
   "outputs": [
    {
     "data": {
      "text/plain": [
       "Dict{Int64,String} with 4 entries:\n",
       "  7  => \"Mary Doe\"\n",
       "  10 => \"Doe Doe\"\n",
       "  3  => \"Mary John\"\n",
       "  1  => \"John Doe\""
      ]
     },
     "execution_count": 14,
     "metadata": {},
     "output_type": "execute_result"
    }
   ],
   "source": [
    "accountNameDict = Dict{Int, String}(1 => \"John Doe\", 7 => \"Mary Doe\", 3 => \"Mary John\", 10 => \"Doe Doe\")"
   ]
  },
  {
   "cell_type": "markdown",
   "metadata": {},
   "source": [
    "To access the element with a specific key, we can do as follows:"
   ]
  },
  {
   "cell_type": "code",
   "execution_count": 15,
   "metadata": {
    "collapsed": false
   },
   "outputs": [
    {
     "data": {
      "text/plain": [
       "\"Mary Doe\""
      ]
     },
     "execution_count": 15,
     "metadata": {},
     "output_type": "execute_result"
    }
   ],
   "source": [
    "accountNameDict[7]"
   ]
  },
  {
   "cell_type": "markdown",
   "metadata": {},
   "source": [
    "If we try to access a key that is not in the dictionary we will get a KeyError exception."
   ]
  },
  {
   "cell_type": "code",
   "execution_count": 16,
   "metadata": {
    "collapsed": false
   },
   "outputs": [
    {
     "ename": "LoadError",
     "evalue": "LoadError: KeyError: key 2 not found\nwhile loading In[16], in expression starting on line 1",
     "output_type": "error",
     "traceback": [
      "LoadError: KeyError: key 2 not found\nwhile loading In[16], in expression starting on line 1",
      "",
      " in getindex(::Dict{Int64,String}, ::Int64) at ./dict.jl:688"
     ]
    }
   ],
   "source": [
    "accountNameDict[2]"
   ]
  },
  {
   "cell_type": "markdown",
   "metadata": {},
   "source": [
    "Adding a new element (key, value) to a dictionary is straight forward."
   ]
  },
  {
   "cell_type": "code",
   "execution_count": 17,
   "metadata": {
    "collapsed": false
   },
   "outputs": [
    {
     "data": {
      "text/plain": [
       "Dict{Int64,String} with 5 entries:\n",
       "  7  => \"Mary Doe\"\n",
       "  10 => \"Doe Doe\"\n",
       "  2  => \"Julia Prog\"\n",
       "  3  => \"Mary John\"\n",
       "  1  => \"John Doe\""
      ]
     },
     "execution_count": 17,
     "metadata": {},
     "output_type": "execute_result"
    }
   ],
   "source": [
    "accountNameDict[2] = \"Julia Prog\"\n",
    "accountNameDict"
   ]
  },
  {
   "cell_type": "markdown",
   "metadata": {},
   "source": [
    "The collection of keys and values of a dictionary is available using the methods <i>keys</i> and <i>values</i>."
   ]
  },
  {
   "cell_type": "code",
   "execution_count": 18,
   "metadata": {
    "collapsed": false
   },
   "outputs": [
    {
     "name": "stdout",
     "output_type": "stream",
     "text": [
      "[7,10,2,3,1]\n",
      "String[\"Mary Doe\",\"Doe Doe\",\"Julia Prog\",\"Mary John\",\"John Doe\"]\n"
     ]
    }
   ],
   "source": [
    "println(keys(accountNameDict))\n",
    "println(values(accountNameDict))"
   ]
  },
  {
   "cell_type": "markdown",
   "metadata": {},
   "source": [
    "<b>Exercise</b>: Consider an array of elements $[(a_i, b_i)]$. Write an algorithm to build a dictionary such that each $a_i$ is a key and $b_i$ is the correspondent value."
   ]
  },
  {
   "cell_type": "code",
   "execution_count": 4,
   "metadata": {
    "collapsed": false
   },
   "outputs": [
    {
     "data": {
      "text/plain": [
       "4-element Array{Tuple{Int64,String},1}:\n",
       " (1,\"1\")  \n",
       " (2,\"2\")  \n",
       " (4,\"4\")  \n",
       " (10,\"10\")"
      ]
     },
     "execution_count": 4,
     "metadata": {},
     "output_type": "execute_result"
    }
   ],
   "source": [
    "# You can use this array as an input example for the exercise:\n",
    "array = [(1, \"1\"), (2, \"2\"), (4, \"4\"), (10, \"10\")]"
   ]
  },
  {
   "cell_type": "markdown",
   "metadata": {},
   "source": [
    "# Putting it all together\n",
    "\n",
    "In our example, we want to associate the year (key) to the number of publications in that year (value). So, the idea of the algorithm is to iterate over each line of a <i>.bib</i> looking <i>year</i> lines and parsing them to build our {year => number of publications} dictionary. Let us implement it."
   ]
  },
  {
   "cell_type": "code",
<<<<<<< Updated upstream
   "execution_count": 1,
=======
   "execution_count": 19,
>>>>>>> Stashed changes
   "metadata": {
    "collapsed": false
   },
   "outputs": [
    {
     "name": "stdout",
     "output_type": "stream",
     "text": [
      "2004 => 2\n",
      "2015 => 1\n",
      "2003 => 2\n",
      "2009 => 2\n",
      "1976 => 1\n",
      "1966 => 2\n",
      "1993 => 1\n",
      "2010 => 3\n",
      "1956 => 1\n",
      "1972 => 1\n",
      "1992 => 1\n",
      "1998 => 1\n",
      "2014 => 2\n",
      "1973 => 1\n",
      "1975 => 1\n",
      "1962 => 1\n",
      "1967 => 1\n",
      "2008 => 2\n",
      "1996 => 2\n",
      "2007 => 2\n",
      "1987 => 1\n",
      "1989 => 3\n",
      "1985 => 1\n",
      "1995 => 1\n",
      "1981 => 2\n",
      "2011 => 7\n",
      "2001 => 1\n",
      "1963 => 1\n",
      "2013 => 8\n",
      "1979 => 2\n",
      "1999 => 1\n",
      "2012 => 5\n",
      "2006 => 1\n",
      "1964 => 1\n"
     ]
    }
   ],
   "source": [
    "yearCountDict = Dict{Int, Int}()\n",
    "\n",
    "open(\"example.bib\") do fd \n",
    "    for line in eachline(fd)  # Iterating over the lines\n",
    "        \n",
    "        # If it is a \"year\" line:\n",
    "        if contains(line, \"year\")\n",
    "            \n",
    "            # Getting the string after = sign:\n",
    "            year = split(line, \"=\")[end]\n",
    "            \n",
    "            # Striping the string:\n",
    "            year = strip(year, ['\\n', ' ', '{', '}'])\n",
    "            \n",
    "            # Parsing to Int (is it really needed?):\n",
    "            year = parse(Int, year)\n",
    "            \n",
    "            # The get method, as we use here, insert the default value 0\n",
    "            # if the key 'year' is not found in the dictionary 'yearCountDict':\n",
    "            count = get(yearCountDict, year, 0)\n",
    "            \n",
    "            yearCountDict[year] = count + 1\n",
    "        end\n",
    "    end\n",
    "end\n",
    "\n",
    "# Printing the dictionary:\n",
    "for (year, count) in yearCountDict \n",
    "    println(\"$year => $count\")\n",
    "end"
   ]
  },
  {
   "cell_type": "markdown",
   "metadata": {},
   "source": [
    "Note that the keys in the dictionary are not sorted. If we want to print the dictionary sorted by keys, we can do as follows:"
   ]
  },
  {
   "cell_type": "code",
<<<<<<< Updated upstream
   "execution_count": 2,
=======
   "execution_count": 20,
>>>>>>> Stashed changes
   "metadata": {
    "collapsed": false
   },
   "outputs": [
    {
     "name": "stdout",
     "output_type": "stream",
     "text": [
      "1956 => 1\n",
      "1962 => 1\n",
      "1963 => 1\n",
      "1964 => 1\n",
      "1966 => 2\n",
      "1967 => 1\n",
      "1972 => 1\n",
      "1973 => 1\n",
      "1975 => 1\n",
      "1976 => 1\n",
      "1979 => 2\n",
      "1981 => 2\n",
      "1985 => 1\n",
      "1987 => 1\n",
      "1989 => 3\n",
      "1992 => 1\n",
      "1993 => 1\n",
      "1995 => 1\n",
      "1996 => 2\n",
      "1998 => 1\n",
      "1999 => 1\n",
      "2001 => 1\n",
      "2003 => 2\n",
      "2004 => 2\n",
      "2006 => 1\n",
      "2007 => 2\n",
      "2008 => 2\n",
      "2009 => 2\n",
      "2010 => 3\n",
      "2011 => 7\n",
      "2012 => 5\n",
      "2013 => 8\n",
      "2014 => 2\n",
      "2015 => 1\n"
     ]
    }
   ],
   "source": [
    "for year in sort(collect(keys(yearCountDict)))\n",
    "    println(\"$year => $(yearCountDict[year])\") \n",
    "end"
   ]
  },
  {
   "cell_type": "markdown",
   "metadata": {},
   "source": [
    "We can do a better job with the output. Julia has different plotting libraries, we are going to use [Plots](https://juliaplots.github.io) to plot  a histogram of the information we gathered. To install it you can use the following: "
   ]
  },
  {
   "cell_type": "code",
<<<<<<< Updated upstream
   "execution_count": 3,
=======
   "execution_count": 21,
>>>>>>> Stashed changes
   "metadata": {
    "collapsed": false
   },
   "outputs": [
    {
     "name": "stderr",
     "output_type": "stream",
     "text": [
<<<<<<< Updated upstream
      "\u001b[1m\u001b[34mINFO: Nothing to be done\n",
      "\u001b[0m"
=======
      "INFO: Cloning cache of ColorTypes from https://github.com/JuliaGraphics/ColorTypes.jl.git\n",
      "INFO: Cloning cache of Colors from https://github.com/JuliaGraphics/Colors.jl.git\n",
      "INFO: Cloning cache of Conda from https://github.com/JuliaPy/Conda.jl.git\n",
      "INFO: Cloning cache of FixedPointNumbers from https://github.com/JuliaMath/FixedPointNumbers.jl.git\n",
      "INFO: Cloning cache of JSON from https://github.com/JuliaIO/JSON.jl.git\n",
      "INFO: Cloning cache of LaTeXStrings from https://github.com/stevengj/LaTeXStrings.jl.git\n",
      "INFO: Cloning cache of PyCall from https://github.com/JuliaPy/PyCall.jl.git\n",
      "INFO: Cloning cache of PyPlot from https://github.com/JuliaPy/PyPlot.jl.git\n",
      "INFO: Cloning cache of Reexport from https://github.com/simonster/Reexport.jl.git\n",
      "INFO: Installing BinDeps v0.4.5\n",
      "INFO: Installing ColorTypes v0.2.12\n",
      "INFO: Installing Colors v0.6.9\n",
      "INFO: Installing Conda v0.3.2\n",
      "INFO: Installing FixedPointNumbers v0.2.1\n",
      "INFO: Installing JSON v0.8.0\n",
      "INFO: Installing LaTeXStrings v0.2.0\n",
      "INFO: Installing PyCall v1.7.2\n",
      "INFO: Installing PyPlot v2.2.4\n",
      "INFO: Installing Reexport v0.0.3\n",
      "INFO: Installing SHA v0.2.1\n",
      "INFO: Installing URIParser v0.1.6\n",
      "INFO: Building PyCall\n",
      "INFO: PyCall is using python (Python 2.7.6) at /usr/bin/python, libpython = libpython2.7\n",
      "INFO: Package database updated\n",
      "INFO: METADATA is out-of-date — you may not have the latest version of PyPlot\n",
      "INFO: Use `Pkg.update()` to get the latest versions of your packages\n"
>>>>>>> Stashed changes
     ]
    }
   ],
   "source": [
    "Pkg.add(\"Plots\")"
   ]
  },
  {
   "cell_type": "markdown",
   "metadata": {},
   "source": [
    "To plot the histogram, we only need to separate the keys and values. The rest of the code is formating the plotting area."
   ]
  },
  {
   "cell_type": "code",
<<<<<<< Updated upstream
   "execution_count": 36,
=======
   "execution_count": 22,
>>>>>>> Stashed changes
   "metadata": {
    "collapsed": false
   },
   "outputs": [
    {
<<<<<<< Updated upstream
     "name": "stdout",
     "output_type": "stream",
     "text": [
      "[1956,1962,1963,1964,1966,1967,1972,1973,1975,1976,1979,1981,1985,1987,1989,1992,1993,1995,1996,1998,1999,2001,2003,2004,2006,2007,2008,2009,2010,2011,2012,2013,2014,2015]\n"
     ]
    },
    {
     "data": {
      "text/html": [
       "<script src=\"/home/pedro/.julia/v0.5/Plots/src/backends/../../deps/plotly-latest.min.js\"></script>    <div id=\"1f1b63cd-2887-4f38-bf7d-98827edc395f\" style=\"width:600px;height:400px;\"></div>\n",
       "    <script>\n",
       "    PLOT = document.getElementById('1f1b63cd-2887-4f38-bf7d-98827edc395f');\n",
       "    Plotly.plot(PLOT, [{\"yaxis\":\"y\",\"y\":[2,1,2,2,1,2,1,3,1,1,1,1,2,1,1,1,1,2,2,2,1,3,1,1,2,7,1,1,8,2,1,5,1,1],\"showlegend\":false,\"name\":\"\",\"type\":\"bar\",\"xaxis\":\"x\",\"orientation\":\"v\",\"x\":[2004,2015,2003,2009,1976,1966,1993,2010,1956,1972,1992,1998,2014,1973,1975,1962,1967,2008,1996,2007,1987,1989,1985,1995,1981,2011,2001,1963,2013,1979,1999,2012,2006,1964],\"marker\":{\"color\":\"rgba(0, 154, 250, 1.000)\"}}], {\"yaxis\":{\"type\":\"-\",\"titlefont\":{\"size\":15,\"color\":\"rgba(0, 0, 0, 1.000)\",\"family\":\"Helvetica\"},\"title\":\"Count\",\"tickfont\":{\"size\":11,\"color\":\"rgba(0, 0, 0, 1.000)\",\"family\":\"Helvetica\"},\"ticks\":\"inside\",\"tickmode\":\"array\",\"showgrid\":true,\"tickvals\":[0.0,2.0,4.0,6.0,8.0],\"domain\":[0.13692585301837265,0.9901574803149606],\"ticktext\":[\"0\",\"2\",\"4\",\"6\",\"8\"],\"tickangle\":0,\"zeroline\":false,\"linecolor\":\"rgba(0, 0, 0, 1.000)\",\"tickcolor\":\"rgba(0, 0, 0, 1.000)\",\"anchor\":\"x\"},\"annotations\":[],\"width\":600,\"plot_bgcolor\":\"rgba(255, 255, 255, 1.000)\",\"showlegend\":true,\"legend\":{\"bgcolor\":\"rgba(255, 255, 255, 1.000)\",\"y\":1.0,\"font\":{\"size\":11,\"color\":\"rgba(0, 0, 0, 1.000)\",\"family\":\"Helvetica\"},\"bordercolor\":\"rgba(0, 0, 0, 1.000)\",\"x\":1.0},\"xaxis\":{\"type\":\"-\",\"titlefont\":{\"size\":15,\"color\":\"rgba(0, 0, 0, 1.000)\",\"family\":\"Helvetica\"},\"title\":\"Year\",\"tickfont\":{\"size\":11,\"color\":\"rgba(0, 0, 0, 1.000)\",\"family\":\"Helvetica\"},\"ticks\":\"inside\",\"tickmode\":\"array\",\"showgrid\":true,\"tickvals\":[2004.0,2003.0,1966.0,2010.0,1972.0,2014.0,1975.0,2008.0,2007.0,1989.0,1981.0,2001.0,2013.0,2012.0,1964.0],\"domain\":[0.04683945756780402,0.9934383202099739],\"ticktext\":[\"2004\",\"2003\",\"1966\",\"2010\",\"1972\",\"2014\",\"1975\",\"2008\",\"2007\",\"1989\",\"1981\",\"2001\",\"2013\",\"2012\",\"1964\"],\"tickangle\":-90,\"zeroline\":false,\"linecolor\":\"rgba(0, 0, 0, 1.000)\",\"tickcolor\":\"rgba(0, 0, 0, 1.000)\",\"anchor\":\"y\"},\"paper_bgcolor\":\"rgba(255, 255, 255, 1.000)\",\"height\":400,\"margin\":{\"r\":0,\"l\":0,\"b\":0,\"t\":20}});\n",
       "    </script>\n"
      ]
     },
     "execution_count": 36,
     "metadata": {},
     "output_type": "execute_result"
=======
     "name": "stderr",
     "output_type": "stream",
     "text": [
      "INFO: Precompiling module PyPlot.\n",
      "WARNING: Module JSON with uuid 12226205058090 is missing from the cache.\n",
      "This may mean module JSON does not support precompilation but is imported by a module that does.\n",
      "ERROR: LoadError: Declaring __precompile__(false) is not allowed in files that are being precompiled.\n",
      " in require(::Symbol) at ./loading.jl:385\n",
      " in _include_from_serialized(::String) at ./loading.jl:150\n",
      " in _require_from_serialized(::Int64, ::Symbol, ::String, ::Bool) at ./loading.jl:187\n",
      " in _require_search_from_serialized(::Int64, ::Symbol, ::String, ::Bool) at ./loading.jl:217\n",
      " in require(::Symbol) at ./loading.jl:371\n",
      " in include_from_node1(::String) at ./loading.jl:488\n",
      " in macro expansion; at ./none:2 [inlined]\n",
      " in anonymous at ./<missing>:?\n",
      " in eval(::Module, ::Any) at ./boot.jl:234\n",
      " in process_options(::Base.JLOptions) at ./client.jl:239\n",
      " in _start() at ./client.jl:318\n",
      "while loading /home/juser/.julia/v0.5/PyCall/src/PyCall.jl, in expression starting on line 28\n",
      "ERROR: LoadError: Failed to precompile PyCall to /home/juser/.julia/lib/v0.5/PyCall.ji.\n",
      " in compilecache(::String) at ./loading.jl:593\n",
      " in require(::Symbol) at ./loading.jl:393\n",
      " in include_from_node1(::String) at ./loading.jl:488\n",
      " in macro expansion; at ./none:2 [inlined]\n",
      " in anonymous at ./<missing>:?\n",
      " in eval(::Module, ::Any) at ./boot.jl:234\n",
      " in process_options(::Base.JLOptions) at ./client.jl:239\n",
      " in _start() at ./client.jl:318\n",
      "while loading /home/juser/.julia/v0.5/PyPlot/src/PyPlot.jl, in expression starting on line 5\n"
     ]
    },
    {
     "ename": "LoadError",
     "evalue": "LoadError: Failed to precompile PyPlot to /home/juser/.julia/lib/v0.5/PyPlot.ji.\nwhile loading In[22], in expression starting on line 1",
     "output_type": "error",
     "traceback": [
      "LoadError: Failed to precompile PyPlot to /home/juser/.julia/lib/v0.5/PyPlot.ji.\nwhile loading In[22], in expression starting on line 1",
      "",
      " in compilecache(::String) at ./loading.jl:593",
      " in require(::Symbol) at ./loading.jl:393"
     ]
>>>>>>> Stashed changes
    }
   ],
   "source": [
    "using Plots\n",
    "plotly()  # Backend we will use.\n",
    "\n",
    "dictKeys = collect(keys(yearCountDict))\n",
    "dictValues = collect(values(yearCountDict))\n",
    "\n",
    "println(sort(dictKeys))\n",
    "    \n",
    "fig = bar(dictKeys, dictValues, xticks=dictKeys, xrotation=90, label=\"\", xlabel=\"Year\", ylabel=\"Count\")\n",
    "    \n",
    "fig"
   ]
  },
  {
   "cell_type": "markdown",
   "metadata": {
    "collapsed": true
   },
   "source": [
    "In this Notebook, we used the motivation of exploring a <i>.bib</i> file to learn some of the basics of Julia regarding strings, files and dictionaries."
   ]
  }
 ],
 "metadata": {
  "kernelspec": {
   "display_name": "Julia 0.5.0",
   "language": "julia",
   "name": "julia-0.5"
  },
  "language_info": {
   "file_extension": ".jl",
   "mimetype": "application/julia",
   "name": "julia",
   "version": "0.5.0"
  }
 },
 "nbformat": 4,
 "nbformat_minor": 0
}
