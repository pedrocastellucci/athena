{
 "cells": [
  {
   "cell_type": "code",
   "execution_count": 1,
   "metadata": {
    "collapsed": false
   },
   "outputs": [
    {
     "name": "stderr",
     "output_type": "stream",
     "text": [
      "INFO: Initializing package repository /home/juser/.julia/v0.5\n",
      "INFO: Cloning METADATA from https://github.com/JuliaLang/METADATA.jl\n",
      "INFO: Cloning cache of ColorTypes from https://github.com/JuliaGraphics/ColorTypes.jl.git\n",
      "INFO: Cloning cache of Colors from https://github.com/JuliaGraphics/Colors.jl.git\n",
      "INFO: Cloning cache of Compat from https://github.com/JuliaLang/Compat.jl.git\n",
      "INFO: Cloning cache of FixedPointNumbers from https://github.com/JuliaMath/FixedPointNumbers.jl.git\n",
      "INFO: Cloning cache of FixedSizeArrays from https://github.com/SimonDanisch/FixedSizeArrays.jl.git\n",
      "INFO: Cloning cache of Iterators from https://github.com/JuliaLang/Iterators.jl.git\n",
      "INFO: Cloning cache of Measures from https://github.com/JuliaGraphics/Measures.jl.git\n",
      "INFO: Cloning cache of PlotThemes from https://github.com/JuliaPlots/PlotThemes.jl.git\n",
      "INFO: Cloning cache of PlotUtils from https://github.com/JuliaPlots/PlotUtils.jl.git\n",
      "INFO: Cloning cache of Plots from https://github.com/tbreloff/Plots.jl.git\n",
      "INFO: Cloning cache of RecipesBase from https://github.com/JuliaPlots/RecipesBase.jl.git\n",
      "INFO: Cloning cache of Reexport from https://github.com/simonster/Reexport.jl.git\n",
      "INFO: Cloning cache of Showoff from https://github.com/JuliaGraphics/Showoff.jl.git\n",
      "INFO: Installing ColorTypes v0.2.12\n",
      "INFO: Installing Colors v0.6.9\n",
      "INFO: Installing Compat v0.10.0\n",
      "INFO: Installing FixedPointNumbers v0.2.1\n",
      "INFO: Installing FixedSizeArrays v0.2.5\n",
      "INFO: Installing Iterators v0.2.0\n",
      "INFO: Installing Measures v0.0.3\n",
      "INFO: Installing PlotThemes v0.1.0\n",
      "INFO: Installing PlotUtils v0.2.0\n",
      "INFO: Installing Plots v0.10.2\n",
      "INFO: Installing RecipesBase v0.1.0\n",
      "INFO: Installing Reexport v0.0.3\n",
      "INFO: Installing Showoff v0.0.7\n",
      "INFO: Building Plots\n",
      "INFO: Cannot find deps/plotly-latest.min.js... downloading latest version.\n",
      "  % Total    % Received % Xferd  Average Speed   Time    Time     Time  Current\n",
      "                                 Dload  Upload   Total   Spent    Left  Speed\n",
      "100 1873k  100 1873k    0     0  5081k      0 --:--:-- --:--:-- --:--:-- 5089k\n",
      "INFO: Package database updated\n"
     ]
    }
   ],
   "source": [
    "Pkg.add(\"Plots\")"
   ]
  },
  {
   "cell_type": "code",
   "execution_count": 2,
   "metadata": {
    "collapsed": false
   },
   "outputs": [
    {
     "name": "stderr",
     "output_type": "stream",
     "text": [
      "INFO: Cloning cache of Calculus from https://github.com/johnmyleswhite/Calculus.jl.git\n",
      "INFO: Cloning cache of DataStructures from https://github.com/JuliaLang/DataStructures.jl.git\n",
      "INFO: Cloning cache of DiffBase from https://github.com/JuliaDiff/DiffBase.jl.git\n",
      "INFO: Cloning cache of ForwardDiff from https://github.com/JuliaDiff/ForwardDiff.jl.git\n",
      "INFO: Cloning cache of JuMP from https://github.com/JuliaOpt/JuMP.jl.git\n",
      "INFO: Cloning cache of Lazy from https://github.com/MikeInnes/Lazy.jl.git\n",
      "INFO: Cloning cache of MacroTools from https://github.com/MikeInnes/MacroTools.jl.git\n",
      "INFO: Cloning cache of MathProgBase from https://github.com/JuliaOpt/MathProgBase.jl.git\n",
      "INFO: Cloning cache of NaNMath from https://github.com/mlubin/NaNMath.jl.git\n",
      "INFO: Cloning cache of ReverseDiffSparse from https://github.com/mlubin/ReverseDiffSparse.jl.git\n",
      "INFO: Installing Calculus v0.1.15\n",
      "INFO: Installing DataStructures v0.4.6\n",
      "INFO: Installing DiffBase v0.0.2\n",
      "INFO: Installing ForwardDiff v0.3.3\n",
      "INFO: Installing JuMP v0.15.0\n",
      "INFO: Installing Lazy v0.11.4\n",
      "INFO: Installing MacroTools v0.3.4\n",
      "INFO: Installing MathProgBase v0.5.8\n",
      "INFO: Installing NaNMath v0.2.2\n",
      "INFO: Installing ReverseDiffSparse v0.6.0\n",
      "INFO: Package database updated\n",
      "INFO: Cloning cache of BinDeps from https://github.com/JuliaLang/BinDeps.jl.git\n",
      "INFO: Cloning cache of Cbc from https://github.com/JuliaOpt/Cbc.jl.git\n",
      "INFO: Cloning cache of Clp from https://github.com/JuliaOpt/Clp.jl.git\n",
      "INFO: Cloning cache of SHA from https://github.com/staticfloat/SHA.jl.git\n",
      "INFO: Cloning cache of URIParser from https://github.com/JuliaWeb/URIParser.jl.git\n",
      "INFO: Installing BinDeps v0.4.5\n",
      "INFO: Installing Cbc v0.3.0\n",
      "INFO: Installing Clp v0.3.0\n",
      "INFO: Installing SHA v0.3.0\n",
      "INFO: Installing URIParser v0.1.6\n",
      "INFO: Building Cbc\n",
      "INFO: Package database updated\n"
     ]
    }
   ],
   "source": [
    "Pkg.add(\"JuMP\")\n",
    "Pkg.add(\"Clp\")"
   ]
  }
 ],
 "metadata": {
  "kernelspec": {
   "display_name": "Julia 0.5.0",
   "language": "julia",
   "name": "julia-0.5"
  },
  "language_info": {
   "file_extension": ".jl",
   "mimetype": "application/julia",
   "name": "julia",
   "version": "0.5.0"
  }
 },
 "nbformat": 4,
 "nbformat_minor": 1
}
